{
 "cells": [
  {
   "cell_type": "markdown",
   "metadata": {
    "id": "4F7MZFABpnuZ"
   },
   "source": [
    "#  Lab 7: Sample and Empirical Distributions"
   ]
  },
  {
   "cell_type": "markdown",
   "metadata": {
    "id": "Z5Noaqxjpnua"
   },
   "source": [
    "Welcome to Lab 7 !"
   ]
  },
  {
   "cell_type": "markdown",
   "metadata": {
    "id": "TZaJ8VPzpnub"
   },
   "source": [
    "## Introduction\n",
    "Topics to cover in this lab include:\n",
    "\n",
    "#### 1. Sampling with Basketball Data\n",
    "#### 2. Parameters and Statistics with Earthquakes\n",
    "\n",
    "\n",
    "Run these cells below to import your modules and get started:\n"
   ]
  },
  {
   "cell_type": "code",
   "execution_count": 1,
   "metadata": {
    "id": "ZgkAUFvWpnuc"
   },
   "outputs": [],
   "source": [
    "import pandas as pd\n",
    "import numpy as np \n",
    "import matplotlib\n",
    "%matplotlib inline\n",
    "import matplotlib.pyplot as plt\n",
    "plt.style.use('fivethirtyeight')\n"
   ]
  },
  {
   "cell_type": "markdown",
   "metadata": {
    "id": "pwjPoFFipnuf"
   },
   "source": [
    "## 1. Sampling with Basketball Data\n",
    "\n",
    "We will now introduce the topic of sampling, which we’ll be discussing in more depth in this week’s lectures. We’ll guide you through this code, but if you wish to read more about different kinds of samples before attempting this question, you can check out [section 10 of the textbook](https://www.inferentialthinking.com/chapters/10/Sampling_and_Empirical_Distributions.html).\n",
    "\n",
    "Run the cell below to load player and salary data that we will use for our sampling. "
   ]
  },
  {
   "cell_type": "code",
   "execution_count": 2,
   "metadata": {
    "colab": {
     "base_uri": "https://localhost:8080/",
     "height": 406
    },
    "executionInfo": {
     "elapsed": 1817,
     "status": "ok",
     "timestamp": 1601174377581,
     "user": {
      "displayName": "Prabin Sapkota",
      "photoUrl": "https://lh6.googleusercontent.com/-doP6HgypWoA/AAAAAAAAAAI/AAAAAAAAADs/IVE1vPXCX6U/s64/photo.jpg",
      "userId": "10525827673897210712"
     },
     "user_tz": 240
    },
    "id": "GF_Tk1mHpnuf",
    "outputId": "a4943d88-485b-42b6-b251-16bf754cb1f1"
   },
   "outputs": [
    {
     "data": {
      "text/html": [
       "<div>\n",
       "<style scoped>\n",
       "    .dataframe tbody tr th:only-of-type {\n",
       "        vertical-align: middle;\n",
       "    }\n",
       "\n",
       "    .dataframe tbody tr th {\n",
       "        vertical-align: top;\n",
       "    }\n",
       "\n",
       "    .dataframe thead th {\n",
       "        text-align: right;\n",
       "    }\n",
       "</style>\n",
       "<table border=\"1\" class=\"dataframe\">\n",
       "  <thead>\n",
       "    <tr style=\"text-align: right;\">\n",
       "      <th></th>\n",
       "      <th>PlayerName</th>\n",
       "      <th>Salary</th>\n",
       "      <th>Age</th>\n",
       "      <th>Team</th>\n",
       "      <th>Games</th>\n",
       "      <th>Rebounds</th>\n",
       "      <th>Assists</th>\n",
       "      <th>Steals</th>\n",
       "      <th>Blocks</th>\n",
       "      <th>Turnovers</th>\n",
       "      <th>Points</th>\n",
       "    </tr>\n",
       "  </thead>\n",
       "  <tbody>\n",
       "    <tr>\n",
       "      <th>0</th>\n",
       "      <td>Kobe Bryant</td>\n",
       "      <td>23500000</td>\n",
       "      <td>36</td>\n",
       "      <td>LAL</td>\n",
       "      <td>35</td>\n",
       "      <td>199</td>\n",
       "      <td>197</td>\n",
       "      <td>47</td>\n",
       "      <td>7</td>\n",
       "      <td>128</td>\n",
       "      <td>782</td>\n",
       "    </tr>\n",
       "    <tr>\n",
       "      <th>1</th>\n",
       "      <td>Amar'e Stoudemire</td>\n",
       "      <td>23410988</td>\n",
       "      <td>32</td>\n",
       "      <td>TOT</td>\n",
       "      <td>59</td>\n",
       "      <td>329</td>\n",
       "      <td>45</td>\n",
       "      <td>29</td>\n",
       "      <td>38</td>\n",
       "      <td>78</td>\n",
       "      <td>680</td>\n",
       "    </tr>\n",
       "    <tr>\n",
       "      <th>2</th>\n",
       "      <td>Joe Johnson</td>\n",
       "      <td>23180790</td>\n",
       "      <td>33</td>\n",
       "      <td>BRK</td>\n",
       "      <td>80</td>\n",
       "      <td>384</td>\n",
       "      <td>292</td>\n",
       "      <td>59</td>\n",
       "      <td>14</td>\n",
       "      <td>137</td>\n",
       "      <td>1154</td>\n",
       "    </tr>\n",
       "    <tr>\n",
       "      <th>3</th>\n",
       "      <td>Carmelo Anthony</td>\n",
       "      <td>22458401</td>\n",
       "      <td>30</td>\n",
       "      <td>NYK</td>\n",
       "      <td>40</td>\n",
       "      <td>264</td>\n",
       "      <td>122</td>\n",
       "      <td>40</td>\n",
       "      <td>17</td>\n",
       "      <td>89</td>\n",
       "      <td>966</td>\n",
       "    </tr>\n",
       "    <tr>\n",
       "      <th>4</th>\n",
       "      <td>Dwight Howard</td>\n",
       "      <td>21436271</td>\n",
       "      <td>29</td>\n",
       "      <td>HOU</td>\n",
       "      <td>41</td>\n",
       "      <td>431</td>\n",
       "      <td>50</td>\n",
       "      <td>28</td>\n",
       "      <td>53</td>\n",
       "      <td>115</td>\n",
       "      <td>646</td>\n",
       "    </tr>\n",
       "    <tr>\n",
       "      <th>...</th>\n",
       "      <td>...</td>\n",
       "      <td>...</td>\n",
       "      <td>...</td>\n",
       "      <td>...</td>\n",
       "      <td>...</td>\n",
       "      <td>...</td>\n",
       "      <td>...</td>\n",
       "      <td>...</td>\n",
       "      <td>...</td>\n",
       "      <td>...</td>\n",
       "      <td>...</td>\n",
       "    </tr>\n",
       "    <tr>\n",
       "      <th>487</th>\n",
       "      <td>Sim Bhullar</td>\n",
       "      <td>29843</td>\n",
       "      <td>22</td>\n",
       "      <td>SAC</td>\n",
       "      <td>3</td>\n",
       "      <td>1</td>\n",
       "      <td>1</td>\n",
       "      <td>0</td>\n",
       "      <td>1</td>\n",
       "      <td>0</td>\n",
       "      <td>2</td>\n",
       "    </tr>\n",
       "    <tr>\n",
       "      <th>488</th>\n",
       "      <td>David Stockton</td>\n",
       "      <td>29843</td>\n",
       "      <td>23</td>\n",
       "      <td>SAC</td>\n",
       "      <td>3</td>\n",
       "      <td>2</td>\n",
       "      <td>9</td>\n",
       "      <td>2</td>\n",
       "      <td>0</td>\n",
       "      <td>4</td>\n",
       "      <td>8</td>\n",
       "    </tr>\n",
       "    <tr>\n",
       "      <th>489</th>\n",
       "      <td>David Wear</td>\n",
       "      <td>29843</td>\n",
       "      <td>24</td>\n",
       "      <td>SAC</td>\n",
       "      <td>2</td>\n",
       "      <td>2</td>\n",
       "      <td>1</td>\n",
       "      <td>0</td>\n",
       "      <td>0</td>\n",
       "      <td>0</td>\n",
       "      <td>0</td>\n",
       "    </tr>\n",
       "    <tr>\n",
       "      <th>490</th>\n",
       "      <td>Andre Dawkins</td>\n",
       "      <td>29843</td>\n",
       "      <td>23</td>\n",
       "      <td>MIA</td>\n",
       "      <td>4</td>\n",
       "      <td>2</td>\n",
       "      <td>1</td>\n",
       "      <td>0</td>\n",
       "      <td>0</td>\n",
       "      <td>1</td>\n",
       "      <td>3</td>\n",
       "    </tr>\n",
       "    <tr>\n",
       "      <th>491</th>\n",
       "      <td>Vander Blue</td>\n",
       "      <td>14409</td>\n",
       "      <td>22</td>\n",
       "      <td>LAL</td>\n",
       "      <td>2</td>\n",
       "      <td>9</td>\n",
       "      <td>8</td>\n",
       "      <td>3</td>\n",
       "      <td>0</td>\n",
       "      <td>6</td>\n",
       "      <td>22</td>\n",
       "    </tr>\n",
       "  </tbody>\n",
       "</table>\n",
       "<p>492 rows × 11 columns</p>\n",
       "</div>"
      ],
      "text/plain": [
       "            PlayerName    Salary  Age Team  Games  Rebounds  Assists  Steals  \\\n",
       "0          Kobe Bryant  23500000   36  LAL     35       199      197      47   \n",
       "1    Amar'e Stoudemire  23410988   32  TOT     59       329       45      29   \n",
       "2          Joe Johnson  23180790   33  BRK     80       384      292      59   \n",
       "3      Carmelo Anthony  22458401   30  NYK     40       264      122      40   \n",
       "4        Dwight Howard  21436271   29  HOU     41       431       50      28   \n",
       "..                 ...       ...  ...  ...    ...       ...      ...     ...   \n",
       "487        Sim Bhullar     29843   22  SAC      3         1        1       0   \n",
       "488     David Stockton     29843   23  SAC      3         2        9       2   \n",
       "489         David Wear     29843   24  SAC      2         2        1       0   \n",
       "490      Andre Dawkins     29843   23  MIA      4         2        1       0   \n",
       "491        Vander Blue     14409   22  LAL      2         9        8       3   \n",
       "\n",
       "     Blocks  Turnovers  Points  \n",
       "0         7        128     782  \n",
       "1        38         78     680  \n",
       "2        14        137    1154  \n",
       "3        17         89     966  \n",
       "4        53        115     646  \n",
       "..      ...        ...     ...  \n",
       "487       1          0       2  \n",
       "488       0          4       8  \n",
       "489       0          0       0  \n",
       "490       0          1       3  \n",
       "491       0          6      22  \n",
       "\n",
       "[492 rows x 11 columns]"
      ]
     },
     "execution_count": 2,
     "metadata": {},
     "output_type": "execute_result"
    }
   ],
   "source": [
    "player_data = pd.read_csv(\"player_data.csv\")\n",
    "salary_data = pd.read_csv(\"salary_data.csv\")\n",
    "full_data = salary_data.join(player_data.set_index('Name'), on = \"PlayerName\")\n",
    "full_data = full_data.reset_index()\n",
    "full_data = full_data.drop(columns=['index'])\n",
    "\n",
    "full_data"
   ]
  },
  {
   "cell_type": "markdown",
   "metadata": {
    "id": "_wkTiyDgpnui"
   },
   "source": [
    "Rather than getting data on every player (as in the tables loaded above), imagine that we had gotten data on only a smaller subset of the players. For 492 players, it's not so unreasonable to expect to see all the data, but usually we aren't so lucky. \n",
    "\n",
    "If we want to make estimates about a certain numerical property of the population (known as a statistic, e.g. the mean or median), we may have to come up with these estimates based only on a smaller sample. Whether these estimates are useful or not often depends on how the sample was gathered. We have prepared some example sample datasets to see how they compare to the full NBA dataset. Later we'll ask you to create your own samples to see how they behave."
   ]
  },
  {
   "cell_type": "markdown",
   "metadata": {
    "id": "YliTZATRpnui"
   },
   "source": [
    "To save typing and increase the clarity of your code, we will package the analysis code into a few functions. This will be useful in the rest of the lab as we will repeatedly need to create histograms and collect summary statistics from that data."
   ]
  },
  {
   "cell_type": "markdown",
   "metadata": {
    "id": "SJH18af7pnuj"
   },
   "source": [
    "We've defined the `histograms` function below, which takes a table with columns `Age` and `Salary` and draws a histogram for each one. It uses bin widths of 1 year for `Age` and $1,000,000 for `Salary`."
   ]
  },
  {
   "cell_type": "code",
   "execution_count": 3,
   "metadata": {
    "id": "bHrFTZCPpnuj"
   },
   "outputs": [],
   "source": [
    "salaries = full_data['Salary'] / 1000000\n",
    "full_data['Salary'] = salaries # drop the old salaries column and and divide"
   ]
  },
  {
   "cell_type": "code",
   "execution_count": 4,
   "metadata": {
    "colab": {
     "base_uri": "https://localhost:8080/",
     "height": 324
    },
    "executionInfo": {
     "elapsed": 1804,
     "status": "ok",
     "timestamp": 1601174377583,
     "user": {
      "displayName": "Prabin Sapkota",
      "photoUrl": "https://lh6.googleusercontent.com/-doP6HgypWoA/AAAAAAAAAAI/AAAAAAAAADs/IVE1vPXCX6U/s64/photo.jpg",
      "userId": "10525827673897210712"
     },
     "user_tz": 240
    },
    "id": "j_T1zzCNpnum",
    "outputId": "8d120ddd-acfe-46b0-9e74-5649f34be082"
   },
   "outputs": [
    {
     "data": {
      "image/png": "[encoded data removed]",
      "text/plain": [
       "<Figure size 432x288 with 1 Axes>"
      ]
     },
     "metadata": {},
     "output_type": "display_data"
    }
   ],
   "source": [
    "def age_histogram(table):\n",
    "    ages = table['Age']\n",
    "    age_bins = np.arange(min(ages), max(ages) + 2, 1) \n",
    "    plt.hist(table.Age, age_bins,density=True, edgecolor = 'black', linewidth = 1.2) # denisty parameter gives us a relative distribution value\n",
    "    plt.title('Age distribution')\n",
    "    plt.xlabel(\"Age (year)\")\n",
    "    plt.ylabel(\"Percent per year\")\n",
    "\n",
    "age_histogram(full_data)"
   ]
  },
  {
   "cell_type": "code",
   "execution_count": 5,
   "metadata": {
    "colab": {
     "base_uri": "https://localhost:8080/",
     "height": 324
    },
    "executionInfo": {
     "elapsed": 2205,
     "status": "ok",
     "timestamp": 1601174377996,
     "user": {
      "displayName": "Prabin Sapkota",
      "photoUrl": "https://lh6.googleusercontent.com/-doP6HgypWoA/AAAAAAAAAAI/AAAAAAAAADs/IVE1vPXCX6U/s64/photo.jpg",
      "userId": "10525827673897210712"
     },
     "user_tz": 240
    },
    "id": "IHAaxHmPpnuo",
    "outputId": "d69245e8-f983-45e3-d7af-2f2170ed94dd"
   },
   "outputs": [
    {
     "data": {
      "image/png": "[encoded data removed]",
      "text/plain": [
       "<Figure size 432x288 with 1 Axes>"
      ]
     },
     "metadata": {},
     "output_type": "display_data"
    }
   ],
   "source": [
    "def salary_histogram(table):\n",
    "    salary_bins = np.arange(min(salaries), max(salaries) + 1, 1)\n",
    "    plt.hist(table.Salary, salary_bins,density=True ,edgecolor = 'black', linewidth = 1.2) # denisty parameter gives us a relative distribution value\n",
    "    plt.xlabel(\"Salary (millions)\")\n",
    "    plt.ylabel(\"Percent per million dollars\")\n",
    "    plt.title('Salary distribution') \n",
    "    \n",
    "salary_histogram(full_data)"
   ]
  },
  {
   "cell_type": "markdown",
   "metadata": {
    "id": "09RaiFERpnur"
   },
   "source": [
    "**Question 1:** Create a function called `compute_statistics` that takes a paramter called `ages_and_salaries` and returns a two-element array called `full_stats` containing the average age and average salary (in that order) of the `full_data` table.\n"
   ]
  },
  {
   "cell_type": "code",
   "execution_count": 6,
   "metadata": {
    "colab": {
     "base_uri": "https://localhost:8080/",
     "height": 34
    },
    "executionInfo": {
     "elapsed": 2195,
     "status": "ok",
     "timestamp": 1601174377997,
     "user": {
      "displayName": "Prabin Sapkota",
      "photoUrl": "https://lh6.googleusercontent.com/-doP6HgypWoA/AAAAAAAAAAI/AAAAAAAAADs/IVE1vPXCX6U/s64/photo.jpg",
      "userId": "10525827673897210712"
     },
     "user_tz": 240
    },
    "id": "g5UMV3wfpnur",
    "outputId": "4dc11c32-86c2-4f22-c360-ac6412bba3b0"
   },
   "outputs": [
    {
     "data": {
      "text/plain": [
       "[26.536585365853657, 4.269775766260173]"
      ]
     },
     "execution_count": 6,
     "metadata": {},
     "output_type": "execute_result"
    }
   ],
   "source": [
    "def compute_statistics(age_and_salary_data):\n",
    "  age_col = age_and_salary_data[\"Age\"]\n",
    "  salary_col = age_and_salary_data[\"Salary\"] \n",
    "  avg_age = sum(age_col)/len(age_col)\n",
    "  avg_salary = sum(salary_col)/len(salary_col)\n",
    "  return [avg_age, avg_salary]   \n",
    "\n",
    "compute_statistics(full_data)"
   ]
  },
  {
   "cell_type": "markdown",
   "metadata": {
    "id": "-qMpA0FKpnuu"
   },
   "source": [
    "### Convenience sampling\n",
    "One sampling methodology, which is **generally a bad idea**, is to choose players who are somehow convenient to sample.  For example, you might choose players from one team who are near your house, since it's easier to survey them.  This is called, somewhat pejoratively, **convenience sampling**. \n",
    "\n",
    "**Note:** Convenience sampling is a kind of *deterministic sampling*\n",
    "\n",
    "Suppose you survey only contains *relatively new* players with ages less than 22.  (The more experienced players didn't bother to answer your surveys about their salaries.)\n",
    "\n",
    "**Question 2.**  Assign `convenience_sample` to a subset of `full_data` that contains only the rows for players under the age of 22."
   ]
  },
  {
   "cell_type": "code",
   "execution_count": 7,
   "metadata": {
    "colab": {
     "base_uri": "https://localhost:8080/",
     "height": 1000
    },
    "executionInfo": {
     "elapsed": 2185,
     "status": "ok",
     "timestamp": 1601174377998,
     "user": {
      "displayName": "Prabin Sapkota",
      "photoUrl": "https://lh6.googleusercontent.com/-doP6HgypWoA/AAAAAAAAAAI/AAAAAAAAADs/IVE1vPXCX6U/s64/photo.jpg",
      "userId": "10525827673897210712"
     },
     "user_tz": 240
    },
    "id": "RLLYINPFpnuu",
    "outputId": "5d6f6ec9-101d-4522-871d-63d8c144476a"
   },
   "outputs": [
    {
     "data": {
      "text/html": [
       "<div>\n",
       "<style scoped>\n",
       "    .dataframe tbody tr th:only-of-type {\n",
       "        vertical-align: middle;\n",
       "    }\n",
       "\n",
       "    .dataframe tbody tr th {\n",
       "        vertical-align: top;\n",
       "    }\n",
       "\n",
       "    .dataframe thead th {\n",
       "        text-align: right;\n",
       "    }\n",
       "</style>\n",
       "<table border=\"1\" class=\"dataframe\">\n",
       "  <thead>\n",
       "    <tr style=\"text-align: right;\">\n",
       "      <th></th>\n",
       "      <th>PlayerName</th>\n",
       "      <th>Salary</th>\n",
       "      <th>Age</th>\n",
       "      <th>Team</th>\n",
       "      <th>Games</th>\n",
       "      <th>Rebounds</th>\n",
       "      <th>Assists</th>\n",
       "      <th>Steals</th>\n",
       "      <th>Blocks</th>\n",
       "      <th>Turnovers</th>\n",
       "      <th>Points</th>\n",
       "    </tr>\n",
       "  </thead>\n",
       "  <tbody>\n",
       "    <tr>\n",
       "      <th>124</th>\n",
       "      <td>Anthony Davis</td>\n",
       "      <td>5.607240</td>\n",
       "      <td>21</td>\n",
       "      <td>NOP</td>\n",
       "      <td>68</td>\n",
       "      <td>696</td>\n",
       "      <td>149</td>\n",
       "      <td>100</td>\n",
       "      <td>200</td>\n",
       "      <td>95</td>\n",
       "      <td>1656</td>\n",
       "    </tr>\n",
       "    <tr>\n",
       "      <th>125</th>\n",
       "      <td>Anthony Bennett</td>\n",
       "      <td>5.563920</td>\n",
       "      <td>21</td>\n",
       "      <td>MIN</td>\n",
       "      <td>57</td>\n",
       "      <td>216</td>\n",
       "      <td>48</td>\n",
       "      <td>27</td>\n",
       "      <td>16</td>\n",
       "      <td>36</td>\n",
       "      <td>298</td>\n",
       "    </tr>\n",
       "    <tr>\n",
       "      <th>126</th>\n",
       "      <td>Andrew Wiggins</td>\n",
       "      <td>5.510640</td>\n",
       "      <td>19</td>\n",
       "      <td>MIN</td>\n",
       "      <td>82</td>\n",
       "      <td>374</td>\n",
       "      <td>170</td>\n",
       "      <td>86</td>\n",
       "      <td>50</td>\n",
       "      <td>177</td>\n",
       "      <td>1387</td>\n",
       "    </tr>\n",
       "    <tr>\n",
       "      <th>141</th>\n",
       "      <td>Michael Kidd-Gilchrist</td>\n",
       "      <td>5.016960</td>\n",
       "      <td>21</td>\n",
       "      <td>CHO</td>\n",
       "      <td>55</td>\n",
       "      <td>416</td>\n",
       "      <td>77</td>\n",
       "      <td>30</td>\n",
       "      <td>38</td>\n",
       "      <td>63</td>\n",
       "      <td>598</td>\n",
       "    </tr>\n",
       "    <tr>\n",
       "      <th>147</th>\n",
       "      <td>Jabari Parker</td>\n",
       "      <td>4.930560</td>\n",
       "      <td>19</td>\n",
       "      <td>MIL</td>\n",
       "      <td>25</td>\n",
       "      <td>138</td>\n",
       "      <td>42</td>\n",
       "      <td>31</td>\n",
       "      <td>5</td>\n",
       "      <td>47</td>\n",
       "      <td>308</td>\n",
       "    </tr>\n",
       "    <tr>\n",
       "      <th>155</th>\n",
       "      <td>Bradley Beal</td>\n",
       "      <td>4.505280</td>\n",
       "      <td>21</td>\n",
       "      <td>WAS</td>\n",
       "      <td>63</td>\n",
       "      <td>241</td>\n",
       "      <td>194</td>\n",
       "      <td>76</td>\n",
       "      <td>18</td>\n",
       "      <td>123</td>\n",
       "      <td>962</td>\n",
       "    </tr>\n",
       "    <tr>\n",
       "      <th>159</th>\n",
       "      <td>Otto Porter</td>\n",
       "      <td>4.470480</td>\n",
       "      <td>21</td>\n",
       "      <td>WAS</td>\n",
       "      <td>74</td>\n",
       "      <td>221</td>\n",
       "      <td>65</td>\n",
       "      <td>44</td>\n",
       "      <td>30</td>\n",
       "      <td>52</td>\n",
       "      <td>445</td>\n",
       "    </tr>\n",
       "    <tr>\n",
       "      <th>170</th>\n",
       "      <td>Aaron Gordon</td>\n",
       "      <td>3.992040</td>\n",
       "      <td>19</td>\n",
       "      <td>ORL</td>\n",
       "      <td>47</td>\n",
       "      <td>169</td>\n",
       "      <td>33</td>\n",
       "      <td>21</td>\n",
       "      <td>22</td>\n",
       "      <td>38</td>\n",
       "      <td>243</td>\n",
       "    </tr>\n",
       "    <tr>\n",
       "      <th>183</th>\n",
       "      <td>Alex Len</td>\n",
       "      <td>3.649920</td>\n",
       "      <td>21</td>\n",
       "      <td>PHO</td>\n",
       "      <td>69</td>\n",
       "      <td>454</td>\n",
       "      <td>32</td>\n",
       "      <td>34</td>\n",
       "      <td>105</td>\n",
       "      <td>74</td>\n",
       "      <td>432</td>\n",
       "    </tr>\n",
       "    <tr>\n",
       "      <th>184</th>\n",
       "      <td>Dante Exum</td>\n",
       "      <td>3.615000</td>\n",
       "      <td>19</td>\n",
       "      <td>UTA</td>\n",
       "      <td>82</td>\n",
       "      <td>131</td>\n",
       "      <td>198</td>\n",
       "      <td>41</td>\n",
       "      <td>14</td>\n",
       "      <td>118</td>\n",
       "      <td>393</td>\n",
       "    </tr>\n",
       "    <tr>\n",
       "      <th>196</th>\n",
       "      <td>Nerlens Noel</td>\n",
       "      <td>3.315120</td>\n",
       "      <td>20</td>\n",
       "      <td>PHI</td>\n",
       "      <td>75</td>\n",
       "      <td>611</td>\n",
       "      <td>128</td>\n",
       "      <td>133</td>\n",
       "      <td>142</td>\n",
       "      <td>146</td>\n",
       "      <td>744</td>\n",
       "    </tr>\n",
       "    <tr>\n",
       "      <th>197</th>\n",
       "      <td>Marcus Smart</td>\n",
       "      <td>3.283320</td>\n",
       "      <td>20</td>\n",
       "      <td>BOS</td>\n",
       "      <td>67</td>\n",
       "      <td>222</td>\n",
       "      <td>208</td>\n",
       "      <td>99</td>\n",
       "      <td>18</td>\n",
       "      <td>90</td>\n",
       "      <td>523</td>\n",
       "    </tr>\n",
       "    <tr>\n",
       "      <th>213</th>\n",
       "      <td>Ben McLemore</td>\n",
       "      <td>3.026280</td>\n",
       "      <td>21</td>\n",
       "      <td>SAC</td>\n",
       "      <td>82</td>\n",
       "      <td>241</td>\n",
       "      <td>140</td>\n",
       "      <td>77</td>\n",
       "      <td>19</td>\n",
       "      <td>138</td>\n",
       "      <td>996</td>\n",
       "    </tr>\n",
       "    <tr>\n",
       "      <th>219</th>\n",
       "      <td>Julius Randle</td>\n",
       "      <td>2.997360</td>\n",
       "      <td>20</td>\n",
       "      <td>LAL</td>\n",
       "      <td>1</td>\n",
       "      <td>0</td>\n",
       "      <td>0</td>\n",
       "      <td>0</td>\n",
       "      <td>0</td>\n",
       "      <td>1</td>\n",
       "      <td>2</td>\n",
       "    </tr>\n",
       "    <tr>\n",
       "      <th>226</th>\n",
       "      <td>Kentavious Caldwell-Pope</td>\n",
       "      <td>2.772480</td>\n",
       "      <td>21</td>\n",
       "      <td>DET</td>\n",
       "      <td>82</td>\n",
       "      <td>255</td>\n",
       "      <td>109</td>\n",
       "      <td>93</td>\n",
       "      <td>18</td>\n",
       "      <td>94</td>\n",
       "      <td>1043</td>\n",
       "    </tr>\n",
       "    <tr>\n",
       "      <th>229</th>\n",
       "      <td>Nik Stauskas</td>\n",
       "      <td>2.745840</td>\n",
       "      <td>21</td>\n",
       "      <td>SAC</td>\n",
       "      <td>73</td>\n",
       "      <td>88</td>\n",
       "      <td>67</td>\n",
       "      <td>20</td>\n",
       "      <td>17</td>\n",
       "      <td>40</td>\n",
       "      <td>319</td>\n",
       "    </tr>\n",
       "    <tr>\n",
       "      <th>236</th>\n",
       "      <td>Andre Drummond</td>\n",
       "      <td>2.568360</td>\n",
       "      <td>21</td>\n",
       "      <td>DET</td>\n",
       "      <td>82</td>\n",
       "      <td>1104</td>\n",
       "      <td>55</td>\n",
       "      <td>73</td>\n",
       "      <td>153</td>\n",
       "      <td>120</td>\n",
       "      <td>1130</td>\n",
       "    </tr>\n",
       "    <tr>\n",
       "      <th>238</th>\n",
       "      <td>Noah Vonleh</td>\n",
       "      <td>2.524200</td>\n",
       "      <td>19</td>\n",
       "      <td>CHO</td>\n",
       "      <td>25</td>\n",
       "      <td>86</td>\n",
       "      <td>4</td>\n",
       "      <td>4</td>\n",
       "      <td>9</td>\n",
       "      <td>11</td>\n",
       "      <td>83</td>\n",
       "    </tr>\n",
       "    <tr>\n",
       "      <th>244</th>\n",
       "      <td>Elfrid Payton</td>\n",
       "      <td>2.397840</td>\n",
       "      <td>20</td>\n",
       "      <td>ORL</td>\n",
       "      <td>82</td>\n",
       "      <td>349</td>\n",
       "      <td>533</td>\n",
       "      <td>142</td>\n",
       "      <td>20</td>\n",
       "      <td>203</td>\n",
       "      <td>731</td>\n",
       "    </tr>\n",
       "    <tr>\n",
       "      <th>254</th>\n",
       "      <td>Steven Adams</td>\n",
       "      <td>2.184960</td>\n",
       "      <td>21</td>\n",
       "      <td>OKC</td>\n",
       "      <td>70</td>\n",
       "      <td>523</td>\n",
       "      <td>66</td>\n",
       "      <td>38</td>\n",
       "      <td>86</td>\n",
       "      <td>99</td>\n",
       "      <td>537</td>\n",
       "    </tr>\n",
       "    <tr>\n",
       "      <th>264</th>\n",
       "      <td>Zach LaVine</td>\n",
       "      <td>2.055840</td>\n",
       "      <td>19</td>\n",
       "      <td>MIN</td>\n",
       "      <td>77</td>\n",
       "      <td>214</td>\n",
       "      <td>276</td>\n",
       "      <td>54</td>\n",
       "      <td>10</td>\n",
       "      <td>193</td>\n",
       "      <td>778</td>\n",
       "    </tr>\n",
       "    <tr>\n",
       "      <th>274</th>\n",
       "      <td>T.J. Warren</td>\n",
       "      <td>1.953120</td>\n",
       "      <td>21</td>\n",
       "      <td>PHO</td>\n",
       "      <td>40</td>\n",
       "      <td>85</td>\n",
       "      <td>25</td>\n",
       "      <td>18</td>\n",
       "      <td>9</td>\n",
       "      <td>27</td>\n",
       "      <td>245</td>\n",
       "    </tr>\n",
       "    <tr>\n",
       "      <th>275</th>\n",
       "      <td>Maurice Harkless</td>\n",
       "      <td>1.887840</td>\n",
       "      <td>21</td>\n",
       "      <td>ORL</td>\n",
       "      <td>45</td>\n",
       "      <td>106</td>\n",
       "      <td>25</td>\n",
       "      <td>32</td>\n",
       "      <td>9</td>\n",
       "      <td>27</td>\n",
       "      <td>158</td>\n",
       "    </tr>\n",
       "    <tr>\n",
       "      <th>276</th>\n",
       "      <td>Giannis Antetokounmpo</td>\n",
       "      <td>1.873200</td>\n",
       "      <td>20</td>\n",
       "      <td>MIL</td>\n",
       "      <td>81</td>\n",
       "      <td>542</td>\n",
       "      <td>207</td>\n",
       "      <td>73</td>\n",
       "      <td>85</td>\n",
       "      <td>173</td>\n",
       "      <td>1030</td>\n",
       "    </tr>\n",
       "    <tr>\n",
       "      <th>282</th>\n",
       "      <td>Jusuf Nurkic</td>\n",
       "      <td>1.762680</td>\n",
       "      <td>20</td>\n",
       "      <td>DEN</td>\n",
       "      <td>62</td>\n",
       "      <td>382</td>\n",
       "      <td>50</td>\n",
       "      <td>52</td>\n",
       "      <td>68</td>\n",
       "      <td>86</td>\n",
       "      <td>426</td>\n",
       "    </tr>\n",
       "    <tr>\n",
       "      <th>286</th>\n",
       "      <td>Dennis Schroder</td>\n",
       "      <td>1.690680</td>\n",
       "      <td>21</td>\n",
       "      <td>ATL</td>\n",
       "      <td>77</td>\n",
       "      <td>164</td>\n",
       "      <td>317</td>\n",
       "      <td>49</td>\n",
       "      <td>4</td>\n",
       "      <td>150</td>\n",
       "      <td>768</td>\n",
       "    </tr>\n",
       "    <tr>\n",
       "      <th>287</th>\n",
       "      <td>James Young</td>\n",
       "      <td>1.674480</td>\n",
       "      <td>19</td>\n",
       "      <td>BOS</td>\n",
       "      <td>31</td>\n",
       "      <td>42</td>\n",
       "      <td>13</td>\n",
       "      <td>8</td>\n",
       "      <td>2</td>\n",
       "      <td>5</td>\n",
       "      <td>105</td>\n",
       "    </tr>\n",
       "    <tr>\n",
       "      <th>292</th>\n",
       "      <td>Tyler Ennis</td>\n",
       "      <td>1.590720</td>\n",
       "      <td>20</td>\n",
       "      <td>TOT</td>\n",
       "      <td>33</td>\n",
       "      <td>35</td>\n",
       "      <td>73</td>\n",
       "      <td>18</td>\n",
       "      <td>5</td>\n",
       "      <td>42</td>\n",
       "      <td>121</td>\n",
       "    </tr>\n",
       "    <tr>\n",
       "      <th>294</th>\n",
       "      <td>Sergey Karasev</td>\n",
       "      <td>1.533840</td>\n",
       "      <td>21</td>\n",
       "      <td>BRK</td>\n",
       "      <td>33</td>\n",
       "      <td>66</td>\n",
       "      <td>46</td>\n",
       "      <td>23</td>\n",
       "      <td>1</td>\n",
       "      <td>24</td>\n",
       "      <td>153</td>\n",
       "    </tr>\n",
       "    <tr>\n",
       "      <th>295</th>\n",
       "      <td>Gary Harris</td>\n",
       "      <td>1.519200</td>\n",
       "      <td>20</td>\n",
       "      <td>DEN</td>\n",
       "      <td>55</td>\n",
       "      <td>64</td>\n",
       "      <td>29</td>\n",
       "      <td>39</td>\n",
       "      <td>7</td>\n",
       "      <td>38</td>\n",
       "      <td>188</td>\n",
       "    </tr>\n",
       "    <tr>\n",
       "      <th>300</th>\n",
       "      <td>Bruno Caboclo</td>\n",
       "      <td>1.458360</td>\n",
       "      <td>19</td>\n",
       "      <td>TOR</td>\n",
       "      <td>8</td>\n",
       "      <td>2</td>\n",
       "      <td>0</td>\n",
       "      <td>0</td>\n",
       "      <td>1</td>\n",
       "      <td>4</td>\n",
       "      <td>10</td>\n",
       "    </tr>\n",
       "    <tr>\n",
       "      <th>316</th>\n",
       "      <td>Jordan Adams</td>\n",
       "      <td>1.344120</td>\n",
       "      <td>20</td>\n",
       "      <td>MEM</td>\n",
       "      <td>30</td>\n",
       "      <td>28</td>\n",
       "      <td>16</td>\n",
       "      <td>16</td>\n",
       "      <td>7</td>\n",
       "      <td>14</td>\n",
       "      <td>94</td>\n",
       "    </tr>\n",
       "    <tr>\n",
       "      <th>336</th>\n",
       "      <td>Tony Wroten</td>\n",
       "      <td>1.210080</td>\n",
       "      <td>21</td>\n",
       "      <td>PHI</td>\n",
       "      <td>30</td>\n",
       "      <td>86</td>\n",
       "      <td>157</td>\n",
       "      <td>48</td>\n",
       "      <td>8</td>\n",
       "      <td>113</td>\n",
       "      <td>507</td>\n",
       "    </tr>\n",
       "    <tr>\n",
       "      <th>338</th>\n",
       "      <td>Clint Capela</td>\n",
       "      <td>1.189200</td>\n",
       "      <td>20</td>\n",
       "      <td>HOU</td>\n",
       "      <td>12</td>\n",
       "      <td>36</td>\n",
       "      <td>2</td>\n",
       "      <td>1</td>\n",
       "      <td>9</td>\n",
       "      <td>5</td>\n",
       "      <td>32</td>\n",
       "    </tr>\n",
       "    <tr>\n",
       "      <th>348</th>\n",
       "      <td>Archie Goodwin</td>\n",
       "      <td>1.112280</td>\n",
       "      <td>20</td>\n",
       "      <td>PHO</td>\n",
       "      <td>41</td>\n",
       "      <td>74</td>\n",
       "      <td>44</td>\n",
       "      <td>18</td>\n",
       "      <td>9</td>\n",
       "      <td>48</td>\n",
       "      <td>231</td>\n",
       "    </tr>\n",
       "    <tr>\n",
       "      <th>352</th>\n",
       "      <td>Kyle Anderson</td>\n",
       "      <td>1.093680</td>\n",
       "      <td>21</td>\n",
       "      <td>SAS</td>\n",
       "      <td>33</td>\n",
       "      <td>72</td>\n",
       "      <td>28</td>\n",
       "      <td>15</td>\n",
       "      <td>7</td>\n",
       "      <td>10</td>\n",
       "      <td>74</td>\n",
       "    </tr>\n",
       "    <tr>\n",
       "      <th>396</th>\n",
       "      <td>Jerami Grant</td>\n",
       "      <td>0.884879</td>\n",
       "      <td>20</td>\n",
       "      <td>PHI</td>\n",
       "      <td>65</td>\n",
       "      <td>198</td>\n",
       "      <td>79</td>\n",
       "      <td>40</td>\n",
       "      <td>68</td>\n",
       "      <td>85</td>\n",
       "      <td>411</td>\n",
       "    </tr>\n",
       "    <tr>\n",
       "      <th>421</th>\n",
       "      <td>Grant Jerrett</td>\n",
       "      <td>0.816481</td>\n",
       "      <td>21</td>\n",
       "      <td>TOT</td>\n",
       "      <td>8</td>\n",
       "      <td>9</td>\n",
       "      <td>3</td>\n",
       "      <td>2</td>\n",
       "      <td>2</td>\n",
       "      <td>3</td>\n",
       "      <td>16</td>\n",
       "    </tr>\n",
       "    <tr>\n",
       "      <th>424</th>\n",
       "      <td>Jarnell Stokes</td>\n",
       "      <td>0.725000</td>\n",
       "      <td>21</td>\n",
       "      <td>MEM</td>\n",
       "      <td>19</td>\n",
       "      <td>34</td>\n",
       "      <td>4</td>\n",
       "      <td>5</td>\n",
       "      <td>5</td>\n",
       "      <td>7</td>\n",
       "      <td>57</td>\n",
       "    </tr>\n",
       "    <tr>\n",
       "      <th>426</th>\n",
       "      <td>Spencer Dinwiddie</td>\n",
       "      <td>0.700000</td>\n",
       "      <td>21</td>\n",
       "      <td>DET</td>\n",
       "      <td>34</td>\n",
       "      <td>48</td>\n",
       "      <td>104</td>\n",
       "      <td>19</td>\n",
       "      <td>6</td>\n",
       "      <td>33</td>\n",
       "      <td>145</td>\n",
       "    </tr>\n",
       "    <tr>\n",
       "      <th>429</th>\n",
       "      <td>Johnny O'Bryant</td>\n",
       "      <td>0.600000</td>\n",
       "      <td>21</td>\n",
       "      <td>MIL</td>\n",
       "      <td>34</td>\n",
       "      <td>64</td>\n",
       "      <td>17</td>\n",
       "      <td>5</td>\n",
       "      <td>4</td>\n",
       "      <td>25</td>\n",
       "      <td>100</td>\n",
       "    </tr>\n",
       "    <tr>\n",
       "      <th>435</th>\n",
       "      <td>K.J. McDaniels</td>\n",
       "      <td>0.507336</td>\n",
       "      <td>21</td>\n",
       "      <td>TOT</td>\n",
       "      <td>62</td>\n",
       "      <td>200</td>\n",
       "      <td>72</td>\n",
       "      <td>44</td>\n",
       "      <td>70</td>\n",
       "      <td>105</td>\n",
       "      <td>487</td>\n",
       "    </tr>\n",
       "    <tr>\n",
       "      <th>437</th>\n",
       "      <td>JaKarr Sampson</td>\n",
       "      <td>0.507336</td>\n",
       "      <td>21</td>\n",
       "      <td>PHI</td>\n",
       "      <td>74</td>\n",
       "      <td>163</td>\n",
       "      <td>77</td>\n",
       "      <td>38</td>\n",
       "      <td>26</td>\n",
       "      <td>76</td>\n",
       "      <td>386</td>\n",
       "    </tr>\n",
       "    <tr>\n",
       "      <th>440</th>\n",
       "      <td>Glenn Robinson III</td>\n",
       "      <td>0.507336</td>\n",
       "      <td>21</td>\n",
       "      <td>TOT</td>\n",
       "      <td>35</td>\n",
       "      <td>39</td>\n",
       "      <td>11</td>\n",
       "      <td>6</td>\n",
       "      <td>1</td>\n",
       "      <td>11</td>\n",
       "      <td>73</td>\n",
       "    </tr>\n",
       "  </tbody>\n",
       "</table>\n",
       "</div>"
      ],
      "text/plain": [
       "                   PlayerName    Salary  Age Team  Games  Rebounds  Assists  \\\n",
       "124             Anthony Davis  5.607240   21  NOP     68       696      149   \n",
       "125           Anthony Bennett  5.563920   21  MIN     57       216       48   \n",
       "126            Andrew Wiggins  5.510640   19  MIN     82       374      170   \n",
       "141    Michael Kidd-Gilchrist  5.016960   21  CHO     55       416       77   \n",
       "147             Jabari Parker  4.930560   19  MIL     25       138       42   \n",
       "155              Bradley Beal  4.505280   21  WAS     63       241      194   \n",
       "159               Otto Porter  4.470480   21  WAS     74       221       65   \n",
       "170              Aaron Gordon  3.992040   19  ORL     47       169       33   \n",
       "183                  Alex Len  3.649920   21  PHO     69       454       32   \n",
       "184                Dante Exum  3.615000   19  UTA     82       131      198   \n",
       "196              Nerlens Noel  3.315120   20  PHI     75       611      128   \n",
       "197              Marcus Smart  3.283320   20  BOS     67       222      208   \n",
       "213              Ben McLemore  3.026280   21  SAC     82       241      140   \n",
       "219             Julius Randle  2.997360   20  LAL      1         0        0   \n",
       "226  Kentavious Caldwell-Pope  2.772480   21  DET     82       255      109   \n",
       "229              Nik Stauskas  2.745840   21  SAC     73        88       67   \n",
       "236            Andre Drummond  2.568360   21  DET     82      1104       55   \n",
       "238               Noah Vonleh  2.524200   19  CHO     25        86        4   \n",
       "244             Elfrid Payton  2.397840   20  ORL     82       349      533   \n",
       "254              Steven Adams  2.184960   21  OKC     70       523       66   \n",
       "264               Zach LaVine  2.055840   19  MIN     77       214      276   \n",
       "274               T.J. Warren  1.953120   21  PHO     40        85       25   \n",
       "275          Maurice Harkless  1.887840   21  ORL     45       106       25   \n",
       "276     Giannis Antetokounmpo  1.873200   20  MIL     81       542      207   \n",
       "282              Jusuf Nurkic  1.762680   20  DEN     62       382       50   \n",
       "286           Dennis Schroder  1.690680   21  ATL     77       164      317   \n",
       "287               James Young  1.674480   19  BOS     31        42       13   \n",
       "292               Tyler Ennis  1.590720   20  TOT     33        35       73   \n",
       "294            Sergey Karasev  1.533840   21  BRK     33        66       46   \n",
       "295               Gary Harris  1.519200   20  DEN     55        64       29   \n",
       "300             Bruno Caboclo  1.458360   19  TOR      8         2        0   \n",
       "316              Jordan Adams  1.344120   20  MEM     30        28       16   \n",
       "336               Tony Wroten  1.210080   21  PHI     30        86      157   \n",
       "338              Clint Capela  1.189200   20  HOU     12        36        2   \n",
       "348            Archie Goodwin  1.112280   20  PHO     41        74       44   \n",
       "352             Kyle Anderson  1.093680   21  SAS     33        72       28   \n",
       "396              Jerami Grant  0.884879   20  PHI     65       198       79   \n",
       "421             Grant Jerrett  0.816481   21  TOT      8         9        3   \n",
       "424            Jarnell Stokes  0.725000   21  MEM     19        34        4   \n",
       "426         Spencer Dinwiddie  0.700000   21  DET     34        48      104   \n",
       "429           Johnny O'Bryant  0.600000   21  MIL     34        64       17   \n",
       "435            K.J. McDaniels  0.507336   21  TOT     62       200       72   \n",
       "437            JaKarr Sampson  0.507336   21  PHI     74       163       77   \n",
       "440        Glenn Robinson III  0.507336   21  TOT     35        39       11   \n",
       "\n",
       "     Steals  Blocks  Turnovers  Points  \n",
       "124     100     200         95    1656  \n",
       "125      27      16         36     298  \n",
       "126      86      50        177    1387  \n",
       "141      30      38         63     598  \n",
       "147      31       5         47     308  \n",
       "155      76      18        123     962  \n",
       "159      44      30         52     445  \n",
       "170      21      22         38     243  \n",
       "183      34     105         74     432  \n",
       "184      41      14        118     393  \n",
       "196     133     142        146     744  \n",
       "197      99      18         90     523  \n",
       "213      77      19        138     996  \n",
       "219       0       0          1       2  \n",
       "226      93      18         94    1043  \n",
       "229      20      17         40     319  \n",
       "236      73     153        120    1130  \n",
       "238       4       9         11      83  \n",
       "244     142      20        203     731  \n",
       "254      38      86         99     537  \n",
       "264      54      10        193     778  \n",
       "274      18       9         27     245  \n",
       "275      32       9         27     158  \n",
       "276      73      85        173    1030  \n",
       "282      52      68         86     426  \n",
       "286      49       4        150     768  \n",
       "287       8       2          5     105  \n",
       "292      18       5         42     121  \n",
       "294      23       1         24     153  \n",
       "295      39       7         38     188  \n",
       "300       0       1          4      10  \n",
       "316      16       7         14      94  \n",
       "336      48       8        113     507  \n",
       "338       1       9          5      32  \n",
       "348      18       9         48     231  \n",
       "352      15       7         10      74  \n",
       "396      40      68         85     411  \n",
       "421       2       2          3      16  \n",
       "424       5       5          7      57  \n",
       "426      19       6         33     145  \n",
       "429       5       4         25     100  \n",
       "435      44      70        105     487  \n",
       "437      38      26         76     386  \n",
       "440       6       1         11      73  "
      ]
     },
     "execution_count": 7,
     "metadata": {},
     "output_type": "execute_result"
    }
   ],
   "source": [
    "convenience_sample = full_data.loc[full_data[\"Age\"] < 22]\n",
    "convenience_sample"
   ]
  },
  {
   "cell_type": "code",
   "execution_count": null,
   "metadata": {
    "id": "76q4yTHNpnu0"
   },
   "outputs": [],
   "source": []
  },
  {
   "cell_type": "markdown",
   "metadata": {
    "id": "dsDxVmGPpnu3"
   },
   "source": [
    "**Question 3:** Assign `convenience_stats` to an array of the average age and average salary of your `convenience sample`, using the `compute_statistics` function. "
   ]
  },
  {
   "cell_type": "code",
   "execution_count": 8,
   "metadata": {
    "colab": {
     "base_uri": "https://localhost:8080/",
     "height": 34
    },
    "executionInfo": {
     "elapsed": 2174,
     "status": "ok",
     "timestamp": 1601174378000,
     "user": {
      "displayName": "Prabin Sapkota",
      "photoUrl": "https://lh6.googleusercontent.com/-doP6HgypWoA/AAAAAAAAAAI/AAAAAAAAADs/IVE1vPXCX6U/s64/photo.jpg",
      "userId": "10525827673897210712"
     },
     "user_tz": 240
    },
    "id": "qLAsW77ppnu4",
    "outputId": "b28e6781-c255-4c8b-8c01-87f7ed44e5d2"
   },
   "outputs": [
    {
     "data": {
      "text/plain": [
       "[20.363636363636363, 2.3835338181818178]"
      ]
     },
     "execution_count": 8,
     "metadata": {},
     "output_type": "execute_result"
    }
   ],
   "source": [
    "compute_statistics(convenience_sample)"
   ]
  },
  {
   "cell_type": "markdown",
   "metadata": {
    "id": "sVCDU26wpnu5"
   },
   "source": [
    "Next, we'll compare the convenience sample salaries with the full data salaries in a single histogram. "
   ]
  },
  {
   "cell_type": "markdown",
   "metadata": {
    "id": "Bc46dfQ1pnu6"
   },
   "source": [
    "**Question 4:** Now, write a function that creates a percent distribution histogram of salaries from the `convenience_sample` table. \n",
    "\n",
    "**Note:** Refer back to the code you ran a few cells up."
   ]
  },
  {
   "cell_type": "code",
   "execution_count": 9,
   "metadata": {
    "colab": {
     "base_uri": "https://localhost:8080/",
     "height": 665
    },
    "executionInfo": {
     "elapsed": 2511,
     "status": "ok",
     "timestamp": 1601174378350,
     "user": {
      "displayName": "Prabin Sapkota",
      "photoUrl": "https://lh6.googleusercontent.com/-doP6HgypWoA/AAAAAAAAAAI/AAAAAAAAADs/IVE1vPXCX6U/s64/photo.jpg",
      "userId": "10525827673897210712"
     },
     "user_tz": 240
    },
    "id": "ecsu0AO1pnu7",
    "outputId": "1507c084-9ef4-4013-b6cc-45204416aecb"
   },
   "outputs": [
    {
     "data": {
      "image/png": "[encoded data removed]",
      "text/plain": [
       "<Figure size 1440x720 with 1 Axes>"
      ]
     },
     "metadata": {},
     "output_type": "display_data"
    }
   ],
   "source": [
    "def salaries_histogram(salaries):\n",
    "  hist_bins = [x for x in range(int(min(salaries)),int(max(salaries)+2))]\n",
    "  plt.figure(figsize=(20,10))\n",
    "  plt.hist(salaries, bins=hist_bins, edgecolor='black', linewidth=1.2)\n",
    "  plt.title(\"Full data salaries distribution\")\n",
    "  plt.xlabel(\"Salaries in millions\")\n",
    "  plt.ylabel(\"Frequency\")\n",
    "  plt.show()\n",
    "\n",
    "salaries_histogram(full_data[\"Salary\"])  "
   ]
  },
  {
   "cell_type": "code",
   "execution_count": 10,
   "metadata": {
    "colab": {
     "base_uri": "https://localhost:8080/",
     "height": 670
    },
    "executionInfo": {
     "elapsed": 2826,
     "status": "ok",
     "timestamp": 1601174378680,
     "user": {
      "displayName": "Prabin Sapkota",
      "photoUrl": "https://lh6.googleusercontent.com/-doP6HgypWoA/AAAAAAAAAAI/AAAAAAAAADs/IVE1vPXCX6U/s64/photo.jpg",
      "userId": "10525827673897210712"
     },
     "user_tz": 240
    },
    "id": "cpk2PBoY5AjT",
    "outputId": "0d38c266-28ab-42e8-d9fb-0afb720935a2"
   },
   "outputs": [
    {
     "data": {
      "image/png": "[encoded data removed]",
      "text/plain": [
       "<Figure size 1440x720 with 1 Axes>"
      ]
     },
     "metadata": {},
     "output_type": "display_data"
    }
   ],
   "source": [
    "salaries_histogram(convenience_sample[\"Salary\"])"
   ]
  },
  {
   "cell_type": "markdown",
   "metadata": {
    "id": "4q7CU9Tqpnu9"
   },
   "source": [
    "**Question 5:** Compare the convenience sample salary histogram with the full data salaries histogram. Does the convenience sample give us an accurate picture of the salary of the full population? Would you expect it to, in general? "
   ]
  },
  {
   "cell_type": "markdown",
   "metadata": {
    "id": "RWkdb2STpnu9"
   },
   "source": [
    "*Write your answer here, replacing this text.*"
   ]
  },
  {
   "cell_type": "markdown",
   "metadata": {
    "id": "uhlgVPHg5O77"
   },
   "source": [
    "No, the convenience sample salary histogram does not give us an accurate picture of the salary of the full population. First, the range is limited by a lot. The highest salary bucket for convenience sample is 5-6 but 23-24 for full sample. Even the general trend of frequencies do not align well together when we compare the pattern of full sample and the convenience sample. The highest frequency bucket differs in two samples."
   ]
  },
  {
   "cell_type": "markdown",
   "metadata": {
    "id": "PE81IVU2pnvA"
   },
   "source": [
    "### Simple random sampling\n",
    "A more justifiable approach is to sample uniformly at random from the players.  In a **simple random sample (SRS) without replacement**, we ensure that each player is selected at most once. Imagine writing down each player's name on a card, putting the cards in an box, and shuffling the box.  Then, pull out cards one by one and set them aside, stopping when the specified sample size is reached."
   ]
  },
  {
   "cell_type": "markdown",
   "metadata": {
    "id": "Mr-yZdC-pnvA"
   },
   "source": [
    "### Producing simple random samples\n",
    "Sometimes, it’s useful to take random samples even when we have the data for the whole population. It helps us understand sampling accuracy.\n",
    "\n",
    "### `.sample()`\n",
    "\n",
    "The DataFrame method `.sample()` produces a random sample from the dataframe. By default, it draws at random **without replacement** from the rows of a table. "
   ]
  },
  {
   "cell_type": "markdown",
   "metadata": {
    "id": "Qa6FBov-pnvB"
   },
   "source": [
    "**Question 6:** Produce  3 simple random samples with a of size 45 from `full_data`, plot salary histograms for each one, and answer the following questions:\n",
    "\n",
    "\n",
    "- How much does the average age change across samples? \n",
    "- What about average salary?"
   ]
  },
  {
   "cell_type": "code",
   "execution_count": 11,
   "metadata": {
    "colab": {
     "base_uri": "https://localhost:8080/",
     "height": 670
    },
    "executionInfo": {
     "elapsed": 3153,
     "status": "ok",
     "timestamp": 1601174379027,
     "user": {
      "displayName": "Prabin Sapkota",
      "photoUrl": "https://lh6.googleusercontent.com/-doP6HgypWoA/AAAAAAAAAAI/AAAAAAAAADs/IVE1vPXCX6U/s64/photo.jpg",
      "userId": "10525827673897210712"
     },
     "user_tz": 240
    },
    "id": "SpQ96Gq1pnvB",
    "outputId": "f0c0559b-d2e3-4a7f-8195-935543e126c6"
   },
   "outputs": [
    {
     "data": {
      "image/png": "[encoded data removed]",
      "text/plain": [
       "<Figure size 1440x720 with 1 Axes>"
      ]
     },
     "metadata": {},
     "output_type": "display_data"
    }
   ],
   "source": [
    "# This cell should contain your code\n",
    "random_sample_one = full_data.sample(45)\n",
    "random_sample_two = full_data.sample(45)\n",
    "random_sample_three = full_data.sample(45)\n",
    "\n",
    "salaries_histogram(random_sample_one[\"Salary\"])"
   ]
  },
  {
   "cell_type": "code",
   "execution_count": 12,
   "metadata": {
    "colab": {
     "base_uri": "https://localhost:8080/",
     "height": 670
    },
    "executionInfo": {
     "elapsed": 3494,
     "status": "ok",
     "timestamp": 1601174379396,
     "user": {
      "displayName": "Prabin Sapkota",
      "photoUrl": "https://lh6.googleusercontent.com/-doP6HgypWoA/AAAAAAAAAAI/AAAAAAAAADs/IVE1vPXCX6U/s64/photo.jpg",
      "userId": "10525827673897210712"
     },
     "user_tz": 240
    },
    "id": "0yAklfgS62C9",
    "outputId": "404c53eb-1ca0-4a10-b64c-bf418479db8c"
   },
   "outputs": [
    {
     "data": {
      "image/png": "[encoded data removed]",
      "text/plain": [
       "<Figure size 1440x720 with 1 Axes>"
      ]
     },
     "metadata": {},
     "output_type": "display_data"
    }
   ],
   "source": [
    "salaries_histogram(random_sample_two[\"Salary\"])"
   ]
  },
  {
   "cell_type": "code",
   "execution_count": 13,
   "metadata": {
    "colab": {
     "base_uri": "https://localhost:8080/",
     "height": 670
    },
    "executionInfo": {
     "elapsed": 3810,
     "status": "ok",
     "timestamp": 1601174379724,
     "user": {
      "displayName": "Prabin Sapkota",
      "photoUrl": "https://lh6.googleusercontent.com/-doP6HgypWoA/AAAAAAAAAAI/AAAAAAAAADs/IVE1vPXCX6U/s64/photo.jpg",
      "userId": "10525827673897210712"
     },
     "user_tz": 240
    },
    "id": "SppdspPg64Ek",
    "outputId": "e58dfd17-2348-4d75-93b2-c039db567225"
   },
   "outputs": [
    {
     "data": {
      "image/png": "[encoded data removed]",
      "text/plain": [
       "<Figure size 1440x720 with 1 Axes>"
      ]
     },
     "metadata": {},
     "output_type": "display_data"
    }
   ],
   "source": [
    "salaries_histogram(random_sample_three[\"Salary\"])"
   ]
  },
  {
   "cell_type": "code",
   "execution_count": 14,
   "metadata": {
    "colab": {
     "base_uri": "https://localhost:8080/",
     "height": 141
    },
    "executionInfo": {
     "elapsed": 3797,
     "status": "ok",
     "timestamp": 1601174379725,
     "user": {
      "displayName": "Prabin Sapkota",
      "photoUrl": "https://lh6.googleusercontent.com/-doP6HgypWoA/AAAAAAAAAAI/AAAAAAAAADs/IVE1vPXCX6U/s64/photo.jpg",
      "userId": "10525827673897210712"
     },
     "user_tz": 240
    },
    "id": "6uTJIvp_8D1i",
    "outputId": "51b3fc3f-65b9-4d87-e7ba-ff81892f4585"
   },
   "outputs": [
    {
     "name": "stdout",
     "output_type": "stream",
     "text": [
      "Average age and salaries for each random sample\n",
      "Random sample one:  [26.022222222222222, 3.426496711111111]\n",
      "Random sample two:  [25.444444444444443, 4.05843611111111]\n",
      "Random sample three:  [26.666666666666668, 4.1673796222222235]\n",
      "\n",
      "Convenience sample:  [20.363636363636363, 2.3835338181818178]\n",
      "Full sample:  [26.536585365853657, 4.269775766260173]\n"
     ]
    }
   ],
   "source": [
    "print(\"Average age and salaries for each random sample\")\n",
    "print(\"Random sample one: \", compute_statistics(random_sample_one))\n",
    "print(\"Random sample two: \", compute_statistics(random_sample_two))\n",
    "print(\"Random sample three: \", compute_statistics(random_sample_three))\n",
    "print()\n",
    "print(\"Convenience sample: \", compute_statistics(convenience_sample))\n",
    "print(\"Full sample: \", compute_statistics(full_data))"
   ]
  },
  {
   "cell_type": "markdown",
   "metadata": {
    "id": "n-IHhfhDpnvD"
   },
   "source": [
    "Compared to the convenience sample, all random samples have average age and average salaaries very close to the average age and salary of full data. The random samples are good representatives of the full data."
   ]
  },
  {
   "cell_type": "markdown",
   "metadata": {
    "id": "wXwFs4nQpnvE"
   },
   "source": [
    "**Question 7:** As in the previous question, produce 3 simple random samples of size 100 from `full_data`, plot salary histograms for each one and answer the following questions: \n",
    "- Do the histogram shapes seem to change more or less across samples of 100 than across samples of size 45?  \n",
    "- Are the sample averages and histograms closer to their true values/shape for age or for salary?  What did you expect to see?\n",
    "\n"
   ]
  },
  {
   "cell_type": "code",
   "execution_count": 15,
   "metadata": {
    "colab": {
     "base_uri": "https://localhost:8080/",
     "height": 670
    },
    "executionInfo": {
     "elapsed": 4089,
     "status": "ok",
     "timestamp": 1601174380040,
     "user": {
      "displayName": "Prabin Sapkota",
      "photoUrl": "https://lh6.googleusercontent.com/-doP6HgypWoA/AAAAAAAAAAI/AAAAAAAAADs/IVE1vPXCX6U/s64/photo.jpg",
      "userId": "10525827673897210712"
     },
     "user_tz": 240
    },
    "id": "vYD3qx9PpnvE",
    "outputId": "c9259f28-723b-4283-be02-65a4f9adef05"
   },
   "outputs": [
    {
     "data": {
      "image/png": "[encoded data removed]",
      "text/plain": [
       "<Figure size 1440x720 with 1 Axes>"
      ]
     },
     "metadata": {},
     "output_type": "display_data"
    }
   ],
   "source": [
    "# This cell should contain your code\n",
    "random_sample_four = full_data.sample(100)\n",
    "random_sample_five = full_data.sample(100)\n",
    "random_sample_six = full_data.sample(100)\n",
    "\n",
    "salaries_histogram(random_sample_four[\"Salary\"])"
   ]
  },
  {
   "cell_type": "code",
   "execution_count": 16,
   "metadata": {
    "colab": {
     "base_uri": "https://localhost:8080/",
     "height": 670
    },
    "executionInfo": {
     "elapsed": 4585,
     "status": "ok",
     "timestamp": 1601174380557,
     "user": {
      "displayName": "Prabin Sapkota",
      "photoUrl": "https://lh6.googleusercontent.com/-doP6HgypWoA/AAAAAAAAAAI/AAAAAAAAADs/IVE1vPXCX6U/s64/photo.jpg",
      "userId": "10525827673897210712"
     },
     "user_tz": 240
    },
    "id": "JTCUDs9yBK5a",
    "outputId": "1f8e51dc-7960-45e5-8150-0316cd9c0550"
   },
   "outputs": [
    {
     "data": {
      "image/png": "[encoded data removed]",
      "text/plain": [
       "<Figure size 1440x720 with 1 Axes>"
      ]
     },
     "metadata": {},
     "output_type": "display_data"
    }
   ],
   "source": [
    "salaries_histogram(random_sample_five[\"Salary\"])"
   ]
  },
  {
   "cell_type": "code",
   "execution_count": 17,
   "metadata": {
    "colab": {
     "base_uri": "https://localhost:8080/",
     "height": 670
    },
    "executionInfo": {
     "elapsed": 5070,
     "status": "ok",
     "timestamp": 1601174381065,
     "user": {
      "displayName": "Prabin Sapkota",
      "photoUrl": "https://lh6.googleusercontent.com/-doP6HgypWoA/AAAAAAAAAAI/AAAAAAAAADs/IVE1vPXCX6U/s64/photo.jpg",
      "userId": "10525827673897210712"
     },
     "user_tz": 240
    },
    "id": "_Blmst8GBLOA",
    "outputId": "6f0d9933-b3df-4fa3-cc76-f869cf45c55c"
   },
   "outputs": [
    {
     "data": {
      "image/png": "[encoded data removed]",
      "text/plain": [
       "<Figure size 1440x720 with 1 Axes>"
      ]
     },
     "metadata": {},
     "output_type": "display_data"
    }
   ],
   "source": [
    "salaries_histogram(random_sample_six[\"Salary\"])"
   ]
  },
  {
   "cell_type": "code",
   "execution_count": 18,
   "metadata": {
    "colab": {
     "base_uri": "https://localhost:8080/",
     "height": 141
    },
    "executionInfo": {
     "elapsed": 5056,
     "status": "ok",
     "timestamp": 1601174381066,
     "user": {
      "displayName": "Prabin Sapkota",
      "photoUrl": "https://lh6.googleusercontent.com/-doP6HgypWoA/AAAAAAAAAAI/AAAAAAAAADs/IVE1vPXCX6U/s64/photo.jpg",
      "userId": "10525827673897210712"
     },
     "user_tz": 240
    },
    "id": "iySWIeiwBMDh",
    "outputId": "492d24c6-1372-4f9b-bbe6-449b71abf0ed"
   },
   "outputs": [
    {
     "name": "stdout",
     "output_type": "stream",
     "text": [
      "Average age and salaries for each random sample\n",
      "Random sample four:  [26.62, 4.62579323]\n",
      "Random sample five:  [26.4, 4.38372952]\n",
      "Random sample six:  [26.96, 4.59627107]\n",
      "\n",
      "Convenience sample:  [20.363636363636363, 2.3835338181818178]\n",
      "Full sample:  [26.536585365853657, 4.269775766260173]\n"
     ]
    }
   ],
   "source": [
    "print(\"Average age and salaries for each random sample\")\n",
    "print(\"Random sample four: \", compute_statistics(random_sample_four))\n",
    "print(\"Random sample five: \", compute_statistics(random_sample_five))\n",
    "print(\"Random sample six: \", compute_statistics(random_sample_six))\n",
    "print()\n",
    "print(\"Convenience sample: \", compute_statistics(convenience_sample))\n",
    "print(\"Full sample: \", compute_statistics(full_data))"
   ]
  },
  {
   "cell_type": "markdown",
   "metadata": {
    "id": "2tUsTks9pnvG"
   },
   "source": [
    "Answer: The histogram shapes are more consistent across the samples of 100 than when the samples of 45. The histogram shapes are more close to the full sample histogram shape. For larger samples, I expected to see consistent and closer to real values of the average age and average salary. For average age, the consistency and accuracy were more or less similar but  for average salary, there is more consistency across large sample size and the values are closer to actual average salary of the full sample."
   ]
  },
  {
   "cell_type": "markdown",
   "metadata": {
    "id": "SnV10O-CpnvG"
   },
   "source": [
    "### Systematic Sampling\n",
    "\n",
    "**Systematic sampling** is a type of probability sampling method in which sample members from a larger population are selected according to a random starting point but with a fixed, periodic interval.\n",
    "\n",
    "**Note:** Since the periodic interval is determined beforehand and the starting point is random, systematic sampling is a kind of *random sampling*"
   ]
  },
  {
   "cell_type": "markdown",
   "metadata": {
    "id": "Y_D4QWGrpnvH"
   },
   "source": [
    "**Question 8:** Write a function called `systematic_sample` that creates a sample from `full_data` systematically, and returns it."
   ]
  },
  {
   "cell_type": "code",
   "execution_count": 19,
   "metadata": {
    "id": "GNlhTGtlpnvH"
   },
   "outputs": [],
   "source": [
    "\"\"\"Choose a random start among rows 0 through 9;\n",
    "then take every 5th row.\"\"\"\n",
    "\n",
    "def systematic_sample(table):\n",
    "    random_start = np.random.randint(low=0, high=10)\n",
    "    index = 0\n",
    "    sample = pd.DataFrame(columns=['PlayerName', 'Salary', 'Age', 'Team', 'Games', 'Rebounds', 'Assists', 'Steals', 'Blocks', 'Turnovers', 'Points'])\n",
    "    for i in range(random_start, full_data.shape[0], 5):\n",
    "      sample.loc[index] = table.iloc[i]\n",
    "      index += 1\n",
    "    return sample \n",
    "\n",
    "systematic_sample_one = systematic_sample(full_data)\n",
    "systematic_sample_two = systematic_sample(full_data)\n",
    "systematic_sample_three = systematic_sample(full_data)"
   ]
  },
  {
   "cell_type": "markdown",
   "metadata": {
    "id": "UHZ6i2ENpnvJ"
   },
   "source": [
    "**Question 9:** Using the code from above, produce 3 systematic samples from `full_data`, plot salary histograms for each one and answer the following questions:\n",
    "\n",
    "- Do the 3 histograms created resemble one another, or are they entirely different ?\n",
    "- How do your histograms compare to the salary histogram from `full_data`"
   ]
  },
  {
   "cell_type": "code",
   "execution_count": 20,
   "metadata": {
    "colab": {
     "base_uri": "https://localhost:8080/",
     "height": 670
    },
    "executionInfo": {
     "elapsed": 854,
     "status": "ok",
     "timestamp": 1601176556144,
     "user": {
      "displayName": "Prabin Sapkota",
      "photoUrl": "https://lh6.googleusercontent.com/-doP6HgypWoA/AAAAAAAAAAI/AAAAAAAAADs/IVE1vPXCX6U/s64/photo.jpg",
      "userId": "10525827673897210712"
     },
     "user_tz": 240
    },
    "id": "yR9CRLmzpnvK",
    "outputId": "f3288bdb-e9ec-441c-b738-d89d0d24e67e"
   },
   "outputs": [
    {
     "data": {
      "image/png": "[encoded data removed]",
      "text/plain": [
       "<Figure size 1440x720 with 1 Axes>"
      ]
     },
     "metadata": {},
     "output_type": "display_data"
    }
   ],
   "source": [
    "# This cell should contain your code\n",
    "salaries_histogram(systematic_sample_one[\"Salary\"])"
   ]
  },
  {
   "cell_type": "code",
   "execution_count": 21,
   "metadata": {
    "colab": {
     "base_uri": "https://localhost:8080/",
     "height": 670
    },
    "executionInfo": {
     "elapsed": 744,
     "status": "ok",
     "timestamp": 1601176559098,
     "user": {
      "displayName": "Prabin Sapkota",
      "photoUrl": "https://lh6.googleusercontent.com/-doP6HgypWoA/AAAAAAAAAAI/AAAAAAAAADs/IVE1vPXCX6U/s64/photo.jpg",
      "userId": "10525827673897210712"
     },
     "user_tz": 240
    },
    "id": "Fg5HKvHJjeNz",
    "outputId": "11dd1156-f091-4b31-ef99-74b4ab9e5742"
   },
   "outputs": [
    {
     "data": {
      "image/png": "[encoded data removed]",
      "text/plain": [
       "<Figure size 1440x720 with 1 Axes>"
      ]
     },
     "metadata": {},
     "output_type": "display_data"
    }
   ],
   "source": [
    "salaries_histogram(systematic_sample_two[\"Salary\"])"
   ]
  },
  {
   "cell_type": "code",
   "execution_count": 22,
   "metadata": {
    "colab": {
     "base_uri": "https://localhost:8080/",
     "height": 670
    },
    "executionInfo": {
     "elapsed": 1590,
     "status": "ok",
     "timestamp": 1601176563847,
     "user": {
      "displayName": "Prabin Sapkota",
      "photoUrl": "https://lh6.googleusercontent.com/-doP6HgypWoA/AAAAAAAAAAI/AAAAAAAAADs/IVE1vPXCX6U/s64/photo.jpg",
      "userId": "10525827673897210712"
     },
     "user_tz": 240
    },
    "id": "qK5vk9LEje4I",
    "outputId": "f7fdfbdc-2ed7-4275-ca4f-b6f7551f526f"
   },
   "outputs": [
    {
     "data": {
      "image/png": "[encoded data removed]",
      "text/plain": [
       "<Figure size 1440x720 with 1 Axes>"
      ]
     },
     "metadata": {},
     "output_type": "display_data"
    }
   ],
   "source": [
    "salaries_histogram(systematic_sample_three[\"Salary\"])"
   ]
  },
  {
   "cell_type": "markdown",
   "metadata": {
    "id": "eOLSghInpnvL"
   },
   "source": [
    "Answer: The three histograms are very consistent with each other as well as the histogram created using the full sample."
   ]
  },
  {
   "cell_type": "markdown",
   "metadata": {
    "id": "UChvpoEfpnvM"
   },
   "source": [
    "## 2. Parameters and Statistics with Earthquakes\n",
    "The next cell loads a table containing information about **every earthquake with a magnitude above 5** in 2019 (smaller earthquakes are generally not felt, only recorded by very sensitive equipment), compiled by the US Geological Survey. (source: https://earthquake.usgs.gov/earthquakes/search/)"
   ]
  },
  {
   "cell_type": "code",
   "execution_count": 23,
   "metadata": {
    "colab": {
     "base_uri": "https://localhost:8080/",
     "height": 406
    },
    "executionInfo": {
     "elapsed": 1171,
     "status": "ok",
     "timestamp": 1601176769336,
     "user": {
      "displayName": "Prabin Sapkota",
      "photoUrl": "https://lh6.googleusercontent.com/-doP6HgypWoA/AAAAAAAAAAI/AAAAAAAAADs/IVE1vPXCX6U/s64/photo.jpg",
      "userId": "10525827673897210712"
     },
     "user_tz": 240
    },
    "id": "scDH9SsMpnvM",
    "outputId": "e2cbbc80-0185-4d66-d6cd-827e1e7a51a4"
   },
   "outputs": [
    {
     "data": {
      "text/html": [
       "<div>\n",
       "<style scoped>\n",
       "    .dataframe tbody tr th:only-of-type {\n",
       "        vertical-align: middle;\n",
       "    }\n",
       "\n",
       "    .dataframe tbody tr th {\n",
       "        vertical-align: top;\n",
       "    }\n",
       "\n",
       "    .dataframe thead th {\n",
       "        text-align: right;\n",
       "    }\n",
       "</style>\n",
       "<table border=\"1\" class=\"dataframe\">\n",
       "  <thead>\n",
       "    <tr style=\"text-align: right;\">\n",
       "      <th></th>\n",
       "      <th>Time</th>\n",
       "      <th>Magnitude</th>\n",
       "      <th>Place</th>\n",
       "    </tr>\n",
       "  </thead>\n",
       "  <tbody>\n",
       "    <tr>\n",
       "      <th>0</th>\n",
       "      <td>2019-12-31T11:22:49.734Z</td>\n",
       "      <td>5.0</td>\n",
       "      <td>245km S of L'Esperance Rock, New Zealand</td>\n",
       "    </tr>\n",
       "    <tr>\n",
       "      <th>1</th>\n",
       "      <td>2019-12-30T17:49:59.468Z</td>\n",
       "      <td>5.0</td>\n",
       "      <td>37km NNW of Idgah, Pakistan</td>\n",
       "    </tr>\n",
       "    <tr>\n",
       "      <th>2</th>\n",
       "      <td>2019-12-30T17:18:57.350Z</td>\n",
       "      <td>5.5</td>\n",
       "      <td>34km NW of Idgah, Pakistan</td>\n",
       "    </tr>\n",
       "    <tr>\n",
       "      <th>3</th>\n",
       "      <td>2019-12-30T13:49:45.227Z</td>\n",
       "      <td>5.4</td>\n",
       "      <td>33km NE of Bandar 'Abbas, Iran</td>\n",
       "    </tr>\n",
       "    <tr>\n",
       "      <th>4</th>\n",
       "      <td>2019-12-30T04:11:09.987Z</td>\n",
       "      <td>5.2</td>\n",
       "      <td>103km NE of Chichi-shima, Japan</td>\n",
       "    </tr>\n",
       "    <tr>\n",
       "      <th>...</th>\n",
       "      <td>...</td>\n",
       "      <td>...</td>\n",
       "      <td>...</td>\n",
       "    </tr>\n",
       "    <tr>\n",
       "      <th>1631</th>\n",
       "      <td>2019-01-02T07:59:50.040Z</td>\n",
       "      <td>5.0</td>\n",
       "      <td>183km WNW of Abepura, Indonesia</td>\n",
       "    </tr>\n",
       "    <tr>\n",
       "      <th>1632</th>\n",
       "      <td>2019-01-02T03:12:54.750Z</td>\n",
       "      <td>5.0</td>\n",
       "      <td>71km WSW of Sangiyn Dalay, Mongolia</td>\n",
       "    </tr>\n",
       "    <tr>\n",
       "      <th>1633</th>\n",
       "      <td>2019-01-01T20:24:36.330Z</td>\n",
       "      <td>5.1</td>\n",
       "      <td>107km SSE of Muara Siberut, Indonesia</td>\n",
       "    </tr>\n",
       "    <tr>\n",
       "      <th>1634</th>\n",
       "      <td>2019-01-01T16:25:36.300Z</td>\n",
       "      <td>5.0</td>\n",
       "      <td>98km SSE of Habibola, Indonesia</td>\n",
       "    </tr>\n",
       "    <tr>\n",
       "      <th>1635</th>\n",
       "      <td>2019-01-01T03:03:30.604Z</td>\n",
       "      <td>5.0</td>\n",
       "      <td>9km NNW of Anchorage, Alaska</td>\n",
       "    </tr>\n",
       "  </tbody>\n",
       "</table>\n",
       "<p>1636 rows × 3 columns</p>\n",
       "</div>"
      ],
      "text/plain": [
       "                          Time  Magnitude  \\\n",
       "0     2019-12-31T11:22:49.734Z        5.0   \n",
       "1     2019-12-30T17:49:59.468Z        5.0   \n",
       "2     2019-12-30T17:18:57.350Z        5.5   \n",
       "3     2019-12-30T13:49:45.227Z        5.4   \n",
       "4     2019-12-30T04:11:09.987Z        5.2   \n",
       "...                        ...        ...   \n",
       "1631  2019-01-02T07:59:50.040Z        5.0   \n",
       "1632  2019-01-02T03:12:54.750Z        5.0   \n",
       "1633  2019-01-01T20:24:36.330Z        5.1   \n",
       "1634  2019-01-01T16:25:36.300Z        5.0   \n",
       "1635  2019-01-01T03:03:30.604Z        5.0   \n",
       "\n",
       "                                         Place  \n",
       "0     245km S of L'Esperance Rock, New Zealand  \n",
       "1                  37km NNW of Idgah, Pakistan  \n",
       "2                   34km NW of Idgah, Pakistan  \n",
       "3               33km NE of Bandar 'Abbas, Iran  \n",
       "4              103km NE of Chichi-shima, Japan  \n",
       "...                                        ...  \n",
       "1631           183km WNW of Abepura, Indonesia  \n",
       "1632       71km WSW of Sangiyn Dalay, Mongolia  \n",
       "1633     107km SSE of Muara Siberut, Indonesia  \n",
       "1634           98km SSE of Habibola, Indonesia  \n",
       "1635              9km NNW of Anchorage, Alaska  \n",
       "\n",
       "[1636 rows x 3 columns]"
      ]
     },
     "execution_count": 23,
     "metadata": {},
     "output_type": "execute_result"
    }
   ],
   "source": [
    "earthquakes = pd.read_csv('earthquakes_2019.csv')\n",
    "earthquakes = earthquakes.filter(items = ['time', 'mag', 'place'])\n",
    "earthquakes = earthquakes.rename(columns = {'time':'Time','mag':'Magnitude','place':'Place'})\n",
    "earthquakes"
   ]
  },
  {
   "cell_type": "markdown",
   "metadata": {
    "id": "AwKcuGGtpnvO"
   },
   "source": [
    "If we were studying all human-detectable 2019 earthquakes and had access to the above data, we’d be in good shape - however, if the USGS didn’t publish the full data, we could still learn something about earthquakes from just a smaller subsample. If we gathered our sample correctly, we could use that subsample to get an idea about the distribution of magnitudes (above 5, of course) throughout the year!\n",
    "\n",
    "In the following lines of code, we will compare the parameters of the `earthquakes` mean and median to the respective statistics of two different samples from the `earthquake` table."
   ]
  },
  {
   "cell_type": "markdown",
   "metadata": {
    "id": "7VhCs123pnvO"
   },
   "source": [
    "**Question 1:** First, start by computing the mean and median magnitudes for the  `earthquakes` dataset.\n",
    "\n",
    "**Note:** Put your values in an array"
   ]
  },
  {
   "cell_type": "code",
   "execution_count": 24,
   "metadata": {
    "colab": {
     "base_uri": "https://localhost:8080/",
     "height": 34
    },
    "executionInfo": {
     "elapsed": 813,
     "status": "ok",
     "timestamp": 1601182721174,
     "user": {
      "displayName": "Prabin Sapkota",
      "photoUrl": "https://lh6.googleusercontent.com/-doP6HgypWoA/AAAAAAAAAAI/AAAAAAAAADs/IVE1vPXCX6U/s64/photo.jpg",
      "userId": "10525827673897210712"
     },
     "user_tz": 240
    },
    "id": "ODWYVqQ1pnvO",
    "outputId": "46735f52-72b2-4e70-b0d9-451b9a1c8762"
   },
   "outputs": [
    {
     "name": "stdout",
     "output_type": "stream",
     "text": [
      "Mean and mediam magnitudes of earthquakes:  [5.33194987775064, 5.2]\n"
     ]
    }
   ],
   "source": [
    "# sort and reset index\n",
    "def find_mean_and_median(earthquakes):\n",
    "  earthquakes = earthquakes.sort_values(by=[\"Magnitude\"], ascending=True)\n",
    "  earthquakes = earthquakes.reset_index(drop=True)\n",
    "\n",
    "  mean_magnitude = sum(earthquakes[\"Magnitude\"]/len(earthquakes[\"Magnitude\"]))\n",
    "  median_pos = (earthquakes.shape[0]+1)/2\n",
    "  median_magnitude = earthquakes.iloc[int(median_pos),1] + ((median_pos-int(median_pos)) * (earthquakes.iloc[int(median_pos)+1,1]-earthquakes.iloc[int(median_pos),1]))\n",
    "  earthquake_mean_and_median = [mean_magnitude, median_magnitude]\n",
    "  return earthquake_mean_and_median\n",
    "\n",
    "print(\"Mean and mediam magnitudes of earthquakes: \", find_mean_and_median(earthquakes))\n"
   ]
  },
  {
   "cell_type": "markdown",
   "metadata": {
    "id": "LAlw-6CqpnvQ"
   },
   "source": [
    "**Question 2:** Write a function that creates a percent distribution histogram for the magnitudes on the `earthquakes` dataset."
   ]
  },
  {
   "cell_type": "code",
   "execution_count": 25,
   "metadata": {
    "colab": {
     "base_uri": "https://localhost:8080/",
     "height": 667
    },
    "executionInfo": {
     "elapsed": 877,
     "status": "ok",
     "timestamp": 1601181593786,
     "user": {
      "displayName": "Prabin Sapkota",
      "photoUrl": "https://lh6.googleusercontent.com/-doP6HgypWoA/AAAAAAAAAAI/AAAAAAAAADs/IVE1vPXCX6U/s64/photo.jpg",
      "userId": "10525827673897210712"
     },
     "user_tz": 240
    },
    "id": "426l7YDOpnvQ",
    "outputId": "bd31051a-db0a-4b14-a7f8-f3e20fbafffa"
   },
   "outputs": [
    {
     "data": {
      "image/png": "[encoded data removed]",
      "text/plain": [
       "<Figure size 1440x720 with 1 Axes>"
      ]
     },
     "metadata": {},
     "output_type": "display_data"
    }
   ],
   "source": [
    "def earthquake_histogram(table):\n",
    "    magnitudes = table['Magnitude']\n",
    "    magnitude_bins = np.arange(min(magnitudes), max(magnitudes) + 2, 1) \n",
    "    plt.figure(figsize=(20,10))\n",
    "    plt.hist(table.Magnitude, magnitude_bins, density=True, edgecolor = 'black', linewidth = 1.2) # denisty parameter gives us a relative distribution value\n",
    "    plt.title('Earthquake Magnitude Distribution')\n",
    "    plt.xlabel(\"Magnitude\")\n",
    "    plt.ylabel(\"Frequency\")\n",
    "    plt.show()\n",
    "    \n",
    "earthquake_histogram(earthquakes)"
   ]
  },
  {
   "cell_type": "markdown",
   "metadata": {
    "id": "Wn1etu9SpnvS"
   },
   "source": [
    "**Question 3:** Take 2 samples with a sampling size of 100 from the earthquakes dataset and store them in tables."
   ]
  },
  {
   "cell_type": "code",
   "execution_count": 26,
   "metadata": {
    "executionInfo": {
     "elapsed": 536,
     "status": "ok",
     "timestamp": 1601181711333,
     "user": {
      "displayName": "Prabin Sapkota",
      "photoUrl": "https://lh6.googleusercontent.com/-doP6HgypWoA/AAAAAAAAAAI/AAAAAAAAADs/IVE1vPXCX6U/s64/photo.jpg",
      "userId": "10525827673897210712"
     },
     "user_tz": 240
    },
    "id": "KWUIqAU5pnvS"
   },
   "outputs": [],
   "source": [
    "sample1 = earthquakes.sample(n=100)\n",
    "sample2 = earthquakes.sample(n=100)"
   ]
  },
  {
   "cell_type": "markdown",
   "metadata": {
    "id": "JcAWIJpApnvb"
   },
   "source": [
    "**Question 4:** Compute the mean and median magnitudes from your samples, and answer the following questions:\n",
    "   - How do the mean and median statistics compare to the actual parameter ? Is one sample's set of statistics higher or lower to the actual parameter ?\n",
    "   \n",
    "- Which numerical characteristic is better to use in this situation ? The mean or median ? Does it make a difference or not ?\n",
    "\n",
    "**Note:** Put your values in an array"
   ]
  },
  {
   "cell_type": "code",
   "execution_count": 27,
   "metadata": {
    "colab": {
     "base_uri": "https://localhost:8080/",
     "height": 52
    },
    "executionInfo": {
     "elapsed": 602,
     "status": "ok",
     "timestamp": 1601182799938,
     "user": {
      "displayName": "Prabin Sapkota",
      "photoUrl": "https://lh6.googleusercontent.com/-doP6HgypWoA/AAAAAAAAAAI/AAAAAAAAADs/IVE1vPXCX6U/s64/photo.jpg",
      "userId": "10525827673897210712"
     },
     "user_tz": 240
    },
    "id": "PB9PV_-Mpnvc",
    "outputId": "30cda982-719e-4bd7-b8ab-89a84a8daf62"
   },
   "outputs": [
    {
     "name": "stdout",
     "output_type": "stream",
     "text": [
      "Sample1 Mean and mediam magnitudes of earthquakes:  [5.286599999999998, 5.2]\n",
      "Sample2 Mean and mediam magnitudes of earthquakes:  [5.339400000000005, 5.15]\n"
     ]
    }
   ],
   "source": [
    "sample1_mean_and_median = find_mean_and_median(sample1)\n",
    "sample2_mean_and_median = find_mean_and_median(sample2)\n",
    "\n",
    "print(\"Sample1 Mean and mediam magnitudes of earthquakes: \", sample1_mean_and_median)\n",
    "print(\"Sample2 Mean and mediam magnitudes of earthquakes: \", sample2_mean_and_median)"
   ]
  },
  {
   "cell_type": "markdown",
   "metadata": {
    "id": "WUMD7OpJpnvh"
   },
   "source": [
    "Answer:\n",
    "\n",
    "*   The means of samples are very close to the mean of the total data. The medians of the samples are same/similar to the median of the total data. Currently, sample2's mean is higher than the actual mean.\n",
    "*   In this particuar case, it should not matter there are not many outliers in the data. Median might have been better if there were outliers as it would ignore the outliers. Median would also be better if there was a general skewness in data.\n",
    "\n"
   ]
  },
  {
   "cell_type": "markdown",
   "metadata": {
    "id": "3amS3w0epnvh"
   },
   "source": [
    "**Question 5:**  Write a function that simulates taking the mean from \"a sample size of 100\" **1000** times, stores the computations in an array, and then creates a percent distibution histogram from the array. Then answer the following question:\n",
    "- Based on the distribution of your means from your simulations, which value appears to occur the most ?\n",
    "- Does the value that occurs to appear the most within a reasonable range of the actual parameter. Why or why not ?"
   ]
  },
  {
   "cell_type": "code",
   "execution_count": 28,
   "metadata": {
    "colab": {
     "base_uri": "https://localhost:8080/",
     "height": 674
    },
    "executionInfo": {
     "elapsed": 2386,
     "status": "ok",
     "timestamp": 1601184516100,
     "user": {
      "displayName": "Prabin Sapkota",
      "photoUrl": "https://lh6.googleusercontent.com/-doP6HgypWoA/AAAAAAAAAAI/AAAAAAAAADs/IVE1vPXCX6U/s64/photo.jpg",
      "userId": "10525827673897210712"
     },
     "user_tz": 240
    },
    "id": "7g7LfYj8pnvi",
    "outputId": "65e83197-84d0-4388-b0b2-47dffb58bf3c"
   },
   "outputs": [
    {
     "data": {
      "image/png": "[encoded data removed]",
      "text/plain": [
       "<Figure size 1440x720 with 1 Axes>"
      ]
     },
     "metadata": {},
     "output_type": "display_data"
    }
   ],
   "source": [
    "def sample_mean_distribution(table):\n",
    "  mean_pool = []\n",
    "  for i in range(1000):\n",
    "    mean_and_median = find_mean_and_median(table.sample(100))\n",
    "    mean_pool.append(mean_and_median[0])\n",
    "\n",
    "  min_mean = int(min(mean_pool))\n",
    "  max_mean = int(max(mean_pool))+2\n",
    "  magnitude_bins = np.arange(min_mean, max_mean, 0.1) \n",
    "  plt.figure(figsize=(20,10))\n",
    "  plt.hist(mean_pool, magnitude_bins, density=True, edgecolor = 'black', linewidth = 1.2) # density parameter gives us a relative distribution value\n",
    "  plt.title('Earthquake Mean Magnitude Distribution')\n",
    "  plt.xlabel(\"Magnitude\")\n",
    "  plt.ylabel(\"Frequency\")\n",
    "  plt.show()\n",
    "    \n",
    "sample_mean_distribution(earthquakes)"
   ]
  },
  {
   "cell_type": "markdown",
   "metadata": {
    "id": "B7oLo5hypnvk"
   },
   "source": [
    "Answer:\n",
    "In the above histogram, the magnitudes 5.3-5.4 seem to occur most.\n",
    "\n",
    "It seems in line with the actual mean value of 5.33 magnitude. Therefore, this highest occuring range of magnitude is a reeasonable range."
   ]
  }
 ],
 "metadata": {
  "colab": {
   "collapsed_sections": [],
   "name": "Lab 7 - September 24.ipynb",
   "provenance": []
  },
  "kernelspec": {
   "display_name": "Python 3",
   "language": "python",
   "name": "python3"
  },
  "language_info": {
   "codemirror_mode": {
    "name": "ipython",
    "version": 3
   },
   "file_extension": ".py",
   "mimetype": "text/x-python",
   "name": "python",
   "nbconvert_exporter": "python",
   "pygments_lexer": "ipython3",
   "version": "3.8.6"
  }
 },
 "nbformat": 4,
 "nbformat_minor": 1
}
