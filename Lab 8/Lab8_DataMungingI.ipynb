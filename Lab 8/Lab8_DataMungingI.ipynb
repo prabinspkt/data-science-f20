{
 "cells": [
  {
   "cell_type": "markdown",
   "metadata": {
    "id": "oP_gKzvcWDG9"
   },
   "source": [
    "# What is Data Munging?\n",
    "Data wrangling, sometimes referred to as data munging, is the process of transforming and mapping data from one \"raw\" data form into another format with the intent of making it more appropriate and valuable for a variety of downstream purposes such as analytics.\n",
    "\n",
    "# Why Do We Need to Know How to Data Wrangle or Data Munge?\n",
    "“Even when they can get their hands on the right data, data scientists need to time to explore and understand it. The data may be in a format that can’t be easily analyzed, and with little to no metadata to help, the data scientist may need to seek advice from the data owner. After all this, the data still needs to be prepared for analysis. This involves formatting, cleaning and sampling the data. In some cases, scaling, decomposition and aggregation transformations are required before data scientists are ready to start training the models.”\n",
    "\n",
    "https://www.infoworld.com/article/3228245/the-80-20-data-science-dilemma.html\n",
    "\n",
    "# 80/20 Rule in Data Science\n",
    "“The reason data scientists are hired in the first place is to develop algorithms and build machine learning models—and these are typically the parts of the job that they enjoy most. Yet in most companies today, 80 percent of a data scientist’s valuable time is spent simply finding, cleaning and reorganizing huge amounts of data.” Only 20 percent of their time is spent on actual data analysis. Without the right tools, this task is insurmountable.\"\n",
    "https://www.infoworld.com/article/3228245/the-80-20-data-science-dilemma.html\n",
    "\n",
    "- Data Munging Part I: Working With Missing Values\n",
    "- Data Munging Part II: Put two datasets together to create one dataset\n",
    "\n",
    "\n",
    "# Lab 8 Data Munging: Part I\n",
    "\n",
    "In this lab we will learn how to do two things:\n",
    "\n",
    "1. Work with dataset that is missing values\n",
    "2. Use regex to remove html tags from your data\n",
    "\n",
    "For this lab, we'll need these libraries:\n",
    "\n",
    "1. Pandas: We will need Pandas to navigate our dataframe and check for each column’s data type, null values, and unique values.\n",
    "2. NumPy: This package is essential for any data science project. It has a lot of mathematical functions that operate on multi-dimensional arrays and data frames.\n",
    "3. Matplotlib & Seaborn: They are plotting and graphing libraries that we will use to visualize data in an intuitive way.\n",
    "\n",
    "Note: regex are tricky. Practice regex more using other tutorials like those at datacamp and tutorialspoint\n"
   ]
  },
  {
   "cell_type": "code",
   "execution_count": 1,
   "metadata": {
    "executionInfo": {
     "elapsed": 481,
     "status": "ok",
     "timestamp": 1605378852516,
     "user": {
      "displayName": "Prabin Sapkota",
      "photoUrl": "https://lh6.googleusercontent.com/-doP6HgypWoA/AAAAAAAAAAI/AAAAAAAAADs/IVE1vPXCX6U/s64/photo.jpg",
      "userId": "10525827673897210712"
     },
     "user_tz": 300
    },
    "id": "DZUcfLclWDG-"
   },
   "outputs": [],
   "source": [
    "import pandas            as pd\n",
    "import numpy             as np\n",
    "import matplotlib.pyplot as plt\n",
    "import seaborn           as sns"
   ]
  },
  {
   "cell_type": "markdown",
   "metadata": {
    "id": "-XdzB-9RWDHB"
   },
   "source": [
    "# Loading the Data\n",
    "Let’s load our data\n",
    "\n",
    "# Question 1. Write the code to load in the jeopardy.csv into your Notebook\n",
    "# Question 1a. Write the shape function to view the total rows and columns in your data\n",
    "Note: You should upload your jeopardy.csv into its own folder caleld data OR\n",
    "upload it into it's current folder"
   ]
  },
  {
   "cell_type": "code",
   "execution_count": 2,
   "metadata": {
    "colab": {
     "base_uri": "https://localhost:8080/",
     "height": 406
    },
    "executionInfo": {
     "elapsed": 1208,
     "status": "ok",
     "timestamp": 1605378853254,
     "user": {
      "displayName": "Prabin Sapkota",
      "photoUrl": "https://lh6.googleusercontent.com/-doP6HgypWoA/AAAAAAAAAAI/AAAAAAAAADs/IVE1vPXCX6U/s64/photo.jpg",
      "userId": "10525827673897210712"
     },
     "user_tz": 300
    },
    "id": "VTEk1DSIWDHC",
    "outputId": "7b1fbac6-c8eb-4467-c597-0cb0e2eb2e5b"
   },
   "outputs": [
    {
     "data": {
      "text/html": [
       "<div>\n",
       "<style scoped>\n",
       "    .dataframe tbody tr th:only-of-type {\n",
       "        vertical-align: middle;\n",
       "    }\n",
       "\n",
       "    .dataframe tbody tr th {\n",
       "        vertical-align: top;\n",
       "    }\n",
       "\n",
       "    .dataframe thead th {\n",
       "        text-align: right;\n",
       "    }\n",
       "</style>\n",
       "<table border=\"1\" class=\"dataframe\">\n",
       "  <thead>\n",
       "    <tr style=\"text-align: right;\">\n",
       "      <th></th>\n",
       "      <th>Show Number</th>\n",
       "      <th>Air Date</th>\n",
       "      <th>Round</th>\n",
       "      <th>Category</th>\n",
       "      <th>Value</th>\n",
       "      <th>Question</th>\n",
       "      <th>Answer</th>\n",
       "    </tr>\n",
       "  </thead>\n",
       "  <tbody>\n",
       "    <tr>\n",
       "      <th>0</th>\n",
       "      <td>4680</td>\n",
       "      <td>12/31/04</td>\n",
       "      <td>Jeopardy!</td>\n",
       "      <td>HISTORY</td>\n",
       "      <td>$200</td>\n",
       "      <td>For the last 8 years of his life, Galileo was ...</td>\n",
       "      <td>Copernicus</td>\n",
       "    </tr>\n",
       "    <tr>\n",
       "      <th>1</th>\n",
       "      <td>4680</td>\n",
       "      <td>12/31/04</td>\n",
       "      <td>Jeopardy!</td>\n",
       "      <td>ESPN's TOP 10 ALL-TIME ATHLETES</td>\n",
       "      <td>$200</td>\n",
       "      <td>No. 2: 1912 Olympian; football star at Carlisl...</td>\n",
       "      <td>Jim Thorpe</td>\n",
       "    </tr>\n",
       "    <tr>\n",
       "      <th>2</th>\n",
       "      <td>4680</td>\n",
       "      <td>12/31/04</td>\n",
       "      <td>Jeopardy!</td>\n",
       "      <td>EVERYBODY TALKS ABOUT IT...</td>\n",
       "      <td>$200</td>\n",
       "      <td>The city of Yuma in this state has a record av...</td>\n",
       "      <td>Arizona</td>\n",
       "    </tr>\n",
       "    <tr>\n",
       "      <th>3</th>\n",
       "      <td>4680</td>\n",
       "      <td>12/31/04</td>\n",
       "      <td>Jeopardy!</td>\n",
       "      <td>THE COMPANY LINE</td>\n",
       "      <td>$200</td>\n",
       "      <td>In 1963, live on \"The Art Linkletter Show\", th...</td>\n",
       "      <td>McDonald's</td>\n",
       "    </tr>\n",
       "    <tr>\n",
       "      <th>4</th>\n",
       "      <td>4680</td>\n",
       "      <td>12/31/04</td>\n",
       "      <td>Jeopardy!</td>\n",
       "      <td>EPITAPHS &amp; TRIBUTES</td>\n",
       "      <td>$200</td>\n",
       "      <td>Signer of the Dec. of Indep., framer of the Co...</td>\n",
       "      <td>John Adams</td>\n",
       "    </tr>\n",
       "    <tr>\n",
       "      <th>...</th>\n",
       "      <td>...</td>\n",
       "      <td>...</td>\n",
       "      <td>...</td>\n",
       "      <td>...</td>\n",
       "      <td>...</td>\n",
       "      <td>...</td>\n",
       "      <td>...</td>\n",
       "    </tr>\n",
       "    <tr>\n",
       "      <th>19994</th>\n",
       "      <td>3582</td>\n",
       "      <td>3/14/00</td>\n",
       "      <td>Jeopardy!</td>\n",
       "      <td>U.S. GEOGRAPHY</td>\n",
       "      <td>$200</td>\n",
       "      <td>Of 8, 12 or 18, the number of U.S. states that...</td>\n",
       "      <td>18</td>\n",
       "    </tr>\n",
       "    <tr>\n",
       "      <th>19995</th>\n",
       "      <td>3582</td>\n",
       "      <td>3/14/00</td>\n",
       "      <td>Jeopardy!</td>\n",
       "      <td>POP MUSIC PAIRINGS</td>\n",
       "      <td>$200</td>\n",
       "      <td>...&amp; the New Power Generation</td>\n",
       "      <td>Prince</td>\n",
       "    </tr>\n",
       "    <tr>\n",
       "      <th>19996</th>\n",
       "      <td>3582</td>\n",
       "      <td>3/14/00</td>\n",
       "      <td>Jeopardy!</td>\n",
       "      <td>HISTORIC PEOPLE</td>\n",
       "      <td>$200</td>\n",
       "      <td>In 1589 he was appointed professor of mathemat...</td>\n",
       "      <td>Galileo</td>\n",
       "    </tr>\n",
       "    <tr>\n",
       "      <th>19997</th>\n",
       "      <td>3582</td>\n",
       "      <td>3/14/00</td>\n",
       "      <td>Jeopardy!</td>\n",
       "      <td>1998 QUOTATIONS</td>\n",
       "      <td>$200</td>\n",
       "      <td>Before the grand jury she said, \"I'm really so...</td>\n",
       "      <td>Monica Lewinsky</td>\n",
       "    </tr>\n",
       "    <tr>\n",
       "      <th>19998</th>\n",
       "      <td>3582</td>\n",
       "      <td>3/14/00</td>\n",
       "      <td>Jeopardy!</td>\n",
       "      <td>LLAMA-RAMA</td>\n",
       "      <td>$200</td>\n",
       "      <td>Llamas are the heftiest South American members...</td>\n",
       "      <td>Camels</td>\n",
       "    </tr>\n",
       "  </tbody>\n",
       "</table>\n",
       "<p>19999 rows × 7 columns</p>\n",
       "</div>"
      ],
      "text/plain": [
       "       Show Number  Air Date      Round                         Category  \\\n",
       "0             4680  12/31/04  Jeopardy!                          HISTORY   \n",
       "1             4680  12/31/04  Jeopardy!  ESPN's TOP 10 ALL-TIME ATHLETES   \n",
       "2             4680  12/31/04  Jeopardy!      EVERYBODY TALKS ABOUT IT...   \n",
       "3             4680  12/31/04  Jeopardy!                 THE COMPANY LINE   \n",
       "4             4680  12/31/04  Jeopardy!              EPITAPHS & TRIBUTES   \n",
       "...            ...       ...        ...                              ...   \n",
       "19994         3582   3/14/00  Jeopardy!                   U.S. GEOGRAPHY   \n",
       "19995         3582   3/14/00  Jeopardy!               POP MUSIC PAIRINGS   \n",
       "19996         3582   3/14/00  Jeopardy!                  HISTORIC PEOPLE   \n",
       "19997         3582   3/14/00  Jeopardy!                  1998 QUOTATIONS   \n",
       "19998         3582   3/14/00  Jeopardy!                       LLAMA-RAMA   \n",
       "\n",
       "       Value                                           Question  \\\n",
       "0      $200   For the last 8 years of his life, Galileo was ...   \n",
       "1      $200   No. 2: 1912 Olympian; football star at Carlisl...   \n",
       "2      $200   The city of Yuma in this state has a record av...   \n",
       "3      $200   In 1963, live on \"The Art Linkletter Show\", th...   \n",
       "4      $200   Signer of the Dec. of Indep., framer of the Co...   \n",
       "...      ...                                                ...   \n",
       "19994  $200   Of 8, 12 or 18, the number of U.S. states that...   \n",
       "19995  $200                       ...& the New Power Generation   \n",
       "19996  $200   In 1589 he was appointed professor of mathemat...   \n",
       "19997  $200   Before the grand jury she said, \"I'm really so...   \n",
       "19998  $200   Llamas are the heftiest South American members...   \n",
       "\n",
       "                Answer  \n",
       "0           Copernicus  \n",
       "1           Jim Thorpe  \n",
       "2              Arizona  \n",
       "3           McDonald's  \n",
       "4           John Adams  \n",
       "...                ...  \n",
       "19994               18  \n",
       "19995           Prince  \n",
       "19996          Galileo  \n",
       "19997  Monica Lewinsky  \n",
       "19998           Camels  \n",
       "\n",
       "[19999 rows x 7 columns]"
      ]
     },
     "execution_count": 2,
     "metadata": {},
     "output_type": "execute_result"
    }
   ],
   "source": [
    "jeopardy = pd.read_csv(\"jeopardy_df.csv\")\n",
    "jeopardy"
   ]
  },
  {
   "cell_type": "code",
   "execution_count": 3,
   "metadata": {
    "colab": {
     "base_uri": "https://localhost:8080/"
    },
    "executionInfo": {
     "elapsed": 1199,
     "status": "ok",
     "timestamp": 1605378853255,
     "user": {
      "displayName": "Prabin Sapkota",
      "photoUrl": "https://lh6.googleusercontent.com/-doP6HgypWoA/AAAAAAAAAAI/AAAAAAAAADs/IVE1vPXCX6U/s64/photo.jpg",
      "userId": "10525827673897210712"
     },
     "user_tz": 300
    },
    "id": "BOIRuvi0t1Mc",
    "outputId": "b05a244a-fd5c-44e1-eff3-228545a5750a"
   },
   "outputs": [
    {
     "data": {
      "text/plain": [
       "(19999, 7)"
      ]
     },
     "execution_count": 3,
     "metadata": {},
     "output_type": "execute_result"
    }
   ],
   "source": [
    "jeopardy.shape"
   ]
  },
  {
   "cell_type": "markdown",
   "metadata": {
    "id": "EF7--TY4WDHF"
   },
   "source": [
    "# Question 1b. Why might it be better to include all your data files under there own directory? Write the answer below.\n",
    "\n",
    "# todo\n",
    "It  is better to do so as this will be clean and modular and this also  reduces the chance of deleting the data file because we will immediately know where it is being used.\n",
    "\n",
    "\n",
    "Now let's take a look at the data\n",
    "\n",
    "# Question 2. Write the code that prints a summary of the dataframe"
   ]
  },
  {
   "cell_type": "code",
   "execution_count": 4,
   "metadata": {
    "colab": {
     "base_uri": "https://localhost:8080/",
     "height": 287
    },
    "executionInfo": {
     "elapsed": 1190,
     "status": "ok",
     "timestamp": 1605378853258,
     "user": {
      "displayName": "Prabin Sapkota",
      "photoUrl": "https://lh6.googleusercontent.com/-doP6HgypWoA/AAAAAAAAAAI/AAAAAAAAADs/IVE1vPXCX6U/s64/photo.jpg",
      "userId": "10525827673897210712"
     },
     "user_tz": 300
    },
    "id": "e5piDtWAWDHF",
    "outputId": "ad981c7d-15ee-4820-9578-422d8ec20d12"
   },
   "outputs": [
    {
     "data": {
      "text/html": [
       "<div>\n",
       "<style scoped>\n",
       "    .dataframe tbody tr th:only-of-type {\n",
       "        vertical-align: middle;\n",
       "    }\n",
       "\n",
       "    .dataframe tbody tr th {\n",
       "        vertical-align: top;\n",
       "    }\n",
       "\n",
       "    .dataframe thead th {\n",
       "        text-align: right;\n",
       "    }\n",
       "</style>\n",
       "<table border=\"1\" class=\"dataframe\">\n",
       "  <thead>\n",
       "    <tr style=\"text-align: right;\">\n",
       "      <th></th>\n",
       "      <th>Show Number</th>\n",
       "    </tr>\n",
       "  </thead>\n",
       "  <tbody>\n",
       "    <tr>\n",
       "      <th>count</th>\n",
       "      <td>19999.000000</td>\n",
       "    </tr>\n",
       "    <tr>\n",
       "      <th>mean</th>\n",
       "      <td>4312.730537</td>\n",
       "    </tr>\n",
       "    <tr>\n",
       "      <th>std</th>\n",
       "      <td>1374.121672</td>\n",
       "    </tr>\n",
       "    <tr>\n",
       "      <th>min</th>\n",
       "      <td>10.000000</td>\n",
       "    </tr>\n",
       "    <tr>\n",
       "      <th>25%</th>\n",
       "      <td>3393.000000</td>\n",
       "    </tr>\n",
       "    <tr>\n",
       "      <th>50%</th>\n",
       "      <td>4582.000000</td>\n",
       "    </tr>\n",
       "    <tr>\n",
       "      <th>75%</th>\n",
       "      <td>5431.000000</td>\n",
       "    </tr>\n",
       "    <tr>\n",
       "      <th>max</th>\n",
       "      <td>6294.000000</td>\n",
       "    </tr>\n",
       "  </tbody>\n",
       "</table>\n",
       "</div>"
      ],
      "text/plain": [
       "        Show Number\n",
       "count  19999.000000\n",
       "mean    4312.730537\n",
       "std     1374.121672\n",
       "min       10.000000\n",
       "25%     3393.000000\n",
       "50%     4582.000000\n",
       "75%     5431.000000\n",
       "max     6294.000000"
      ]
     },
     "execution_count": 4,
     "metadata": {},
     "output_type": "execute_result"
    }
   ],
   "source": [
    "jeopardy.describe()"
   ]
  },
  {
   "cell_type": "markdown",
   "metadata": {
    "id": "WK_zrg3hWDHI"
   },
   "source": [
    "# Question 3. Write the code that prints the first 25 rows of the dataframe"
   ]
  },
  {
   "cell_type": "code",
   "execution_count": 5,
   "metadata": {
    "colab": {
     "base_uri": "https://localhost:8080/",
     "height": 797
    },
    "executionInfo": {
     "elapsed": 1179,
     "status": "ok",
     "timestamp": 1605378853259,
     "user": {
      "displayName": "Prabin Sapkota",
      "photoUrl": "https://lh6.googleusercontent.com/-doP6HgypWoA/AAAAAAAAAAI/AAAAAAAAADs/IVE1vPXCX6U/s64/photo.jpg",
      "userId": "10525827673897210712"
     },
     "user_tz": 300
    },
    "id": "R1XMtGPOWDHI",
    "outputId": "2850246c-b9da-44a4-a90a-749227c2da20"
   },
   "outputs": [
    {
     "data": {
      "text/html": [
       "<div>\n",
       "<style scoped>\n",
       "    .dataframe tbody tr th:only-of-type {\n",
       "        vertical-align: middle;\n",
       "    }\n",
       "\n",
       "    .dataframe tbody tr th {\n",
       "        vertical-align: top;\n",
       "    }\n",
       "\n",
       "    .dataframe thead th {\n",
       "        text-align: right;\n",
       "    }\n",
       "</style>\n",
       "<table border=\"1\" class=\"dataframe\">\n",
       "  <thead>\n",
       "    <tr style=\"text-align: right;\">\n",
       "      <th></th>\n",
       "      <th>Show Number</th>\n",
       "      <th>Air Date</th>\n",
       "      <th>Round</th>\n",
       "      <th>Category</th>\n",
       "      <th>Value</th>\n",
       "      <th>Question</th>\n",
       "      <th>Answer</th>\n",
       "    </tr>\n",
       "  </thead>\n",
       "  <tbody>\n",
       "    <tr>\n",
       "      <th>0</th>\n",
       "      <td>4680</td>\n",
       "      <td>12/31/04</td>\n",
       "      <td>Jeopardy!</td>\n",
       "      <td>HISTORY</td>\n",
       "      <td>$200</td>\n",
       "      <td>For the last 8 years of his life, Galileo was ...</td>\n",
       "      <td>Copernicus</td>\n",
       "    </tr>\n",
       "    <tr>\n",
       "      <th>1</th>\n",
       "      <td>4680</td>\n",
       "      <td>12/31/04</td>\n",
       "      <td>Jeopardy!</td>\n",
       "      <td>ESPN's TOP 10 ALL-TIME ATHLETES</td>\n",
       "      <td>$200</td>\n",
       "      <td>No. 2: 1912 Olympian; football star at Carlisl...</td>\n",
       "      <td>Jim Thorpe</td>\n",
       "    </tr>\n",
       "    <tr>\n",
       "      <th>2</th>\n",
       "      <td>4680</td>\n",
       "      <td>12/31/04</td>\n",
       "      <td>Jeopardy!</td>\n",
       "      <td>EVERYBODY TALKS ABOUT IT...</td>\n",
       "      <td>$200</td>\n",
       "      <td>The city of Yuma in this state has a record av...</td>\n",
       "      <td>Arizona</td>\n",
       "    </tr>\n",
       "    <tr>\n",
       "      <th>3</th>\n",
       "      <td>4680</td>\n",
       "      <td>12/31/04</td>\n",
       "      <td>Jeopardy!</td>\n",
       "      <td>THE COMPANY LINE</td>\n",
       "      <td>$200</td>\n",
       "      <td>In 1963, live on \"The Art Linkletter Show\", th...</td>\n",
       "      <td>McDonald's</td>\n",
       "    </tr>\n",
       "    <tr>\n",
       "      <th>4</th>\n",
       "      <td>4680</td>\n",
       "      <td>12/31/04</td>\n",
       "      <td>Jeopardy!</td>\n",
       "      <td>EPITAPHS &amp; TRIBUTES</td>\n",
       "      <td>$200</td>\n",
       "      <td>Signer of the Dec. of Indep., framer of the Co...</td>\n",
       "      <td>John Adams</td>\n",
       "    </tr>\n",
       "    <tr>\n",
       "      <th>5</th>\n",
       "      <td>4680</td>\n",
       "      <td>12/31/04</td>\n",
       "      <td>Jeopardy!</td>\n",
       "      <td>3-LETTER WORDS</td>\n",
       "      <td>$200</td>\n",
       "      <td>In the title of an Aesop fable, this insect sh...</td>\n",
       "      <td>the ant</td>\n",
       "    </tr>\n",
       "    <tr>\n",
       "      <th>6</th>\n",
       "      <td>4680</td>\n",
       "      <td>12/31/04</td>\n",
       "      <td>Jeopardy!</td>\n",
       "      <td>HISTORY</td>\n",
       "      <td>$400</td>\n",
       "      <td>Built in 312 B.C. to link Rome &amp; the South of ...</td>\n",
       "      <td>the Appian Way</td>\n",
       "    </tr>\n",
       "    <tr>\n",
       "      <th>7</th>\n",
       "      <td>4680</td>\n",
       "      <td>12/31/04</td>\n",
       "      <td>Jeopardy!</td>\n",
       "      <td>ESPN's TOP 10 ALL-TIME ATHLETES</td>\n",
       "      <td>$400</td>\n",
       "      <td>No. 8: 30 steals for the Birmingham Barons; 2,...</td>\n",
       "      <td>Michael Jordan</td>\n",
       "    </tr>\n",
       "    <tr>\n",
       "      <th>8</th>\n",
       "      <td>4680</td>\n",
       "      <td>12/31/04</td>\n",
       "      <td>Jeopardy!</td>\n",
       "      <td>EVERYBODY TALKS ABOUT IT...</td>\n",
       "      <td>$400</td>\n",
       "      <td>In the winter of 1971-72, a record 1,122 inche...</td>\n",
       "      <td>Washington</td>\n",
       "    </tr>\n",
       "    <tr>\n",
       "      <th>9</th>\n",
       "      <td>4680</td>\n",
       "      <td>12/31/04</td>\n",
       "      <td>Jeopardy!</td>\n",
       "      <td>THE COMPANY LINE</td>\n",
       "      <td>$400</td>\n",
       "      <td>This housewares store was named for the packag...</td>\n",
       "      <td>Crate &amp; Barrel</td>\n",
       "    </tr>\n",
       "    <tr>\n",
       "      <th>10</th>\n",
       "      <td>4680</td>\n",
       "      <td>12/31/04</td>\n",
       "      <td>Jeopardy!</td>\n",
       "      <td>EPITAPHS &amp; TRIBUTES</td>\n",
       "      <td>$400</td>\n",
       "      <td>\"And away we go\"</td>\n",
       "      <td>Jackie Gleason</td>\n",
       "    </tr>\n",
       "    <tr>\n",
       "      <th>11</th>\n",
       "      <td>4680</td>\n",
       "      <td>12/31/04</td>\n",
       "      <td>Jeopardy!</td>\n",
       "      <td>3-LETTER WORDS</td>\n",
       "      <td>$400</td>\n",
       "      <td>Cows regurgitate this from the first stomach t...</td>\n",
       "      <td>the cud</td>\n",
       "    </tr>\n",
       "    <tr>\n",
       "      <th>12</th>\n",
       "      <td>4680</td>\n",
       "      <td>12/31/04</td>\n",
       "      <td>Jeopardy!</td>\n",
       "      <td>HISTORY</td>\n",
       "      <td>$600</td>\n",
       "      <td>In 1000 Rajaraja I of the Cholas battled to ta...</td>\n",
       "      <td>Ceylon (or Sri Lanka)</td>\n",
       "    </tr>\n",
       "    <tr>\n",
       "      <th>13</th>\n",
       "      <td>4680</td>\n",
       "      <td>12/31/04</td>\n",
       "      <td>Jeopardy!</td>\n",
       "      <td>ESPN's TOP 10 ALL-TIME ATHLETES</td>\n",
       "      <td>$600</td>\n",
       "      <td>No. 1: Lettered in hoops, football &amp; lacrosse ...</td>\n",
       "      <td>Jim Brown</td>\n",
       "    </tr>\n",
       "    <tr>\n",
       "      <th>14</th>\n",
       "      <td>4680</td>\n",
       "      <td>12/31/04</td>\n",
       "      <td>Jeopardy!</td>\n",
       "      <td>EVERYBODY TALKS ABOUT IT...</td>\n",
       "      <td>$600</td>\n",
       "      <td>On June 28, 1994 the nat'l weather service beg...</td>\n",
       "      <td>the UV index</td>\n",
       "    </tr>\n",
       "    <tr>\n",
       "      <th>15</th>\n",
       "      <td>4680</td>\n",
       "      <td>12/31/04</td>\n",
       "      <td>Jeopardy!</td>\n",
       "      <td>THE COMPANY LINE</td>\n",
       "      <td>$600</td>\n",
       "      <td>This company's Accutron watch, introduced in 1...</td>\n",
       "      <td>Bulova</td>\n",
       "    </tr>\n",
       "    <tr>\n",
       "      <th>16</th>\n",
       "      <td>4680</td>\n",
       "      <td>12/31/04</td>\n",
       "      <td>Jeopardy!</td>\n",
       "      <td>EPITAPHS &amp; TRIBUTES</td>\n",
       "      <td>$600</td>\n",
       "      <td>Outlaw: \"Murdered by a traitor and a coward wh...</td>\n",
       "      <td>Jesse James</td>\n",
       "    </tr>\n",
       "    <tr>\n",
       "      <th>17</th>\n",
       "      <td>4680</td>\n",
       "      <td>12/31/04</td>\n",
       "      <td>Jeopardy!</td>\n",
       "      <td>3-LETTER WORDS</td>\n",
       "      <td>$600</td>\n",
       "      <td>A small demon, or a mischievous child (who mig...</td>\n",
       "      <td>imp</td>\n",
       "    </tr>\n",
       "    <tr>\n",
       "      <th>18</th>\n",
       "      <td>4680</td>\n",
       "      <td>12/31/04</td>\n",
       "      <td>Jeopardy!</td>\n",
       "      <td>HISTORY</td>\n",
       "      <td>$800</td>\n",
       "      <td>Karl led the first of these Marxist organizati...</td>\n",
       "      <td>the International</td>\n",
       "    </tr>\n",
       "    <tr>\n",
       "      <th>19</th>\n",
       "      <td>4680</td>\n",
       "      <td>12/31/04</td>\n",
       "      <td>Jeopardy!</td>\n",
       "      <td>ESPN's TOP 10 ALL-TIME ATHLETES</td>\n",
       "      <td>$800</td>\n",
       "      <td>No. 10: FB/LB for Columbia U. in the 1920s; MV...</td>\n",
       "      <td>(Lou) Gehrig</td>\n",
       "    </tr>\n",
       "    <tr>\n",
       "      <th>20</th>\n",
       "      <td>4680</td>\n",
       "      <td>12/31/04</td>\n",
       "      <td>Jeopardy!</td>\n",
       "      <td>EVERYBODY TALKS ABOUT IT...</td>\n",
       "      <td>$800</td>\n",
       "      <td>Africa's lowest temperature was 11 degrees bel...</td>\n",
       "      <td>Morocco</td>\n",
       "    </tr>\n",
       "    <tr>\n",
       "      <th>21</th>\n",
       "      <td>4680</td>\n",
       "      <td>12/31/04</td>\n",
       "      <td>Jeopardy!</td>\n",
       "      <td>THE COMPANY LINE</td>\n",
       "      <td>$800</td>\n",
       "      <td>Edward Teller &amp; this man partnered in 1898 to ...</td>\n",
       "      <td>(Paul) Bonwit</td>\n",
       "    </tr>\n",
       "    <tr>\n",
       "      <th>22</th>\n",
       "      <td>4680</td>\n",
       "      <td>12/31/04</td>\n",
       "      <td>Jeopardy!</td>\n",
       "      <td>EPITAPHS &amp; TRIBUTES</td>\n",
       "      <td>$2,000</td>\n",
       "      <td>1939 Oscar winner: \"...you are a credit to you...</td>\n",
       "      <td>Hattie McDaniel (for her role in Gone with the...</td>\n",
       "    </tr>\n",
       "    <tr>\n",
       "      <th>23</th>\n",
       "      <td>4680</td>\n",
       "      <td>12/31/04</td>\n",
       "      <td>Jeopardy!</td>\n",
       "      <td>3-LETTER WORDS</td>\n",
       "      <td>$800</td>\n",
       "      <td>In geologic time one of these, shorter than an...</td>\n",
       "      <td>era</td>\n",
       "    </tr>\n",
       "    <tr>\n",
       "      <th>24</th>\n",
       "      <td>4680</td>\n",
       "      <td>12/31/04</td>\n",
       "      <td>Jeopardy!</td>\n",
       "      <td>HISTORY</td>\n",
       "      <td>$1,000</td>\n",
       "      <td>This Asian political party was founded in 1885...</td>\n",
       "      <td>the Congress Party</td>\n",
       "    </tr>\n",
       "  </tbody>\n",
       "</table>\n",
       "</div>"
      ],
      "text/plain": [
       "    Show Number  Air Date      Round                         Category  \\\n",
       "0          4680  12/31/04  Jeopardy!                          HISTORY   \n",
       "1          4680  12/31/04  Jeopardy!  ESPN's TOP 10 ALL-TIME ATHLETES   \n",
       "2          4680  12/31/04  Jeopardy!      EVERYBODY TALKS ABOUT IT...   \n",
       "3          4680  12/31/04  Jeopardy!                 THE COMPANY LINE   \n",
       "4          4680  12/31/04  Jeopardy!              EPITAPHS & TRIBUTES   \n",
       "5          4680  12/31/04  Jeopardy!                   3-LETTER WORDS   \n",
       "6          4680  12/31/04  Jeopardy!                          HISTORY   \n",
       "7          4680  12/31/04  Jeopardy!  ESPN's TOP 10 ALL-TIME ATHLETES   \n",
       "8          4680  12/31/04  Jeopardy!      EVERYBODY TALKS ABOUT IT...   \n",
       "9          4680  12/31/04  Jeopardy!                 THE COMPANY LINE   \n",
       "10         4680  12/31/04  Jeopardy!              EPITAPHS & TRIBUTES   \n",
       "11         4680  12/31/04  Jeopardy!                   3-LETTER WORDS   \n",
       "12         4680  12/31/04  Jeopardy!                          HISTORY   \n",
       "13         4680  12/31/04  Jeopardy!  ESPN's TOP 10 ALL-TIME ATHLETES   \n",
       "14         4680  12/31/04  Jeopardy!      EVERYBODY TALKS ABOUT IT...   \n",
       "15         4680  12/31/04  Jeopardy!                 THE COMPANY LINE   \n",
       "16         4680  12/31/04  Jeopardy!              EPITAPHS & TRIBUTES   \n",
       "17         4680  12/31/04  Jeopardy!                   3-LETTER WORDS   \n",
       "18         4680  12/31/04  Jeopardy!                          HISTORY   \n",
       "19         4680  12/31/04  Jeopardy!  ESPN's TOP 10 ALL-TIME ATHLETES   \n",
       "20         4680  12/31/04  Jeopardy!      EVERYBODY TALKS ABOUT IT...   \n",
       "21         4680  12/31/04  Jeopardy!                 THE COMPANY LINE   \n",
       "22         4680  12/31/04  Jeopardy!              EPITAPHS & TRIBUTES   \n",
       "23         4680  12/31/04  Jeopardy!                   3-LETTER WORDS   \n",
       "24         4680  12/31/04  Jeopardy!                          HISTORY   \n",
       "\n",
       "      Value                                           Question  \\\n",
       "0     $200   For the last 8 years of his life, Galileo was ...   \n",
       "1     $200   No. 2: 1912 Olympian; football star at Carlisl...   \n",
       "2     $200   The city of Yuma in this state has a record av...   \n",
       "3     $200   In 1963, live on \"The Art Linkletter Show\", th...   \n",
       "4     $200   Signer of the Dec. of Indep., framer of the Co...   \n",
       "5     $200   In the title of an Aesop fable, this insect sh...   \n",
       "6     $400   Built in 312 B.C. to link Rome & the South of ...   \n",
       "7     $400   No. 8: 30 steals for the Birmingham Barons; 2,...   \n",
       "8     $400   In the winter of 1971-72, a record 1,122 inche...   \n",
       "9     $400   This housewares store was named for the packag...   \n",
       "10    $400                                    \"And away we go\"   \n",
       "11    $400   Cows regurgitate this from the first stomach t...   \n",
       "12    $600   In 1000 Rajaraja I of the Cholas battled to ta...   \n",
       "13    $600   No. 1: Lettered in hoops, football & lacrosse ...   \n",
       "14    $600   On June 28, 1994 the nat'l weather service beg...   \n",
       "15    $600   This company's Accutron watch, introduced in 1...   \n",
       "16    $600   Outlaw: \"Murdered by a traitor and a coward wh...   \n",
       "17    $600   A small demon, or a mischievous child (who mig...   \n",
       "18    $800   Karl led the first of these Marxist organizati...   \n",
       "19    $800   No. 10: FB/LB for Columbia U. in the 1920s; MV...   \n",
       "20    $800   Africa's lowest temperature was 11 degrees bel...   \n",
       "21    $800   Edward Teller & this man partnered in 1898 to ...   \n",
       "22  $2,000   1939 Oscar winner: \"...you are a credit to you...   \n",
       "23    $800   In geologic time one of these, shorter than an...   \n",
       "24  $1,000   This Asian political party was founded in 1885...   \n",
       "\n",
       "                                               Answer  \n",
       "0                                          Copernicus  \n",
       "1                                          Jim Thorpe  \n",
       "2                                             Arizona  \n",
       "3                                          McDonald's  \n",
       "4                                          John Adams  \n",
       "5                                             the ant  \n",
       "6                                      the Appian Way  \n",
       "7                                      Michael Jordan  \n",
       "8                                          Washington  \n",
       "9                                      Crate & Barrel  \n",
       "10                                     Jackie Gleason  \n",
       "11                                            the cud  \n",
       "12                              Ceylon (or Sri Lanka)  \n",
       "13                                          Jim Brown  \n",
       "14                                       the UV index  \n",
       "15                                             Bulova  \n",
       "16                                        Jesse James  \n",
       "17                                                imp  \n",
       "18                                  the International  \n",
       "19                                       (Lou) Gehrig  \n",
       "20                                            Morocco  \n",
       "21                                      (Paul) Bonwit  \n",
       "22  Hattie McDaniel (for her role in Gone with the...  \n",
       "23                                                era  \n",
       "24                                 the Congress Party  "
      ]
     },
     "execution_count": 5,
     "metadata": {},
     "output_type": "execute_result"
    }
   ],
   "source": [
    "jeopardy.head(25)"
   ]
  },
  {
   "cell_type": "markdown",
   "metadata": {
    "id": "o2NrWt41WDHM"
   },
   "source": [
    "Now that we've seen a summary of the dataset, it may be necessary to view an entire column of data\n",
    "To print the entire Category column, I would normally write:\n",
    "print(jeopardy['Category'))\n",
    "\n",
    "What if I wanted to print the Category value for Row number 205?\n",
    "\n",
    "\n",
    "# Question 4. Write the code to print the Category, Question, and Answer values for Row Number 205"
   ]
  },
  {
   "cell_type": "code",
   "execution_count": 6,
   "metadata": {
    "colab": {
     "base_uri": "https://localhost:8080/",
     "height": 317
    },
    "executionInfo": {
     "elapsed": 417,
     "status": "error",
     "timestamp": 1605378858790,
     "user": {
      "displayName": "Prabin Sapkota",
      "photoUrl": "https://lh6.googleusercontent.com/-doP6HgypWoA/AAAAAAAAAAI/AAAAAAAAADs/IVE1vPXCX6U/s64/photo.jpg",
      "userId": "10525827673897210712"
     },
     "user_tz": 300
    },
    "id": "D98cOCVGWDHM",
    "outputId": "95fe1e6c-42c5-4003-8e1e-d4430210f95d"
   },
   "outputs": [
    {
     "ename": "KeyError",
     "evalue": "\"None of [Index(['Category', 'Question', 'Answer'], dtype='object')] are in the [columns]\"",
     "output_type": "error",
     "traceback": [
      "\u001b[0;31m---------------------------------------------------------------------------\u001b[0m",
      "\u001b[0;31mKeyError\u001b[0m                                  Traceback (most recent call last)",
      "\u001b[0;32m<ipython-input-6-9048613ce5cd>\u001b[0m in \u001b[0;36m<module>\u001b[0;34m\u001b[0m\n\u001b[0;32m----> 1\u001b[0;31m \u001b[0mjeopardy\u001b[0m\u001b[0;34m.\u001b[0m\u001b[0mloc\u001b[0m\u001b[0;34m[\u001b[0m\u001b[0;34m[\u001b[0m\u001b[0;36m205\u001b[0m\u001b[0;34m]\u001b[0m\u001b[0;34m,\u001b[0m \u001b[0;34m[\u001b[0m\u001b[0;34m\"Category\"\u001b[0m\u001b[0;34m,\u001b[0m \u001b[0;34m\"Question\"\u001b[0m\u001b[0;34m,\u001b[0m \u001b[0;34m\"Answer\"\u001b[0m\u001b[0;34m]\u001b[0m\u001b[0;34m]\u001b[0m\u001b[0;34m\u001b[0m\u001b[0;34m\u001b[0m\u001b[0m\n\u001b[0m",
      "\u001b[0;32m/opt/conda/lib/python3.8/site-packages/pandas/core/indexing.py\u001b[0m in \u001b[0;36m__getitem__\u001b[0;34m(self, key)\u001b[0m\n\u001b[1;32m    871\u001b[0m                     \u001b[0;31m# AttributeError for IntervalTree get_value\u001b[0m\u001b[0;34m\u001b[0m\u001b[0;34m\u001b[0m\u001b[0;34m\u001b[0m\u001b[0m\n\u001b[1;32m    872\u001b[0m                     \u001b[0;32mpass\u001b[0m\u001b[0;34m\u001b[0m\u001b[0;34m\u001b[0m\u001b[0m\n\u001b[0;32m--> 873\u001b[0;31m             \u001b[0;32mreturn\u001b[0m \u001b[0mself\u001b[0m\u001b[0;34m.\u001b[0m\u001b[0m_getitem_tuple\u001b[0m\u001b[0;34m(\u001b[0m\u001b[0mkey\u001b[0m\u001b[0;34m)\u001b[0m\u001b[0;34m\u001b[0m\u001b[0;34m\u001b[0m\u001b[0m\n\u001b[0m\u001b[1;32m    874\u001b[0m         \u001b[0;32melse\u001b[0m\u001b[0;34m:\u001b[0m\u001b[0;34m\u001b[0m\u001b[0;34m\u001b[0m\u001b[0m\n\u001b[1;32m    875\u001b[0m             \u001b[0;31m# we by definition only have the 0th axis\u001b[0m\u001b[0;34m\u001b[0m\u001b[0;34m\u001b[0m\u001b[0;34m\u001b[0m\u001b[0m\n",
      "\u001b[0;32m/opt/conda/lib/python3.8/site-packages/pandas/core/indexing.py\u001b[0m in \u001b[0;36m_getitem_tuple\u001b[0;34m(self, tup)\u001b[0m\n\u001b[1;32m   1051\u001b[0m         \u001b[0;31m# ugly hack for GH #836\u001b[0m\u001b[0;34m\u001b[0m\u001b[0;34m\u001b[0m\u001b[0;34m\u001b[0m\u001b[0m\n\u001b[1;32m   1052\u001b[0m         \u001b[0;32mif\u001b[0m \u001b[0mself\u001b[0m\u001b[0;34m.\u001b[0m\u001b[0m_multi_take_opportunity\u001b[0m\u001b[0;34m(\u001b[0m\u001b[0mtup\u001b[0m\u001b[0;34m)\u001b[0m\u001b[0;34m:\u001b[0m\u001b[0;34m\u001b[0m\u001b[0;34m\u001b[0m\u001b[0m\n\u001b[0;32m-> 1053\u001b[0;31m             \u001b[0;32mreturn\u001b[0m \u001b[0mself\u001b[0m\u001b[0;34m.\u001b[0m\u001b[0m_multi_take\u001b[0m\u001b[0;34m(\u001b[0m\u001b[0mtup\u001b[0m\u001b[0;34m)\u001b[0m\u001b[0;34m\u001b[0m\u001b[0;34m\u001b[0m\u001b[0m\n\u001b[0m\u001b[1;32m   1054\u001b[0m \u001b[0;34m\u001b[0m\u001b[0m\n\u001b[1;32m   1055\u001b[0m         \u001b[0;32mreturn\u001b[0m \u001b[0mself\u001b[0m\u001b[0;34m.\u001b[0m\u001b[0m_getitem_tuple_same_dim\u001b[0m\u001b[0;34m(\u001b[0m\u001b[0mtup\u001b[0m\u001b[0;34m)\u001b[0m\u001b[0;34m\u001b[0m\u001b[0;34m\u001b[0m\u001b[0m\n",
      "\u001b[0;32m/opt/conda/lib/python3.8/site-packages/pandas/core/indexing.py\u001b[0m in \u001b[0;36m_multi_take\u001b[0;34m(self, tup)\u001b[0m\n\u001b[1;32m   1001\u001b[0m         \"\"\"\n\u001b[1;32m   1002\u001b[0m         \u001b[0;31m# GH 836\u001b[0m\u001b[0;34m\u001b[0m\u001b[0;34m\u001b[0m\u001b[0;34m\u001b[0m\u001b[0m\n\u001b[0;32m-> 1003\u001b[0;31m         d = {\n\u001b[0m\u001b[1;32m   1004\u001b[0m             \u001b[0maxis\u001b[0m\u001b[0;34m:\u001b[0m \u001b[0mself\u001b[0m\u001b[0;34m.\u001b[0m\u001b[0m_get_listlike_indexer\u001b[0m\u001b[0;34m(\u001b[0m\u001b[0mkey\u001b[0m\u001b[0;34m,\u001b[0m \u001b[0maxis\u001b[0m\u001b[0;34m)\u001b[0m\u001b[0;34m\u001b[0m\u001b[0;34m\u001b[0m\u001b[0m\n\u001b[1;32m   1005\u001b[0m             \u001b[0;32mfor\u001b[0m \u001b[0;34m(\u001b[0m\u001b[0mkey\u001b[0m\u001b[0;34m,\u001b[0m \u001b[0maxis\u001b[0m\u001b[0;34m)\u001b[0m \u001b[0;32min\u001b[0m \u001b[0mzip\u001b[0m\u001b[0;34m(\u001b[0m\u001b[0mtup\u001b[0m\u001b[0;34m,\u001b[0m \u001b[0mself\u001b[0m\u001b[0;34m.\u001b[0m\u001b[0mobj\u001b[0m\u001b[0;34m.\u001b[0m\u001b[0m_AXIS_ORDERS\u001b[0m\u001b[0;34m)\u001b[0m\u001b[0;34m\u001b[0m\u001b[0;34m\u001b[0m\u001b[0m\n",
      "\u001b[0;32m/opt/conda/lib/python3.8/site-packages/pandas/core/indexing.py\u001b[0m in \u001b[0;36m<dictcomp>\u001b[0;34m(.0)\u001b[0m\n\u001b[1;32m   1002\u001b[0m         \u001b[0;31m# GH 836\u001b[0m\u001b[0;34m\u001b[0m\u001b[0;34m\u001b[0m\u001b[0;34m\u001b[0m\u001b[0m\n\u001b[1;32m   1003\u001b[0m         d = {\n\u001b[0;32m-> 1004\u001b[0;31m             \u001b[0maxis\u001b[0m\u001b[0;34m:\u001b[0m \u001b[0mself\u001b[0m\u001b[0;34m.\u001b[0m\u001b[0m_get_listlike_indexer\u001b[0m\u001b[0;34m(\u001b[0m\u001b[0mkey\u001b[0m\u001b[0;34m,\u001b[0m \u001b[0maxis\u001b[0m\u001b[0;34m)\u001b[0m\u001b[0;34m\u001b[0m\u001b[0;34m\u001b[0m\u001b[0m\n\u001b[0m\u001b[1;32m   1005\u001b[0m             \u001b[0;32mfor\u001b[0m \u001b[0;34m(\u001b[0m\u001b[0mkey\u001b[0m\u001b[0;34m,\u001b[0m \u001b[0maxis\u001b[0m\u001b[0;34m)\u001b[0m \u001b[0;32min\u001b[0m \u001b[0mzip\u001b[0m\u001b[0;34m(\u001b[0m\u001b[0mtup\u001b[0m\u001b[0;34m,\u001b[0m \u001b[0mself\u001b[0m\u001b[0;34m.\u001b[0m\u001b[0mobj\u001b[0m\u001b[0;34m.\u001b[0m\u001b[0m_AXIS_ORDERS\u001b[0m\u001b[0;34m)\u001b[0m\u001b[0;34m\u001b[0m\u001b[0;34m\u001b[0m\u001b[0m\n\u001b[1;32m   1006\u001b[0m         }\n",
      "\u001b[0;32m/opt/conda/lib/python3.8/site-packages/pandas/core/indexing.py\u001b[0m in \u001b[0;36m_get_listlike_indexer\u001b[0;34m(self, key, axis, raise_missing)\u001b[0m\n\u001b[1;32m   1252\u001b[0m             \u001b[0mkeyarr\u001b[0m\u001b[0;34m,\u001b[0m \u001b[0mindexer\u001b[0m\u001b[0;34m,\u001b[0m \u001b[0mnew_indexer\u001b[0m \u001b[0;34m=\u001b[0m \u001b[0max\u001b[0m\u001b[0;34m.\u001b[0m\u001b[0m_reindex_non_unique\u001b[0m\u001b[0;34m(\u001b[0m\u001b[0mkeyarr\u001b[0m\u001b[0;34m)\u001b[0m\u001b[0;34m\u001b[0m\u001b[0;34m\u001b[0m\u001b[0m\n\u001b[1;32m   1253\u001b[0m \u001b[0;34m\u001b[0m\u001b[0m\n\u001b[0;32m-> 1254\u001b[0;31m         \u001b[0mself\u001b[0m\u001b[0;34m.\u001b[0m\u001b[0m_validate_read_indexer\u001b[0m\u001b[0;34m(\u001b[0m\u001b[0mkeyarr\u001b[0m\u001b[0;34m,\u001b[0m \u001b[0mindexer\u001b[0m\u001b[0;34m,\u001b[0m \u001b[0maxis\u001b[0m\u001b[0;34m,\u001b[0m \u001b[0mraise_missing\u001b[0m\u001b[0;34m=\u001b[0m\u001b[0mraise_missing\u001b[0m\u001b[0;34m)\u001b[0m\u001b[0;34m\u001b[0m\u001b[0;34m\u001b[0m\u001b[0m\n\u001b[0m\u001b[1;32m   1255\u001b[0m         \u001b[0;32mreturn\u001b[0m \u001b[0mkeyarr\u001b[0m\u001b[0;34m,\u001b[0m \u001b[0mindexer\u001b[0m\u001b[0;34m\u001b[0m\u001b[0;34m\u001b[0m\u001b[0m\n\u001b[1;32m   1256\u001b[0m \u001b[0;34m\u001b[0m\u001b[0m\n",
      "\u001b[0;32m/opt/conda/lib/python3.8/site-packages/pandas/core/indexing.py\u001b[0m in \u001b[0;36m_validate_read_indexer\u001b[0;34m(self, key, indexer, axis, raise_missing)\u001b[0m\n\u001b[1;32m   1296\u001b[0m             \u001b[0;32mif\u001b[0m \u001b[0mmissing\u001b[0m \u001b[0;34m==\u001b[0m \u001b[0mlen\u001b[0m\u001b[0;34m(\u001b[0m\u001b[0mindexer\u001b[0m\u001b[0;34m)\u001b[0m\u001b[0;34m:\u001b[0m\u001b[0;34m\u001b[0m\u001b[0;34m\u001b[0m\u001b[0m\n\u001b[1;32m   1297\u001b[0m                 \u001b[0maxis_name\u001b[0m \u001b[0;34m=\u001b[0m \u001b[0mself\u001b[0m\u001b[0;34m.\u001b[0m\u001b[0mobj\u001b[0m\u001b[0;34m.\u001b[0m\u001b[0m_get_axis_name\u001b[0m\u001b[0;34m(\u001b[0m\u001b[0maxis\u001b[0m\u001b[0;34m)\u001b[0m\u001b[0;34m\u001b[0m\u001b[0;34m\u001b[0m\u001b[0m\n\u001b[0;32m-> 1298\u001b[0;31m                 \u001b[0;32mraise\u001b[0m \u001b[0mKeyError\u001b[0m\u001b[0;34m(\u001b[0m\u001b[0;34mf\"None of [{key}] are in the [{axis_name}]\"\u001b[0m\u001b[0;34m)\u001b[0m\u001b[0;34m\u001b[0m\u001b[0;34m\u001b[0m\u001b[0m\n\u001b[0m\u001b[1;32m   1299\u001b[0m \u001b[0;34m\u001b[0m\u001b[0m\n\u001b[1;32m   1300\u001b[0m             \u001b[0;31m# We (temporarily) allow for some missing keys with .loc, except in\u001b[0m\u001b[0;34m\u001b[0m\u001b[0;34m\u001b[0m\u001b[0;34m\u001b[0m\u001b[0m\n",
      "\u001b[0;31mKeyError\u001b[0m: \"None of [Index(['Category', 'Question', 'Answer'], dtype='object')] are in the [columns]\""
     ]
    }
   ],
   "source": [
    "jeopardy.loc[[205], [\"Category\", \"Question\", \"Answer\"]]"
   ]
  },
  {
   "cell_type": "markdown",
   "metadata": {
    "id": "QrgcYWSYWDHP"
   },
   "source": [
    "You should have received an error. What possibly could have went wrong?\n",
    " \n",
    "# Question 5. Post the error below (if any)\n",
    "KeyError: \"None of [Index(['Category', 'Question', 'Answer'], dtype='object')] are in the [columns]\"\n",
    "\n",
    "\n",
    "# Question 6. What's the problem with all of the category names in our dataset?\n",
    "Write you guess below as to why the column names are not being found\n",
    "\n",
    "The column names in our dataset have extra whitespaces so the string equality is failing when finding the columns which then resulted in key error."
   ]
  },
  {
   "cell_type": "markdown",
   "metadata": {
    "id": "8eL70Sx-WDHP"
   },
   "source": [
    "# Let's begin our Exploratory Data Analysis\n",
    "\n",
    "Exploratory data analysis may involve removing extra spaces or cleaning up your data.\n",
    "It may also involve visualizing the data. \n",
    "In order to do that though, you may need to remove missing values, whitespace, or other errors that may occur in the dataset.\n",
    "\n",
    "# Removing Leading Whitespace\n",
    "\n",
    "Sometimes you will receive a dataset that has trailing or ending whitespace that occurs with the column names. This commonly occurs if data is scraped from the web.  \n",
    "This will cause errors to occur when trying to extract data from columns.\n",
    "There are two ways you can do this:\n",
    "\n",
    "1. Rename the column names to what you want them to be or\n",
    "2. Remove the whitespace in the front\n",
    "\n",
    "In some cases you may spend too much time trying to figure out what is going on with your column names. May be just easier to rename them. \n",
    "\n",
    "We're going to do both in this Lab\n",
    "\n",
    "When removing whitespace we can use the str.replace function\n",
    "jeopardy.columns=jeopardy.columns.str.replace(' ', '')\n",
    "\n",
    "# Question 7. Write the code to remove the whitespace that occurs in the jeopardy dataframe for all columns"
   ]
  },
  {
   "cell_type": "code",
   "execution_count": 7,
   "metadata": {
    "executionInfo": {
     "elapsed": 787,
     "status": "ok",
     "timestamp": 1605378859178,
     "user": {
      "displayName": "Prabin Sapkota",
      "photoUrl": "https://lh6.googleusercontent.com/-doP6HgypWoA/AAAAAAAAAAI/AAAAAAAAADs/IVE1vPXCX6U/s64/photo.jpg",
      "userId": "10525827673897210712"
     },
     "user_tz": 300
    },
    "id": "sTgqUJBVWDHQ"
   },
   "outputs": [],
   "source": [
    "jeopardy.columns = jeopardy.columns.str.replace(\" \", \"\")"
   ]
  },
  {
   "cell_type": "markdown",
   "metadata": {
    "id": "OJBbr8COWDHS"
   },
   "source": [
    "#  Question 8. Write the code to print the 205th row in the jeopardy dataframe for the Category, Question, and Answer columns"
   ]
  },
  {
   "cell_type": "code",
   "execution_count": 8,
   "metadata": {
    "colab": {
     "base_uri": "https://localhost:8080/",
     "height": 77
    },
    "executionInfo": {
     "elapsed": 782,
     "status": "ok",
     "timestamp": 1605378859179,
     "user": {
      "displayName": "Prabin Sapkota",
      "photoUrl": "https://lh6.googleusercontent.com/-doP6HgypWoA/AAAAAAAAAAI/AAAAAAAAADs/IVE1vPXCX6U/s64/photo.jpg",
      "userId": "10525827673897210712"
     },
     "user_tz": 300
    },
    "id": "ocqj8uP5WDHT",
    "outputId": "e7ac6b80-c3ee-4936-9bb6-c5c67b343cf4"
   },
   "outputs": [
    {
     "data": {
      "text/html": [
       "<div>\n",
       "<style scoped>\n",
       "    .dataframe tbody tr th:only-of-type {\n",
       "        vertical-align: middle;\n",
       "    }\n",
       "\n",
       "    .dataframe tbody tr th {\n",
       "        vertical-align: top;\n",
       "    }\n",
       "\n",
       "    .dataframe thead th {\n",
       "        text-align: right;\n",
       "    }\n",
       "</style>\n",
       "<table border=\"1\" class=\"dataframe\">\n",
       "  <thead>\n",
       "    <tr style=\"text-align: right;\">\n",
       "      <th></th>\n",
       "      <th>Category</th>\n",
       "      <th>Question</th>\n",
       "      <th>Answer</th>\n",
       "    </tr>\n",
       "  </thead>\n",
       "  <tbody>\n",
       "    <tr>\n",
       "      <th>205</th>\n",
       "      <td>ALASKA</td>\n",
       "      <td>4 different species of bears live in Alaska:  ...</td>\n",
       "      <td>Polar bears</td>\n",
       "    </tr>\n",
       "  </tbody>\n",
       "</table>\n",
       "</div>"
      ],
      "text/plain": [
       "    Category                                           Question       Answer\n",
       "205   ALASKA  4 different species of bears live in Alaska:  ...  Polar bears"
      ]
     },
     "execution_count": 8,
     "metadata": {},
     "output_type": "execute_result"
    }
   ],
   "source": [
    "jeopardy.loc[[205], [\"Category\", \"Question\", \"Answer\"]]"
   ]
  },
  {
   "cell_type": "markdown",
   "metadata": {
    "id": "BWEB8nytWDHV"
   },
   "source": [
    "Sometimes you will need to rename columns names so that they are more meaningful to your analysis.\n",
    "To rename a column we can use the rename function\n",
    "\n",
    "df.rename(columns={'Column To Be Renames': 'New Name Of Column'},\n",
    "          inplace=True)"
   ]
  },
  {
   "cell_type": "markdown",
   "metadata": {
    "id": "to8S57vjWDHV"
   },
   "source": [
    "# Question 9. Write the code to rename the Category column to Genre. "
   ]
  },
  {
   "cell_type": "code",
   "execution_count": 9,
   "metadata": {
    "executionInfo": {
     "elapsed": 777,
     "status": "ok",
     "timestamp": 1605378859180,
     "user": {
      "displayName": "Prabin Sapkota",
      "photoUrl": "https://lh6.googleusercontent.com/-doP6HgypWoA/AAAAAAAAAAI/AAAAAAAAADs/IVE1vPXCX6U/s64/photo.jpg",
      "userId": "10525827673897210712"
     },
     "user_tz": 300
    },
    "id": "M5a59qifWDHW"
   },
   "outputs": [],
   "source": [
    "\n",
    "jeopardy.rename(columns={'Category': 'Genre'}, inplace=True)"
   ]
  },
  {
   "cell_type": "markdown",
   "metadata": {
    "id": "es7rYVadWDHY"
   },
   "source": [
    "# Question 10. Write the code to view the first column names and first ten rows of the data"
   ]
  },
  {
   "cell_type": "code",
   "execution_count": 10,
   "metadata": {
    "colab": {
     "base_uri": "https://localhost:8080/",
     "height": 347
    },
    "executionInfo": {
     "elapsed": 772,
     "status": "ok",
     "timestamp": 1605378859181,
     "user": {
      "displayName": "Prabin Sapkota",
      "photoUrl": "https://lh6.googleusercontent.com/-doP6HgypWoA/AAAAAAAAAAI/AAAAAAAAADs/IVE1vPXCX6U/s64/photo.jpg",
      "userId": "10525827673897210712"
     },
     "user_tz": 300
    },
    "id": "zWy3SoSqWDHY",
    "outputId": "1c8e6e62-732b-41f4-f58c-db86008168f8"
   },
   "outputs": [
    {
     "data": {
      "text/html": [
       "<div>\n",
       "<style scoped>\n",
       "    .dataframe tbody tr th:only-of-type {\n",
       "        vertical-align: middle;\n",
       "    }\n",
       "\n",
       "    .dataframe tbody tr th {\n",
       "        vertical-align: top;\n",
       "    }\n",
       "\n",
       "    .dataframe thead th {\n",
       "        text-align: right;\n",
       "    }\n",
       "</style>\n",
       "<table border=\"1\" class=\"dataframe\">\n",
       "  <thead>\n",
       "    <tr style=\"text-align: right;\">\n",
       "      <th></th>\n",
       "      <th>ShowNumber</th>\n",
       "      <th>AirDate</th>\n",
       "      <th>Round</th>\n",
       "      <th>Genre</th>\n",
       "      <th>Value</th>\n",
       "      <th>Question</th>\n",
       "      <th>Answer</th>\n",
       "    </tr>\n",
       "  </thead>\n",
       "  <tbody>\n",
       "    <tr>\n",
       "      <th>0</th>\n",
       "      <td>4680</td>\n",
       "      <td>12/31/04</td>\n",
       "      <td>Jeopardy!</td>\n",
       "      <td>HISTORY</td>\n",
       "      <td>$200</td>\n",
       "      <td>For the last 8 years of his life, Galileo was ...</td>\n",
       "      <td>Copernicus</td>\n",
       "    </tr>\n",
       "    <tr>\n",
       "      <th>1</th>\n",
       "      <td>4680</td>\n",
       "      <td>12/31/04</td>\n",
       "      <td>Jeopardy!</td>\n",
       "      <td>ESPN's TOP 10 ALL-TIME ATHLETES</td>\n",
       "      <td>$200</td>\n",
       "      <td>No. 2: 1912 Olympian; football star at Carlisl...</td>\n",
       "      <td>Jim Thorpe</td>\n",
       "    </tr>\n",
       "    <tr>\n",
       "      <th>2</th>\n",
       "      <td>4680</td>\n",
       "      <td>12/31/04</td>\n",
       "      <td>Jeopardy!</td>\n",
       "      <td>EVERYBODY TALKS ABOUT IT...</td>\n",
       "      <td>$200</td>\n",
       "      <td>The city of Yuma in this state has a record av...</td>\n",
       "      <td>Arizona</td>\n",
       "    </tr>\n",
       "    <tr>\n",
       "      <th>3</th>\n",
       "      <td>4680</td>\n",
       "      <td>12/31/04</td>\n",
       "      <td>Jeopardy!</td>\n",
       "      <td>THE COMPANY LINE</td>\n",
       "      <td>$200</td>\n",
       "      <td>In 1963, live on \"The Art Linkletter Show\", th...</td>\n",
       "      <td>McDonald's</td>\n",
       "    </tr>\n",
       "    <tr>\n",
       "      <th>4</th>\n",
       "      <td>4680</td>\n",
       "      <td>12/31/04</td>\n",
       "      <td>Jeopardy!</td>\n",
       "      <td>EPITAPHS &amp; TRIBUTES</td>\n",
       "      <td>$200</td>\n",
       "      <td>Signer of the Dec. of Indep., framer of the Co...</td>\n",
       "      <td>John Adams</td>\n",
       "    </tr>\n",
       "    <tr>\n",
       "      <th>5</th>\n",
       "      <td>4680</td>\n",
       "      <td>12/31/04</td>\n",
       "      <td>Jeopardy!</td>\n",
       "      <td>3-LETTER WORDS</td>\n",
       "      <td>$200</td>\n",
       "      <td>In the title of an Aesop fable, this insect sh...</td>\n",
       "      <td>the ant</td>\n",
       "    </tr>\n",
       "    <tr>\n",
       "      <th>6</th>\n",
       "      <td>4680</td>\n",
       "      <td>12/31/04</td>\n",
       "      <td>Jeopardy!</td>\n",
       "      <td>HISTORY</td>\n",
       "      <td>$400</td>\n",
       "      <td>Built in 312 B.C. to link Rome &amp; the South of ...</td>\n",
       "      <td>the Appian Way</td>\n",
       "    </tr>\n",
       "    <tr>\n",
       "      <th>7</th>\n",
       "      <td>4680</td>\n",
       "      <td>12/31/04</td>\n",
       "      <td>Jeopardy!</td>\n",
       "      <td>ESPN's TOP 10 ALL-TIME ATHLETES</td>\n",
       "      <td>$400</td>\n",
       "      <td>No. 8: 30 steals for the Birmingham Barons; 2,...</td>\n",
       "      <td>Michael Jordan</td>\n",
       "    </tr>\n",
       "    <tr>\n",
       "      <th>8</th>\n",
       "      <td>4680</td>\n",
       "      <td>12/31/04</td>\n",
       "      <td>Jeopardy!</td>\n",
       "      <td>EVERYBODY TALKS ABOUT IT...</td>\n",
       "      <td>$400</td>\n",
       "      <td>In the winter of 1971-72, a record 1,122 inche...</td>\n",
       "      <td>Washington</td>\n",
       "    </tr>\n",
       "    <tr>\n",
       "      <th>9</th>\n",
       "      <td>4680</td>\n",
       "      <td>12/31/04</td>\n",
       "      <td>Jeopardy!</td>\n",
       "      <td>THE COMPANY LINE</td>\n",
       "      <td>$400</td>\n",
       "      <td>This housewares store was named for the packag...</td>\n",
       "      <td>Crate &amp; Barrel</td>\n",
       "    </tr>\n",
       "  </tbody>\n",
       "</table>\n",
       "</div>"
      ],
      "text/plain": [
       "   ShowNumber   AirDate      Round                            Genre  Value  \\\n",
       "0        4680  12/31/04  Jeopardy!                          HISTORY  $200    \n",
       "1        4680  12/31/04  Jeopardy!  ESPN's TOP 10 ALL-TIME ATHLETES  $200    \n",
       "2        4680  12/31/04  Jeopardy!      EVERYBODY TALKS ABOUT IT...  $200    \n",
       "3        4680  12/31/04  Jeopardy!                 THE COMPANY LINE  $200    \n",
       "4        4680  12/31/04  Jeopardy!              EPITAPHS & TRIBUTES  $200    \n",
       "5        4680  12/31/04  Jeopardy!                   3-LETTER WORDS  $200    \n",
       "6        4680  12/31/04  Jeopardy!                          HISTORY  $400    \n",
       "7        4680  12/31/04  Jeopardy!  ESPN's TOP 10 ALL-TIME ATHLETES  $400    \n",
       "8        4680  12/31/04  Jeopardy!      EVERYBODY TALKS ABOUT IT...  $400    \n",
       "9        4680  12/31/04  Jeopardy!                 THE COMPANY LINE  $400    \n",
       "\n",
       "                                            Question          Answer  \n",
       "0  For the last 8 years of his life, Galileo was ...      Copernicus  \n",
       "1  No. 2: 1912 Olympian; football star at Carlisl...      Jim Thorpe  \n",
       "2  The city of Yuma in this state has a record av...         Arizona  \n",
       "3  In 1963, live on \"The Art Linkletter Show\", th...      McDonald's  \n",
       "4  Signer of the Dec. of Indep., framer of the Co...      John Adams  \n",
       "5  In the title of an Aesop fable, this insect sh...         the ant  \n",
       "6  Built in 312 B.C. to link Rome & the South of ...  the Appian Way  \n",
       "7  No. 8: 30 steals for the Birmingham Barons; 2,...  Michael Jordan  \n",
       "8  In the winter of 1971-72, a record 1,122 inche...      Washington  \n",
       "9  This housewares store was named for the packag...  Crate & Barrel  "
      ]
     },
     "execution_count": 10,
     "metadata": {},
     "output_type": "execute_result"
    }
   ],
   "source": [
    "jeopardy.head(10)"
   ]
  },
  {
   "cell_type": "markdown",
   "metadata": {
    "id": "mmbdDcKLWDHb"
   },
   "source": [
    "# Question 11. Put the code below to change the Genre column back to Category.\n",
    "Make to use the head function to view your rename results\n"
   ]
  },
  {
   "cell_type": "code",
   "execution_count": 11,
   "metadata": {
    "colab": {
     "base_uri": "https://localhost:8080/",
     "height": 406
    },
    "executionInfo": {
     "elapsed": 766,
     "status": "ok",
     "timestamp": 1605378859181,
     "user": {
      "displayName": "Prabin Sapkota",
      "photoUrl": "https://lh6.googleusercontent.com/-doP6HgypWoA/AAAAAAAAAAI/AAAAAAAAADs/IVE1vPXCX6U/s64/photo.jpg",
      "userId": "10525827673897210712"
     },
     "user_tz": 300
    },
    "id": "AItjgpw0WDHc",
    "outputId": "b973a070-d929-42cc-8b3a-107ebb271845"
   },
   "outputs": [
    {
     "data": {
      "text/html": [
       "<div>\n",
       "<style scoped>\n",
       "    .dataframe tbody tr th:only-of-type {\n",
       "        vertical-align: middle;\n",
       "    }\n",
       "\n",
       "    .dataframe tbody tr th {\n",
       "        vertical-align: top;\n",
       "    }\n",
       "\n",
       "    .dataframe thead th {\n",
       "        text-align: right;\n",
       "    }\n",
       "</style>\n",
       "<table border=\"1\" class=\"dataframe\">\n",
       "  <thead>\n",
       "    <tr style=\"text-align: right;\">\n",
       "      <th></th>\n",
       "      <th>ShowNumber</th>\n",
       "      <th>AirDate</th>\n",
       "      <th>Round</th>\n",
       "      <th>Category</th>\n",
       "      <th>Value</th>\n",
       "      <th>Question</th>\n",
       "      <th>Answer</th>\n",
       "    </tr>\n",
       "  </thead>\n",
       "  <tbody>\n",
       "    <tr>\n",
       "      <th>0</th>\n",
       "      <td>4680</td>\n",
       "      <td>12/31/04</td>\n",
       "      <td>Jeopardy!</td>\n",
       "      <td>HISTORY</td>\n",
       "      <td>$200</td>\n",
       "      <td>For the last 8 years of his life, Galileo was ...</td>\n",
       "      <td>Copernicus</td>\n",
       "    </tr>\n",
       "    <tr>\n",
       "      <th>1</th>\n",
       "      <td>4680</td>\n",
       "      <td>12/31/04</td>\n",
       "      <td>Jeopardy!</td>\n",
       "      <td>ESPN's TOP 10 ALL-TIME ATHLETES</td>\n",
       "      <td>$200</td>\n",
       "      <td>No. 2: 1912 Olympian; football star at Carlisl...</td>\n",
       "      <td>Jim Thorpe</td>\n",
       "    </tr>\n",
       "    <tr>\n",
       "      <th>2</th>\n",
       "      <td>4680</td>\n",
       "      <td>12/31/04</td>\n",
       "      <td>Jeopardy!</td>\n",
       "      <td>EVERYBODY TALKS ABOUT IT...</td>\n",
       "      <td>$200</td>\n",
       "      <td>The city of Yuma in this state has a record av...</td>\n",
       "      <td>Arizona</td>\n",
       "    </tr>\n",
       "    <tr>\n",
       "      <th>3</th>\n",
       "      <td>4680</td>\n",
       "      <td>12/31/04</td>\n",
       "      <td>Jeopardy!</td>\n",
       "      <td>THE COMPANY LINE</td>\n",
       "      <td>$200</td>\n",
       "      <td>In 1963, live on \"The Art Linkletter Show\", th...</td>\n",
       "      <td>McDonald's</td>\n",
       "    </tr>\n",
       "    <tr>\n",
       "      <th>4</th>\n",
       "      <td>4680</td>\n",
       "      <td>12/31/04</td>\n",
       "      <td>Jeopardy!</td>\n",
       "      <td>EPITAPHS &amp; TRIBUTES</td>\n",
       "      <td>$200</td>\n",
       "      <td>Signer of the Dec. of Indep., framer of the Co...</td>\n",
       "      <td>John Adams</td>\n",
       "    </tr>\n",
       "    <tr>\n",
       "      <th>...</th>\n",
       "      <td>...</td>\n",
       "      <td>...</td>\n",
       "      <td>...</td>\n",
       "      <td>...</td>\n",
       "      <td>...</td>\n",
       "      <td>...</td>\n",
       "      <td>...</td>\n",
       "    </tr>\n",
       "    <tr>\n",
       "      <th>19994</th>\n",
       "      <td>3582</td>\n",
       "      <td>3/14/00</td>\n",
       "      <td>Jeopardy!</td>\n",
       "      <td>U.S. GEOGRAPHY</td>\n",
       "      <td>$200</td>\n",
       "      <td>Of 8, 12 or 18, the number of U.S. states that...</td>\n",
       "      <td>18</td>\n",
       "    </tr>\n",
       "    <tr>\n",
       "      <th>19995</th>\n",
       "      <td>3582</td>\n",
       "      <td>3/14/00</td>\n",
       "      <td>Jeopardy!</td>\n",
       "      <td>POP MUSIC PAIRINGS</td>\n",
       "      <td>$200</td>\n",
       "      <td>...&amp; the New Power Generation</td>\n",
       "      <td>Prince</td>\n",
       "    </tr>\n",
       "    <tr>\n",
       "      <th>19996</th>\n",
       "      <td>3582</td>\n",
       "      <td>3/14/00</td>\n",
       "      <td>Jeopardy!</td>\n",
       "      <td>HISTORIC PEOPLE</td>\n",
       "      <td>$200</td>\n",
       "      <td>In 1589 he was appointed professor of mathemat...</td>\n",
       "      <td>Galileo</td>\n",
       "    </tr>\n",
       "    <tr>\n",
       "      <th>19997</th>\n",
       "      <td>3582</td>\n",
       "      <td>3/14/00</td>\n",
       "      <td>Jeopardy!</td>\n",
       "      <td>1998 QUOTATIONS</td>\n",
       "      <td>$200</td>\n",
       "      <td>Before the grand jury she said, \"I'm really so...</td>\n",
       "      <td>Monica Lewinsky</td>\n",
       "    </tr>\n",
       "    <tr>\n",
       "      <th>19998</th>\n",
       "      <td>3582</td>\n",
       "      <td>3/14/00</td>\n",
       "      <td>Jeopardy!</td>\n",
       "      <td>LLAMA-RAMA</td>\n",
       "      <td>$200</td>\n",
       "      <td>Llamas are the heftiest South American members...</td>\n",
       "      <td>Camels</td>\n",
       "    </tr>\n",
       "  </tbody>\n",
       "</table>\n",
       "<p>19999 rows × 7 columns</p>\n",
       "</div>"
      ],
      "text/plain": [
       "       ShowNumber   AirDate      Round                         Category  \\\n",
       "0            4680  12/31/04  Jeopardy!                          HISTORY   \n",
       "1            4680  12/31/04  Jeopardy!  ESPN's TOP 10 ALL-TIME ATHLETES   \n",
       "2            4680  12/31/04  Jeopardy!      EVERYBODY TALKS ABOUT IT...   \n",
       "3            4680  12/31/04  Jeopardy!                 THE COMPANY LINE   \n",
       "4            4680  12/31/04  Jeopardy!              EPITAPHS & TRIBUTES   \n",
       "...           ...       ...        ...                              ...   \n",
       "19994        3582   3/14/00  Jeopardy!                   U.S. GEOGRAPHY   \n",
       "19995        3582   3/14/00  Jeopardy!               POP MUSIC PAIRINGS   \n",
       "19996        3582   3/14/00  Jeopardy!                  HISTORIC PEOPLE   \n",
       "19997        3582   3/14/00  Jeopardy!                  1998 QUOTATIONS   \n",
       "19998        3582   3/14/00  Jeopardy!                       LLAMA-RAMA   \n",
       "\n",
       "       Value                                           Question  \\\n",
       "0      $200   For the last 8 years of his life, Galileo was ...   \n",
       "1      $200   No. 2: 1912 Olympian; football star at Carlisl...   \n",
       "2      $200   The city of Yuma in this state has a record av...   \n",
       "3      $200   In 1963, live on \"The Art Linkletter Show\", th...   \n",
       "4      $200   Signer of the Dec. of Indep., framer of the Co...   \n",
       "...      ...                                                ...   \n",
       "19994  $200   Of 8, 12 or 18, the number of U.S. states that...   \n",
       "19995  $200                       ...& the New Power Generation   \n",
       "19996  $200   In 1589 he was appointed professor of mathemat...   \n",
       "19997  $200   Before the grand jury she said, \"I'm really so...   \n",
       "19998  $200   Llamas are the heftiest South American members...   \n",
       "\n",
       "                Answer  \n",
       "0           Copernicus  \n",
       "1           Jim Thorpe  \n",
       "2              Arizona  \n",
       "3           McDonald's  \n",
       "4           John Adams  \n",
       "...                ...  \n",
       "19994               18  \n",
       "19995           Prince  \n",
       "19996          Galileo  \n",
       "19997  Monica Lewinsky  \n",
       "19998           Camels  \n",
       "\n",
       "[19999 rows x 7 columns]"
      ]
     },
     "execution_count": 11,
     "metadata": {},
     "output_type": "execute_result"
    }
   ],
   "source": [
    "jeopardy.rename(columns={'Genre': 'Category'}, inplace=True)\n",
    "jeopardy"
   ]
  },
  {
   "cell_type": "markdown",
   "metadata": {
    "id": "lTOspFN6WDHe"
   },
   "source": [
    "To begin exploratory analysis of the jeorpardy dataset, use the shape() function to return the dimensionality of the dataset or the total number of columns and rows of the dataframe.\n",
    "df.shape()\n",
    "where df is the name of the dataframe\n",
    "\n",
    "# Question 12. Write the code to view the number of rows and columns in the dataframe jeopardy"
   ]
  },
  {
   "cell_type": "code",
   "execution_count": 12,
   "metadata": {
    "colab": {
     "base_uri": "https://localhost:8080/"
    },
    "executionInfo": {
     "elapsed": 761,
     "status": "ok",
     "timestamp": 1605378859182,
     "user": {
      "displayName": "Prabin Sapkota",
      "photoUrl": "https://lh6.googleusercontent.com/-doP6HgypWoA/AAAAAAAAAAI/AAAAAAAAADs/IVE1vPXCX6U/s64/photo.jpg",
      "userId": "10525827673897210712"
     },
     "user_tz": 300
    },
    "id": "p0bmlRzZWDHf",
    "outputId": "1054f1d2-bce3-42cf-82a9-cf7cab492f80"
   },
   "outputs": [
    {
     "data": {
      "text/plain": [
       "(19999, 7)"
      ]
     },
     "execution_count": 12,
     "metadata": {},
     "output_type": "execute_result"
    }
   ],
   "source": [
    "jeopardy.shape"
   ]
  },
  {
   "cell_type": "markdown",
   "metadata": {
    "id": "CaKAcfltWDHh"
   },
   "source": [
    "We see that our data has 20000 rows and 8 columns\n",
    "\n",
    "When you printed the first 25 rows, did you see any missing values or Not A Number values?\n",
    "\n",
    "\n",
    "\n",
    "There is an easier ways to check for missing values or Not A Number (NANs) in your dataframe rather than looking through the entire dataset manually. In some cases the missing values are shown as NaNs or just blank cells in the dataframe.\n",
    "\n",
    "There are four ways:\n",
    "\n",
    "# 1. Check for NAN under a single dataframe column\n",
    "To do this you would use the command df['column_name'].isnull().values.any()\n",
    "where df is the name of your dataframe and column_name is the name of the column\n",
    "\n",
    "Let's check for missing value under the Answer column\n",
    "\n",
    "# Question 13. Write the code to check for missing values from the Answer column "
   ]
  },
  {
   "cell_type": "code",
   "execution_count": 13,
   "metadata": {
    "colab": {
     "base_uri": "https://localhost:8080/"
    },
    "executionInfo": {
     "elapsed": 754,
     "status": "ok",
     "timestamp": 1605378859182,
     "user": {
      "displayName": "Prabin Sapkota",
      "photoUrl": "https://lh6.googleusercontent.com/-doP6HgypWoA/AAAAAAAAAAI/AAAAAAAAADs/IVE1vPXCX6U/s64/photo.jpg",
      "userId": "10525827673897210712"
     },
     "user_tz": 300
    },
    "id": "3RkKsknGWDHh",
    "outputId": "c15cc8fd-b16b-4072-d2aa-78ce682aa5f8"
   },
   "outputs": [
    {
     "data": {
      "text/plain": [
       "True"
      ]
     },
     "execution_count": 13,
     "metadata": {},
     "output_type": "execute_result"
    }
   ],
   "source": [
    "jeopardy[\"Answer\"].isnull().values.any()"
   ]
  },
  {
   "cell_type": "markdown",
   "metadata": {
    "id": "0A4_UvJKWDHk"
   },
   "source": [
    "# Question 14. Are there NANs in the Answer column. Put your answer below\n",
    "Yes, there are NaN values in the \"Answer\" column.\n",
    "\n",
    "# (2) Count the NaN under a single DataFrame column:\n",
    "\n",
    "df['your column name'].isnull().sum()\n",
    "\n",
    "df is the name of your dataframe"
   ]
  },
  {
   "cell_type": "code",
   "execution_count": 14,
   "metadata": {
    "colab": {
     "base_uri": "https://localhost:8080/"
    },
    "executionInfo": {
     "elapsed": 931,
     "status": "ok",
     "timestamp": 1605378859365,
     "user": {
      "displayName": "Prabin Sapkota",
      "photoUrl": "https://lh6.googleusercontent.com/-doP6HgypWoA/AAAAAAAAAAI/AAAAAAAAADs/IVE1vPXCX6U/s64/photo.jpg",
      "userId": "10525827673897210712"
     },
     "user_tz": 300
    },
    "id": "RSeW4hg30R57",
    "outputId": "f1032255-7c32-430c-ecb8-1d7235c04ac3"
   },
   "outputs": [
    {
     "data": {
      "text/plain": [
       "2"
      ]
     },
     "execution_count": 14,
     "metadata": {},
     "output_type": "execute_result"
    }
   ],
   "source": [
    "jeopardy[\"Answer\"].isnull().sum()"
   ]
  },
  {
   "cell_type": "markdown",
   "metadata": {
    "id": "vCFiU5XuWDHl"
   },
   "source": [
    "# Question 15. Count the NAN under the Category column. Write your answer below and run the output"
   ]
  },
  {
   "cell_type": "code",
   "execution_count": 15,
   "metadata": {
    "colab": {
     "base_uri": "https://localhost:8080/"
    },
    "executionInfo": {
     "elapsed": 926,
     "status": "ok",
     "timestamp": 1605378859366,
     "user": {
      "displayName": "Prabin Sapkota",
      "photoUrl": "https://lh6.googleusercontent.com/-doP6HgypWoA/AAAAAAAAAAI/AAAAAAAAADs/IVE1vPXCX6U/s64/photo.jpg",
      "userId": "10525827673897210712"
     },
     "user_tz": 300
    },
    "id": "FS1h2NHYWDHl",
    "outputId": "ca1cf8d0-4f16-42d1-cee4-07b1fd19f048"
   },
   "outputs": [
    {
     "data": {
      "text/plain": [
       "0"
      ]
     },
     "execution_count": 15,
     "metadata": {},
     "output_type": "execute_result"
    }
   ],
   "source": [
    "jeopardy[\"Category\"].isnull().sum()"
   ]
  },
  {
   "cell_type": "markdown",
   "metadata": {
    "id": "damPX7JkWDHn"
   },
   "source": [
    "# (3) Check for NaN under an entire DataFrame:\n",
    "df.isnull().values.any()\n",
    "\n",
    "df is the name of your dataframe\n"
   ]
  },
  {
   "cell_type": "markdown",
   "metadata": {
    "id": "lds46hTVWDHo"
   },
   "source": [
    "# Question 16. Write the answer to check the entire jeopardy dataframe for NANs.\n"
   ]
  },
  {
   "cell_type": "code",
   "execution_count": 16,
   "metadata": {
    "colab": {
     "base_uri": "https://localhost:8080/"
    },
    "executionInfo": {
     "elapsed": 921,
     "status": "ok",
     "timestamp": 1605378859367,
     "user": {
      "displayName": "Prabin Sapkota",
      "photoUrl": "https://lh6.googleusercontent.com/-doP6HgypWoA/AAAAAAAAAAI/AAAAAAAAADs/IVE1vPXCX6U/s64/photo.jpg",
      "userId": "10525827673897210712"
     },
     "user_tz": 300
    },
    "id": "twtQra_ZWDHo",
    "outputId": "39d864f5-1917-4bae-e8ec-5882a0ff277d"
   },
   "outputs": [
    {
     "data": {
      "text/plain": [
       "True"
      ]
     },
     "execution_count": 16,
     "metadata": {},
     "output_type": "execute_result"
    }
   ],
   "source": [
    "jeopardy.isnull().values.any()"
   ]
  },
  {
   "cell_type": "markdown",
   "metadata": {
    "id": "BFa39tp4WDHr"
   },
   "source": [
    "# (4) Count the NaN under an entire DataFrame:\n",
    "\n",
    "df.isnull().sum().sum()\n",
    "\n",
    "df is the name of the dataframe\n",
    "\n",
    "# Question 17. Write the answer to count the number of missing values from the entire DataFrame\n",
    "\n",
    "Note: You can use isna or isnull\n"
   ]
  },
  {
   "cell_type": "code",
   "execution_count": 17,
   "metadata": {
    "colab": {
     "base_uri": "https://localhost:8080/"
    },
    "executionInfo": {
     "elapsed": 915,
     "status": "ok",
     "timestamp": 1605378859367,
     "user": {
      "displayName": "Prabin Sapkota",
      "photoUrl": "https://lh6.googleusercontent.com/-doP6HgypWoA/AAAAAAAAAAI/AAAAAAAAADs/IVE1vPXCX6U/s64/photo.jpg",
      "userId": "10525827673897210712"
     },
     "user_tz": 300
    },
    "id": "AudRv06rWDHr",
    "outputId": "5c2cc7c1-4381-4b79-ed45-abe4e3132a54"
   },
   "outputs": [
    {
     "data": {
      "text/plain": [
       "ShowNumber    0\n",
       "AirDate       0\n",
       "Round         1\n",
       "Category      0\n",
       "Value         1\n",
       "Question      2\n",
       "Answer        2\n",
       "dtype: int64"
      ]
     },
     "execution_count": 17,
     "metadata": {},
     "output_type": "execute_result"
    }
   ],
   "source": [
    "# To see the sum for individual columns of the dataframe\n",
    "jeopardy.isnull().sum()"
   ]
  },
  {
   "cell_type": "code",
   "execution_count": 18,
   "metadata": {
    "colab": {
     "base_uri": "https://localhost:8080/"
    },
    "executionInfo": {
     "elapsed": 908,
     "status": "ok",
     "timestamp": 1605378859368,
     "user": {
      "displayName": "Prabin Sapkota",
      "photoUrl": "https://lh6.googleusercontent.com/-doP6HgypWoA/AAAAAAAAAAI/AAAAAAAAADs/IVE1vPXCX6U/s64/photo.jpg",
      "userId": "10525827673897210712"
     },
     "user_tz": 300
    },
    "id": "rNKiBH7wjLBy",
    "outputId": "c09da87a-5b32-4164-c435-4ff93caf0275"
   },
   "outputs": [
    {
     "data": {
      "text/plain": [
       "6"
      ]
     },
     "execution_count": 18,
     "metadata": {},
     "output_type": "execute_result"
    }
   ],
   "source": [
    "# To see the sum of the entire dataframe\n",
    "jeopardy.isnull().sum().sum()"
   ]
  },
  {
   "cell_type": "markdown",
   "metadata": {
    "id": "r1Gk_WZzWDHt"
   },
   "source": [
    "There are missing values that need to be dealt with \n",
    "In some cases you can replace them all if the data for each column was the same. ie all strings or all numbers."
   ]
  },
  {
   "cell_type": "markdown",
   "metadata": {
    "id": "a-K-MtSzWDHu"
   },
   "source": [
    "# Question 18. How would you treat replacing all of the missing values in your jeopardy dataset? What about for columns that are strings? What about for columns that are values?\n",
    "\n",
    "For numerical values, the best practise would be to find the mean of all the values in the column and replace the missing values with the mean value. \n",
    "\n",
    "For string values, the best practise would be to find the most common  string value among all the values in that particular column and replace the missing values with the most common string value.\n",
    "\n",
    "This, however, has to be done carefully as well because if the number of missing values is very large, replacing them with the most common values or mean values will add some bias to our data. In this case, it might be better to drop the rows with missing values compeltely. This also depends on the size of the  dataset and the number of missing values. If the dataset is large enough and it has few missing values, we can drop those columns altogether, but if there are few values in dataset and considerable size is missing, we might need to replace those values from other sources.\n"
   ]
  },
  {
   "cell_type": "markdown",
   "metadata": {
    "id": "v9p8FpvvWDHu"
   },
   "source": [
    "# Getting the Index or indices of the missing values in your dataframe\n",
    "df[df['column_name'].isnull()]\n",
    "\n",
    "Note: Characters such as empty strings ‘’ or numpy.inf are not considered NA values (unless you set pandas.options.mode.use_inf_as_na = True).\n",
    "\n",
    "# Question 19. # Write the code to get the indices of the missing values in the jeopardy dataframe for the columns Question, Answer, Round, Value, Category"
   ]
  },
  {
   "cell_type": "code",
   "execution_count": 19,
   "metadata": {
    "colab": {
     "base_uri": "https://localhost:8080/"
    },
    "executionInfo": {
     "elapsed": 902,
     "status": "ok",
     "timestamp": 1605378859368,
     "user": {
      "displayName": "Prabin Sapkota",
      "photoUrl": "https://lh6.googleusercontent.com/-doP6HgypWoA/AAAAAAAAAAI/AAAAAAAAADs/IVE1vPXCX6U/s64/photo.jpg",
      "userId": "10525827673897210712"
     },
     "user_tz": 300
    },
    "id": "O_iPVGW6WDHu",
    "outputId": "f2444583-1165-425b-fd5a-fe9c2edafd2c"
   },
   "outputs": [
    {
     "data": {
      "text/plain": [
       "[321, 388]"
      ]
     },
     "execution_count": 19,
     "metadata": {},
     "output_type": "execute_result"
    }
   ],
   "source": [
    "missing_question = jeopardy[jeopardy[\"Question\"].isnull()].index.tolist()\n",
    "missing_question"
   ]
  },
  {
   "cell_type": "code",
   "execution_count": 20,
   "metadata": {
    "colab": {
     "base_uri": "https://localhost:8080/"
    },
    "executionInfo": {
     "elapsed": 897,
     "status": "ok",
     "timestamp": 1605378859369,
     "user": {
      "displayName": "Prabin Sapkota",
      "photoUrl": "https://lh6.googleusercontent.com/-doP6HgypWoA/AAAAAAAAAAI/AAAAAAAAADs/IVE1vPXCX6U/s64/photo.jpg",
      "userId": "10525827673897210712"
     },
     "user_tz": 300
    },
    "id": "_7h36kp_nGFC",
    "outputId": "c832732d-f958-47bd-8adb-e1f0d05aefc8"
   },
   "outputs": [
    {
     "data": {
      "text/plain": [
       "[112, 260]"
      ]
     },
     "execution_count": 20,
     "metadata": {},
     "output_type": "execute_result"
    }
   ],
   "source": [
    "missing_answer = jeopardy[jeopardy[\"Answer\"].isnull()].index.tolist()\n",
    "missing_answer"
   ]
  },
  {
   "cell_type": "code",
   "execution_count": 21,
   "metadata": {
    "colab": {
     "base_uri": "https://localhost:8080/"
    },
    "executionInfo": {
     "elapsed": 891,
     "status": "ok",
     "timestamp": 1605378859369,
     "user": {
      "displayName": "Prabin Sapkota",
      "photoUrl": "https://lh6.googleusercontent.com/-doP6HgypWoA/AAAAAAAAAAI/AAAAAAAAADs/IVE1vPXCX6U/s64/photo.jpg",
      "userId": "10525827673897210712"
     },
     "user_tz": 300
    },
    "id": "IB9wCm1NnGNc",
    "outputId": "e11d0f42-adf3-404f-f565-5c9b2f0ec407"
   },
   "outputs": [
    {
     "data": {
      "text/plain": [
       "[174]"
      ]
     },
     "execution_count": 21,
     "metadata": {},
     "output_type": "execute_result"
    }
   ],
   "source": [
    "missing_round = jeopardy[jeopardy[\"Round\"].isnull()].index.tolist()\n",
    "missing_round"
   ]
  },
  {
   "cell_type": "code",
   "execution_count": 22,
   "metadata": {
    "colab": {
     "base_uri": "https://localhost:8080/"
    },
    "executionInfo": {
     "elapsed": 885,
     "status": "ok",
     "timestamp": 1605378859369,
     "user": {
      "displayName": "Prabin Sapkota",
      "photoUrl": "https://lh6.googleusercontent.com/-doP6HgypWoA/AAAAAAAAAAI/AAAAAAAAADs/IVE1vPXCX6U/s64/photo.jpg",
      "userId": "10525827673897210712"
     },
     "user_tz": 300
    },
    "id": "gs4JyguknGWN",
    "outputId": "cbb79396-e5fe-4850-9867-21cecb3438b3"
   },
   "outputs": [
    {
     "data": {
      "text/plain": [
       "[588]"
      ]
     },
     "execution_count": 22,
     "metadata": {},
     "output_type": "execute_result"
    }
   ],
   "source": [
    "missing_value = jeopardy[jeopardy[\"Value\"].isnull()].index.tolist()\n",
    "missing_value"
   ]
  },
  {
   "cell_type": "code",
   "execution_count": 23,
   "metadata": {
    "colab": {
     "base_uri": "https://localhost:8080/"
    },
    "executionInfo": {
     "elapsed": 880,
     "status": "ok",
     "timestamp": 1605378859370,
     "user": {
      "displayName": "Prabin Sapkota",
      "photoUrl": "https://lh6.googleusercontent.com/-doP6HgypWoA/AAAAAAAAAAI/AAAAAAAAADs/IVE1vPXCX6U/s64/photo.jpg",
      "userId": "10525827673897210712"
     },
     "user_tz": 300
    },
    "id": "rsOOIrlvnGci",
    "outputId": "ff0d0dde-441e-443a-b918-42d281fbe624"
   },
   "outputs": [
    {
     "data": {
      "text/plain": [
       "[]"
      ]
     },
     "execution_count": 23,
     "metadata": {},
     "output_type": "execute_result"
    }
   ],
   "source": [
    "missing_category= jeopardy[jeopardy[\"Category\"].isnull()].index.tolist()\n",
    "missing_category"
   ]
  },
  {
   "cell_type": "markdown",
   "metadata": {
    "id": "X0c2sJ_7WDHw"
   },
   "source": [
    "# More Dealing with Missing Data \n",
    "\n",
    "In most cases you will drop or delete those rows from the dataset that you  are analyzing\n",
    "\n",
    "However, if you yare dealing with a datset that is small and you need all the data necessary to analyze the problem, you may want to check back with the datasource to look for those missing values.\n",
    "\n",
    "In some easier cases you can check online resources to try and fill in the missing data. This is tricky those because the data on the internet is not always correct and you are taking a chance in using the values you find in your analysis."
   ]
  },
  {
   "cell_type": "markdown",
   "metadata": {
    "id": "xB4Ry4eaWDHw"
   },
   "source": [
    "# Let's remove the missing values from our dataframe and print the number of rows in the dataset after removing missing data rows\n",
    "To do this we use the drop function and the syntax:\n",
    "    df.drop(index_list, inplace=True)\n",
    "    \n",
    "   where df is the data frame and the index_list is an array of row indices to remove from the data frame"
   ]
  },
  {
   "cell_type": "code",
   "execution_count": 24,
   "metadata": {
    "colab": {
     "base_uri": "https://localhost:8080/"
    },
    "executionInfo": {
     "elapsed": 873,
     "status": "ok",
     "timestamp": 1605378859370,
     "user": {
      "displayName": "Prabin Sapkota",
      "photoUrl": "https://lh6.googleusercontent.com/-doP6HgypWoA/AAAAAAAAAAI/AAAAAAAAADs/IVE1vPXCX6U/s64/photo.jpg",
      "userId": "10525827673897210712"
     },
     "user_tz": 300
    },
    "id": "VisL5yGzWDHx",
    "outputId": "494ffb1c-ea2f-4983-a6a6-35cac0ee7b66"
   },
   "outputs": [
    {
     "data": {
      "text/plain": [
       "(19993, 7)"
      ]
     },
     "execution_count": 24,
     "metadata": {},
     "output_type": "execute_result"
    }
   ],
   "source": [
    "missing = missing_question + missing_answer + missing_round + missing_value + missing_category\n",
    "jeopardy.drop(missing, inplace=True)\n",
    "jeopardy.shape"
   ]
  },
  {
   "cell_type": "markdown",
   "metadata": {
    "id": "FVOq48jVWDHz"
   },
   "source": [
    "# Now the easy way to drop missing values from your dataframe\n",
    "You can also use the dropna command \n",
    "\n",
    "df.dropna(inplace = True) \n",
    "\n",
    "where df is the dataframe\n",
    "\n",
    "# Let's move on to visualizing aspects about the data now that values are not missing\n",
    "1. Visualize the top 10 answers"
   ]
  },
  {
   "cell_type": "code",
   "execution_count": 25,
   "metadata": {
    "colab": {
     "base_uri": "https://localhost:8080/",
     "height": 985
    },
    "executionInfo": {
     "elapsed": 1184,
     "status": "ok",
     "timestamp": 1605378859687,
     "user": {
      "displayName": "Prabin Sapkota",
      "photoUrl": "https://lh6.googleusercontent.com/-doP6HgypWoA/AAAAAAAAAAI/AAAAAAAAADs/IVE1vPXCX6U/s64/photo.jpg",
      "userId": "10525827673897210712"
     },
     "user_tz": 300
    },
    "id": "EXU08fU-WDHz",
    "outputId": "e34fddc5-b9c8-4d14-a595-98ff7d97ab82"
   },
   "outputs": [
    {
     "name": "stdout",
     "output_type": "stream",
     "text": [
      "Japan        22\n",
      "Australia    19\n",
      "India        19\n",
      "China        19\n",
      "Canada       19\n",
      "Name: Answer, dtype: int64\n",
      "\n",
      "0        False\n",
      "1        False\n",
      "2        False\n",
      "3        False\n",
      "4        False\n",
      "         ...  \n",
      "19994    False\n",
      "19995    False\n",
      "19996    False\n",
      "19997    False\n",
      "19998    False\n",
      "Name: Answer, Length: 19993, dtype: bool\n"
     ]
    },
    {
     "data": {
      "text/plain": [
       "Text(0.5, 1.0, 'Top 10 Answer Distribution')"
      ]
     },
     "execution_count": 25,
     "metadata": {},
     "output_type": "execute_result"
    },
    {
     "data": {
      "image/png": "[encoded data removed]",
      "text/plain": [
       "<Figure size 1080x720 with 1 Axes>"
      ]
     },
     "metadata": {
      "needs_background": "light"
     },
     "output_type": "display_data"
    }
   ],
   "source": [
    "# Edit the code below to create a variable called top_10 that takes the top ten answers from the Answer column\n",
    "top_10 = jeopardy['Answer'].value_counts()[:10]\n",
    "print(top_10.head())\n",
    "print()\n",
    "\n",
    "mask = jeopardy['Answer'].map(lambda x: x in top_10.index.tolist())\n",
    "print(mask)\n",
    "\n",
    "sns.countplot(y='Answer', data=jeopardy[mask], palette=sns.color_palette('inferno', 15), order=top_10.index.tolist())\n",
    "plt.gcf().set_size_inches(15,10)\n",
    "plt.title('Top 10 Answer Distribution', size=25)"
   ]
  },
  {
   "cell_type": "markdown",
   "metadata": {
    "id": "0qkKQol0WDH1"
   },
   "source": [
    "# Question 20. Describe what you think the value_counts function is doing below\n",
    "The value_count function is returning a Series object with counts of unique values in descending order.\n",
    "\n",
    "It is getting the counts of unique items in the column.\n"
   ]
  },
  {
   "cell_type": "markdown",
   "metadata": {
    "id": "MwKILse_WDH1"
   },
   "source": [
    "# Explanation of the code above\n",
    "The value_counts() function counts the number of answers that are the same.\n",
    "This is stored in the variable top_10\n",
    "The [:10] grabs the first ten rows in the dataframe\n",
    "\n",
    "The rest of the code uses the seaborn library to create a horizontal bar to visuzlie the top 10 most common answers from the Jeopary dataset"
   ]
  },
  {
   "cell_type": "code",
   "execution_count": 26,
   "metadata": {
    "colab": {
     "base_uri": "https://localhost:8080/",
     "height": 985
    },
    "executionInfo": {
     "elapsed": 1373,
     "status": "ok",
     "timestamp": 1605378859882,
     "user": {
      "displayName": "Prabin Sapkota",
      "photoUrl": "https://lh6.googleusercontent.com/-doP6HgypWoA/AAAAAAAAAAI/AAAAAAAAADs/IVE1vPXCX6U/s64/photo.jpg",
      "userId": "10525827673897210712"
     },
     "user_tz": 300
    },
    "id": "f_baWRR8WDH2",
    "outputId": "bf85b237-b838-47b8-b70b-bf6caa995a05"
   },
   "outputs": [
    {
     "name": "stdout",
     "output_type": "stream",
     "text": [
      "[audio clue]                                           5\n",
      "1967: \"We rob banks\"                                   2\n",
      "Common in Dixie, a razorback is a wild one of these    2\n",
      "Adam Levine                                            2\n",
      "These \"fell great oaks\"                                2\n",
      "Name: Question, dtype: int64\n",
      "\n",
      "0        False\n",
      "1        False\n",
      "2        False\n",
      "3        False\n",
      "4        False\n",
      "         ...  \n",
      "19994    False\n",
      "19995    False\n",
      "19996    False\n",
      "19997    False\n",
      "19998    False\n",
      "Name: Question, Length: 19993, dtype: bool\n"
     ]
    },
    {
     "data": {
      "text/plain": [
       "Text(0.5, 1.0, 'Top 10 Question Distribution')"
      ]
     },
     "execution_count": 26,
     "metadata": {},
     "output_type": "execute_result"
    },
    {
     "data": {
      "image/png": "[encoded data removed]",
      "text/plain": [
       "<Figure size 1080x720 with 1 Axes>"
      ]
     },
     "metadata": {
      "needs_background": "light"
     },
     "output_type": "display_data"
    }
   ],
   "source": [
    "# Repeat the same process to get the top 10 most popular questions. Don't plot it\n",
    "top_10_Q = jeopardy['Question'].value_counts()[:10]\n",
    "print(top_10_Q.head())\n",
    "print()\n",
    "\n",
    "mask = jeopardy['Question'].map(lambda x: x in top_10.index.tolist())\n",
    "print(mask)\n",
    "sns.countplot(y='Question', data=jeopardy[mask], palette=sns.color_palette('inferno', 15), order=top_10.index.tolist())\n",
    "plt.gcf().set_size_inches(15,10)\n",
    "plt.title('Top 10 Question Distribution', size=25)"
   ]
  },
  {
   "cell_type": "markdown",
   "metadata": {
    "id": "k1IRrbhcWDH4"
   },
   "source": [
    "# Question 21. What do you notice about your Plot. Write the answer below\n",
    "Write your answer here\n",
    "\n",
    "The mask and order  are calculated  based on the value_counts of the  \"Answer\" column while we should have used the  \"Question\" column."
   ]
  },
  {
   "cell_type": "markdown",
   "metadata": {
    "id": "QV6nHuIpWDH4"
   },
   "source": [
    "The method we used for Question 18 won't work for this question.  \n",
    "Remove the [:10] from the end of value_counts()\n",
    "\n",
    "# Write the code without the value_counts at the end"
   ]
  },
  {
   "cell_type": "code",
   "execution_count": 27,
   "metadata": {
    "colab": {
     "base_uri": "https://localhost:8080/",
     "height": 985
    },
    "executionInfo": {
     "elapsed": 1925,
     "status": "ok",
     "timestamp": 1605378860440,
     "user": {
      "displayName": "Prabin Sapkota",
      "photoUrl": "https://lh6.googleusercontent.com/-doP6HgypWoA/AAAAAAAAAAI/AAAAAAAAADs/IVE1vPXCX6U/s64/photo.jpg",
      "userId": "10525827673897210712"
     },
     "user_tz": 300
    },
    "id": "I0yLkOOrWDH5",
    "outputId": "582edecb-8f2c-4a5b-c758-8d69586f43f9"
   },
   "outputs": [
    {
     "name": "stdout",
     "output_type": "stream",
     "text": [
      "[audio clue]                                           5\n",
      "1967: \"We rob banks\"                                   2\n",
      "Common in Dixie, a razorback is a wild one of these    2\n",
      "Adam Levine                                            2\n",
      "These \"fell great oaks\"                                2\n",
      "Name: Question, dtype: int64\n",
      "\n",
      "0        False\n",
      "1        False\n",
      "2        False\n",
      "3        False\n",
      "4        False\n",
      "         ...  \n",
      "19994    False\n",
      "19995    False\n",
      "19996    False\n",
      "19997    False\n",
      "19998    False\n",
      "Name: Question, Length: 19993, dtype: bool\n"
     ]
    },
    {
     "data": {
      "text/plain": [
       "Text(0.5, 1.0, 'Top 10 Question Distribution')"
      ]
     },
     "execution_count": 27,
     "metadata": {},
     "output_type": "execute_result"
    },
    {
     "data": {
      "image/png": "[encoded data removed]",
      "text/plain": [
       "<Figure size 1080x720 with 1 Axes>"
      ]
     },
     "metadata": {
      "needs_background": "light"
     },
     "output_type": "display_data"
    }
   ],
   "source": [
    "top_10_Q = jeopardy['Question'].value_counts()[:10]\n",
    "print(top_10_Q.head())\n",
    "print()\n",
    "\n",
    "mask = jeopardy['Question'].map(lambda x: x in top_10_Q.index.tolist())\n",
    "print(mask)\n",
    "sns.countplot(y='Question', data=jeopardy[mask], palette=sns.color_palette('inferno', 15), order=top_10_Q.index.tolist())\n",
    "plt.gcf().set_size_inches(15,10)\n",
    "plt.title('Top 10 Question Distribution', size=25)"
   ]
  },
  {
   "cell_type": "markdown",
   "metadata": {
    "id": "HLbGrpF3WDH7"
   },
   "source": [
    "# Notice that [audio clue] is included as a value for the Question column\n",
    "We can only assume that Jeopardy provides a audio clue rather than a textual question to the contestant. This is not helpful for our analysis as it occurs five times in the dataset and the audio clip is not known.\n",
    "\n",
    "This value is not useful and this row should be removed\n",
    "\n",
    "# Question 22 . Write the code to remove the row with '[audio clue]' listed as a value for the Question column"
   ]
  },
  {
   "cell_type": "code",
   "execution_count": 28,
   "metadata": {
    "colab": {
     "base_uri": "https://localhost:8080/"
    },
    "executionInfo": {
     "elapsed": 1920,
     "status": "ok",
     "timestamp": 1605378860441,
     "user": {
      "displayName": "Prabin Sapkota",
      "photoUrl": "https://lh6.googleusercontent.com/-doP6HgypWoA/AAAAAAAAAAI/AAAAAAAAADs/IVE1vPXCX6U/s64/photo.jpg",
      "userId": "10525827673897210712"
     },
     "user_tz": 300
    },
    "id": "FICQhbmyWDH8",
    "outputId": "35d6893f-cb04-45f3-bf37-62997384c757"
   },
   "outputs": [
    {
     "name": "stdout",
     "output_type": "stream",
     "text": [
      "\"His pride had cast him out from heaven, with all his host of rebel angels\"                                              2\n",
      "These \"fell great oaks\"                                                                                                  2\n",
      "1967: \"We rob banks\"                                                                                                     2\n",
      "Adam Levine                                                                                                              2\n",
      "In Nicolai's opera \"The Merry Wives of Windsor\", this fat, funny rogue gets dumped into the river in a laundry basket    2\n",
      "Name: Question, dtype: int64\n",
      "\n"
     ]
    }
   ],
   "source": [
    "jeopardy.drop(jeopardy[jeopardy['Question'] == \"[audio clue]\"].index, inplace = True)\n",
    "\n",
    "top_10_Q = jeopardy['Question'].value_counts()[:10]\n",
    "print(top_10_Q.head())\n",
    "print()"
   ]
  },
  {
   "cell_type": "markdown",
   "metadata": {
    "id": "8gQZRvh2WDIB"
   },
   "source": [
    "# Text Preprocessing\n",
    "Some of the values have URLs and HTML tags embedded within them\n",
    "We will need to clean that up before we can analyze the data\n",
    "\n",
    "We can use pandas regular expressions functions\n",
    "\n",
    "Instead of munging the original data, it is better to copy the data into new column\n",
    "This new column is called jeopardy['without_tags']\n",
    "\n",
    "You should never overwrite the a column in your original dataset, rather add on to it because you'll never know if and when you'll need the original data to perform another operation.\n",
    "\n",
    "# Question 23. Write the code to import the regular expression libary"
   ]
  },
  {
   "cell_type": "code",
   "execution_count": 29,
   "metadata": {
    "executionInfo": {
     "elapsed": 1914,
     "status": "ok",
     "timestamp": 1605378860442,
     "user": {
      "displayName": "Prabin Sapkota",
      "photoUrl": "https://lh6.googleusercontent.com/-doP6HgypWoA/AAAAAAAAAAI/AAAAAAAAADs/IVE1vPXCX6U/s64/photo.jpg",
      "userId": "10525827673897210712"
     },
     "user_tz": 300
    },
    "id": "njS2yIQKWDIC"
   },
   "outputs": [],
   "source": [
    "import re"
   ]
  },
  {
   "cell_type": "code",
   "execution_count": 30,
   "metadata": {
    "colab": {
     "base_uri": "https://localhost:8080/"
    },
    "executionInfo": {
     "elapsed": 1906,
     "status": "ok",
     "timestamp": 1605378860442,
     "user": {
      "displayName": "Prabin Sapkota",
      "photoUrl": "https://lh6.googleusercontent.com/-doP6HgypWoA/AAAAAAAAAAI/AAAAAAAAADs/IVE1vPXCX6U/s64/photo.jpg",
      "userId": "10525827673897210712"
     },
     "user_tz": 300
    },
    "id": "fdBu2CTYWDIE",
    "outputId": "9445171c-0c3d-4a46-e7c1-c31528da5007"
   },
   "outputs": [
    {
     "name": "stdout",
     "output_type": "stream",
     "text": [
      "\n",
      "Sentences without tags:\n",
      "0        For the last 8 years of his life, Galileo was ...\n",
      "1        No. 2: 1912 Olympian; football star at Carlisl...\n",
      "2        The city of Yuma in this state has a record av...\n",
      "3        In 1963, live on \"The Art Linkletter Show\", th...\n",
      "4        Signer of the Dec. of Indep., framer of the Co...\n",
      "                               ...                        \n",
      "19994    Of 8, 12 or 18, the number of U.S. states that...\n",
      "19995                        ...& the New Power Generation\n",
      "19996    In 1589 he was appointed professor of mathemat...\n",
      "19997    Before the grand jury she said, \"I'm really so...\n",
      "19998    Llamas are the heftiest South American members...\n",
      "Name: without_tags, Length: 19988, dtype: object\n"
     ]
    }
   ],
   "source": [
    "# We will write a function called remove_tags to remove the html tags from any string you pass it\n",
    "def remove_tags(string):\n",
    "    result = re.sub('<.*?>','',string)\n",
    "    return result\n",
    "jeopardy['without_tags'] = jeopardy['Question'].apply(lambda cw :remove_tags(cw))\n",
    "print(\"\\nSentences without tags:\")\n",
    "print(jeopardy['without_tags'])"
   ]
  },
  {
   "cell_type": "markdown",
   "metadata": {
    "id": "BLO9fWyWWDIG"
   },
   "source": [
    "# Let's double-check our work to see if that worked\n",
    "Write the code to print out the old Question column data for row 30 that still  had html tags in it. \n",
    "\n",
    "Name this variable old_html_data"
   ]
  },
  {
   "cell_type": "code",
   "execution_count": 31,
   "metadata": {
    "colab": {
     "base_uri": "https://localhost:8080/"
    },
    "executionInfo": {
     "elapsed": 401,
     "status": "ok",
     "timestamp": 1605379081116,
     "user": {
      "displayName": "Prabin Sapkota",
      "photoUrl": "https://lh6.googleusercontent.com/-doP6HgypWoA/AAAAAAAAAAI/AAAAAAAAADs/IVE1vPXCX6U/s64/photo.jpg",
      "userId": "10525827673897210712"
     },
     "user_tz": 300
    },
    "id": "ADs4MnETWDIG",
    "outputId": "92390728-e00f-4473-ade4-11d26195d091"
   },
   "outputs": [
    {
     "name": "stdout",
     "output_type": "stream",
     "text": [
      "<a href=\"http://www.j-archive.com/media/2004-12-31_DJ_23.mp3\">Beyond ovoid abandonment, beyond ovoid betrayal... you won't believe the ending when he \"Hatches the Egg\"</a>\n"
     ]
    }
   ],
   "source": [
    "old_html_data = jeopardy['Question'][29]\n",
    "print(old_html_data)"
   ]
  },
  {
   "cell_type": "markdown",
   "metadata": {
    "id": "e9JeIZnmWDII"
   },
   "source": [
    "# Question 24. Write the code to print out the question column for row 30 without html in it. \n",
    "Name it new_data"
   ]
  },
  {
   "cell_type": "code",
   "execution_count": 32,
   "metadata": {
    "colab": {
     "base_uri": "https://localhost:8080/",
     "height": 35
    },
    "executionInfo": {
     "elapsed": 407,
     "status": "ok",
     "timestamp": 1605379082909,
     "user": {
      "displayName": "Prabin Sapkota",
      "photoUrl": "https://lh6.googleusercontent.com/-doP6HgypWoA/AAAAAAAAAAI/AAAAAAAAADs/IVE1vPXCX6U/s64/photo.jpg",
      "userId": "10525827673897210712"
     },
     "user_tz": 300
    },
    "id": "MkKXQtTKWDII",
    "outputId": "06080304-6545-422b-9f4d-05edcda7dce9"
   },
   "outputs": [
    {
     "data": {
      "text/plain": [
       "'Beyond ovoid abandonment, beyond ovoid betrayal... you won\\'t believe the ending when he \"Hatches the Egg\"'"
      ]
     },
     "execution_count": 32,
     "metadata": {},
     "output_type": "execute_result"
    }
   ],
   "source": [
    "without_tags_30 = jeopardy[\"without_tags\"][29]\n",
    "without_tags_30"
   ]
  },
  {
   "cell_type": "markdown",
   "metadata": {
    "id": "k6g3es43WDIK"
   },
   "source": [
    "# Making everything upper or lowercase\n",
    "Sometimes you will need to compare strings. To easily compare strings you should convert them to either upper or lowercase"
   ]
  },
  {
   "cell_type": "code",
   "execution_count": 33,
   "metadata": {
    "colab": {
     "base_uri": "https://localhost:8080/",
     "height": 52
    },
    "executionInfo": {
     "elapsed": 312,
     "status": "ok",
     "timestamp": 1605379137349,
     "user": {
      "displayName": "Prabin Sapkota",
      "photoUrl": "https://lh6.googleusercontent.com/-doP6HgypWoA/AAAAAAAAAAI/AAAAAAAAADs/IVE1vPXCX6U/s64/photo.jpg",
      "userId": "10525827673897210712"
     },
     "user_tz": 300
    },
    "id": "BKyy8M7yWDIK",
    "outputId": "cb308650-5fab-4828-f37e-215805a6282c"
   },
   "outputs": [
    {
     "data": {
      "text/plain": [
       "'<a href=\"http://www.j-archive.com/media/2004-12-31_dj_23.mp3\">beyond ovoid abandonment, beyond ovoid betrayal... you won\\'t believe the ending when he \"hatches the egg\"</a>'"
      ]
     },
     "execution_count": 33,
     "metadata": {},
     "output_type": "execute_result"
    }
   ],
   "source": [
    "old_html_data.lower()"
   ]
  },
  {
   "cell_type": "code",
   "execution_count": 34,
   "metadata": {
    "colab": {
     "base_uri": "https://localhost:8080/",
     "height": 52
    },
    "executionInfo": {
     "elapsed": 2173,
     "status": "ok",
     "timestamp": 1605378860740,
     "user": {
      "displayName": "Prabin Sapkota",
      "photoUrl": "https://lh6.googleusercontent.com/-doP6HgypWoA/AAAAAAAAAAI/AAAAAAAAADs/IVE1vPXCX6U/s64/photo.jpg",
      "userId": "10525827673897210712"
     },
     "user_tz": 300
    },
    "id": "aIeCG-bcWDIN",
    "outputId": "a3f6e519-23b3-4fc5-be76-0add34e00c31"
   },
   "outputs": [
    {
     "data": {
      "text/plain": [
       "'<A HREF=\"HTTP://WWW.J-ARCHIVE.COM/MEDIA/2004-12-31_DJ_23.MP3\">BEYOND OVOID ABANDONMENT, BEYOND OVOID BETRAYAL... YOU WON\\'T BELIEVE THE ENDING WHEN HE \"HATCHES THE EGG\"</A>'"
      ]
     },
     "execution_count": 34,
     "metadata": {},
     "output_type": "execute_result"
    }
   ],
   "source": [
    "old_html_data.upper()"
   ]
  },
  {
   "cell_type": "markdown",
   "metadata": {
    "id": "pjPvM_nfWDIP"
   },
   "source": [
    "# Question 25. Write the code to change the 'Answer' column to all lower case. \n",
    "Your new column should be called jeopardary['lower_answer']\n",
    "Print row number 25 before and after turning to lower case"
   ]
  },
  {
   "cell_type": "code",
   "execution_count": 35,
   "metadata": {
    "colab": {
     "base_uri": "https://localhost:8080/"
    },
    "executionInfo": {
     "elapsed": 371,
     "status": "ok",
     "timestamp": 1605379396031,
     "user": {
      "displayName": "Prabin Sapkota",
      "photoUrl": "https://lh6.googleusercontent.com/-doP6HgypWoA/AAAAAAAAAAI/AAAAAAAAADs/IVE1vPXCX6U/s64/photo.jpg",
      "userId": "10525827673897210712"
     },
     "user_tz": 300
    },
    "id": "NJKaAlJeWDIP",
    "outputId": "afcb9b78-a3ba-4bb9-c566-d7d1e4dfc058"
   },
   "outputs": [
    {
     "name": "stdout",
     "output_type": "stream",
     "text": [
      "the Congress Party\n",
      "the congress party\n"
     ]
    }
   ],
   "source": [
    "jeopardy[\"lower_answer\"] =  jeopardy['Answer'].apply(lambda ans : ans.lower())\n",
    "\n",
    "print(jeopardy[\"Answer\"][24])\n",
    "print(jeopardy[\"lower_answer\"][24])"
   ]
  }
 ],
 "metadata": {
  "colab": {
   "collapsed_sections": [
    "a-K-MtSzWDHu",
    "X0c2sJ_7WDHw",
    "0qkKQol0WDH1",
    "k1IRrbhcWDH4"
   ],
   "name": "Lab8_DataMungingI.ipynb",
   "provenance": []
  },
  "kernelspec": {
   "display_name": "Python 3",
   "language": "python",
   "name": "python3"
  },
  "language_info": {
   "codemirror_mode": {
    "name": "ipython",
    "version": 3
   },
   "file_extension": ".py",
   "mimetype": "text/x-python",
   "name": "python",
   "nbconvert_exporter": "python",
   "pygments_lexer": "ipython3",
   "version": "3.8.6"
  }
 },
 "nbformat": 4,
 "nbformat_minor": 1
}
