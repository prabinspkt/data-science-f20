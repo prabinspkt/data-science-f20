{
 "cells": [
  {
   "cell_type": "markdown",
   "metadata": {
    "colab_type": "text",
    "id": "28UkyXOgI8t0"
   },
   "source": [
    "# Lab 4: Functions and Tables\n",
    "\n",
    "Welcome to Lab 4 !\n",
    "\n",
    "\n",
    "## Introduction\n",
    "Topics to cover in this lab include:\n",
    "\n",
    "   #### 1. Functions and CEO Incomes\n",
    "   #### 2. `apply`ing functions with CEO incomes\n",
    "   #### 3. Using `.join()` with Burrito-ful San Diego\n",
    "   #### 4. Using `.pivot_table()` and `.groupby()` with Faculty salaries\n",
    "\n",
    "\n",
    "\n"
   ]
  },
  {
   "cell_type": "markdown",
   "metadata": {
    "colab_type": "text",
    "id": "2uHFT96WI8t2"
   },
   "source": [
    "Helpful Link on Data types in Pandas:https://pbpython.com/pandas_dtypes.html\n"
   ]
  },
  {
   "cell_type": "markdown",
   "metadata": {
    "colab_type": "text",
    "id": "-EfGFsYgI8t3"
   },
   "source": [
    "Run these cells below to import your modules and get started:"
   ]
  },
  {
   "cell_type": "code",
   "execution_count": 2,
   "metadata": {
    "colab": {},
    "colab_type": "code",
    "id": "sQkJxevbI8t4"
   },
   "outputs": [],
   "source": [
    "import pandas as pd\n",
    "import numpy as np \n",
    "import matplotlib\n",
    "%matplotlib inline\n",
    "import matplotlib.pyplot as plt\n",
    "plt.style.use('fivethirtyeight')"
   ]
  },
  {
   "cell_type": "markdown",
   "metadata": {
    "colab_type": "text",
    "id": "wYi39uukI8t7"
   },
   "source": [
    " ## 1. Functions and CEO Incomes\n",
    " \n",
    "In this question, we'll look at the 2015 compensation of CEOs at the 100 largest companies in California. The data was compiled from a Los Angeles Times analysis, and ultimately came from filings mandated by the SEC from all publicly-traded companies. Two companies have two CEOs, so there are 102 CEOs in the dataset.\n",
    "\n",
    "We've copied the raw data from the LA Times page into a file called **`raw_compensation.csv`**. (The page notes that all dollar amounts are in millions of dollars.)"
   ]
  },
  {
   "cell_type": "code",
   "execution_count": 3,
   "metadata": {
    "colab": {},
    "colab_type": "code",
    "id": "gO9_tvuCI8t8"
   },
   "outputs": [],
   "source": [
    "ceo_2015 = pd.read_csv(\"https://raw.githubusercontent.com/prabinspkt/data-science-files/main/raw_compensation.csv\")"
   ]
  },
  {
   "cell_type": "markdown",
   "metadata": {
    "colab_type": "text",
    "id": "ZWFYPDmKI8t_"
   },
   "source": [
    "We want to compute the average of the CEOs' pay. Try running the cell below."
   ]
  },
  {
   "cell_type": "code",
   "execution_count": 4,
   "metadata": {
    "colab": {},
    "colab_type": "code",
    "id": "395sy1LfI8t_"
   },
   "outputs": [],
   "source": [
    "# np.average(ceo_2015[\"Total Pay\"])"
   ]
  },
  {
   "cell_type": "markdown",
   "metadata": {
    "colab_type": "text",
    "id": "Ka8oc4QGI8uC"
   },
   "source": [
    "You should see a **TypeError**. Let's examine why this error occurred by looking at the values in the `Total Pay` column. "
   ]
  },
  {
   "cell_type": "markdown",
   "metadata": {
    "colab_type": "text",
    "id": "vaFktTt6I8uC"
   },
   "source": [
    "**Question 1:** Set `total_pay_type` to the data type of the `Total Pay` column.\n"
   ]
  },
  {
   "cell_type": "code",
   "execution_count": 5,
   "metadata": {
    "colab": {
     "base_uri": "https://localhost:8080/",
     "height": 212
    },
    "colab_type": "code",
    "id": "uB_GbtrSI8uD",
    "outputId": "82518990-1422-4ae6-9953-058e4ad28b4a"
   },
   "outputs": [
    {
     "name": "stdout",
     "output_type": "stream",
     "text": [
      "object\n"
     ]
    },
    {
     "data": {
      "text/plain": [
       "Rank                                                 int64\n",
       "Name                                                object\n",
       "Company (Headquarters)                              object\n",
       "Total Pay                                           object\n",
       "% Change                                            object\n",
       "Cash Pay                                            object\n",
       "Equity Pay                                          object\n",
       "Other Pay                                           object\n",
       "Ratio of CEO pay to average industry worker pay    float64\n",
       "dtype: object"
      ]
     },
     "execution_count": 5,
     "metadata": {
      "tags": []
     },
     "output_type": "execute_result"
    }
   ],
   "source": [
    "total_pay_col = ceo_2015[\"Total Pay\"]\n",
    "print(total_pay_col.dtype)\n",
    "\n",
    "ceo_2015.dtypes"
   ]
  },
  {
   "cell_type": "markdown",
   "metadata": {
    "colab_type": "text",
    "id": "7J1rKC0DI8uF"
   },
   "source": [
    "**Question 2:** You should have found that the values in the `Total Pay` column are strings. It doesn't make sense to take the average of string values, so we need to convert them to numbers if we want to do this. Extract the first value in `Total Pay`.  It's Mark Hurd's pay in 2015, in *millions* of dollars.  Call it `mark_hurd_pay_string`.\n"
   ]
  },
  {
   "cell_type": "code",
   "execution_count": 6,
   "metadata": {
    "colab": {
     "base_uri": "https://localhost:8080/",
     "height": 35
    },
    "colab_type": "code",
    "id": "-QNzmokqI8uG",
    "outputId": "899e149d-e6ae-490c-97a7-5bbc39f259ad"
   },
   "outputs": [
    {
     "data": {
      "application/vnd.google.colaboratory.intrinsic+json": {
       "type": "string"
      },
      "text/plain": [
       "'$53.25 '"
      ]
     },
     "execution_count": 6,
     "metadata": {
      "tags": []
     },
     "output_type": "execute_result"
    }
   ],
   "source": [
    "mark_hurd_pay_string = total_pay_col[0]\n",
    "mark_hurd_pay_string"
   ]
  },
  {
   "cell_type": "markdown",
   "metadata": {
    "colab_type": "text",
    "id": "5oFxs2hDI8uI"
   },
   "source": [
    "**Question 3:** Convert `mark_hurd_pay_string` to a number of *dollars*. \n",
    "\n",
    "Some hints, as this question requires multiple steps:\n",
    "- The string method `strip` will be useful for removing the dollar sign; it removes a specified character from the start or end of a string.  For example, the value of `\"100%\".strip(\"%\")` is the string `\"100\"`.  \n",
    "- You'll also need the function `float`, which converts a string that looks like a number to an actual number.  \n",
    "- Finally, remember that the answer should be in dollars, not millions of dollars."
   ]
  },
  {
   "cell_type": "code",
   "execution_count": 7,
   "metadata": {
    "colab": {
     "base_uri": "https://localhost:8080/",
     "height": 34
    },
    "colab_type": "code",
    "id": "YDLsXqg9I8uJ",
    "outputId": "053b5a85-740b-47bd-e6d6-1bb51ad4806c"
   },
   "outputs": [
    {
     "data": {
      "text/plain": [
       "53.25"
      ]
     },
     "execution_count": 7,
     "metadata": {
      "tags": []
     },
     "output_type": "execute_result"
    }
   ],
   "source": [
    "mark_hurd_pay = float(mark_hurd_pay_string.strip(\"$ \"))\n",
    "mark_hurd_pay"
   ]
  },
  {
   "cell_type": "markdown",
   "metadata": {
    "colab_type": "text",
    "id": "GHEujIjOI8uL"
   },
   "source": [
    "To compute the average pay, we need to do this for every CEO.  But that looks like it would involve copying this code 102 times.\n",
    "\n",
    "This is where functions come in.  First, we'll define a new function, giving a name to the expression that converts \"total pay\" strings to numeric values.  Later in this lab, we'll see the payoff: we can call that function on every pay string in the dataset at once.\n",
    "\n",
    "The next section of this lab explains how to define a function For now, just fill in the ellipses in the cell below.\n",
    "\n",
    "**Question 4:** Copy the expression you used to compute `mark_hurd_pay`, and use it as the return expression of the function below. But make sure you replace the specific `mark_hurd_pay_string` with the generic `pay_string` name specified in the first line in the `def` statement.\n",
    "\n"
   ]
  },
  {
   "cell_type": "code",
   "execution_count": 8,
   "metadata": {
    "colab": {},
    "colab_type": "code",
    "id": "Nwb9rSUfI8uM"
   },
   "outputs": [],
   "source": [
    "def convert_pay_string_to_number(strxng):\n",
    "  return float(strxng.strip(\"$ \"))"
   ]
  },
  {
   "cell_type": "markdown",
   "metadata": {
    "colab_type": "text",
    "id": "qBlkOZYnI8uO"
   },
   "source": [
    "Running that cell doesn't convert any particular pay string. Instead, it creates a function called `convert_pay_string_to_number` that can convert *any* string with the right format to a number representing millions of dollars.\n",
    "\n",
    "We can call our function just like we call the built-in functions we've seen. It takes one argument -- a string -- and it returns a float."
   ]
  },
  {
   "cell_type": "code",
   "execution_count": 9,
   "metadata": {
    "colab": {
     "base_uri": "https://localhost:8080/",
     "height": 34
    },
    "colab_type": "code",
    "id": "ZQuJtUfXI8uP",
    "outputId": "3e08e59a-4043-4804-e363-5e33cf9304ad"
   },
   "outputs": [
    {
     "data": {
      "text/plain": [
       "42.0"
      ]
     },
     "execution_count": 9,
     "metadata": {
      "tags": []
     },
     "output_type": "execute_result"
    }
   ],
   "source": [
    "convert_pay_string_to_number('$42')"
   ]
  },
  {
   "cell_type": "code",
   "execution_count": 10,
   "metadata": {
    "colab": {
     "base_uri": "https://localhost:8080/",
     "height": 34
    },
    "colab_type": "code",
    "id": "Ef3nBLCaI8uS",
    "outputId": "56d4b96c-4c82-4a08-93c4-cb48cf447c7d"
   },
   "outputs": [
    {
     "data": {
      "text/plain": [
       "53.25"
      ]
     },
     "execution_count": 10,
     "metadata": {
      "tags": []
     },
     "output_type": "execute_result"
    }
   ],
   "source": [
    "mark_hurd_pay_string = ceo_2015.loc[0,'Total Pay']\n",
    "convert_pay_string_to_number(mark_hurd_pay_string)"
   ]
  },
  {
   "cell_type": "markdown",
   "metadata": {
    "colab_type": "text",
    "id": "otsnd0nMI8uV"
   },
   "source": [
    "**Question 5:** Create a bar chart with the top five ceo total pays. Labels for each bar should be the names of the CEO's. The x-axis should say \"CEO's\" and the y-axis should say \"Dollars in millions $.\" Title you chart \"Top 5 CEO Total Pays for 2015.\" Utilize the `convert_pay_string_to_number` function you define earlier"
   ]
  },
  {
   "cell_type": "code",
   "execution_count": 39,
   "metadata": {
    "colab": {
     "base_uri": "https://localhost:8080/",
     "height": 686
    },
    "colab_type": "code",
    "id": "9a5-rZWKI8uW",
    "outputId": "30dd81c9-0031-44c4-ab97-506e88eb0a4d"
   },
   "outputs": [
    {
     "name": "stdout",
     "output_type": "stream",
     "text": [
      "[53.25, 53.24, 44.91, 35.98, 33.36]\n",
      "[  0 100 200 300 400]\n"
     ]
    },
    {
     "data": {
      "image/png": "[encoded data removed]",
      "text/plain": [
       "<Figure size 921.6x691.2 with 1 Axes>"
      ]
     },
     "metadata": {
      "tags": []
     },
     "output_type": "display_data"
    }
   ],
   "source": [
    "name_col = ceo_2015[\"Name\"]\n",
    "\n",
    "CEO_salaries = []\n",
    "CEO_names = []\n",
    "for i in range(5):\n",
    "  CEO_salaries.append(convert_pay_string_to_number(total_pay_col[i]))\n",
    "  CEO_names.append(name_col[i])\n",
    "print(CEO_salaries)\n",
    "\n",
    "r1 = np.arange(0, 500, 100)\n",
    "print(r1)\n",
    "\n",
    "bar_width = 50\n",
    "\n",
    "plt.figure(figsize=[12.8, 9.6])\n",
    "plt.bar(r1, CEO_salaries, color=\"orange\", width=bar_width, edgecolor=\"black\", linewidth=1.2)\n",
    "\n",
    "plt.xlabel('CEOs', fontweight='bold')\n",
    "plt.ylabel('Dollars in million $')\n",
    "plt.xticks(r1, CEO_names)\n",
    "\n",
    "plt.title(\"Top 5 CEO Total Pays for 2015\")\n",
    "plt.show()\n",
    "\n"
   ]
  },
  {
   "cell_type": "markdown",
   "metadata": {
    "colab_type": "text",
    "id": "Hr7ZImDtI8uY"
   },
   "source": [
    "So, what have we gained by defining the `convert_pay_string_to_number` function? \n",
    "Well, without it, we'd have to copy the code `10**6 * float(some_pay_string.strip(\"$\"))` each time we wanted to convert a pay string.  Now we just call a function whose name says exactly what it's doing."
   ]
  },
  {
   "cell_type": "markdown",
   "metadata": {
    "colab_type": "text",
    "id": "W8WFgByqI8uY"
   },
   "source": [
    "## 2. `apply`ing functions with CEO incomes\n",
    "\n",
    "Defining a function is a lot like giving a name to a value with `=`.  In fact, a function is a value just like the number 1 or the text \"data\"!\n",
    "\n",
    "For example, we can make a new name for the built-in function `max` if we want:"
   ]
  },
  {
   "cell_type": "code",
   "execution_count": 12,
   "metadata": {
    "colab": {
     "base_uri": "https://localhost:8080/",
     "height": 34
    },
    "colab_type": "code",
    "id": "tYSkPhlfI8uY",
    "outputId": "20db8b66-fe2c-4f97-eae9-b163a7952ef9"
   },
   "outputs": [
    {
     "data": {
      "text/plain": [
       "6"
      ]
     },
     "execution_count": 12,
     "metadata": {
      "tags": []
     },
     "output_type": "execute_result"
    }
   ],
   "source": [
    "our_name_for_max = max\n",
    "our_name_for_max(2, 6)"
   ]
  },
  {
   "cell_type": "markdown",
   "metadata": {
    "colab_type": "text",
    "id": "rXKvRSogI8ub"
   },
   "source": [
    "The old name for `max` is still around:"
   ]
  },
  {
   "cell_type": "code",
   "execution_count": 13,
   "metadata": {
    "colab": {
     "base_uri": "https://localhost:8080/",
     "height": 34
    },
    "colab_type": "code",
    "id": "1qWPT2IzI8ub",
    "outputId": "9b3ef77a-bb10-4f20-a0fc-edad1c60f823"
   },
   "outputs": [
    {
     "data": {
      "text/plain": [
       "6"
      ]
     },
     "execution_count": 13,
     "metadata": {
      "tags": []
     },
     "output_type": "execute_result"
    }
   ],
   "source": [
    "max(2, 6)"
   ]
  },
  {
   "cell_type": "markdown",
   "metadata": {
    "colab_type": "text",
    "id": "D1iv13jpI8ud"
   },
   "source": [
    "Try just writing `max` or `our_name_for_max` (or the name of any other function) in a cell, and run that cell.  Python will print out a (very brief) description of the function."
   ]
  },
  {
   "cell_type": "code",
   "execution_count": 14,
   "metadata": {
    "colab": {
     "base_uri": "https://localhost:8080/",
     "height": 34
    },
    "colab_type": "code",
    "id": "plO8klauI8ue",
    "outputId": "fd44f1f9-0675-4f57-9a3f-78ab62457ee5"
   },
   "outputs": [
    {
     "data": {
      "text/plain": [
       "<function max>"
      ]
     },
     "execution_count": 14,
     "metadata": {
      "tags": []
     },
     "output_type": "execute_result"
    }
   ],
   "source": [
    "max"
   ]
  },
  {
   "cell_type": "markdown",
   "metadata": {
    "colab_type": "text",
    "id": "G0ko7sfLI8ug"
   },
   "source": [
    "Now try writing `?max` or `?our_name_for_max` (or the name of any other function) in a cell, and run that cell.  A information box should show up at the bottom of your screen a longer description of the function\n",
    "\n",
    "*Note: You can also press Shift+Tab after clicking on a name to see similar information!*"
   ]
  },
  {
   "cell_type": "code",
   "execution_count": 15,
   "metadata": {
    "colab": {},
    "colab_type": "code",
    "id": "EHY-gHfgI8ug"
   },
   "outputs": [],
   "source": [
    "?our_name_for_max"
   ]
  },
  {
   "cell_type": "markdown",
   "metadata": {
    "colab_type": "text",
    "id": "eRbVLF1WI8ui"
   },
   "source": [
    "Let's look at what happens when we set `max`to a non-function value. You'll notice that a TypeError will occur when you try calling `max`. Things like integers and strings are not callable. Look out for any functions that might have been renamed when you encounter this type of error"
   ]
  },
  {
   "cell_type": "code",
   "execution_count": 16,
   "metadata": {
    "colab": {},
    "colab_type": "code",
    "id": "b6mfw9gbI8uj"
   },
   "outputs": [],
   "source": [
    "# max = 6\n",
    "# max(2, 6)"
   ]
  },
  {
   "cell_type": "code",
   "execution_count": 17,
   "metadata": {
    "colab": {},
    "colab_type": "code",
    "id": "-SzTr0ALI8ul"
   },
   "outputs": [],
   "source": [
    "# This cell resets max to the built-in function. Just run this cell, don't change its contents\n",
    "import builtins\n",
    "max = builtins.max"
   ]
  },
  {
   "cell_type": "markdown",
   "metadata": {
    "colab_type": "text",
    "id": "kcS2N3vII8un"
   },
   "source": [
    "Why is this useful?  Since functions are just values, it's possible to pass them as arguments to other functions.  Here's a simple but not-so-practical example: we can make an array of functions."
   ]
  },
  {
   "cell_type": "markdown",
   "metadata": {
    "colab_type": "text",
    "id": "VCDgSl6fI8un"
   },
   "source": [
    "**Question 1:** Make a list called `some_functions` containing any 3 other functions you've seen.\n"
   ]
  },
  {
   "cell_type": "code",
   "execution_count": 18,
   "metadata": {
    "colab": {},
    "colab_type": "code",
    "id": "ujWNdkd4I8uo"
   },
   "outputs": [],
   "source": [
    "some_functions = [sum, min, pow]"
   ]
  },
  {
   "cell_type": "markdown",
   "metadata": {
    "colab_type": "text",
    "id": "qMAKDVI0I8uq"
   },
   "source": [
    "A more useful example of passing functions to other functions as arguments is the table method `apply`.\n",
    "\n",
    "**`apply.()`** calls a function many times, once on *each* element in a column of a table.  It produces an *array* of the results.  Here we use **`apply.()`** to convert every CEO's pay to a number, using the function you defined:"
   ]
  },
  {
   "cell_type": "code",
   "execution_count": 19,
   "metadata": {
    "colab": {
     "base_uri": "https://localhost:8080/",
     "height": 230
    },
    "colab_type": "code",
    "id": "z8u3V3FdI8uq",
    "outputId": "bce9db70-0356-4eb0-fd6d-a53102f701ae"
   },
   "outputs": [
    {
     "data": {
      "text/plain": [
       "0      53.25\n",
       "1      53.24\n",
       "2      44.91\n",
       "3      35.98\n",
       "4      33.36\n",
       "       ...  \n",
       "97      0.94\n",
       "98      0.81\n",
       "99      0.07\n",
       "100     0.04\n",
       "101     0.00\n",
       "Name: Total Pay, Length: 102, dtype: float64"
      ]
     },
     "execution_count": 19,
     "metadata": {
      "tags": []
     },
     "output_type": "execute_result"
    }
   ],
   "source": [
    "ceo_2015['Total Pay'].apply(convert_pay_string_to_number)"
   ]
  },
  {
   "cell_type": "markdown",
   "metadata": {
    "colab_type": "text",
    "id": "5jLvN0tRI8us"
   },
   "source": [
    "**Question 2:** Using **`apply.()`**, create a table that's a copy of `ceo_2015` with one additional column called `Total Pay ($)`.  That column should contain the result of applying `convert_pay_string_to_number` to the `Total Pay` column (as we did above).  Call the new table `ceo_incomes_2015`."
   ]
  },
  {
   "cell_type": "code",
   "execution_count": 20,
   "metadata": {
    "colab": {
     "base_uri": "https://localhost:8080/",
     "height": 523
    },
    "colab_type": "code",
    "id": "gupSEFzEI8us",
    "outputId": "d5a96ca4-3f95-4f11-907f-61d429815668"
   },
   "outputs": [
    {
     "data": {
      "text/html": [
       "<div>\n",
       "<style scoped>\n",
       "    .dataframe tbody tr th:only-of-type {\n",
       "        vertical-align: middle;\n",
       "    }\n",
       "\n",
       "    .dataframe tbody tr th {\n",
       "        vertical-align: top;\n",
       "    }\n",
       "\n",
       "    .dataframe thead th {\n",
       "        text-align: right;\n",
       "    }\n",
       "</style>\n",
       "<table border=\"1\" class=\"dataframe\">\n",
       "  <thead>\n",
       "    <tr style=\"text-align: right;\">\n",
       "      <th></th>\n",
       "      <th>Rank</th>\n",
       "      <th>Name</th>\n",
       "      <th>Company (Headquarters)</th>\n",
       "      <th>Total Pay</th>\n",
       "      <th>% Change</th>\n",
       "      <th>Cash Pay</th>\n",
       "      <th>Equity Pay</th>\n",
       "      <th>Other Pay</th>\n",
       "      <th>Ratio of CEO pay to average industry worker pay</th>\n",
       "      <th>Total Pay ($)</th>\n",
       "    </tr>\n",
       "  </thead>\n",
       "  <tbody>\n",
       "    <tr>\n",
       "      <th>0</th>\n",
       "      <td>1</td>\n",
       "      <td>Mark V. Hurd*</td>\n",
       "      <td>Oracle (Redwood City)</td>\n",
       "      <td>$53.25</td>\n",
       "      <td>(No previous year)</td>\n",
       "      <td>$0.95</td>\n",
       "      <td>$52.27</td>\n",
       "      <td>$0.02</td>\n",
       "      <td>362.00000</td>\n",
       "      <td>53.25</td>\n",
       "    </tr>\n",
       "    <tr>\n",
       "      <th>1</th>\n",
       "      <td>2</td>\n",
       "      <td>Safra A. Catz*</td>\n",
       "      <td>Oracle (Redwood City)</td>\n",
       "      <td>$53.24</td>\n",
       "      <td>(No previous year)</td>\n",
       "      <td>$0.95</td>\n",
       "      <td>$52.27</td>\n",
       "      <td>$0.02</td>\n",
       "      <td>362.00000</td>\n",
       "      <td>53.24</td>\n",
       "    </tr>\n",
       "    <tr>\n",
       "      <th>2</th>\n",
       "      <td>3</td>\n",
       "      <td>Robert A. Iger</td>\n",
       "      <td>Walt Disney (Burbank)</td>\n",
       "      <td>$44.91</td>\n",
       "      <td>-3%</td>\n",
       "      <td>$24.89</td>\n",
       "      <td>$17.28</td>\n",
       "      <td>$2.74</td>\n",
       "      <td>477.00000</td>\n",
       "      <td>44.91</td>\n",
       "    </tr>\n",
       "    <tr>\n",
       "      <th>3</th>\n",
       "      <td>4</td>\n",
       "      <td>Marissa A. Mayer</td>\n",
       "      <td>Yahoo! (Sunnyvale)</td>\n",
       "      <td>$35.98</td>\n",
       "      <td>-15%</td>\n",
       "      <td>$1.00</td>\n",
       "      <td>$34.43</td>\n",
       "      <td>$0.55</td>\n",
       "      <td>342.00000</td>\n",
       "      <td>35.98</td>\n",
       "    </tr>\n",
       "    <tr>\n",
       "      <th>4</th>\n",
       "      <td>5</td>\n",
       "      <td>Marc Benioff</td>\n",
       "      <td>salesforce.com (San Francisco)</td>\n",
       "      <td>$33.36</td>\n",
       "      <td>-16%</td>\n",
       "      <td>$4.65</td>\n",
       "      <td>$27.26</td>\n",
       "      <td>$1.45</td>\n",
       "      <td>338.00000</td>\n",
       "      <td>33.36</td>\n",
       "    </tr>\n",
       "    <tr>\n",
       "      <th>...</th>\n",
       "      <td>...</td>\n",
       "      <td>...</td>\n",
       "      <td>...</td>\n",
       "      <td>...</td>\n",
       "      <td>...</td>\n",
       "      <td>...</td>\n",
       "      <td>...</td>\n",
       "      <td>...</td>\n",
       "      <td>...</td>\n",
       "      <td>...</td>\n",
       "    </tr>\n",
       "    <tr>\n",
       "      <th>97</th>\n",
       "      <td>98</td>\n",
       "      <td>Gregory N. Roberts</td>\n",
       "      <td>A-Mark Precious Metals (Santa Monica)</td>\n",
       "      <td>$0.94</td>\n",
       "      <td>-11%</td>\n",
       "      <td>$0.93</td>\n",
       "      <td>$0.00</td>\n",
       "      <td>$0.02</td>\n",
       "      <td>17.00000</td>\n",
       "      <td>0.94</td>\n",
       "    </tr>\n",
       "    <tr>\n",
       "      <th>98</th>\n",
       "      <td>99</td>\n",
       "      <td>Jose L. Laparte</td>\n",
       "      <td>PriceSmart (San Diego)</td>\n",
       "      <td>$0.81</td>\n",
       "      <td>-7%</td>\n",
       "      <td>$0.71</td>\n",
       "      <td>$0.00</td>\n",
       "      <td>$0.10</td>\n",
       "      <td>32.00000</td>\n",
       "      <td>0.81</td>\n",
       "    </tr>\n",
       "    <tr>\n",
       "      <th>99</th>\n",
       "      <td>100</td>\n",
       "      <td>Jack Dorsey</td>\n",
       "      <td>Twitter (San Francisco)</td>\n",
       "      <td>$0.07</td>\n",
       "      <td>(No previous year)</td>\n",
       "      <td>$0.00</td>\n",
       "      <td>$0.00</td>\n",
       "      <td>$0.07</td>\n",
       "      <td>0.63000</td>\n",
       "      <td>0.07</td>\n",
       "    </tr>\n",
       "    <tr>\n",
       "      <th>100</th>\n",
       "      <td>101</td>\n",
       "      <td>Elon R. Musk</td>\n",
       "      <td>Tesla Motors (Palo Alto)</td>\n",
       "      <td>$0.04</td>\n",
       "      <td>6%</td>\n",
       "      <td>$0.04</td>\n",
       "      <td>$0.00</td>\n",
       "      <td>$0.00</td>\n",
       "      <td>0.46000</td>\n",
       "      <td>0.04</td>\n",
       "    </tr>\n",
       "    <tr>\n",
       "      <th>101</th>\n",
       "      <td>102</td>\n",
       "      <td>Lawrence Page***</td>\n",
       "      <td>Alphabet (Mountain View)</td>\n",
       "      <td>$0.00</td>\n",
       "      <td>0%</td>\n",
       "      <td>$0.00</td>\n",
       "      <td>$0.00</td>\n",
       "      <td>$0.00</td>\n",
       "      <td>0.00001</td>\n",
       "      <td>0.00</td>\n",
       "    </tr>\n",
       "  </tbody>\n",
       "</table>\n",
       "<p>102 rows × 10 columns</p>\n",
       "</div>"
      ],
      "text/plain": [
       "     Rank  ... Total Pay ($)\n",
       "0       1  ...         53.25\n",
       "1       2  ...         53.24\n",
       "2       3  ...         44.91\n",
       "3       4  ...         35.98\n",
       "4       5  ...         33.36\n",
       "..    ...  ...           ...\n",
       "97     98  ...          0.94\n",
       "98     99  ...          0.81\n",
       "99    100  ...          0.07\n",
       "100   101  ...          0.04\n",
       "101   102  ...          0.00\n",
       "\n",
       "[102 rows x 10 columns]"
      ]
     },
     "execution_count": 20,
     "metadata": {
      "tags": []
     },
     "output_type": "execute_result"
    }
   ],
   "source": [
    "total_pay_int = ceo_2015['Total Pay'].apply(convert_pay_string_to_number)\n",
    "\n",
    "ceo_incomes_2015 = ceo_2015\n",
    "ceo_incomes_2015[\"Total Pay ($)\"] = total_pay_int\n",
    "ceo_incomes_2015"
   ]
  },
  {
   "cell_type": "markdown",
   "metadata": {
    "colab_type": "text",
    "id": "Lm6P0JoxI8uv"
   },
   "source": [
    "Now that we have all the pays as numbers, we can learn more about them through computation.\n",
    "\n",
    "**Question 3:** Compute the average total pay of the CEOs in the dataset."
   ]
  },
  {
   "cell_type": "code",
   "execution_count": 21,
   "metadata": {
    "colab": {
     "base_uri": "https://localhost:8080/",
     "height": 34
    },
    "colab_type": "code",
    "id": "DjJl-E4DI8uv",
    "outputId": "9fda2c1f-db24-4f46-b5bd-172813835683"
   },
   "outputs": [
    {
     "data": {
      "text/plain": [
       "11.445294117647059"
      ]
     },
     "execution_count": 21,
     "metadata": {
      "tags": []
     },
     "output_type": "execute_result"
    }
   ],
   "source": [
    "from statistics import mean\n",
    "\n",
    "average_total_pay = mean(ceo_incomes_2015[\"Total Pay ($)\"])\n",
    "average_total_pay"
   ]
  },
  {
   "cell_type": "markdown",
   "metadata": {
    "colab_type": "text",
    "id": "BDAkH7GJI8ux"
   },
   "source": [
    "**Question 4:** Companies pay executives in a variety of ways: in cash, by granting stock or other equity in the company, or with ancillary benefits (like private jets).  Compute the proportion of each CEO's pay that was cash.  (Your answer should be an array of numbers, one for each CEO in the dataset.)\n",
    "\n",
    "*Note:* When you answer this question, you'll encounter a red box appearing below your code cell that says something like `RuntimeWarning: invalid value encountered in true_divide`. Don't worry too much about the message. Warnings are raised by Python when it encounters an unusual condition in your code, but the condition is not severe enough to warrant throwing an error. \n",
    "\n",
    "The warning below is Python's cryptic way of telling you that you're dividing a number by zero. If you extract the values in `Total Pay ($)` as an array, you'll see that the last element is 0."
   ]
  },
  {
   "cell_type": "code",
   "execution_count": 22,
   "metadata": {
    "colab": {
     "base_uri": "https://localhost:8080/",
     "height": 1000
    },
    "colab_type": "code",
    "id": "L1b7WCMuI8ux",
    "outputId": "cff512e3-4863-4601-ddd0-6745b41ad174"
   },
   "outputs": [
    {
     "name": "stderr",
     "output_type": "stream",
     "text": [
      "/usr/local/lib/python3.6/dist-packages/ipykernel_launcher.py:3: RuntimeWarning: invalid value encountered in double_scalars\n",
      "  This is separate from the ipykernel package so we can avoid doing imports until\n"
     ]
    },
    {
     "data": {
      "text/plain": [
       "[0.01784037558685446,\n",
       " 0.01784372652141247,\n",
       " 0.5542195502115342,\n",
       " 0.027793218454697056,\n",
       " 0.13938848920863312,\n",
       " 0.48711755233494364,\n",
       " 0.1955535390199637,\n",
       " 0.1243705941591138,\n",
       " 0.2599388379204893,\n",
       " 0.3519668737060041,\n",
       " 0.3075692963752665,\n",
       " 0.22138635142396562,\n",
       " 0.13126361655773422,\n",
       " 0.17081260364842454,\n",
       " 0.2309941520467836,\n",
       " 0.06734816596512329,\n",
       " 0.13043478260869565,\n",
       " 0.2800495662949194,\n",
       " 0.3322981366459627,\n",
       " 0.15355805243445694,\n",
       " 0.2933774834437086,\n",
       " 0.21829105473965288,\n",
       " 0.3110047846889952,\n",
       " 0.25086147484493454,\n",
       " 0.2299168975069252,\n",
       " 0.16991643454039,\n",
       " 0.3179594689028651,\n",
       " 0.2618878637331441,\n",
       " 0.2835714285714286,\n",
       " 0.15654718361375275,\n",
       " 0.38168557536466774,\n",
       " 0.289344262295082,\n",
       " 0.20361247947454844,\n",
       " 0.4765045342126958,\n",
       " 0.45643153526970953,\n",
       " 0.36402027027027023,\n",
       " 0.21776259607173354,\n",
       " 0.24763542562338778,\n",
       " 0.42562724014336917,\n",
       " 0.26102610261026105,\n",
       " 0.18361836183618363,\n",
       " 0.14445479962721341,\n",
       " 0.3333333333333333,\n",
       " 0.10834132310642378,\n",
       " 0.20925747348119578,\n",
       " 0.972762645914397,\n",
       " 0.22979552093476144,\n",
       " 0.22789783889980353,\n",
       " 0.37893700787401574,\n",
       " 0.25175526579739216,\n",
       " 0.7389558232931727,\n",
       " 0.37018255578093306,\n",
       " 0.24127310061601642,\n",
       " 0.21337579617834393,\n",
       " 0.2055378061767838,\n",
       " 0.23318872017353576,\n",
       " 0.33664459161147897,\n",
       " 0.3875968992248062,\n",
       " 0.5609480812641083,\n",
       " 0.1175799086757991,\n",
       " 0.352392065344224,\n",
       " 0.2446300715990453,\n",
       " 0.25,\n",
       " 0.23712574850299403,\n",
       " 0.433778857837181,\n",
       " 0.3142493638676845,\n",
       " 0.4636363636363636,\n",
       " 0.32585751978891825,\n",
       " 0.24766977363515316,\n",
       " 0.987551867219917,\n",
       " 0.27184466019417475,\n",
       " 0.9620786516853932,\n",
       " 0.3183139534883721,\n",
       " 0.8197932053175776,\n",
       " 0.23795180722891568,\n",
       " 0.17530487804878048,\n",
       " 0.21172638436482086,\n",
       " 0.37162162162162166,\n",
       " 0.2728813559322034,\n",
       " 0.26994906621392195,\n",
       " 0.5514834205933682,\n",
       " 0.35977859778597787,\n",
       " 0.0,\n",
       " 0.47154471544715443,\n",
       " 0.47154471544715443,\n",
       " 0.29753914988814323,\n",
       " 0.1623529411764706,\n",
       " 0.4852941176470588,\n",
       " 0.4681933842239186,\n",
       " 0.32526881720430106,\n",
       " 0.9895833333333334,\n",
       " 0.6113074204946997,\n",
       " 0.6702127659574468,\n",
       " 0.7551020408163265,\n",
       " 0.5083798882681564,\n",
       " 0.9880952380952381,\n",
       " 0.9803921568627451,\n",
       " 0.9893617021276597,\n",
       " 0.8765432098765431,\n",
       " 0.0,\n",
       " 1.0,\n",
       " nan]"
      ]
     },
     "execution_count": 22,
     "metadata": {
      "tags": []
     },
     "output_type": "execute_result"
    }
   ],
   "source": [
    "cash_pay = ceo_2015['Cash Pay'].apply(convert_pay_string_to_number)\n",
    "\n",
    "cash_proportion = [cash_pay[i]/total_pay_int[i] for i in range(len(cash_pay))]\n",
    "cash_proportion"
   ]
  },
  {
   "cell_type": "markdown",
   "metadata": {
    "colab_type": "text",
    "id": "f2_Rg6sEI8u0"
   },
   "source": [
    "**Why is `.apply()` useful?**\n",
    "\n",
    "For operations like arithmetic, or the functions in the NumPy library, you don't need to use `.apply()`, because they automatically work on each element of an array.  But there are many things that don't.  The string manipulation we did in today's lab is one example.  Since you can write any code you want in a function, `.apply()` gives you total control over how you operate on data."
   ]
  },
  {
   "cell_type": "markdown",
   "metadata": {
    "colab_type": "text",
    "id": "jYjTZBSPI8u0"
   },
   "source": [
    "Earlier, we computed the average pay among the CEOs in 2015.  The average doesn't tell us everything about the amounts CEOs are paid, though.  Maybe just a few CEOs make the bulk of the money, even among these 102.\n",
    "\n",
    "We can use a *histogram* method to display the *distribution* of a set of numbers.  The table method `hist` takes a single argument, the name of a column of numbers.  It produces a histogram of the numbers in that column.\n",
    "\n",
    "**Question 5:** Make a histogram of the total pay of the CEOs in `compensation`. Your x-axis should be titled \"Dollars in millions $.\" Your y-axis should be titled \"Frequency.\" Your title should be \"2015 California CEO Income Distribution.\""
   ]
  },
  {
   "cell_type": "code",
   "execution_count": 23,
   "metadata": {
    "colab": {
     "base_uri": "https://localhost:8080/",
     "height": 651
    },
    "colab_type": "code",
    "id": "UzDjfJ3TI8u1",
    "outputId": "82845e32-0c06-4192-c0f6-bf0e249dd56c"
   },
   "outputs": [
    {
     "data": {
      "image/png": "[encoded data removed]",
      "text/plain": [
       "<Figure size 921.6x691.2 with 1 Axes>"
      ]
     },
     "metadata": {
      "tags": []
     },
     "output_type": "display_data"
    }
   ],
   "source": [
    "plt.figure(figsize=[12.8, 9.6])\n",
    "plt.hist(total_pay_int, edgecolor=\"black\", bins=[0, 10, 20, 30, 40, 50, 60])\n",
    "plt.ylabel('Frequency')\n",
    "plt.xlabel('Dollars in million $');\n",
    "plt.title(\"2015 California CEO Income Distribution\")\n",
    "plt.show()"
   ]
  },
  {
   "cell_type": "markdown",
   "metadata": {
    "colab_type": "text",
    "id": "bXb9aAcEI8u2"
   },
   "source": [
    "## 3. Using `.join()` with Burrito-ful San Diego"
   ]
  },
  {
   "cell_type": "markdown",
   "metadata": {
    "colab_type": "text",
    "id": "fU6EnlR3I8u3"
   },
   "source": [
    "Tam, Margaret and Winifred are trying to use Data Science to find the best burritos in San Diego! Their friends Irene and Maya provided them with two comprehensive datasets on many burrito establishments in the San Diego area taken from (and cleaned from): https://www.kaggle.com/srcole/burritos-in-san-diego/data\n",
    "\n",
    "The following cell reads in a table called `ratings` which contains names of burrito restaurants, their Yelp rating, Google rating, as well as their Overall rating. It also reads in a table called `burritos_types` which contains names of burrito restaurants, their menu items, and the cost of the respective menu item at the restaurant."
   ]
  },
  {
   "cell_type": "code",
   "execution_count": 24,
   "metadata": {
    "colab": {},
    "colab_type": "code",
    "id": "Qcn3WzN7I8u3"
   },
   "outputs": [],
   "source": [
    "ratings = pd.read_csv(\"https://raw.githubusercontent.com/prabinspkt/data-science-files/main/ratings.csv\")\n",
    "burritos_types = pd.read_csv(\"https://raw.githubusercontent.com/prabinspkt/data-science-files/main/burritos_types.csv\")"
   ]
  },
  {
   "cell_type": "code",
   "execution_count": 25,
   "metadata": {
    "colab": {
     "base_uri": "https://localhost:8080/",
     "height": 197
    },
    "colab_type": "code",
    "id": "R9a5pE_HI8u5",
    "outputId": "a498feb8-429f-48d0-de94-3efaad7392fb"
   },
   "outputs": [
    {
     "data": {
      "text/html": [
       "<div>\n",
       "<style scoped>\n",
       "    .dataframe tbody tr th:only-of-type {\n",
       "        vertical-align: middle;\n",
       "    }\n",
       "\n",
       "    .dataframe tbody tr th {\n",
       "        vertical-align: top;\n",
       "    }\n",
       "\n",
       "    .dataframe thead th {\n",
       "        text-align: right;\n",
       "    }\n",
       "</style>\n",
       "<table border=\"1\" class=\"dataframe\">\n",
       "  <thead>\n",
       "    <tr style=\"text-align: right;\">\n",
       "      <th></th>\n",
       "      <th>Name</th>\n",
       "      <th>Yelp</th>\n",
       "      <th>Google</th>\n",
       "      <th>Overall</th>\n",
       "    </tr>\n",
       "  </thead>\n",
       "  <tbody>\n",
       "    <tr>\n",
       "      <th>0</th>\n",
       "      <td>Albertacos</td>\n",
       "      <td>3.5</td>\n",
       "      <td>3.9</td>\n",
       "      <td>3.450</td>\n",
       "    </tr>\n",
       "    <tr>\n",
       "      <th>1</th>\n",
       "      <td>Burrito Factory</td>\n",
       "      <td>4.5</td>\n",
       "      <td>4.8</td>\n",
       "      <td>3.500</td>\n",
       "    </tr>\n",
       "    <tr>\n",
       "      <th>2</th>\n",
       "      <td>Burros and Fries</td>\n",
       "      <td>3.5</td>\n",
       "      <td>4.1</td>\n",
       "      <td>3.575</td>\n",
       "    </tr>\n",
       "    <tr>\n",
       "      <th>3</th>\n",
       "      <td>Caliente Mexican Food</td>\n",
       "      <td>3.5</td>\n",
       "      <td>4.4</td>\n",
       "      <td>3.250</td>\n",
       "    </tr>\n",
       "    <tr>\n",
       "      <th>4</th>\n",
       "      <td>California Burrito Company</td>\n",
       "      <td>3.5</td>\n",
       "      <td>4.4</td>\n",
       "      <td>3.200</td>\n",
       "    </tr>\n",
       "  </tbody>\n",
       "</table>\n",
       "</div>"
      ],
      "text/plain": [
       "                         Name  Yelp  Google  Overall\n",
       "0                  Albertacos   3.5     3.9    3.450\n",
       "1             Burrito Factory   4.5     4.8    3.500\n",
       "2            Burros and Fries   3.5     4.1    3.575\n",
       "3       Caliente Mexican Food   3.5     4.4    3.250\n",
       "4  California Burrito Company   3.5     4.4    3.200"
      ]
     },
     "execution_count": 25,
     "metadata": {
      "tags": []
     },
     "output_type": "execute_result"
    }
   ],
   "source": [
    "ratings.head()"
   ]
  },
  {
   "cell_type": "code",
   "execution_count": 26,
   "metadata": {
    "colab": {
     "base_uri": "https://localhost:8080/",
     "height": 197
    },
    "colab_type": "code",
    "id": "wKRZNMp1I8u6",
    "outputId": "a7667bb3-a2de-4dd6-a53c-f2833fd319fd"
   },
   "outputs": [
    {
     "data": {
      "text/html": [
       "<div>\n",
       "<style scoped>\n",
       "    .dataframe tbody tr th:only-of-type {\n",
       "        vertical-align: middle;\n",
       "    }\n",
       "\n",
       "    .dataframe tbody tr th {\n",
       "        vertical-align: top;\n",
       "    }\n",
       "\n",
       "    .dataframe thead th {\n",
       "        text-align: right;\n",
       "    }\n",
       "</style>\n",
       "<table border=\"1\" class=\"dataframe\">\n",
       "  <thead>\n",
       "    <tr style=\"text-align: right;\">\n",
       "      <th></th>\n",
       "      <th>Name</th>\n",
       "      <th>Menu_Item</th>\n",
       "      <th>Cost</th>\n",
       "    </tr>\n",
       "  </thead>\n",
       "  <tbody>\n",
       "    <tr>\n",
       "      <th>0</th>\n",
       "      <td>Albertacos</td>\n",
       "      <td>California</td>\n",
       "      <td>5.70</td>\n",
       "    </tr>\n",
       "    <tr>\n",
       "      <th>1</th>\n",
       "      <td>Albertacos</td>\n",
       "      <td>Carne asada</td>\n",
       "      <td>5.25</td>\n",
       "    </tr>\n",
       "    <tr>\n",
       "      <th>2</th>\n",
       "      <td>Alberto's 623 N Escondido Blvd, Escondido, CA ...</td>\n",
       "      <td>Carne Asada</td>\n",
       "      <td>4.59</td>\n",
       "    </tr>\n",
       "    <tr>\n",
       "      <th>3</th>\n",
       "      <td>Burrito Box</td>\n",
       "      <td>Steak with guacamole</td>\n",
       "      <td>11.50</td>\n",
       "    </tr>\n",
       "    <tr>\n",
       "      <th>4</th>\n",
       "      <td>Burrito Factory</td>\n",
       "      <td>Steak everything</td>\n",
       "      <td>7.35</td>\n",
       "    </tr>\n",
       "  </tbody>\n",
       "</table>\n",
       "</div>"
      ],
      "text/plain": [
       "                                                Name  ...   Cost\n",
       "0                                         Albertacos  ...   5.70\n",
       "1                                         Albertacos  ...   5.25\n",
       "2  Alberto's 623 N Escondido Blvd, Escondido, CA ...  ...   4.59\n",
       "3                                        Burrito Box  ...  11.50\n",
       "4                                    Burrito Factory  ...   7.35\n",
       "\n",
       "[5 rows x 3 columns]"
      ]
     },
     "execution_count": 26,
     "metadata": {
      "tags": []
     },
     "output_type": "execute_result"
    }
   ],
   "source": [
    "burritos_types.head()"
   ]
  },
  {
   "cell_type": "markdown",
   "metadata": {
    "colab_type": "text",
    "id": "eXOoMI1jI8u8"
   },
   "source": [
    "**Question 1.** It would be easier if we could combine the information in both tables. Assign `burritos` to the result of joining the two tables together.\n",
    "\n",
    "*Note: it doesn't matter which table you put in as the argument to the table method, either order will work for the autograder tests.*"
   ]
  },
  {
   "cell_type": "code",
   "execution_count": 27,
   "metadata": {
    "colab": {
     "base_uri": "https://localhost:8080/",
     "height": 436
    },
    "colab_type": "code",
    "id": "ecmr5cMeI8u9",
    "outputId": "bbeadbf6-1308-48a7-87eb-a4cfbe8a7f56"
   },
   "outputs": [
    {
     "data": {
      "text/html": [
       "<div>\n",
       "<style scoped>\n",
       "    .dataframe tbody tr th:only-of-type {\n",
       "        vertical-align: middle;\n",
       "    }\n",
       "\n",
       "    .dataframe tbody tr th {\n",
       "        vertical-align: top;\n",
       "    }\n",
       "\n",
       "    .dataframe thead th {\n",
       "        text-align: right;\n",
       "    }\n",
       "</style>\n",
       "<table border=\"1\" class=\"dataframe\">\n",
       "  <thead>\n",
       "    <tr style=\"text-align: right;\">\n",
       "      <th></th>\n",
       "      <th>Yelp</th>\n",
       "      <th>Google</th>\n",
       "      <th>Overall</th>\n",
       "      <th>Menu_Item</th>\n",
       "      <th>Cost</th>\n",
       "    </tr>\n",
       "    <tr>\n",
       "      <th>Name</th>\n",
       "      <th></th>\n",
       "      <th></th>\n",
       "      <th></th>\n",
       "      <th></th>\n",
       "      <th></th>\n",
       "    </tr>\n",
       "  </thead>\n",
       "  <tbody>\n",
       "    <tr>\n",
       "      <th>Albertacos</th>\n",
       "      <td>3.5</td>\n",
       "      <td>3.9</td>\n",
       "      <td>3.450</td>\n",
       "      <td>California</td>\n",
       "      <td>5.70</td>\n",
       "    </tr>\n",
       "    <tr>\n",
       "      <th>Albertacos</th>\n",
       "      <td>3.5</td>\n",
       "      <td>3.9</td>\n",
       "      <td>3.450</td>\n",
       "      <td>Carne asada</td>\n",
       "      <td>5.25</td>\n",
       "    </tr>\n",
       "    <tr>\n",
       "      <th>Burrito Factory</th>\n",
       "      <td>4.5</td>\n",
       "      <td>4.8</td>\n",
       "      <td>3.500</td>\n",
       "      <td>Steak everything</td>\n",
       "      <td>7.35</td>\n",
       "    </tr>\n",
       "    <tr>\n",
       "      <th>Burros and Fries</th>\n",
       "      <td>3.5</td>\n",
       "      <td>4.1</td>\n",
       "      <td>3.575</td>\n",
       "      <td>California</td>\n",
       "      <td>7.19</td>\n",
       "    </tr>\n",
       "    <tr>\n",
       "      <th>Burros and Fries</th>\n",
       "      <td>3.5</td>\n",
       "      <td>4.1</td>\n",
       "      <td>3.575</td>\n",
       "      <td>Carne asada</td>\n",
       "      <td>6.89</td>\n",
       "    </tr>\n",
       "    <tr>\n",
       "      <th>...</th>\n",
       "      <td>...</td>\n",
       "      <td>...</td>\n",
       "      <td>...</td>\n",
       "      <td>...</td>\n",
       "      <td>...</td>\n",
       "    </tr>\n",
       "    <tr>\n",
       "      <th>Vallarta express</th>\n",
       "      <td>3.5</td>\n",
       "      <td>4.0</td>\n",
       "      <td>3.500</td>\n",
       "      <td>Mahi</td>\n",
       "      <td>7.30</td>\n",
       "    </tr>\n",
       "    <tr>\n",
       "      <th>Vallarta express</th>\n",
       "      <td>3.5</td>\n",
       "      <td>4.0</td>\n",
       "      <td>3.500</td>\n",
       "      <td>Philly</td>\n",
       "      <td>6.95</td>\n",
       "    </tr>\n",
       "    <tr>\n",
       "      <th>Vallarta express</th>\n",
       "      <td>3.5</td>\n",
       "      <td>4.0</td>\n",
       "      <td>3.500</td>\n",
       "      <td>Quesa</td>\n",
       "      <td>6.95</td>\n",
       "    </tr>\n",
       "    <tr>\n",
       "      <th>Vallarta express</th>\n",
       "      <td>3.5</td>\n",
       "      <td>4.0</td>\n",
       "      <td>3.500</td>\n",
       "      <td>Quesaburro</td>\n",
       "      <td>6.95</td>\n",
       "    </tr>\n",
       "    <tr>\n",
       "      <th>Vallarta express</th>\n",
       "      <td>3.5</td>\n",
       "      <td>4.0</td>\n",
       "      <td>3.500</td>\n",
       "      <td>Surf and turf</td>\n",
       "      <td>7.65</td>\n",
       "    </tr>\n",
       "  </tbody>\n",
       "</table>\n",
       "<p>219 rows × 5 columns</p>\n",
       "</div>"
      ],
      "text/plain": [
       "                  Yelp  Google  Overall          Menu_Item  Cost\n",
       "Name                                                            \n",
       "Albertacos         3.5     3.9    3.450        California   5.70\n",
       "Albertacos         3.5     3.9    3.450        Carne asada  5.25\n",
       "Burrito Factory    4.5     4.8    3.500  Steak everything   7.35\n",
       "Burros and Fries   3.5     4.1    3.575         California  7.19\n",
       "Burros and Fries   3.5     4.1    3.575        Carne asada  6.89\n",
       "...                ...     ...      ...                ...   ...\n",
       "Vallarta express   3.5     4.0    3.500               Mahi  7.30\n",
       "Vallarta express   3.5     4.0    3.500            Philly   6.95\n",
       "Vallarta express   3.5     4.0    3.500              Quesa  6.95\n",
       "Vallarta express   3.5     4.0    3.500         Quesaburro  6.95\n",
       "Vallarta express   3.5     4.0    3.500      Surf and turf  7.65\n",
       "\n",
       "[219 rows x 5 columns]"
      ]
     },
     "execution_count": 27,
     "metadata": {
      "tags": []
     },
     "output_type": "execute_result"
    }
   ],
   "source": [
    "burritos = ratings.set_index('Name').join(burritos_types.set_index('Name'))\n",
    "burritos"
   ]
  },
  {
   "cell_type": "markdown",
   "metadata": {
    "colab_type": "text",
    "id": "Gzkar3DyI8u-"
   },
   "source": [
    "**Question 2.** Let's look at how the Yelp scores compare to the Google scores in the `burritos` table. Make a scatter plot with Yelp scores on the x-axis and the Google scores on the y-axis. The title should be \"Yelp and Google Scores.\"\n"
   ]
  },
  {
   "cell_type": "code",
   "execution_count": 28,
   "metadata": {
    "colab": {
     "base_uri": "https://localhost:8080/",
     "height": 651
    },
    "colab_type": "code",
    "id": "MWN3C3fGI8u_",
    "outputId": "20650132-d7da-4bea-fe18-ee966486a17b"
   },
   "outputs": [
    {
     "data": {
      "image/png": "[encoded data removed]",
      "text/plain": [
       "<Figure size 921.6x691.2 with 1 Axes>"
      ]
     },
     "metadata": {
      "tags": []
     },
     "output_type": "display_data"
    }
   ],
   "source": [
    "plt.figure(figsize=[12.8, 9.6])\n",
    "plt.scatter(ratings[\"Yelp\"], ratings[\"Google\"], color=\"black\")\n",
    "plt.title(\"Yelp and Google Scores\")\n",
    "plt.xlabel(\"Yelp Scores\")\n",
    "plt.ylabel(\"Google Scores\")\n",
    "plt.show()"
   ]
  },
  {
   "cell_type": "markdown",
   "metadata": {
    "colab_type": "text",
    "id": "5Q8wKqM8I8vB"
   },
   "source": [
    "**Question 3.** Looking at the scatter plot you just made in Question 1.2, do you notice any pattern(s) (i.e. is one of the two types of scores consistently higher than the other one)? If so, describe them **briefly** in the cell below."
   ]
  },
  {
   "cell_type": "markdown",
   "metadata": {
    "colab_type": "text",
    "id": "KNEVGb6sI8vB"
   },
   "source": [
    "The trend that is very visible in the scatter plot is for every rating in Yelp, there is a distribution of ratings around Yelp ratings. The ratings are more standardized in Yelp and more distributed in Google. Except one anomaly(4.2), all other Yelp ratings are standard integers or decimals ending in 0.5. The overall distributions is for increasing Yelp ratings, Google ratings also increase."
   ]
  },
  {
   "cell_type": "markdown",
   "metadata": {
    "colab_type": "text",
    "id": "1kshpWdvI8vB"
   },
   "source": [
    "## 4. Using `.pivot_table()` and `.groupby()` with Faculty salaries\n",
    "\n",
    "This exercise is designed to give you practice using the methods **`.pivot_table()`** and **`.groupby()`**. \n"
   ]
  },
  {
   "cell_type": "markdown",
   "metadata": {
    "colab_type": "text",
    "id": "wBMwHfi9I8vC"
   },
   "source": [
    "In the next cell, we load a dataset created by the [Daily Cal](http://projects.dailycal.org/paychecker/) which contains Berkeley faculty, their departments, their positions, and their gross salaries in 2015."
   ]
  },
  {
   "cell_type": "code",
   "execution_count": 29,
   "metadata": {
    "colab": {
     "base_uri": "https://localhost:8080/",
     "height": 406
    },
    "colab_type": "code",
    "id": "GE9PxSa3I8vC",
    "outputId": "0d2d879a-b317-4b01-d9a3-1997fc583563"
   },
   "outputs": [
    {
     "data": {
      "text/html": [
       "<div>\n",
       "<style scoped>\n",
       "    .dataframe tbody tr th:only-of-type {\n",
       "        vertical-align: middle;\n",
       "    }\n",
       "\n",
       "    .dataframe tbody tr th {\n",
       "        vertical-align: top;\n",
       "    }\n",
       "\n",
       "    .dataframe thead th {\n",
       "        text-align: right;\n",
       "    }\n",
       "</style>\n",
       "<table border=\"1\" class=\"dataframe\">\n",
       "  <thead>\n",
       "    <tr style=\"text-align: right;\">\n",
       "      <th></th>\n",
       "      <th>name</th>\n",
       "      <th>department</th>\n",
       "      <th>position</th>\n",
       "      <th>gross_salary</th>\n",
       "    </tr>\n",
       "  </thead>\n",
       "  <tbody>\n",
       "    <tr>\n",
       "      <th>0</th>\n",
       "      <td>CYNTHIA ABAN</td>\n",
       "      <td>South &amp; Southeast Asian Studies</td>\n",
       "      <td>lecturer</td>\n",
       "      <td>64450.0</td>\n",
       "    </tr>\n",
       "    <tr>\n",
       "      <th>1</th>\n",
       "      <td>PIETER ABBEEL</td>\n",
       "      <td>Computer Science</td>\n",
       "      <td>associate professor</td>\n",
       "      <td>184998.0</td>\n",
       "    </tr>\n",
       "    <tr>\n",
       "      <th>2</th>\n",
       "      <td>SALLY ABEL</td>\n",
       "      <td>Law</td>\n",
       "      <td>lecturer</td>\n",
       "      <td>3466.0</td>\n",
       "    </tr>\n",
       "    <tr>\n",
       "      <th>3</th>\n",
       "      <td>ELIZABETH ABEL</td>\n",
       "      <td>English</td>\n",
       "      <td>professor</td>\n",
       "      <td>138775.0</td>\n",
       "    </tr>\n",
       "    <tr>\n",
       "      <th>4</th>\n",
       "      <td>DOR ABRAHAMSON</td>\n",
       "      <td>Education</td>\n",
       "      <td>associate professor</td>\n",
       "      <td>100300.0</td>\n",
       "    </tr>\n",
       "    <tr>\n",
       "      <th>...</th>\n",
       "      <td>...</td>\n",
       "      <td>...</td>\n",
       "      <td>...</td>\n",
       "      <td>...</td>\n",
       "    </tr>\n",
       "    <tr>\n",
       "      <th>2054</th>\n",
       "      <td>DARREN ZOOK</td>\n",
       "      <td>Political Science</td>\n",
       "      <td>lecturer</td>\n",
       "      <td>67020.0</td>\n",
       "    </tr>\n",
       "    <tr>\n",
       "      <th>2055</th>\n",
       "      <td>DANIEL ZOUGHBIE</td>\n",
       "      <td>Middle Eastern Studies</td>\n",
       "      <td>lecturer</td>\n",
       "      <td>4480.0</td>\n",
       "    </tr>\n",
       "    <tr>\n",
       "      <th>2056</th>\n",
       "      <td>GABRIEL ZUCMAN</td>\n",
       "      <td>Economics</td>\n",
       "      <td>assistant professor</td>\n",
       "      <td>126283.0</td>\n",
       "    </tr>\n",
       "    <tr>\n",
       "      <th>2057</th>\n",
       "      <td>MACIEJ ZWORSKI</td>\n",
       "      <td>Mathematics</td>\n",
       "      <td>professor</td>\n",
       "      <td>218928.0</td>\n",
       "    </tr>\n",
       "    <tr>\n",
       "      <th>2058</th>\n",
       "      <td>JOHN ZYSMAN</td>\n",
       "      <td>Political Science</td>\n",
       "      <td>professor</td>\n",
       "      <td>152781.0</td>\n",
       "    </tr>\n",
       "  </tbody>\n",
       "</table>\n",
       "<p>2059 rows × 4 columns</p>\n",
       "</div>"
      ],
      "text/plain": [
       "                 name  ... gross_salary\n",
       "0        CYNTHIA ABAN  ...      64450.0\n",
       "1       PIETER ABBEEL  ...     184998.0\n",
       "2          SALLY ABEL  ...       3466.0\n",
       "3      ELIZABETH ABEL  ...     138775.0\n",
       "4      DOR ABRAHAMSON  ...     100300.0\n",
       "...               ...  ...          ...\n",
       "2054      DARREN ZOOK  ...      67020.0\n",
       "2055  DANIEL ZOUGHBIE  ...       4480.0\n",
       "2056   GABRIEL ZUCMAN  ...     126283.0\n",
       "2057   MACIEJ ZWORSKI  ...     218928.0\n",
       "2058      JOHN ZYSMAN  ...     152781.0\n",
       "\n",
       "[2059 rows x 4 columns]"
      ]
     },
     "execution_count": 29,
     "metadata": {
      "tags": []
     },
     "output_type": "execute_result"
    }
   ],
   "source": [
    "raw_profs = pd.read_csv(\"https://raw.githubusercontent.com/prabinspkt/data-science-files/main/faculty.csv\")\n",
    "profs = raw_profs[raw_profs['year'] == 2015]\n",
    "profs = profs.drop(columns =[\"year\", \"title\"])\n",
    "profs = profs.rename(columns = {\"title_category\":\"position\"})\n",
    "profs = profs.reset_index()\n",
    "profs = profs.drop(columns = ['index'])\n",
    "profs"
   ]
  },
  {
   "cell_type": "markdown",
   "metadata": {
    "colab_type": "text",
    "id": "U5OMQ4A0I8vF"
   },
   "source": [
    "**Question 1:** Using the `.groupby()` and `.apply()` functions, create a table called `department_counts` with two columns. The first column should be called `department` and have the name of every department once, and the second column should be called `count` with each value in that second column containing the count of the total number of all faculty members in that department. \n",
    "\n",
    "*Hint:* You should use numpys `np.count_nonzero`. \n"
   ]
  },
  {
   "cell_type": "code",
   "execution_count": 30,
   "metadata": {
    "colab": {
     "base_uri": "https://localhost:8080/",
     "height": 247
    },
    "colab_type": "code",
    "id": "FHULQaS6I8vF",
    "outputId": "8a1c128d-873e-42f8-8e8b-c2074e4de480"
   },
   "outputs": [
    {
     "data": {
      "text/plain": [
       "department\n",
       "African American Studies                          15\n",
       "Agricultural and Resource Economics and Policy     3\n",
       "Anthroplogy                                       28\n",
       "Architecture                                      46\n",
       "Art History                                       19\n",
       "                                                  ..\n",
       "Sociology                                         37\n",
       "South & Southeast Asian Studies                   21\n",
       "Spanish and Portuguese                            20\n",
       "Statistics                                        24\n",
       "Theater, Dance and Performance Studies            25\n",
       "Length: 71, dtype: int64"
      ]
     },
     "execution_count": 30,
     "metadata": {
      "tags": []
     },
     "output_type": "execute_result"
    }
   ],
   "source": [
    "# profs.groupby([\"department\"]).agg(np.count_nonzero)\n",
    "department_counts = profs.groupby([\"department\"]).size()\n",
    "department_counts"
   ]
  },
  {
   "cell_type": "markdown",
   "metadata": {
    "colab_type": "text",
    "id": "1RMVynSJI8vH"
   },
   "source": [
    "**Question 2:** Using `.pivot_table()`, create a table called `avg_dprt_position`. The index should be all of the available departments; the columns should be the different positions a department can have; the values should the gross_salary. Fill the NaN values with zero. Each value in the row should be rounded by two decimal places.\n",
    "\n",
    "*Hint:* Create a sub table containing the **three** columns that you'll be working with.\n",
    "\n",
    "*Note:* Refer to this documentation on how to use `.pivot_table()` for help: https://pandas.pydata.org/pandas-docs/stable/reference/api/pandas.DataFrame.pivot_table.html?highlight=pivot_table#pandas.DataFrame.pivot_table\n"
   ]
  },
  {
   "cell_type": "code",
   "execution_count": 38,
   "metadata": {
    "colab": {
     "base_uri": "https://localhost:8080/",
     "height": 436
    },
    "colab_type": "code",
    "id": "1zTKLqaAI8vI",
    "outputId": "cad3fe00-e7f5-448e-ddd8-a3943503048a"
   },
   "outputs": [
    {
     "data": {
      "text/html": [
       "<div>\n",
       "<style scoped>\n",
       "    .dataframe tbody tr th:only-of-type {\n",
       "        vertical-align: middle;\n",
       "    }\n",
       "\n",
       "    .dataframe tbody tr th {\n",
       "        vertical-align: top;\n",
       "    }\n",
       "\n",
       "    .dataframe thead th {\n",
       "        text-align: right;\n",
       "    }\n",
       "</style>\n",
       "<table border=\"1\" class=\"dataframe\">\n",
       "  <thead>\n",
       "    <tr style=\"text-align: right;\">\n",
       "      <th>position</th>\n",
       "      <th>assistant professor</th>\n",
       "      <th>associate professor</th>\n",
       "      <th>lecturer</th>\n",
       "      <th>professor</th>\n",
       "    </tr>\n",
       "    <tr>\n",
       "      <th>department</th>\n",
       "      <th></th>\n",
       "      <th></th>\n",
       "      <th></th>\n",
       "      <th></th>\n",
       "    </tr>\n",
       "  </thead>\n",
       "  <tbody>\n",
       "    <tr>\n",
       "      <th>African American Studies</th>\n",
       "      <td>81667.00</td>\n",
       "      <td>112472.57</td>\n",
       "      <td>50814.50</td>\n",
       "      <td>160600.00</td>\n",
       "    </tr>\n",
       "    <tr>\n",
       "      <th>Agricultural and Resource Economics and Policy</th>\n",
       "      <td>0.00</td>\n",
       "      <td>0.00</td>\n",
       "      <td>16062.00</td>\n",
       "      <td>224717.00</td>\n",
       "    </tr>\n",
       "    <tr>\n",
       "      <th>Anthroplogy</th>\n",
       "      <td>82853.33</td>\n",
       "      <td>103637.67</td>\n",
       "      <td>22395.50</td>\n",
       "      <td>179706.53</td>\n",
       "    </tr>\n",
       "    <tr>\n",
       "      <th>Architecture</th>\n",
       "      <td>106775.00</td>\n",
       "      <td>119617.12</td>\n",
       "      <td>21712.61</td>\n",
       "      <td>135232.56</td>\n",
       "    </tr>\n",
       "    <tr>\n",
       "      <th>Art History</th>\n",
       "      <td>67757.50</td>\n",
       "      <td>111001.50</td>\n",
       "      <td>39497.50</td>\n",
       "      <td>145254.43</td>\n",
       "    </tr>\n",
       "    <tr>\n",
       "      <th>...</th>\n",
       "      <td>...</td>\n",
       "      <td>...</td>\n",
       "      <td>...</td>\n",
       "      <td>...</td>\n",
       "    </tr>\n",
       "    <tr>\n",
       "      <th>Sociology</th>\n",
       "      <td>136378.50</td>\n",
       "      <td>116174.60</td>\n",
       "      <td>44519.00</td>\n",
       "      <td>174759.05</td>\n",
       "    </tr>\n",
       "    <tr>\n",
       "      <th>South &amp; Southeast Asian Studies</th>\n",
       "      <td>77837.50</td>\n",
       "      <td>114551.00</td>\n",
       "      <td>54956.00</td>\n",
       "      <td>170333.50</td>\n",
       "    </tr>\n",
       "    <tr>\n",
       "      <th>Spanish and Portuguese</th>\n",
       "      <td>78033.33</td>\n",
       "      <td>93754.33</td>\n",
       "      <td>46907.00</td>\n",
       "      <td>111687.17</td>\n",
       "    </tr>\n",
       "    <tr>\n",
       "      <th>Statistics</th>\n",
       "      <td>131616.25</td>\n",
       "      <td>164915.00</td>\n",
       "      <td>64701.29</td>\n",
       "      <td>205075.89</td>\n",
       "    </tr>\n",
       "    <tr>\n",
       "      <th>Theater, Dance and Performance Studies</th>\n",
       "      <td>84763.00</td>\n",
       "      <td>100151.00</td>\n",
       "      <td>29397.93</td>\n",
       "      <td>108984.00</td>\n",
       "    </tr>\n",
       "  </tbody>\n",
       "</table>\n",
       "<p>71 rows × 4 columns</p>\n",
       "</div>"
      ],
      "text/plain": [
       "position                                        assistant professor  ...  professor\n",
       "department                                                           ...           \n",
       "African American Studies                                   81667.00  ...  160600.00\n",
       "Agricultural and Resource Economics and Policy                 0.00  ...  224717.00\n",
       "Anthroplogy                                                82853.33  ...  179706.53\n",
       "Architecture                                              106775.00  ...  135232.56\n",
       "Art History                                                67757.50  ...  145254.43\n",
       "...                                                             ...  ...        ...\n",
       "Sociology                                                 136378.50  ...  174759.05\n",
       "South & Southeast Asian Studies                            77837.50  ...  170333.50\n",
       "Spanish and Portuguese                                     78033.33  ...  111687.17\n",
       "Statistics                                                131616.25  ...  205075.89\n",
       "Theater, Dance and Performance Studies                     84763.00  ...  108984.00\n",
       "\n",
       "[71 rows x 4 columns]"
      ]
     },
     "execution_count": 38,
     "metadata": {
      "tags": []
     },
     "output_type": "execute_result"
    }
   ],
   "source": [
    "avg_dprt_position = pd.pivot_table(profs, values='gross_salary', index=['department'], columns=['position'], aggfunc=np.mean, fill_value=0)\n",
    "avg_dprt_position['assistant professor'] = avg_dprt_position['assistant professor'].apply(round, ndigits=2)\n",
    "avg_dprt_position['associate professor'] = avg_dprt_position['associate professor'].apply(round, ndigits=2)\n",
    "avg_dprt_position['professor'] = avg_dprt_position['professor'].apply(round, ndigits=2)\n",
    "avg_dprt_position['lecturer'] = avg_dprt_position['lecturer'].apply(round, ndigits=2)\n",
    "avg_dprt_position"
   ]
  },
  {
   "cell_type": "markdown",
   "metadata": {
    "colab_type": "text",
    "id": "VOEKzdeVI8vK"
   },
   "source": [
    "**Question 3:** Give an explanation as to why some of the row values are `0` in the `department_ranges` table from the previous question."
   ]
  },
  {
   "cell_type": "markdown",
   "metadata": {
    "colab_type": "text",
    "id": "gsHuhDTyI8vK"
   },
   "source": [
    "No data about the salary was available for some positions in those departments, so nan was the value that was populated which I replaced with 0."
   ]
  }
 ],
 "metadata": {
  "colab": {
   "collapsed_sections": [],
   "name": "Lab 4 - September 10.ipynb",
   "provenance": []
  },
  "kernelspec": {
   "display_name": "Python 3",
   "language": "python",
   "name": "python3"
  },
  "language_info": {
   "codemirror_mode": {
    "name": "ipython",
    "version": 3
   },
   "file_extension": ".py",
   "mimetype": "text/x-python",
   "name": "python",
   "nbconvert_exporter": "python",
   "pygments_lexer": "ipython3",
   "version": "3.7.6"
  }
 },
 "nbformat": 4,
 "nbformat_minor": 0
}
