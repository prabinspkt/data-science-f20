{
 "cells": [
  {
   "cell_type": "markdown",
   "metadata": {
    "id": "PGW2995M-tgx"
   },
   "source": [
    "# Web Scraping with Pandas and BeautifulSoup\n",
    "Web scraping is a useful way of gathering large sets of data very quickly. To put it simply, data scientists write code that inspects multiple web pages to get the data they want. For the purposes of this class, we'll be scraping our data using Pandas and BeautifulSoup. But before we get into the assigment, let's go over exactly how this all works"
   ]
  },
  {
   "cell_type": "code",
   "execution_count": 15,
   "metadata": {
    "executionInfo": {
     "elapsed": 733,
     "status": "ok",
     "timestamp": 1601129652076,
     "user": {
      "displayName": "Prabin Sapkota",
      "photoUrl": "https://lh6.googleusercontent.com/-doP6HgypWoA/AAAAAAAAAAI/AAAAAAAAADs/IVE1vPXCX6U/s64/photo.jpg",
      "userId": "10525827673897210712"
     },
     "user_tz": 240
    },
    "id": "QYj5DSjFrX2Q"
   },
   "outputs": [],
   "source": [
    "import pandas as pd\n",
    "import requests\n",
    "import numpy as np\n",
    "import matplotlib.pyplot as plt\n",
    " \n",
    "from urllib.request import urlopen\n",
    "from bs4 import BeautifulSoup\n",
    "# from tabulate import tabulate"
   ]
  },
  {
   "cell_type": "markdown",
   "metadata": {
    "id": "MrB9Fk0oJBGT"
   },
   "source": [
    "Basically, all web scraping is doing is taking the HTML from the internet to see if there's any useful information we can extract from it. All your really need is a url of your choice, and some basic knowledge of HTML tags.\n",
    "\n",
    "**BeautifulSoup** is a Python library that allows you to take scrapped html and filter it to find whatever information you want, which we'll be using for this lab"
   ]
  },
  {
   "cell_type": "code",
   "execution_count": 16,
   "metadata": {
    "colab": {
     "base_uri": "https://localhost:8080/",
     "height": 250
    },
    "executionInfo": {
     "elapsed": 1726,
     "status": "ok",
     "timestamp": 1601129653079,
     "user": {
      "displayName": "Prabin Sapkota",
      "photoUrl": "https://lh6.googleusercontent.com/-doP6HgypWoA/AAAAAAAAAAI/AAAAAAAAADs/IVE1vPXCX6U/s64/photo.jpg",
      "userId": "10525827673897210712"
     },
     "user_tz": 240
    },
    "id": "mXSXB-_5Ix4D",
    "outputId": "15354e47-b5e5-4b82-dc90-6d50e8eca645"
   },
   "outputs": [
    {
     "name": "stdout",
     "output_type": "stream",
     "text": [
      "<html>\n",
      "<head>\n",
      "<title>A Useful Page</title>\n",
      "</head>\n",
      "<body>\n",
      "<h1>An Interesting Title</h1>\n",
      "<div>\n",
      "Lorem ipsum dolor sit amet, consectetur adipisicing elit, sed do eiusmod tempor incididunt ut labore et dolore magna aliqua. Ut enim ad minim veniam, quis nostrud exercitation ullamco laboris nisi ut aliquip ex ea commodo consequat. Duis aute irure dolor in reprehenderit in voluptate velit esse cillum dolore eu fugiat nulla pariatur. Excepteur sint occaecat cupidatat non proident, sunt in culpa qui officia deserunt mollit anim id est laborum.\n",
      "</div>\n",
      "</body>\n",
      "</html>\n",
      "\n"
     ]
    }
   ],
   "source": [
    " \n",
    "url = \"http://www.pythonscraping.com/pages/page1.html\"\n",
    " \n",
    "html = urlopen(url)\n",
    "bs = BeautifulSoup(html.read(),'html.parser')\n",
    "print(bs)"
   ]
  },
  {
   "cell_type": "markdown",
   "metadata": {
    "id": "5WrvbgdbJm8E"
   },
   "source": [
    "You can use BeautifulSoup to find just one element, or an array of elements in the HTML tree using functions like `find`, `find_all`, `bs.title`, etc. \n",
    "\n",
    "See the web scraping video or take a look at https://colab.research.google.com/drive/1RKPEsuRpqQ-eRtEuilN6cpGDEQKCqzwU?usp=sharing to see these functions in action"
   ]
  },
  {
   "cell_type": "code",
   "execution_count": 17,
   "metadata": {
    "colab": {
     "base_uri": "https://localhost:8080/",
     "height": 72
    },
    "executionInfo": {
     "elapsed": 2034,
     "status": "ok",
     "timestamp": 1601129653397,
     "user": {
      "displayName": "Prabin Sapkota",
      "photoUrl": "https://lh6.googleusercontent.com/-doP6HgypWoA/AAAAAAAAAAI/AAAAAAAAADs/IVE1vPXCX6U/s64/photo.jpg",
      "userId": "10525827673897210712"
     },
     "user_tz": 240
    },
    "id": "5N0JZ7igIxzJ",
    "outputId": "78b7b5f2-63d3-467f-e483-7147d237bebe"
   },
   "outputs": [
    {
     "name": "stdout",
     "output_type": "stream",
     "text": [
      "<h1>Totally Normal Gifts</h1>\n",
      "[<img src=\"../img/gifts/logo.jpg\" style=\"float:left;\"/>, <img src=\"../img/gifts/img1.jpg\"/>, <img src=\"../img/gifts/img2.jpg\"/>, <img src=\"../img/gifts/img3.jpg\"/>, <img src=\"../img/gifts/img4.jpg\"/>, <img src=\"../img/gifts/img6.jpg\"/>]\n"
     ]
    }
   ],
   "source": [
    "url = \"http://www.pythonscraping.com/pages/page3.html\"\n",
    " \n",
    "html = urlopen(url)\n",
    "bs = BeautifulSoup(html.read(),'html.parser')\n",
    "print(bs.h1)\n",
    "print(bs.find_all('img'))"
   ]
  },
  {
   "cell_type": "markdown",
   "metadata": {
    "id": "Emaf11aTzwlk"
   },
   "source": [
    "### Section 1: Billionaires in 2015"
   ]
  },
  {
   "cell_type": "markdown",
   "metadata": {
    "id": "YKNN616HsenE"
   },
   "source": [
    "For this assignment, we'll be scraping tabular data from Wikipeda's Billionaires articles. Since web scraping is fairly new, a lot of the dirty work is done for you. Your job is to grab the necessary data from the dataframes and answer some questions about them, as well as try to scrape some tabular data of your own!"
   ]
  },
  {
   "cell_type": "code",
   "execution_count": 18,
   "metadata": {
    "colab": {
     "base_uri": "https://localhost:8080/",
     "height": 406
    },
    "executionInfo": {
     "elapsed": 879,
     "status": "ok",
     "timestamp": 1601138095816,
     "user": {
      "displayName": "Prabin Sapkota",
      "photoUrl": "https://lh6.googleusercontent.com/-doP6HgypWoA/AAAAAAAAAAI/AAAAAAAAADs/IVE1vPXCX6U/s64/photo.jpg",
      "userId": "10525827673897210712"
     },
     "user_tz": 240
    },
    "id": "sIgei1_pOJRY",
    "outputId": "edfc19a1-a19f-4147-cd04-b85be874a926"
   },
   "outputs": [
    {
     "data": {
      "text/html": [
       "<div>\n",
       "<style scoped>\n",
       "    .dataframe tbody tr th:only-of-type {\n",
       "        vertical-align: middle;\n",
       "    }\n",
       "\n",
       "    .dataframe tbody tr th {\n",
       "        vertical-align: top;\n",
       "    }\n",
       "\n",
       "    .dataframe thead th {\n",
       "        text-align: right;\n",
       "    }\n",
       "</style>\n",
       "<table border=\"1\" class=\"dataframe\">\n",
       "  <thead>\n",
       "    <tr style=\"text-align: right;\">\n",
       "      <th></th>\n",
       "      <th>No.</th>\n",
       "      <th>Name</th>\n",
       "      <th>Citizenship</th>\n",
       "      <th>Age</th>\n",
       "      <th>Net Worth USD billion</th>\n",
       "      <th>Source(s) of wealth</th>\n",
       "    </tr>\n",
       "  </thead>\n",
       "  <tbody>\n",
       "    <tr>\n",
       "      <th>0</th>\n",
       "      <td>1</td>\n",
       "      <td>Bill Gates</td>\n",
       "      <td>United States</td>\n",
       "      <td>59.0</td>\n",
       "      <td>79.2</td>\n",
       "      <td>Microsoft</td>\n",
       "    </tr>\n",
       "    <tr>\n",
       "      <th>1</th>\n",
       "      <td>2</td>\n",
       "      <td>Carlos Slim Helu</td>\n",
       "      <td>Mexico</td>\n",
       "      <td>75.0</td>\n",
       "      <td>77.1</td>\n",
       "      <td>Telecom</td>\n",
       "    </tr>\n",
       "    <tr>\n",
       "      <th>2</th>\n",
       "      <td>3</td>\n",
       "      <td>Warren Buffett</td>\n",
       "      <td>United States</td>\n",
       "      <td>84.0</td>\n",
       "      <td>72.7</td>\n",
       "      <td>Berkshire Hathaway</td>\n",
       "    </tr>\n",
       "    <tr>\n",
       "      <th>3</th>\n",
       "      <td>4</td>\n",
       "      <td>Amancio Ortega</td>\n",
       "      <td>Spain</td>\n",
       "      <td>78.0</td>\n",
       "      <td>64.5</td>\n",
       "      <td>Zara</td>\n",
       "    </tr>\n",
       "    <tr>\n",
       "      <th>4</th>\n",
       "      <td>5</td>\n",
       "      <td>Larry Ellison</td>\n",
       "      <td>United States</td>\n",
       "      <td>70.0</td>\n",
       "      <td>54.3</td>\n",
       "      <td>Oracle</td>\n",
       "    </tr>\n",
       "    <tr>\n",
       "      <th>...</th>\n",
       "      <td>...</td>\n",
       "      <td>...</td>\n",
       "      <td>...</td>\n",
       "      <td>...</td>\n",
       "      <td>...</td>\n",
       "      <td>...</td>\n",
       "    </tr>\n",
       "    <tr>\n",
       "      <th>97</th>\n",
       "      <td>96</td>\n",
       "      <td>Patrick Soon-Shiong</td>\n",
       "      <td>United States</td>\n",
       "      <td>63.0</td>\n",
       "      <td>12.2</td>\n",
       "      <td>Pharmaceuticals</td>\n",
       "    </tr>\n",
       "    <tr>\n",
       "      <th>98</th>\n",
       "      <td>99</td>\n",
       "      <td>Stefano Pessina</td>\n",
       "      <td>Italy</td>\n",
       "      <td>73.0</td>\n",
       "      <td>12.1</td>\n",
       "      <td>Drugstores</td>\n",
       "    </tr>\n",
       "    <tr>\n",
       "      <th>99</th>\n",
       "      <td>100</td>\n",
       "      <td>Richard Kinder</td>\n",
       "      <td>United States</td>\n",
       "      <td>70.0</td>\n",
       "      <td>12.0</td>\n",
       "      <td>Pipelines</td>\n",
       "    </tr>\n",
       "    <tr>\n",
       "      <th>100</th>\n",
       "      <td>100</td>\n",
       "      <td>Elon Musk</td>\n",
       "      <td>United States</td>\n",
       "      <td>43.0</td>\n",
       "      <td>12.0</td>\n",
       "      <td>Tesla Motors</td>\n",
       "    </tr>\n",
       "    <tr>\n",
       "      <th>101</th>\n",
       "      <td>100</td>\n",
       "      <td>Stephen Schwarzman</td>\n",
       "      <td>United States</td>\n",
       "      <td>68.0</td>\n",
       "      <td>12.0</td>\n",
       "      <td>Investments</td>\n",
       "    </tr>\n",
       "  </tbody>\n",
       "</table>\n",
       "<p>102 rows × 6 columns</p>\n",
       "</div>"
      ],
      "text/plain": [
       "     No.                 Name    Citizenship   Age  Net Worth USD billion  \\\n",
       "0      1           Bill Gates  United States  59.0                   79.2   \n",
       "1      2     Carlos Slim Helu         Mexico  75.0                   77.1   \n",
       "2      3       Warren Buffett  United States  84.0                   72.7   \n",
       "3      4       Amancio Ortega          Spain  78.0                   64.5   \n",
       "4      5        Larry Ellison  United States  70.0                   54.3   \n",
       "..   ...                  ...            ...   ...                    ...   \n",
       "97    96  Patrick Soon-Shiong  United States  63.0                   12.2   \n",
       "98    99      Stefano Pessina          Italy  73.0                   12.1   \n",
       "99   100       Richard Kinder  United States  70.0                   12.0   \n",
       "100  100            Elon Musk  United States  43.0                   12.0   \n",
       "101  100   Stephen Schwarzman  United States  68.0                   12.0   \n",
       "\n",
       "    Source(s) of wealth  \n",
       "0             Microsoft  \n",
       "1               Telecom  \n",
       "2    Berkshire Hathaway  \n",
       "3                  Zara  \n",
       "4                Oracle  \n",
       "..                  ...  \n",
       "97      Pharmaceuticals  \n",
       "98           Drugstores  \n",
       "99            Pipelines  \n",
       "100        Tesla Motors  \n",
       "101         Investments  \n",
       "\n",
       "[102 rows x 6 columns]"
      ]
     },
     "execution_count": 18,
     "metadata": {},
     "output_type": "execute_result"
    }
   ],
   "source": [
    "# Opening the and reading the article's url.\n",
    "url = \"https://en.wikipedia.org/wiki/The_World%27s_Billionaires_2015\"\n",
    "html = urlopen(url)\n",
    "soup = BeautifulSoup(html.read(),'html.parser')\n",
    "# finding all table tags within the HTML tree. This will return a ResultSet of\n",
    "# table tags.\n",
    "table = soup.find_all('table') \n",
    "\n",
    "# convert table variable to string for parsing and have pandas take the html\n",
    "# and convert it into a dataframe.\n",
    "df = pd.read_html(str(table))\n",
    "\n",
    "# the table we want is in index 2, so we reinitialize the dataframe to that and\n",
    "# display.\n",
    "df = pd.DataFrame(df[2])\n",
    "df"
   ]
  },
  {
   "cell_type": "markdown",
   "metadata": {
    "id": "BRgscEODx1aV"
   },
   "source": [
    "**Question 1**: In order to get a cleaner view of this data set, sort the Age column in ascending order.\n",
    "\n",
    "\n"
   ]
  },
  {
   "cell_type": "code",
   "execution_count": 19,
   "metadata": {
    "colab": {
     "base_uri": "https://localhost:8080/",
     "height": 406
    },
    "executionInfo": {
     "elapsed": 642,
     "status": "ok",
     "timestamp": 1601138099603,
     "user": {
      "displayName": "Prabin Sapkota",
      "photoUrl": "https://lh6.googleusercontent.com/-doP6HgypWoA/AAAAAAAAAAI/AAAAAAAAADs/IVE1vPXCX6U/s64/photo.jpg",
      "userId": "10525827673897210712"
     },
     "user_tz": 240
    },
    "id": "ZKDquskgyRtk",
    "outputId": "0c5aaea3-10f5-420f-9d80-296d4c30bdfe"
   },
   "outputs": [
    {
     "data": {
      "text/html": [
       "<div>\n",
       "<style scoped>\n",
       "    .dataframe tbody tr th:only-of-type {\n",
       "        vertical-align: middle;\n",
       "    }\n",
       "\n",
       "    .dataframe tbody tr th {\n",
       "        vertical-align: top;\n",
       "    }\n",
       "\n",
       "    .dataframe thead th {\n",
       "        text-align: right;\n",
       "    }\n",
       "</style>\n",
       "<table border=\"1\" class=\"dataframe\">\n",
       "  <thead>\n",
       "    <tr style=\"text-align: right;\">\n",
       "      <th></th>\n",
       "      <th>No.</th>\n",
       "      <th>Name</th>\n",
       "      <th>Citizenship</th>\n",
       "      <th>Age</th>\n",
       "      <th>Net Worth USD billion</th>\n",
       "      <th>Source(s) of wealth</th>\n",
       "    </tr>\n",
       "  </thead>\n",
       "  <tbody>\n",
       "    <tr>\n",
       "      <th>0</th>\n",
       "      <td>16</td>\n",
       "      <td>Mark Zuckerberg</td>\n",
       "      <td>United States</td>\n",
       "      <td>30.0</td>\n",
       "      <td>33.4</td>\n",
       "      <td>Facebook</td>\n",
       "    </tr>\n",
       "    <tr>\n",
       "      <th>1</th>\n",
       "      <td>20</td>\n",
       "      <td>Sergey Brin</td>\n",
       "      <td>United States</td>\n",
       "      <td>41.0</td>\n",
       "      <td>29.2</td>\n",
       "      <td>Google</td>\n",
       "    </tr>\n",
       "    <tr>\n",
       "      <th>2</th>\n",
       "      <td>19</td>\n",
       "      <td>Larry Page</td>\n",
       "      <td>United States</td>\n",
       "      <td>41.0</td>\n",
       "      <td>29.7</td>\n",
       "      <td>Google</td>\n",
       "    </tr>\n",
       "    <tr>\n",
       "      <th>3</th>\n",
       "      <td>100</td>\n",
       "      <td>Elon Musk</td>\n",
       "      <td>United States</td>\n",
       "      <td>43.0</td>\n",
       "      <td>12.0</td>\n",
       "      <td>Tesla Motors</td>\n",
       "    </tr>\n",
       "    <tr>\n",
       "      <th>4</th>\n",
       "      <td>56</td>\n",
       "      <td>Ma Huateng</td>\n",
       "      <td>China</td>\n",
       "      <td>43.0</td>\n",
       "      <td>16.1</td>\n",
       "      <td>Internet media</td>\n",
       "    </tr>\n",
       "    <tr>\n",
       "      <th>...</th>\n",
       "      <td>...</td>\n",
       "      <td>...</td>\n",
       "      <td>...</td>\n",
       "      <td>...</td>\n",
       "      <td>...</td>\n",
       "      <td>...</td>\n",
       "    </tr>\n",
       "    <tr>\n",
       "      <th>97</th>\n",
       "      <td>53</td>\n",
       "      <td>Anne Cox Chambers</td>\n",
       "      <td>United States</td>\n",
       "      <td>95.0</td>\n",
       "      <td>17.0</td>\n",
       "      <td>Media</td>\n",
       "    </tr>\n",
       "    <tr>\n",
       "      <th>98</th>\n",
       "      <td>32</td>\n",
       "      <td>Maria Franca Fissolo</td>\n",
       "      <td>Italy</td>\n",
       "      <td>97.0</td>\n",
       "      <td>23.4</td>\n",
       "      <td>Nutella, chocolates</td>\n",
       "    </tr>\n",
       "    <tr>\n",
       "      <th>99</th>\n",
       "      <td>37</td>\n",
       "      <td>Beate Heister &amp; Karl Albrecht Jr.</td>\n",
       "      <td>Germany</td>\n",
       "      <td>NaN</td>\n",
       "      <td>21.3</td>\n",
       "      <td>Supermarkets</td>\n",
       "    </tr>\n",
       "    <tr>\n",
       "      <th>100</th>\n",
       "      <td>58</td>\n",
       "      <td>Thomas &amp; Raymond Kwok</td>\n",
       "      <td>Hong Kong</td>\n",
       "      <td>NaN</td>\n",
       "      <td>15.9</td>\n",
       "      <td>Real estate</td>\n",
       "    </tr>\n",
       "    <tr>\n",
       "      <th>101</th>\n",
       "      <td>69</td>\n",
       "      <td>Hinduja brothers</td>\n",
       "      <td>United Kingdom</td>\n",
       "      <td>NaN</td>\n",
       "      <td>14.5</td>\n",
       "      <td>Diversified</td>\n",
       "    </tr>\n",
       "  </tbody>\n",
       "</table>\n",
       "<p>102 rows × 6 columns</p>\n",
       "</div>"
      ],
      "text/plain": [
       "     No.                               Name     Citizenship   Age  \\\n",
       "0     16                    Mark Zuckerberg   United States  30.0   \n",
       "1     20                        Sergey Brin   United States  41.0   \n",
       "2     19                         Larry Page   United States  41.0   \n",
       "3    100                          Elon Musk   United States  43.0   \n",
       "4     56                         Ma Huateng           China  43.0   \n",
       "..   ...                                ...             ...   ...   \n",
       "97    53                  Anne Cox Chambers   United States  95.0   \n",
       "98    32               Maria Franca Fissolo           Italy  97.0   \n",
       "99    37  Beate Heister & Karl Albrecht Jr.         Germany   NaN   \n",
       "100   58              Thomas & Raymond Kwok       Hong Kong   NaN   \n",
       "101   69                   Hinduja brothers  United Kingdom   NaN   \n",
       "\n",
       "     Net Worth USD billion  Source(s) of wealth  \n",
       "0                     33.4             Facebook  \n",
       "1                     29.2               Google  \n",
       "2                     29.7               Google  \n",
       "3                     12.0         Tesla Motors  \n",
       "4                     16.1       Internet media  \n",
       "..                     ...                  ...  \n",
       "97                    17.0                Media  \n",
       "98                    23.4  Nutella, chocolates  \n",
       "99                    21.3         Supermarkets  \n",
       "100                   15.9          Real estate  \n",
       "101                   14.5          Diversified  \n",
       "\n",
       "[102 rows x 6 columns]"
      ]
     },
     "execution_count": 19,
     "metadata": {},
     "output_type": "execute_result"
    }
   ],
   "source": [
    "# Your code here\n",
    "df = df.sort_values(\"Age\", ascending=True)\n",
    "df = df.reset_index(drop=True)\n",
    "df"
   ]
  },
  {
   "cell_type": "markdown",
   "metadata": {
    "id": "SK0GTpgRy18h"
   },
   "source": [
    "**Question 2**: Given this data from question 1, you see some instances of NaN values. Let's find the average age of billionaires for those  countries, and set those NaN values to that. That is, if there were a NaN value for the United States, set that NaN value to equal the average age of billionaires the United States. **Note: The only NaN values are in the age column, so don't worry about your answer modifying any of the other columns**\n",
    "\n",
    "Once you've done that, display the new table with the age column sorted."
   ]
  },
  {
   "cell_type": "code",
   "execution_count": 20,
   "metadata": {
    "colab": {
     "base_uri": "https://localhost:8080/",
     "height": 406
    },
    "executionInfo": {
     "elapsed": 610,
     "status": "ok",
     "timestamp": 1601138102734,
     "user": {
      "displayName": "Prabin Sapkota",
      "photoUrl": "https://lh6.googleusercontent.com/-doP6HgypWoA/AAAAAAAAAAI/AAAAAAAAADs/IVE1vPXCX6U/s64/photo.jpg",
      "userId": "10525827673897210712"
     },
     "user_tz": 240
    },
    "id": "aWzHbq23zaps",
    "outputId": "f1ac703e-0852-4a0c-f3a3-efba93e71391"
   },
   "outputs": [
    {
     "data": {
      "text/html": [
       "<div>\n",
       "<style scoped>\n",
       "    .dataframe tbody tr th:only-of-type {\n",
       "        vertical-align: middle;\n",
       "    }\n",
       "\n",
       "    .dataframe tbody tr th {\n",
       "        vertical-align: top;\n",
       "    }\n",
       "\n",
       "    .dataframe thead th {\n",
       "        text-align: right;\n",
       "    }\n",
       "</style>\n",
       "<table border=\"1\" class=\"dataframe\">\n",
       "  <thead>\n",
       "    <tr style=\"text-align: right;\">\n",
       "      <th></th>\n",
       "      <th>No.</th>\n",
       "      <th>Name</th>\n",
       "      <th>Citizenship</th>\n",
       "      <th>Age</th>\n",
       "      <th>Net Worth USD billion</th>\n",
       "      <th>Source(s) of wealth</th>\n",
       "    </tr>\n",
       "  </thead>\n",
       "  <tbody>\n",
       "    <tr>\n",
       "      <th>0</th>\n",
       "      <td>16</td>\n",
       "      <td>Mark Zuckerberg</td>\n",
       "      <td>United States</td>\n",
       "      <td>30.00</td>\n",
       "      <td>33.4</td>\n",
       "      <td>Facebook</td>\n",
       "    </tr>\n",
       "    <tr>\n",
       "      <th>1</th>\n",
       "      <td>20</td>\n",
       "      <td>Sergey Brin</td>\n",
       "      <td>United States</td>\n",
       "      <td>41.00</td>\n",
       "      <td>29.2</td>\n",
       "      <td>Google</td>\n",
       "    </tr>\n",
       "    <tr>\n",
       "      <th>2</th>\n",
       "      <td>19</td>\n",
       "      <td>Larry Page</td>\n",
       "      <td>United States</td>\n",
       "      <td>41.00</td>\n",
       "      <td>29.7</td>\n",
       "      <td>Google</td>\n",
       "    </tr>\n",
       "    <tr>\n",
       "      <th>3</th>\n",
       "      <td>100</td>\n",
       "      <td>Elon Musk</td>\n",
       "      <td>United States</td>\n",
       "      <td>43.00</td>\n",
       "      <td>12.0</td>\n",
       "      <td>Tesla Motors</td>\n",
       "    </tr>\n",
       "    <tr>\n",
       "      <th>4</th>\n",
       "      <td>56</td>\n",
       "      <td>Ma Huateng</td>\n",
       "      <td>China</td>\n",
       "      <td>43.00</td>\n",
       "      <td>16.1</td>\n",
       "      <td>Internet media</td>\n",
       "    </tr>\n",
       "    <tr>\n",
       "      <th>...</th>\n",
       "      <td>...</td>\n",
       "      <td>...</td>\n",
       "      <td>...</td>\n",
       "      <td>...</td>\n",
       "      <td>...</td>\n",
       "      <td>...</td>\n",
       "    </tr>\n",
       "    <tr>\n",
       "      <th>97</th>\n",
       "      <td>53</td>\n",
       "      <td>Anne Cox Chambers</td>\n",
       "      <td>United States</td>\n",
       "      <td>95.00</td>\n",
       "      <td>17.0</td>\n",
       "      <td>Media</td>\n",
       "    </tr>\n",
       "    <tr>\n",
       "      <th>98</th>\n",
       "      <td>32</td>\n",
       "      <td>Maria Franca Fissolo</td>\n",
       "      <td>Italy</td>\n",
       "      <td>97.00</td>\n",
       "      <td>23.4</td>\n",
       "      <td>Nutella, chocolates</td>\n",
       "    </tr>\n",
       "    <tr>\n",
       "      <th>99</th>\n",
       "      <td>37</td>\n",
       "      <td>Beate Heister &amp; Karl Albrecht Jr.</td>\n",
       "      <td>Germany</td>\n",
       "      <td>64.00</td>\n",
       "      <td>21.3</td>\n",
       "      <td>Supermarkets</td>\n",
       "    </tr>\n",
       "    <tr>\n",
       "      <th>100</th>\n",
       "      <td>58</td>\n",
       "      <td>Thomas &amp; Raymond Kwok</td>\n",
       "      <td>Hong Kong</td>\n",
       "      <td>86.75</td>\n",
       "      <td>15.9</td>\n",
       "      <td>Real estate</td>\n",
       "    </tr>\n",
       "    <tr>\n",
       "      <th>101</th>\n",
       "      <td>69</td>\n",
       "      <td>Hinduja brothers</td>\n",
       "      <td>United Kingdom</td>\n",
       "      <td>67.50</td>\n",
       "      <td>14.5</td>\n",
       "      <td>Diversified</td>\n",
       "    </tr>\n",
       "  </tbody>\n",
       "</table>\n",
       "<p>102 rows × 6 columns</p>\n",
       "</div>"
      ],
      "text/plain": [
       "     No.                               Name     Citizenship    Age  \\\n",
       "0     16                    Mark Zuckerberg   United States  30.00   \n",
       "1     20                        Sergey Brin   United States  41.00   \n",
       "2     19                         Larry Page   United States  41.00   \n",
       "3    100                          Elon Musk   United States  43.00   \n",
       "4     56                         Ma Huateng           China  43.00   \n",
       "..   ...                                ...             ...    ...   \n",
       "97    53                  Anne Cox Chambers   United States  95.00   \n",
       "98    32               Maria Franca Fissolo           Italy  97.00   \n",
       "99    37  Beate Heister & Karl Albrecht Jr.         Germany  64.00   \n",
       "100   58              Thomas & Raymond Kwok       Hong Kong  86.75   \n",
       "101   69                   Hinduja brothers  United Kingdom  67.50   \n",
       "\n",
       "     Net Worth USD billion  Source(s) of wealth  \n",
       "0                     33.4             Facebook  \n",
       "1                     29.2               Google  \n",
       "2                     29.7               Google  \n",
       "3                     12.0         Tesla Motors  \n",
       "4                     16.1       Internet media  \n",
       "..                     ...                  ...  \n",
       "97                    17.0                Media  \n",
       "98                    23.4  Nutella, chocolates  \n",
       "99                    21.3         Supermarkets  \n",
       "100                   15.9          Real estate  \n",
       "101                   14.5          Diversified  \n",
       "\n",
       "[102 rows x 6 columns]"
      ]
     },
     "execution_count": 20,
     "metadata": {},
     "output_type": "execute_result"
    }
   ],
   "source": [
    "# Your Code Here\n",
    "# get all countries ages\n",
    "countries_ages = {}\n",
    "\n",
    "for i in range(df.shape[0]):\n",
    "  country = df.iloc[i, 2]\n",
    "  age = df.iloc[i,3]\n",
    "  if country in countries_ages:\n",
    "    if not np.isnan(age):\n",
    "      countries_ages[country].append(age)\n",
    "  else:\n",
    "    if not np.isnan(age):\n",
    "      countries_ages[country] = [age]\n",
    "\n",
    "# get average age for each country\n",
    "for country in countries_ages:\n",
    "  countries_ages[country] = sum(countries_ages[country])/len(countries_ages[country])\n",
    "\n",
    "# replace nan with average age for that country\n",
    "for i in range(df.shape[0]):\n",
    "  country = df.iloc[i, 2]\n",
    "  age = df.iloc[i, 3]\n",
    "  if np.isnan(age):\n",
    "    df.iloc[i, 3] = countries_ages[country]\n",
    "\n",
    "df"
   ]
  },
  {
   "cell_type": "markdown",
   "metadata": {
    "id": "LAJPwotY2i5s"
   },
   "source": [
    "Often times in data science and stats, there will be outliers in your data set. An **outlier** is an extremely high or low value in your data that may throw off your statistics. For example, these US billionaires in this data set are outliers. The average person doesn't have a networth that high.\n",
    "\n",
    "In order to calculate the outlier threshold in your dataset, you'll need to find 3 things about your data: the interquartile range, the Q1, and the Q3.\n",
    "\n",
    "**Quartile 1**: The median of the lower half. Find the median of your data, and looking the left half, find the median of that. That's your Q1.\n",
    "\n",
    "**Quartile 3**: The median of the upper half. So the same thing as Q1, just for the right half\n",
    "\n",
    "**Interquartile range**: Q3 - Q1\n",
    "\n",
    "Here's the formula to find your outliers:\n",
    "\n",
    "**High: Q3 + (1.5 * IQR)**\n",
    "\n",
    "**Low: Q1 - (1.5 * IQR)**\n",
    "\n",
    "And if there are any numbers in your data set that is higher or lower than those, they are considered outliers\n",
    "\n"
   ]
  },
  {
   "cell_type": "markdown",
   "metadata": {
    "id": "0aX7gc30A_vb"
   },
   "source": [
    "**Question 3**: Use the code box below to find if there are any outliers in the Age column. If there are, write a comment stating which billionaire(s) are outliers and remove them."
   ]
  },
  {
   "cell_type": "code",
   "execution_count": 21,
   "metadata": {
    "colab": {
     "base_uri": "https://localhost:8080/",
     "height": 212
    },
    "executionInfo": {
     "elapsed": 691,
     "status": "ok",
     "timestamp": 1601138737084,
     "user": {
      "displayName": "Prabin Sapkota",
      "photoUrl": "https://lh6.googleusercontent.com/-doP6HgypWoA/AAAAAAAAAAI/AAAAAAAAADs/IVE1vPXCX6U/s64/photo.jpg",
      "userId": "10525827673897210712"
     },
     "user_tz": 240
    },
    "id": "cBLE61CXA_SK",
    "outputId": "f99def37-a2ee-4179-d30f-3ab48f017fc9"
   },
   "outputs": [
    {
     "name": "stdout",
     "output_type": "stream",
     "text": [
      "q1 and q3 indexes:  24.75 76.25\n",
      "q1 and q3:  13.9 25.125\n",
      "low and high:  -2.9374999999999982 41.9625\n",
      "OUTLIERS\n",
      "Charles Koch 42.9\n",
      "David Koch 42.9\n",
      "Larry Ellison 54.3\n",
      "Amancio Ortega 64.5\n",
      "Warren Buffett 72.7\n",
      "Carlos Slim Helu 77.1\n",
      "Bill Gates 79.2\n"
     ]
    }
   ],
   "source": [
    "# Your Code Here\n",
    "\n",
    "# sort by net worth first \n",
    "df = df.sort_values(\"Net Worth USD billion\", ascending=True)\n",
    "df = df.reset_index(drop=True)\n",
    "\n",
    "N = df.shape[0]\n",
    "# minus one cause index starts from 0\n",
    "q1_position = (N+1)/4 - 1\n",
    "q3_position = (3*(N+1))/4 - 1\n",
    "\n",
    "print(\"q1 and q3 indexes: \", q1_position, q3_position)\n",
    "q1 = df.iloc[int(q1_position), 4] + (q1_position-int(q1_position))*(df.iloc[int(q1_position)+1, 4]-df.iloc[int(q1_position), 4])\n",
    "q3 = df.iloc[int(q3_position), 4] + (q3_position-int(q3_position))*(df.iloc[int(q3_position)+1, 4]-df.iloc[int(q3_position), 4])\n",
    "\n",
    "IQR = q3 - q1\n",
    "high = q3 + (1.5*IQR)\n",
    "low = q1 - (1.5*IQR)\n",
    "print(\"q1 and q3: \", q1, q3)\n",
    "print(\"low and high: \", low, high)\n",
    "\n",
    "# find and print the outliers\n",
    "print(\"OUTLIERS\")\n",
    "for i in range(df.shape[0]):\n",
    "  if df.iloc[i, 4] > high or df.iloc[i, 4] < low:\n",
    "    print(df.iloc[i, 1], df.iloc[i, 4])"
   ]
  },
  {
   "cell_type": "markdown",
   "metadata": {
    "id": "2R2BtifWCM8K"
   },
   "source": [
    "**Question 4**: Print the average of the Age column with the outliers removed.\n",
    "\n"
   ]
  },
  {
   "cell_type": "code",
   "execution_count": 22,
   "metadata": {
    "colab": {
     "base_uri": "https://localhost:8080/",
     "height": 34
    },
    "executionInfo": {
     "elapsed": 652,
     "status": "ok",
     "timestamp": 1601139139400,
     "user": {
      "displayName": "Prabin Sapkota",
      "photoUrl": "https://lh6.googleusercontent.com/-doP6HgypWoA/AAAAAAAAAAI/AAAAAAAAADs/IVE1vPXCX6U/s64/photo.jpg",
      "userId": "10525827673897210712"
     },
     "user_tz": 240
    },
    "id": "DrSQMBVJC99Q",
    "outputId": "fcb9dc60-cf35-4c37-8386-bbc28af982ce"
   },
   "outputs": [
    {
     "name": "stdout",
     "output_type": "stream",
     "text": [
      "Average age after removal of outliers is:  67.20263157894736\n"
     ]
    }
   ],
   "source": [
    "# Your Code Here\n",
    "ages = []\n",
    "for i in range(df.shape[0]):\n",
    "  age = df.iloc[i, 3]\n",
    "  net_worth = df.iloc[i, 4]\n",
    "  if net_worth >= low and net_worth <= high:\n",
    "    ages.append(age)\n",
    "print(\"Average age after removal of outliers is: \", sum(ages)/len(ages))"
   ]
  },
  {
   "cell_type": "markdown",
   "metadata": {
    "id": "mHhsIvKCFVE4"
   },
   "source": [
    "##Section 2: Billionaires in 2014\n",
    "\n",
    "Now that we've play around with 2015 data, let's take a look at the year prior."
   ]
  },
  {
   "cell_type": "markdown",
   "metadata": {
    "id": "Igz63iqG1Nhw"
   },
   "source": [
    "**Question 1:** Using the techniques outlined in section 1, scrape the Top 100 billionaires table from The World's Billionaires 2014 wikipedia article [found here](https://en.wikipedia.org/wiki/The_World%27s_Billionaires_2014) and display the data.\n",
    "\n",
    "**Note:** If the hyperlink doesn't work, just copy and paste https://en.wikipedia.org/wiki/The_World%27s_Billionaires_2014 into your search bar."
   ]
  },
  {
   "cell_type": "code",
   "execution_count": 23,
   "metadata": {
    "colab": {
     "base_uri": "https://localhost:8080/",
     "height": 406
    },
    "executionInfo": {
     "elapsed": 984,
     "status": "ok",
     "timestamp": 1601141364251,
     "user": {
      "displayName": "Prabin Sapkota",
      "photoUrl": "https://lh6.googleusercontent.com/-doP6HgypWoA/AAAAAAAAAAI/AAAAAAAAADs/IVE1vPXCX6U/s64/photo.jpg",
      "userId": "10525827673897210712"
     },
     "user_tz": 240
    },
    "id": "mwhxhvL72xiq",
    "outputId": "5a2c47b8-d8f4-4ee2-b466-8b5771a61a31"
   },
   "outputs": [
    {
     "data": {
      "text/html": [
       "<div>\n",
       "<style scoped>\n",
       "    .dataframe tbody tr th:only-of-type {\n",
       "        vertical-align: middle;\n",
       "    }\n",
       "\n",
       "    .dataframe tbody tr th {\n",
       "        vertical-align: top;\n",
       "    }\n",
       "\n",
       "    .dataframe thead th {\n",
       "        text-align: right;\n",
       "    }\n",
       "</style>\n",
       "<table border=\"1\" class=\"dataframe\">\n",
       "  <thead>\n",
       "    <tr style=\"text-align: right;\">\n",
       "      <th></th>\n",
       "      <th>No.</th>\n",
       "      <th>Name</th>\n",
       "      <th>Net Worth USD billion</th>\n",
       "      <th>Age</th>\n",
       "      <th>Nationality</th>\n",
       "      <th>Source(s) of wealth</th>\n",
       "    </tr>\n",
       "  </thead>\n",
       "  <tbody>\n",
       "    <tr>\n",
       "      <th>1</th>\n",
       "      <td>1</td>\n",
       "      <td>Bill Gates</td>\n",
       "      <td>76.00</td>\n",
       "      <td>58</td>\n",
       "      <td>United States</td>\n",
       "      <td>Microsoft</td>\n",
       "    </tr>\n",
       "    <tr>\n",
       "      <th>2</th>\n",
       "      <td>2</td>\n",
       "      <td>Carlos Slim Helu &amp; family</td>\n",
       "      <td>72.00</td>\n",
       "      <td>74</td>\n",
       "      <td>Mexico</td>\n",
       "      <td>telecom</td>\n",
       "    </tr>\n",
       "    <tr>\n",
       "      <th>3</th>\n",
       "      <td>3</td>\n",
       "      <td>Amancio Ortega</td>\n",
       "      <td>64.00</td>\n",
       "      <td>77</td>\n",
       "      <td>Spain</td>\n",
       "      <td>retail</td>\n",
       "    </tr>\n",
       "    <tr>\n",
       "      <th>4</th>\n",
       "      <td>4</td>\n",
       "      <td>Warren Buffett</td>\n",
       "      <td>58.20</td>\n",
       "      <td>83</td>\n",
       "      <td>United States</td>\n",
       "      <td>Berkshire Hathaway</td>\n",
       "    </tr>\n",
       "    <tr>\n",
       "      <th>5</th>\n",
       "      <td>5</td>\n",
       "      <td>Larry Ellison</td>\n",
       "      <td>48.00</td>\n",
       "      <td>69</td>\n",
       "      <td>United States</td>\n",
       "      <td>Oracle Corporation</td>\n",
       "    </tr>\n",
       "    <tr>\n",
       "      <th>...</th>\n",
       "      <td>...</td>\n",
       "      <td>...</td>\n",
       "      <td>...</td>\n",
       "      <td>...</td>\n",
       "      <td>...</td>\n",
       "      <td>...</td>\n",
       "    </tr>\n",
       "    <tr>\n",
       "      <th>97</th>\n",
       "      <td>97</td>\n",
       "      <td>Dhanin Chearavanont &amp; family</td>\n",
       "      <td>11.40</td>\n",
       "      <td>74</td>\n",
       "      <td>Thailand</td>\n",
       "      <td>food</td>\n",
       "    </tr>\n",
       "    <tr>\n",
       "      <th>98</th>\n",
       "      <td>97</td>\n",
       "      <td>Andrey Melnichenko</td>\n",
       "      <td>11.40</td>\n",
       "      <td>41</td>\n",
       "      <td>Russia</td>\n",
       "      <td>coal, fertilizers</td>\n",
       "    </tr>\n",
       "    <tr>\n",
       "      <th>99</th>\n",
       "      <td>97</td>\n",
       "      <td>Henry Sy &amp; family</td>\n",
       "      <td>11.40</td>\n",
       "      <td>89</td>\n",
       "      <td>Philippines</td>\n",
       "      <td>diversified</td>\n",
       "    </tr>\n",
       "    <tr>\n",
       "      <th>100</th>\n",
       "      <td>100</td>\n",
       "      <td>German Khan</td>\n",
       "      <td>11.30</td>\n",
       "      <td>52</td>\n",
       "      <td>Russia</td>\n",
       "      <td>oil, banking, telecom</td>\n",
       "    </tr>\n",
       "    <tr>\n",
       "      <th>101</th>\n",
       "      <td>100</td>\n",
       "      <td>Ananda Krishnan</td>\n",
       "      <td>11.30</td>\n",
       "      <td>75</td>\n",
       "      <td>Malaysia</td>\n",
       "      <td>telecom</td>\n",
       "    </tr>\n",
       "  </tbody>\n",
       "</table>\n",
       "<p>101 rows × 6 columns</p>\n",
       "</div>"
      ],
      "text/plain": [
       "0    No.                          Name Net Worth USD billion Age  \\\n",
       "1      1                    Bill Gates                 76.00  58   \n",
       "2      2     Carlos Slim Helu & family                 72.00  74   \n",
       "3      3                Amancio Ortega                 64.00  77   \n",
       "4      4                Warren Buffett                 58.20  83   \n",
       "5      5                 Larry Ellison                 48.00  69   \n",
       "..   ...                           ...                   ...  ..   \n",
       "97    97  Dhanin Chearavanont & family                 11.40  74   \n",
       "98    97            Andrey Melnichenko                 11.40  41   \n",
       "99    97             Henry Sy & family                 11.40  89   \n",
       "100  100                   German Khan                 11.30  52   \n",
       "101  100               Ananda Krishnan                 11.30  75   \n",
       "\n",
       "0      Nationality    Source(s) of wealth  \n",
       "1    United States              Microsoft  \n",
       "2           Mexico                telecom  \n",
       "3            Spain                 retail  \n",
       "4    United States     Berkshire Hathaway  \n",
       "5    United States     Oracle Corporation  \n",
       "..             ...                    ...  \n",
       "97        Thailand                   food  \n",
       "98          Russia      coal, fertilizers  \n",
       "99     Philippines            diversified  \n",
       "100         Russia  oil, banking, telecom  \n",
       "101       Malaysia                telecom  \n",
       "\n",
       "[101 rows x 6 columns]"
      ]
     },
     "execution_count": 23,
     "metadata": {},
     "output_type": "execute_result"
    }
   ],
   "source": [
    "# Opening the and reading the article's url.\n",
    "url = \"https://en.wikipedia.org/wiki/The_World%27s_Billionaires_2014\"\n",
    "html = urlopen(url)\n",
    "soup = BeautifulSoup(html.read(),'html.parser')\n",
    "# finding all table tags within the HTML tree. This will return a ResultSet of\n",
    "# table tags.\n",
    "table = soup.find_all('table') \n",
    "\n",
    "# convert table variable to string for parsing and have pandas take the html\n",
    "# and convert it into a dataframe.\n",
    "df = pd.read_html(str(table))\n",
    "\n",
    "# the table we want is in index 2, so we reinitialize the dataframe to that and\n",
    "# display.\n",
    "df = pd.DataFrame(df[2])\n",
    "\n",
    "df.columns = df.iloc[0]\n",
    "df = df.drop([0])\n",
    "df"
   ]
  },
  {
   "cell_type": "markdown",
   "metadata": {
    "id": "tlA70prA55FB"
   },
   "source": [
    "From the data you can see that billionaires span across multiple countries around the world, and some countries, like the US, have multiple billionaires in them\n",
    "\n",
    "**Question 2**: Create a new dataframe that is the result of grouping the data from question 1 by country, and getting the average networth of billionaires for that country. **Note:** You'll have to convert the networth column to float values first."
   ]
  },
  {
   "cell_type": "code",
   "execution_count": 24,
   "metadata": {
    "executionInfo": {
     "elapsed": 570,
     "status": "ok",
     "timestamp": 1601142688363,
     "user": {
      "displayName": "Prabin Sapkota",
      "photoUrl": "https://lh6.googleusercontent.com/-doP6HgypWoA/AAAAAAAAAAI/AAAAAAAAADs/IVE1vPXCX6U/s64/photo.jpg",
      "userId": "10525827673897210712"
     },
     "user_tz": 240
    },
    "id": "4pqx2PC07uMU"
   },
   "outputs": [],
   "source": [
    "# your code here\n",
    "\n",
    "df[\"Net Worth USD billion\"] = pd.to_numeric(df[\"Net Worth USD billion\"])\n",
    "\n",
    "country_average = df.groupby([\"Nationality\"]).mean().reset_index()"
   ]
  },
  {
   "cell_type": "markdown",
   "metadata": {
    "id": "RXJhPOLkB5p2"
   },
   "source": [
    "**Question 3** Use an appropriate graph to visualize each country's average net worth from question 2, and state in a comment why you chose the graph you chose"
   ]
  },
  {
   "cell_type": "code",
   "execution_count": 25,
   "metadata": {
    "colab": {
     "base_uri": "https://localhost:8080/",
     "height": 396
    },
    "executionInfo": {
     "elapsed": 881,
     "status": "ok",
     "timestamp": 1601142981665,
     "user": {
      "displayName": "Prabin Sapkota",
      "photoUrl": "https://lh6.googleusercontent.com/-doP6HgypWoA/AAAAAAAAAAI/AAAAAAAAADs/IVE1vPXCX6U/s64/photo.jpg",
      "userId": "10525827673897210712"
     },
     "user_tz": 240
    },
    "id": "dofmV4I6CSrh",
    "outputId": "ccb66e38-0d2a-4483-9a34-07c2a6edd995"
   },
   "outputs": [
    {
     "data": {
      "image/png": "[encoded data removed]",
      "text/plain": [
       "<Figure size 2880x720 with 1 Axes>"
      ]
     },
     "metadata": {
      "needs_background": "light"
     },
     "output_type": "display_data"
    },
    {
     "name": "stdout",
     "output_type": "stream",
     "text": [
      "I chose bar diagram as this data is categorical. I would need numerical x-axis values for scatter plot and histogram is usually good for \n",
      " frequency related data.\n"
     ]
    }
   ],
   "source": [
    "# your code here\n",
    "plt.figure(figsize=(40,10))\n",
    "plt.bar(country_average[\"Nationality\"], country_average[\"Net Worth USD billion\"], edgecolor='black', linewidth=1.2)\n",
    "plt.title(\"2014 Countries and average Net worth of billionnaires\")\n",
    "plt.xlabel(\"Countries\")\n",
    "plt.ylabel(\"Net Worth in billions\")\n",
    "plt.show()\n",
    "\n",
    "print(\"I chose bar diagram as this data is categorical. I would need numerical x-axis values for scatter plot and histogram is usually good for \\n frequency related data.\")"
   ]
  },
  {
   "cell_type": "markdown",
   "metadata": {
    "id": "i0uDVv8KDLC4"
   },
   "source": [
    "**Question 4:** From the chart you made in question 3 you may see some interesting result regarding Spain, why do think that is? Is Spain an outlier when it's in the original table? What about when Spain is in the grouped table?"
   ]
  },
  {
   "cell_type": "markdown",
   "metadata": {
    "id": "m2xAv7RnEQKT"
   },
   "source": [
    "Spain was in the last year of financial crisis in 2014. The main causes of it were the housing bubble and unsustainbly high GDP growth rate. Amancio Ortega was the only billionnaire from Spain to make it in the top 100 richest people's list and his wealth was very high. His wealth is definitely an outlier and his sole presence from Spain in the top 100 list skewed the average net worth of Spanish billionnaires in the list as well. Perhaps, there was some unfair advantage to him from the Spanish financial crisis."
   ]
  }
 ],
 "metadata": {
  "colab": {
   "collapsed_sections": [],
   "name": "Lab_6_20200922.ipynb",
   "provenance": []
  },
  "kernelspec": {
   "display_name": "Python 3",
   "language": "python",
   "name": "python3"
  },
  "language_info": {
   "codemirror_mode": {
    "name": "ipython",
    "version": 3
   },
   "file_extension": ".py",
   "mimetype": "text/x-python",
   "name": "python",
   "nbconvert_exporter": "python",
   "pygments_lexer": "ipython3",
   "version": "3.8.6"
  }
 },
 "nbformat": 4,
 "nbformat_minor": 1
}
