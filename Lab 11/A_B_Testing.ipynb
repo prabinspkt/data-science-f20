{
 "cells": [
  {
   "cell_type": "markdown",
   "metadata": {
    "id": "vuo7ze2FTFDM"
   },
   "source": [
    "# Lab 11: A/B Testing and Causality\n",
    "\n",
    "## 1. Ramen Ratings\n",
    "Ramen is delicious, it's a well known fact, and different countries around the world make theirs in unique ways. But is there one country that makes better ramen than another? In this assignment, we will take utilize A/B testing to answer this question"
   ]
  },
  {
   "cell_type": "code",
   "execution_count": 1,
   "metadata": {
    "executionInfo": {
     "elapsed": 630,
     "status": "ok",
     "timestamp": 1603769151489,
     "user": {
      "displayName": "Prabin Sapkota",
      "photoUrl": "https://lh6.googleusercontent.com/-doP6HgypWoA/AAAAAAAAAAI/AAAAAAAAADs/IVE1vPXCX6U/s64/photo.jpg",
      "userId": "10525827673897210712"
     },
     "user_tz": 240
    },
    "id": "Dm-sdBfZJmBy"
   },
   "outputs": [],
   "source": [
    "import pandas as pd\n",
    "import numpy as np\n",
    "import matplotlib.pyplot as plt\n",
    " "
   ]
  },
  {
   "cell_type": "markdown",
   "metadata": {
    "id": "8OileLAVUWRi"
   },
   "source": [
    "If we take a look at our data, we see that we have different columns regarding brand, variety, the style of noodle, etc. But for this lab, we'll be focusing on the country and stars. Namely, we'll be only focusing two ramen countries, Malaysia and Taiwan"
   ]
  },
  {
   "cell_type": "code",
   "execution_count": 2,
   "metadata": {
    "colab": {
     "base_uri": "https://localhost:8080/",
     "height": 406
    },
    "executionInfo": {
     "elapsed": 935,
     "status": "ok",
     "timestamp": 1603769151804,
     "user": {
      "displayName": "Prabin Sapkota",
      "photoUrl": "https://lh6.googleusercontent.com/-doP6HgypWoA/AAAAAAAAAAI/AAAAAAAAADs/IVE1vPXCX6U/s64/photo.jpg",
      "userId": "10525827673897210712"
     },
     "user_tz": 240
    },
    "id": "RQL7kxg4J1TZ",
    "outputId": "d335d89d-a35c-4846-8600-563a047bcc41"
   },
   "outputs": [
    {
     "data": {
      "text/html": [
       "<div>\n",
       "<style scoped>\n",
       "    .dataframe tbody tr th:only-of-type {\n",
       "        vertical-align: middle;\n",
       "    }\n",
       "\n",
       "    .dataframe tbody tr th {\n",
       "        vertical-align: top;\n",
       "    }\n",
       "\n",
       "    .dataframe thead th {\n",
       "        text-align: right;\n",
       "    }\n",
       "</style>\n",
       "<table border=\"1\" class=\"dataframe\">\n",
       "  <thead>\n",
       "    <tr style=\"text-align: right;\">\n",
       "      <th></th>\n",
       "      <th>Review #</th>\n",
       "      <th>Brand</th>\n",
       "      <th>Variety</th>\n",
       "      <th>Style</th>\n",
       "      <th>Country</th>\n",
       "      <th>Stars</th>\n",
       "      <th>Top Ten</th>\n",
       "    </tr>\n",
       "  </thead>\n",
       "  <tbody>\n",
       "    <tr>\n",
       "      <th>0</th>\n",
       "      <td>2580</td>\n",
       "      <td>New Touch</td>\n",
       "      <td>T's Restaurant Tantanmen</td>\n",
       "      <td>Cup</td>\n",
       "      <td>Japan</td>\n",
       "      <td>3.75</td>\n",
       "      <td>NaN</td>\n",
       "    </tr>\n",
       "    <tr>\n",
       "      <th>1</th>\n",
       "      <td>2579</td>\n",
       "      <td>Just Way</td>\n",
       "      <td>Noodles Spicy Hot Sesame Spicy Hot Sesame Guan...</td>\n",
       "      <td>Pack</td>\n",
       "      <td>Taiwan</td>\n",
       "      <td>1</td>\n",
       "      <td>NaN</td>\n",
       "    </tr>\n",
       "    <tr>\n",
       "      <th>2</th>\n",
       "      <td>2578</td>\n",
       "      <td>Nissin</td>\n",
       "      <td>Cup Noodles Chicken Vegetable</td>\n",
       "      <td>Cup</td>\n",
       "      <td>USA</td>\n",
       "      <td>2.25</td>\n",
       "      <td>NaN</td>\n",
       "    </tr>\n",
       "    <tr>\n",
       "      <th>3</th>\n",
       "      <td>2577</td>\n",
       "      <td>Wei Lih</td>\n",
       "      <td>GGE Ramen Snack Tomato Flavor</td>\n",
       "      <td>Pack</td>\n",
       "      <td>Taiwan</td>\n",
       "      <td>2.75</td>\n",
       "      <td>NaN</td>\n",
       "    </tr>\n",
       "    <tr>\n",
       "      <th>4</th>\n",
       "      <td>2576</td>\n",
       "      <td>Ching's Secret</td>\n",
       "      <td>Singapore Curry</td>\n",
       "      <td>Pack</td>\n",
       "      <td>India</td>\n",
       "      <td>3.75</td>\n",
       "      <td>NaN</td>\n",
       "    </tr>\n",
       "    <tr>\n",
       "      <th>...</th>\n",
       "      <td>...</td>\n",
       "      <td>...</td>\n",
       "      <td>...</td>\n",
       "      <td>...</td>\n",
       "      <td>...</td>\n",
       "      <td>...</td>\n",
       "      <td>...</td>\n",
       "    </tr>\n",
       "    <tr>\n",
       "      <th>2575</th>\n",
       "      <td>5</td>\n",
       "      <td>Vifon</td>\n",
       "      <td>Hu Tiu Nam Vang [\"Phnom Penh\" style] Asian Sty...</td>\n",
       "      <td>Bowl</td>\n",
       "      <td>Vietnam</td>\n",
       "      <td>3.5</td>\n",
       "      <td>NaN</td>\n",
       "    </tr>\n",
       "    <tr>\n",
       "      <th>2576</th>\n",
       "      <td>4</td>\n",
       "      <td>Wai Wai</td>\n",
       "      <td>Oriental Style Instant Noodles</td>\n",
       "      <td>Pack</td>\n",
       "      <td>Thailand</td>\n",
       "      <td>1</td>\n",
       "      <td>NaN</td>\n",
       "    </tr>\n",
       "    <tr>\n",
       "      <th>2577</th>\n",
       "      <td>3</td>\n",
       "      <td>Wai Wai</td>\n",
       "      <td>Tom Yum Shrimp</td>\n",
       "      <td>Pack</td>\n",
       "      <td>Thailand</td>\n",
       "      <td>2</td>\n",
       "      <td>NaN</td>\n",
       "    </tr>\n",
       "    <tr>\n",
       "      <th>2578</th>\n",
       "      <td>2</td>\n",
       "      <td>Wai Wai</td>\n",
       "      <td>Tom Yum Chili Flavor</td>\n",
       "      <td>Pack</td>\n",
       "      <td>Thailand</td>\n",
       "      <td>2</td>\n",
       "      <td>NaN</td>\n",
       "    </tr>\n",
       "    <tr>\n",
       "      <th>2579</th>\n",
       "      <td>1</td>\n",
       "      <td>Westbrae</td>\n",
       "      <td>Miso Ramen</td>\n",
       "      <td>Pack</td>\n",
       "      <td>USA</td>\n",
       "      <td>0.5</td>\n",
       "      <td>NaN</td>\n",
       "    </tr>\n",
       "  </tbody>\n",
       "</table>\n",
       "<p>2580 rows × 7 columns</p>\n",
       "</div>"
      ],
      "text/plain": [
       "      Review #           Brand  \\\n",
       "0         2580       New Touch   \n",
       "1         2579        Just Way   \n",
       "2         2578          Nissin   \n",
       "3         2577         Wei Lih   \n",
       "4         2576  Ching's Secret   \n",
       "...        ...             ...   \n",
       "2575         5           Vifon   \n",
       "2576         4         Wai Wai   \n",
       "2577         3         Wai Wai   \n",
       "2578         2         Wai Wai   \n",
       "2579         1        Westbrae   \n",
       "\n",
       "                                                Variety Style   Country Stars  \\\n",
       "0                             T's Restaurant Tantanmen    Cup     Japan  3.75   \n",
       "1     Noodles Spicy Hot Sesame Spicy Hot Sesame Guan...  Pack    Taiwan     1   \n",
       "2                         Cup Noodles Chicken Vegetable   Cup       USA  2.25   \n",
       "3                         GGE Ramen Snack Tomato Flavor  Pack    Taiwan  2.75   \n",
       "4                                       Singapore Curry  Pack     India  3.75   \n",
       "...                                                 ...   ...       ...   ...   \n",
       "2575  Hu Tiu Nam Vang [\"Phnom Penh\" style] Asian Sty...  Bowl   Vietnam   3.5   \n",
       "2576                     Oriental Style Instant Noodles  Pack  Thailand     1   \n",
       "2577                                     Tom Yum Shrimp  Pack  Thailand     2   \n",
       "2578                               Tom Yum Chili Flavor  Pack  Thailand     2   \n",
       "2579                                         Miso Ramen  Pack       USA   0.5   \n",
       "\n",
       "     Top Ten  \n",
       "0        NaN  \n",
       "1        NaN  \n",
       "2        NaN  \n",
       "3        NaN  \n",
       "4        NaN  \n",
       "...      ...  \n",
       "2575     NaN  \n",
       "2576     NaN  \n",
       "2577     NaN  \n",
       "2578     NaN  \n",
       "2579     NaN  \n",
       "\n",
       "[2580 rows x 7 columns]"
      ]
     },
     "execution_count": 2,
     "metadata": {},
     "output_type": "execute_result"
    }
   ],
   "source": [
    "ramen_df = pd.read_csv('ramen-ratings.csv')\n",
    "ramen_df\n"
   ]
  },
  {
   "cell_type": "markdown",
   "metadata": {
    "id": "jxEd3D6tUwTa"
   },
   "source": [
    "**Question 1**: Create a new data frame called `taiwan_and_malaysia` that only consists of data for countries Malaysia and Taiwan, and check the data type of the Stars column"
   ]
  },
  {
   "cell_type": "code",
   "execution_count": 3,
   "metadata": {
    "colab": {
     "base_uri": "https://localhost:8080/",
     "height": 406
    },
    "executionInfo": {
     "elapsed": 926,
     "status": "ok",
     "timestamp": 1603769151804,
     "user": {
      "displayName": "Prabin Sapkota",
      "photoUrl": "https://lh6.googleusercontent.com/-doP6HgypWoA/AAAAAAAAAAI/AAAAAAAAADs/IVE1vPXCX6U/s64/photo.jpg",
      "userId": "10525827673897210712"
     },
     "user_tz": 240
    },
    "id": "WiwVqEewLiaY",
    "outputId": "c1f7dffe-ea8d-44a0-d196-8b9f599618b6"
   },
   "outputs": [
    {
     "data": {
      "text/html": [
       "<div>\n",
       "<style scoped>\n",
       "    .dataframe tbody tr th:only-of-type {\n",
       "        vertical-align: middle;\n",
       "    }\n",
       "\n",
       "    .dataframe tbody tr th {\n",
       "        vertical-align: top;\n",
       "    }\n",
       "\n",
       "    .dataframe thead th {\n",
       "        text-align: right;\n",
       "    }\n",
       "</style>\n",
       "<table border=\"1\" class=\"dataframe\">\n",
       "  <thead>\n",
       "    <tr style=\"text-align: right;\">\n",
       "      <th></th>\n",
       "      <th>Review #</th>\n",
       "      <th>Brand</th>\n",
       "      <th>Variety</th>\n",
       "      <th>Style</th>\n",
       "      <th>Country</th>\n",
       "      <th>Stars</th>\n",
       "      <th>Top Ten</th>\n",
       "    </tr>\n",
       "  </thead>\n",
       "  <tbody>\n",
       "    <tr>\n",
       "      <th>1</th>\n",
       "      <td>2579</td>\n",
       "      <td>Just Way</td>\n",
       "      <td>Noodles Spicy Hot Sesame Spicy Hot Sesame Guan...</td>\n",
       "      <td>Pack</td>\n",
       "      <td>Taiwan</td>\n",
       "      <td>1</td>\n",
       "      <td>NaN</td>\n",
       "    </tr>\n",
       "    <tr>\n",
       "      <th>3</th>\n",
       "      <td>2577</td>\n",
       "      <td>Wei Lih</td>\n",
       "      <td>GGE Ramen Snack Tomato Flavor</td>\n",
       "      <td>Pack</td>\n",
       "      <td>Taiwan</td>\n",
       "      <td>2.75</td>\n",
       "      <td>NaN</td>\n",
       "    </tr>\n",
       "    <tr>\n",
       "      <th>28</th>\n",
       "      <td>2552</td>\n",
       "      <td>MyKuali</td>\n",
       "      <td>Penang White Curry Rice Vermicelli Soup</td>\n",
       "      <td>Bowl</td>\n",
       "      <td>Malaysia</td>\n",
       "      <td>5</td>\n",
       "      <td>NaN</td>\n",
       "    </tr>\n",
       "    <tr>\n",
       "      <th>40</th>\n",
       "      <td>2540</td>\n",
       "      <td>Wei Lih</td>\n",
       "      <td>GGE Noodle Snack Wheat Crackers Mexican Spicy</td>\n",
       "      <td>Pack</td>\n",
       "      <td>Taiwan</td>\n",
       "      <td>3.25</td>\n",
       "      <td>NaN</td>\n",
       "    </tr>\n",
       "    <tr>\n",
       "      <th>65</th>\n",
       "      <td>2515</td>\n",
       "      <td>Uni-President</td>\n",
       "      <td>Man Han Feast Spicy Beef Flavor Instant Noodles</td>\n",
       "      <td>Bowl</td>\n",
       "      <td>Taiwan</td>\n",
       "      <td>5</td>\n",
       "      <td>NaN</td>\n",
       "    </tr>\n",
       "    <tr>\n",
       "      <th>...</th>\n",
       "      <td>...</td>\n",
       "      <td>...</td>\n",
       "      <td>...</td>\n",
       "      <td>...</td>\n",
       "      <td>...</td>\n",
       "      <td>...</td>\n",
       "      <td>...</td>\n",
       "    </tr>\n",
       "    <tr>\n",
       "      <th>2500</th>\n",
       "      <td>80</td>\n",
       "      <td>Unif / Tung-I</td>\n",
       "      <td>Artificial Chicken</td>\n",
       "      <td>Pack</td>\n",
       "      <td>Taiwan</td>\n",
       "      <td>3.5</td>\n",
       "      <td>NaN</td>\n",
       "    </tr>\n",
       "    <tr>\n",
       "      <th>2512</th>\n",
       "      <td>68</td>\n",
       "      <td>Wei Lih</td>\n",
       "      <td>Jah Jan Mien Instant Noodle With Fried Soybean...</td>\n",
       "      <td>Pack</td>\n",
       "      <td>Taiwan</td>\n",
       "      <td>4</td>\n",
       "      <td>NaN</td>\n",
       "    </tr>\n",
       "    <tr>\n",
       "      <th>2522</th>\n",
       "      <td>58</td>\n",
       "      <td>Ve Wong</td>\n",
       "      <td>A-One Bun Tom Shrimp</td>\n",
       "      <td>Pack</td>\n",
       "      <td>Taiwan</td>\n",
       "      <td>3</td>\n",
       "      <td>NaN</td>\n",
       "    </tr>\n",
       "    <tr>\n",
       "      <th>2537</th>\n",
       "      <td>43</td>\n",
       "      <td>Kim Ve Wong</td>\n",
       "      <td>Jaopai Series: Vegetarian Instant Noodles</td>\n",
       "      <td>Bowl</td>\n",
       "      <td>Taiwan</td>\n",
       "      <td>0</td>\n",
       "      <td>NaN</td>\n",
       "    </tr>\n",
       "    <tr>\n",
       "      <th>2572</th>\n",
       "      <td>8</td>\n",
       "      <td>Tung-I</td>\n",
       "      <td>Chinese Beef Instant Rice Noodle</td>\n",
       "      <td>Pack</td>\n",
       "      <td>Taiwan</td>\n",
       "      <td>3</td>\n",
       "      <td>NaN</td>\n",
       "    </tr>\n",
       "  </tbody>\n",
       "</table>\n",
       "<p>380 rows × 7 columns</p>\n",
       "</div>"
      ],
      "text/plain": [
       "      Review #          Brand  \\\n",
       "1         2579       Just Way   \n",
       "3         2577        Wei Lih   \n",
       "28        2552        MyKuali   \n",
       "40        2540        Wei Lih   \n",
       "65        2515  Uni-President   \n",
       "...        ...            ...   \n",
       "2500        80  Unif / Tung-I   \n",
       "2512        68        Wei Lih   \n",
       "2522        58        Ve Wong   \n",
       "2537        43    Kim Ve Wong   \n",
       "2572         8         Tung-I   \n",
       "\n",
       "                                                Variety Style   Country Stars  \\\n",
       "1     Noodles Spicy Hot Sesame Spicy Hot Sesame Guan...  Pack    Taiwan     1   \n",
       "3                         GGE Ramen Snack Tomato Flavor  Pack    Taiwan  2.75   \n",
       "28              Penang White Curry Rice Vermicelli Soup  Bowl  Malaysia     5   \n",
       "40        GGE Noodle Snack Wheat Crackers Mexican Spicy  Pack    Taiwan  3.25   \n",
       "65      Man Han Feast Spicy Beef Flavor Instant Noodles  Bowl    Taiwan     5   \n",
       "...                                                 ...   ...       ...   ...   \n",
       "2500                                 Artificial Chicken  Pack    Taiwan   3.5   \n",
       "2512  Jah Jan Mien Instant Noodle With Fried Soybean...  Pack    Taiwan     4   \n",
       "2522                               A-One Bun Tom Shrimp  Pack    Taiwan     3   \n",
       "2537          Jaopai Series: Vegetarian Instant Noodles  Bowl    Taiwan     0   \n",
       "2572                   Chinese Beef Instant Rice Noodle  Pack    Taiwan     3   \n",
       "\n",
       "     Top Ten  \n",
       "1        NaN  \n",
       "3        NaN  \n",
       "28       NaN  \n",
       "40       NaN  \n",
       "65       NaN  \n",
       "...      ...  \n",
       "2500     NaN  \n",
       "2512     NaN  \n",
       "2522     NaN  \n",
       "2537     NaN  \n",
       "2572     NaN  \n",
       "\n",
       "[380 rows x 7 columns]"
      ]
     },
     "execution_count": 3,
     "metadata": {},
     "output_type": "execute_result"
    }
   ],
   "source": [
    "taiwan_and_malaysia = ramen_df[ramen_df.Country.isin([\"Malaysia\", \"Taiwan\"])]\n",
    "taiwan_and_malaysia"
   ]
  },
  {
   "cell_type": "markdown",
   "metadata": {
    "id": "o56e9M-fVFgj"
   },
   "source": [
    "**Question 2:** We see here that the data type of the Stars column is a little unexpected, so we should do three things:\n",
    "\n",
    "\n",
    "\n",
    "1.   Sort the column to find any values that we may not want\n",
    "2.   Remove those values if there are any\n",
    "3.   Update the Sort column to contain float values using **astype()**\n",
    "\n",
    "\n",
    "\n"
   ]
  },
  {
   "cell_type": "code",
   "execution_count": 4,
   "metadata": {
    "colab": {
     "base_uri": "https://localhost:8080/",
     "height": 406
    },
    "executionInfo": {
     "elapsed": 631,
     "status": "ok",
     "timestamp": 1603769174042,
     "user": {
      "displayName": "Prabin Sapkota",
      "photoUrl": "https://lh6.googleusercontent.com/-doP6HgypWoA/AAAAAAAAAAI/AAAAAAAAADs/IVE1vPXCX6U/s64/photo.jpg",
      "userId": "10525827673897210712"
     },
     "user_tz": 240
    },
    "id": "SbRL6BigMLw2",
    "outputId": "f48cebc3-1f44-4097-b303-2ea910909de1"
   },
   "outputs": [
    {
     "data": {
      "text/html": [
       "<div>\n",
       "<style scoped>\n",
       "    .dataframe tbody tr th:only-of-type {\n",
       "        vertical-align: middle;\n",
       "    }\n",
       "\n",
       "    .dataframe tbody tr th {\n",
       "        vertical-align: top;\n",
       "    }\n",
       "\n",
       "    .dataframe thead th {\n",
       "        text-align: right;\n",
       "    }\n",
       "</style>\n",
       "<table border=\"1\" class=\"dataframe\">\n",
       "  <thead>\n",
       "    <tr style=\"text-align: right;\">\n",
       "      <th></th>\n",
       "      <th>Review #</th>\n",
       "      <th>Brand</th>\n",
       "      <th>Variety</th>\n",
       "      <th>Style</th>\n",
       "      <th>Country</th>\n",
       "      <th>Stars</th>\n",
       "      <th>Top Ten</th>\n",
       "    </tr>\n",
       "  </thead>\n",
       "  <tbody>\n",
       "    <tr>\n",
       "      <th>2287</th>\n",
       "      <td>293</td>\n",
       "      <td>Tiger</td>\n",
       "      <td>Onion Flaver Rice Noodle</td>\n",
       "      <td>Bowl</td>\n",
       "      <td>Taiwan</td>\n",
       "      <td>0.00</td>\n",
       "      <td>NaN</td>\n",
       "    </tr>\n",
       "    <tr>\n",
       "      <th>707</th>\n",
       "      <td>1873</td>\n",
       "      <td>Vedan</td>\n",
       "      <td>Wei Wei A Instant Noodles Chicken Flavor</td>\n",
       "      <td>Bowl</td>\n",
       "      <td>Taiwan</td>\n",
       "      <td>0.00</td>\n",
       "      <td>NaN</td>\n",
       "    </tr>\n",
       "    <tr>\n",
       "      <th>2082</th>\n",
       "      <td>498</td>\n",
       "      <td>Hsin Tung Yang</td>\n",
       "      <td>Tiny Noodle With Oyster Flavor</td>\n",
       "      <td>Pack</td>\n",
       "      <td>Taiwan</td>\n",
       "      <td>0.00</td>\n",
       "      <td>NaN</td>\n",
       "    </tr>\n",
       "    <tr>\n",
       "      <th>2537</th>\n",
       "      <td>43</td>\n",
       "      <td>Kim Ve Wong</td>\n",
       "      <td>Jaopai Series: Vegetarian Instant Noodles</td>\n",
       "      <td>Bowl</td>\n",
       "      <td>Taiwan</td>\n",
       "      <td>0.00</td>\n",
       "      <td>NaN</td>\n",
       "    </tr>\n",
       "    <tr>\n",
       "      <th>2060</th>\n",
       "      <td>520</td>\n",
       "      <td>Nan Hsing</td>\n",
       "      <td>Vegetarian Rice Noodles</td>\n",
       "      <td>Bowl</td>\n",
       "      <td>Taiwan</td>\n",
       "      <td>0.25</td>\n",
       "      <td>NaN</td>\n",
       "    </tr>\n",
       "    <tr>\n",
       "      <th>...</th>\n",
       "      <td>...</td>\n",
       "      <td>...</td>\n",
       "      <td>...</td>\n",
       "      <td>...</td>\n",
       "      <td>...</td>\n",
       "      <td>...</td>\n",
       "      <td>...</td>\n",
       "    </tr>\n",
       "    <tr>\n",
       "      <th>537</th>\n",
       "      <td>2043</td>\n",
       "      <td>ORee Garden</td>\n",
       "      <td>Malaysia Green Curry Noodle</td>\n",
       "      <td>Bowl</td>\n",
       "      <td>Malaysia</td>\n",
       "      <td>5.00</td>\n",
       "      <td>NaN</td>\n",
       "    </tr>\n",
       "    <tr>\n",
       "      <th>262</th>\n",
       "      <td>2318</td>\n",
       "      <td>Happy Cook</td>\n",
       "      <td>Sichuan Spicy Flavor</td>\n",
       "      <td>Pack</td>\n",
       "      <td>Taiwan</td>\n",
       "      <td>5.00</td>\n",
       "      <td>NaN</td>\n",
       "    </tr>\n",
       "    <tr>\n",
       "      <th>603</th>\n",
       "      <td>1977</td>\n",
       "      <td>MyOri</td>\n",
       "      <td>Malaysia Penang Green Curry Vermicelli (New Pa...</td>\n",
       "      <td>Pack</td>\n",
       "      <td>Malaysia</td>\n",
       "      <td>5.00</td>\n",
       "      <td>NaN</td>\n",
       "    </tr>\n",
       "    <tr>\n",
       "      <th>530</th>\n",
       "      <td>2050</td>\n",
       "      <td>MyKuali</td>\n",
       "      <td>Penang Red Tom Yum Goong Noodle Authentic Taste</td>\n",
       "      <td>Cup</td>\n",
       "      <td>Malaysia</td>\n",
       "      <td>5.00</td>\n",
       "      <td>NaN</td>\n",
       "    </tr>\n",
       "    <tr>\n",
       "      <th>591</th>\n",
       "      <td>1989</td>\n",
       "      <td>MyKuali</td>\n",
       "      <td>Penang White curry Noodle Authentic Taste</td>\n",
       "      <td>Pack</td>\n",
       "      <td>Malaysia</td>\n",
       "      <td>5.00</td>\n",
       "      <td>NaN</td>\n",
       "    </tr>\n",
       "  </tbody>\n",
       "</table>\n",
       "<p>379 rows × 7 columns</p>\n",
       "</div>"
      ],
      "text/plain": [
       "      Review #           Brand  \\\n",
       "2287       293           Tiger   \n",
       "707       1873           Vedan   \n",
       "2082       498  Hsin Tung Yang   \n",
       "2537        43     Kim Ve Wong   \n",
       "2060       520       Nan Hsing   \n",
       "...        ...             ...   \n",
       "537       2043     ORee Garden   \n",
       "262       2318      Happy Cook   \n",
       "603       1977           MyOri   \n",
       "530       2050         MyKuali   \n",
       "591       1989         MyKuali   \n",
       "\n",
       "                                                Variety Style   Country  \\\n",
       "2287                           Onion Flaver Rice Noodle  Bowl    Taiwan   \n",
       "707            Wei Wei A Instant Noodles Chicken Flavor  Bowl    Taiwan   \n",
       "2082                     Tiny Noodle With Oyster Flavor  Pack    Taiwan   \n",
       "2537          Jaopai Series: Vegetarian Instant Noodles  Bowl    Taiwan   \n",
       "2060                            Vegetarian Rice Noodles  Bowl    Taiwan   \n",
       "...                                                 ...   ...       ...   \n",
       "537                         Malaysia Green Curry Noodle  Bowl  Malaysia   \n",
       "262                                Sichuan Spicy Flavor  Pack    Taiwan   \n",
       "603   Malaysia Penang Green Curry Vermicelli (New Pa...  Pack  Malaysia   \n",
       "530     Penang Red Tom Yum Goong Noodle Authentic Taste   Cup  Malaysia   \n",
       "591           Penang White curry Noodle Authentic Taste  Pack  Malaysia   \n",
       "\n",
       "      Stars Top Ten  \n",
       "2287   0.00     NaN  \n",
       "707    0.00     NaN  \n",
       "2082   0.00     NaN  \n",
       "2537   0.00     NaN  \n",
       "2060   0.25     NaN  \n",
       "...     ...     ...  \n",
       "537    5.00     NaN  \n",
       "262    5.00     NaN  \n",
       "603    5.00     NaN  \n",
       "530    5.00     NaN  \n",
       "591    5.00     NaN  \n",
       "\n",
       "[379 rows x 7 columns]"
      ]
     },
     "execution_count": 4,
     "metadata": {},
     "output_type": "execute_result"
    }
   ],
   "source": [
    "taiwan_and_malaysia = taiwan_and_malaysia.sort_values(\"Stars\", ascending=True)\n",
    "taiwan_and_malaysia = taiwan_and_malaysia[taiwan_and_malaysia.Stars != \"Unrated\"]\n",
    "taiwan_and_malaysia = taiwan_and_malaysia.astype({'Stars': \"float\"})\n",
    "taiwan_and_malaysia"
   ]
  },
  {
   "cell_type": "markdown",
   "metadata": {
    "id": "fr_mHsCTWVWN"
   },
   "source": [
    "Now that we've cleaned up our data set, we can know visualize the distribution of ramen ratings for Taiwan and Malaysia. The code below creates an overlapped histogram of our data, and we can see that the distrubution of data in Taiwan is slightly left than that of Malaysia. This can suggest that ramen and Taiwan is rated lower than ramen in Malaysia."
   ]
  },
  {
   "cell_type": "code",
   "execution_count": 5,
   "metadata": {
    "colab": {
     "base_uri": "https://localhost:8080/",
     "height": 425
    },
    "executionInfo": {
     "elapsed": 1290,
     "status": "ok",
     "timestamp": 1603769152188,
     "user": {
      "displayName": "Prabin Sapkota",
      "photoUrl": "https://lh6.googleusercontent.com/-doP6HgypWoA/AAAAAAAAAAI/AAAAAAAAADs/IVE1vPXCX6U/s64/photo.jpg",
      "userId": "10525827673897210712"
     },
     "user_tz": 240
    },
    "id": "ZLtTX-KEOeUq",
    "outputId": "94c97a72-084a-407d-a642-ca3e8683d1f9"
   },
   "outputs": [
    {
     "data": {
      "text/plain": [
       "<matplotlib.legend.Legend at 0x7f5376076640>"
      ]
     },
     "execution_count": 5,
     "metadata": {},
     "output_type": "execute_result"
    },
    {
     "data": {
      "image/png": "[encoded data removed]",
      "text/plain": [
       "<Figure size 576x432 with 1 Axes>"
      ]
     },
     "metadata": {
      "needs_background": "light"
     },
     "output_type": "display_data"
    }
   ],
   "source": [
    "taiwan = []\n",
    "malaysia = []\n",
    "for index , row in taiwan_and_malaysia.iterrows():\n",
    "  if row[\"Country\"] == \"Taiwan\":\n",
    "    taiwan.append(row[\"Stars\"])\n",
    "  else:\n",
    "    malaysia.append(row[\"Stars\"])\n",
    "\n",
    "taiwan = np.array(taiwan)\n",
    "malaysia = np.array(malaysia)\n",
    "\n",
    "plt.figure(figsize=(8,6))\n",
    "plt.hist(taiwan,bins=10,alpha=0.5,label=\"Taiwan\")\n",
    "plt.hist(malaysia,bins=10,alpha=0.5,label=\"Malaysia\")\n",
    "plt.xlabel(\"Ratings\",size=\"14\")\n",
    "plt.ylabel(\"Count\",size=\"14\")\n",
    "plt.title(\"Distribution of Ramen Ratings for Malaysia and Taiwan\")\n",
    "plt.legend(loc=\"upper left\")"
   ]
  },
  {
   "cell_type": "markdown",
   "metadata": {
    "id": "Y9qWqk7mYJEe"
   },
   "source": [
    "In order to do our A/B testing, we'll need to create our null and alternative and hypothesis. For all we know, the results shown in our histogram was simply chance, and does not reflect the population of Taiwanese and Malaysian ramen as whole:\n",
    "\n",
    "**Null Hypothesis:** The distribution of ramen ratings is the same for both Taiwan and Malaysia. The difference in the data given to us is simply chance\n",
    "\n",
    "**Alternative Hypothesis:** In population, ramen in Malaysia is rated higher than ramen Taiwan\n",
    "\n",
    "Now, we can start our testing by only using the Country and Stars column, since that's all we'll be working with"
   ]
  },
  {
   "cell_type": "markdown",
   "metadata": {
    "id": "nwrUyQm_PxRQ"
   },
   "source": [
    "**Question 3:** Create a new dataframe that consists of only the Country and Stars column"
   ]
  },
  {
   "cell_type": "code",
   "execution_count": 6,
   "metadata": {
    "colab": {
     "base_uri": "https://localhost:8080/",
     "height": 406
    },
    "executionInfo": {
     "elapsed": 1281,
     "status": "ok",
     "timestamp": 1603769152189,
     "user": {
      "displayName": "Prabin Sapkota",
      "photoUrl": "https://lh6.googleusercontent.com/-doP6HgypWoA/AAAAAAAAAAI/AAAAAAAAADs/IVE1vPXCX6U/s64/photo.jpg",
      "userId": "10525827673897210712"
     },
     "user_tz": 240
    },
    "id": "-NuMSXh5ieeK",
    "outputId": "d72254bb-bb89-46f7-c1a9-40e3c9a425f6"
   },
   "outputs": [
    {
     "data": {
      "text/html": [
       "<div>\n",
       "<style scoped>\n",
       "    .dataframe tbody tr th:only-of-type {\n",
       "        vertical-align: middle;\n",
       "    }\n",
       "\n",
       "    .dataframe tbody tr th {\n",
       "        vertical-align: top;\n",
       "    }\n",
       "\n",
       "    .dataframe thead th {\n",
       "        text-align: right;\n",
       "    }\n",
       "</style>\n",
       "<table border=\"1\" class=\"dataframe\">\n",
       "  <thead>\n",
       "    <tr style=\"text-align: right;\">\n",
       "      <th></th>\n",
       "      <th>Country</th>\n",
       "      <th>Stars</th>\n",
       "    </tr>\n",
       "  </thead>\n",
       "  <tbody>\n",
       "    <tr>\n",
       "      <th>2287</th>\n",
       "      <td>Taiwan</td>\n",
       "      <td>0.00</td>\n",
       "    </tr>\n",
       "    <tr>\n",
       "      <th>707</th>\n",
       "      <td>Taiwan</td>\n",
       "      <td>0.00</td>\n",
       "    </tr>\n",
       "    <tr>\n",
       "      <th>2082</th>\n",
       "      <td>Taiwan</td>\n",
       "      <td>0.00</td>\n",
       "    </tr>\n",
       "    <tr>\n",
       "      <th>2537</th>\n",
       "      <td>Taiwan</td>\n",
       "      <td>0.00</td>\n",
       "    </tr>\n",
       "    <tr>\n",
       "      <th>2060</th>\n",
       "      <td>Taiwan</td>\n",
       "      <td>0.25</td>\n",
       "    </tr>\n",
       "    <tr>\n",
       "      <th>...</th>\n",
       "      <td>...</td>\n",
       "      <td>...</td>\n",
       "    </tr>\n",
       "    <tr>\n",
       "      <th>537</th>\n",
       "      <td>Malaysia</td>\n",
       "      <td>5.00</td>\n",
       "    </tr>\n",
       "    <tr>\n",
       "      <th>262</th>\n",
       "      <td>Taiwan</td>\n",
       "      <td>5.00</td>\n",
       "    </tr>\n",
       "    <tr>\n",
       "      <th>603</th>\n",
       "      <td>Malaysia</td>\n",
       "      <td>5.00</td>\n",
       "    </tr>\n",
       "    <tr>\n",
       "      <th>530</th>\n",
       "      <td>Malaysia</td>\n",
       "      <td>5.00</td>\n",
       "    </tr>\n",
       "    <tr>\n",
       "      <th>591</th>\n",
       "      <td>Malaysia</td>\n",
       "      <td>5.00</td>\n",
       "    </tr>\n",
       "  </tbody>\n",
       "</table>\n",
       "<p>379 rows × 2 columns</p>\n",
       "</div>"
      ],
      "text/plain": [
       "       Country  Stars\n",
       "2287    Taiwan   0.00\n",
       "707     Taiwan   0.00\n",
       "2082    Taiwan   0.00\n",
       "2537    Taiwan   0.00\n",
       "2060    Taiwan   0.25\n",
       "...        ...    ...\n",
       "537   Malaysia   5.00\n",
       "262     Taiwan   5.00\n",
       "603   Malaysia   5.00\n",
       "530   Malaysia   5.00\n",
       "591   Malaysia   5.00\n",
       "\n",
       "[379 rows x 2 columns]"
      ]
     },
     "execution_count": 6,
     "metadata": {},
     "output_type": "execute_result"
    }
   ],
   "source": [
    "country_and_stars = taiwan_and_malaysia[[\"Country\", \"Stars\"]]\n",
    "country_and_stars"
   ]
  },
  {
   "cell_type": "markdown",
   "metadata": {
    "id": "D7xQjHl7K6Hx"
   },
   "source": [
    "**Question 4:** Complete the function difference_of_rating_average which takes in a dataframe and an optional column name and returns the difference in stars average for Malaysia and Taiwan. Get the difference in average for the dataframe you made in question 3\n",
    "\n",
    "**Note:** the parameter, `column_name=\"Country\"` means that if no column name gets passed in when the function is called, it'll use the Country column by default"
   ]
  },
  {
   "cell_type": "code",
   "execution_count": 7,
   "metadata": {
    "colab": {
     "base_uri": "https://localhost:8080/",
     "height": 34
    },
    "executionInfo": {
     "elapsed": 636,
     "status": "ok",
     "timestamp": 1603778223693,
     "user": {
      "displayName": "Prabin Sapkota",
      "photoUrl": "https://lh6.googleusercontent.com/-doP6HgypWoA/AAAAAAAAAAI/AAAAAAAAADs/IVE1vPXCX6U/s64/photo.jpg",
      "userId": "10525827673897210712"
     },
     "user_tz": 240
    },
    "id": "ys-oLksMqqgp",
    "outputId": "d30f7cca-cdde-4ea6-a2a4-4a12a7a620fa"
   },
   "outputs": [
    {
     "data": {
      "text/plain": [
       "0.48879176267281155"
      ]
     },
     "execution_count": 7,
     "metadata": {},
     "output_type": "execute_result"
    }
   ],
   "source": [
    "def difference_of_rating_average(dataframe, column_name=\"Country\"):\n",
    "    taiwan = []\n",
    "    malaysia = []\n",
    "    for index , row in dataframe.iterrows():\n",
    "      if row[column_name] == \"Malaysia\":\n",
    "        malaysia.append(row[\"Stars\"])\n",
    "      elif row[column_name] == \"Taiwan\":\n",
    "        taiwan.append(row[\"Stars\"])\n",
    "    taiwan_average = sum(taiwan)/len(taiwan)\n",
    "    malaysia_average = sum(malaysia)/len(malaysia)\n",
    "    return malaysia_average - taiwan_average\n",
    "\n",
    "difference_of_rating_average(country_and_stars)"
   ]
  },
  {
   "cell_type": "markdown",
   "metadata": {
    "id": "J2gHhyUkY_CU"
   },
   "source": [
    "The function written in Question 4 will help us in creating our simulation. The code below creates one simulation by taking in the entire dataframe of taiwan and malaysia made in Question 1, and making a new data frame from just the Country and Stars columns. From there, it creates a copy of that modified dataframe and adds anouther column, Shuffle which consists of the Country column being put in a random order, and calls `difference_of_rating_average` with the column name being the Shuffle column. \n",
    "\n",
    "**You can call the function using the dataframe you made in Question 1**"
   ]
  },
  {
   "cell_type": "code",
   "execution_count": 8,
   "metadata": {
    "colab": {
     "base_uri": "https://localhost:8080/",
     "height": 34
    },
    "executionInfo": {
     "elapsed": 642,
     "status": "ok",
     "timestamp": 1603778230074,
     "user": {
      "displayName": "Prabin Sapkota",
      "photoUrl": "https://lh6.googleusercontent.com/-doP6HgypWoA/AAAAAAAAAAI/AAAAAAAAADs/IVE1vPXCX6U/s64/photo.jpg",
      "userId": "10525827673897210712"
     },
     "user_tz": 240
    },
    "id": "Tes6et52tIcx",
    "outputId": "08baa4f4-f302-4f6f-95df-c1942028611b"
   },
   "outputs": [
    {
     "data": {
      "text/plain": [
       "-0.03790034562211986"
      ]
     },
     "execution_count": 8,
     "metadata": {},
     "output_type": "execute_result"
    }
   ],
   "source": [
    "def one_simulated_difference(table):\n",
    "    table1 = pd.concat([table[\"Country\"],table[\"Stars\"]],axis=1,keys=['Country','Stars'])\n",
    "    shuffled_labels = table1[\"Country\"].sample(frac=1).values\n",
    "\n",
    "    shuffled_table = table1\n",
    "    shuffled_table[\"Shuffle\"] = shuffled_labels\n",
    "    return difference_of_rating_average(table1,\"Shuffle\")\n",
    "\n",
    "one_simulated_difference(country_and_stars)"
   ]
  },
  {
   "cell_type": "markdown",
   "metadata": {
    "id": "0wQb4W23Lxso"
   },
   "source": [
    "**Question 5**: Simulate running our single simulation function 100 times, store the results in an array, and plot the results using a histogram"
   ]
  },
  {
   "cell_type": "code",
   "execution_count": 9,
   "metadata": {
    "colab": {
     "base_uri": "https://localhost:8080/",
     "height": 422
    },
    "executionInfo": {
     "elapsed": 4233,
     "status": "ok",
     "timestamp": 1603778239064,
     "user": {
      "displayName": "Prabin Sapkota",
      "photoUrl": "https://lh6.googleusercontent.com/-doP6HgypWoA/AAAAAAAAAAI/AAAAAAAAADs/IVE1vPXCX6U/s64/photo.jpg",
      "userId": "10525827673897210712"
     },
     "user_tz": 240
    },
    "id": "uTb8mXfZLP23",
    "outputId": "646a2f5d-77a7-4e6a-f39a-e54226b36fda"
   },
   "outputs": [
    {
     "data": {
      "text/plain": [
       "Text(0.5, 1.0, 'Distribution of simulation')"
      ]
     },
     "execution_count": 9,
     "metadata": {},
     "output_type": "execute_result"
    },
    {
     "data": {
      "image/png": "[encoded data removed]",
      "text/plain": [
       "<Figure size 576x432 with 1 Axes>"
      ]
     },
     "metadata": {
      "needs_background": "light"
     },
     "output_type": "display_data"
    }
   ],
   "source": [
    "simulation_result = []\n",
    "for i in range(100):\n",
    "  one_simulation = one_simulated_difference(country_and_stars)\n",
    "  simulation_result.append(one_simulation)\n",
    "\n",
    "# Plot histogram\n",
    "plt.figure(figsize=(8,6))\n",
    "plt.hist(simulation_result, edgecolor=\"black\")\n",
    "plt.xlabel(\"Difference\")\n",
    "plt.ylabel(\"Frequency\")\n",
    "plt.title(\"Distribution of simulation\")\n"
   ]
  },
  {
   "cell_type": "markdown",
   "metadata": {
    "id": "6GFvgpVxNtvX"
   },
   "source": [
    "**Question 6**: Based on the the histogram you made, which hypothesis does the data favor."
   ]
  },
  {
   "cell_type": "markdown",
   "metadata": {
    "id": "XVX5ZHiBbw_C"
   },
   "source": [
    "The observed difference in the original sample was 0.49 which is not even present in the horizontal scale of the histogram. This observed value of statistic and the predicted behavior of the statistic under null hypothesis are inconsistent. Thus, the data favors the alternative over null hypothesis. "
   ]
  },
  {
   "cell_type": "markdown",
   "metadata": {
    "id": "FNLC4SilfZaj"
   },
   "source": [
    "## 2. Pokemon Strength"
   ]
  },
  {
   "cell_type": "markdown",
   "metadata": {
    "id": "h0mN9OX1s4-B"
   },
   "source": [
    "Pokemon has been one of the most popular trading card games since it's release in the 1990s. For this section, we'll take a look at pokemon data to see if having a secondary type causes Pokemon to have higher total stats\n"
   ]
  },
  {
   "cell_type": "code",
   "execution_count": 10,
   "metadata": {
    "colab": {
     "base_uri": "https://localhost:8080/",
     "height": 197
    },
    "executionInfo": {
     "elapsed": 511,
     "status": "ok",
     "timestamp": 1603775514693,
     "user": {
      "displayName": "Prabin Sapkota",
      "photoUrl": "https://lh6.googleusercontent.com/-doP6HgypWoA/AAAAAAAAAAI/AAAAAAAAADs/IVE1vPXCX6U/s64/photo.jpg",
      "userId": "10525827673897210712"
     },
     "user_tz": 240
    },
    "id": "FdP_lFnBfqJB",
    "outputId": "babd9f31-e829-42c0-fa89-3c2346fb796e"
   },
   "outputs": [
    {
     "data": {
      "text/html": [
       "<div>\n",
       "<style scoped>\n",
       "    .dataframe tbody tr th:only-of-type {\n",
       "        vertical-align: middle;\n",
       "    }\n",
       "\n",
       "    .dataframe tbody tr th {\n",
       "        vertical-align: top;\n",
       "    }\n",
       "\n",
       "    .dataframe thead th {\n",
       "        text-align: right;\n",
       "    }\n",
       "</style>\n",
       "<table border=\"1\" class=\"dataframe\">\n",
       "  <thead>\n",
       "    <tr style=\"text-align: right;\">\n",
       "      <th></th>\n",
       "      <th>#</th>\n",
       "      <th>Name</th>\n",
       "      <th>Type 1</th>\n",
       "      <th>Type 2</th>\n",
       "      <th>Total</th>\n",
       "      <th>HP</th>\n",
       "      <th>Attack</th>\n",
       "      <th>Defense</th>\n",
       "      <th>Sp. Atk</th>\n",
       "      <th>Sp. Def</th>\n",
       "      <th>Speed</th>\n",
       "      <th>Generation</th>\n",
       "      <th>Legendary</th>\n",
       "    </tr>\n",
       "  </thead>\n",
       "  <tbody>\n",
       "    <tr>\n",
       "      <th>0</th>\n",
       "      <td>1</td>\n",
       "      <td>Bulbasaur</td>\n",
       "      <td>Grass</td>\n",
       "      <td>Poison</td>\n",
       "      <td>318</td>\n",
       "      <td>45</td>\n",
       "      <td>49</td>\n",
       "      <td>49</td>\n",
       "      <td>65</td>\n",
       "      <td>65</td>\n",
       "      <td>45</td>\n",
       "      <td>1</td>\n",
       "      <td>False</td>\n",
       "    </tr>\n",
       "    <tr>\n",
       "      <th>1</th>\n",
       "      <td>2</td>\n",
       "      <td>Ivysaur</td>\n",
       "      <td>Grass</td>\n",
       "      <td>Poison</td>\n",
       "      <td>405</td>\n",
       "      <td>60</td>\n",
       "      <td>62</td>\n",
       "      <td>63</td>\n",
       "      <td>80</td>\n",
       "      <td>80</td>\n",
       "      <td>60</td>\n",
       "      <td>1</td>\n",
       "      <td>False</td>\n",
       "    </tr>\n",
       "    <tr>\n",
       "      <th>2</th>\n",
       "      <td>3</td>\n",
       "      <td>Venusaur</td>\n",
       "      <td>Grass</td>\n",
       "      <td>Poison</td>\n",
       "      <td>525</td>\n",
       "      <td>80</td>\n",
       "      <td>82</td>\n",
       "      <td>83</td>\n",
       "      <td>100</td>\n",
       "      <td>100</td>\n",
       "      <td>80</td>\n",
       "      <td>1</td>\n",
       "      <td>False</td>\n",
       "    </tr>\n",
       "    <tr>\n",
       "      <th>3</th>\n",
       "      <td>3</td>\n",
       "      <td>VenusaurMega Venusaur</td>\n",
       "      <td>Grass</td>\n",
       "      <td>Poison</td>\n",
       "      <td>625</td>\n",
       "      <td>80</td>\n",
       "      <td>100</td>\n",
       "      <td>123</td>\n",
       "      <td>122</td>\n",
       "      <td>120</td>\n",
       "      <td>80</td>\n",
       "      <td>1</td>\n",
       "      <td>False</td>\n",
       "    </tr>\n",
       "    <tr>\n",
       "      <th>4</th>\n",
       "      <td>4</td>\n",
       "      <td>Charmander</td>\n",
       "      <td>Fire</td>\n",
       "      <td>NaN</td>\n",
       "      <td>309</td>\n",
       "      <td>39</td>\n",
       "      <td>52</td>\n",
       "      <td>43</td>\n",
       "      <td>60</td>\n",
       "      <td>50</td>\n",
       "      <td>65</td>\n",
       "      <td>1</td>\n",
       "      <td>False</td>\n",
       "    </tr>\n",
       "  </tbody>\n",
       "</table>\n",
       "</div>"
      ],
      "text/plain": [
       "   #                   Name Type 1  Type 2  Total  HP  Attack  Defense  \\\n",
       "0  1              Bulbasaur  Grass  Poison    318  45      49       49   \n",
       "1  2                Ivysaur  Grass  Poison    405  60      62       63   \n",
       "2  3               Venusaur  Grass  Poison    525  80      82       83   \n",
       "3  3  VenusaurMega Venusaur  Grass  Poison    625  80     100      123   \n",
       "4  4             Charmander   Fire     NaN    309  39      52       43   \n",
       "\n",
       "   Sp. Atk  Sp. Def  Speed  Generation  Legendary  \n",
       "0       65       65     45           1      False  \n",
       "1       80       80     60           1      False  \n",
       "2      100      100     80           1      False  \n",
       "3      122      120     80           1      False  \n",
       "4       60       50     65           1      False  "
      ]
     },
     "execution_count": 10,
     "metadata": {},
     "output_type": "execute_result"
    }
   ],
   "source": [
    "pokemon_df = pd.read_csv('Pokemon.csv')\n",
    "pokemon_df.head()"
   ]
  },
  {
   "cell_type": "markdown",
   "metadata": {
    "id": "QJBoZznTvJyZ"
   },
   "source": [
    "**Question 1:** Create a new dataframe called `secondary_types` which consists of the the Type 2 and Total columns in pokemon_df, and update the Type 2 column such that rows with NaN will be set to 0 and rows without NaN will be set to 1. This will help us be able to see which pokemon have secondary types or not"
   ]
  },
  {
   "cell_type": "code",
   "execution_count": 11,
   "metadata": {
    "colab": {
     "base_uri": "https://localhost:8080/",
     "height": 513
    },
    "executionInfo": {
     "elapsed": 1054,
     "status": "ok",
     "timestamp": 1603779375249,
     "user": {
      "displayName": "Prabin Sapkota",
      "photoUrl": "https://lh6.googleusercontent.com/-doP6HgypWoA/AAAAAAAAAAI/AAAAAAAAADs/IVE1vPXCX6U/s64/photo.jpg",
      "userId": "10525827673897210712"
     },
     "user_tz": 240
    },
    "id": "vAbO_O8mgSL_",
    "outputId": "af53f4c4-b56d-4eb1-db9c-04600ecface2"
   },
   "outputs": [
    {
     "name": "stderr",
     "output_type": "stream",
     "text": [
      "/opt/conda/lib/python3.8/site-packages/pandas/core/indexing.py:1765: SettingWithCopyWarning: \n",
      "A value is trying to be set on a copy of a slice from a DataFrame.\n",
      "Try using .loc[row_indexer,col_indexer] = value instead\n",
      "\n",
      "See the caveats in the documentation: https://pandas.pydata.org/pandas-docs/stable/user_guide/indexing.html#returning-a-view-versus-a-copy\n",
      "  isetter(loc, value)\n"
     ]
    },
    {
     "data": {
      "text/html": [
       "<div>\n",
       "<style scoped>\n",
       "    .dataframe tbody tr th:only-of-type {\n",
       "        vertical-align: middle;\n",
       "    }\n",
       "\n",
       "    .dataframe tbody tr th {\n",
       "        vertical-align: top;\n",
       "    }\n",
       "\n",
       "    .dataframe thead th {\n",
       "        text-align: right;\n",
       "    }\n",
       "</style>\n",
       "<table border=\"1\" class=\"dataframe\">\n",
       "  <thead>\n",
       "    <tr style=\"text-align: right;\">\n",
       "      <th></th>\n",
       "      <th>Type 2</th>\n",
       "      <th>Total</th>\n",
       "    </tr>\n",
       "  </thead>\n",
       "  <tbody>\n",
       "    <tr>\n",
       "      <th>0</th>\n",
       "      <td>1</td>\n",
       "      <td>318</td>\n",
       "    </tr>\n",
       "    <tr>\n",
       "      <th>1</th>\n",
       "      <td>1</td>\n",
       "      <td>405</td>\n",
       "    </tr>\n",
       "    <tr>\n",
       "      <th>2</th>\n",
       "      <td>1</td>\n",
       "      <td>525</td>\n",
       "    </tr>\n",
       "    <tr>\n",
       "      <th>3</th>\n",
       "      <td>1</td>\n",
       "      <td>625</td>\n",
       "    </tr>\n",
       "    <tr>\n",
       "      <th>4</th>\n",
       "      <td>0</td>\n",
       "      <td>309</td>\n",
       "    </tr>\n",
       "    <tr>\n",
       "      <th>...</th>\n",
       "      <td>...</td>\n",
       "      <td>...</td>\n",
       "    </tr>\n",
       "    <tr>\n",
       "      <th>795</th>\n",
       "      <td>1</td>\n",
       "      <td>600</td>\n",
       "    </tr>\n",
       "    <tr>\n",
       "      <th>796</th>\n",
       "      <td>1</td>\n",
       "      <td>700</td>\n",
       "    </tr>\n",
       "    <tr>\n",
       "      <th>797</th>\n",
       "      <td>1</td>\n",
       "      <td>600</td>\n",
       "    </tr>\n",
       "    <tr>\n",
       "      <th>798</th>\n",
       "      <td>1</td>\n",
       "      <td>680</td>\n",
       "    </tr>\n",
       "    <tr>\n",
       "      <th>799</th>\n",
       "      <td>1</td>\n",
       "      <td>600</td>\n",
       "    </tr>\n",
       "  </tbody>\n",
       "</table>\n",
       "<p>800 rows × 2 columns</p>\n",
       "</div>"
      ],
      "text/plain": [
       "    Type 2  Total\n",
       "0        1    318\n",
       "1        1    405\n",
       "2        1    525\n",
       "3        1    625\n",
       "4        0    309\n",
       "..     ...    ...\n",
       "795      1    600\n",
       "796      1    700\n",
       "797      1    600\n",
       "798      1    680\n",
       "799      1    600\n",
       "\n",
       "[800 rows x 2 columns]"
      ]
     },
     "execution_count": 11,
     "metadata": {},
     "output_type": "execute_result"
    }
   ],
   "source": [
    "secondary_types = pokemon_df[[\"Type 2\", \"Total\"]]\n",
    "secondary_types.loc[pd.notnull(secondary_types[\"Type 2\"]), 'Type 2'] = 1\n",
    "secondary_types.loc[pd.isnull(secondary_types[\"Type 2\"]), 'Type 2'] = 0\n",
    "secondary_types"
   ]
  },
  {
   "cell_type": "code",
   "execution_count": 12,
   "metadata": {
    "colab": {
     "base_uri": "https://localhost:8080/",
     "height": 425
    },
    "executionInfo": {
     "elapsed": 884,
     "status": "ok",
     "timestamp": 1603778018499,
     "user": {
      "displayName": "Prabin Sapkota",
      "photoUrl": "https://lh6.googleusercontent.com/-doP6HgypWoA/AAAAAAAAAAI/AAAAAAAAADs/IVE1vPXCX6U/s64/photo.jpg",
      "userId": "10525827673897210712"
     },
     "user_tz": 240
    },
    "id": "ztvz3Yw-hw2J",
    "outputId": "693cf299-53df-476a-835d-ab01157e2e76"
   },
   "outputs": [
    {
     "data": {
      "text/plain": [
       "<matplotlib.legend.Legend at 0x7f53760683d0>"
      ]
     },
     "execution_count": 12,
     "metadata": {},
     "output_type": "execute_result"
    },
    {
     "data": {
      "image/png": "[encoded data removed]",
      "text/plain": [
       "<Figure size 576x432 with 1 Axes>"
      ]
     },
     "metadata": {
      "needs_background": "light"
     },
     "output_type": "display_data"
    }
   ],
   "source": [
    "has_secondary = []\n",
    "non_secondary = []\n",
    "\n",
    "for index , row in secondary_types.iterrows():\n",
    "    if row[\"Type 2\"] == 0:\n",
    "      non_secondary.append(row[\"Total\"])\n",
    "    else:\n",
    "      has_secondary.append(row[\"Total\"])\n",
    "\n",
    "has_secondary = np.array(has_secondary)\n",
    "non_secondary = np.array(non_secondary)\n",
    "\n",
    "plt.figure(figsize=(8,6))\n",
    "plt.hist(has_secondary,bins=10,alpha=0.5,label=\"Secondary Type\")\n",
    "plt.hist(non_secondary,bins=10,alpha=0.5,label=\"Non Secodary Type\")\n",
    "plt.xlabel(\"Total Stats\",size=\"14\")\n",
    "plt.ylabel(\"Count\",size=\"14\")\n",
    "plt.title(\"Distribution of Secondary and Non-Secondary Typed Pokemon\")\n",
    "plt.legend(loc=\"upper left\")"
   ]
  },
  {
   "cell_type": "markdown",
   "metadata": {
    "id": "wyTl3_BPwIsv"
   },
   "source": [
    "We can see from this data that the non-secondary types are slightly left, which can indicate that not having a secondary type makes pokemon have less stats. But we can't jump to this conclusion without forming our hypotheses and creating a simulation\n",
    "\n",
    "**Question:** What are our null and alternative hypotheses?"
   ]
  },
  {
   "cell_type": "markdown",
   "metadata": {
    "id": "2anzs8zI0At-"
   },
   "source": [
    "Null Hypothesis: The distribution of Total Stats is same for both secondary and non-secondary types. The difference in data seen is simply because of chance.\n",
    "\n",
    "Alternative Hypothesis: Having a secondary type makes pokeman have more stats. "
   ]
  },
  {
   "cell_type": "markdown",
   "metadata": {
    "id": "7wxIBAfvvuLA"
   },
   "source": [
    "**Question 2:** Use the `secondary_types` dataframe you made to get the difference in mean total stats for Pokemon with and without a secondary type"
   ]
  },
  {
   "cell_type": "code",
   "execution_count": 13,
   "metadata": {
    "colab": {
     "base_uri": "https://localhost:8080/",
     "height": 34
    },
    "executionInfo": {
     "elapsed": 537,
     "status": "ok",
     "timestamp": 1603779480714,
     "user": {
      "displayName": "Prabin Sapkota",
      "photoUrl": "https://lh6.googleusercontent.com/-doP6HgypWoA/AAAAAAAAAAI/AAAAAAAAADs/IVE1vPXCX6U/s64/photo.jpg",
      "userId": "10525827673897210712"
     },
     "user_tz": 240
    },
    "id": "D9KEdg5glda5",
    "outputId": "3ff9486a-bf16-440f-a52f-c2b03dd8fc83"
   },
   "outputs": [
    {
     "data": {
      "text/plain": [
       "44.612475282220714"
      ]
     },
     "execution_count": 13,
     "metadata": {},
     "output_type": "execute_result"
    }
   ],
   "source": [
    "def difference_of_stats_average(dataframe, column_name=\"Type 2\"):\n",
    "    secondary = []\n",
    "    no_secondary = []\n",
    "    for index , row in dataframe.iterrows():\n",
    "      if row[column_name] == 0:\n",
    "        no_secondary.append(row[\"Total\"])\n",
    "      elif row[column_name] == 1:\n",
    "        secondary.append(row[\"Total\"])\n",
    "    secondary_mean = sum(secondary)/len(secondary)\n",
    "    no_secondary_mean = sum(no_secondary)/len(no_secondary)\n",
    "    return secondary_mean - no_secondary_mean\n",
    "\n",
    "difference_of_stats_average(secondary_types)"
   ]
  },
  {
   "cell_type": "markdown",
   "metadata": {
    "id": "vSGRhgLdwHG-"
   },
   "source": [
    "**Question 3:** Complete the function `simulated_difference_poke` which takes in no parameters. It should:\n",
    "\n",
    "\n",
    "1.   Create a copy of table1 with an extra column that holds the values in Type 2 shuffled in random order\n",
    "2.   returns the difference in mean total stats for pokemon with an without a secondary type\n",
    "\n"
   ]
  },
  {
   "cell_type": "code",
   "execution_count": 14,
   "metadata": {
    "executionInfo": {
     "elapsed": 877,
     "status": "ok",
     "timestamp": 1603779753076,
     "user": {
      "displayName": "Prabin Sapkota",
      "photoUrl": "https://lh6.googleusercontent.com/-doP6HgypWoA/AAAAAAAAAAI/AAAAAAAAADs/IVE1vPXCX6U/s64/photo.jpg",
      "userId": "10525827673897210712"
     },
     "user_tz": 240
    },
    "id": "pku0GTy0l7Js"
   },
   "outputs": [],
   "source": [
    "def simulated_difference_poke():\n",
    "    table1 = pd.concat([pokemon_df[\"Type 2\"],pokemon_df['Total']], axis = 1, keys = [\"Type 2\",\"Total\"])\n",
    "    table1[\"Type 2\"] = (table1['Type 2'].notnull()).astype('int')\n",
    "\n",
    "    shuffled_labels = table1[\"Type 2\"].sample(frac=1).values\n",
    "    \n",
    "    shuffled_table = table1\n",
    "    shuffled_table[\"Shuffle\"] = shuffled_labels\n",
    "    return difference_of_stats_average(table1,\"Shuffle\")"
   ]
  },
  {
   "cell_type": "code",
   "execution_count": 15,
   "metadata": {
    "colab": {
     "base_uri": "https://localhost:8080/",
     "height": 34
    },
    "executionInfo": {
     "elapsed": 734,
     "status": "ok",
     "timestamp": 1603779755869,
     "user": {
      "displayName": "Prabin Sapkota",
      "photoUrl": "https://lh6.googleusercontent.com/-doP6HgypWoA/AAAAAAAAAAI/AAAAAAAAADs/IVE1vPXCX6U/s64/photo.jpg",
      "userId": "10525827673897210712"
     },
     "user_tz": 240
    },
    "id": "cQ4-zxaXm7dN",
    "outputId": "6b34617f-af8f-4a3d-dcd8-610fbc4b2d1d"
   },
   "outputs": [
    {
     "data": {
      "text/plain": [
       "3.3869740432029403"
      ]
     },
     "execution_count": 15,
     "metadata": {},
     "output_type": "execute_result"
    }
   ],
   "source": [
    "simulated_difference_poke()"
   ]
  },
  {
   "cell_type": "markdown",
   "metadata": {
    "id": "mOhQswBWxX-J"
   },
   "source": [
    "**Question 4:** Run your `simulated_difference_poke` code 1000 times and display the results using a histogram. If your code times out with 1000, feel free to use a smaller number like 500. You'll get a similar result either way."
   ]
  },
  {
   "cell_type": "code",
   "execution_count": null,
   "metadata": {
    "colab": {
     "base_uri": "https://localhost:8080/",
     "height": 422
    },
    "executionInfo": {
     "elapsed": 65443,
     "status": "ok",
     "timestamp": 1603779998076,
     "user": {
      "displayName": "Prabin Sapkota",
      "photoUrl": "https://lh6.googleusercontent.com/-doP6HgypWoA/AAAAAAAAAAI/AAAAAAAAADs/IVE1vPXCX6U/s64/photo.jpg",
      "userId": "10525827673897210712"
     },
     "user_tz": 240
    },
    "id": "0wqNw8LVnjJX",
    "outputId": "5eda3d91-0c0e-4856-f237-f3c48b365212"
   },
   "outputs": [],
   "source": [
    "simulation_results = []\n",
    "for i in range(1000):\n",
    "  one_simulation = simulated_difference_poke()\n",
    "  simulation_results.append(one_simulation)\n",
    "\n",
    "# Plot histogram\n",
    "plt.figure(figsize=(8,6))\n",
    "plt.hist(simulation_results, edgecolor=\"black\")\n",
    "plt.xlabel(\"Difference\")\n",
    "plt.ylabel(\"Frequency\")\n",
    "plt.title(\"Distribution of simulation\")"
   ]
  },
  {
   "cell_type": "markdown",
   "metadata": {
    "id": "_a05LpIlxxzv"
   },
   "source": [
    "**Question 5:** What can you conclude about this data? Is it safe to say that having a secondary type causes pokemon to have higher total stats? Why or why not? If we calculate our P value, what does the result say about our data?"
   ]
  },
  {
   "cell_type": "markdown",
   "metadata": {
    "id": "hJA8cUe60Ei0"
   },
   "source": [
    "The observed difference in the original sample was 44.6 which is not even present in the horizontal scale of the histogram. This observed value of statistic and the predicted behavior of the statistic under null hypothesis are inconsistent. Thus, the data favors the alternative over null hypothesis. "
   ]
  }
 ],
 "metadata": {
  "colab": {
   "collapsed_sections": [],
   "name": "A_B_Testing.ipynb",
   "provenance": []
  },
  "kernelspec": {
   "display_name": "Python 3",
   "language": "python",
   "name": "python3"
  },
  "language_info": {
   "codemirror_mode": {
    "name": "ipython",
    "version": 3
   },
   "file_extension": ".py",
   "mimetype": "text/x-python",
   "name": "python",
   "nbconvert_exporter": "python",
   "pygments_lexer": "ipython3",
   "version": "3.8.6"
  }
 },
 "nbformat": 4,
 "nbformat_minor": 1
}
