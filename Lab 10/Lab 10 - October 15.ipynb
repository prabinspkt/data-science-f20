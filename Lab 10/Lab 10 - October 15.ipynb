{
 "cells": [
  {
   "cell_type": "markdown",
   "metadata": {
    "id": "Y2rE_YueUwZB"
   },
   "source": [
    "# Lab 10: Testing Hypotheses\n",
    "\n",
    "Welcome to Lab 10 !\n",
    "\n",
    "After such an extensive introduction to programming for data science, we are finally moving into the section of the course where we can apply our new skils to answer real questions.  \n",
    "\n",
    "In this lab, we'll take a look again at probabilities with decks of cards followed by using testing techniques in the Chapter 11 to test the idea of the therapeutic touch, the idea that some practitioner can feel and massage your human energy field. \n",
    "\n",
    "Outline:\n",
    "\n",
    "     1: Assesing Jades Models\n",
    "    \n",
    "     2: Examining the Therapeutic Touch  \n",
    "    \n",
    "Run the cells below to get started."
   ]
  },
  {
   "cell_type": "code",
   "execution_count": 1,
   "metadata": {
    "executionInfo": {
     "elapsed": 225,
     "status": "ok",
     "timestamp": 1605392253343,
     "user": {
      "displayName": "Prabin Sapkota",
      "photoUrl": "https://lh6.googleusercontent.com/-doP6HgypWoA/AAAAAAAAAAI/AAAAAAAAADs/IVE1vPXCX6U/s64/photo.jpg",
      "userId": "10525827673897210712"
     },
     "user_tz": 300
    },
    "id": "gj34SbY4UwZC"
   },
   "outputs": [],
   "source": [
    "from datascience import *\n",
    "import pandas as pd\n",
    "import numpy as np \n",
    "import matplotlib\n",
    "%matplotlib inline\n",
    "import matplotlib.pyplot as plt\n",
    "plt.style.use('fivethirtyeight')"
   ]
  },
  {
   "cell_type": "markdown",
   "metadata": {
    "id": "9AbPeoPWUwZG"
   },
   "source": [
    "## 1. Assessing Jade's Models\n",
    "#### Games with Jade\n",
    "\n",
    "Our friend Jade comes over and asks us to play a game with her. The game works like this: \n",
    "\n",
    "> We will draw randomly with replacement from a simplified 13 card deck with 4 face cards (A, J, Q, K), and 9 numbered cards (2, 3, 4, 5, 6, 7, 8, 9, 10). If we draw cards with replacement 13 times, and if the number of face cards is greater than or equal to 4, we lose.\n",
    "> \n",
    "> Otherwise, Jade wins.\n",
    "\n",
    "We play the game once and we lose, observing 8 total face cards. We are angry and accuse Jade of cheating! Jade is adamant, however, that the deck is fair.\n",
    "\n",
    "Jade's model claims that there is an equal chance of getting any of the cards (A, 2, 3, 4, 5, 6, 7, 8, 9, 10, J, Q, K), but we do not believe her. We believe that the deck is clearly rigged, with face cards (A, J, Q, K) being more likely than the numbered cards (2, 3, 4, 5, 6, 7, 8, 9, 10)."
   ]
  },
  {
   "cell_type": "markdown",
   "metadata": {
    "id": "Cd3Wiy1ZUwZG"
   },
   "source": [
    "**Question 1:** Assign `deck_model_probabilities` to a two-item array containing the chance of drawing a face card as the first element, and the chance of drawing a numbered card as the second element under Jade's model. Since we're working with probabilities, make sure your values are between 0 and 1. "
   ]
  },
  {
   "cell_type": "code",
   "execution_count": 2,
   "metadata": {
    "executionInfo": {
     "elapsed": 357,
     "status": "ok",
     "timestamp": 1605392253487,
     "user": {
      "displayName": "Prabin Sapkota",
      "photoUrl": "https://lh6.googleusercontent.com/-doP6HgypWoA/AAAAAAAAAAI/AAAAAAAAADs/IVE1vPXCX6U/s64/photo.jpg",
      "userId": "10525827673897210712"
     },
     "user_tz": 300
    },
    "id": "TQMphLjoUwZH"
   },
   "outputs": [],
   "source": [
    "deck_model_probabilities = [4/13, 9/13]\n",
    "deck_model_probabilities = [0.31, 0.69]"
   ]
  },
  {
   "cell_type": "markdown",
   "metadata": {
    "id": "xyTl3zTVUwZJ"
   },
   "source": [
    "**Question 2:** We believe Jade's model is incorrect. In particular, we believe there to be a  larger chance of getting a face card. Which of the following statistics can we use during our simulation to test between the model and our alternative? Assign `statistic_choice` to the correct answer. \n",
    "\n",
    "1. The actual number of face cards we get in 13 draws\n",
    "2. The distance (absolute value) between the actual number of face cards in 13 draws and the expected number of face cards in 13 draws (4)\n",
    "3. The expected number of face cards in 13 draws (4)"
   ]
  },
  {
   "cell_type": "code",
   "execution_count": 3,
   "metadata": {
    "colab": {
     "base_uri": "https://localhost:8080/"
    },
    "executionInfo": {
     "elapsed": 573,
     "status": "ok",
     "timestamp": 1605392253711,
     "user": {
      "displayName": "Prabin Sapkota",
      "photoUrl": "https://lh6.googleusercontent.com/-doP6HgypWoA/AAAAAAAAAAI/AAAAAAAAADs/IVE1vPXCX6U/s64/photo.jpg",
      "userId": "10525827673897210712"
     },
     "user_tz": 300
    },
    "id": "4jxoZ2sJUwZK",
    "outputId": "dcd71597-10c0-42df-8a20-ba50975c02cb"
   },
   "outputs": [
    {
     "data": {
      "text/plain": [
       "[1]"
      ]
     },
     "execution_count": 3,
     "metadata": {},
     "output_type": "execute_result"
    }
   ],
   "source": [
    "statistic_choice = [1]\n",
    "statistic_choice"
   ]
  },
  {
   "cell_type": "markdown",
   "metadata": {
    "id": "wqZYR1TQUwZM"
   },
   "source": [
    "**Question 3:** Define the function `deck_simulation_and_statistic`, which, given a sample size and an array of model proportions (like the one you created in Question 1), returns the number of face cards in one simulation of drawing a card under the model specified in `model_proportions`. "
   ]
  },
  {
   "cell_type": "code",
   "execution_count": 4,
   "metadata": {
    "colab": {
     "base_uri": "https://localhost:8080/"
    },
    "executionInfo": {
     "elapsed": 566,
     "status": "ok",
     "timestamp": 1605392253712,
     "user": {
      "displayName": "Prabin Sapkota",
      "photoUrl": "https://lh6.googleusercontent.com/-doP6HgypWoA/AAAAAAAAAAI/AAAAAAAAADs/IVE1vPXCX6U/s64/photo.jpg",
      "userId": "10525827673897210712"
     },
     "user_tz": 300
    },
    "id": "maEuT2v8UwZN",
    "outputId": "621f58d1-7cdf-4fad-c19d-62f7bfb231a1"
   },
   "outputs": [
    {
     "name": "stdout",
     "output_type": "stream",
     "text": [
      "7.0\n"
     ]
    }
   ],
   "source": [
    "def deck_simulation_and_statistic(sample_size, model_proportions):\n",
    "  return sample_proportions(sample_size, model_proportions)\n",
    "\n",
    "proportion = deck_simulation_and_statistic(13, deck_model_probabilities)\n",
    "print(proportion.item(0) * 13)"
   ]
  },
  {
   "cell_type": "markdown",
   "metadata": {
    "id": "dHeOLzMnUwZP"
   },
   "source": [
    "**Question 4:** Use your function from above to simulate the drawing of 13 cards 5000 times under the proportions that you specified in Question 1. Keep track of all of your statistics in `deck_statistics`. "
   ]
  },
  {
   "cell_type": "code",
   "execution_count": 5,
   "metadata": {
    "colab": {
     "base_uri": "https://localhost:8080/"
    },
    "executionInfo": {
     "elapsed": 557,
     "status": "ok",
     "timestamp": 1605392253712,
     "user": {
      "displayName": "Prabin Sapkota",
      "photoUrl": "https://lh6.googleusercontent.com/-doP6HgypWoA/AAAAAAAAAAI/AAAAAAAAADs/IVE1vPXCX6U/s64/photo.jpg",
      "userId": "10525827673897210712"
     },
     "user_tz": 300
    },
    "id": "0ytvfAO2UwZQ",
    "outputId": "2016f347-6f30-4224-ae13-2647daa7d8c3"
   },
   "outputs": [
    {
     "name": "stdout",
     "output_type": "stream",
     "text": [
      "[6, 3, 3, 0, 2, 5, 2, 7, 5, 1, 6, 6, 7, 4, 6, 2, 3, 4, 3, 4, 5, 2, 4, 2, 7, 5, 4, 4, 4, 5, 5, 3, 3, 4, 6, 5, 4, 4, 6, 2, 5, 5, 6, 6, 3, 6, 2, 4, 6, 3, 2, 5, 2, 2, 4, 4, 6, 2, 6, 1, 7, 4, 3, 5, 2, 3, 3, 6, 4, 4, 6, 4, 5, 6, 3, 5, 5, 3, 4, 5, 3, 3, 3, 4, 8, 5, 6, 3, 3, 6, 4, 4, 4, 2, 2, 3, 5, 4, 5, 5, 5, 7, 6, 5, 1, 5, 8, 2, 4, 6, 5, 6, 2, 6, 3, 1, 2, 5, 4, 5, 2, 5, 3, 5, 0, 3, 2, 4, 4, 9, 3, 7, 2, 2, 5, 4, 2, 5, 4, 2, 2, 2, 3, 4, 5, 4, 4, 4, 5, 6, 4, 6, 3, 3, 4, 0, 2, 4, 4, 4, 0, 3, 4, 4, 6, 4, 3, 3, 5, 6, 7, 3, 7, 2, 2, 6, 3, 5, 4, 6, 4, 6, 5, 1, 3, 7, 4, 7, 5, 5, 3, 6, 3, 3, 3, 5, 2, 5, 4, 5, 2, 2, 4, 6, 2, 5, 7, 3, 2, 1, 6, 7, 6, 1, 3, 4, 3, 3, 2, 4, 2, 5, 5, 6, 4, 4, 3, 2, 7, 3, 4, 5, 4, 5, 4, 5, 2, 1, 4, 3, 3, 2, 4, 4, 4, 4, 9, 2, 3, 4, 4, 4, 5, 6, 5, 9, 3, 6, 5, 6, 5, 3, 0, 3, 4, 6, 5, 2, 4, 2, 5, 2, 3, 4, 5, 4, 6, 4, 3, 1, 10, 5, 7, 5, 3, 7, 7, 4, 2, 4, 4, 7, 2, 3, 4, 3, 3, 5, 4, 5, 5, 6, 5, 6, 6, 5, 3, 6, 5, 6, 2, 5, 4, 4, 4, 3, 5, 4, 4, 5, 3, 7, 4, 3, 6, 3, 2, 3, 1, 3, 4, 1, 5, 3, 9, 4, 6, 4, 5, 5, 6, 2, 4, 3, 7, 6, 3, 6, 1, 5, 7, 4, 4, 2, 3, 2, 5, 5, 5, 6, 5, 3, 4, 3, 6, 5, 6, 2, 5, 5, 4, 5, 4, 2, 5, 7, 3, 4, 5, 3, 5, 1, 3, 1, 3, 4, 2, 3, 8, 7, 2, 4, 4, 3, 1, 5, 2, 7, 7, 5, 3, 2, 6, 2, 5, 3, 5, 2, 5, 5, 3, 3, 4, 5, 3, 3, 5, 4, 5, 4, 3, 2, 4, 6, 3, 2, 8, 6, 5, 5, 3, 4, 5, 6, 6, 3, 3, 5, 5, 3, 6, 2, 2, 4, 3, 5, 4, 3, 3, 6, 3, 5, 4, 2, 3, 4, 7, 3, 4, 4, 5, 2, 4, 4, 3, 3, 3, 4, 7, 2, 3, 4, 4, 3, 5, 2, 6, 0, 5, 3, 3, 3, 3, 7, 3, 3, 7, 4, 6, 3, 6, 6, 7, 2, 4, 2, 5, 4, 3, 3, 2, 5, 6, 4, 4, 5, 3, 2, 4, 4, 5, 4, 7, 4, 2, 8, 6, 7, 5, 7, 5, 3, 4, 3, 3, 4, 3, 6, 3, 3, 7, 3, 4, 4, 3, 4, 3, 4, 3, 2, 3, 4, 3, 6, 7, 5, 4, 6, 2, 4, 6, 6, 6, 6, 6, 3, 3, 5, 3, 3, 4, 3, 3, 1, 5, 3, 5, 7, 5, 4, 1, 4, 4, 6, 2, 3, 5, 3, 2, 3, 4, 7, 4, 3, 4, 3, 4, 2, 4, 3, 3, 6, 3, 1, 5, 2, 4, 4, 4, 3, 4, 6, 4, 5, 5, 3, 3, 3, 2, 3, 3, 4, 2, 4, 4, 5, 2, 6, 3, 3, 4, 1, 6, 4, 4, 3, 6, 3, 5, 3, 1, 7, 3, 4, 3, 5, 6, 4, 2, 4, 3, 2, 8, 3, 6, 3, 4, 3, 7, 7, 2, 3, 2, 4, 2, 5, 4, 5, 3, 4, 2, 4, 1, 8, 4, 4, 5, 4, 5, 5, 4, 7, 5, 3, 3, 3, 2, 6, 2, 7, 6, 3, 1, 5, 1, 4, 5, 3, 3, 4, 6, 6, 4, 4, 5, 3, 2, 5, 5, 4, 5, 3, 3, 2, 4, 3, 3, 5, 4, 5, 3, 4, 5, 4, 6, 4, 5, 5, 7, 5, 3, 3, 3, 1, 4, 4, 4, 2, 2, 4, 4, 3, 2, 3, 3, 2, 5, 4, 5, 5, 5, 1, 5, 7, 4, 6, 6, 1, 7, 4, 2, 3, 4, 5, 2, 5, 4, 2, 5, 3, 6, 2, 1, 4, 3, 4, 5, 3, 4, 4, 9, 4, 3, 7, 7, 3, 3, 6, 5, 2, 5, 4, 4, 4, 4, 4, 4, 6, 3, 3, 2, 3, 4, 4, 5, 4, 5, 6, 2, 3, 5, 1, 4, 4, 5, 5, 5, 4, 3, 4, 6, 6, 4, 3, 4, 6, 2, 5, 4, 5, 2, 5, 0, 7, 7, 2, 5, 4, 1, 5, 5, 6, 5, 6, 6, 3, 1, 4, 4, 3, 3, 4, 5, 6, 3, 5, 3, 7, 4, 2, 3, 3, 6, 4, 4, 5, 8, 4, 3, 6, 6, 6, 4, 7, 4, 4, 3, 3, 1, 4, 2, 2, 3, 6, 3, 3, 4, 7, 1, 3, 3, 3, 2, 5, 2, 4, 6, 2, 3, 5, 7, 2, 2, 6, 2, 3, 7, 5, 7, 2, 5, 4, 5, 4, 4, 4, 4, 7, 5, 6, 2, 5, 2, 5, 3, 7, 3, 4, 2, 7, 4, 4, 5, 5, 3, 3, 2, 3, 2, 5, 2, 5, 1, 3, 4, 3, 5, 8, 2, 6, 5, 3, 5, 5, 1, 6, 6, 1, 4, 4, 1, 4, 5, 3, 7, 4, 2, 5, 6, 8, 5, 7, 6, 3, 4, 4, 2, 5, 4, 5, 5, 5, 5, 3, 6, 2, 3, 4, 3, 5, 2, 6, 5, 4, 4, 7, 6, 4, 3, 2, 5, 1, 6, 3, 3, 5, 6, 3, 3, 4, 4, 3, 4, 4, 4, 7, 5, 4, 4, 5, 5, 4, 6, 6, 4, 5, 5, 3, 2, 5, 4, 3, 4, 3, 4, 8, 5, 3, 6, 4, 3, 2, 4, 4, 7, 5, 4, 1, 3, 4, 4, 5, 1, 4, 5, 6, 4, 3, 6, 5, 3, 4, 3, 4, 4, 4, 3, 8, 4, 3, 3, 1, 3, 8, 4, 2, 3, 6, 2, 4, 4, 5, 7, 5, 3, 6, 6, 4, 4, 5, 7, 6, 2, 1, 5, 5, 3, 1, 1, 3, 6, 1, 8, 4, 5, 5, 4, 1, 5, 5, 2, 3, 8, 4, 5, 1, 6, 3, 3, 2, 6, 4, 2, 7, 0, 5, 7, 4, 2, 3, 1, 5, 3, 7, 5, 5, 5, 0, 3, 8, 4, 3, 2, 3, 7, 4, 2, 5, 5, 5, 3, 3, 3, 3, 5, 3, 3, 5, 3, 6, 4, 4, 2, 3, 1, 1, 2, 2, 5, 5, 3, 5, 7, 3, 1, 7, 5, 1, 6, 4, 5, 2, 4, 3, 7, 3, 4, 5, 3, 4, 4, 1, 5, 3, 2, 4, 4, 5, 3, 7, 5, 3, 4, 2, 1, 6, 3, 3, 4, 2, 3, 2, 7, 5, 5, 5, 2, 4, 4, 1, 6, 2, 6, 0, 5, 2, 4, 6, 2, 1, 5, 1, 4, 3, 4, 1, 4, 5, 3, 3, 4, 3, 4, 1, 6, 3, 3, 3, 3, 5, 6, 4, 3, 3, 4, 7, 6, 6, 3, 5, 5, 3, 5, 5, 5, 3, 4, 5, 2, 1, 1, 5, 4, 2, 4, 4, 3, 3, 4, 4, 5, 4, 5, 6, 5, 4, 3, 3, 3, 2, 1, 3, 3, 4, 4, 2, 6, 5, 3, 3, 7, 8, 5, 6, 5, 5, 6, 5, 3, 5, 6, 5, 4, 3, 4, 5, 5, 5, 6, 4, 4, 5, 7, 5, 4, 4, 5, 7, 4, 2, 2, 6, 6, 7, 3, 5, 9, 6, 3, 8, 4, 3, 4, 3, 4, 5, 4, 6, 8, 1, 5, 6, 3, 2, 5, 7, 3, 7, 4, 6, 5, 5, 2, 3, 6, 3, 3, 5, 4, 6, 4, 2, 3, 4, 2, 6, 4, 9, 3, 3, 5, 1, 4, 4, 3, 3, 4, 4, 1, 5, 5, 4, 4, 5, 4, 3, 5, 6, 5, 2, 4, 6, 5, 3, 4, 3, 8, 5, 1, 3, 4, 5, 6, 3, 2, 5, 4, 2, 4, 4, 2, 3, 2, 6, 4, 6, 4, 3, 6, 3, 3, 3, 3, 2, 1, 6, 4, 5, 2, 6, 3, 3, 7, 4, 2, 5, 4, 5, 3, 5, 3, 6, 4, 5, 4, 6, 3, 5, 4, 5, 3, 2, 5, 5, 5, 3, 3, 3, 3, 5, 2, 1, 4, 3, 7, 4, 5, 4, 4, 3, 2, 5, 4, 3, 4, 3, 5, 7, 1, 2, 4, 4, 4, 1, 7, 4, 5, 2, 1, 4, 6, 6, 2, 0, 5, 2, 5, 5, 1, 3, 4, 5, 7, 3, 5, 3, 5, 2, 3, 4, 3, 6, 2, 5, 5, 4, 2, 5, 7, 3, 5, 6, 3, 4, 9, 4, 5, 7, 7, 3, 2, 5, 4, 5, 4, 5, 6, 3, 1, 0, 5, 5, 5, 1, 3, 5, 5, 2, 1, 6, 3, 4, 5, 7, 3, 5, 5, 7, 2, 6, 5, 7, 2, 3, 5, 4, 7, 4, 4, 4, 4, 5, 7, 2, 5, 4, 7, 6, 5, 3, 5, 4, 8, 0, 5, 1, 3, 6, 2, 2, 1, 8, 5, 5, 5, 3, 3, 3, 4, 2, 6, 7, 4, 4, 4, 4, 5, 4, 3, 5, 5, 5, 3, 4, 2, 2, 4, 2, 4, 4, 0, 5, 4, 2, 1, 5, 5, 3, 4, 5, 5, 4, 4, 5, 3, 6, 3, 5, 3, 7, 6, 3, 3, 7, 2, 4, 3, 5, 10, 7, 5, 5, 3, 6, 2, 2, 3, 5, 3, 4, 5, 2, 6, 4, 6, 3, 5, 3, 2, 4, 3, 4, 0, 1, 2, 5, 6, 5, 2, 5, 5, 4, 3, 2, 3, 3, 4, 4, 2, 3, 3, 6, 4, 4, 5, 7, 3, 7, 4, 5, 2, 4, 7, 2, 7, 3, 3, 4, 4, 3, 1, 3, 1, 4, 7, 4, 3, 7, 5, 6, 3, 6, 2, 3, 2, 3, 2, 4, 6, 3, 3, 5, 2, 3, 3, 1, 3, 5, 3, 3, 2, 4, 2, 2, 3, 4, 6, 5, 6, 6, 1, 4, 1, 5, 5, 7, 5, 4, 3, 4, 5, 2, 4, 3, 4, 7, 0, 2, 5, 2, 5, 4, 0, 6, 5, 3, 2, 4, 5, 2, 2, 5, 3, 5, 2, 2, 3, 4, 3, 3, 6, 5, 4, 4, 3, 5, 4, 6, 4, 3, 3, 4, 4, 5, 5, 3, 2, 5, 3, 7, 4, 5, 6, 5, 5, 6, 8, 7, 3, 6, 4, 3, 3, 5, 4, 6, 4, 3, 6, 6, 2, 3, 5, 5, 5, 2, 5, 2, 2, 5, 4, 6, 5, 5, 2, 6, 3, 5, 3, 6, 4, 5, 4, 6, 5, 4, 5, 6, 5, 4, 2, 4, 4, 6, 7, 5, 6, 4, 3, 4, 5, 5, 4, 2, 6, 5, 7, 3, 3, 4, 5, 5, 5, 3, 5, 7, 2, 1, 4, 1, 9, 2, 6, 2, 5, 4, 8, 4, 7, 4, 1, 4, 4, 3, 3, 3, 2, 3, 5, 3, 1, 4, 8, 4, 4, 5, 2, 3, 7, 3, 1, 4, 4, 5, 4, 3, 4, 5, 5, 2, 4, 3, 4, 5, 2, 6, 2, 2, 4, 2, 5, 3, 6, 4, 1, 2, 1, 4, 1, 2, 1, 7, 3, 4, 3, 4, 5, 6, 3, 3, 4, 7, 4, 4, 4, 3, 2, 4, 4, 4, 3, 3, 3, 4, 3, 1, 5, 2, 6, 2, 1, 3, 3, 3, 6, 3, 4, 2, 5, 5, 3, 3, 2, 4, 5, 4, 4, 6, 1, 4, 1, 2, 4, 4, 2, 4, 3, 3, 3, 4, 2, 6, 6, 2, 5, 5, 3, 4, 5, 4, 4, 8, 1, 5, 5, 5, 4, 7, 3, 1, 5, 4, 4, 4, 5, 2, 3, 1, 7, 6, 3, 4, 6, 3, 2, 6, 6, 8, 4, 6, 5, 3, 6, 6, 2, 4, 3, 2, 4, 4, 0, 0, 4, 4, 2, 6, 2, 4, 4, 1, 1, 3, 5, 3, 5, 2, 3, 5, 3, 3, 6, 4, 8, 6, 1, 1, 3, 5, 3, 6, 5, 3, 4, 4, 4, 3, 5, 7, 4, 4, 3, 5, 3, 1, 4, 7, 4, 4, 3, 5, 3, 4, 4, 4, 4, 7, 7, 3, 5, 4, 9, 4, 4, 2, 5, 5, 3, 3, 3, 5, 4, 5, 4, 3, 5, 7, 1, 5, 3, 5, 4, 5, 3, 4, 4, 4, 0, 5, 3, 3, 3, 4, 7, 2, 4, 3, 2, 4, 2, 5, 2, 5, 6, 3, 9, 6, 2, 3, 5, 5, 2, 5, 6, 2, 4, 5, 3, 3, 6, 3, 1, 4, 3, 2, 5, 5, 4, 4, 3, 3, 3, 5, 7, 4, 1, 4, 4, 4, 6, 2, 4, 4, 3, 4, 4, 4, 4, 5, 5, 7, 4, 3, 6, 2, 4, 4, 3, 3, 4, 1, 4, 3, 5, 3, 5, 3, 5, 4, 2, 7, 7, 8, 6, 3, 3, 3, 6, 3, 4, 5, 4, 6, 8, 5, 3, 5, 6, 3, 5, 3, 4, 7, 6, 5, 7, 6, 4, 5, 5, 3, 4, 6, 4, 5, 7, 4, 2, 5, 0, 5, 6, 2, 4, 2, 1, 4, 2, 7, 4, 3, 4, 3, 1, 3, 7, 3, 4, 5, 2, 2, 7, 1, 2, 8, 2, 4, 0, 7, 2, 4, 3, 3, 3, 5, 3, 2, 4, 4, 4, 4, 5, 4, 4, 4, 4, 4, 3, 5, 0, 4, 3, 2, 3, 4, 6, 2, 1, 7, 2, 5, 4, 6, 5, 4, 5, 2, 5, 6, 4, 4, 5, 4, 4, 5, 3, 3, 3, 2, 3, 4, 3, 4, 4, 5, 2, 5, 4, 4, 4, 5, 4, 3, 5, 5, 3, 3, 5, 4, 7, 3, 5, 3, 4, 6, 5, 4, 3, 4, 2, 7, 4, 3, 4, 4, 6, 4, 5, 4, 3, 3, 5, 5, 4, 1, 4, 3, 5, 2, 1, 3, 2, 3, 7, 3, 5, 3, 5, 8, 3, 6, 3, 3, 4, 3, 1, 5, 4, 4, 6, 3, 1, 2, 3, 8, 5, 3, 3, 1, 5, 7, 3, 5, 5, 4, 6, 3, 7, 1, 3, 1, 4, 3, 6, 4, 5, 4, 3, 5, 7, 6, 1, 2, 4, 5, 6, 7, 3, 3, 7, 5, 2, 3, 6, 2, 2, 4, 6, 2, 6, 5, 5, 3, 4, 4, 2, 3, 3, 6, 3, 5, 3, 6, 2, 5, 5, 5, 4, 2, 3, 4, 1, 4, 4, 6, 2, 3, 3, 4, 4, 3, 5, 2, 5, 2, 5, 2, 5, 1, 3, 6, 3, 5, 3, 8, 1, 2, 5, 6, 6, 6, 5, 3, 5, 3, 4, 6, 3, 3, 4, 3, 5, 7, 4, 3, 2, 4, 5, 2, 3, 2, 2, 1, 5, 7, 4, 2, 5, 5, 6, 3, 4, 6, 9, 6, 4, 4, 6, 1, 3, 6, 2, 7, 4, 6, 5, 4, 7, 3, 4, 5, 1, 2, 0, 3, 5, 6, 1, 4, 5, 2, 4, 4, 4, 6, 3, 3, 5, 4, 1, 3, 2, 3, 0, 4, 4, 5, 2, 4, 0, 4, 4, 2, 4, 6, 2, 3, 5, 5, 5, 5, 3, 3, 5, 2, 2, 3, 3, 3, 2, 7, 5, 3, 3, 6, 2, 4, 4, 1, 3, 6, 5, 4, 7, 3, 6, 6, 7, 6, 2, 3, 4, 4, 5, 7, 6, 5, 6, 3, 6, 3, 3, 5, 4, 3, 4, 6, 3, 6, 8, 3, 2, 5, 4, 2, 3, 4, 4, 0, 2, 2, 4, 6, 5, 5, 5, 2, 6, 4, 5, 4, 6, 5, 4, 5, 3, 2, 3, 5, 6, 5, 4, 3, 3, 5, 4, 4, 3, 5, 2, 5, 4, 3, 6, 3, 4, 7, 4, 2, 3, 3, 4, 3, 3, 8, 5, 4, 6, 4, 5, 4, 5, 4, 6, 4, 2, 5, 2, 4, 2, 3, 3, 4, 6, 6, 3, 3, 1, 8, 2, 5, 2, 3, 5, 2, 2, 5, 3, 1, 2, 3, 3, 7, 6, 5, 3, 6, 5, 2, 4, 2, 5, 4, 6, 6, 4, 6, 4, 2, 3, 1, 3, 6, 3, 3, 7, 5, 4, 4, 4, 6, 3, 5, 5, 4, 2, 4, 6, 4, 4, 6, 3, 5, 3, 5, 4, 1, 6, 7, 5, 4, 2, 4, 2, 4, 4, 7, 5, 4, 6, 2, 4, 6, 4, 4, 5, 5, 1, 4, 5, 3, 6, 6, 8, 3, 4, 4, 2, 6, 6, 3, 2, 6, 4, 3, 2, 6, 4, 5, 2, 4, 3, 1, 5, 8, 4, 4, 3, 3, 3, 6, 8, 5, 4, 4, 0, 3, 3, 9, 4, 1, 3, 5, 5, 4, 4, 2, 5, 4, 3, 2, 6, 2, 3, 5, 3, 2, 4, 5, 4, 1, 5, 2, 3, 4, 4, 3, 6, 4, 5, 6, 3, 4, 1, 6, 3, 3, 5, 8, 4, 4, 4, 4, 4, 3, 6, 7, 3, 3, 6, 2, 5, 3, 7, 3, 2, 7, 5, 3, 4, 5, 7, 3, 3, 2, 2, 3, 6, 4, 4, 4, 5, 4, 4, 3, 6, 3, 2, 5, 8, 4, 6, 4, 6, 5, 4, 6, 3, 4, 3, 7, 5, 3, 3, 6, 4, 6, 4, 4, 8, 4, 4, 4, 3, 2, 6, 2, 5, 5, 3, 6, 3, 4, 3, 5, 5, 8, 3, 3, 4, 5, 5, 1, 2, 4, 2, 3, 4, 3, 3, 1, 5, 6, 5, 5, 5, 3, 5, 3, 6, 7, 2, 6, 4, 5, 3, 6, 6, 3, 5, 3, 2, 4, 3, 3, 6, 4, 3, 3, 5, 5, 5, 5, 6, 4, 2, 3, 4, 6, 2, 3, 3, 6, 5, 3, 3, 6, 5, 2, 6, 5, 4, 4, 2, 6, 1, 6, 4, 4, 3, 2, 1, 6, 5, 3, 3, 4, 3, 5, 2, 5, 3, 3, 6, 5, 4, 3, 2, 4, 4, 7, 3, 4, 3, 5, 3, 7, 3, 2, 0, 3, 1, 7, 5, 3, 5, 4, 5, 4, 3, 5, 4, 8, 5, 3, 5, 5, 1, 3, 5, 5, 4, 6, 3, 4, 3, 3, 5, 1, 3, 4, 5, 7, 2, 4, 4, 4, 5, 5, 5, 2, 6, 2, 1, 2, 6, 5, 6, 6, 3, 6, 5, 6, 4, 6, 3, 2, 4, 5, 5, 7, 3, 3, 5, 3, 5, 2, 5, 5, 2, 5, 2, 8, 2, 2, 5, 3, 3, 6, 5, 8, 5, 3, 4, 3, 4, 3, 7, 4, 6, 3, 5, 3, 3, 5, 4, 5, 1, 5, 3, 4, 4, 4, 4, 3, 6, 6, 3, 6, 4, 3, 1, 8, 5, 3, 3, 2, 5, 6, 6, 2, 6, 4, 4, 5, 1, 2, 1, 3, 3, 4, 6, 2, 5, 7, 5, 5, 6, 1, 3, 3, 9, 5, 4, 6, 4, 4, 3, 4, 4, 8, 2, 0, 3, 5, 6, 4, 5, 4, 5, 3, 4, 3, 4, 6, 4, 0, 1, 4, 5, 5, 7, 4, 6, 1, 4, 8, 4, 2, 0, 5, 4, 5, 4, 2, 3, 6, 3, 3, 2, 4, 3, 5, 4, 4, 4, 3, 4, 4, 6, 9, 2, 3, 1, 5, 3, 7, 3, 3, 3, 4, 7, 5, 5, 3, 2, 5, 4, 3, 3, 6, 4, 5, 7, 2, 3, 4, 2, 5, 4, 4, 1, 1, 5, 2, 2, 5, 1, 2, 6, 6, 6, 8, 4, 5, 5, 5, 5, 2, 3, 7, 5, 3, 3, 7, 3, 2, 6, 6, 5, 1, 4, 2, 5, 5, 5, 3, 3, 4, 1, 0, 5, 2, 2, 2, 6, 5, 3, 5, 4, 3, 4, 4, 5, 0, 9, 5, 2, 5, 4, 3, 3, 4, 4, 3, 2, 3, 1, 4, 5, 3, 4, 4, 5, 3, 4, 3, 4, 2, 7, 1, 5, 4, 6, 4, 4, 3, 3, 5, 1, 4, 8, 2, 5, 3, 4, 7, 3, 7, 3, 1, 4, 4, 3, 4, 3, 2, 7, 1, 3, 5, 4, 1, 5, 4, 4, 4, 5, 1, 4, 3, 3, 4, 3, 5, 4, 5, 4, 4, 7, 3, 4, 7, 5, 10, 6, 5, 1, 6, 2, 3, 5, 6, 2, 3, 5, 4, 4, 5, 4, 3, 6, 5, 4, 4, 4, 5, 3, 6, 3, 5, 3, 1, 5, 4, 5, 3, 6, 4, 2, 5, 4, 5, 5, 1, 2, 3, 4, 4, 5, 2, 2, 5, 6, 5, 1, 6, 6, 4, 2, 4, 2, 7, 7, 2, 3, 3, 2, 2, 4, 6, 6, 5, 4, 4, 1, 5, 8, 1, 1, 4, 1, 5, 5, 3, 4, 5, 3, 5, 3, 6, 1, 1, 5, 5, 3, 3, 4, 3, 3, 3, 6, 4, 3, 2, 5, 2, 4, 3, 5, 4, 3, 1, 2, 1, 4, 2, 2, 3, 3, 5, 3, 6, 5, 3, 7, 4, 5, 3, 6, 2, 5, 1, 3, 2, 4, 3, 6, 5, 3, 5, 2, 5, 7, 1, 4, 5, 3, 2, 7, 4, 6, 4, 4, 4, 5, 5, 4, 3, 2, 4, 4, 4, 3, 3, 5, 3, 7, 3, 3, 3, 3, 6, 4, 3, 6, 3, 3, 8, 6, 4, 4, 7, 3, 4, 1, 3, 2, 5, 2, 3, 6, 9, 1, 3, 5, 1, 4, 4, 7, 6, 2, 4, 6, 4, 2, 6, 6, 3, 4, 3, 4, 3, 2, 3, 3, 4, 3, 5, 5, 5, 5, 5, 2, 5, 4, 4, 2, 4, 3, 5, 5, 3, 4, 5, 4, 5, 3, 4, 3, 2, 1, 3, 5, 5, 1, 4, 2, 6, 3, 3, 6, 4, 7, 4, 6, 4, 4, 4, 2, 7, 5, 2, 6, 3, 9, 7, 3, 2, 5, 3, 5, 3, 4, 4, 3, 4, 4, 3, 4, 4, 4, 4, 4, 2, 6, 2, 5, 1, 3, 6, 5, 4, 4, 5, 5, 5, 4, 5, 1, 3, 5, 3, 3, 5, 5, 4, 3, 3, 3, 2, 5, 5, 3, 5, 8, 3, 4, 6, 5, 3, 5, 3, 6, 3, 2, 4, 8, 6, 7, 5, 4, 4, 4, 3, 5, 7, 3, 7, 4, 2, 7, 7, 2, 5, 5, 5, 5, 4, 3, 3, 2, 4, 5, 2, 3, 6, 4, 4, 3, 3, 3, 5, 3, 4, 3, 4, 5, 6, 4, 3, 3, 6, 6, 5, 6, 5, 4, 3, 5, 6, 3, 6, 3, 5, 5, 3, 3, 5, 2, 6, 2, 9, 8, 2, 3, 5, 1, 5, 3, 5, 3, 4, 2, 6, 7, 4, 2, 4, 5, 6, 5, 8, 5, 6, 5, 6, 3, 2, 6, 7, 5, 3, 4, 4, 4, 3, 5, 1, 4, 1, 3, 1, 4, 5, 4, 2, 1, 3, 1, 6, 5, 6, 6, 3, 6, 4, 2, 5, 4, 6, 1, 3, 4, 2, 5, 4, 4, 1, 4, 4, 5, 3, 5, 4, 3, 4, 5, 6, 5, 5, 2, 1, 3, 2, 4, 3, 2, 3, 6, 3, 2, 3, 5, 5, 3, 4, 4, 9, 3, 2, 2, 9, 3, 4, 4, 3, 4, 5, 3, 1, 7, 4, 7, 3, 4, 4, 6, 3, 3, 2, 6, 6, 5, 4, 5, 6, 5, 4, 7, 4, 1, 3, 2, 6, 7, 4, 7, 5, 5, 3, 3, 1, 2, 5, 4, 1, 4, 5, 5, 5, 5, 4, 4, 4, 3, 5, 5, 2, 2, 4, 5, 4, 5, 3, 3, 4, 4, 6, 5, 3, 3, 6, 5, 3, 4, 8, 1, 2, 2, 5, 5, 7, 4, 5, 5, 5, 6, 3, 5, 5, 4, 3, 3, 4, 3, 4, 2, 2, 6, 3, 5, 3, 6, 4, 4, 5, 5, 2, 4, 7, 1, 3, 4, 2, 3, 2, 3, 5, 3, 4, 5, 4, 1, 5, 3, 3, 3, 2, 9, 3, 3, 6, 3, 6, 6, 5, 3, 0, 3, 3, 2, 4, 2, 6, 1, 4, 4, 4, 4, 4, 5, 4, 6, 5, 4, 3, 5, 1, 4, 1, 4, 3, 6, 4, 4, 7, 7, 3, 2, 5, 4, 7, 3, 4, 5, 5, 6, 3, 2, 5, 2, 5, 5, 5, 4, 6, 2, 5, 2, 4, 6, 6, 4, 2, 1, 2, 2, 5, 2, 5, 3, 2, 6, 6, 4, 5, 2, 4, 4, 4, 5, 5, 5, 4, 2, 4, 1, 0, 6, 3, 2, 3, 2, 4, 5, 3, 4, 2, 5, 3, 2, 5, 2, 3, 5, 4, 2, 0, 6, 6, 5, 3, 5, 6, 7, 4, 6, 3, 4, 4, 3, 3, 4, 4, 6, 3, 5, 4, 5, 6, 4, 5, 3, 2, 4, 5, 4, 6, 4, 4, 8, 2, 3, 1, 3, 4, 2, 3, 5, 2, 3, 5, 6, 6, 3, 8, 4, 5, 5, 6, 5, 7, 4, 4, 3, 1, 5, 2, 5, 4, 7, 2, 2, 3, 4, 4, 4, 5, 3, 5, 5, 5, 4, 6, 4, 5, 4, 6, 4, 5, 3, 5, 6, 1, 3, 3, 3, 3, 5, 3, 6, 3, 5, 4, 3, 4, 5, 6, 6, 2, 5, 3, 3, 4, 1, 1, 4, 5, 3, 4, 1, 6, 3, 5, 6, 2, 2, 5, 4, 3, 4, 4, 2, 3, 1, 4, 4, 6, 4, 10, 3, 6, 3, 4, 1, 7, 2, 3, 5, 3, 4, 4, 2, 6, 5, 6, 4, 3, 8, 3, 0, 5, 3, 5, 3, 2, 3, 3, 3, 6, 6, 6, 5, 4, 2, 4, 3, 5, 4, 7, 4, 5, 4, 8, 6, 3, 2, 4, 1, 5, 4, 4, 6, 7, 9, 5, 2, 4, 4, 2, 6, 3, 3, 7, 3, 6, 3, 3, 2, 6, 6, 4, 2, 3, 2, 5, 5, 5, 4, 3, 0, 5, 4, 3, 2, 5, 4, 5, 6, 6, 2, 2, 5, 6, 5, 6, 3, 4, 6, 3, 5, 4, 5, 2, 4, 4, 3, 1, 3, 2, 2, 2, 6, 7, 3, 4, 6, 2, 4, 2, 3, 2, 4, 4, 3, 2, 5, 6, 4, 5, 6, 6, 5, 0, 2, 6, 2, 6, 3, 5, 7, 5, 3, 2, 4, 3, 1, 6, 5, 3, 1, 4, 3, 5, 5, 4, 2, 2, 6, 5, 3, 6, 1, 4, 2, 8, 3, 3, 3, 6, 5, 4, 4, 3, 5, 5, 4, 3, 4, 5, 2, 5, 2, 5, 2, 4, 2, 4, 5, 2, 3, 5, 6, 2, 3, 3, 3, 6, 3, 3, 3, 2, 2, 4, 6, 3, 5, 4, 4, 1, 2, 3, 1, 5, 4, 6, 5, 4, 4, 6, 4, 7, 4, 2, 4, 1, 6, 4, 6, 5, 7, 4, 6, 6, 5, 5, 3, 4, 5, 1, 5, 2, 3, 2, 2, 4, 3, 1, 2, 5, 8, 6, 4, 3, 4, 5, 4, 2, 4, 3, 5, 6, 3, 3, 4, 2, 4, 4, 3, 3, 2, 4, 3, 5, 7, 3, 1, 6, 2, 3, 3, 4, 2, 4, 3, 3, 5, 3, 3, 4, 7, 3, 6, 4, 6, 5, 5, 2, 4, 6, 3, 3, 5, 6, 2, 4, 2, 1, 2, 4, 2, 3, 3, 3, 2, 4, 3, 6, 6, 5, 3, 5, 7, 2, 3, 5, 2, 4, 5, 6, 7, 2, 5, 4, 4, 4, 3, 1, 2, 2, 3, 2, 3, 4, 2, 5, 5, 5, 3, 6, 6, 6, 3, 4, 6, 6, 4, 1, 4, 0, 2, 7, 4, 1, 3, 4, 5, 7, 3, 5, 4, 2, 4, 3, 5, 3, 6, 3, 5, 7, 4, 1, 4, 1, 4, 6, 4, 6, 7, 4, 3, 2, 7, 5, 3, 5, 3, 4, 2, 3, 5, 5, 4, 3, 5, 3, 3, 6, 8, 2, 6, 4, 3, 4, 5, 3, 1, 4, 4, 4, 7, 6, 3, 4, 7, 4, 3, 7, 4, 5, 2, 5, 4, 4, 5, 5, 5, 3, 3, 4, 3, 4, 2, 6, 4, 3, 4, 3, 4, 2, 5, 3, 5, 3, 3, 1, 6, 4, 4, 3, 4, 3, 6, 7, 5, 1, 4, 4, 1, 1, 4, 2, 3, 3, 5, 4, 7, 9, 4, 2, 1, 7, 4, 3, 3, 3, 7, 4, 4, 3, 4, 4, 6, 6, 7, 2, 5, 5, 4, 3, 6, 2, 4, 1, 2, 4, 6, 3, 5, 3, 5, 2, 6, 4, 5, 8, 4, 5, 3, 4, 2, 4, 3, 6, 6, 4, 3, 4, 5, 6, 3, 6, 3, 3, 4, 3, 5, 5, 4, 8, 0, 4, 4, 3, 2, 2, 3, 3, 9, 3, 2, 5, 3, 4, 4, 5, 3, 4, 7, 3, 4, 2, 4, 4, 5, 2, 4, 4, 5, 1, 5, 5, 3, 1, 4, 2, 4, 3, 6, 3, 3, 3, 6, 2, 4, 4, 8, 2, 4, 5, 6, 5, 3, 5, 5, 3, 5, 4, 5, 5, 4, 5, 5, 1, 6, 6, 3, 4, 4, 2, 3, 4, 4, 4, 2, 6, 5, 4, 8, 2, 5, 1, 4, 1, 3, 4, 4, 3, 5, 3, 2, 5, 5, 2, 3, 2, 3, 4, 6, 1, 2, 3, 2, 3, 3, 4, 2, 2, 1, 4, 5, 3, 3, 4, 5, 2, 3, 3, 4, 5, 4, 3, 4, 3, 4, 6, 2, 4, 6, 1, 4, 2, 2, 5, 2, 3, 2, 4, 6, 3, 1, 3, 3, 6, 4, 3, 3, 4, 2, 3, 3, 5, 5, 2, 2, 4, 3, 6, 3, 4]\n"
     ]
    }
   ],
   "source": [
    "repetitions = 5000 \n",
    "def all_simulations(repetitions, sample_size, deck_model_probabilities):\n",
    "  all_statistics = []\n",
    "  for i in range(repetitions):\n",
    "    sample_proportions = deck_simulation_and_statistic(sample_size, deck_model_probabilities)\n",
    "    sample_count = sample_proportions.item(0) * sample_size\n",
    "    all_statistics.append(round(sample_count))\n",
    "  return all_statistics\n",
    "\n",
    "deck_statistics = all_simulations(repetitions, 13, deck_model_probabilities)\n",
    "print(deck_statistics)"
   ]
  },
  {
   "cell_type": "code",
   "execution_count": 6,
   "metadata": {
    "colab": {
     "base_uri": "https://localhost:8080/",
     "height": 324
    },
    "executionInfo": {
     "elapsed": 766,
     "status": "ok",
     "timestamp": 1605392253930,
     "user": {
      "displayName": "Prabin Sapkota",
      "photoUrl": "https://lh6.googleusercontent.com/-doP6HgypWoA/AAAAAAAAAAI/AAAAAAAAADs/IVE1vPXCX6U/s64/photo.jpg",
      "userId": "10525827673897210712"
     },
     "user_tz": 300
    },
    "id": "nRjcgyJHPInL",
    "outputId": "6fdf916d-d5bc-4fe3-999b-f2fe7a5de7cc"
   },
   "outputs": [
    {
     "data": {
      "image/png": "[encoded data removed]",
      "text/plain": [
       "<Figure size 432x288 with 1 Axes>"
      ]
     },
     "metadata": {},
     "output_type": "display_data"
    }
   ],
   "source": [
    "def print_histogram(data, title, xlabel, ylabel):\n",
    "  plt.hist(data)\n",
    "  plt.title(title)\n",
    "  plt.xlabel(xlabel)\n",
    "  plt.ylabel(ylabel)\n",
    "  plt.show()\n",
    "\n",
    "print_histogram(deck_statistics, \"Distribution of occurance of face cards\", \"Count of face cards in 13 draws with replacdement\", \"Frequency\")"
   ]
  },
  {
   "cell_type": "markdown",
   "metadata": {
    "id": "AQp79YpFUwZS"
   },
   "source": [
    "**Question 5:** Given your observed value, do you believe that Jade's model is reasonable, or is our alternative more likely? Explain your answer using the distribution drawn in the previous problem. "
   ]
  },
  {
   "cell_type": "markdown",
   "metadata": {
    "id": "ykLuqARLUwZS"
   },
   "source": [
    "Our model is more reasonable as the highest frequencies are with 3 to 5 face card occurance. This gives both parties a very good chance of wining with less bias towards each party. It does not necessarily mean that Jade's model is flawed either as we are given the data of only one run and it is possible to get 8 face cards in one run, however the particular result of Jade's run is very unikely in our model.\n"
   ]
  },
  {
   "cell_type": "markdown",
   "metadata": {
    "id": "JQF8di4WUwZT"
   },
   "source": [
    "## 2. Examining the Therapeutic Touch\n",
    "\n",
    "### What is the Therapeutic Touch\n",
    "\n",
    "The Therapeutic Touch (TT) is the idea that everyone can feel the Human Energy Field (HEF) around individuals.  Those who practice TT have described different people's HEFs as \"warm as Jell-O\" and \"tactile as taffy.\" \n",
    "\n",
    "TT was a popular technique used throughout the 20th century that was toted as a great way to bring balance to a person's health. Certain practitioners claim they have the ability to feel the HEF and can massage it in order to promote health and relaxation in individuals.\n",
    "\n",
    "### Emily Rosa\n",
    "\n",
    "[Emily Rosa](https://en.wikipedia.org/wiki/Emily_Rosa) was a 4th grade student who was very familiar with the world of TT, thanks to her parents, who were both medical practitioners and skeptics of TT.\n",
    "\n",
    "For her 4th grade science fair project, Emily decided to test whether or not TT practitioners could truly interact with a person's HEF. She later went on to p"
   ]
  },
  {
   "cell_type": "markdown",
   "metadata": {
    "id": "Ca_pkQJhUwZT"
   },
   "source": [
    "### Emily's Experiment\n",
    "\n",
    "Emily's experiment was clean, simple, and effective. Due to her parents' occupations in the medical field, she had wide access to people who claimed to be TT practitioners. \n",
    "\n",
    "Emily took 21 TT practitioners and used them for her science experiment. She would take a TT practitioner and ask them to extend their hands through a screen (which they can't see through). Emily would be on the other side and would flip a fair coin. Depending on how the coin landed, she would put out either her left hand or her right hand. The TT practitioner would then have to answer which hand Emily put out. If a pracitioner could truly interact with a person's HEF, it would be expected that they answered correctly.\n",
    "\n",
    "Overall, through 210 samples, the practitioner picked the correct hand 44% of the time. \n",
    "\n",
    "Emily's main goal here was to test whether or not the TT practicioners' guesses were random, like the flip of a coin. In most medical experiments, this is the norm. We want to test whether or not the treatment has an effect, *not* whether or not the treatment actually works. \n",
    "\n",
    "We will now begin to formulate this experiment in terms of the terminology we learned in this course. "
   ]
  },
  {
   "cell_type": "markdown",
   "metadata": {
    "id": "RnRrA0-8UwZU"
   },
   "source": [
    "**Question 1:** Describe Emily’s model for how likely the TT practitioners are to choose the correct hand. What alternative model is her model meant to discredit? Discuss with students around you to come to a conclusion. Check in with a TA or LA if you are stuck."
   ]
  },
  {
   "cell_type": "markdown",
   "metadata": {
    "id": "Mmg7MEa1UwZV"
   },
   "source": [
    "Null Hypothesis: The correctness of TT practitioners' choices is  random.\n",
    "\n",
    "Alternative Hypothesis: The correctness of TT practitioners' choices is not random and they have some special sense or technique to make thee correct choice. \n",
    "\n",
    "Emily's  model is the Null Hypothesis which tries to disprove the alternative model."
   ]
  },
  {
   "cell_type": "markdown",
   "metadata": {
    "id": "fc50owddUwZV"
   },
   "source": [
    "**Question 2:** Remember that the practitioner got the correct answer 44% (0.44) of the time. According to Emily's model, on average, what proportion of times do we expect the practitioner to guess the correct hand? Make sure your answer is between 0 and 1. "
   ]
  },
  {
   "cell_type": "code",
   "execution_count": 7,
   "metadata": {
    "colab": {
     "base_uri": "https://localhost:8080/"
    },
    "executionInfo": {
     "elapsed": 759,
     "status": "ok",
     "timestamp": 1605392253931,
     "user": {
      "displayName": "Prabin Sapkota",
      "photoUrl": "https://lh6.googleusercontent.com/-doP6HgypWoA/AAAAAAAAAAI/AAAAAAAAADs/IVE1vPXCX6U/s64/photo.jpg",
      "userId": "10525827673897210712"
     },
     "user_tz": 300
    },
    "id": "LgNpaMaNUwZW",
    "outputId": "0b05c37c-430f-4c0b-9146-682922774192"
   },
   "outputs": [
    {
     "data": {
      "text/plain": [
       "0.5"
      ]
     },
     "execution_count": 7,
     "metadata": {},
     "output_type": "execute_result"
    }
   ],
   "source": [
    "expected_proportion_correct = 0.5 # randomness of the coin flip  done by Emily\n",
    "expected_proportion_correct"
   ]
  },
  {
   "cell_type": "markdown",
   "metadata": {
    "id": "pd7i7aacUwZY"
   },
   "source": [
    "The goal now is to see if our deviation from this expected proportion of correct answers is due to something other than chance. \n",
    "\n",
    "**Question 3:** We usually use a statistic to help determine which model the evidence points towards. What is a statistic that we can use to compare outcomes under Emily’s model to what was observed? Assign `valid_stat` to an array of integer(s) representing test statistics that Emily can use: \n",
    "\n",
    "1. The difference between the expected percent correct and the actual percent correct\n",
    "2. The absolute difference between the expected percent correct and the actual percent correct\n",
    "3. The sum of the expected percent correct and the actual percent correct\n"
   ]
  },
  {
   "cell_type": "code",
   "execution_count": 8,
   "metadata": {
    "colab": {
     "base_uri": "https://localhost:8080/"
    },
    "executionInfo": {
     "elapsed": 757,
     "status": "ok",
     "timestamp": 1605392253932,
     "user": {
      "displayName": "Prabin Sapkota",
      "photoUrl": "https://lh6.googleusercontent.com/-doP6HgypWoA/AAAAAAAAAAI/AAAAAAAAADs/IVE1vPXCX6U/s64/photo.jpg",
      "userId": "10525827673897210712"
     },
     "user_tz": 300
    },
    "id": "XkO9kYU2UwZZ",
    "outputId": "23a7dfbe-4ec5-4d9a-ea0a-4232e5360724"
   },
   "outputs": [
    {
     "data": {
      "text/plain": [
       "1"
      ]
     },
     "execution_count": 8,
     "metadata": {},
     "output_type": "execute_result"
    }
   ],
   "source": [
    "valid_stat = 1\n",
    "valid_stat"
   ]
  },
  {
   "cell_type": "markdown",
   "metadata": {
    "id": "f9i0fyxuUwZb"
   },
   "source": [
    "**Question 4:** Why is the statistic from Question 3 the best choice for comparing outcomes in Emily's experiment? How does it relate to the models you defined in question 1?"
   ]
  },
  {
   "cell_type": "markdown",
   "metadata": {
    "id": "uqTYs3pdUwZb"
   },
   "source": [
    "It is better because we are testing the hypothesis and the best model will always give a result that is closer to our hypothesis.\n",
    "And if the  actual percent correct is more than the expected percent correct, it is different than when expected precent correct is more than the actual perceent correct. Therfore, we  do not use the absolute difference."
   ]
  },
  {
   "cell_type": "markdown",
   "metadata": {
    "id": "KJSIqRdvUwZb"
   },
   "source": [
    "**Question 5:** Define the function `statistic` which takes in an expected proportion and an actual proportion, and returns the value of the statistic chosen in Question 3. Assume that the argument takes in proportions, but  return your answer as a percentage. \n",
    "\n",
    "*Hint:* Remember we are asking for a **percentage**, not a proportion. "
   ]
  },
  {
   "cell_type": "code",
   "execution_count": 9,
   "metadata": {
    "executionInfo": {
     "elapsed": 259,
     "status": "ok",
     "timestamp": 1605392255700,
     "user": {
      "displayName": "Prabin Sapkota",
      "photoUrl": "https://lh6.googleusercontent.com/-doP6HgypWoA/AAAAAAAAAAI/AAAAAAAAADs/IVE1vPXCX6U/s64/photo.jpg",
      "userId": "10525827673897210712"
     },
     "user_tz": 300
    },
    "id": "71hi830HUwZc"
   },
   "outputs": [],
   "source": [
    "def statistic(expected_prop, actual_prop):\n",
    "  return 100 * (expected_prop - actual_prop) \n"
   ]
  },
  {
   "cell_type": "markdown",
   "metadata": {
    "id": "h-Cqd-803VYj"
   },
   "source": []
  },
  {
   "cell_type": "markdown",
   "metadata": {
    "id": "pd_sTEVaUwZe"
   },
   "source": [
    "**Question 6:** Use your newly defined function to calculate the observed statistic from Emily's experiment. "
   ]
  },
  {
   "cell_type": "code",
   "execution_count": 10,
   "metadata": {
    "colab": {
     "base_uri": "https://localhost:8080/"
    },
    "executionInfo": {
     "elapsed": 254,
     "status": "ok",
     "timestamp": 1605392261788,
     "user": {
      "displayName": "Prabin Sapkota",
      "photoUrl": "https://lh6.googleusercontent.com/-doP6HgypWoA/AAAAAAAAAAI/AAAAAAAAADs/IVE1vPXCX6U/s64/photo.jpg",
      "userId": "10525827673897210712"
     },
     "user_tz": 300
    },
    "id": "gOSRSie0UwZe",
    "outputId": "d22017ed-f237-4824-c815-f498127caf7c"
   },
   "outputs": [
    {
     "data": {
      "text/plain": [
       "6.0"
      ]
     },
     "execution_count": 10,
     "metadata": {},
     "output_type": "execute_result"
    }
   ],
   "source": [
    "observed_statistic = statistic(expected_proportion_correct, 0.44) \n",
    "observed_statistic"
   ]
  },
  {
   "cell_type": "markdown",
   "metadata": {
    "id": "z5ZXGtRqUwZg"
   },
   "source": [
    "**Is this observed statistic consistent with what we might see under Emily’s model?**\n",
    "\n",
    "In order to answer this question, we must simulate the experiment as though Emily's model was correct, and calculate our statistic for every simulation.\n",
    "\n",
    "### `sample_proportions`\n",
    "\n",
    "`sample_proportions` is a function in the **datascience** package. It can be used to randomly sample from multiple categories when you know the proportion of data points that are expected to fall in each category. `sample_proportions` takes two arguments: the sample size and an array that contains the distribution of categories in the population (should sum to 1).\n",
    "\n",
    "Consider flipping a fair coin, where the two outcomes (coin lands heads and coin lands tails) occur with an equal chance. We expect that half of all coin flips will land heads, and half of all coin flips will land tails.\n",
    "\n",
    "Run the following cell to see the simulation of 10 flips of a fair coin. Let the first item of `coin_proportions` be the proportion of heads and the second item of `coin_proportions` be the proportion of tails."
   ]
  },
  {
   "cell_type": "code",
   "execution_count": 11,
   "metadata": {
    "executionInfo": {
     "elapsed": 313,
     "status": "ok",
     "timestamp": 1605392284577,
     "user": {
      "displayName": "Prabin Sapkota",
      "photoUrl": "https://lh6.googleusercontent.com/-doP6HgypWoA/AAAAAAAAAAI/AAAAAAAAADs/IVE1vPXCX6U/s64/photo.jpg",
      "userId": "10525827673897210712"
     },
     "user_tz": 300
    },
    "id": "NfrrEEJ8UwZi"
   },
   "outputs": [],
   "source": [
    "coin_proportions = [0.5,0.5]\n",
    "ten_flips = sample_proportions(10, coin_proportions)\n",
    "#ten_flips"
   ]
  },
  {
   "cell_type": "markdown",
   "metadata": {
    "id": "ncd96IX1UwZk"
   },
   "source": [
    "`sample_proportions` returns an array that is the same length as the proportion array that is passed through. It contains the proportion of each category that appears in the sample. \n",
    "\n",
    "In our example, the first item of `ten_flips` is the simulated proportion of heads and the second item of `ten_flips` is the simulated proportion of tails."
   ]
  },
  {
   "cell_type": "code",
   "execution_count": 12,
   "metadata": {
    "colab": {
     "base_uri": "https://localhost:8080/"
    },
    "executionInfo": {
     "elapsed": 285,
     "status": "ok",
     "timestamp": 1605392288651,
     "user": {
      "displayName": "Prabin Sapkota",
      "photoUrl": "https://lh6.googleusercontent.com/-doP6HgypWoA/AAAAAAAAAAI/AAAAAAAAADs/IVE1vPXCX6U/s64/photo.jpg",
      "userId": "10525827673897210712"
     },
     "user_tz": 300
    },
    "id": "nMNcOMdjUwZl",
    "outputId": "c528474e-7d45-449d-b96b-fa48f737f66f"
   },
   "outputs": [
    {
     "name": "stdout",
     "output_type": "stream",
     "text": [
      "In our simluation, 0.6 of flips were heads and 0.4 of flips were tails.\n"
     ]
    }
   ],
   "source": [
    "simluated_proportion_heads = ten_flips[0]\n",
    "simluated_proportion_tails = ten_flips[1]\n",
    "\n",
    "print(\"In our simluation, \" + str(simluated_proportion_heads) + \" of flips were heads and \" \\\n",
    "     + str(simluated_proportion_tails) + \" of flips were tails.\")"
   ]
  },
  {
   "cell_type": "markdown",
   "metadata": {
    "id": "CiPCVB0hUwZn"
   },
   "source": [
    "**Question 7:** To begin simulating, we should start by creating a representation of Emily's model to use for our simulation. This will be an array with two items in it. The first item should be the proportion of times, assuming that Emily’s model was correct, a TT practictioner picks the correct hand. The second item should be the proportion of times, under the same assumption, that the TT practitioner picks the incorrect hand. Assign `model_proportions` to this array. \n",
    "\n",
    "After this, we can simulate 210 hand choices, as Emily evaluated in real life, and find a single statistic to summarize this instance of the simulation. Use the `sample_proportions` function and assign the proportion of correct hand choices (out of 210) to `simulation_proportion_correct`. Lastly, use your statistic function to assign `one_statistic`  to the value of the statistic for this one simulation."
   ]
  },
  {
   "cell_type": "code",
   "execution_count": 13,
   "metadata": {
    "colab": {
     "base_uri": "https://localhost:8080/"
    },
    "executionInfo": {
     "elapsed": 270,
     "status": "ok",
     "timestamp": 1605392296052,
     "user": {
      "displayName": "Prabin Sapkota",
      "photoUrl": "https://lh6.googleusercontent.com/-doP6HgypWoA/AAAAAAAAAAI/AAAAAAAAADs/IVE1vPXCX6U/s64/photo.jpg",
      "userId": "10525827673897210712"
     },
     "user_tz": 300
    },
    "id": "R6uFjJ53UwZn",
    "outputId": "436a3854-ed38-4279-c6b5-ee60b2cdfe9c"
   },
   "outputs": [
    {
     "data": {
      "text/plain": [
       "0.0"
      ]
     },
     "execution_count": 13,
     "metadata": {},
     "output_type": "execute_result"
    }
   ],
   "source": [
    "model_proportions = [0.5, 0.5] \n",
    "sample_size = 210\n",
    "simulation_proportion_correct = sample_proportions(sample_size, model_proportions)\n",
    "one_statistic = statistic(simulation_proportion_correct.item(0), simulation_proportion_correct.item(1)) \n",
    "one_statistic"
   ]
  },
  {
   "cell_type": "markdown",
   "metadata": {
    "id": "lwGk-OMPUwZp"
   },
   "source": [
    "**Question 8:** Let's now see what the distribution of statistics is actually like under Emily's model. \n",
    "\n",
    "Define the function `simulation_and_statistic` to take in the `model_proportions` array and the expected proportion of times a TT practitioner would guess a hand correctly under Emily's model. The function should simulate Emily running through the experiment 210 times and return the statistic of this one simulation. \n",
    "\n",
    "*Hint:* This should follow the same pattern as the code you did in the previous problem.  "
   ]
  },
  {
   "cell_type": "code",
   "execution_count": 14,
   "metadata": {
    "colab": {
     "base_uri": "https://localhost:8080/"
    },
    "executionInfo": {
     "elapsed": 344,
     "status": "ok",
     "timestamp": 1605392307159,
     "user": {
      "displayName": "Prabin Sapkota",
      "photoUrl": "https://lh6.googleusercontent.com/-doP6HgypWoA/AAAAAAAAAAI/AAAAAAAAADs/IVE1vPXCX6U/s64/photo.jpg",
      "userId": "10525827673897210712"
     },
     "user_tz": 300
    },
    "id": "tmnW5B9oUwZp",
    "outputId": "9436806b-fa5a-481c-d263-9596cde679f9"
   },
   "outputs": [
    {
     "name": "stdout",
     "output_type": "stream",
     "text": [
      "4.761904761904767\n"
     ]
    }
   ],
   "source": [
    "def simulation_and_statistic(model_proportions, expected_proportion_correct):\n",
    "    '''Simulates 210 TT hand choices under Emily’s model. \n",
    "    Returns one statistic from the simulation.'''\n",
    "    \n",
    "    simulation_proportion_correct = sample_proportions(210, model_proportions)\n",
    "    return statistic(simulation_proportion_correct.item(0), simulation_proportion_correct.item(1)) \n",
    "  \n",
    "one_simulation_stat = simulation_and_statistic(model_proportions, expected_proportion_correct)\n",
    "print(one_simulation_stat)"
   ]
  },
  {
   "cell_type": "markdown",
   "metadata": {
    "id": "CVaKCFzgUwZr"
   },
   "source": [
    "Using this function, assign `simulated_statistics` to an array of 1000 statistics that you calculated under the assumption that Emily's model was true."
   ]
  },
  {
   "cell_type": "code",
   "execution_count": 15,
   "metadata": {
    "colab": {
     "base_uri": "https://localhost:8080/"
    },
    "executionInfo": {
     "elapsed": 346,
     "status": "ok",
     "timestamp": 1605392342010,
     "user": {
      "displayName": "Prabin Sapkota",
      "photoUrl": "https://lh6.googleusercontent.com/-doP6HgypWoA/AAAAAAAAAAI/AAAAAAAAADs/IVE1vPXCX6U/s64/photo.jpg",
      "userId": "10525827673897210712"
     },
     "user_tz": 300
    },
    "id": "Dv5_wwI6UwZs",
    "outputId": "139a976d-6dec-4675-e246-55120569019d"
   },
   "outputs": [
    {
     "name": "stdout",
     "output_type": "stream",
     "text": [
      "[7.619047619047614, -3.809523809523813, -1.9047619047619035, 4.761904761904767, -9.523809523809529, -7.619047619047614, 10.476190476190478, 7.619047619047614, -2.8571428571428523, -8.57142857142857, 3.809523809523813, 2.8571428571428523, -3.809523809523813, -14.285714285714285, 0.952380952380949, -3.809523809523813, 1.9047619047619035, 13.33333333333333, 0.0, -11.428571428571432, -2.8571428571428523, 2.8571428571428523, -7.619047619047614, 12.380952380952381, 5.714285714285716, -2.8571428571428523, 1.9047619047619035, -8.57142857142857, 0.0, 2.8571428571428523, -0.952380952380949, 10.476190476190478, 2.8571428571428523, 6.666666666666665, -4.761904761904767, -1.9047619047619035, 14.285714285714285, -12.380952380952381, 11.428571428571432, -1.9047619047619035, 3.809523809523813, 4.761904761904767, 8.57142857142857, -9.523809523809529, -5.714285714285716, 11.428571428571432, -7.619047619047614, 13.33333333333333, 5.714285714285716, -3.809523809523813, -1.9047619047619035, 3.809523809523813, -11.428571428571432, 2.8571428571428523, 0.952380952380949, 9.523809523809529, 0.0, 0.0, 3.809523809523813, 6.666666666666665, 4.761904761904767, 8.57142857142857, 11.428571428571432, 11.428571428571432, -3.809523809523813, 3.809523809523813, 7.619047619047614, 16.190476190476193, -7.619047619047614, 2.8571428571428523, -8.57142857142857, -2.8571428571428523, -6.666666666666665, 3.809523809523813, 7.619047619047614, 10.476190476190478, -10.476190476190478, -7.619047619047614, -2.8571428571428523, 1.9047619047619035, 3.809523809523813, 3.809523809523813, -15.238095238095234, -2.8571428571428523, 0.0, 5.714285714285716, -7.619047619047614, 0.0, 0.0, -4.761904761904767, -1.9047619047619035, -2.8571428571428523, -3.809523809523813, 9.523809523809529, 9.523809523809529, 6.666666666666665, -12.380952380952381, -4.761904761904767, -8.57142857142857, -9.523809523809529, 0.0, -2.8571428571428523, -1.9047619047619035, -6.666666666666665, 5.714285714285716, 6.666666666666665, 4.761904761904767, 1.9047619047619035, -8.57142857142857, 6.666666666666665, 3.809523809523813, 5.714285714285716, -0.952380952380949, -7.619047619047614, 1.9047619047619035, -6.666666666666665, 1.9047619047619035, -2.8571428571428523, -3.809523809523813, 16.190476190476193, -11.428571428571432, 14.285714285714285, -2.8571428571428523, -3.809523809523813, -1.9047619047619035, 0.952380952380949, 0.0, 4.761904761904767, 0.0, -0.952380952380949, -9.523809523809529, 2.8571428571428523, 2.8571428571428523, 6.666666666666665, -7.619047619047614, -3.809523809523813, 11.428571428571432, 5.714285714285716, 0.952380952380949, -9.523809523809529, -3.809523809523813, 7.619047619047614, 3.809523809523813, -0.952380952380949, 3.809523809523813, 8.57142857142857, 4.761904761904767, 6.666666666666665, -5.714285714285716, -17.142857142857142, 12.380952380952381, -1.9047619047619035, 7.619047619047614, 13.33333333333333, 7.619047619047614, 4.761904761904767, 5.714285714285716, -7.619047619047614, 0.952380952380949, 2.8571428571428523, -4.761904761904767, -2.8571428571428523, 2.8571428571428523, -4.761904761904767, -1.9047619047619035, 0.952380952380949, 8.57142857142857, -11.428571428571432, -1.9047619047619035, -2.8571428571428523, -6.666666666666665, -8.57142857142857, -9.523809523809529, -2.8571428571428523, -4.761904761904767, 3.809523809523813, -14.285714285714285, -7.619047619047614, -4.761904761904767, 2.8571428571428523, 9.523809523809529, -11.428571428571432, -6.666666666666665, 3.809523809523813, 3.809523809523813, -5.714285714285716, -7.619047619047614, -1.9047619047619035, 1.9047619047619035, -8.57142857142857, 3.809523809523813, 3.809523809523813, -9.523809523809529, 0.952380952380949, -6.666666666666665, -5.714285714285716, -4.761904761904767, 6.666666666666665, -14.285714285714285, 3.809523809523813, 1.9047619047619035, 10.476190476190478, -5.714285714285716, 11.428571428571432, -4.761904761904767, -1.9047619047619035, 0.952380952380949, 8.57142857142857, -5.714285714285716, 7.619047619047614, 3.809523809523813, 5.714285714285716, 0.952380952380949, -1.9047619047619035, -8.57142857142857, -2.8571428571428523, -0.952380952380949, 2.8571428571428523, -1.9047619047619035, 0.0, -1.9047619047619035, 2.8571428571428523, -6.666666666666665, -3.809523809523813, -2.8571428571428523, -5.714285714285716, 1.9047619047619035, 0.952380952380949, 2.8571428571428523, -1.9047619047619035, 9.523809523809529, 1.9047619047619035, -2.8571428571428523, -2.8571428571428523, -8.57142857142857, -0.952380952380949, 2.8571428571428523, 9.523809523809529, 0.952380952380949, 12.380952380952381, -5.714285714285716, 0.952380952380949, -7.619047619047614, -3.809523809523813, 0.0, -15.238095238095234, -3.809523809523813, 0.952380952380949, 9.523809523809529, -1.9047619047619035, -5.714285714285716, 1.9047619047619035, 3.809523809523813, -5.714285714285716, -4.761904761904767, -3.809523809523813, 3.809523809523813, -6.666666666666665, 1.9047619047619035, 5.714285714285716, 0.0, -6.666666666666665, -0.952380952380949, 0.952380952380949, -1.9047619047619035, -7.619047619047614, 4.761904761904767, -1.9047619047619035, 0.952380952380949, 1.9047619047619035, 0.0, 17.142857142857142, -3.809523809523813, 10.476190476190478, 8.57142857142857, 0.952380952380949, -3.809523809523813, 6.666666666666665, 5.714285714285716, -4.761904761904767, 11.428571428571432, 0.952380952380949, 5.714285714285716, -3.809523809523813, -8.57142857142857, 1.9047619047619035, -8.57142857142857, 2.8571428571428523, 0.0, -0.952380952380949, -0.952380952380949, -13.33333333333333, -2.8571428571428523, 3.809523809523813, 14.285714285714285, -11.428571428571432, -14.285714285714285, 11.428571428571432, -5.714285714285716, 12.380952380952381, 0.952380952380949, -2.8571428571428523, 3.809523809523813, 3.809523809523813, 7.619047619047614, -8.57142857142857, 5.714285714285716, -0.952380952380949, -1.9047619047619035, -14.285714285714285, -2.8571428571428523, 3.809523809523813, -5.714285714285716, 8.57142857142857, 3.809523809523813, -4.761904761904767, 2.8571428571428523, -13.33333333333333, 2.8571428571428523, -5.714285714285716, 4.761904761904767, 14.285714285714285, -7.619047619047614, 9.523809523809529, -11.428571428571432, 0.0, -5.714285714285716, 4.761904761904767, 1.9047619047619035, 0.952380952380949, 1.9047619047619035, 2.8571428571428523, 0.952380952380949, 3.809523809523813, -10.476190476190478, 12.380952380952381, -1.9047619047619035, 2.8571428571428523, 16.190476190476193, -5.714285714285716, 0.952380952380949, -7.619047619047614, -14.285714285714285, -2.8571428571428523, 5.714285714285716, 2.8571428571428523, -4.761904761904767, 2.8571428571428523, 0.0, 5.714285714285716, 5.714285714285716, 3.809523809523813, -3.809523809523813, 6.666666666666665, -1.9047619047619035, -5.714285714285716, -1.9047619047619035, -2.8571428571428523, -1.9047619047619035, 7.619047619047614, -1.9047619047619035, -4.761904761904767, 3.809523809523813, -1.9047619047619035, -9.523809523809529, 12.380952380952381, 3.809523809523813, -3.809523809523813, -1.9047619047619035, -4.761904761904767, 2.8571428571428523, 0.952380952380949, -1.9047619047619035, 0.952380952380949, 0.0, 9.523809523809529, -1.9047619047619035, -5.714285714285716, -4.761904761904767, -3.809523809523813, 1.9047619047619035, -6.666666666666665, -3.809523809523813, -9.523809523809529, 4.761904761904767, 1.9047619047619035, -1.9047619047619035, 0.0, -7.619047619047614, -0.952380952380949, -9.523809523809529, -2.8571428571428523, 2.8571428571428523, -1.9047619047619035, -14.285714285714285, -3.809523809523813, 0.0, 18.0952380952381, -6.666666666666665, 1.9047619047619035, -12.380952380952381, 1.9047619047619035, 2.8571428571428523, 6.666666666666665, 1.9047619047619035, -6.666666666666665, -1.9047619047619035, 2.8571428571428523, -11.428571428571432, -7.619047619047614, 6.666666666666665, 0.0, 7.619047619047614, -4.761904761904767, 7.619047619047614, 8.57142857142857, -8.57142857142857, 1.9047619047619035, -8.57142857142857, -0.952380952380949, 3.809523809523813, 0.952380952380949, -10.476190476190478, -4.761904761904767, -3.809523809523813, 1.9047619047619035, 4.761904761904767, -3.809523809523813, 15.238095238095234, 3.809523809523813, -11.428571428571432, -5.714285714285716, 0.952380952380949, -5.714285714285716, 15.238095238095234, 11.428571428571432, 2.8571428571428523, -0.952380952380949, -10.476190476190478, 0.0, -10.476190476190478, 2.8571428571428523, -10.476190476190478, -0.952380952380949, -2.8571428571428523, -0.952380952380949, 1.9047619047619035, -2.8571428571428523, -5.714285714285716, -2.8571428571428523, -1.9047619047619035, -6.666666666666665, -5.714285714285716, -9.523809523809529, 0.952380952380949, 15.238095238095234, 6.666666666666665, 8.57142857142857, 7.619047619047614, -1.9047619047619035, -10.476190476190478, 3.809523809523813, 0.952380952380949, 7.619047619047614, 12.380952380952381, 2.8571428571428523, -0.952380952380949, 0.952380952380949, -8.57142857142857, 10.476190476190478, 2.8571428571428523, 10.476190476190478, -0.952380952380949, 4.761904761904767, -6.666666666666665, -0.952380952380949, 0.0, -0.952380952380949, -0.952380952380949, 5.714285714285716, -0.952380952380949, -3.809523809523813, 6.666666666666665, -2.8571428571428523, 8.57142857142857, 2.8571428571428523, -4.761904761904767, 2.8571428571428523, -3.809523809523813, 2.8571428571428523, 1.9047619047619035, 7.619047619047614, -8.57142857142857, -6.666666666666665, -1.9047619047619035, 9.523809523809529, 0.0, -11.428571428571432, 4.761904761904767, -9.523809523809529, 9.523809523809529, -5.714285714285716, -7.619047619047614, 2.8571428571428523, 0.952380952380949, 0.0, -1.9047619047619035, 0.0, -3.809523809523813, -0.952380952380949, 4.761904761904767, 3.809523809523813, 9.523809523809529, -3.809523809523813, 0.952380952380949, 0.952380952380949, -1.9047619047619035, 3.809523809523813, -1.9047619047619035, -17.142857142857142, 18.0952380952381, 4.761904761904767, -9.523809523809529, 6.666666666666665, 10.476190476190478, -6.666666666666665, 6.666666666666665, -0.952380952380949, 0.0, -4.761904761904767, -5.714285714285716, 5.714285714285716, -1.9047619047619035, 0.0, -5.714285714285716, -4.761904761904767, 9.523809523809529, -9.523809523809529, 0.952380952380949, -13.33333333333333, 7.619047619047614, 7.619047619047614, -10.476190476190478, 0.0, 10.476190476190478, -1.9047619047619035, -0.952380952380949, -6.666666666666665, 9.523809523809529, 4.761904761904767, 2.8571428571428523, 3.809523809523813, -6.666666666666665, -7.619047619047614, 8.57142857142857, 3.809523809523813, -0.952380952380949, -3.809523809523813, 12.380952380952381, 7.619047619047614, 3.809523809523813, -15.238095238095234, 6.666666666666665, 20.95238095238095, 12.380952380952381, 7.619047619047614, 1.9047619047619035, -2.8571428571428523, 5.714285714285716, 0.952380952380949, 2.8571428571428523, 10.476190476190478, 0.952380952380949, -2.8571428571428523, 0.0, 1.9047619047619035, -7.619047619047614, 11.428571428571432, -2.8571428571428523, -1.9047619047619035, 9.523809523809529, 6.666666666666665, -2.8571428571428523, -4.761904761904767, -5.714285714285716, 1.9047619047619035, 6.666666666666665, 17.142857142857142, 1.9047619047619035, -0.952380952380949, -8.57142857142857, 4.761904761904767, -3.809523809523813, -3.809523809523813, -4.761904761904767, 8.57142857142857, 4.761904761904767, 8.57142857142857, 2.8571428571428523, 2.8571428571428523, 4.761904761904767, 7.619047619047614, 2.8571428571428523, 1.9047619047619035, 0.952380952380949, 14.285714285714285, 4.761904761904767, -5.714285714285716, -0.952380952380949, 7.619047619047614, -5.714285714285716, -8.57142857142857, 2.8571428571428523, 18.0952380952381, 11.428571428571432, -10.476190476190478, 1.9047619047619035, 0.0, -4.761904761904767, -6.666666666666665, -11.428571428571432, -12.380952380952381, -8.57142857142857, 15.238095238095234, 5.714285714285716, 11.428571428571432, 8.57142857142857, 0.0, -0.952380952380949, 7.619047619047614, -5.714285714285716, 4.761904761904767, -1.9047619047619035, -2.8571428571428523, -4.761904761904767, 4.761904761904767, -2.8571428571428523, -8.57142857142857, 0.952380952380949, 4.761904761904767, -7.619047619047614, -1.9047619047619035, 7.619047619047614, 3.809523809523813, 1.9047619047619035, 4.761904761904767, 0.0, 0.952380952380949, -2.8571428571428523, -2.8571428571428523, -4.761904761904767, 4.761904761904767, -6.666666666666665, -5.714285714285716, 4.761904761904767, 7.619047619047614, -3.809523809523813, -14.285714285714285, 8.57142857142857, -18.0952380952381, 0.0, -2.8571428571428523, -1.9047619047619035, -2.8571428571428523, 6.666666666666665, 4.761904761904767, 11.428571428571432, 0.952380952380949, -3.809523809523813, -0.952380952380949, 6.666666666666665, 5.714285714285716, -4.761904761904767, -7.619047619047614, 1.9047619047619035, -8.57142857142857, 1.9047619047619035, 8.57142857142857, 6.666666666666665, -0.952380952380949, -5.714285714285716, 7.619047619047614, 14.285714285714285, -4.761904761904767, 9.523809523809529, -7.619047619047614, 2.8571428571428523, 19.999999999999996, 3.809523809523813, -2.8571428571428523, -3.809523809523813, -5.714285714285716, 4.761904761904767, -12.380952380952381, -4.761904761904767, -0.952380952380949, 4.761904761904767, 8.57142857142857, -1.9047619047619035, 0.952380952380949, -4.761904761904767, 5.714285714285716, 0.952380952380949, 1.9047619047619035, -19.999999999999996, 5.714285714285716, -16.190476190476193, -2.8571428571428523, 13.33333333333333, -6.666666666666665, -1.9047619047619035, 9.523809523809529, 4.761904761904767, 6.666666666666665, 4.761904761904767, -5.714285714285716, 1.9047619047619035, -5.714285714285716, 0.0, 0.0, 16.190476190476193, 1.9047619047619035, -14.285714285714285, 8.57142857142857, 0.0, -6.666666666666665, -12.380952380952381, 3.809523809523813, -2.8571428571428523, 1.9047619047619035, -1.9047619047619035, -3.809523809523813, -10.476190476190478, -3.809523809523813, -2.8571428571428523, -7.619047619047614, 8.57142857142857, 3.809523809523813, -10.476190476190478, 7.619047619047614, 5.714285714285716, 5.714285714285716, -10.476190476190478, 3.809523809523813, -5.714285714285716, 1.9047619047619035, -5.714285714285716, -0.952380952380949, 0.0, -2.8571428571428523, 7.619047619047614, 0.952380952380949, 0.0, -2.8571428571428523, 0.0, 4.761904761904767, -11.428571428571432, -8.57142857142857, 12.380952380952381, 6.666666666666665, 1.9047619047619035, 4.761904761904767, -8.57142857142857, 3.809523809523813, 1.9047619047619035, 6.666666666666665, -1.9047619047619035, -15.238095238095234, -3.809523809523813, 2.8571428571428523, 13.33333333333333, 12.380952380952381, -15.238095238095234, 2.8571428571428523, 14.285714285714285, -17.142857142857142, 6.666666666666665, -6.666666666666665, 7.619047619047614, 0.0, 4.761904761904767, 4.761904761904767, -13.33333333333333, -2.8571428571428523, 3.809523809523813, 2.8571428571428523, -7.619047619047614, -4.761904761904767, 1.9047619047619035, 1.9047619047619035, 4.761904761904767, 0.952380952380949, 4.761904761904767, 13.33333333333333, 6.666666666666665, 7.619047619047614, 13.33333333333333, 0.0, -4.761904761904767, 1.9047619047619035, -3.809523809523813, 12.380952380952381, -17.142857142857142, 0.952380952380949, 0.952380952380949, 7.619047619047614, -5.714285714285716, 1.9047619047619035, 1.9047619047619035, -4.761904761904767, -0.952380952380949, 0.0, 12.380952380952381, -2.8571428571428523, -2.8571428571428523, 14.285714285714285, 2.8571428571428523, 19.047619047619047, 2.8571428571428523, 7.619047619047614, 0.952380952380949, 14.285714285714285, 0.0, 1.9047619047619035, -3.809523809523813, -0.952380952380949, 2.8571428571428523, -4.761904761904767, -0.952380952380949, -3.809523809523813, 2.8571428571428523, -8.57142857142857, 4.761904761904767, 3.809523809523813, -1.9047619047619035, 2.8571428571428523, 0.952380952380949, -7.619047619047614, 15.238095238095234, -1.9047619047619035, 5.714285714285716, 1.9047619047619035, -3.809523809523813, 11.428571428571432, -9.523809523809529, -7.619047619047614, -4.761904761904767, 3.809523809523813, 6.666666666666665, 3.809523809523813, -0.952380952380949, -6.666666666666665, -0.952380952380949, -11.428571428571432, -5.714285714285716, -4.761904761904767, 4.761904761904767, 3.809523809523813, -5.714285714285716, 12.380952380952381, 0.0, 16.190476190476193, 8.57142857142857, -7.619047619047614, 4.761904761904767, 2.8571428571428523, 20.95238095238095, 6.666666666666665, -4.761904761904767, -3.809523809523813, 15.238095238095234, -1.9047619047619035, -5.714285714285716, -5.714285714285716, -1.9047619047619035, -2.8571428571428523, 3.809523809523813, -5.714285714285716, 7.619047619047614, -7.619047619047614, 0.0, -9.523809523809529, 0.0, -0.952380952380949, -3.809523809523813, 15.238095238095234, -2.8571428571428523, -2.8571428571428523, -5.714285714285716, 9.523809523809529, 2.8571428571428523, 3.809523809523813, 2.8571428571428523, 11.428571428571432, -7.619047619047614, 0.952380952380949, -3.809523809523813, 4.761904761904767, 1.9047619047619035, 3.809523809523813, -9.523809523809529, 2.8571428571428523, 2.8571428571428523, 0.952380952380949, 0.0, 5.714285714285716, -2.8571428571428523, -4.761904761904767, -3.809523809523813, -1.9047619047619035, -13.33333333333333, 0.0, -8.57142857142857, -7.619047619047614, -7.619047619047614, 5.714285714285716, -10.476190476190478, 0.952380952380949, -9.523809523809529, 11.428571428571432, -0.952380952380949, 0.952380952380949, -5.714285714285716, -0.952380952380949, -2.8571428571428523, 3.809523809523813, -0.952380952380949, 13.33333333333333, -1.9047619047619035, -2.8571428571428523, -0.952380952380949, -0.952380952380949, -4.761904761904767, 0.952380952380949, 15.238095238095234, -9.523809523809529, 0.0, 5.714285714285716, -0.952380952380949, -4.761904761904767, -2.8571428571428523, 0.952380952380949, 3.809523809523813, 7.619047619047614, 3.809523809523813, -14.285714285714285, 1.9047619047619035, -4.761904761904767, -4.761904761904767, 3.809523809523813, -11.428571428571432, -0.952380952380949, 1.9047619047619035, 0.0, -8.57142857142857, 5.714285714285716, -7.619047619047614, -4.761904761904767, 3.809523809523813, -2.8571428571428523, 2.8571428571428523, -7.619047619047614, -19.999999999999996, 11.428571428571432, 7.619047619047614, 2.8571428571428523, -7.619047619047614, 5.714285714285716, 5.714285714285716, 10.476190476190478, -2.8571428571428523, -14.285714285714285, 2.8571428571428523, -0.952380952380949, -7.619047619047614, -12.380952380952381, -6.666666666666665, -4.761904761904767, 4.761904761904767, 0.952380952380949, 8.57142857142857, 5.714285714285716, 0.952380952380949, 0.952380952380949, 8.57142857142857, -3.809523809523813, -10.476190476190478, 7.619047619047614, -7.619047619047614, -3.809523809523813, -18.0952380952381, -10.476190476190478, 5.714285714285716, 6.666666666666665, -0.952380952380949, 3.809523809523813, 13.33333333333333, -5.714285714285716, 6.666666666666665, 4.761904761904767]\n"
     ]
    }
   ],
   "source": [
    "num_repetitions = 1000\n",
    "\n",
    "simulated_statistics = [] \n",
    "\n",
    "for i in range(num_repetitions):\n",
    "  simulated_statistics.append(simulation_and_statistic(model_proportions, expected_proportion_correct))\n",
    "  \n",
    "print(simulated_statistics) "
   ]
  },
  {
   "cell_type": "markdown",
   "metadata": {
    "id": "Sh_DohBAUwZu"
   },
   "source": [
    "**Question 9:** Create a percent distribution histogram of your `simulated_statistics`. Be sure to label all parts of your plot."
   ]
  },
  {
   "cell_type": "code",
   "execution_count": 16,
   "metadata": {
    "colab": {
     "base_uri": "https://localhost:8080/",
     "height": 324
    },
    "executionInfo": {
     "elapsed": 443,
     "status": "ok",
     "timestamp": 1605392407734,
     "user": {
      "displayName": "Prabin Sapkota",
      "photoUrl": "https://lh6.googleusercontent.com/-doP6HgypWoA/AAAAAAAAAAI/AAAAAAAAADs/IVE1vPXCX6U/s64/photo.jpg",
      "userId": "10525827673897210712"
     },
     "user_tz": 300
    },
    "id": "uDsMfxffUwZu",
    "outputId": "79a3771c-cc26-4363-9623-bc0eb53028a6"
   },
   "outputs": [
    {
     "data": {
      "image/png": "[encoded data removed]",
      "text/plain": [
       "<Figure size 432x288 with 1 Axes>"
      ]
     },
     "metadata": {},
     "output_type": "display_data"
    }
   ],
   "source": [
    "print_histogram(simulated_statistics, \"Distribution of TT practitioners\", \"Expected minus actual percent correct\", \"Frequency\")"
   ]
  },
  {
   "cell_type": "markdown",
   "metadata": {
    "id": "yGPrJBRnUwZw"
   },
   "source": [
    "We can make a visual argument as to whether we believe the observed statistic is consistent with Emily’s model. Here, since larger values of the test statistic suggest the alternative model (where the chance of guessing the correct hand is something other than 50%), we can formalize our analysis by finding what proportion of simulated statistics were as large or larger than our observed test statistic (the area at or to the right of the observed test statistic). If this area is small enough, we’ll declare that the observed data are inconsistent with our simulated model."
   ]
  },
  {
   "cell_type": "markdown",
   "metadata": {
    "id": "bAodPnuDUwZw"
   },
   "source": [
    "**Question 10:** Calculate the proportion of simulated statistics greater than or equal to the observed statistic. \n"
   ]
  },
  {
   "cell_type": "code",
   "execution_count": 17,
   "metadata": {
    "colab": {
     "base_uri": "https://localhost:8080/"
    },
    "executionInfo": {
     "elapsed": 263,
     "status": "ok",
     "timestamp": 1605393176971,
     "user": {
      "displayName": "Prabin Sapkota",
      "photoUrl": "https://lh6.googleusercontent.com/-doP6HgypWoA/AAAAAAAAAAI/AAAAAAAAADs/IVE1vPXCX6U/s64/photo.jpg",
      "userId": "10525827673897210712"
     },
     "user_tz": 300
    },
    "id": "Hs4y-FFcUwZw",
    "outputId": "015b3982-5e84-4440-a8f5-ab9c3f59351a"
   },
   "outputs": [
    {
     "name": "stdout",
     "output_type": "stream",
     "text": [
      "6\n"
     ]
    },
    {
     "data": {
      "text/plain": [
       "0.159"
      ]
     },
     "execution_count": 17,
     "metadata": {},
     "output_type": "execute_result"
    }
   ],
   "source": [
    "observed_expected_minus_actual  = 50 - 44\n",
    "print(observed_expected_minus_actual)\n",
    "\n",
    "proportion_greater_or_equal = (4*130 + 5*45 + 10*5) / (10*220 + 5*190 + 5*130 + 5*45 + 10*5 + 5*120 + 5*40 + 5*25)\n",
    "proportion_greater_or_equal"
   ]
  },
  {
   "cell_type": "markdown",
   "metadata": {
    "id": "H_3pGwz1UwZy"
   },
   "source": [
    "By convention, we often compare the proportion we just calculated to 0.05. If the proportion of simulated statistics greater than or equal to the observed statistic is sufficiently small (less than or equal to 0.05), then this is evidence against Emily's model. Otherwise, we don’t have any reason to doubt Emily’s model.\n",
    "\n",
    "This should help you make your own conclusions about Emily Rosa's experiment.\n",
    "\n",
    "Therapeutic touch fell out of use after this experiment, which was eventually accepted into one of the premier medical journals. TT practitioners hit back and accused Emily and her family of tampering with the results, while some claimed that Emily's bad spiritual mood towards therapeutic touch made it difficult to read her HEF. Whatever it may be, Emily's experiment is a classic example about how anyone, with the right resources, can test anything they want!\n",
    "\n",
    "Think to yourself about the following questions:\n",
    "\n",
    "1. Is the data more consistent with Emily' model (practioners were randomly guessing)?\n",
    "2. What does this mean in terms of Emily's experiment? Do the TT practitioners' answers follow an even chance model or is there something else at play? "
   ]
  },
  {
   "cell_type": "markdown",
   "metadata": {
    "id": "EWdB-MrVEvlP"
   },
   "source": [
    "1) Yes, the  data is consistent with Emily's model which means that the practitioners were randomly gussing. This comes from the proportion 0.159 being more than the accepted 0.05  proportion in the histogram when we calculate the area towards the right of previously obsereved correctness of the TT professional.\n",
    "\n",
    "2) TT Practitioners will always try to prove their practise valid but that is lead by their self interest, however Emily's experiment is driven with data and she has tried to reduce her personal bias with randomizing the hand she gives by flipping a coin for it. Therfore, I think Emily's experiment holds a better significance than the answers by practitioners."
   ]
  }
 ],
 "metadata": {
  "colab": {
   "collapsed_sections": [],
   "name": "Lab 10 - October 15.ipynb",
   "provenance": []
  },
  "kernelspec": {
   "display_name": "Python 3",
   "language": "python",
   "name": "python3"
  },
  "language_info": {
   "codemirror_mode": {
    "name": "ipython",
    "version": 3
   },
   "file_extension": ".py",
   "mimetype": "text/x-python",
   "name": "python",
   "nbconvert_exporter": "python",
   "pygments_lexer": "ipython3",
   "version": "3.8.6"
  }
 },
 "nbformat": 4,
 "nbformat_minor": 1
}
