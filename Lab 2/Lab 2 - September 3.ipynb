{
 "cells": [
  {
   "cell_type": "markdown",
   "metadata": {
    "collapsed": true
   },
   "source": [
    "# Lab 2: Tables and Histograms"
   ]
  },
  {
   "cell_type": "markdown",
   "metadata": {},
   "source": [
    "Welcome to Lab 2 !\n",
    "\n",
    "In this lab we will go over:\n",
    "\n",
    "   **1) Loading and Manipulating Tables**\n",
    "    \n",
    "   **2) Creating Tables**\n",
    "    \n",
    "   **3) Histograms**\n"
   ]
  },
  {
   "cell_type": "markdown",
   "metadata": {},
   "source": [
    "## 1. Loading and Manipulating Tables\n",
    "\n",
    "\n",
    "### DataFrame functions and attributes\n",
    "\n",
    "A **DataFrame**, or better known as a **table**, is a two-dimensional tabular data structure with labeled columns and rows. Similar to spreadsheets, a data frame provides a way to store data in a way that's easily sorted and categorized. A data frame has four components: \n",
    "\n",
    "   **(1) indexes** \n",
    "    \n",
    "   **(2) columns**\n",
    "    \n",
    "   **(3) values**\n",
    "   \n",
    "   **(4) rows**\n",
    "    \n",
    "A data frame's index is the set of row labels. The index can have a name, which would be located in the first row and column of the data frame. A data frame's columns are the labels of the column data. The data contained in a data frame are also known as values. Although a value may indicate numerical data such as float or int, a value can also be a string or datetime. Finally, a rows contains information about one individual or element in the table. \n",
    "\n",
    "\n",
    "The first thing that we'll do is import the **pandas** library and assign it to **pd**  using **`import pandas as pd`**.\n",
    "\n",
    "Next, we will load our two tables into some variable names using **`pd.read_csv()`**, with the name of our table going into the parameters, and store them into a proper variable name. \n",
    "\n",
    "**Note:** We can also load tables using **`pd.read_table()`**, but the columns will not be delimited. Best to stick to the first method.\n",
    "\n",
    "The tables that we will be extracting data from is called **farmers_markets.csv** and **titanic.csv** Be sure to spell it correctly or the cell won't run.\n",
    "\n",
    "Run the cells below."
   ]
  },
  {
   "cell_type": "code",
   "execution_count": 4,
   "metadata": {},
   "outputs": [],
   "source": [
    "import pandas as pd\n",
    "fmarkets = pd.read_csv(\"farmers_markets.csv\")\n",
    "titanic = pd.read_csv(\"titanic.csv\")\n",
    "#titanic"
   ]
  },
  {
   "cell_type": "markdown",
   "metadata": {},
   "source": [
    "A good practice when first looking at a dataset is to take a look at the number of rows and columns in the dataset.\n",
    "\n",
    "We do this by calling a pandas attribute function called **`.shape`**. The **`.shape`** attribute function gives the number of rows and columns in that order.\n",
    "\n",
    "Run the cells below to see how shape is used."
   ]
  },
  {
   "cell_type": "code",
   "execution_count": 5,
   "metadata": {},
   "outputs": [
    {
     "name": "stdout",
     "output_type": "stream",
     "text": [
      "The farmers markets dataset has a shape of (8546, 59)\n",
      "The farmers markets dataset has 8546 rows, and 59 columns\n",
      "The titanic dataset has a shape of (891, 12)\n",
      "The titanic dataset has 891 rows, and 12 columns\n"
     ]
    }
   ],
   "source": [
    "print(\"The farmers markets dataset has a shape of\", fmarkets.shape)\n",
    "print(\"The farmers markets dataset has\",fmarkets.shape[0], \"rows, and\",fmarkets.shape[1],\"columns\")\n",
    "print(\"The titanic dataset has a shape of\", titanic.shape)\n",
    "print(\"The titanic dataset has\",titanic.shape[0], \"rows, and\",titanic.shape[1],\"columns\")"
   ]
  },
  {
   "cell_type": "markdown",
   "metadata": {},
   "source": [
    "\n",
    "Next let's take a look at the various columns that this dataset has.\n",
    "\n",
    "We can do this two ways:\n",
    "\n",
    "1) We can use the most standard way and utilize the **`.columns`** attribute function, which displays the column labels.\n",
    "\n",
    "2) We can use the **`.dtypes`** attribute function, which displays the column labes and their respective data types\n",
    "\n",
    "Run the cells below to test these functions.\n"
   ]
  },
  {
   "cell_type": "code",
   "execution_count": 6,
   "metadata": {},
   "outputs": [
    {
     "name": "stdout",
     "output_type": "stream",
     "text": [
      "Farmers Markets\n",
      "  \n",
      "Index(['FMID', 'MarketName', 'street', 'city', 'County', 'State', 'zip', 'x',\n",
      "       'y', 'Website', 'Facebook', 'Twitter', 'Youtube', 'OtherMedia',\n",
      "       'Organic', 'Tofu', 'Bakedgoods', 'Cheese', 'Crafts', 'Flowers', 'Eggs',\n",
      "       'Seafood', 'Herbs', 'Vegetables', 'Honey', 'Jams', 'Maple', 'Meat',\n",
      "       'Nursery', 'Nuts', 'Plants', 'Poultry', 'Prepared', 'Soap', 'Trees',\n",
      "       'Wine', 'Coffee', 'Beans', 'Fruits', 'Grains', 'Juices', 'Mushrooms',\n",
      "       'PetFood', 'WildHarvested', 'updateTime', 'Location', 'Credit', 'WIC',\n",
      "       'WICcash', 'SFMNP', 'SNAP', 'Season1Date', 'Season1Time', 'Season2Date',\n",
      "       'Season2Time', 'Season3Date', 'Season3Time', 'Season4Date',\n",
      "       'Season4Time'],\n",
      "      dtype='object')\n",
      "FMID               int64\n",
      "MarketName        object\n",
      "street            object\n",
      "city              object\n",
      "County            object\n",
      "State             object\n",
      "zip               object\n",
      "x                float64\n",
      "y                float64\n",
      "Website           object\n",
      "Facebook          object\n",
      "Twitter           object\n",
      "Youtube           object\n",
      "OtherMedia        object\n",
      "Organic           object\n",
      "Tofu              object\n",
      "Bakedgoods        object\n",
      "Cheese            object\n",
      "Crafts            object\n",
      "Flowers           object\n",
      "Eggs              object\n",
      "Seafood           object\n",
      "Herbs             object\n",
      "Vegetables        object\n",
      "Honey             object\n",
      "Jams              object\n",
      "Maple             object\n",
      "Meat              object\n",
      "Nursery           object\n",
      "Nuts              object\n",
      "Plants            object\n",
      "Poultry           object\n",
      "Prepared          object\n",
      "Soap              object\n",
      "Trees             object\n",
      "Wine              object\n",
      "Coffee            object\n",
      "Beans             object\n",
      "Fruits            object\n",
      "Grains            object\n",
      "Juices            object\n",
      "Mushrooms         object\n",
      "PetFood           object\n",
      "WildHarvested     object\n",
      "updateTime        object\n",
      "Location          object\n",
      "Credit            object\n",
      "WIC               object\n",
      "WICcash           object\n",
      "SFMNP             object\n",
      "SNAP              object\n",
      "Season1Date       object\n",
      "Season1Time       object\n",
      "Season2Date       object\n",
      "Season2Time       object\n",
      "Season3Date       object\n",
      "Season3Time       object\n",
      "Season4Date       object\n",
      "Season4Time       object\n",
      "dtype: object\n",
      "  \n",
      "Titanic\n",
      "  \n",
      "Index(['PassengerId', 'Survived', 'Pclass', 'Name', 'Sex', 'Age', 'SibSp',\n",
      "       'Parch', 'Ticket', 'Fare', 'Cabin', 'Embarked'],\n",
      "      dtype='object')\n",
      "PassengerId      int64\n",
      "Survived         int64\n",
      "Pclass           int64\n",
      "Name            object\n",
      "Sex             object\n",
      "Age            float64\n",
      "SibSp            int64\n",
      "Parch            int64\n",
      "Ticket          object\n",
      "Fare           float64\n",
      "Cabin           object\n",
      "Embarked        object\n",
      "dtype: object\n"
     ]
    }
   ],
   "source": [
    "print(\"Farmers Markets\")\n",
    "print(\"  \")\n",
    "print(fmarkets.columns)\n",
    "print(fmarkets.dtypes)\n",
    "print(\"  \")\n",
    "print(\"Titanic\")\n",
    "print(\"  \")\n",
    "print(titanic.columns)\n",
    "print(titanic.dtypes)"
   ]
  },
  {
   "cell_type": "markdown",
   "metadata": {},
   "source": [
    "Say you want to get the values of a particular column. Using the **`.values`** attribute we can do this."
   ]
  },
  {
   "cell_type": "code",
   "execution_count": 7,
   "metadata": {},
   "outputs": [
    {
     "name": "stdout",
     "output_type": "stream",
     "text": [
      "FMID values: [1012063 1011871 1011878 ... 1002868 1004686 1011418]\n",
      "\n",
      "Survived values: [0 1 1 1 0 0 0 0 1 1 1 1 0 0 0 1 0 1 0 1 0 1 1 1 0 1 0 0 1 0 0 1 1 0 0 0 1\n",
      " 0 0 1 0 0 0 1 1 0 0 1 0 0 0 0 1 1 0 1 1 0 1 0 0 1 0 0 0 1 1 0 1 0 0 0 0 0\n",
      " 1 0 0 0 1 1 0 1 1 0 1 1 0 0 1 0 0 0 0 0 0 0 0 1 1 0 0 0 0 0 0 0 1 1 0 1 0\n",
      " 0 0 0 0 0 0 0 0 0 0 0 0 1 0 1 0 1 1 0 0 0 0 1 0 0 1 0 0 0 0 1 1 0 0 0 1 0\n",
      " 0 0 0 1 0 0 0 0 1 0 0 0 0 1 0 0 0 1 1 0 0 0 0 0 1 0 0 0 0 0 0 0 0 0 0 1 1\n",
      " 0 1 1 0 0 1 0 1 1 1 1 0 0 1 0 0 0 0 0 1 0 0 1 1 1 0 1 0 0 0 1 1 0 1 0 1 0\n",
      " 0 0 1 0 1 0 0 0 1 0 0 1 0 0 0 1 0 0 0 1 0 0 0 0 0 1 1 0 0 0 0 0 0 1 1 1 1\n",
      " 1 0 1 0 0 0 0 0 1 1 1 0 1 1 0 1 1 0 0 0 1 0 0 0 1 0 0 1 0 1 1 1 1 0 0 0 0\n",
      " 0 0 1 1 1 1 0 1 0 1 1 1 0 1 1 1 0 0 0 1 1 0 1 1 0 0 1 1 0 1 0 1 1 1 1 0 0\n",
      " 0 1 0 0 1 1 0 1 1 0 0 0 1 1 1 1 0 0 0 0 0 0 0 1 0 1 1 0 0 0 0 0 0 1 1 1 1\n",
      " 1 0 0 0 0 1 1 0 0 0 1 1 0 1 0 0 0 1 0 1 1 1 0 1 1 0 0 0 0 1 1 0 0 0 0 0 0\n",
      " 1 0 0 0 0 1 0 1 0 1 1 0 0 0 0 0 0 0 0 1 1 0 1 1 1 1 0 0 1 0 1 0 0 1 0 0 1\n",
      " 1 1 1 1 1 1 0 0 0 1 0 1 0 1 1 0 1 0 0 0 0 0 0 0 0 1 0 0 1 1 0 0 0 0 0 1 0\n",
      " 0 0 1 1 0 1 0 0 1 0 0 0 0 0 0 1 0 0 0 0 0 0 0 1 0 1 1 0 1 1 0 1 1 0 0 1 0\n",
      " 1 0 1 0 0 1 0 0 1 0 0 0 1 0 0 1 0 1 0 1 0 1 1 0 0 1 0 0 1 1 0 1 1 0 0 1 1\n",
      " 0 1 0 1 1 0 0 0 0 0 0 0 0 0 1 1 1 1 1 0 0 1 1 0 1 1 1 0 0 0 1 0 1 0 0 0 1\n",
      " 0 0 0 0 1 0 0 1 1 0 0 0 1 0 0 1 1 1 0 0 1 0 0 1 0 0 1 0 0 1 1 0 0 0 0 1 0\n",
      " 0 1 0 1 0 0 1 0 0 0 0 0 1 0 1 1 1 0 1 0 1 0 1 0 1 0 0 0 0 0 0 1 0 0 0 1 0\n",
      " 0 0 0 1 1 0 0 1 0 0 0 1 0 1 0 1 0 0 0 0 0 0 0 1 1 1 1 0 0 0 0 1 0 0 1 1 0\n",
      " 0 0 0 1 1 1 1 1 0 1 0 0 0 1 1 0 0 1 0 0 0 1 0 1 1 0 0 1 0 0 0 0 0 0 1 0 0\n",
      " 1 0 1 0 1 0 0 1 0 0 1 1 0 0 1 1 0 0 0 1 0 0 1 1 0 1 0 0 0 0 0 0 0 0 1 0 0\n",
      " 1 0 1 1 1 0 0 0 0 1 0 1 0 0 0 0 0 0 0 1 1 0 0 0 1 1 1 1 0 0 0 0 1 0 0 0 0\n",
      " 0 0 0 0 0 0 1 1 0 1 0 0 0 1 1 1 1 1 0 0 0 1 0 0 1 1 0 0 1 0 0 0 0 0 0 1 0\n",
      " 0 0 1 0 1 1 1 1 0 0 0 1 0 0 1 1 0 0 1 0 1 0 0 1 1 0 0 0 1 1 0 0 0 0 0 0 1\n",
      " 0 1 0]\n"
     ]
    }
   ],
   "source": [
    "print(\"FMID values:\", fmarkets['FMID'].values)\n",
    "print(\"\")\n",
    "print(\"Survived values:\",titanic['Survived'].values)"
   ]
  },
  {
   "cell_type": "markdown",
   "metadata": {},
   "source": [
    "As you can see, these functions also support indexing, and can be used to pull specific columns of data.\n",
    "\n",
    "Say you want to take a look at the first 5 rows of data in a dataset. You can use the **`.head()`** function to do this.\n",
    "\n",
    "Conversely, say you want to take a look at the last 5 rows of data in a dataset. You can use the **`.tail()`** function to do this.\n",
    "\n",
    "Run the cell below to test these functions."
   ]
  },
  {
   "cell_type": "code",
   "execution_count": 8,
   "metadata": {},
   "outputs": [
    {
     "data": {
      "text/html": [
       "<div>\n",
       "<style scoped>\n",
       "    .dataframe tbody tr th:only-of-type {\n",
       "        vertical-align: middle;\n",
       "    }\n",
       "\n",
       "    .dataframe tbody tr th {\n",
       "        vertical-align: top;\n",
       "    }\n",
       "\n",
       "    .dataframe thead th {\n",
       "        text-align: right;\n",
       "    }\n",
       "</style>\n",
       "<table border=\"1\" class=\"dataframe\">\n",
       "  <thead>\n",
       "    <tr style=\"text-align: right;\">\n",
       "      <th></th>\n",
       "      <th>FMID</th>\n",
       "      <th>MarketName</th>\n",
       "      <th>street</th>\n",
       "      <th>city</th>\n",
       "      <th>County</th>\n",
       "      <th>State</th>\n",
       "      <th>zip</th>\n",
       "      <th>x</th>\n",
       "      <th>y</th>\n",
       "      <th>Website</th>\n",
       "      <th>...</th>\n",
       "      <th>SFMNP</th>\n",
       "      <th>SNAP</th>\n",
       "      <th>Season1Date</th>\n",
       "      <th>Season1Time</th>\n",
       "      <th>Season2Date</th>\n",
       "      <th>Season2Time</th>\n",
       "      <th>Season3Date</th>\n",
       "      <th>Season3Time</th>\n",
       "      <th>Season4Date</th>\n",
       "      <th>Season4Time</th>\n",
       "    </tr>\n",
       "  </thead>\n",
       "  <tbody>\n",
       "    <tr>\n",
       "      <th>0</th>\n",
       "      <td>1012063</td>\n",
       "      <td>Caledonia Farmers Market Association - Danville</td>\n",
       "      <td>NaN</td>\n",
       "      <td>Danville</td>\n",
       "      <td>Caledonia</td>\n",
       "      <td>Vermont</td>\n",
       "      <td>05828</td>\n",
       "      <td>-72.140305</td>\n",
       "      <td>44.411013</td>\n",
       "      <td>https://sites.google.com/site/caledoniafarmers...</td>\n",
       "      <td>...</td>\n",
       "      <td>Y</td>\n",
       "      <td>N</td>\n",
       "      <td>06/08/2016 to 10/12/2016</td>\n",
       "      <td>Wed: 9:00 AM-1:00 PM;</td>\n",
       "      <td>NaN</td>\n",
       "      <td>NaN</td>\n",
       "      <td>NaN</td>\n",
       "      <td>NaN</td>\n",
       "      <td>NaN</td>\n",
       "      <td>NaN</td>\n",
       "    </tr>\n",
       "    <tr>\n",
       "      <th>1</th>\n",
       "      <td>1011871</td>\n",
       "      <td>Stearns Homestead Farmers' Market</td>\n",
       "      <td>6975 Ridge Road</td>\n",
       "      <td>Parma</td>\n",
       "      <td>Cuyahoga</td>\n",
       "      <td>Ohio</td>\n",
       "      <td>44130</td>\n",
       "      <td>-81.728597</td>\n",
       "      <td>41.375118</td>\n",
       "      <td>http://Stearnshomestead.com</td>\n",
       "      <td>...</td>\n",
       "      <td>Y</td>\n",
       "      <td>Y</td>\n",
       "      <td>06/25/2016 to 10/01/2016</td>\n",
       "      <td>Sat: 9:00 AM-1:00 PM;</td>\n",
       "      <td>NaN</td>\n",
       "      <td>NaN</td>\n",
       "      <td>NaN</td>\n",
       "      <td>NaN</td>\n",
       "      <td>NaN</td>\n",
       "      <td>NaN</td>\n",
       "    </tr>\n",
       "    <tr>\n",
       "      <th>2</th>\n",
       "      <td>1011878</td>\n",
       "      <td>100 Mile Market</td>\n",
       "      <td>507 Harrison St</td>\n",
       "      <td>Kalamazoo</td>\n",
       "      <td>Kalamazoo</td>\n",
       "      <td>Michigan</td>\n",
       "      <td>49007</td>\n",
       "      <td>-85.574887</td>\n",
       "      <td>42.296024</td>\n",
       "      <td>http://www.pfcmarkets.com</td>\n",
       "      <td>...</td>\n",
       "      <td>Y</td>\n",
       "      <td>Y</td>\n",
       "      <td>05/04/2016 to 10/12/2016</td>\n",
       "      <td>Wed: 3:00 PM-7:00 PM;</td>\n",
       "      <td>NaN</td>\n",
       "      <td>NaN</td>\n",
       "      <td>NaN</td>\n",
       "      <td>NaN</td>\n",
       "      <td>NaN</td>\n",
       "      <td>NaN</td>\n",
       "    </tr>\n",
       "    <tr>\n",
       "      <th>3</th>\n",
       "      <td>1009364</td>\n",
       "      <td>106 S. Main Street Farmers Market</td>\n",
       "      <td>106 S. Main Street</td>\n",
       "      <td>Six Mile</td>\n",
       "      <td>NaN</td>\n",
       "      <td>South Carolina</td>\n",
       "      <td>29682</td>\n",
       "      <td>-82.818700</td>\n",
       "      <td>34.804200</td>\n",
       "      <td>http://thetownofsixmile.wordpress.com/</td>\n",
       "      <td>...</td>\n",
       "      <td>N</td>\n",
       "      <td>N</td>\n",
       "      <td>NaN</td>\n",
       "      <td>NaN</td>\n",
       "      <td>NaN</td>\n",
       "      <td>NaN</td>\n",
       "      <td>NaN</td>\n",
       "      <td>NaN</td>\n",
       "      <td>NaN</td>\n",
       "      <td>NaN</td>\n",
       "    </tr>\n",
       "    <tr>\n",
       "      <th>4</th>\n",
       "      <td>1010691</td>\n",
       "      <td>10th Steet Community Farmers Market</td>\n",
       "      <td>10th Street and Poplar</td>\n",
       "      <td>Lamar</td>\n",
       "      <td>Barton</td>\n",
       "      <td>Missouri</td>\n",
       "      <td>64759</td>\n",
       "      <td>-94.274619</td>\n",
       "      <td>37.495628</td>\n",
       "      <td>NaN</td>\n",
       "      <td>...</td>\n",
       "      <td>N</td>\n",
       "      <td>N</td>\n",
       "      <td>04/02/2014 to 11/30/2014</td>\n",
       "      <td>Wed: 3:00 PM-6:00 PM;Sat: 8:00 AM-1:00 PM;</td>\n",
       "      <td>NaN</td>\n",
       "      <td>NaN</td>\n",
       "      <td>NaN</td>\n",
       "      <td>NaN</td>\n",
       "      <td>NaN</td>\n",
       "      <td>NaN</td>\n",
       "    </tr>\n",
       "  </tbody>\n",
       "</table>\n",
       "<p>5 rows × 59 columns</p>\n",
       "</div>"
      ],
      "text/plain": [
       "      FMID                                        MarketName  \\\n",
       "0  1012063   Caledonia Farmers Market Association - Danville   \n",
       "1  1011871                 Stearns Homestead Farmers' Market   \n",
       "2  1011878                                   100 Mile Market   \n",
       "3  1009364                 106 S. Main Street Farmers Market   \n",
       "4  1010691               10th Steet Community Farmers Market   \n",
       "\n",
       "                   street       city     County           State    zip  \\\n",
       "0                     NaN  Danville   Caledonia         Vermont  05828   \n",
       "1         6975 Ridge Road     Parma    Cuyahoga            Ohio  44130   \n",
       "2         507 Harrison St  Kalamazoo  Kalamazoo        Michigan  49007   \n",
       "3      106 S. Main Street   Six Mile        NaN  South Carolina  29682   \n",
       "4  10th Street and Poplar     Lamar      Barton        Missouri  64759   \n",
       "\n",
       "           x          y                                            Website  \\\n",
       "0 -72.140305  44.411013  https://sites.google.com/site/caledoniafarmers...   \n",
       "1 -81.728597  41.375118                        http://Stearnshomestead.com   \n",
       "2 -85.574887  42.296024                          http://www.pfcmarkets.com   \n",
       "3 -82.818700  34.804200             http://thetownofsixmile.wordpress.com/   \n",
       "4 -94.274619  37.495628                                                NaN   \n",
       "\n",
       "   ... SFMNP SNAP               Season1Date  \\\n",
       "0  ...     Y    N  06/08/2016 to 10/12/2016   \n",
       "1  ...     Y    Y  06/25/2016 to 10/01/2016   \n",
       "2  ...     Y    Y  05/04/2016 to 10/12/2016   \n",
       "3  ...     N    N                       NaN   \n",
       "4  ...     N    N  04/02/2014 to 11/30/2014   \n",
       "\n",
       "                                  Season1Time Season2Date Season2Time  \\\n",
       "0                       Wed: 9:00 AM-1:00 PM;         NaN         NaN   \n",
       "1                       Sat: 9:00 AM-1:00 PM;         NaN         NaN   \n",
       "2                       Wed: 3:00 PM-7:00 PM;         NaN         NaN   \n",
       "3                                         NaN         NaN         NaN   \n",
       "4  Wed: 3:00 PM-6:00 PM;Sat: 8:00 AM-1:00 PM;         NaN         NaN   \n",
       "\n",
       "  Season3Date Season3Time Season4Date Season4Time  \n",
       "0         NaN         NaN         NaN         NaN  \n",
       "1         NaN         NaN         NaN         NaN  \n",
       "2         NaN         NaN         NaN         NaN  \n",
       "3         NaN         NaN         NaN         NaN  \n",
       "4         NaN         NaN         NaN         NaN  \n",
       "\n",
       "[5 rows x 59 columns]"
      ]
     },
     "execution_count": 8,
     "metadata": {},
     "output_type": "execute_result"
    }
   ],
   "source": [
    "fmarkets.head()"
   ]
  },
  {
   "cell_type": "code",
   "execution_count": 9,
   "metadata": {},
   "outputs": [
    {
     "data": {
      "text/html": [
       "<div>\n",
       "<style scoped>\n",
       "    .dataframe tbody tr th:only-of-type {\n",
       "        vertical-align: middle;\n",
       "    }\n",
       "\n",
       "    .dataframe tbody tr th {\n",
       "        vertical-align: top;\n",
       "    }\n",
       "\n",
       "    .dataframe thead th {\n",
       "        text-align: right;\n",
       "    }\n",
       "</style>\n",
       "<table border=\"1\" class=\"dataframe\">\n",
       "  <thead>\n",
       "    <tr style=\"text-align: right;\">\n",
       "      <th></th>\n",
       "      <th>PassengerId</th>\n",
       "      <th>Survived</th>\n",
       "      <th>Pclass</th>\n",
       "      <th>Name</th>\n",
       "      <th>Sex</th>\n",
       "      <th>Age</th>\n",
       "      <th>SibSp</th>\n",
       "      <th>Parch</th>\n",
       "      <th>Ticket</th>\n",
       "      <th>Fare</th>\n",
       "      <th>Cabin</th>\n",
       "      <th>Embarked</th>\n",
       "    </tr>\n",
       "  </thead>\n",
       "  <tbody>\n",
       "    <tr>\n",
       "      <th>886</th>\n",
       "      <td>887</td>\n",
       "      <td>0</td>\n",
       "      <td>2</td>\n",
       "      <td>Montvila, Rev. Juozas</td>\n",
       "      <td>male</td>\n",
       "      <td>27.0</td>\n",
       "      <td>0</td>\n",
       "      <td>0</td>\n",
       "      <td>211536</td>\n",
       "      <td>13.00</td>\n",
       "      <td>NaN</td>\n",
       "      <td>S</td>\n",
       "    </tr>\n",
       "    <tr>\n",
       "      <th>887</th>\n",
       "      <td>888</td>\n",
       "      <td>1</td>\n",
       "      <td>1</td>\n",
       "      <td>Graham, Miss. Margaret Edith</td>\n",
       "      <td>female</td>\n",
       "      <td>19.0</td>\n",
       "      <td>0</td>\n",
       "      <td>0</td>\n",
       "      <td>112053</td>\n",
       "      <td>30.00</td>\n",
       "      <td>B42</td>\n",
       "      <td>S</td>\n",
       "    </tr>\n",
       "    <tr>\n",
       "      <th>888</th>\n",
       "      <td>889</td>\n",
       "      <td>0</td>\n",
       "      <td>3</td>\n",
       "      <td>Johnston, Miss. Catherine Helen \"Carrie\"</td>\n",
       "      <td>female</td>\n",
       "      <td>NaN</td>\n",
       "      <td>1</td>\n",
       "      <td>2</td>\n",
       "      <td>W./C. 6607</td>\n",
       "      <td>23.45</td>\n",
       "      <td>NaN</td>\n",
       "      <td>S</td>\n",
       "    </tr>\n",
       "    <tr>\n",
       "      <th>889</th>\n",
       "      <td>890</td>\n",
       "      <td>1</td>\n",
       "      <td>1</td>\n",
       "      <td>Behr, Mr. Karl Howell</td>\n",
       "      <td>male</td>\n",
       "      <td>26.0</td>\n",
       "      <td>0</td>\n",
       "      <td>0</td>\n",
       "      <td>111369</td>\n",
       "      <td>30.00</td>\n",
       "      <td>C148</td>\n",
       "      <td>C</td>\n",
       "    </tr>\n",
       "    <tr>\n",
       "      <th>890</th>\n",
       "      <td>891</td>\n",
       "      <td>0</td>\n",
       "      <td>3</td>\n",
       "      <td>Dooley, Mr. Patrick</td>\n",
       "      <td>male</td>\n",
       "      <td>32.0</td>\n",
       "      <td>0</td>\n",
       "      <td>0</td>\n",
       "      <td>370376</td>\n",
       "      <td>7.75</td>\n",
       "      <td>NaN</td>\n",
       "      <td>Q</td>\n",
       "    </tr>\n",
       "  </tbody>\n",
       "</table>\n",
       "</div>"
      ],
      "text/plain": [
       "     PassengerId  Survived  Pclass                                      Name  \\\n",
       "886          887         0       2                     Montvila, Rev. Juozas   \n",
       "887          888         1       1              Graham, Miss. Margaret Edith   \n",
       "888          889         0       3  Johnston, Miss. Catherine Helen \"Carrie\"   \n",
       "889          890         1       1                     Behr, Mr. Karl Howell   \n",
       "890          891         0       3                       Dooley, Mr. Patrick   \n",
       "\n",
       "        Sex   Age  SibSp  Parch      Ticket   Fare Cabin Embarked  \n",
       "886    male  27.0      0      0      211536  13.00   NaN        S  \n",
       "887  female  19.0      0      0      112053  30.00   B42        S  \n",
       "888  female   NaN      1      2  W./C. 6607  23.45   NaN        S  \n",
       "889    male  26.0      0      0      111369  30.00  C148        C  \n",
       "890    male  32.0      0      0      370376   7.75   NaN        Q  "
      ]
     },
     "execution_count": 9,
     "metadata": {},
     "output_type": "execute_result"
    }
   ],
   "source": [
    "titanic.tail()"
   ]
  },
  {
   "cell_type": "markdown",
   "metadata": {},
   "source": [
    "You might have noticed that the tables above do not display all of the columns. \n",
    "\n",
    "Whenever we have a large amount of columns, it is neccessary for us to select and specify what kind of columns we want.\n",
    "\n",
    "For this, we can use the **`.loc`** function to select a range of rows and a subset of columns, or **`iloc()`** which is used to select a range of rows and/or columns.\n",
    "\n",
    "We can also index the column names while using other functions.\n",
    "\n",
    "Run the cells below to test these functions."
   ]
  },
  {
   "cell_type": "code",
   "execution_count": 10,
   "metadata": {},
   "outputs": [
    {
     "data": {
      "text/html": [
       "<div>\n",
       "<style scoped>\n",
       "    .dataframe tbody tr th:only-of-type {\n",
       "        vertical-align: middle;\n",
       "    }\n",
       "\n",
       "    .dataframe tbody tr th {\n",
       "        vertical-align: top;\n",
       "    }\n",
       "\n",
       "    .dataframe thead th {\n",
       "        text-align: right;\n",
       "    }\n",
       "</style>\n",
       "<table border=\"1\" class=\"dataframe\">\n",
       "  <thead>\n",
       "    <tr style=\"text-align: right;\">\n",
       "      <th></th>\n",
       "      <th>MarketName</th>\n",
       "      <th>city</th>\n",
       "      <th>State</th>\n",
       "    </tr>\n",
       "  </thead>\n",
       "  <tbody>\n",
       "    <tr>\n",
       "      <th>0</th>\n",
       "      <td>Caledonia Farmers Market Association - Danville</td>\n",
       "      <td>Danville</td>\n",
       "      <td>Vermont</td>\n",
       "    </tr>\n",
       "    <tr>\n",
       "      <th>1</th>\n",
       "      <td>Stearns Homestead Farmers' Market</td>\n",
       "      <td>Parma</td>\n",
       "      <td>Ohio</td>\n",
       "    </tr>\n",
       "    <tr>\n",
       "      <th>2</th>\n",
       "      <td>100 Mile Market</td>\n",
       "      <td>Kalamazoo</td>\n",
       "      <td>Michigan</td>\n",
       "    </tr>\n",
       "    <tr>\n",
       "      <th>3</th>\n",
       "      <td>106 S. Main Street Farmers Market</td>\n",
       "      <td>Six Mile</td>\n",
       "      <td>South Carolina</td>\n",
       "    </tr>\n",
       "    <tr>\n",
       "      <th>4</th>\n",
       "      <td>10th Steet Community Farmers Market</td>\n",
       "      <td>Lamar</td>\n",
       "      <td>Missouri</td>\n",
       "    </tr>\n",
       "  </tbody>\n",
       "</table>\n",
       "</div>"
      ],
      "text/plain": [
       "                                         MarketName       city           State\n",
       "0   Caledonia Farmers Market Association - Danville  Danville          Vermont\n",
       "1                 Stearns Homestead Farmers' Market     Parma             Ohio\n",
       "2                                   100 Mile Market  Kalamazoo        Michigan\n",
       "3                 106 S. Main Street Farmers Market   Six Mile  South Carolina\n",
       "4               10th Steet Community Farmers Market     Lamar         Missouri"
      ]
     },
     "execution_count": 10,
     "metadata": {},
     "output_type": "execute_result"
    }
   ],
   "source": [
    "fmarkets.loc[0:4, [\"MarketName\", \"city\", \"State\"]]"
   ]
  },
  {
   "cell_type": "code",
   "execution_count": 11,
   "metadata": {},
   "outputs": [
    {
     "data": {
      "text/html": [
       "<div>\n",
       "<style scoped>\n",
       "    .dataframe tbody tr th:only-of-type {\n",
       "        vertical-align: middle;\n",
       "    }\n",
       "\n",
       "    .dataframe tbody tr th {\n",
       "        vertical-align: top;\n",
       "    }\n",
       "\n",
       "    .dataframe thead th {\n",
       "        text-align: right;\n",
       "    }\n",
       "</style>\n",
       "<table border=\"1\" class=\"dataframe\">\n",
       "  <thead>\n",
       "    <tr style=\"text-align: right;\">\n",
       "      <th></th>\n",
       "      <th>Name</th>\n",
       "      <th>Sex</th>\n",
       "    </tr>\n",
       "  </thead>\n",
       "  <tbody>\n",
       "    <tr>\n",
       "      <th>10</th>\n",
       "      <td>Sandstrom, Miss. Marguerite Rut</td>\n",
       "      <td>female</td>\n",
       "    </tr>\n",
       "    <tr>\n",
       "      <th>11</th>\n",
       "      <td>Bonnell, Miss. Elizabeth</td>\n",
       "      <td>female</td>\n",
       "    </tr>\n",
       "    <tr>\n",
       "      <th>12</th>\n",
       "      <td>Saundercock, Mr. William Henry</td>\n",
       "      <td>male</td>\n",
       "    </tr>\n",
       "    <tr>\n",
       "      <th>13</th>\n",
       "      <td>Andersson, Mr. Anders Johan</td>\n",
       "      <td>male</td>\n",
       "    </tr>\n",
       "    <tr>\n",
       "      <th>14</th>\n",
       "      <td>Vestrom, Miss. Hulda Amanda Adolfina</td>\n",
       "      <td>female</td>\n",
       "    </tr>\n",
       "    <tr>\n",
       "      <th>15</th>\n",
       "      <td>Hewlett, Mrs. (Mary D Kingcome)</td>\n",
       "      <td>female</td>\n",
       "    </tr>\n",
       "    <tr>\n",
       "      <th>16</th>\n",
       "      <td>Rice, Master. Eugene</td>\n",
       "      <td>male</td>\n",
       "    </tr>\n",
       "    <tr>\n",
       "      <th>17</th>\n",
       "      <td>Williams, Mr. Charles Eugene</td>\n",
       "      <td>male</td>\n",
       "    </tr>\n",
       "    <tr>\n",
       "      <th>18</th>\n",
       "      <td>Vander Planke, Mrs. Julius (Emelia Maria Vande...</td>\n",
       "      <td>female</td>\n",
       "    </tr>\n",
       "    <tr>\n",
       "      <th>19</th>\n",
       "      <td>Masselmani, Mrs. Fatima</td>\n",
       "      <td>female</td>\n",
       "    </tr>\n",
       "  </tbody>\n",
       "</table>\n",
       "</div>"
      ],
      "text/plain": [
       "                                                 Name     Sex\n",
       "10                    Sandstrom, Miss. Marguerite Rut  female\n",
       "11                           Bonnell, Miss. Elizabeth  female\n",
       "12                     Saundercock, Mr. William Henry    male\n",
       "13                        Andersson, Mr. Anders Johan    male\n",
       "14               Vestrom, Miss. Hulda Amanda Adolfina  female\n",
       "15                   Hewlett, Mrs. (Mary D Kingcome)   female\n",
       "16                               Rice, Master. Eugene    male\n",
       "17                       Williams, Mr. Charles Eugene    male\n",
       "18  Vander Planke, Mrs. Julius (Emelia Maria Vande...  female\n",
       "19                            Masselmani, Mrs. Fatima  female"
      ]
     },
     "execution_count": 11,
     "metadata": {},
     "output_type": "execute_result"
    }
   ],
   "source": [
    "titanic.iloc[10:20, 3:5]"
   ]
  },
  {
   "cell_type": "markdown",
   "metadata": {},
   "source": [
    "**Question 1:** What are the four main components of a dataframe (table) ?"
   ]
  },
  {
   "cell_type": "code",
   "execution_count": 12,
   "metadata": {},
   "outputs": [],
   "source": [
    "main_components = \"The four main components of dataframe or table are rows, columns, indexes, and value.\""
   ]
  },
  {
   "cell_type": "code",
   "execution_count": 14,
   "metadata": {},
   "outputs": [
    {
     "name": "stdout",
     "output_type": "stream",
     "text": [
      "Indexes contain row labels and columns will have the column labels.\n"
     ]
    }
   ],
   "source": [
    "print(\"Indexes contain row labels and columns will have the column labels.\")"
   ]
  },
  {
   "cell_type": "markdown",
   "metadata": {},
   "source": [
    "**Question 2:** Output a table containing the first 200 rows with the columns MarketName,street,city,state, and zip."
   ]
  },
  {
   "cell_type": "code",
   "execution_count": null,
   "metadata": {},
   "outputs": [],
   "source": [
    "fmarkets.loc[0:199, [\"MarketName\", \"street\", \"city\", \"State\", \"zip\"]]"
   ]
  },
  {
   "cell_type": "markdown",
   "metadata": {},
   "source": [
    "**Question 3:** Output a table containing the last 5 rows and the first 5 columns of the titanic data set."
   ]
  },
  {
   "cell_type": "code",
   "execution_count": 15,
   "metadata": {},
   "outputs": [
    {
     "data": {
      "text/html": [
       "<div>\n",
       "<style scoped>\n",
       "    .dataframe tbody tr th:only-of-type {\n",
       "        vertical-align: middle;\n",
       "    }\n",
       "\n",
       "    .dataframe tbody tr th {\n",
       "        vertical-align: top;\n",
       "    }\n",
       "\n",
       "    .dataframe thead th {\n",
       "        text-align: right;\n",
       "    }\n",
       "</style>\n",
       "<table border=\"1\" class=\"dataframe\">\n",
       "  <thead>\n",
       "    <tr style=\"text-align: right;\">\n",
       "      <th></th>\n",
       "      <th>FMID</th>\n",
       "      <th>MarketName</th>\n",
       "      <th>street</th>\n",
       "      <th>city</th>\n",
       "      <th>County</th>\n",
       "    </tr>\n",
       "  </thead>\n",
       "  <tbody>\n",
       "    <tr>\n",
       "      <th>8541</th>\n",
       "      <td>1004767</td>\n",
       "      <td>Zia Bernalillo Farmers' Market</td>\n",
       "      <td>335 S. Camino del Pueblo</td>\n",
       "      <td>Bernalillo</td>\n",
       "      <td>Sandoval</td>\n",
       "    </tr>\n",
       "    <tr>\n",
       "      <th>8542</th>\n",
       "      <td>1000778</td>\n",
       "      <td>Zimmerman Farmers Market</td>\n",
       "      <td>Lions Park, Main Street</td>\n",
       "      <td>Zimmerman</td>\n",
       "      <td>Sherburne</td>\n",
       "    </tr>\n",
       "    <tr>\n",
       "      <th>8543</th>\n",
       "      <td>1002868</td>\n",
       "      <td>Zion Canyon Farmers Market</td>\n",
       "      <td>1212 Zion Park Blvd.</td>\n",
       "      <td>Springdale</td>\n",
       "      <td>Washington</td>\n",
       "    </tr>\n",
       "    <tr>\n",
       "      <th>8544</th>\n",
       "      <td>1004686</td>\n",
       "      <td>Zionsville Farmers Market</td>\n",
       "      <td>Hawthorne &amp; Main Street</td>\n",
       "      <td>Zionsville</td>\n",
       "      <td>Boone</td>\n",
       "    </tr>\n",
       "    <tr>\n",
       "      <th>8545</th>\n",
       "      <td>1011418</td>\n",
       "      <td>Zona Rosa Farmers' Market</td>\n",
       "      <td>Off of I-29 and Barry Road</td>\n",
       "      <td>Kansas City</td>\n",
       "      <td>Platte</td>\n",
       "    </tr>\n",
       "  </tbody>\n",
       "</table>\n",
       "</div>"
      ],
      "text/plain": [
       "         FMID                      MarketName                      street  \\\n",
       "8541  1004767  Zia Bernalillo Farmers' Market    335 S. Camino del Pueblo   \n",
       "8542  1000778        Zimmerman Farmers Market    Lions Park, Main Street    \n",
       "8543  1002868      Zion Canyon Farmers Market        1212 Zion Park Blvd.   \n",
       "8544  1004686       Zionsville Farmers Market     Hawthorne & Main Street   \n",
       "8545  1011418       Zona Rosa Farmers' Market  Off of I-29 and Barry Road   \n",
       "\n",
       "             city      County  \n",
       "8541   Bernalillo    Sandoval  \n",
       "8542    Zimmerman   Sherburne  \n",
       "8543   Springdale  Washington  \n",
       "8544   Zionsville       Boone  \n",
       "8545  Kansas City      Platte  "
      ]
     },
     "execution_count": 15,
     "metadata": {},
     "output_type": "execute_result"
    }
   ],
   "source": [
    "#fmarkets.tail(5).iloc[0:5, 0:5]\n",
    "\n",
    "# or \n",
    "\n",
    "# fmarkets.iloc[8541:8546, 0:5]\n",
    "\n",
    "# or\n",
    "\n",
    "fmarkets.iloc[fmarkets.shape[0]-5: fmarkets.shape[0], 0:5]\n"
   ]
  },
  {
   "cell_type": "markdown",
   "metadata": {},
   "source": [
    "### Population Amounts\n",
    "\n",
    "Let's work with a more interesting dataset. The next cell creates an array called population_amounts that includes estimated world populations in every year from 1950 to roughly the present. (The estimates come from the US Census Bureau website.)\n",
    "\n",
    "Run the cell below to get started."
   ]
  },
  {
   "cell_type": "code",
   "execution_count": 16,
   "metadata": {},
   "outputs": [
    {
     "data": {
      "text/html": [
       "<div>\n",
       "<style scoped>\n",
       "    .dataframe tbody tr th:only-of-type {\n",
       "        vertical-align: middle;\n",
       "    }\n",
       "\n",
       "    .dataframe tbody tr th {\n",
       "        vertical-align: top;\n",
       "    }\n",
       "\n",
       "    .dataframe thead th {\n",
       "        text-align: right;\n",
       "    }\n",
       "</style>\n",
       "<table border=\"1\" class=\"dataframe\">\n",
       "  <thead>\n",
       "    <tr style=\"text-align: right;\">\n",
       "      <th></th>\n",
       "      <th>Population</th>\n",
       "    </tr>\n",
       "  </thead>\n",
       "  <tbody>\n",
       "    <tr>\n",
       "      <th>0</th>\n",
       "      <td>2557628654</td>\n",
       "    </tr>\n",
       "    <tr>\n",
       "      <th>1</th>\n",
       "      <td>2594939877</td>\n",
       "    </tr>\n",
       "    <tr>\n",
       "      <th>2</th>\n",
       "      <td>2636772306</td>\n",
       "    </tr>\n",
       "    <tr>\n",
       "      <th>3</th>\n",
       "      <td>2682053389</td>\n",
       "    </tr>\n",
       "    <tr>\n",
       "      <th>4</th>\n",
       "      <td>2730228104</td>\n",
       "    </tr>\n",
       "    <tr>\n",
       "      <th>...</th>\n",
       "      <td>...</td>\n",
       "    </tr>\n",
       "    <tr>\n",
       "      <th>61</th>\n",
       "      <td>6944055583</td>\n",
       "    </tr>\n",
       "    <tr>\n",
       "      <th>62</th>\n",
       "      <td>7022349283</td>\n",
       "    </tr>\n",
       "    <tr>\n",
       "      <th>63</th>\n",
       "      <td>7101027895</td>\n",
       "    </tr>\n",
       "    <tr>\n",
       "      <th>64</th>\n",
       "      <td>7178722893</td>\n",
       "    </tr>\n",
       "    <tr>\n",
       "      <th>65</th>\n",
       "      <td>7256490011</td>\n",
       "    </tr>\n",
       "  </tbody>\n",
       "</table>\n",
       "<p>66 rows × 1 columns</p>\n",
       "</div>"
      ],
      "text/plain": [
       "    Population\n",
       "0   2557628654\n",
       "1   2594939877\n",
       "2   2636772306\n",
       "3   2682053389\n",
       "4   2730228104\n",
       "..         ...\n",
       "61  6944055583\n",
       "62  7022349283\n",
       "63  7101027895\n",
       "64  7178722893\n",
       "65  7256490011\n",
       "\n",
       "[66 rows x 1 columns]"
      ]
     },
     "execution_count": 16,
     "metadata": {},
     "output_type": "execute_result"
    }
   ],
   "source": [
    "population_amounts = pd.read_csv(\"world_population.csv\")\n",
    "\n",
    "population_amounts"
   ]
  },
  {
   "cell_type": "markdown",
   "metadata": {},
   "source": [
    "Notice that this file only contains the population raw numbers.\n",
    "\n",
    "Since there are no dates, we will have to manually add them.\n",
    "\n",
    "We can do this in two steps:\n",
    "\n",
    "First, create an list filled with dates for the data, starting with 1950."
   ]
  },
  {
   "cell_type": "code",
   "execution_count": 18,
   "metadata": {
    "scrolled": true
   },
   "outputs": [],
   "source": [
    "years = [1950] # Initialize the 'years' list with 1950\n",
    "rows = population_amounts.shape[0] - 1 # Subtract from 1 to account for the title of the columns\n",
    "count = 0\n",
    "\n",
    "# Fill the 'years' list with elements\n",
    "while count != rows:\n",
    "    years.append(years[count] + 1)\n",
    "    count += 1\n",
    "   "
   ]
  },
  {
   "cell_type": "markdown",
   "metadata": {},
   "source": [
    "Second, **add** the `years` array as a **column** to your original table with the following syntax."
   ]
  },
  {
   "cell_type": "code",
   "execution_count": 19,
   "metadata": {},
   "outputs": [
    {
     "data": {
      "text/html": [
       "<div>\n",
       "<style scoped>\n",
       "    .dataframe tbody tr th:only-of-type {\n",
       "        vertical-align: middle;\n",
       "    }\n",
       "\n",
       "    .dataframe tbody tr th {\n",
       "        vertical-align: top;\n",
       "    }\n",
       "\n",
       "    .dataframe thead th {\n",
       "        text-align: right;\n",
       "    }\n",
       "</style>\n",
       "<table border=\"1\" class=\"dataframe\">\n",
       "  <thead>\n",
       "    <tr style=\"text-align: right;\">\n",
       "      <th></th>\n",
       "      <th>Population</th>\n",
       "      <th>Year</th>\n",
       "    </tr>\n",
       "  </thead>\n",
       "  <tbody>\n",
       "    <tr>\n",
       "      <th>0</th>\n",
       "      <td>2557628654</td>\n",
       "      <td>1950</td>\n",
       "    </tr>\n",
       "    <tr>\n",
       "      <th>1</th>\n",
       "      <td>2594939877</td>\n",
       "      <td>1951</td>\n",
       "    </tr>\n",
       "    <tr>\n",
       "      <th>2</th>\n",
       "      <td>2636772306</td>\n",
       "      <td>1952</td>\n",
       "    </tr>\n",
       "    <tr>\n",
       "      <th>3</th>\n",
       "      <td>2682053389</td>\n",
       "      <td>1953</td>\n",
       "    </tr>\n",
       "    <tr>\n",
       "      <th>4</th>\n",
       "      <td>2730228104</td>\n",
       "      <td>1954</td>\n",
       "    </tr>\n",
       "    <tr>\n",
       "      <th>...</th>\n",
       "      <td>...</td>\n",
       "      <td>...</td>\n",
       "    </tr>\n",
       "    <tr>\n",
       "      <th>61</th>\n",
       "      <td>6944055583</td>\n",
       "      <td>2011</td>\n",
       "    </tr>\n",
       "    <tr>\n",
       "      <th>62</th>\n",
       "      <td>7022349283</td>\n",
       "      <td>2012</td>\n",
       "    </tr>\n",
       "    <tr>\n",
       "      <th>63</th>\n",
       "      <td>7101027895</td>\n",
       "      <td>2013</td>\n",
       "    </tr>\n",
       "    <tr>\n",
       "      <th>64</th>\n",
       "      <td>7178722893</td>\n",
       "      <td>2014</td>\n",
       "    </tr>\n",
       "    <tr>\n",
       "      <th>65</th>\n",
       "      <td>7256490011</td>\n",
       "      <td>2015</td>\n",
       "    </tr>\n",
       "  </tbody>\n",
       "</table>\n",
       "<p>66 rows × 2 columns</p>\n",
       "</div>"
      ],
      "text/plain": [
       "    Population  Year\n",
       "0   2557628654  1950\n",
       "1   2594939877  1951\n",
       "2   2636772306  1952\n",
       "3   2682053389  1953\n",
       "4   2730228104  1954\n",
       "..         ...   ...\n",
       "61  6944055583  2011\n",
       "62  7022349283  2012\n",
       "63  7101027895  2013\n",
       "64  7178722893  2014\n",
       "65  7256490011  2015\n",
       "\n",
       "[66 rows x 2 columns]"
      ]
     },
     "execution_count": 19,
     "metadata": {},
     "output_type": "execute_result"
    }
   ],
   "source": [
    "population_amounts['Year'] = years\n",
    "\n",
    "population_amounts"
   ]
  },
  {
   "cell_type": "markdown",
   "metadata": {},
   "source": [
    "We can **change the position** of the columns with the following syntax:"
   ]
  },
  {
   "cell_type": "code",
   "execution_count": 20,
   "metadata": {},
   "outputs": [
    {
     "data": {
      "text/html": [
       "<div>\n",
       "<style scoped>\n",
       "    .dataframe tbody tr th:only-of-type {\n",
       "        vertical-align: middle;\n",
       "    }\n",
       "\n",
       "    .dataframe tbody tr th {\n",
       "        vertical-align: top;\n",
       "    }\n",
       "\n",
       "    .dataframe thead th {\n",
       "        text-align: right;\n",
       "    }\n",
       "</style>\n",
       "<table border=\"1\" class=\"dataframe\">\n",
       "  <thead>\n",
       "    <tr style=\"text-align: right;\">\n",
       "      <th></th>\n",
       "      <th>Year</th>\n",
       "      <th>Population</th>\n",
       "    </tr>\n",
       "  </thead>\n",
       "  <tbody>\n",
       "    <tr>\n",
       "      <th>0</th>\n",
       "      <td>1950</td>\n",
       "      <td>2557628654</td>\n",
       "    </tr>\n",
       "    <tr>\n",
       "      <th>1</th>\n",
       "      <td>1951</td>\n",
       "      <td>2594939877</td>\n",
       "    </tr>\n",
       "    <tr>\n",
       "      <th>2</th>\n",
       "      <td>1952</td>\n",
       "      <td>2636772306</td>\n",
       "    </tr>\n",
       "    <tr>\n",
       "      <th>3</th>\n",
       "      <td>1953</td>\n",
       "      <td>2682053389</td>\n",
       "    </tr>\n",
       "    <tr>\n",
       "      <th>4</th>\n",
       "      <td>1954</td>\n",
       "      <td>2730228104</td>\n",
       "    </tr>\n",
       "    <tr>\n",
       "      <th>...</th>\n",
       "      <td>...</td>\n",
       "      <td>...</td>\n",
       "    </tr>\n",
       "    <tr>\n",
       "      <th>61</th>\n",
       "      <td>2011</td>\n",
       "      <td>6944055583</td>\n",
       "    </tr>\n",
       "    <tr>\n",
       "      <th>62</th>\n",
       "      <td>2012</td>\n",
       "      <td>7022349283</td>\n",
       "    </tr>\n",
       "    <tr>\n",
       "      <th>63</th>\n",
       "      <td>2013</td>\n",
       "      <td>7101027895</td>\n",
       "    </tr>\n",
       "    <tr>\n",
       "      <th>64</th>\n",
       "      <td>2014</td>\n",
       "      <td>7178722893</td>\n",
       "    </tr>\n",
       "    <tr>\n",
       "      <th>65</th>\n",
       "      <td>2015</td>\n",
       "      <td>7256490011</td>\n",
       "    </tr>\n",
       "  </tbody>\n",
       "</table>\n",
       "<p>66 rows × 2 columns</p>\n",
       "</div>"
      ],
      "text/plain": [
       "    Year  Population\n",
       "0   1950  2557628654\n",
       "1   1951  2594939877\n",
       "2   1952  2636772306\n",
       "3   1953  2682053389\n",
       "4   1954  2730228104\n",
       "..   ...         ...\n",
       "61  2011  6944055583\n",
       "62  2012  7022349283\n",
       "63  2013  7101027895\n",
       "64  2014  7178722893\n",
       "65  2015  7256490011\n",
       "\n",
       "[66 rows x 2 columns]"
      ]
     },
     "execution_count": 20,
     "metadata": {},
     "output_type": "execute_result"
    }
   ],
   "source": [
    "population_amounts[['Year','Population']]"
   ]
  },
  {
   "cell_type": "markdown",
   "metadata": {},
   "source": [
    "If you type the table name 'population' in the following line, you'll notice that the columns stayed the same despite the operation done by the previous cell."
   ]
  },
  {
   "cell_type": "code",
   "execution_count": 21,
   "metadata": {},
   "outputs": [
    {
     "data": {
      "text/html": [
       "<div>\n",
       "<style scoped>\n",
       "    .dataframe tbody tr th:only-of-type {\n",
       "        vertical-align: middle;\n",
       "    }\n",
       "\n",
       "    .dataframe tbody tr th {\n",
       "        vertical-align: top;\n",
       "    }\n",
       "\n",
       "    .dataframe thead th {\n",
       "        text-align: right;\n",
       "    }\n",
       "</style>\n",
       "<table border=\"1\" class=\"dataframe\">\n",
       "  <thead>\n",
       "    <tr style=\"text-align: right;\">\n",
       "      <th></th>\n",
       "      <th>Population</th>\n",
       "      <th>Year</th>\n",
       "    </tr>\n",
       "  </thead>\n",
       "  <tbody>\n",
       "    <tr>\n",
       "      <th>0</th>\n",
       "      <td>2557628654</td>\n",
       "      <td>1950</td>\n",
       "    </tr>\n",
       "    <tr>\n",
       "      <th>1</th>\n",
       "      <td>2594939877</td>\n",
       "      <td>1951</td>\n",
       "    </tr>\n",
       "    <tr>\n",
       "      <th>2</th>\n",
       "      <td>2636772306</td>\n",
       "      <td>1952</td>\n",
       "    </tr>\n",
       "    <tr>\n",
       "      <th>3</th>\n",
       "      <td>2682053389</td>\n",
       "      <td>1953</td>\n",
       "    </tr>\n",
       "    <tr>\n",
       "      <th>4</th>\n",
       "      <td>2730228104</td>\n",
       "      <td>1954</td>\n",
       "    </tr>\n",
       "    <tr>\n",
       "      <th>...</th>\n",
       "      <td>...</td>\n",
       "      <td>...</td>\n",
       "    </tr>\n",
       "    <tr>\n",
       "      <th>61</th>\n",
       "      <td>6944055583</td>\n",
       "      <td>2011</td>\n",
       "    </tr>\n",
       "    <tr>\n",
       "      <th>62</th>\n",
       "      <td>7022349283</td>\n",
       "      <td>2012</td>\n",
       "    </tr>\n",
       "    <tr>\n",
       "      <th>63</th>\n",
       "      <td>7101027895</td>\n",
       "      <td>2013</td>\n",
       "    </tr>\n",
       "    <tr>\n",
       "      <th>64</th>\n",
       "      <td>7178722893</td>\n",
       "      <td>2014</td>\n",
       "    </tr>\n",
       "    <tr>\n",
       "      <th>65</th>\n",
       "      <td>7256490011</td>\n",
       "      <td>2015</td>\n",
       "    </tr>\n",
       "  </tbody>\n",
       "</table>\n",
       "<p>66 rows × 2 columns</p>\n",
       "</div>"
      ],
      "text/plain": [
       "    Population  Year\n",
       "0   2557628654  1950\n",
       "1   2594939877  1951\n",
       "2   2636772306  1952\n",
       "3   2682053389  1953\n",
       "4   2730228104  1954\n",
       "..         ...   ...\n",
       "61  6944055583  2011\n",
       "62  7022349283  2012\n",
       "63  7101027895  2013\n",
       "64  7178722893  2014\n",
       "65  7256490011  2015\n",
       "\n",
       "[66 rows x 2 columns]"
      ]
     },
     "execution_count": 21,
     "metadata": {},
     "output_type": "execute_result"
    }
   ],
   "source": [
    "population_amounts"
   ]
  },
  {
   "cell_type": "markdown",
   "metadata": {},
   "source": [
    "To update the columns in the table, simple reassign the variable name to the table operations you did in the previous step. You can do so in the following cell below:"
   ]
  },
  {
   "cell_type": "code",
   "execution_count": 22,
   "metadata": {},
   "outputs": [
    {
     "data": {
      "text/html": [
       "<div>\n",
       "<style scoped>\n",
       "    .dataframe tbody tr th:only-of-type {\n",
       "        vertical-align: middle;\n",
       "    }\n",
       "\n",
       "    .dataframe tbody tr th {\n",
       "        vertical-align: top;\n",
       "    }\n",
       "\n",
       "    .dataframe thead th {\n",
       "        text-align: right;\n",
       "    }\n",
       "</style>\n",
       "<table border=\"1\" class=\"dataframe\">\n",
       "  <thead>\n",
       "    <tr style=\"text-align: right;\">\n",
       "      <th></th>\n",
       "      <th>Year</th>\n",
       "      <th>Population</th>\n",
       "    </tr>\n",
       "  </thead>\n",
       "  <tbody>\n",
       "    <tr>\n",
       "      <th>0</th>\n",
       "      <td>1950</td>\n",
       "      <td>2557628654</td>\n",
       "    </tr>\n",
       "    <tr>\n",
       "      <th>1</th>\n",
       "      <td>1951</td>\n",
       "      <td>2594939877</td>\n",
       "    </tr>\n",
       "    <tr>\n",
       "      <th>2</th>\n",
       "      <td>1952</td>\n",
       "      <td>2636772306</td>\n",
       "    </tr>\n",
       "    <tr>\n",
       "      <th>3</th>\n",
       "      <td>1953</td>\n",
       "      <td>2682053389</td>\n",
       "    </tr>\n",
       "    <tr>\n",
       "      <th>4</th>\n",
       "      <td>1954</td>\n",
       "      <td>2730228104</td>\n",
       "    </tr>\n",
       "    <tr>\n",
       "      <th>...</th>\n",
       "      <td>...</td>\n",
       "      <td>...</td>\n",
       "    </tr>\n",
       "    <tr>\n",
       "      <th>61</th>\n",
       "      <td>2011</td>\n",
       "      <td>6944055583</td>\n",
       "    </tr>\n",
       "    <tr>\n",
       "      <th>62</th>\n",
       "      <td>2012</td>\n",
       "      <td>7022349283</td>\n",
       "    </tr>\n",
       "    <tr>\n",
       "      <th>63</th>\n",
       "      <td>2013</td>\n",
       "      <td>7101027895</td>\n",
       "    </tr>\n",
       "    <tr>\n",
       "      <th>64</th>\n",
       "      <td>2014</td>\n",
       "      <td>7178722893</td>\n",
       "    </tr>\n",
       "    <tr>\n",
       "      <th>65</th>\n",
       "      <td>2015</td>\n",
       "      <td>7256490011</td>\n",
       "    </tr>\n",
       "  </tbody>\n",
       "</table>\n",
       "<p>66 rows × 2 columns</p>\n",
       "</div>"
      ],
      "text/plain": [
       "    Year  Population\n",
       "0   1950  2557628654\n",
       "1   1951  2594939877\n",
       "2   1952  2636772306\n",
       "3   1953  2682053389\n",
       "4   1954  2730228104\n",
       "..   ...         ...\n",
       "61  2011  6944055583\n",
       "62  2012  7022349283\n",
       "63  2013  7101027895\n",
       "64  2014  7178722893\n",
       "65  2015  7256490011\n",
       "\n",
       "[66 rows x 2 columns]"
      ]
     },
     "execution_count": 22,
     "metadata": {},
     "output_type": "execute_result"
    }
   ],
   "source": [
    "population_amounts = population_amounts[['Year','Population']]\n",
    "\n",
    "population_amounts"
   ]
  },
  {
   "cell_type": "markdown",
   "metadata": {},
   "source": [
    "We can get the first element of the table by using **`.iloc`** just like we did in early.\n",
    "\n",
    "The first element in the world population is the first year in the dataset, 1950.\n",
    "\n",
    "Run the cells below"
   ]
  },
  {
   "cell_type": "code",
   "execution_count": 23,
   "metadata": {},
   "outputs": [
    {
     "data": {
      "text/plain": [
       "2557628654"
      ]
     },
     "execution_count": 23,
     "metadata": {},
     "output_type": "execute_result"
    }
   ],
   "source": [
    "population_amounts.iloc[0,1]"
   ]
  },
  {
   "cell_type": "markdown",
   "metadata": {},
   "source": [
    "The value of that expression is the number 2557628654 (around 2.5 billion), because that's the first thing in the array population_amounts.\n",
    "\n",
    "Here are some more examples. In the examples, we've given names to the things we get out of population_amounts. Read and run each cell."
   ]
  },
  {
   "cell_type": "code",
   "execution_count": 24,
   "metadata": {},
   "outputs": [
    {
     "data": {
      "text/plain": [
       "3140093217"
      ]
     },
     "execution_count": 24,
     "metadata": {},
     "output_type": "execute_result"
    }
   ],
   "source": [
    "# The 13th element in the array is the population\n",
    "# is 1962. The value of 1962 can be indexed from\n",
    "# the table by subtracting 1962 - 1950\n",
    "population_1962 = population_amounts.iloc[1962 - 1950,1]\n",
    "population_1962"
   ]
  },
  {
   "cell_type": "code",
   "execution_count": 25,
   "metadata": {},
   "outputs": [
    {
     "data": {
      "text/plain": [
       "7256490011"
      ]
     },
     "execution_count": 25,
     "metadata": {},
     "output_type": "execute_result"
    }
   ],
   "source": [
    "# The 66th element is the population in 2015.\n",
    "population_2015 = population_amounts.iloc[2015-1950, 1]\n",
    "population_2015"
   ]
  },
  {
   "cell_type": "code",
   "execution_count": 26,
   "metadata": {},
   "outputs": [],
   "source": [
    "# The array has only 66 elements, so this doesn't work.\n",
    "# (There's no element with 66 other elements before it.)\n",
    "# population_2016 = population_amounts.iloc[2016 - 1950, 1]\n",
    "\n",
    "\n",
    "#Comment this cell out after running it"
   ]
  },
  {
   "cell_type": "markdown",
   "metadata": {},
   "source": [
    "**Question:** Set `population_1973` to the world population in 1973, by getting the appropriate element from `population_amounts` using `iloc`."
   ]
  },
  {
   "cell_type": "code",
   "execution_count": 27,
   "metadata": {},
   "outputs": [
    {
     "data": {
      "text/plain": [
       "3942096442"
      ]
     },
     "execution_count": 27,
     "metadata": {},
     "output_type": "execute_result"
    }
   ],
   "source": [
    "population_1973 = population_amounts.iloc[1973-1950, 1]\n",
    "population_1973"
   ]
  },
  {
   "cell_type": "markdown",
   "metadata": {},
   "source": [
    "### Doing something to every element of an array\n",
    "Arrays are primarily useful for doing the same operation many times, so we don't often have to use .iloc and work with single elements.\n",
    "\n",
    "##### Logarithms\n",
    "\n",
    "Here is one simple question we might ask about world population:\n",
    "\n",
    "How big was the population in orders of magnitude in each year?\n",
    "\n",
    "Orders of magnitude quantify how big a number is by representing it as the power of another number (for example, representing 104 as  102.017033 ). One way to do this is by using the logarithm function. The logarithm (base 10) of a number increases by 1 every time we multiply the number by 10. It's like a measure of how many decimal digits the number has, or how big it is in orders of magnitude.\n",
    "\n",
    "We could try to answer our question like this, using the **`log10`** function from the math module and the iloc method you just saw:\n",
    "\n",
    "Run the cells below:"
   ]
  },
  {
   "cell_type": "code",
   "execution_count": 28,
   "metadata": {},
   "outputs": [
    {
     "name": "stdout",
     "output_type": "stream",
     "text": [
      "9.407837488842446\n",
      "9.414127299991945\n",
      "9.421072628649249\n",
      "9.428467418674908\n"
     ]
    }
   ],
   "source": [
    "import math\n",
    "\n",
    "population_1950_magnitude = math.log10(population_amounts.iloc[0,1])\n",
    "population_1951_magnitude = math.log10(population_amounts.iloc[1,1])\n",
    "population_1952_magnitude = math.log10(population_amounts.iloc[2,1])\n",
    "population_1953_magnitude = math.log10(population_amounts.iloc[3,1])\n",
    "\n",
    "print(population_1950_magnitude)\n",
    "print(population_1951_magnitude)\n",
    "print(population_1952_magnitude)\n",
    "print(population_1953_magnitude)"
   ]
  },
  {
   "cell_type": "markdown",
   "metadata": {},
   "source": [
    "But this is tedious and doesn't really take advantage of the fact that we are using a computer.\n",
    "\n",
    "Instead, NumPy provides its own version of `log10` that takes the logarithm of each element of an array.  It takes a single array of numbers as its argument.  It returns an array of the same length, where the first element of the result is the logarithm of the first element of the argument, and so on.\n",
    "\n",
    "**Question:** Use `np.log10` to compute the logarithms of the world population in every year.  Give the result (an array of 66 numbers) the name `population_magnitudes`.  Your code should be very short."
   ]
  },
  {
   "cell_type": "code",
   "execution_count": 29,
   "metadata": {},
   "outputs": [
    {
     "data": {
      "text/plain": [
       "0     9.407837\n",
       "1     9.414127\n",
       "2     9.421073\n",
       "3     9.428467\n",
       "4     9.436199\n",
       "        ...   \n",
       "61    9.841613\n",
       "62    9.846482\n",
       "63    9.851321\n",
       "64    9.856047\n",
       "65    9.860727\n",
       "Name: Population, Length: 66, dtype: float64"
      ]
     },
     "execution_count": 29,
     "metadata": {},
     "output_type": "execute_result"
    }
   ],
   "source": [
    "import numpy as np\n",
    "\n",
    "population_magnitudes = np.log10(population_amounts[\"Population\"])\n",
    "population_magnitudes"
   ]
  },
  {
   "cell_type": "markdown",
   "metadata": {},
   "source": [
    "What you just did is called *elementwise* application of `np.log10`, since `np.log10` operates separately on each element of the array that it's called on. Here's a picture of what's going on:"
   ]
  },
  {
   "cell_type": "markdown",
   "metadata": {},
   "source": [
    "The textbook's [section](https://www.inferentialthinking.com/chapters/05/1/Arrays)  on arrays has a useful list of NumPy functions that are designed to work elementwise, like `np.log10`."
   ]
  },
  {
   "cell_type": "markdown",
   "metadata": {},
   "source": [
    "##### Arithmetic\n",
    "Arithmetic also works elementwise on arrays, meaning that if you perform an arithmetic operation (like subtraction, division, etc) on an array, Python will do the operation to every element of the array individually and return an array of all of the results. For example, you can divide all the population numbers by 1 billion to get numbers in billions:"
   ]
  },
  {
   "cell_type": "code",
   "execution_count": 30,
   "metadata": {},
   "outputs": [
    {
     "name": "stderr",
     "output_type": "stream",
     "text": [
      "/opt/tljh/user/lib/python3.7/site-packages/ipykernel_launcher.py:2: SettingWithCopyWarning: \n",
      "A value is trying to be set on a copy of a slice from a DataFrame.\n",
      "Try using .loc[row_indexer,col_indexer] = value instead\n",
      "\n",
      "See the caveats in the documentation: https://pandas.pydata.org/pandas-docs/stable/user_guide/indexing.html#returning-a-view-versus-a-copy\n",
      "  \n"
     ]
    },
    {
     "data": {
      "text/html": [
       "<div>\n",
       "<style scoped>\n",
       "    .dataframe tbody tr th:only-of-type {\n",
       "        vertical-align: middle;\n",
       "    }\n",
       "\n",
       "    .dataframe tbody tr th {\n",
       "        vertical-align: top;\n",
       "    }\n",
       "\n",
       "    .dataframe thead th {\n",
       "        text-align: right;\n",
       "    }\n",
       "</style>\n",
       "<table border=\"1\" class=\"dataframe\">\n",
       "  <thead>\n",
       "    <tr style=\"text-align: right;\">\n",
       "      <th></th>\n",
       "      <th>Year</th>\n",
       "      <th>Population</th>\n",
       "      <th>PopInBillions</th>\n",
       "    </tr>\n",
       "  </thead>\n",
       "  <tbody>\n",
       "    <tr>\n",
       "      <th>0</th>\n",
       "      <td>1950</td>\n",
       "      <td>2557628654</td>\n",
       "      <td>2.557629</td>\n",
       "    </tr>\n",
       "    <tr>\n",
       "      <th>1</th>\n",
       "      <td>1951</td>\n",
       "      <td>2594939877</td>\n",
       "      <td>2.594940</td>\n",
       "    </tr>\n",
       "    <tr>\n",
       "      <th>2</th>\n",
       "      <td>1952</td>\n",
       "      <td>2636772306</td>\n",
       "      <td>2.636772</td>\n",
       "    </tr>\n",
       "    <tr>\n",
       "      <th>3</th>\n",
       "      <td>1953</td>\n",
       "      <td>2682053389</td>\n",
       "      <td>2.682053</td>\n",
       "    </tr>\n",
       "    <tr>\n",
       "      <th>4</th>\n",
       "      <td>1954</td>\n",
       "      <td>2730228104</td>\n",
       "      <td>2.730228</td>\n",
       "    </tr>\n",
       "    <tr>\n",
       "      <th>...</th>\n",
       "      <td>...</td>\n",
       "      <td>...</td>\n",
       "      <td>...</td>\n",
       "    </tr>\n",
       "    <tr>\n",
       "      <th>61</th>\n",
       "      <td>2011</td>\n",
       "      <td>6944055583</td>\n",
       "      <td>6.944056</td>\n",
       "    </tr>\n",
       "    <tr>\n",
       "      <th>62</th>\n",
       "      <td>2012</td>\n",
       "      <td>7022349283</td>\n",
       "      <td>7.022349</td>\n",
       "    </tr>\n",
       "    <tr>\n",
       "      <th>63</th>\n",
       "      <td>2013</td>\n",
       "      <td>7101027895</td>\n",
       "      <td>7.101028</td>\n",
       "    </tr>\n",
       "    <tr>\n",
       "      <th>64</th>\n",
       "      <td>2014</td>\n",
       "      <td>7178722893</td>\n",
       "      <td>7.178723</td>\n",
       "    </tr>\n",
       "    <tr>\n",
       "      <th>65</th>\n",
       "      <td>2015</td>\n",
       "      <td>7256490011</td>\n",
       "      <td>7.256490</td>\n",
       "    </tr>\n",
       "  </tbody>\n",
       "</table>\n",
       "<p>66 rows × 3 columns</p>\n",
       "</div>"
      ],
      "text/plain": [
       "    Year  Population  PopInBillions\n",
       "0   1950  2557628654       2.557629\n",
       "1   1951  2594939877       2.594940\n",
       "2   1952  2636772306       2.636772\n",
       "3   1953  2682053389       2.682053\n",
       "4   1954  2730228104       2.730228\n",
       "..   ...         ...            ...\n",
       "61  2011  6944055583       6.944056\n",
       "62  2012  7022349283       7.022349\n",
       "63  2013  7101027895       7.101028\n",
       "64  2014  7178722893       7.178723\n",
       "65  2015  7256490011       7.256490\n",
       "\n",
       "[66 rows x 3 columns]"
      ]
     },
     "execution_count": 30,
     "metadata": {},
     "output_type": "execute_result"
    }
   ],
   "source": [
    "pop_amt_billions = population_amounts['Population'] / 1000000000\n",
    "population_amounts['PopInBillions'] = pop_amt_billions\n",
    "population_amounts"
   ]
  },
  {
   "cell_type": "markdown",
   "metadata": {},
   "source": [
    "## 2. Creating Tables\n",
    "\n",
    "\n",
    "Arrays are provided by a package called NumPy (pronounced \"NUM-pie\"). The package is called numpy, but it's standard to rename it np for brevity. You can do that with **`import numpy as np`**.\n",
    "\n",
    "Very often in data science, we want to work with many numbers that are evenly spaced within some range. NumPy provides a special function for this called arange. The line of code `np.arange(start, stop, step)` evaluates to an array with all the numbers starting at start and counting up by step, stopping before stop is reached.\n",
    "\n",
    "An array is useful for describing a single attribute of each element in a collection. For example, let's say our collection is all US States. Then an array could describe the land area of each state. \n",
    "\n",
    "Tables extend this idea by containing multiple arrays, each one describing a different attribute for every element of a collection. In this way, tables allow us to not only store data about many entities but to also contain several kinds of data about each entity.\n",
    "\n",
    "We can create tables using **arrays** and **dictionaries**.\n",
    "\n",
    "Below is a simple method for creating a table from some arrays generated using `np.arrange`.\n"
   ]
  },
  {
   "cell_type": "code",
   "execution_count": 31,
   "metadata": {},
   "outputs": [
    {
     "data": {
      "text/html": [
       "<div>\n",
       "<style scoped>\n",
       "    .dataframe tbody tr th:only-of-type {\n",
       "        vertical-align: middle;\n",
       "    }\n",
       "\n",
       "    .dataframe tbody tr th {\n",
       "        vertical-align: top;\n",
       "    }\n",
       "\n",
       "    .dataframe thead th {\n",
       "        text-align: right;\n",
       "    }\n",
       "</style>\n",
       "<table border=\"1\" class=\"dataframe\">\n",
       "  <thead>\n",
       "    <tr style=\"text-align: right;\">\n",
       "      <th></th>\n",
       "      <th>a</th>\n",
       "      <th>b</th>\n",
       "      <th>c</th>\n",
       "    </tr>\n",
       "  </thead>\n",
       "  <tbody>\n",
       "    <tr>\n",
       "      <th>0</th>\n",
       "      <td>1</td>\n",
       "      <td>2</td>\n",
       "      <td>3</td>\n",
       "    </tr>\n",
       "    <tr>\n",
       "      <th>1</th>\n",
       "      <td>4</td>\n",
       "      <td>5</td>\n",
       "      <td>6</td>\n",
       "    </tr>\n",
       "    <tr>\n",
       "      <th>2</th>\n",
       "      <td>7</td>\n",
       "      <td>8</td>\n",
       "      <td>9</td>\n",
       "    </tr>\n",
       "  </tbody>\n",
       "</table>\n",
       "</div>"
      ],
      "text/plain": [
       "   a  b  c\n",
       "0  1  2  3\n",
       "1  4  5  6\n",
       "2  7  8  9"
      ]
     },
     "execution_count": 31,
     "metadata": {},
     "output_type": "execute_result"
    }
   ],
   "source": [
    "df1 = pd.DataFrame(np.array([[1, 2, 3], [4, 5, 6], [7, 8, 9]]),\n",
    "                   columns=['a', 'b', 'c'])\n",
    "df1"
   ]
  },
  {
   "cell_type": "markdown",
   "metadata": {},
   "source": [
    "Next is an example of creating a table using the dictionary method."
   ]
  },
  {
   "cell_type": "code",
   "execution_count": 32,
   "metadata": {},
   "outputs": [
    {
     "data": {
      "text/html": [
       "<div>\n",
       "<style scoped>\n",
       "    .dataframe tbody tr th:only-of-type {\n",
       "        vertical-align: middle;\n",
       "    }\n",
       "\n",
       "    .dataframe tbody tr th {\n",
       "        vertical-align: top;\n",
       "    }\n",
       "\n",
       "    .dataframe thead th {\n",
       "        text-align: right;\n",
       "    }\n",
       "</style>\n",
       "<table border=\"1\" class=\"dataframe\">\n",
       "  <thead>\n",
       "    <tr style=\"text-align: right;\">\n",
       "      <th></th>\n",
       "      <th>Name</th>\n",
       "      <th>Height</th>\n",
       "      <th>Qualification</th>\n",
       "      <th>Address</th>\n",
       "    </tr>\n",
       "  </thead>\n",
       "  <tbody>\n",
       "    <tr>\n",
       "      <th>0</th>\n",
       "      <td>Jai</td>\n",
       "      <td>5.1</td>\n",
       "      <td>Msc</td>\n",
       "      <td>Delhi</td>\n",
       "    </tr>\n",
       "    <tr>\n",
       "      <th>1</th>\n",
       "      <td>Princi</td>\n",
       "      <td>6.2</td>\n",
       "      <td>MA</td>\n",
       "      <td>Bangalore</td>\n",
       "    </tr>\n",
       "    <tr>\n",
       "      <th>2</th>\n",
       "      <td>Gaurav</td>\n",
       "      <td>5.1</td>\n",
       "      <td>Msc</td>\n",
       "      <td>Chennai</td>\n",
       "    </tr>\n",
       "    <tr>\n",
       "      <th>3</th>\n",
       "      <td>Anuj</td>\n",
       "      <td>5.2</td>\n",
       "      <td>Msc</td>\n",
       "      <td>Patna</td>\n",
       "    </tr>\n",
       "  </tbody>\n",
       "</table>\n",
       "</div>"
      ],
      "text/plain": [
       "     Name  Height Qualification    Address\n",
       "0     Jai     5.1           Msc      Delhi\n",
       "1  Princi     6.2            MA  Bangalore\n",
       "2  Gaurav     5.1           Msc    Chennai\n",
       "3    Anuj     5.2           Msc      Patna"
      ]
     },
     "execution_count": 32,
     "metadata": {},
     "output_type": "execute_result"
    }
   ],
   "source": [
    "random_data = {'Name': ['Jai', 'Princi', 'Gaurav', 'Anuj'], \n",
    "        'Height': [5.1, 6.2, 5.1, 5.2], \n",
    "        'Qualification': ['Msc', 'MA', 'Msc', 'Msc']} \n",
    "  \n",
    "# Convert the dictionary into DataFrame \n",
    "df2 = pd.DataFrame(random_data) \n",
    "  \n",
    "# Declare a list that is to be converted into a column \n",
    "address = ['Delhi', 'Bangalore', 'Chennai', 'Patna'] \n",
    "  \n",
    "# Using 'Address' as the column name \n",
    "# and equating it to the list \n",
    "df2['Address'] = address \n",
    "  \n",
    "# Observe the result \n",
    "df2 "
   ]
  },
  {
   "cell_type": "markdown",
   "metadata": {},
   "source": [
    "**Question 1:** Create a table using the array method. The column names should be your three favorite fruit, and the values can be any integer values."
   ]
  },
  {
   "cell_type": "code",
   "execution_count": 33,
   "metadata": {},
   "outputs": [
    {
     "data": {
      "text/html": [
       "<div>\n",
       "<style scoped>\n",
       "    .dataframe tbody tr th:only-of-type {\n",
       "        vertical-align: middle;\n",
       "    }\n",
       "\n",
       "    .dataframe tbody tr th {\n",
       "        vertical-align: top;\n",
       "    }\n",
       "\n",
       "    .dataframe thead th {\n",
       "        text-align: right;\n",
       "    }\n",
       "</style>\n",
       "<table border=\"1\" class=\"dataframe\">\n",
       "  <thead>\n",
       "    <tr style=\"text-align: right;\">\n",
       "      <th></th>\n",
       "      <th>Name</th>\n",
       "      <th>Height</th>\n",
       "      <th>Qualification</th>\n",
       "      <th>Address</th>\n",
       "    </tr>\n",
       "  </thead>\n",
       "  <tbody>\n",
       "    <tr>\n",
       "      <th>0</th>\n",
       "      <td>Jai</td>\n",
       "      <td>Princi</td>\n",
       "      <td>Gaurav</td>\n",
       "      <td>Anuj</td>\n",
       "    </tr>\n",
       "    <tr>\n",
       "      <th>1</th>\n",
       "      <td>5.1</td>\n",
       "      <td>6.2</td>\n",
       "      <td>5.1</td>\n",
       "      <td>5.2</td>\n",
       "    </tr>\n",
       "    <tr>\n",
       "      <th>2</th>\n",
       "      <td>Msc</td>\n",
       "      <td>MA</td>\n",
       "      <td>Msc</td>\n",
       "      <td>Msc</td>\n",
       "    </tr>\n",
       "    <tr>\n",
       "      <th>3</th>\n",
       "      <td>Delhi</td>\n",
       "      <td>Bangalore</td>\n",
       "      <td>Chennai</td>\n",
       "      <td>Patna</td>\n",
       "    </tr>\n",
       "  </tbody>\n",
       "</table>\n",
       "</div>"
      ],
      "text/plain": [
       "    Name     Height Qualification Address\n",
       "0    Jai     Princi        Gaurav    Anuj\n",
       "1    5.1        6.2           5.1     5.2\n",
       "2    Msc         MA           Msc     Msc\n",
       "3  Delhi  Bangalore       Chennai   Patna"
      ]
     },
     "execution_count": 33,
     "metadata": {},
     "output_type": "execute_result"
    }
   ],
   "source": [
    "df3 = pd.DataFrame(np.array([[\"Jai\", \"Princi\", \"Gaurav\", \"Anuj\"], [5.1, 6.2, 5.1, 5.2], [\"Msc\", \"MA\", \"Msc\", \"Msc\"], [\"Delhi\", \"Bangalore\", \"Chennai\", \"Patna\"]]), columns=[\"Name\", \"Height\", \"Qualification\", \"Address\"])\n",
    "\n",
    "df3\n"
   ]
  },
  {
   "cell_type": "markdown",
   "metadata": {},
   "source": [
    "**Question 2:** Create a table using the dictionary method. The column names should be your 5 favorite movies, and the values can be any integer values."
   ]
  },
  {
   "cell_type": "code",
   "execution_count": 34,
   "metadata": {},
   "outputs": [
    {
     "data": {
      "text/html": [
       "<div>\n",
       "<style scoped>\n",
       "    .dataframe tbody tr th:only-of-type {\n",
       "        vertical-align: middle;\n",
       "    }\n",
       "\n",
       "    .dataframe tbody tr th {\n",
       "        vertical-align: top;\n",
       "    }\n",
       "\n",
       "    .dataframe thead th {\n",
       "        text-align: right;\n",
       "    }\n",
       "</style>\n",
       "<table border=\"1\" class=\"dataframe\">\n",
       "  <thead>\n",
       "    <tr style=\"text-align: right;\">\n",
       "      <th></th>\n",
       "      <th>Intersteller</th>\n",
       "      <th>The Usual Suspects</th>\n",
       "      <th>3 Idiots</th>\n",
       "      <th>Taxi Driver</th>\n",
       "      <th>Mean Streets</th>\n",
       "    </tr>\n",
       "  </thead>\n",
       "  <tbody>\n",
       "    <tr>\n",
       "      <th>0</th>\n",
       "      <td>2014</td>\n",
       "      <td>1995</td>\n",
       "      <td>2009</td>\n",
       "      <td>1976</td>\n",
       "      <td>1973</td>\n",
       "    </tr>\n",
       "  </tbody>\n",
       "</table>\n",
       "</div>"
      ],
      "text/plain": [
       "   Intersteller  The Usual Suspects  3 Idiots  Taxi Driver  Mean Streets\n",
       "0          2014                1995      2009         1976          1973"
      ]
     },
     "execution_count": 34,
     "metadata": {},
     "output_type": "execute_result"
    }
   ],
   "source": [
    "movies_data = { \"Intersteller\": [2014],\n",
    "               \"The Usual Suspects\": [1995],\n",
    "               \"3 Idiots\": [2009],\n",
    "               \"Taxi Driver\": [1976],\n",
    "               \"Mean Streets\": [1973]}\n",
    "\n",
    "df4 = pd.DataFrame(movies_data)\n",
    "\n",
    "df4\n"
   ]
  },
  {
   "cell_type": "markdown",
   "metadata": {},
   "source": [
    "# 4. Histograms\n",
    "\n",
    "We will now take a look at how to create a histogram.\n",
    "\n",
    "A **histogram** depicts data values by splitting a continuous variable into a number of class intervals, each known as a bin. The simplest and most common type of histogram has bins of equal size. When bin sizes are equal, bins have rectangular bars with heights representing the frequency, which is the number of values in a bin.\n",
    "\n",
    "\n",
    "\n",
    "Let's start by creating a dictionary filled with various subject grades by a student name Billy, and store them in a DataFrame."
   ]
  },
  {
   "cell_type": "code",
   "execution_count": 35,
   "metadata": {},
   "outputs": [
    {
     "data": {
      "text/html": [
       "<div>\n",
       "<style scoped>\n",
       "    .dataframe tbody tr th:only-of-type {\n",
       "        vertical-align: middle;\n",
       "    }\n",
       "\n",
       "    .dataframe tbody tr th {\n",
       "        vertical-align: top;\n",
       "    }\n",
       "\n",
       "    .dataframe thead th {\n",
       "        text-align: right;\n",
       "    }\n",
       "</style>\n",
       "<table border=\"1\" class=\"dataframe\">\n",
       "  <thead>\n",
       "    <tr style=\"text-align: right;\">\n",
       "      <th></th>\n",
       "      <th>Math</th>\n",
       "      <th>Reading</th>\n",
       "      <th>History</th>\n",
       "    </tr>\n",
       "  </thead>\n",
       "  <tbody>\n",
       "    <tr>\n",
       "      <th>0</th>\n",
       "      <td>51</td>\n",
       "      <td>54</td>\n",
       "      <td>59</td>\n",
       "    </tr>\n",
       "    <tr>\n",
       "      <th>1</th>\n",
       "      <td>66</td>\n",
       "      <td>60</td>\n",
       "      <td>52</td>\n",
       "    </tr>\n",
       "    <tr>\n",
       "      <th>2</th>\n",
       "      <td>75</td>\n",
       "      <td>73</td>\n",
       "      <td>53</td>\n",
       "    </tr>\n",
       "    <tr>\n",
       "      <th>3</th>\n",
       "      <td>78</td>\n",
       "      <td>75</td>\n",
       "      <td>56</td>\n",
       "    </tr>\n",
       "    <tr>\n",
       "      <th>4</th>\n",
       "      <td>85</td>\n",
       "      <td>80</td>\n",
       "      <td>66</td>\n",
       "    </tr>\n",
       "    <tr>\n",
       "      <th>5</th>\n",
       "      <td>86</td>\n",
       "      <td>84</td>\n",
       "      <td>67</td>\n",
       "    </tr>\n",
       "    <tr>\n",
       "      <th>6</th>\n",
       "      <td>89</td>\n",
       "      <td>91</td>\n",
       "      <td>73</td>\n",
       "    </tr>\n",
       "    <tr>\n",
       "      <th>7</th>\n",
       "      <td>89</td>\n",
       "      <td>93</td>\n",
       "      <td>77</td>\n",
       "    </tr>\n",
       "    <tr>\n",
       "      <th>8</th>\n",
       "      <td>95</td>\n",
       "      <td>95</td>\n",
       "      <td>88</td>\n",
       "    </tr>\n",
       "    <tr>\n",
       "      <th>9</th>\n",
       "      <td>99</td>\n",
       "      <td>99</td>\n",
       "      <td>96</td>\n",
       "    </tr>\n",
       "  </tbody>\n",
       "</table>\n",
       "</div>"
      ],
      "text/plain": [
       "   Math  Reading  History\n",
       "0    51       54       59\n",
       "1    66       60       52\n",
       "2    75       73       53\n",
       "3    78       75       56\n",
       "4    85       80       66\n",
       "5    86       84       67\n",
       "6    89       91       73\n",
       "7    89       93       77\n",
       "8    95       95       88\n",
       "9    99       99       96"
      ]
     },
     "execution_count": 35,
     "metadata": {},
     "output_type": "execute_result"
    }
   ],
   "source": [
    "data = { 'Math': [51, 66, 75, 78, 85, 86, 89, 89, 95, 99 ], \n",
    "                'Reading':[54, 60, 73, 75, 80, 84, 91, 93, 95, 99],\n",
    "                'History':[59, 52, 53, 56, 66, 67, 73,77, 88, 96]  }\n",
    "\n",
    "billy_grades = pd.DataFrame(data)\n",
    "\n",
    "billy_grades"
   ]
  },
  {
   "cell_type": "markdown",
   "metadata": {},
   "source": [
    "Now that we have our table, we will have to decide the width of the bins for our histogram.\n",
    "\n",
    "Since we have a dataset that contains grades from 50 to 100, each bin will have values within the range of the 50-59, 60-69, 70-79, etc.\n",
    "\n",
    "A good way we can do this is by using the numpy's **`arange`** function.\n",
    "\n",
    "Run the cell below to see."
   ]
  },
  {
   "cell_type": "code",
   "execution_count": 36,
   "metadata": {},
   "outputs": [
    {
     "data": {
      "text/plain": [
       "array([ 50,  60,  70,  80,  90, 100])"
      ]
     },
     "execution_count": 36,
     "metadata": {},
     "output_type": "execute_result"
    }
   ],
   "source": [
    "bins = np.arange(50, 105, 10)\n",
    "bins"
   ]
  },
  {
   "cell_type": "markdown",
   "metadata": {},
   "source": [
    "Now that we have our bins ready, we can use the following syntac to create a good histogram.\n",
    "\n",
    "Run the cells below"
   ]
  },
  {
   "cell_type": "code",
   "execution_count": 37,
   "metadata": {},
   "outputs": [
    {
     "data": {
      "image/png": "[encoded data removed]",
      "text/plain": [
       "<Figure size 432x288 with 1 Axes>"
      ]
     },
     "metadata": {
      "needs_background": "light"
     },
     "output_type": "display_data"
    }
   ],
   "source": [
    "import matplotlib.pyplot as plot\n",
    "\n",
    "plot.hist(billy_grades['Math'], bins, edgecolor = 'black', linewidth = 1.2)\n",
    "plot.xlabel(\"Grades\")\n",
    "plot.ylabel(\"Frequency\")\n",
    "plot.title(\"Math Grades Distribution\")\n",
    "math = plot.show()\n",
    "math"
   ]
  },
  {
   "cell_type": "markdown",
   "metadata": {},
   "source": [
    "**Question 1:** Using the table **`billy_grades`**, create a histogram for Billy's **History**  grades and store it in the variable `history`. Be sure to give your histograms a title and label each axis"
   ]
  },
  {
   "cell_type": "code",
   "execution_count": 38,
   "metadata": {},
   "outputs": [
    {
     "data": {
      "image/png": "[encoded data removed]",
      "text/plain": [
       "<Figure size 432x288 with 1 Axes>"
      ]
     },
     "metadata": {
      "needs_background": "light"
     },
     "output_type": "display_data"
    }
   ],
   "source": [
    "history_bins = np.arange(50, 101, 10)\n",
    "\n",
    "plot.hist(billy_grades['History'], history_bins, edgecolor = 'black', linewidth = 1.2)\n",
    "plot.xlabel(\"Grades\")\n",
    "plot.ylabel(\"Frequency\")\n",
    "plot.title(\"History Grades Distribution\")\n",
    "history = plot.show()\n"
   ]
  },
  {
   "cell_type": "markdown",
   "metadata": {},
   "source": [
    "**Question 2:** Using the table **`billy_grades`**, create a histogram for Billy's **Reading** grades and store it in the variable `reading`. Be sure to give your histograms a title and label each axis."
   ]
  },
  {
   "cell_type": "code",
   "execution_count": 39,
   "metadata": {},
   "outputs": [
    {
     "data": {
      "image/png": "[encoded data removed]",
      "text/plain": [
       "<Figure size 432x288 with 1 Axes>"
      ]
     },
     "metadata": {
      "needs_background": "light"
     },
     "output_type": "display_data"
    }
   ],
   "source": [
    "reading_bins = np.arange(50, 101, 10)\n",
    "\n",
    "plot.hist(billy_grades['Reading'], reading_bins, edgecolor = 'black', linewidth = 1.2)\n",
    "plot.xlabel(\"Grades\")\n",
    "plot.ylabel(\"Frequency\")\n",
    "plot.title(\"Reading Grades Distribution\")\n",
    "reading = plot.show()\n"
   ]
  },
  {
   "cell_type": "markdown",
   "metadata": {},
   "source": [
    "We will now move to some more practical examples."
   ]
  },
  {
   "cell_type": "markdown",
   "metadata": {},
   "source": [
    "# Uber\n",
    "\n",
    "Below we load tables containing 200,000 weekday Uber rides in the Manila, Philippines, and Boston, Massachusetts metropolitan areas from the Uber Movement project. The sourceid and dstid columns contain codes corresponding to start and end locations of each ride. The hod column contains codes corresponding to the hour of the day the ride took place. The ride time column contains the length of the ride, in minutes."
   ]
  },
  {
   "cell_type": "code",
   "execution_count": 40,
   "metadata": {},
   "outputs": [],
   "source": [
    "boston = pd.read_csv(\"boston.csv\")\n",
    "manila = pd.read_csv(\"manila.csv\")\n"
   ]
  },
  {
   "cell_type": "markdown",
   "metadata": {},
   "source": [
    "**Question 1** Produce a histogram of all ride times in Boston using the given bins. \n"
   ]
  },
  {
   "cell_type": "code",
   "execution_count": 41,
   "metadata": {},
   "outputs": [
    {
     "data": {
      "image/png": "[encoded data removed]",
      "text/plain": [
       "<Figure size 432x288 with 1 Axes>"
      ]
     },
     "metadata": {
      "needs_background": "light"
     },
     "output_type": "display_data"
    }
   ],
   "source": [
    "equal_bins = np.arange(0, 120, 5)\n",
    "\n",
    "plot.hist(boston['ride time'], equal_bins, edgecolor = 'black', linewidth = 1.2)\n",
    "plot.xlabel(\"Ride Times\")\n",
    "plot.ylabel(\"Frequency\")\n",
    "plot.title(\"Boston Ride Times Distribution\")\n",
    "ride_times = plot.show()"
   ]
  },
  {
   "cell_type": "markdown",
   "metadata": {},
   "source": [
    "**Question 2.** Now, produce histograms of all ride times in Manila using the given bins.\n"
   ]
  },
  {
   "cell_type": "code",
   "execution_count": 42,
   "metadata": {},
   "outputs": [
    {
     "data": {
      "image/png": "[encoded data removed]",
      "text/plain": [
       "<Figure size 432x288 with 1 Axes>"
      ]
     },
     "metadata": {
      "needs_background": "light"
     },
     "output_type": "display_data"
    }
   ],
   "source": [
    "equal_bins = np.arange(0, 120, 5)\n",
    "\n",
    "plot.hist(manila['ride time'], equal_bins, edgecolor = 'black', linewidth = 1.2)\n",
    "plot.xlabel(\"Ride Times\")\n",
    "plot.ylabel(\"Frequency\")\n",
    "plot.title(\"Manila Ride Times Distribution\")\n",
    "ride_times = plot.show()"
   ]
  },
  {
   "cell_type": "markdown",
   "metadata": {},
   "source": [
    "**Question 3.** Let's take a closer look at the distribution of ride times in Manila. Assign manila_median_bin to an integer (1, 2, 3, or 4) that corresponds to the bin that contains the median time\n",
    "\n",
    "1: 0-15 minutes\n",
    "\n",
    "2: 15-40 minutes\n",
    "\n",
    "3: 40-60 minutes\n",
    "\n",
    "4: 60-80 minutes\n",
    "\n",
    "Hint: The median of a sorted list has half of the list elements to its left, and half to its right"
   ]
  },
  {
   "cell_type": "code",
   "execution_count": 45,
   "metadata": {},
   "outputs": [
    {
     "name": "stdout",
     "output_type": "stream",
     "text": [
      "100000.5\n",
      "6.941\n",
      "62.5355\n",
      "27.024416666666667\n"
     ]
    }
   ],
   "source": [
    "# Sort all the ride times\n",
    "manila_sorted_ride_times = sorted(manila[\"ride time\"])\n",
    "\n",
    "# Find the ride index, the return is float\n",
    "manila_median_index = (manila.shape[0] + 1) / 2\n",
    "\n",
    "# For reference, print the values that will be used to calculate the median value\n",
    "print(manila_median_index)\n",
    "print(manila[\"ride time\"][int(manila_median_index)])\n",
    "print(manila[\"ride time\"][int(manila_median_index)+1])\n",
    "\n",
    "# Calculate and print the median value\n",
    "manila_median = (manila_sorted_ride_times[int(manila_median_index)] + manila_sorted_ride_times[int(manila_median_index) + 1]) / 2\n",
    "print(manila_median)\n",
    "\n",
    "# 27.024416666666667 lies in the 15-40 bin\n",
    "manila_median_bin = 2\n"
   ]
  },
  {
   "cell_type": "markdown",
   "metadata": {},
   "source": [
    "**Question 4.** What is the main difference between the two histograms. What might be causing this? Output your answer below.\n",
    "\n",
    "**Hint:** Try thinking about external factors that may be causing the difference!"
   ]
  },
  {
   "cell_type": "code",
   "execution_count": 46,
   "metadata": {},
   "outputs": [
    {
     "name": "stdout",
     "output_type": "stream",
     "text": [
      "In the Boston histogram, there are no rides above the 60 minutes ride time. In the Manila histogram, there are gradually decreasing length of rides even after 60 minutes. The difference is the representation of the fact that people do not call longer rides in Boston compared to Manila. Boston could have offered better transportation means for longer distances or they could be cheaper and faster than Uber, so people might be taking some other alternatives. Maybe they have their family members drop them off if the distance is longer. However, for Manila there might be less transportation infrastructure and maybe not all people have reach to family cars and Uber might be the fastest and most reliable transportation even for longer distance travels.\n"
     ]
    }
   ],
   "source": [
    "main_difference = \"In the Boston histogram, there are no rides above the 60 minutes ride time. In the Manila histogram, there are gradually decreasing length of rides even after 60 minutes. The difference is the representation of the fact that people do not call longer rides in Boston compared to Manila. Boston could have offered better transportation means for longer distances or they could be cheaper and faster than Uber, so people might be taking some other alternatives. Maybe they have their family members drop them off if the distance is longer. However, for Manila there might be less transportation infrastructure and maybe not all people have reach to family cars and Uber might be the fastest and most reliable transportation even for longer distance travels.\"\n",
    "print(main_difference)"
   ]
  },
  {
   "cell_type": "code",
   "execution_count": null,
   "metadata": {},
   "outputs": [],
   "source": []
  }
 ],
 "metadata": {
  "kernelspec": {
   "display_name": "Python 3",
   "language": "python",
   "name": "python3"
  },
  "language_info": {
   "codemirror_mode": {
    "name": "ipython",
    "version": 3
   },
   "file_extension": ".py",
   "mimetype": "text/x-python",
   "name": "python",
   "nbconvert_exporter": "python",
   "pygments_lexer": "ipython3",
   "version": "3.7.6"
  }
 },
 "nbformat": 4,
 "nbformat_minor": 2
}
