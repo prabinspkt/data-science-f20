{
 "cells": [
  {
   "cell_type": "markdown",
   "metadata": {
    "id": "bK_lmPoaAtfA"
   },
   "source": [
    "# Lab 5 - Randomness, Simulations, and Probabilities"
   ]
  },
  {
   "cell_type": "code",
   "execution_count": 1,
   "metadata": {
    "executionInfo": {
     "elapsed": 686,
     "status": "ok",
     "timestamp": 1601050081137,
     "user": {
      "displayName": "Prabin Sapkota",
      "photoUrl": "https://lh6.googleusercontent.com/-doP6HgypWoA/AAAAAAAAAAI/AAAAAAAAADs/IVE1vPXCX6U/s64/photo.jpg",
      "userId": "10525827673897210712"
     },
     "user_tz": 240
    },
    "id": "liW7mi3cAtfB"
   },
   "outputs": [],
   "source": [
    "import pandas as pd\n",
    "import numpy as np \n",
    "import matplotlib\n",
    "%matplotlib inline\n",
    "import matplotlib.pyplot as plt\n",
    "plt.style.use('fivethirtyeight')"
   ]
  },
  {
   "cell_type": "markdown",
   "metadata": {
    "id": "9RY4nboaAtfE"
   },
   "source": [
    "## 1. Randomness using `np.random`\n",
    "\n",
    "**Randomization** is a method based on chance alone by which the individuals or items to be studied are assigned to a treatment group based on chance. Two primary reasons why randomization is used is to:\n",
    "\n",
    "    1) Minimize the differences among groups by equally distributing people with \n",
    "       particular characteristics among all the trial arms. \n",
    "    \n",
    "    2) Eliminate the presence of bias.\n",
    "\n",
    "The **np.random** library contains a wide variety of functions that can be used to randomize our data. There are many different functions we can use from this library. Documentation for all of the methods can be found here: https://docs.scipy.org/doc/numpy-1.14.0/reference/routines.random.html\n",
    "\n",
    "For this lab, we'll stick to using **`np.random.randint.()`** and **`np.random.choice()`**."
   ]
  },
  {
   "cell_type": "markdown",
   "metadata": {
    "id": "_nQSyP1aAtfF"
   },
   "source": [
    "**`np.random.choice.()`** picks one item at random from the given array. It is equally likely to pick any of the items. Run the cell below several times, and observe how the results change."
   ]
  },
  {
   "cell_type": "code",
   "execution_count": 2,
   "metadata": {
    "colab": {
     "base_uri": "https://localhost:8080/",
     "height": 35
    },
    "executionInfo": {
     "elapsed": 616,
     "status": "ok",
     "timestamp": 1601050086357,
     "user": {
      "displayName": "Prabin Sapkota",
      "photoUrl": "https://lh6.googleusercontent.com/-doP6HgypWoA/AAAAAAAAAAI/AAAAAAAAADs/IVE1vPXCX6U/s64/photo.jpg",
      "userId": "10525827673897210712"
     },
     "user_tz": 240
    },
    "id": "YurUkGGNAtfF",
    "outputId": "882f1db6-1e8a-4627-e05f-b4fcefae4c59"
   },
   "outputs": [
    {
     "data": {
      "text/plain": [
       "'neither'"
      ]
     },
     "execution_count": 2,
     "metadata": {},
     "output_type": "execute_result"
    }
   ],
   "source": [
    "nachos = ['cheese', 'salsa', 'both', 'neither']\n",
    "np.random.choice(nachos)"
   ]
  },
  {
   "cell_type": "markdown",
   "metadata": {
    "id": "7Y2TvDePAtfI"
   },
   "source": [
    "To repeat this process multiple times, pass the **size** parameter in as an int `n` as the second argument to return `n` different random choices. By default, **`np.random.choice()`** samples **with replacement** ( but we can change that if we want to ) and returns an *array* of items. \n",
    "\n",
    "Run the next cell to see an example of sampling with replacement 10 times from the `nachos` array."
   ]
  },
  {
   "cell_type": "code",
   "execution_count": 3,
   "metadata": {
    "colab": {
     "base_uri": "https://localhost:8080/",
     "height": 52
    },
    "executionInfo": {
     "elapsed": 761,
     "status": "ok",
     "timestamp": 1601050106182,
     "user": {
      "displayName": "Prabin Sapkota",
      "photoUrl": "https://lh6.googleusercontent.com/-doP6HgypWoA/AAAAAAAAAAI/AAAAAAAAADs/IVE1vPXCX6U/s64/photo.jpg",
      "userId": "10525827673897210712"
     },
     "user_tz": 240
    },
    "id": "ewYR80G6AtfI",
    "outputId": "b9a1978d-532f-4dd3-a783-ca5b6e857f04"
   },
   "outputs": [
    {
     "data": {
      "text/plain": [
       "array(['both', 'cheese', 'cheese', 'cheese', 'both', 'cheese', 'neither',\n",
       "       'salsa', 'neither', 'neither'], dtype='<U7')"
      ]
     },
     "execution_count": 3,
     "metadata": {},
     "output_type": "execute_result"
    }
   ],
   "source": [
    "# Run this cell a couple times\n",
    "np.random.choice(nachos, size =10)"
   ]
  },
  {
   "cell_type": "markdown",
   "metadata": {
    "id": "qRnBjPvqAtfK"
   },
   "source": [
    "The **size** parameter can be used to specify rows and colums, so we can create NxN or NxM arrays depending on what we're trying to do."
   ]
  },
  {
   "cell_type": "code",
   "execution_count": 4,
   "metadata": {
    "colab": {
     "base_uri": "https://localhost:8080/",
     "height": 70
    },
    "executionInfo": {
     "elapsed": 719,
     "status": "ok",
     "timestamp": 1601050121993,
     "user": {
      "displayName": "Prabin Sapkota",
      "photoUrl": "https://lh6.googleusercontent.com/-doP6HgypWoA/AAAAAAAAAAI/AAAAAAAAADs/IVE1vPXCX6U/s64/photo.jpg",
      "userId": "10525827673897210712"
     },
     "user_tz": 240
    },
    "id": "veOR37ptAtfL",
    "outputId": "e150a3bb-80a0-4fb9-e90e-c11de413220c"
   },
   "outputs": [
    {
     "data": {
      "text/plain": [
       "array([['neither', 'salsa'],\n",
       "       ['salsa', 'cheese'],\n",
       "       ['cheese', 'cheese']], dtype='<U7')"
      ]
     },
     "execution_count": 4,
     "metadata": {},
     "output_type": "execute_result"
    }
   ],
   "source": [
    "# Run this cell a couple times\n",
    "np.random.choice(nachos, size =[3,2])"
   ]
  },
  {
   "cell_type": "markdown",
   "metadata": {
    "id": "7dI2QZtOAtfN"
   },
   "source": [
    "Notice that using **`np.random.choice()`** is good when we are working with categorical data. When we're working with numerical data, we'll want to use **`np.random.randint()`**."
   ]
  },
  {
   "cell_type": "code",
   "execution_count": 5,
   "metadata": {
    "colab": {
     "base_uri": "https://localhost:8080/",
     "height": 34
    },
    "executionInfo": {
     "elapsed": 654,
     "status": "ok",
     "timestamp": 1601050147808,
     "user": {
      "displayName": "Prabin Sapkota",
      "photoUrl": "https://lh6.googleusercontent.com/-doP6HgypWoA/AAAAAAAAAAI/AAAAAAAAADs/IVE1vPXCX6U/s64/photo.jpg",
      "userId": "10525827673897210712"
     },
     "user_tz": 240
    },
    "id": "0sjYshmzAtfN",
    "outputId": "55224df0-7ade-4752-ce73-234f8d79074d"
   },
   "outputs": [
    {
     "data": {
      "text/plain": [
       "4"
      ]
     },
     "execution_count": 5,
     "metadata": {},
     "output_type": "execute_result"
    }
   ],
   "source": [
    "# Run this cell a couple times\n",
    "np.random.randint(5)"
   ]
  },
  {
   "cell_type": "markdown",
   "metadata": {
    "id": "3XtYr1lZAtfQ"
   },
   "source": [
    "Similar to **`np.random.choice()`**, **`np.random.randint()`** has parameters **high** and **size** as optional parameters. Note that **low** is inclusive and **high** is exclusive."
   ]
  },
  {
   "cell_type": "code",
   "execution_count": 6,
   "metadata": {
    "colab": {
     "base_uri": "https://localhost:8080/",
     "height": 34
    },
    "executionInfo": {
     "elapsed": 538,
     "status": "ok",
     "timestamp": 1601050166502,
     "user": {
      "displayName": "Prabin Sapkota",
      "photoUrl": "https://lh6.googleusercontent.com/-doP6HgypWoA/AAAAAAAAAAI/AAAAAAAAADs/IVE1vPXCX6U/s64/photo.jpg",
      "userId": "10525827673897210712"
     },
     "user_tz": 240
    },
    "id": "iiZHFrihAtfQ",
    "outputId": "1aea519f-e570-4891-b42c-b7d2a6b1315b"
   },
   "outputs": [
    {
     "data": {
      "text/plain": [
       "array([9, 5, 8])"
      ]
     },
     "execution_count": 6,
     "metadata": {},
     "output_type": "execute_result"
    }
   ],
   "source": [
    "# Run this cell a couple times\n",
    "one_to_five = np.random.randint(low = 5, high = 11, size = 3)\n",
    "one_to_five"
   ]
  },
  {
   "cell_type": "markdown",
   "metadata": {
    "id": "6LtxAQEhAtfT"
   },
   "source": [
    "**Question 1:** Using **np.random.choice()**, write a function called `create_boggle_board` that generates a random boggle board. The function should have three parameteers: dxct, rows, columns. Dxct should be a list of all the letters of the alphabet, while rows and columns should the number of rows and columns on the board. Print out a sample boggle board using the function."
   ]
  },
  {
   "cell_type": "code",
   "execution_count": 7,
   "metadata": {
    "colab": {
     "base_uri": "https://localhost:8080/",
     "height": 52
    },
    "executionInfo": {
     "elapsed": 432,
     "status": "ok",
     "timestamp": 1601050397480,
     "user": {
      "displayName": "Prabin Sapkota",
      "photoUrl": "https://lh6.googleusercontent.com/-doP6HgypWoA/AAAAAAAAAAI/AAAAAAAAADs/IVE1vPXCX6U/s64/photo.jpg",
      "userId": "10525827673897210712"
     },
     "user_tz": 240
    },
    "id": "W9j4jNv1AtfU",
    "outputId": "b1f82908-5bab-4227-e575-d1cccd304469"
   },
   "outputs": [
    {
     "data": {
      "text/plain": [
       "array([['a', 'b', 'c'],\n",
       "       ['e', 'c', 'a']], dtype='<U1')"
      ]
     },
     "execution_count": 7,
     "metadata": {},
     "output_type": "execute_result"
    }
   ],
   "source": [
    "def create_boggle_board(dxct, rows, columns):\n",
    "  return np.random.choice(dxct, size=[rows, columns])\n",
    "\n",
    "create_boggle_board([\"a\", \"b\", \"c\", \"d\", \"e\"], 2, 3)"
   ]
  },
  {
   "cell_type": "markdown",
   "metadata": {
    "id": "lSHqRIKvAtfW"
   },
   "source": [
    "**Question 2:** Using **np.random.randint()**, generate an array called `one_to_seven` that contains 100 values between one and seven (inclusive), ie [1,7]. Then create a histogram displaying the distribution of the generated values. Your x-axis should be titled \"Values.\" Your y-axis should be titled \"Frequency.\" Your title should be \"Distribution of random values from 1 to 7.\""
   ]
  },
  {
   "cell_type": "code",
   "execution_count": 8,
   "metadata": {
    "colab": {
     "base_uri": "https://localhost:8080/",
     "height": 348
    },
    "executionInfo": {
     "elapsed": 1007,
     "status": "ok",
     "timestamp": 1601066920405,
     "user": {
      "displayName": "Prabin Sapkota",
      "photoUrl": "https://lh6.googleusercontent.com/-doP6HgypWoA/AAAAAAAAAAI/AAAAAAAAADs/IVE1vPXCX6U/s64/photo.jpg",
      "userId": "10525827673897210712"
     },
     "user_tz": 240
    },
    "id": "wnHCEnsJAtfX",
    "outputId": "41b004b1-1ed4-45fd-a781-cebedebfad68"
   },
   "outputs": [
    {
     "name": "stdout",
     "output_type": "stream",
     "text": [
      "[4 1 7 7 3 4 2 7 5 4 6 1 7 6 3 5 4 6 6 1 4 2 3 5 4 5 1 2 2 2 6 5 3 4 5 5 7\n",
      " 2 2 5 6 5 4 6 1 5 5 7 4 2 2 6 7 2 5 1 5 4 4 5 6 3 3 1 5 4 2 4 1 7 6 2 2 2\n",
      " 5 2 5 5 3 1 6 3 6 1 2 1 7 6 1 1 4 2 5 2 4 4 6 2 6 6]\n"
     ]
    },
    {
     "data": {
      "image/png": "[encoded data removed]",
      "text/plain": [
       "<Figure size 432x288 with 1 Axes>"
      ]
     },
     "metadata": {},
     "output_type": "display_data"
    }
   ],
   "source": [
    "one_to_seven = np.random.randint(low=1, high=8, size=100)\n",
    "print(one_to_seven)\n",
    "\n",
    "hist_bins = [x for x in range(1,9)]\n",
    "plt.hist(one_to_seven, bins=hist_bins, edgecolor='black', linewidth=1.2)\n",
    "plt.title(\"Random number distribution\")\n",
    "plt.xlabel(\"Values\")\n",
    "plt.ylabel(\"Frequency\")\n",
    "plt.show()"
   ]
  },
  {
   "cell_type": "markdown",
   "metadata": {
    "id": "EKla7WL1AtfZ"
   },
   "source": [
    "## 2. Simulating with Descriptive Statistics\n",
    "\n",
    "**Simulation** is the process of using a computer to mimic a physical experiment. In this class, those experiments will almost invariably involve chance.\n",
    "\n",
    "Simulating involves four steps:\n",
    "\n",
    "    Step 1: What to Simulate \n",
    "   \n",
    "    Step 2: Simulating One Value\n",
    "   \n",
    "    Step 3: Number of Repetitions\n",
    "   \n",
    "    Step 4: Coding the Simulation\n",
    "    \n",
    "Let's do some simple simulations with some real-world examples."
   ]
  },
  {
   "cell_type": "markdown",
   "metadata": {
    "id": "M17LFOTeAtfZ"
   },
   "source": [
    "**Question 1:** Whammy time ! Write a program  to simulate a game of Whammy 'n' number of times. \n",
    "\n",
    "Your program should have three functions:\n",
    "    \n",
    "  1) The first function called `whammy_x_1` should create a random NxM grid from parameters \n",
    "     `whammy_prizes`, `rows`, and `columns`. `whammy_prizes`, and should \n",
    "     have the string values: 'Whammy',\"$100\", \"$500\", \"$1000\", \"$5000\", 'Whammy' \n",
    "     ( Yes, there are two whammy values ). This function should randomnly return one of the values on the grid.\n",
    "      \n",
    "  2) The second function called `whammy_x_n` should take the same parameters \n",
    "     as `whammy_x_1` with the addition of the parameter called `reps`. 'reps', \n",
    "     which stands for \"repitions\", will represent the number of times we want to run our \n",
    "     simulation.  This function should randomnly populate and return an array called \n",
    "     `whammy_results`,by calling `whammy_x_1` 'n' number of times, where 'n' is equal\n",
    "     to reps\n",
    "     \n",
    "  3) The third function called `whammy_bar_plot` should take the array returned \n",
    "     from the second function as a parameter. Using that array, create a bar plot\n",
    "     that shows the count ( or frequency ) of each possible value in he `whammy_results`\n",
    "     array. Your chart should have a title, a labeled x-axis and a labeled y-axis. Each bar on\n",
    "     your x-axis should have a label name. Your labels should accuretely convey the information\n",
    "     you're trying to communicate.\n",
    "\n",
    "\n",
    "When you call your second function, you can pass **1000** in for the number of simulations\n",
    "     \n",
    "**Note:** You can read up about the game Whammy at this link: https://gameshows.fandom.com/wiki/The_Whammy\n",
    "\n",
    "\n",
    "      "
   ]
  },
  {
   "cell_type": "code",
   "execution_count": 9,
   "metadata": {
    "colab": {
     "base_uri": "https://localhost:8080/",
     "height": 295
    },
    "executionInfo": {
     "elapsed": 724,
     "status": "ok",
     "timestamp": 1601053719228,
     "user": {
      "displayName": "Prabin Sapkota",
      "photoUrl": "https://lh6.googleusercontent.com/-doP6HgypWoA/AAAAAAAAAAI/AAAAAAAAADs/IVE1vPXCX6U/s64/photo.jpg",
      "userId": "10525827673897210712"
     },
     "user_tz": 240
    },
    "id": "3fQBFTFwAtfZ",
    "outputId": "ef6b8cfe-d5ec-40d2-e3fa-064c2997d8b8"
   },
   "outputs": [
    {
     "data": {
      "image/png": "[encoded data removed]",
      "text/plain": [
       "<Figure size 432x288 with 1 Axes>"
      ]
     },
     "metadata": {},
     "output_type": "display_data"
    }
   ],
   "source": [
    "def whammy_x_1(whammy_prizes, rows, columns):\n",
    "  grid = np.random.choice(whammy_prizes, size=[rows, columns])\n",
    "  random_x = np.random.randint(low=0, high=rows)\n",
    "  random_y = np.random.randint(low=0, high=columns)\n",
    "  return grid[random_x, random_y]\n",
    "\n",
    "def whammy_x_y(whammy_prizes, rows, columns, reps):\n",
    "  whammy_results = []\n",
    "  for i in range(reps):\n",
    "    whammy_results.append(whammy_x_1(whammy_prizes, rows, columns))\n",
    "  return whammy_results\n",
    "\n",
    "def whammy_bar_plot(whammy_results):\n",
    "  whammy_dict = {}\n",
    "  for item in whammy_results:\n",
    "    if item in whammy_dict:\n",
    "      whammy_dict[item] += 1\n",
    "    else:\n",
    "      whammy_dict[item] = 1\n",
    "\n",
    "  plt.bar(whammy_dict.keys(), whammy_dict.values(), edgecolor='black', linewidth=1.2)\n",
    "  plt.title(\"Whammy results\")\n",
    "  plt.xlabel(\"Whammy values\")\n",
    "  plt.ylabel(\"Frequency\")\n",
    "  plt.show()\n",
    "\n",
    "whammy_results = whammy_x_y(['Whammy',\"$100\", \"$500\", \"$1000\", \"$5000\", 'Whammy'], 10, 10, 1000)\n",
    "whammy_bar_plot(whammy_results)"
   ]
  },
  {
   "cell_type": "markdown",
   "metadata": {
    "id": "3DTG5OM4Atfb"
   },
   "source": [
    "**Question 2:** Whammy time again ! Modify your `whammy_prizes` array from Question 1 to  contain randomly generated values in between 1000 and 10000 (exclusive). Using the steps done in Question 1, randomnly populate the `whammy_results` array and plot the distribution of results using a histogram. Your code should be packaged in functions. Be sure to label **all** parts of your histogram properly. \n",
    "\n",
    "**Note:** Your bins can stride by **500** or **1000**, and the number of simulations you run should be **1000**."
   ]
  },
  {
   "cell_type": "code",
   "execution_count": 10,
   "metadata": {
    "colab": {
     "base_uri": "https://localhost:8080/",
     "height": 657
    },
    "executionInfo": {
     "elapsed": 749,
     "status": "ok",
     "timestamp": 1601056562612,
     "user": {
      "displayName": "Prabin Sapkota",
      "photoUrl": "https://lh6.googleusercontent.com/-doP6HgypWoA/AAAAAAAAAAI/AAAAAAAAADs/IVE1vPXCX6U/s64/photo.jpg",
      "userId": "10525827673897210712"
     },
     "user_tz": 240
    },
    "id": "biAX_wyBAtfc",
    "outputId": "677b4444-a8b6-4d8d-ee32-a9bdc19fef5d"
   },
   "outputs": [
    {
     "name": "stdout",
     "output_type": "stream",
     "text": [
      "[4210, 3530, 2238, 7708, 1402, 2042, 6842, 5839, 9798, 5369, 4900, 3829, 4927, 1856, 7513, 7700, 1294, 5299, 5299, 1174, 7513, 3461, 8786, 5590, 8592, 1525, 4573, 1856, 4453, 2289, 7708, 3755, 8592, 4054, 5902, 5855, 2546, 1402, 6554, 6789, 9424, 8080, 7083, 5590, 6394, 1639, 7700, 5574, 4180, 7708, 2748, 9509, 7344, 9798, 1749, 1205, 2042, 9518, 5104, 9498, 5104, 9188, 2748, 4453, 6554, 2546, 3530, 7708, 5953, 7618, 4180, 5953, 3530, 8659, 8659, 6610, 3530, 9417, 1462, 8554, 2958, 5590, 9195, 6920, 1656, 1294, 4180, 1525, 7769, 5299, 6416, 8478, 9798, 7769, 8554, 9077, 1507, 9424, 4054, 5101, 1749, 9817, 6920, 6610, 7967, 4000, 8659, 5101, 5855, 7002, 5839, 1690, 2042, 7513, 7513, 5839, 7967, 3815, 3755, 9518, 1656, 7083, 5299, 3755, 5833, 8592, 8554, 3866, 8072, 6458, 4573, 8786, 8072, 3449, 6610, 4284, 7344, 3755, 6848, 7125, 1693, 4259, 6416, 5902, 9498, 4900, 4927, 1294, 5590, 8478, 4927, 8554, 5041, 6554, 4453, 6848, 7700, 5833, 3087, 2958, 8080, 5299, 8080, 7002, 5165, 7769, 5165, 4295, 1690, 4210, 4180, 6920, 9424, 5041, 8659, 1462, 3461, 6458, 7769, 5299, 7618, 4259, 3087, 9188, 9798, 2289, 3815, 1507, 4000, 7002, 1693, 3815, 6848, 7125, 7769, 4295, 9498, 6848, 3461, 1402, 7708, 8659, 5833, 1856, 6458, 9509, 5041, 5041, 1639, 9798, 8786, 7618, 9518, 8659, 9798, 9188, 6416, 1656, 1525, 5833, 9498, 1462, 9195, 4900, 9798, 8592, 6394, 6610, 3461, 9509, 4927, 5839, 4453, 7344, 3755, 8592, 7513, 4284, 3866, 6789, 6458, 5369, 7002, 7769, 5165, 3220, 9817, 1174, 5041, 9518, 6789, 4054, 4295, 4453, 4210, 5839, 2430, 4259, 8944, 1642, 9817, 6789, 1690, 1690, 9498, 5101, 6528, 5041, 3220, 6848, 1402, 7125, 1656, 4284, 7618, 5590, 4573, 6848, 2042, 1749, 1749, 7125, 6416, 5165, 6789, 9509, 2238, 2748, 1525, 7513, 8478, 4000, 7513, 9077, 4573, 1294, 6610, 9518, 7769, 8659, 9188, 5101, 7125, 7125, 7700, 1690, 5041, 4295, 8786, 4210, 1294, 2289, 8944, 9798, 9798, 8944, 2430, 1402, 7769, 4295, 2289, 7344, 9798, 6920, 4180, 8592, 2748, 5574, 7296, 6848, 7296, 3866, 1639, 5902, 7700, 2748, 5027, 7002, 4284, 1656, 5101, 6610, 9666, 6842, 7296, 7769, 6848, 1239, 2042, 2748, 7967, 3461, 7967, 3087, 2546, 5104, 5027, 7967, 9195, 8592, 6394, 1462, 8080, 6842, 7513, 1642, 5839, 5839, 1656, 6458, 3087, 5369, 8592, 5833, 6920, 3829, 2546, 7083, 5833, 3461, 9195, 6789, 7296, 1856, 5839, 9077, 4054, 2430, 9798, 6394, 3087, 1693, 3755, 2289, 9195, 4533, 1639, 9424, 8478, 1642, 6610, 1656, 1205, 3530, 8786, 1856, 4573, 7700, 4900, 1749, 9666, 9188, 5165, 3829, 3220, 1639, 1693, 7700, 2958, 3866, 2276, 8944, 9666, 2042, 7700, 5855, 9509, 9195, 2238, 1642, 4259, 8659, 9498, 9195, 7513, 7296, 3866, 5839, 5027, 5833, 9077, 9424, 7708, 3220, 4054, 2238, 4259, 1205, 6458, 9498, 1639, 8072, 5369, 4284, 5041, 4054, 6920, 7513, 1856, 8080, 9417, 9498, 1642, 4900, 2748, 3087, 5369, 5855, 3530, 6610, 9518, 1639, 4295, 3755, 3461, 6416, 4054, 6920, 9417, 9188, 9498, 4259, 5833, 7344, 9424, 3530, 6416, 8554, 9417, 3087, 6789, 1239, 8592, 9498, 4295, 9509, 4453, 3815, 5027, 1507, 2042, 2238, 1525, 5165, 5027, 5101, 5041, 9424, 3087, 6920, 2276, 5041, 5833, 1642, 3866, 1507, 9509, 4927, 2276, 4453, 5104, 6920, 4900, 5101, 7967, 9498, 6416, 9077, 2042, 1239, 3461, 9077, 9518, 9424, 1525, 1462, 5165, 5574, 6842, 5833, 3220, 7618, 1690, 3449, 7002, 6789, 6394, 9498, 3220, 1856, 6554, 9817, 7618, 1525, 4259, 9068, 2289, 7002, 3530, 8592, 9498, 2276, 5369, 4295, 9666, 3829, 6458, 5953, 9666, 9188, 8786, 3815, 6554, 6554, 6842, 4295, 3449, 6394, 1174, 5041, 1174, 8944, 4180, 2748, 6554, 7700, 3449, 6789, 4295, 9666, 7002, 4453, 9188, 9417, 5041, 9424, 4000, 9498, 8944, 9068, 9077, 6789, 5041, 1402, 1639, 2958, 8659, 1749, 6528, 5902, 8080, 9666, 2748, 5953, 6848, 3220, 9077, 9417, 4054, 6394, 5902, 1525, 1856, 3815, 9068, 4259, 9798, 5369, 5839, 9068, 2958, 6848, 2276, 9195, 1693, 4295, 9817, 8080, 1205, 7083, 4284, 5839, 5041, 2042, 3829, 1690, 8659, 7967, 7513, 7125, 5165, 3087, 5104, 3866, 1507, 5953, 9817, 9188, 5839, 1462, 2748, 9817, 4180, 1174, 1205, 1642, 3087, 1507, 9068, 1656, 5839, 1656, 8592, 5165, 5590, 1507, 1856, 9666, 5574, 9188, 7700, 4180, 8080, 7083, 7708, 1507, 8592, 1639, 2238, 4259, 2276, 7083, 2289, 1525, 9798, 2042, 1402, 1693, 8554, 8080, 8072, 9195, 7769, 7618, 2430, 3461, 6842, 7125, 5101, 7344, 5590, 4284, 6610, 2238, 2430, 1462, 3220, 3449, 8592, 5165, 5902, 5027, 3815, 7967, 6848, 8478, 5165, 6842, 2276, 5165, 1693, 8786, 4533, 5953, 3087, 2546, 7513, 1294, 7700, 5574, 1690, 2958, 8786, 5369, 1525, 4295, 4210, 5101, 5104, 8592, 9188, 6610, 7513, 7083, 1642, 4453, 7296, 1856, 6789, 1856, 6848, 1462, 9188, 8554, 9195, 5299, 4927, 4453, 4259, 7967, 9518, 2276, 6848, 4573, 2430, 5574, 2042, 2430, 8080, 3449, 5855, 4284, 4453, 7700, 2748, 6920, 6458, 4054, 8478, 1693, 9068, 8786, 6610, 1856, 6789, 7296, 4284, 5839, 6920, 5299, 9817, 2546, 5839, 5104, 4453, 4295, 3866, 8786, 7002, 9518, 8080, 8592, 1749, 4927, 5299, 3815, 7967, 9666, 8554, 6920, 7769, 6789, 1856, 5041, 7700, 2546, 5855, 5369, 4533, 1749, 4533, 7708, 7125, 4295, 5855, 5027, 6789, 8592, 7618, 5369, 7125, 9417, 5041, 1402, 8478, 5104, 5855, 4180, 4295, 2430, 5299, 8659, 1402, 9068, 9798, 5101, 2289, 5104, 7700, 9509, 1294, 3530, 3866, 7967, 9188, 2042, 1525, 1749, 5027, 2289, 4000, 7618, 1856, 4927, 4210, 2276, 6528, 9424, 1749, 5839, 1749, 1656, 4573, 5041, 6394, 7344, 4295, 4000, 6789, 8554, 5369, 6416, 4180, 8478, 8786, 4295, 7708, 3866, 8554, 4900, 4533, 9798, 2748, 1205, 9817, 5902, 5590, 2289, 1402, 1639, 2238, 2958, 6848, 1239, 2958, 8072, 3461, 8478, 9509, 1639, 9817, 9666, 6610, 6610, 4054, 5855, 1239, 8944, 2958, 1656, 3530, 4000, 2546, 2958, 5104, 9424, 9417, 2042, 6458, 1693, 5041, 3087, 5590, 4453, 4054, 8659, 5839, 6416, 9188, 6848, 5590, 1525, 3449, 9188, 7967, 2289, 6920, 2238, 3461, 6789, 7296, 3449, 5165, 3530, 5027, 7296, 5027, 7513, 6789, 2430, 4295, 9798, 6528, 8072, 2958, 8072, 2748, 9509, 2958, 4295, 5041, 3449, 4180, 5299, 1239, 5165, 5104, 5165, 9817, 8592, 4295, 4054, 1693, 7513, 7083, 3866, 5855, 7083, 6394, 2042]\n"
     ]
    },
    {
     "data": {
      "image/png": "[encoded data removed]",
      "text/plain": [
       "<Figure size 1440x720 with 1 Axes>"
      ]
     },
     "metadata": {},
     "output_type": "display_data"
    }
   ],
   "source": [
    "# since the number of whammy_prizes is not clear, using 100 count as default whammy_prizes\n",
    "whammy_prizes = np.random.randint(low=1000, high=10000, size=100)\n",
    "\n",
    "whammy_results = whammy_x_y(whammy_prizes, 10, 10, 1000)\n",
    "print(whammy_results)\n",
    "\n",
    "def whammy_hist(whammy_results):\n",
    "  hist_bins = [x for x in range(1000, 10051, 500)]\n",
    "  plt.figure(figsize=(20,10))\n",
    "  plt.hist(whammy_results, bins=hist_bins, edgecolor='black', linewidth=1.2, width=200)\n",
    "  plt.title(\"Whammy prizes distribution\")\n",
    "  plt.xlabel(\"Whammy Values\")\n",
    "  plt.ylabel(\"Frequency\")\n",
    "  plt.show()\n",
    "\n",
    "whammy_hist(whammy_results)\n",
    "\n"
   ]
  },
  {
   "cell_type": "markdown",
   "metadata": {
    "id": "4XTXyIsHAtfe"
   },
   "source": [
    "## 3. Using Simulations to get Probabilities \n",
    "\n",
    "**Note:** Reading from Chapter 9.5 of the Computational and Inferential Textbook will make understanding this section simpler.\n",
    "\n",
    "A **probability** is a number that reflects the chance or likelihood that a particular event will occur.\n",
    "\n",
    "Probabilities can be understood in various ways, but in data science, probabilities will be understood as **relative frequencies**.The ways in which probabilities are calculated and combined are consistent across the different interpretations.\n",
    "\n",
    "By convention, probabilities are numbers between 0 and 1, or, equivalently, 0% and 100%. Impossible events have probability 0. Events that are certain have probability 1.\n",
    "\n",
    "Using a \"deck of cards\", lets ask some questions to understand probablities better.\n",
    "\n",
    "**Note:** A playing card has a \"suit\" (\"♠︎\", \"♣︎\", \"♥︎\", or \"♦︎\") and a \"rank\" (2 through 10, J, Q, K, or A).  There are 4 suits and 13 ranks, so there are $4 \\times 13 = 52$ different cards."
   ]
  },
  {
   "cell_type": "code",
   "execution_count": 11,
   "metadata": {
    "colab": {
     "base_uri": "https://localhost:8080/",
     "height": 1000
    },
    "executionInfo": {
     "elapsed": 884,
     "status": "ok",
     "timestamp": 1601056716348,
     "user": {
      "displayName": "Prabin Sapkota",
      "photoUrl": "https://lh6.googleusercontent.com/-doP6HgypWoA/AAAAAAAAAAI/AAAAAAAAADs/IVE1vPXCX6U/s64/photo.jpg",
      "userId": "10525827673897210712"
     },
     "user_tz": 240
    },
    "id": "YSPbw4lRAtfe",
    "outputId": "7c241334-457f-4388-9163-dd2bffdf7e58"
   },
   "outputs": [
    {
     "data": {
      "text/html": [
       "<div>\n",
       "<style scoped>\n",
       "    .dataframe tbody tr th:only-of-type {\n",
       "        vertical-align: middle;\n",
       "    }\n",
       "\n",
       "    .dataframe tbody tr th {\n",
       "        vertical-align: top;\n",
       "    }\n",
       "\n",
       "    .dataframe thead th {\n",
       "        text-align: right;\n",
       "    }\n",
       "</style>\n",
       "<table border=\"1\" class=\"dataframe\">\n",
       "  <thead>\n",
       "    <tr style=\"text-align: right;\">\n",
       "      <th></th>\n",
       "      <th>Rank</th>\n",
       "      <th>Suit</th>\n",
       "    </tr>\n",
       "  </thead>\n",
       "  <tbody>\n",
       "    <tr>\n",
       "      <th>0</th>\n",
       "      <td>2</td>\n",
       "      <td>♠︎</td>\n",
       "    </tr>\n",
       "    <tr>\n",
       "      <th>1</th>\n",
       "      <td>2</td>\n",
       "      <td>♣︎</td>\n",
       "    </tr>\n",
       "    <tr>\n",
       "      <th>2</th>\n",
       "      <td>2</td>\n",
       "      <td>♥︎</td>\n",
       "    </tr>\n",
       "    <tr>\n",
       "      <th>3</th>\n",
       "      <td>2</td>\n",
       "      <td>♦︎</td>\n",
       "    </tr>\n",
       "    <tr>\n",
       "      <th>4</th>\n",
       "      <td>3</td>\n",
       "      <td>♠︎</td>\n",
       "    </tr>\n",
       "    <tr>\n",
       "      <th>5</th>\n",
       "      <td>3</td>\n",
       "      <td>♣︎</td>\n",
       "    </tr>\n",
       "    <tr>\n",
       "      <th>6</th>\n",
       "      <td>3</td>\n",
       "      <td>♥︎</td>\n",
       "    </tr>\n",
       "    <tr>\n",
       "      <th>7</th>\n",
       "      <td>3</td>\n",
       "      <td>♦︎</td>\n",
       "    </tr>\n",
       "    <tr>\n",
       "      <th>8</th>\n",
       "      <td>4</td>\n",
       "      <td>♠︎</td>\n",
       "    </tr>\n",
       "    <tr>\n",
       "      <th>9</th>\n",
       "      <td>4</td>\n",
       "      <td>♣︎</td>\n",
       "    </tr>\n",
       "    <tr>\n",
       "      <th>10</th>\n",
       "      <td>4</td>\n",
       "      <td>♥︎</td>\n",
       "    </tr>\n",
       "    <tr>\n",
       "      <th>11</th>\n",
       "      <td>4</td>\n",
       "      <td>♦︎</td>\n",
       "    </tr>\n",
       "    <tr>\n",
       "      <th>12</th>\n",
       "      <td>5</td>\n",
       "      <td>♠︎</td>\n",
       "    </tr>\n",
       "    <tr>\n",
       "      <th>13</th>\n",
       "      <td>5</td>\n",
       "      <td>♣︎</td>\n",
       "    </tr>\n",
       "    <tr>\n",
       "      <th>14</th>\n",
       "      <td>5</td>\n",
       "      <td>♥︎</td>\n",
       "    </tr>\n",
       "    <tr>\n",
       "      <th>15</th>\n",
       "      <td>5</td>\n",
       "      <td>♦︎</td>\n",
       "    </tr>\n",
       "    <tr>\n",
       "      <th>16</th>\n",
       "      <td>6</td>\n",
       "      <td>♠︎</td>\n",
       "    </tr>\n",
       "    <tr>\n",
       "      <th>17</th>\n",
       "      <td>6</td>\n",
       "      <td>♣︎</td>\n",
       "    </tr>\n",
       "    <tr>\n",
       "      <th>18</th>\n",
       "      <td>6</td>\n",
       "      <td>♥︎</td>\n",
       "    </tr>\n",
       "    <tr>\n",
       "      <th>19</th>\n",
       "      <td>6</td>\n",
       "      <td>♦︎</td>\n",
       "    </tr>\n",
       "    <tr>\n",
       "      <th>20</th>\n",
       "      <td>7</td>\n",
       "      <td>♠︎</td>\n",
       "    </tr>\n",
       "    <tr>\n",
       "      <th>21</th>\n",
       "      <td>7</td>\n",
       "      <td>♣︎</td>\n",
       "    </tr>\n",
       "    <tr>\n",
       "      <th>22</th>\n",
       "      <td>7</td>\n",
       "      <td>♥︎</td>\n",
       "    </tr>\n",
       "    <tr>\n",
       "      <th>23</th>\n",
       "      <td>7</td>\n",
       "      <td>♦︎</td>\n",
       "    </tr>\n",
       "    <tr>\n",
       "      <th>24</th>\n",
       "      <td>8</td>\n",
       "      <td>♠︎</td>\n",
       "    </tr>\n",
       "    <tr>\n",
       "      <th>25</th>\n",
       "      <td>8</td>\n",
       "      <td>♣︎</td>\n",
       "    </tr>\n",
       "    <tr>\n",
       "      <th>26</th>\n",
       "      <td>8</td>\n",
       "      <td>♥︎</td>\n",
       "    </tr>\n",
       "    <tr>\n",
       "      <th>27</th>\n",
       "      <td>8</td>\n",
       "      <td>♦︎</td>\n",
       "    </tr>\n",
       "    <tr>\n",
       "      <th>28</th>\n",
       "      <td>9</td>\n",
       "      <td>♠︎</td>\n",
       "    </tr>\n",
       "    <tr>\n",
       "      <th>29</th>\n",
       "      <td>9</td>\n",
       "      <td>♣︎</td>\n",
       "    </tr>\n",
       "    <tr>\n",
       "      <th>30</th>\n",
       "      <td>9</td>\n",
       "      <td>♥︎</td>\n",
       "    </tr>\n",
       "    <tr>\n",
       "      <th>31</th>\n",
       "      <td>9</td>\n",
       "      <td>♦︎</td>\n",
       "    </tr>\n",
       "    <tr>\n",
       "      <th>32</th>\n",
       "      <td>10</td>\n",
       "      <td>♠︎</td>\n",
       "    </tr>\n",
       "    <tr>\n",
       "      <th>33</th>\n",
       "      <td>10</td>\n",
       "      <td>♣︎</td>\n",
       "    </tr>\n",
       "    <tr>\n",
       "      <th>34</th>\n",
       "      <td>10</td>\n",
       "      <td>♥︎</td>\n",
       "    </tr>\n",
       "    <tr>\n",
       "      <th>35</th>\n",
       "      <td>10</td>\n",
       "      <td>♦︎</td>\n",
       "    </tr>\n",
       "    <tr>\n",
       "      <th>36</th>\n",
       "      <td>J</td>\n",
       "      <td>♠︎</td>\n",
       "    </tr>\n",
       "    <tr>\n",
       "      <th>37</th>\n",
       "      <td>J</td>\n",
       "      <td>♣︎</td>\n",
       "    </tr>\n",
       "    <tr>\n",
       "      <th>38</th>\n",
       "      <td>J</td>\n",
       "      <td>♥︎</td>\n",
       "    </tr>\n",
       "    <tr>\n",
       "      <th>39</th>\n",
       "      <td>J</td>\n",
       "      <td>♦︎</td>\n",
       "    </tr>\n",
       "    <tr>\n",
       "      <th>40</th>\n",
       "      <td>Q</td>\n",
       "      <td>♠︎</td>\n",
       "    </tr>\n",
       "    <tr>\n",
       "      <th>41</th>\n",
       "      <td>Q</td>\n",
       "      <td>♣︎</td>\n",
       "    </tr>\n",
       "    <tr>\n",
       "      <th>42</th>\n",
       "      <td>Q</td>\n",
       "      <td>♥︎</td>\n",
       "    </tr>\n",
       "    <tr>\n",
       "      <th>43</th>\n",
       "      <td>Q</td>\n",
       "      <td>♦︎</td>\n",
       "    </tr>\n",
       "    <tr>\n",
       "      <th>44</th>\n",
       "      <td>K</td>\n",
       "      <td>♠︎</td>\n",
       "    </tr>\n",
       "    <tr>\n",
       "      <th>45</th>\n",
       "      <td>K</td>\n",
       "      <td>♣︎</td>\n",
       "    </tr>\n",
       "    <tr>\n",
       "      <th>46</th>\n",
       "      <td>K</td>\n",
       "      <td>♥︎</td>\n",
       "    </tr>\n",
       "    <tr>\n",
       "      <th>47</th>\n",
       "      <td>K</td>\n",
       "      <td>♦︎</td>\n",
       "    </tr>\n",
       "    <tr>\n",
       "      <th>48</th>\n",
       "      <td>A</td>\n",
       "      <td>♠︎</td>\n",
       "    </tr>\n",
       "    <tr>\n",
       "      <th>49</th>\n",
       "      <td>A</td>\n",
       "      <td>♣︎</td>\n",
       "    </tr>\n",
       "    <tr>\n",
       "      <th>50</th>\n",
       "      <td>A</td>\n",
       "      <td>♥︎</td>\n",
       "    </tr>\n",
       "    <tr>\n",
       "      <th>51</th>\n",
       "      <td>A</td>\n",
       "      <td>♦︎</td>\n",
       "    </tr>\n",
       "  </tbody>\n",
       "</table>\n",
       "</div>"
      ],
      "text/plain": [
       "   Rank Suit\n",
       "0     2   ♠︎\n",
       "1     2   ♣︎\n",
       "2     2   ♥︎\n",
       "3     2   ♦︎\n",
       "4     3   ♠︎\n",
       "5     3   ♣︎\n",
       "6     3   ♥︎\n",
       "7     3   ♦︎\n",
       "8     4   ♠︎\n",
       "9     4   ♣︎\n",
       "10    4   ♥︎\n",
       "11    4   ♦︎\n",
       "12    5   ♠︎\n",
       "13    5   ♣︎\n",
       "14    5   ♥︎\n",
       "15    5   ♦︎\n",
       "16    6   ♠︎\n",
       "17    6   ♣︎\n",
       "18    6   ♥︎\n",
       "19    6   ♦︎\n",
       "20    7   ♠︎\n",
       "21    7   ♣︎\n",
       "22    7   ♥︎\n",
       "23    7   ♦︎\n",
       "24    8   ♠︎\n",
       "25    8   ♣︎\n",
       "26    8   ♥︎\n",
       "27    8   ♦︎\n",
       "28    9   ♠︎\n",
       "29    9   ♣︎\n",
       "30    9   ♥︎\n",
       "31    9   ♦︎\n",
       "32   10   ♠︎\n",
       "33   10   ♣︎\n",
       "34   10   ♥︎\n",
       "35   10   ♦︎\n",
       "36    J   ♠︎\n",
       "37    J   ♣︎\n",
       "38    J   ♥︎\n",
       "39    J   ♦︎\n",
       "40    Q   ♠︎\n",
       "41    Q   ♣︎\n",
       "42    Q   ♥︎\n",
       "43    Q   ♦︎\n",
       "44    K   ♠︎\n",
       "45    K   ♣︎\n",
       "46    K   ♥︎\n",
       "47    K   ♦︎\n",
       "48    A   ♠︎\n",
       "49    A   ♣︎\n",
       "50    A   ♥︎\n",
       "51    A   ♦︎"
      ]
     },
     "execution_count": 11,
     "metadata": {},
     "output_type": "execute_result"
    }
   ],
   "source": [
    "cards = pd.read_csv('deck.csv')\n",
    "suits = [\"♠︎\", \"♣︎\", \"♥︎\",\"♦︎\"]\n",
    "cards"
   ]
  },
  {
   "cell_type": "markdown",
   "metadata": {
    "id": "c0CvAVuTAtfh"
   },
   "source": [
    "**Question 1:** Write a function that simulates drawing from a deck of 52 cards **once**, and answer the following question:\n",
    "        \n",
    "        What is the probability that you will draw a card with the suit \"♠︎\" and rank \"5\" ?\n",
    "        \n",
    "**Note:** Your answer should be a **single value**."
   ]
  },
  {
   "cell_type": "code",
   "execution_count": 12,
   "metadata": {
    "colab": {
     "base_uri": "https://localhost:8080/",
     "height": 70
    },
    "executionInfo": {
     "elapsed": 450,
     "status": "ok",
     "timestamp": 1601057035591,
     "user": {
      "displayName": "Prabin Sapkota",
      "photoUrl": "https://lh6.googleusercontent.com/-doP6HgypWoA/AAAAAAAAAAI/AAAAAAAAADs/IVE1vPXCX6U/s64/photo.jpg",
      "userId": "10525827673897210712"
     },
     "user_tz": 240
    },
    "id": "80_UFmTvAtfh",
    "outputId": "a5452018-c0f7-4a08-f900-c4828feee448"
   },
   "outputs": [
    {
     "name": "stdout",
     "output_type": "stream",
     "text": [
      "   Rank Suit\n",
      "32   10   ♠︎\n",
      "The probability is 1/52 as there are 52 cards and we draw 1 card.\n"
     ]
    }
   ],
   "source": [
    "def random_card():\n",
    "  random_index= np.random.randint(low=0, high=51)\n",
    "  return cards.iloc[[random_index]]\n",
    "\n",
    "print(random_card())\n",
    "\n",
    "print(\"The probability is 1/52 as there are 52 cards and we draw 1 card.\")"
   ]
  },
  {
   "cell_type": "markdown",
   "metadata": {
    "id": "9w2ZimTTAtfj"
   },
   "source": [
    "**Question 2:** Write a function that simulates drawing from a deck of 52 cards **4 times without replacement**, and answer the following question:\n",
    "        \n",
    "        What is the probability that you will draw a card with suit \"♣︎\" ?\n",
    "        \n",
    "**Note:** Your answer should be a **table** with 2 columns and four rows. The column names should be \"Draw\" and \"Probability\", and should show the probability of drawing rank '10' on the corresponding draw."
   ]
  },
  {
   "cell_type": "code",
   "execution_count": 13,
   "metadata": {
    "colab": {
     "base_uri": "https://localhost:8080/",
     "height": 292
    },
    "executionInfo": {
     "elapsed": 466,
     "status": "ok",
     "timestamp": 1601061652005,
     "user": {
      "displayName": "Prabin Sapkota",
      "photoUrl": "https://lh6.googleusercontent.com/-doP6HgypWoA/AAAAAAAAAAI/AAAAAAAAADs/IVE1vPXCX6U/s64/photo.jpg",
      "userId": "10525827673897210712"
     },
     "user_tz": 240
    },
    "id": "RgkkVbtyAtfk",
    "outputId": "c41646d4-ecf9-4fbb-d369-03dfec8e4149"
   },
   "outputs": [
    {
     "name": "stdout",
     "output_type": "stream",
     "text": [
      "When there are 52 cards in the deck and we draw one card, the probability that it is a card of suit ♣︎ is 1/4. \n",
      " For the remaining attempts, it each outcome will depend on the result of the previous draw.\n",
      "[   Rank Suit\n",
      "33   10   ♣︎,    Rank Suit\n",
      "26    8   ♥︎,   Rank Suit\n",
      "6    3   ♥︎,    Rank Suit\n",
      "34   10   ♥︎]\n"
     ]
    },
    {
     "data": {
      "text/html": [
       "<div>\n",
       "<style scoped>\n",
       "    .dataframe tbody tr th:only-of-type {\n",
       "        vertical-align: middle;\n",
       "    }\n",
       "\n",
       "    .dataframe tbody tr th {\n",
       "        vertical-align: top;\n",
       "    }\n",
       "\n",
       "    .dataframe thead th {\n",
       "        text-align: right;\n",
       "    }\n",
       "</style>\n",
       "<table border=\"1\" class=\"dataframe\">\n",
       "  <thead>\n",
       "    <tr style=\"text-align: right;\">\n",
       "      <th></th>\n",
       "      <th>Draw</th>\n",
       "      <th>Probability</th>\n",
       "    </tr>\n",
       "  </thead>\n",
       "  <tbody>\n",
       "    <tr>\n",
       "      <th>0</th>\n",
       "      <td>1</td>\n",
       "      <td>0.076923</td>\n",
       "    </tr>\n",
       "    <tr>\n",
       "      <th>1</th>\n",
       "      <td>2</td>\n",
       "      <td>0.058824</td>\n",
       "    </tr>\n",
       "    <tr>\n",
       "      <th>2</th>\n",
       "      <td>3</td>\n",
       "      <td>0.060000</td>\n",
       "    </tr>\n",
       "    <tr>\n",
       "      <th>3</th>\n",
       "      <td>4</td>\n",
       "      <td>0.061224</td>\n",
       "    </tr>\n",
       "  </tbody>\n",
       "</table>\n",
       "</div>"
      ],
      "text/plain": [
       "   Draw  Probability\n",
       "0     1     0.076923\n",
       "1     2     0.058824\n",
       "2     3     0.060000\n",
       "3     4     0.061224"
      ]
     },
     "execution_count": 13,
     "metadata": {},
     "output_type": "execute_result"
    }
   ],
   "source": [
    "print(\"When there are 52 cards in the deck and we draw one card, the probability that it is a card of suit ♣︎ is 1/4. \\n For the remaining attempts, it each outcome will depend on the result of the previous draw.\")\n",
    "\n",
    "def draw_cards(draw_times):\n",
    "  ten_count = 4\n",
    "  total_count = 52\n",
    "  \n",
    "  probabilities = []\n",
    "\n",
    "  drawn_index = set()\n",
    "  drawn_cards = []\n",
    "  while len(drawn_cards) < draw_times:\n",
    "    random_index= np.random.randint(low=0, high=51)\n",
    "    if random_index not in drawn_index:\n",
    "      draw = cards.iloc[[random_index]]\n",
    "      drawn_cards.append(draw)\n",
    "      drawn_index.add(random_index)\n",
    "\n",
    "      drawn_rank = cards.iloc[random_index, 0]\n",
    "      # calculate probability before decrementing count\n",
    "      probabilities.append(ten_count/total_count)\n",
    "      if drawn_rank == \"10\":\n",
    "        ten_count -= 1\n",
    "      total_count -= 1\n",
    "  \n",
    "  draw_probabilities = {\"Draw\": [x for x in range(1, draw_times+1)], \"Probability\":probabilities}\n",
    "  draw_probabilities_df = pd.DataFrame(data=draw_probabilities)\n",
    "  print(drawn_cards)\n",
    "  return draw_probabilities_df\n",
    "\n",
    "draw_probabilities = draw_cards(4)\n",
    "draw_probabilities"
   ]
  },
  {
   "cell_type": "markdown",
   "metadata": {
    "id": "PNek51rAAtfm"
   },
   "source": [
    "**Question 3:** Write a function that simulates drawing from a deck of 52 cards **10 times without replacement**, and answer the following question:\n",
    "        \n",
    "        What is the probability that you will draw a card with suit \"♥︎\" or \"♦︎\"?\n",
    "\n",
    "**Note:** Your answer should be a **table** with 2 columns and 10 rows. The column names should be \"Draw\" and \"Probability\", and should show the probability of drawing suit \"♥︎\" or \"♦︎\" on the corresponding draw."
   ]
  },
  {
   "cell_type": "code",
   "execution_count": 14,
   "metadata": {
    "colab": {
     "base_uri": "https://localhost:8080/",
     "height": 578
    },
    "executionInfo": {
     "elapsed": 575,
     "status": "ok",
     "timestamp": 1601062223363,
     "user": {
      "displayName": "Prabin Sapkota",
      "photoUrl": "https://lh6.googleusercontent.com/-doP6HgypWoA/AAAAAAAAAAI/AAAAAAAAADs/IVE1vPXCX6U/s64/photo.jpg",
      "userId": "10525827673897210712"
     },
     "user_tz": 240
    },
    "id": "tKJ0nQJeAtfm",
    "outputId": "0d965c96-fc0b-4bdd-e61d-8510e6a28e0b"
   },
   "outputs": [
    {
     "name": "stdout",
     "output_type": "stream",
     "text": [
      "When there are 52 cards in the deck and we draw one card, the probability that it is a card of suit  is 1/2. \n",
      " For the remaining attempts, it each outcome will depend on the result of the previous draw.\n",
      "[   Rank Suit\n",
      "32   10   ♠︎,    Rank Suit\n",
      "13    5   ♣︎,    Rank Suit\n",
      "37    J   ♣︎,    Rank Suit\n",
      "20    7   ♠︎,    Rank Suit\n",
      "44    K   ♠︎,   Rank Suit\n",
      "2    2   ♥︎,   Rank Suit\n",
      "9    4   ♣︎,    Rank Suit\n",
      "28    9   ♠︎,    Rank Suit\n",
      "25    8   ♣︎,    Rank Suit\n",
      "18    6   ♥︎]\n"
     ]
    },
    {
     "data": {
      "text/html": [
       "<div>\n",
       "<style scoped>\n",
       "    .dataframe tbody tr th:only-of-type {\n",
       "        vertical-align: middle;\n",
       "    }\n",
       "\n",
       "    .dataframe tbody tr th {\n",
       "        vertical-align: top;\n",
       "    }\n",
       "\n",
       "    .dataframe thead th {\n",
       "        text-align: right;\n",
       "    }\n",
       "</style>\n",
       "<table border=\"1\" class=\"dataframe\">\n",
       "  <thead>\n",
       "    <tr style=\"text-align: right;\">\n",
       "      <th></th>\n",
       "      <th>Draw</th>\n",
       "      <th>Probability</th>\n",
       "    </tr>\n",
       "  </thead>\n",
       "  <tbody>\n",
       "    <tr>\n",
       "      <th>0</th>\n",
       "      <td>1</td>\n",
       "      <td>0.500000</td>\n",
       "    </tr>\n",
       "    <tr>\n",
       "      <th>1</th>\n",
       "      <td>2</td>\n",
       "      <td>0.509804</td>\n",
       "    </tr>\n",
       "    <tr>\n",
       "      <th>2</th>\n",
       "      <td>3</td>\n",
       "      <td>0.520000</td>\n",
       "    </tr>\n",
       "    <tr>\n",
       "      <th>3</th>\n",
       "      <td>4</td>\n",
       "      <td>0.530612</td>\n",
       "    </tr>\n",
       "    <tr>\n",
       "      <th>4</th>\n",
       "      <td>5</td>\n",
       "      <td>0.541667</td>\n",
       "    </tr>\n",
       "    <tr>\n",
       "      <th>5</th>\n",
       "      <td>6</td>\n",
       "      <td>0.553191</td>\n",
       "    </tr>\n",
       "    <tr>\n",
       "      <th>6</th>\n",
       "      <td>7</td>\n",
       "      <td>0.543478</td>\n",
       "    </tr>\n",
       "    <tr>\n",
       "      <th>7</th>\n",
       "      <td>8</td>\n",
       "      <td>0.555556</td>\n",
       "    </tr>\n",
       "    <tr>\n",
       "      <th>8</th>\n",
       "      <td>9</td>\n",
       "      <td>0.568182</td>\n",
       "    </tr>\n",
       "    <tr>\n",
       "      <th>9</th>\n",
       "      <td>10</td>\n",
       "      <td>0.581395</td>\n",
       "    </tr>\n",
       "  </tbody>\n",
       "</table>\n",
       "</div>"
      ],
      "text/plain": [
       "   Draw  Probability\n",
       "0     1     0.500000\n",
       "1     2     0.509804\n",
       "2     3     0.520000\n",
       "3     4     0.530612\n",
       "4     5     0.541667\n",
       "5     6     0.553191\n",
       "6     7     0.543478\n",
       "7     8     0.555556\n",
       "8     9     0.568182\n",
       "9    10     0.581395"
      ]
     },
     "execution_count": 14,
     "metadata": {},
     "output_type": "execute_result"
    }
   ],
   "source": [
    "print(\"When there are 52 cards in the deck and we draw one card, the probability that it is a card of suit  is 1/2. \\n For the remaining attempts, it each outcome will depend on the result of the previous draw.\")\n",
    "\n",
    "def draw_cards(draw_times):\n",
    "  suits_count = {\n",
    "      \"♠︎\" : 13,\n",
    "      \"♥︎\" : 13,\n",
    "      \"♦︎\" : 13,\n",
    "      \"♣︎\" : 13\n",
    "  }\n",
    "  total_count = 52\n",
    "  \n",
    "  probabilities = []\n",
    "\n",
    "  drawn_index = set()\n",
    "  drawn_cards = []\n",
    "  while len(drawn_cards) < draw_times:\n",
    "    random_index= np.random.randint(low=0, high=51)\n",
    "    if random_index not in drawn_index:\n",
    "      draw = cards.iloc[[random_index]]\n",
    "      drawn_cards.append(draw)\n",
    "      drawn_index.add(random_index)\n",
    "\n",
    "      drawn_suit = cards.iloc[random_index, 1]\n",
    "      # calculate probability before decrementing count\n",
    "      probabilities.append((suits_count[\"♥︎\"]/total_count) + (suits_count[\"♦︎\"]/total_count))\n",
    "      suits_count[drawn_suit] -= 1\n",
    "      total_count -= 1\n",
    "  \n",
    "  draw_probabilities = {\"Draw\": [x for x in range(1, draw_times+1)], \"Probability\":probabilities}\n",
    "  draw_probabilities_df = pd.DataFrame(data=draw_probabilities)\n",
    "  print(drawn_cards)\n",
    "  return draw_probabilities_df\n",
    "\n",
    "draw_cards(10)"
   ]
  },
  {
   "cell_type": "markdown",
   "metadata": {
    "id": "y6GTYN5OAtfo"
   },
   "source": [
    "**Question 4:** Write a function that simulates drawing from a deck of 52 cards **1000 times with replacement**, and answer the following question:\n",
    "\n",
    "        What is the probability that you will draw a card with a rank between 2 and 10 ( inclusive ) ?\n",
    "        \n",
    "**Note:** Your answer should be a a **histogram** and should show the frequency distribution of the values between 2 and 10 ( inclusive ). Be sure to label **all** parts of your histogram properly. "
   ]
  },
  {
   "cell_type": "code",
   "execution_count": 15,
   "metadata": {
    "colab": {
     "base_uri": "https://localhost:8080/",
     "height": 348
    },
    "executionInfo": {
     "elapsed": 484,
     "status": "ok",
     "timestamp": 1601067722442,
     "user": {
      "displayName": "Prabin Sapkota",
      "photoUrl": "https://lh6.googleusercontent.com/-doP6HgypWoA/AAAAAAAAAAI/AAAAAAAAADs/IVE1vPXCX6U/s64/photo.jpg",
      "userId": "10525827673897210712"
     },
     "user_tz": 240
    },
    "id": "uXYFrApsAtfp",
    "outputId": "401f1c48-87cf-4f43-8628-f019f202361c"
   },
   "outputs": [
    {
     "name": "stdout",
     "output_type": "stream",
     "text": [
      "The first time we draw a card, the probability that the card will be between 2 and 10(inclusive) is 36/53.\n",
      " On the subsequent draws as well, the probability will be the same as the cards are replaced. \n",
      " However, the probability all 1000 draws will be in the range 2 and 10 is as low as 0 obtainted by raising 36/53 to the power 1000.\n"
     ]
    },
    {
     "data": {
      "image/png": "[encoded data removed]",
      "text/plain": [
       "<Figure size 432x288 with 1 Axes>"
      ]
     },
     "metadata": {},
     "output_type": "display_data"
    }
   ],
   "source": [
    "print(\"The first time we draw a card, the probability that the card will be between 2 and 10(inclusive) is 36/53.\\n On the subsequent draws as well, the probability will be the same as the cards are replaced. \\n However, the probability all 1000 draws will be in the range 2 and 10 is as low as 0 obtainted by raising 36/53 to the power 1000.\")\n",
    "\n",
    "def draw_cards(draw_times):\n",
    "  freq_distribution = []\n",
    "\n",
    "  for i in range(1000):\n",
    "    random_index = np.random.randint(low=0, high=51)\n",
    "    drawn_rank = cards.iloc[random_index, 0]\n",
    "    if drawn_rank == \"2\" or drawn_rank == \"3\" or drawn_rank == \"4\" or drawn_rank == \"5\" or drawn_rank == \"6\" or drawn_rank == \"7\" or drawn_rank == \"8\" or drawn_rank == \"9\" or drawn_rank == \"10\":\n",
    "      freq_distribution.append(int(drawn_rank))\n",
    "\n",
    "  plt.hist(freq_distribution, bins=[x for x in range(2,12)], edgecolor='black', linewidth=1.2)\n",
    "  plt.title(\"Frequency distribution\")\n",
    "  plt.xlabel(\"Rank\")\n",
    "  plt.ylabel(\"Frequency\")\n",
    "  plt.show()\n",
    "\n",
    "draw_cards(1000)  \n",
    "    \n"
   ]
  },
  {
   "cell_type": "markdown",
   "metadata": {
    "id": "3hckZe6MAtfq"
   },
   "source": [
    "**Question 5:** Write a function that simulates drawing from a deck of 52 cards **50 times with replacement** and answer the following question:\n",
    "\n",
    "        What is the probability that you will draw a card with a rank that is a letter (J, Q, K, A) ?\n",
    "        \n",
    "**Note:** You should have **two** answers: \n",
    "    \n",
    "   (1) The first should be a **table** with 2 columns and 50 rows. The column names should \n",
    "    be \"Draw\" and \"Probability\", and should show the probability of drawing rank with a letter on the corresponding draw.\n",
    "    \n",
    "   (2) The second should be a **scatterplot** of the table from answer (1)."
   ]
  },
  {
   "cell_type": "code",
   "execution_count": 16,
   "metadata": {
    "colab": {
     "base_uri": "https://localhost:8080/",
     "height": 446
    },
    "executionInfo": {
     "elapsed": 611,
     "status": "ok",
     "timestamp": 1601068115790,
     "user": {
      "displayName": "Prabin Sapkota",
      "photoUrl": "https://lh6.googleusercontent.com/-doP6HgypWoA/AAAAAAAAAAI/AAAAAAAAADs/IVE1vPXCX6U/s64/photo.jpg",
      "userId": "10525827673897210712"
     },
     "user_tz": 240
    },
    "id": "llfnKPqHAtfr",
    "outputId": "ce87b756-32c5-4e35-f464-725b91011b05"
   },
   "outputs": [
    {
     "data": {
      "image/png": "[encoded data removed]",
      "text/plain": [
       "<Figure size 432x288 with 1 Axes>"
      ]
     },
     "metadata": {},
     "output_type": "display_data"
    },
    {
     "data": {
      "text/html": [
       "<div>\n",
       "<style scoped>\n",
       "    .dataframe tbody tr th:only-of-type {\n",
       "        vertical-align: middle;\n",
       "    }\n",
       "\n",
       "    .dataframe tbody tr th {\n",
       "        vertical-align: top;\n",
       "    }\n",
       "\n",
       "    .dataframe thead th {\n",
       "        text-align: right;\n",
       "    }\n",
       "</style>\n",
       "<table border=\"1\" class=\"dataframe\">\n",
       "  <thead>\n",
       "    <tr style=\"text-align: right;\">\n",
       "      <th></th>\n",
       "      <th>Draw</th>\n",
       "      <th>Probability</th>\n",
       "    </tr>\n",
       "  </thead>\n",
       "  <tbody>\n",
       "    <tr>\n",
       "      <th>0</th>\n",
       "      <td>J</td>\n",
       "      <td>5</td>\n",
       "    </tr>\n",
       "    <tr>\n",
       "      <th>1</th>\n",
       "      <td>Q</td>\n",
       "      <td>6</td>\n",
       "    </tr>\n",
       "    <tr>\n",
       "      <th>2</th>\n",
       "      <td>K</td>\n",
       "      <td>4</td>\n",
       "    </tr>\n",
       "    <tr>\n",
       "      <th>3</th>\n",
       "      <td>A</td>\n",
       "      <td>3</td>\n",
       "    </tr>\n",
       "  </tbody>\n",
       "</table>\n",
       "</div>"
      ],
      "text/plain": [
       "  Draw  Probability\n",
       "0    J            5\n",
       "1    Q            6\n",
       "2    K            4\n",
       "3    A            3"
      ]
     },
     "execution_count": 16,
     "metadata": {},
     "output_type": "execute_result"
    }
   ],
   "source": [
    "# confusing question ask professor\n",
    "\n",
    "def draw_cards(draw_times):\n",
    "  freq_distribution = {\n",
    "      \"J\" : 0,\n",
    "      \"Q\" : 0,\n",
    "      \"K\" : 0,\n",
    "      \"A\" : 0,\n",
    "  }\n",
    "\n",
    "  for i in range(draw_times):\n",
    "    random_index = np.random.randint(low=0, high=51)\n",
    "    drawn_rank = cards.iloc[random_index, 0]\n",
    "    if drawn_rank == \"J\" or drawn_rank == \"Q\" or drawn_rank == \"K\" or drawn_rank == \"A\":\n",
    "      freq_distribution[drawn_rank] += 1\n",
    "  distribution = { \"Draw\": list(freq_distribution.keys()), \"Probability\": list(freq_distribution.values())}\n",
    "  distribution_df = pd.DataFrame(data=distribution)\n",
    "\n",
    "  plt.scatter(freq_distribution.keys(), freq_distribution.values(), color='red')\n",
    "  plt.title(\"Frequency distribution\")\n",
    "  plt.xlabel(\"Rank\")\n",
    "  plt.ylabel(\"Frequency\")\n",
    "  plt.show()\n",
    "\n",
    "  return distribution_df\n",
    "\n",
    "distribution_df = draw_cards(50)\n",
    "distribution_df "
   ]
  }
 ],
 "metadata": {
  "colab": {
   "collapsed_sections": [],
   "name": "Lab 5 - September 17.ipynb",
   "provenance": []
  },
  "kernelspec": {
   "display_name": "Python 3",
   "language": "python",
   "name": "python3"
  },
  "language_info": {
   "codemirror_mode": {
    "name": "ipython",
    "version": 3
   },
   "file_extension": ".py",
   "mimetype": "text/x-python",
   "name": "python",
   "nbconvert_exporter": "python",
   "pygments_lexer": "ipython3",
   "version": "3.8.6"
  }
 },
 "nbformat": 4,
 "nbformat_minor": 1
}
