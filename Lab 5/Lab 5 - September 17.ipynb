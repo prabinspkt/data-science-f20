{
 "cells": [
  {
   "cell_type": "markdown",
   "metadata": {
    "id": "bK_lmPoaAtfA"
   },
   "source": [
    "# Lab 5 - Randomness, Simulations, and Probabilities"
   ]
  },
  {
   "cell_type": "code",
   "execution_count": 1,
   "metadata": {
    "executionInfo": {
     "elapsed": 686,
     "status": "ok",
     "timestamp": 1601050081137,
     "user": {
      "displayName": "Prabin Sapkota",
      "photoUrl": "https://lh6.googleusercontent.com/-doP6HgypWoA/AAAAAAAAAAI/AAAAAAAAADs/IVE1vPXCX6U/s64/photo.jpg",
      "userId": "10525827673897210712"
     },
     "user_tz": 240
    },
    "id": "liW7mi3cAtfB"
   },
   "outputs": [],
   "source": [
    "import pandas as pd\n",
    "import numpy as np \n",
    "import matplotlib\n",
    "%matplotlib inline\n",
    "import matplotlib.pyplot as plt\n",
    "plt.style.use('fivethirtyeight')"
   ]
  },
  {
   "cell_type": "markdown",
   "metadata": {
    "id": "9RY4nboaAtfE"
   },
   "source": [
    "## 1. Randomness using `np.random`\n",
    "\n",
    "**Randomization** is a method based on chance alone by which the individuals or items to be studied are assigned to a treatment group based on chance. Two primary reasons why randomization is used is to:\n",
    "\n",
    "    1) Minimize the differences among groups by equally distributing people with \n",
    "       particular characteristics among all the trial arms. \n",
    "    \n",
    "    2) Eliminate the presence of bias.\n",
    "\n",
    "The **np.random** library contains a wide variety of functions that can be used to randomize our data. There are many different functions we can use from this library. Documentation for all of the methods can be found here: https://docs.scipy.org/doc/numpy-1.14.0/reference/routines.random.html\n",
    "\n",
    "For this lab, we'll stick to using **`np.random.randint.()`** and **`np.random.choice()`**."
   ]
  },
  {
   "cell_type": "markdown",
   "metadata": {
    "id": "_nQSyP1aAtfF"
   },
   "source": [
    "**`np.random.choice.()`** picks one item at random from the given array. It is equally likely to pick any of the items. Run the cell below several times, and observe how the results change."
   ]
  },
  {
   "cell_type": "code",
   "execution_count": 2,
   "metadata": {
    "colab": {
     "base_uri": "https://localhost:8080/",
     "height": 35
    },
    "executionInfo": {
     "elapsed": 616,
     "status": "ok",
     "timestamp": 1601050086357,
     "user": {
      "displayName": "Prabin Sapkota",
      "photoUrl": "https://lh6.googleusercontent.com/-doP6HgypWoA/AAAAAAAAAAI/AAAAAAAAADs/IVE1vPXCX6U/s64/photo.jpg",
      "userId": "10525827673897210712"
     },
     "user_tz": 240
    },
    "id": "YurUkGGNAtfF",
    "outputId": "882f1db6-1e8a-4627-e05f-b4fcefae4c59"
   },
   "outputs": [
    {
     "data": {
      "application/vnd.google.colaboratory.intrinsic+json": {
       "type": "string"
      },
      "text/plain": [
       "'both'"
      ]
     },
     "execution_count": 2,
     "metadata": {
      "tags": []
     },
     "output_type": "execute_result"
    }
   ],
   "source": [
    "nachos = ['cheese', 'salsa', 'both', 'neither']\n",
    "np.random.choice(nachos)"
   ]
  },
  {
   "cell_type": "markdown",
   "metadata": {
    "id": "7Y2TvDePAtfI"
   },
   "source": [
    "To repeat this process multiple times, pass the **size** parameter in as an int `n` as the second argument to return `n` different random choices. By default, **`np.random.choice()`** samples **with replacement** ( but we can change that if we want to ) and returns an *array* of items. \n",
    "\n",
    "Run the next cell to see an example of sampling with replacement 10 times from the `nachos` array."
   ]
  },
  {
   "cell_type": "code",
   "execution_count": 3,
   "metadata": {
    "colab": {
     "base_uri": "https://localhost:8080/",
     "height": 52
    },
    "executionInfo": {
     "elapsed": 761,
     "status": "ok",
     "timestamp": 1601050106182,
     "user": {
      "displayName": "Prabin Sapkota",
      "photoUrl": "https://lh6.googleusercontent.com/-doP6HgypWoA/AAAAAAAAAAI/AAAAAAAAADs/IVE1vPXCX6U/s64/photo.jpg",
      "userId": "10525827673897210712"
     },
     "user_tz": 240
    },
    "id": "ewYR80G6AtfI",
    "outputId": "b9a1978d-532f-4dd3-a783-ca5b6e857f04"
   },
   "outputs": [
    {
     "data": {
      "text/plain": [
       "array(['neither', 'salsa', 'salsa', 'neither', 'cheese', 'both', 'cheese',\n",
       "       'neither', 'cheese', 'salsa'], dtype='<U7')"
      ]
     },
     "execution_count": 3,
     "metadata": {
      "tags": []
     },
     "output_type": "execute_result"
    }
   ],
   "source": [
    "# Run this cell a couple times\n",
    "np.random.choice(nachos, size =10)"
   ]
  },
  {
   "cell_type": "markdown",
   "metadata": {
    "id": "qRnBjPvqAtfK"
   },
   "source": [
    "The **size** parameter can be used to specify rows and colums, so we can create NxN or NxM arrays depending on what we're trying to do."
   ]
  },
  {
   "cell_type": "code",
   "execution_count": 4,
   "metadata": {
    "colab": {
     "base_uri": "https://localhost:8080/",
     "height": 70
    },
    "executionInfo": {
     "elapsed": 719,
     "status": "ok",
     "timestamp": 1601050121993,
     "user": {
      "displayName": "Prabin Sapkota",
      "photoUrl": "https://lh6.googleusercontent.com/-doP6HgypWoA/AAAAAAAAAAI/AAAAAAAAADs/IVE1vPXCX6U/s64/photo.jpg",
      "userId": "10525827673897210712"
     },
     "user_tz": 240
    },
    "id": "veOR37ptAtfL",
    "outputId": "e150a3bb-80a0-4fb9-e90e-c11de413220c"
   },
   "outputs": [
    {
     "data": {
      "text/plain": [
       "array([['neither', 'neither'],\n",
       "       ['both', 'cheese'],\n",
       "       ['neither', 'cheese']], dtype='<U7')"
      ]
     },
     "execution_count": 4,
     "metadata": {
      "tags": []
     },
     "output_type": "execute_result"
    }
   ],
   "source": [
    "# Run this cell a couple times\n",
    "np.random.choice(nachos, size =[3,2])"
   ]
  },
  {
   "cell_type": "markdown",
   "metadata": {
    "id": "7dI2QZtOAtfN"
   },
   "source": [
    "Notice that using **`np.random.choice()`** is good when we are working with categorical data. When we're working with numerical data, we'll want to use **`np.random.randint()`**."
   ]
  },
  {
   "cell_type": "code",
   "execution_count": 5,
   "metadata": {
    "colab": {
     "base_uri": "https://localhost:8080/",
     "height": 34
    },
    "executionInfo": {
     "elapsed": 654,
     "status": "ok",
     "timestamp": 1601050147808,
     "user": {
      "displayName": "Prabin Sapkota",
      "photoUrl": "https://lh6.googleusercontent.com/-doP6HgypWoA/AAAAAAAAAAI/AAAAAAAAADs/IVE1vPXCX6U/s64/photo.jpg",
      "userId": "10525827673897210712"
     },
     "user_tz": 240
    },
    "id": "0sjYshmzAtfN",
    "outputId": "55224df0-7ade-4752-ce73-234f8d79074d"
   },
   "outputs": [
    {
     "data": {
      "text/plain": [
       "3"
      ]
     },
     "execution_count": 5,
     "metadata": {
      "tags": []
     },
     "output_type": "execute_result"
    }
   ],
   "source": [
    "# Run this cell a couple times\n",
    "np.random.randint(5)"
   ]
  },
  {
   "cell_type": "markdown",
   "metadata": {
    "id": "3XtYr1lZAtfQ"
   },
   "source": [
    "Similar to **`np.random.choice()`**, **`np.random.randint()`** has parameters **high** and **size** as optional parameters. Note that **low** is inclusive and **high** is exclusive."
   ]
  },
  {
   "cell_type": "code",
   "execution_count": 6,
   "metadata": {
    "colab": {
     "base_uri": "https://localhost:8080/",
     "height": 34
    },
    "executionInfo": {
     "elapsed": 538,
     "status": "ok",
     "timestamp": 1601050166502,
     "user": {
      "displayName": "Prabin Sapkota",
      "photoUrl": "https://lh6.googleusercontent.com/-doP6HgypWoA/AAAAAAAAAAI/AAAAAAAAADs/IVE1vPXCX6U/s64/photo.jpg",
      "userId": "10525827673897210712"
     },
     "user_tz": 240
    },
    "id": "iiZHFrihAtfQ",
    "outputId": "1aea519f-e570-4891-b42c-b7d2a6b1315b"
   },
   "outputs": [
    {
     "data": {
      "text/plain": [
       "array([7, 5, 8])"
      ]
     },
     "execution_count": 6,
     "metadata": {
      "tags": []
     },
     "output_type": "execute_result"
    }
   ],
   "source": [
    "# Run this cell a couple times\n",
    "one_to_five = np.random.randint(low = 5, high = 11, size = 3)\n",
    "one_to_five"
   ]
  },
  {
   "cell_type": "markdown",
   "metadata": {
    "id": "6LtxAQEhAtfT"
   },
   "source": [
    "**Question 1:** Using **np.random.choice()**, write a function called `create_boggle_board` that generates a random boggle board. The function should have three parameteers: dxct, rows, columns. Dxct should be a list of all the letters of the alphabet, while rows and columns should the number of rows and columns on the board. Print out a sample boggle board using the function."
   ]
  },
  {
   "cell_type": "code",
   "execution_count": 8,
   "metadata": {
    "colab": {
     "base_uri": "https://localhost:8080/",
     "height": 52
    },
    "executionInfo": {
     "elapsed": 432,
     "status": "ok",
     "timestamp": 1601050397480,
     "user": {
      "displayName": "Prabin Sapkota",
      "photoUrl": "https://lh6.googleusercontent.com/-doP6HgypWoA/AAAAAAAAAAI/AAAAAAAAADs/IVE1vPXCX6U/s64/photo.jpg",
      "userId": "10525827673897210712"
     },
     "user_tz": 240
    },
    "id": "W9j4jNv1AtfU",
    "outputId": "b1f82908-5bab-4227-e575-d1cccd304469"
   },
   "outputs": [
    {
     "data": {
      "text/plain": [
       "array([['b', 'a', 'a'],\n",
       "       ['c', 'e', 'b']], dtype='<U1')"
      ]
     },
     "execution_count": 8,
     "metadata": {
      "tags": []
     },
     "output_type": "execute_result"
    }
   ],
   "source": [
    "def create_boggle_board(dxct, rows, columns):\n",
    "  return np.random.choice(dxct, size=[rows, columns])\n",
    "\n",
    "create_boggle_board([\"a\", \"b\", \"c\", \"d\", \"e\"], 2, 3)"
   ]
  },
  {
   "cell_type": "markdown",
   "metadata": {
    "id": "lSHqRIKvAtfW"
   },
   "source": [
    "**Question 2:** Using **np.random.randint()**, generate an array called `one_to_seven` that contains 100 values between one and seven (inclusive), ie [1,7]. Then create a histogram displaying the distribution of the generated values. Your x-axis should be titled \"Values.\" Your y-axis should be titled \"Frequency.\" Your title should be \"Distribution of random values from 1 to 7.\""
   ]
  },
  {
   "cell_type": "code",
   "execution_count": 132,
   "metadata": {
    "colab": {
     "base_uri": "https://localhost:8080/",
     "height": 348
    },
    "executionInfo": {
     "elapsed": 1007,
     "status": "ok",
     "timestamp": 1601066920405,
     "user": {
      "displayName": "Prabin Sapkota",
      "photoUrl": "https://lh6.googleusercontent.com/-doP6HgypWoA/AAAAAAAAAAI/AAAAAAAAADs/IVE1vPXCX6U/s64/photo.jpg",
      "userId": "10525827673897210712"
     },
     "user_tz": 240
    },
    "id": "wnHCEnsJAtfX",
    "outputId": "41b004b1-1ed4-45fd-a781-cebedebfad68"
   },
   "outputs": [
    {
     "name": "stdout",
     "output_type": "stream",
     "text": [
      "[6 7 5 2 4 4 3 2 3 3 6 6 3 3 2 5 2 2 5 7 5 5 7 7 4 5 6 4 7 2 3 6 2 2 4 7 4\n",
      " 3 6 3 7 5 4 5 1 2 1 2 6 2 2 4 7 6 4 2 4 3 2 1 2 4 7 6 4 5 5 1 1 3 3 5 7 1\n",
      " 2 7 4 6 6 1 1 4 6 6 1 3 1 1 1 2 2 2 4 3 1 5 2 1 2 1]\n"
     ]
    },
    {
     "data": {
      "image/png": "[encoded data removed]",
      "text/plain": [
       "<Figure size 432x288 with 1 Axes>"
      ]
     },
     "metadata": {
      "needs_background": "light",
      "tags": []
     },
     "output_type": "display_data"
    }
   ],
   "source": [
    "one_to_seven = np.random.randint(low=1, high=8, size=100)\n",
    "print(one_to_seven)\n",
    "\n",
    "hist_bins = [x for x in range(1,9)]\n",
    "plt.hist(one_to_seven, bins=hist_bins, edgecolor='black', linewidth=1.2)\n",
    "plt.title(\"Random number distribution\")\n",
    "plt.xlabel(\"Values\")\n",
    "plt.ylabel(\"Frequency\")\n",
    "plt.show()"
   ]
  },
  {
   "cell_type": "markdown",
   "metadata": {
    "id": "EKla7WL1AtfZ"
   },
   "source": [
    "## 2. Simulating with Descriptive Statistics\n",
    "\n",
    "**Simulation** is the process of using a computer to mimic a physical experiment. In this class, those experiments will almost invariably involve chance.\n",
    "\n",
    "Simulating involves four steps:\n",
    "\n",
    "    Step 1: What to Simulate \n",
    "   \n",
    "    Step 2: Simulating One Value\n",
    "   \n",
    "    Step 3: Number of Repetitions\n",
    "   \n",
    "    Step 4: Coding the Simulation\n",
    "    \n",
    "Let's do some simple simulations with some real-world examples."
   ]
  },
  {
   "cell_type": "markdown",
   "metadata": {
    "id": "M17LFOTeAtfZ"
   },
   "source": [
    "**Question 1:** Whammy time ! Write a program  to simulate a game of Whammy 'n' number of times. \n",
    "\n",
    "Your program should have three functions:\n",
    "    \n",
    "  1) The first function called `whammy_x_1` should create a random NxM grid from parameters \n",
    "     `whammy_prizes`, `rows`, and `columns`. `whammy_prizes`, and should \n",
    "     have the string values: 'Whammy',\"$100\", \"$500\", \"$1000\", \"$5000\", 'Whammy' \n",
    "     ( Yes, there are two whammy values ). This function should randomnly return one of the values on the grid.\n",
    "      \n",
    "  2) The second function called `whammy_x_n` should take the same parameters \n",
    "     as `whammy_x_1` with the addition of the parameter called `reps`. 'reps', \n",
    "     which stands for \"repitions\", will represent the number of times we want to run our \n",
    "     simulation.  This function should randomnly populate and return an array called \n",
    "     `whammy_results`,by calling `whammy_x_1` 'n' number of times, where 'n' is equal\n",
    "     to reps\n",
    "     \n",
    "  3) The third function called `whammy_bar_plot` should take the array returned \n",
    "     from the second function as a parameter. Using that array, create a bar plot\n",
    "     that shows the count ( or frequency ) of each possible value in he `whammy_results`\n",
    "     array. Your chart should have a title, a labeled x-axis and a labeled y-axis. Each bar on\n",
    "     your x-axis should have a label name. Your labels should accuretely convey the information\n",
    "     you're trying to communicate.\n",
    "\n",
    "\n",
    "When you call your second function, you can pass **1000** in for the number of simulations\n",
    "     \n",
    "**Note:** You can read up about the game Whammy at this link: https://gameshows.fandom.com/wiki/The_Whammy\n",
    "\n",
    "\n",
    "      "
   ]
  },
  {
   "cell_type": "code",
   "execution_count": 34,
   "metadata": {
    "colab": {
     "base_uri": "https://localhost:8080/",
     "height": 295
    },
    "executionInfo": {
     "elapsed": 724,
     "status": "ok",
     "timestamp": 1601053719228,
     "user": {
      "displayName": "Prabin Sapkota",
      "photoUrl": "https://lh6.googleusercontent.com/-doP6HgypWoA/AAAAAAAAAAI/AAAAAAAAADs/IVE1vPXCX6U/s64/photo.jpg",
      "userId": "10525827673897210712"
     },
     "user_tz": 240
    },
    "id": "3fQBFTFwAtfZ",
    "outputId": "ef6b8cfe-d5ec-40d2-e3fa-064c2997d8b8"
   },
   "outputs": [
    {
     "data": {
      "image/png": "[encoded data removed]",
      "text/plain": [
       "<Figure size 432x288 with 1 Axes>"
      ]
     },
     "metadata": {
      "needs_background": "light",
      "tags": []
     },
     "output_type": "display_data"
    }
   ],
   "source": [
    "def whammy_x_1(whammy_prizes, rows, columns):\n",
    "  grid = np.random.choice(whammy_prizes, size=[rows, columns])\n",
    "  random_x = np.random.randint(low=0, high=rows)\n",
    "  random_y = np.random.randint(low=0, high=columns)\n",
    "  return grid[random_x, random_y]\n",
    "\n",
    "def whammy_x_y(whammy_prizes, rows, columns, reps):\n",
    "  whammy_results = []\n",
    "  for i in range(reps):\n",
    "    whammy_results.append(whammy_x_1(whammy_prizes, rows, columns))\n",
    "  return whammy_results\n",
    "\n",
    "def whammy_bar_plot(whammy_results):\n",
    "  whammy_dict = {}\n",
    "  for item in whammy_results:\n",
    "    if item in whammy_dict:\n",
    "      whammy_dict[item] += 1\n",
    "    else:\n",
    "      whammy_dict[item] = 1\n",
    "\n",
    "  plt.bar(whammy_dict.keys(), whammy_dict.values(), edgecolor='black', linewidth=1.2)\n",
    "  plt.title(\"Whammy results\")\n",
    "  plt.xlabel(\"Whammy values\")\n",
    "  plt.ylabel(\"Frequency\")\n",
    "  plt.show()\n",
    "\n",
    "whammy_results = whammy_x_y(['Whammy',\"$100\", \"$500\", \"$1000\", \"$5000\", 'Whammy'], 10, 10, 1000)\n",
    "whammy_bar_plot(whammy_results)"
   ]
  },
  {
   "cell_type": "markdown",
   "metadata": {
    "id": "3DTG5OM4Atfb"
   },
   "source": [
    "**Question 2:** Whammy time again ! Modify your `whammy_prizes` array from Question 1 to  contain randomly generated values in between 1000 and 10000 (exclusive). Using the steps done in Question 1, randomnly populate the `whammy_results` array and plot the distribution of results using a histogram. Your code should be packaged in functions. Be sure to label **all** parts of your histogram properly. \n",
    "\n",
    "**Note:** Your bins can stride by **500** or **1000**, and the number of simulations you run should be **1000**."
   ]
  },
  {
   "cell_type": "code",
   "execution_count": 60,
   "metadata": {
    "colab": {
     "base_uri": "https://localhost:8080/",
     "height": 657
    },
    "executionInfo": {
     "elapsed": 749,
     "status": "ok",
     "timestamp": 1601056562612,
     "user": {
      "displayName": "Prabin Sapkota",
      "photoUrl": "https://lh6.googleusercontent.com/-doP6HgypWoA/AAAAAAAAAAI/AAAAAAAAADs/IVE1vPXCX6U/s64/photo.jpg",
      "userId": "10525827673897210712"
     },
     "user_tz": 240
    },
    "id": "biAX_wyBAtfc",
    "outputId": "677b4444-a8b6-4d8d-ee32-a9bdc19fef5d"
   },
   "outputs": [
    {
     "name": "stdout",
     "output_type": "stream",
     "text": [
      "[7792, 4476, 5797, 9801, 5099, 2595, 3169, 6374, 3169, 6014, 8796, 3362, 5186, 8283, 3147, 8573, 2500, 9602, 2500, 6295, 2309, 9131, 8949, 1849, 7440, 6112, 9843, 3471, 5186, 9843, 4185, 2595, 7895, 4813, 1340, 4185, 5537, 9843, 2309, 8675, 6014, 2235, 5563, 2020, 7050, 8283, 8579, 1627, 9115, 9417, 6811, 2500, 9668, 7792, 8949, 8675, 1340, 4665, 9668, 1340, 2500, 4476, 3147, 3471, 4813, 2307, 7528, 4813, 4813, 4452, 4185, 5475, 5797, 4007, 4879, 2235, 5563, 1412, 7440, 6864, 9225, 9650, 2500, 7491, 3169, 8796, 6626, 1627, 5186, 8573, 9843, 5797, 6811, 4665, 1381, 2307, 6864, 9782, 9172, 6295, 4452, 5475, 6811, 8579, 7195, 1849, 8579, 1627, 1381, 8796, 9172, 2122, 7792, 7491, 9782, 9602, 8817, 6295, 2227, 8796, 4813, 1351, 9735, 8283, 5863, 1412, 2143, 3939, 2309, 8283, 2500, 2551, 9417, 6626, 2555, 2500, 1627, 1340, 8579, 3147, 1351, 3362, 4941, 6724, 6811, 3610, 3695, 2360, 2551, 9062, 7528, 2235, 8283, 9172, 9115, 7528, 5099, 2555, 7792, 4185, 2500, 5797, 5099, 8579, 3471, 3695, 2818, 9877, 1627, 1849, 2246, 2500, 9650, 5537, 6724, 4132, 2309, 7756, 6626, 1849, 6112, 1412, 6295, 5475, 1627, 8675, 2235, 1627, 8817, 9435, 2227, 9115, 9843, 2122, 6295, 7895, 1849, 3169, 8796, 8660, 2405, 6811, 7050, 3610, 2246, 2309, 6724, 4813, 8283, 1926, 8817, 3147, 8551, 2500, 8821, 3345, 4941, 4313, 4452, 5988, 7756, 7528, 5863, 2143, 9131, 2122, 4941, 9735, 4313, 8821, 2555, 7895, 7440, 6811, 7895, 8051, 2122, 1381, 2500, 6864, 2235, 8796, 6981, 6981, 2595, 9782, 3471, 3362, 9843, 8949, 2235, 4185, 7528, 2143, 3471, 4313, 2360, 2246, 1305, 7440, 9115, 7436, 6295, 9843, 6811, 2551, 8817, 8675, 6811, 4665, 9637, 9801, 7050, 2595, 8051, 3147, 9435, 3939, 7436, 5988, 4941, 6864, 8949, 4941, 3610, 5537, 4452, 2405, 2307, 9602, 9782, 4185, 2143, 1351, 9115, 3695, 2405, 3939, 8551, 9131, 3169, 6811, 4313, 1351, 5099, 4813, 7436, 3147, 8949, 7895, 2020, 4452, 8579, 8675, 4879, 2595, 2235, 1340, 9668, 9668, 2307, 7895, 6981, 4476, 8579, 2227, 1412, 8821, 2020, 4476, 8949, 2595, 9115, 3345, 9602, 8051, 9435, 5475, 9801, 6695, 4007, 9172, 7756, 5186, 7756, 1381, 4313, 3169, 6112, 4185, 2555, 2595, 4476, 9650, 5186, 8796, 5797, 9115, 4132, 6112, 1381, 4723, 9782, 4132, 1305, 2020, 2555, 1849, 6811, 3939, 5537, 7050, 2020, 2360, 1849, 9115, 4185, 6626, 6724, 7528, 3695, 2006, 4941, 3345, 7756, 1381, 7895, 5797, 5797, 3384, 9172, 2246, 3169, 8821, 2143, 8579, 6695, 7050, 8949, 8949, 1849, 2246, 5863, 3939, 4665, 2500, 2143, 2360, 3384, 4132, 2020, 3384, 6112, 3384, 4879, 8796, 9602, 9435, 3610, 9668, 8817, 9435, 8821, 4007, 2818, 1627, 7792, 8051, 9115, 8573, 9801, 6864, 4452, 6864, 4941, 9435, 6864, 1412, 9172, 3471, 3384, 3471, 6014, 3345, 7528, 9801, 6626, 9637, 6695, 7436, 2595, 9172, 6724, 7436, 3345, 6695, 7195, 5099, 9801, 3695, 9131, 5475, 2143, 8573, 7195, 9801, 3147, 1381, 7528, 2307, 2235, 7771, 9843, 4665, 3345, 5537, 1305, 4452, 8573, 9877, 4723, 7895, 8551, 4665, 9650, 9650, 4476, 5797, 6981, 6695, 2246, 3610, 4813, 6112, 3169, 1849, 8551, 5863, 5537, 9225, 3939, 3471, 2360, 5186, 5797, 9637, 3939, 2405, 8573, 9782, 2235, 7895, 7528, 8283, 2006, 9115, 7195, 2020, 2235, 9225, 9637, 1381, 6695, 1305, 4185, 2020, 7756, 9131, 3147, 7050, 9843, 8817, 6112, 9115, 4132, 2360, 9637, 4723, 1351, 2235, 3939, 2595, 2235, 9650, 9172, 3147, 7440, 1305, 7436, 5863, 8551, 2309, 6864, 7440, 8283, 8579, 4313, 7050, 5537, 8283, 6295, 8051, 5099, 8660, 8675, 2227, 4879, 3169, 2020, 9637, 9637, 4007, 4941, 5863, 5186, 5186, 6811, 4941, 3147, 9131, 2143, 3345, 2551, 6295, 7528, 6626, 6864, 6112, 8573, 1412, 9877, 4941, 9843, 9602, 4941, 9225, 4941, 3471, 4185, 2595, 8675, 8573, 2595, 5099, 9782, 7440, 7756, 2595, 7895, 2006, 3362, 9843, 7756, 3471, 2405, 8579, 3695, 3939, 8551, 8675, 1926, 2235, 1926, 9417, 2595, 9435, 7436, 1412, 8573, 4007, 3345, 2307, 5863, 4723, 5186, 4452, 1351, 8817, 1926, 7771, 6014, 6295, 8796, 9650, 1926, 3384, 3147, 2006, 6295, 9225, 9417, 7491, 8579, 2500, 6811, 9172, 4185, 7491, 9735, 4941, 8660, 2818, 7491, 7195, 3362, 9435, 5563, 5537, 2309, 1412, 8660, 9843, 8551, 1340, 5988, 2006, 1381, 8817, 3695, 3169, 6626, 2595, 6811, 2309, 6724, 8817, 5475, 2227, 9843, 9115, 2122, 1381, 1305, 7440, 8551, 9650, 2006, 3695, 5863, 9417, 2246, 3147, 1926, 8817, 5988, 2227, 6724, 8949, 4185, 4452, 5988, 8051, 8551, 6374, 6864, 1340, 2405, 8817, 9877, 4185, 9877, 2595, 8660, 5537, 9225, 9417, 2595, 3345, 5563, 1849, 8551, 9782, 8821, 6864, 4313, 4185, 6626, 7436, 5475, 6864, 9062, 6811, 2595, 3169, 7050, 1351, 8796, 4723, 7195, 6295, 9650, 6295, 7440, 7050, 5863, 3345, 3169, 2595, 8796, 1849, 8949, 4452, 6374, 1412, 9877, 2307, 5537, 3695, 9417, 9801, 8051, 7528, 8283, 4941, 4007, 8283, 2307, 6112, 6695, 5475, 3695, 2405, 2246, 1340, 6112, 1412, 2595, 9668, 4665, 5988, 3695, 1381, 7895, 4941, 4665, 5186, 4452, 7528, 9602, 6811, 8660, 9843, 8283, 8796, 7895, 8051, 4313, 9417, 3169, 5563, 5537, 4665, 4313, 8660, 6864, 8573, 2122, 6295, 3471, 1305, 7528, 8675, 1340, 2360, 2555, 8817, 1351, 4723, 2360, 1412, 1340, 9843, 8675, 9131, 7491, 2020, 8660, 9131, 8551, 3939, 1351, 4185, 7195, 9650, 3384, 8283, 7440, 6724, 3939, 7756, 3695, 9637, 9602, 6864, 3384, 3169, 6374, 2307, 9877, 6295, 1381, 9650, 4665, 6695, 2246, 9668, 4185, 5563, 4476, 2309, 4007, 2143, 2551, 2309, 9602, 9650, 2360, 2555, 9801, 3169, 7050, 9782, 7050, 9602, 3695, 9843, 2307, 3147, 3939, 3345, 8817, 9801, 3345, 7436, 8821, 7195, 6724, 9843, 6981, 6014, 1412, 9225, 4476, 8796, 2006, 6014, 2006, 2309, 7792, 1381, 2020, 7050, 1849, 8573, 2309, 7440, 3169, 3384, 9782, 1849, 6112, 3939, 7440, 8551, 5537, 3169, 3345, 3939, 5186, 4813, 7195, 9801, 1412, 6626, 4879, 4941, 8796, 7050, 9417, 2551, 8579, 5537, 8579, 5563, 2143, 1305, 2551, 2595, 1412, 7195, 9735, 9062, 4665, 4313, 9115, 5186, 8817, 9650, 2235, 4476, 1926, 8817, 1412, 1849, 3695, 3471, 2309, 7436, 6981, 6864, 3939, 3362, 9172, 7440, 7195, 6295, 3695, 9801, 9735, 1381, 4185, 6014, 6626, 2227, 7895, 2143, 4313, 3695, 6724, 9877, 1305, 8675, 7792, 8573, 8283, 3695, 8660, 6014, 3610, 4007]\n"
     ]
    },
    {
     "data": {
      "image/png": "[encoded data removed]",
      "text/plain": [
       "<Figure size 1440x720 with 1 Axes>"
      ]
     },
     "metadata": {
      "needs_background": "light",
      "tags": []
     },
     "output_type": "display_data"
    }
   ],
   "source": [
    "# since the number of whammy_prizes is not clear, using 100 count as default whammy_prizes\n",
    "whammy_prizes = np.random.randint(low=1000, high=10000, size=100)\n",
    "\n",
    "whammy_results = whammy_x_y(whammy_prizes, 10, 10, 1000)\n",
    "print(whammy_results)\n",
    "\n",
    "def whammy_hist(whammy_results):\n",
    "  hist_bins = [x for x in range(1000, 10051, 500)]\n",
    "  plt.figure(figsize=(20,10))\n",
    "  plt.hist(whammy_results, bins=hist_bins, edgecolor='black', linewidth=1.2, width=200)\n",
    "  plt.title(\"Whammy prizes distribution\")\n",
    "  plt.xlabel(\"Whammy Values\")\n",
    "  plt.ylabel(\"Frequency\")\n",
    "  plt.show()\n",
    "\n",
    "whammy_hist(whammy_results)\n",
    "\n"
   ]
  },
  {
   "cell_type": "markdown",
   "metadata": {
    "id": "4XTXyIsHAtfe"
   },
   "source": [
    "## 3. Using Simulations to get Probabilities \n",
    "\n",
    "**Note:** Reading from Chapter 9.5 of the Computational and Inferential Textbook will make understanding this section simpler.\n",
    "\n",
    "A **probability** is a number that reflects the chance or likelihood that a particular event will occur.\n",
    "\n",
    "Probabilities can be understood in various ways, but in data science, probabilities will be understood as **relative frequencies**.The ways in which probabilities are calculated and combined are consistent across the different interpretations.\n",
    "\n",
    "By convention, probabilities are numbers between 0 and 1, or, equivalently, 0% and 100%. Impossible events have probability 0. Events that are certain have probability 1.\n",
    "\n",
    "Using a \"deck of cards\", lets ask some questions to understand probablities better.\n",
    "\n",
    "**Note:** A playing card has a \"suit\" (\"♠︎\", \"♣︎\", \"♥︎\", or \"♦︎\") and a \"rank\" (2 through 10, J, Q, K, or A).  There are 4 suits and 13 ranks, so there are $4 \\times 13 = 52$ different cards."
   ]
  },
  {
   "cell_type": "code",
   "execution_count": 62,
   "metadata": {
    "colab": {
     "base_uri": "https://localhost:8080/",
     "height": 1000
    },
    "executionInfo": {
     "elapsed": 884,
     "status": "ok",
     "timestamp": 1601056716348,
     "user": {
      "displayName": "Prabin Sapkota",
      "photoUrl": "https://lh6.googleusercontent.com/-doP6HgypWoA/AAAAAAAAAAI/AAAAAAAAADs/IVE1vPXCX6U/s64/photo.jpg",
      "userId": "10525827673897210712"
     },
     "user_tz": 240
    },
    "id": "YSPbw4lRAtfe",
    "outputId": "7c241334-457f-4388-9163-dd2bffdf7e58"
   },
   "outputs": [
    {
     "data": {
      "text/html": [
       "<div>\n",
       "<style scoped>\n",
       "    .dataframe tbody tr th:only-of-type {\n",
       "        vertical-align: middle;\n",
       "    }\n",
       "\n",
       "    .dataframe tbody tr th {\n",
       "        vertical-align: top;\n",
       "    }\n",
       "\n",
       "    .dataframe thead th {\n",
       "        text-align: right;\n",
       "    }\n",
       "</style>\n",
       "<table border=\"1\" class=\"dataframe\">\n",
       "  <thead>\n",
       "    <tr style=\"text-align: right;\">\n",
       "      <th></th>\n",
       "      <th>Rank</th>\n",
       "      <th>Suit</th>\n",
       "    </tr>\n",
       "  </thead>\n",
       "  <tbody>\n",
       "    <tr>\n",
       "      <th>0</th>\n",
       "      <td>2</td>\n",
       "      <td>♠︎</td>\n",
       "    </tr>\n",
       "    <tr>\n",
       "      <th>1</th>\n",
       "      <td>2</td>\n",
       "      <td>♣︎</td>\n",
       "    </tr>\n",
       "    <tr>\n",
       "      <th>2</th>\n",
       "      <td>2</td>\n",
       "      <td>♥︎</td>\n",
       "    </tr>\n",
       "    <tr>\n",
       "      <th>3</th>\n",
       "      <td>2</td>\n",
       "      <td>♦︎</td>\n",
       "    </tr>\n",
       "    <tr>\n",
       "      <th>4</th>\n",
       "      <td>3</td>\n",
       "      <td>♠︎</td>\n",
       "    </tr>\n",
       "    <tr>\n",
       "      <th>5</th>\n",
       "      <td>3</td>\n",
       "      <td>♣︎</td>\n",
       "    </tr>\n",
       "    <tr>\n",
       "      <th>6</th>\n",
       "      <td>3</td>\n",
       "      <td>♥︎</td>\n",
       "    </tr>\n",
       "    <tr>\n",
       "      <th>7</th>\n",
       "      <td>3</td>\n",
       "      <td>♦︎</td>\n",
       "    </tr>\n",
       "    <tr>\n",
       "      <th>8</th>\n",
       "      <td>4</td>\n",
       "      <td>♠︎</td>\n",
       "    </tr>\n",
       "    <tr>\n",
       "      <th>9</th>\n",
       "      <td>4</td>\n",
       "      <td>♣︎</td>\n",
       "    </tr>\n",
       "    <tr>\n",
       "      <th>10</th>\n",
       "      <td>4</td>\n",
       "      <td>♥︎</td>\n",
       "    </tr>\n",
       "    <tr>\n",
       "      <th>11</th>\n",
       "      <td>4</td>\n",
       "      <td>♦︎</td>\n",
       "    </tr>\n",
       "    <tr>\n",
       "      <th>12</th>\n",
       "      <td>5</td>\n",
       "      <td>♠︎</td>\n",
       "    </tr>\n",
       "    <tr>\n",
       "      <th>13</th>\n",
       "      <td>5</td>\n",
       "      <td>♣︎</td>\n",
       "    </tr>\n",
       "    <tr>\n",
       "      <th>14</th>\n",
       "      <td>5</td>\n",
       "      <td>♥︎</td>\n",
       "    </tr>\n",
       "    <tr>\n",
       "      <th>15</th>\n",
       "      <td>5</td>\n",
       "      <td>♦︎</td>\n",
       "    </tr>\n",
       "    <tr>\n",
       "      <th>16</th>\n",
       "      <td>6</td>\n",
       "      <td>♠︎</td>\n",
       "    </tr>\n",
       "    <tr>\n",
       "      <th>17</th>\n",
       "      <td>6</td>\n",
       "      <td>♣︎</td>\n",
       "    </tr>\n",
       "    <tr>\n",
       "      <th>18</th>\n",
       "      <td>6</td>\n",
       "      <td>♥︎</td>\n",
       "    </tr>\n",
       "    <tr>\n",
       "      <th>19</th>\n",
       "      <td>6</td>\n",
       "      <td>♦︎</td>\n",
       "    </tr>\n",
       "    <tr>\n",
       "      <th>20</th>\n",
       "      <td>7</td>\n",
       "      <td>♠︎</td>\n",
       "    </tr>\n",
       "    <tr>\n",
       "      <th>21</th>\n",
       "      <td>7</td>\n",
       "      <td>♣︎</td>\n",
       "    </tr>\n",
       "    <tr>\n",
       "      <th>22</th>\n",
       "      <td>7</td>\n",
       "      <td>♥︎</td>\n",
       "    </tr>\n",
       "    <tr>\n",
       "      <th>23</th>\n",
       "      <td>7</td>\n",
       "      <td>♦︎</td>\n",
       "    </tr>\n",
       "    <tr>\n",
       "      <th>24</th>\n",
       "      <td>8</td>\n",
       "      <td>♠︎</td>\n",
       "    </tr>\n",
       "    <tr>\n",
       "      <th>25</th>\n",
       "      <td>8</td>\n",
       "      <td>♣︎</td>\n",
       "    </tr>\n",
       "    <tr>\n",
       "      <th>26</th>\n",
       "      <td>8</td>\n",
       "      <td>♥︎</td>\n",
       "    </tr>\n",
       "    <tr>\n",
       "      <th>27</th>\n",
       "      <td>8</td>\n",
       "      <td>♦︎</td>\n",
       "    </tr>\n",
       "    <tr>\n",
       "      <th>28</th>\n",
       "      <td>9</td>\n",
       "      <td>♠︎</td>\n",
       "    </tr>\n",
       "    <tr>\n",
       "      <th>29</th>\n",
       "      <td>9</td>\n",
       "      <td>♣︎</td>\n",
       "    </tr>\n",
       "    <tr>\n",
       "      <th>30</th>\n",
       "      <td>9</td>\n",
       "      <td>♥︎</td>\n",
       "    </tr>\n",
       "    <tr>\n",
       "      <th>31</th>\n",
       "      <td>9</td>\n",
       "      <td>♦︎</td>\n",
       "    </tr>\n",
       "    <tr>\n",
       "      <th>32</th>\n",
       "      <td>10</td>\n",
       "      <td>♠︎</td>\n",
       "    </tr>\n",
       "    <tr>\n",
       "      <th>33</th>\n",
       "      <td>10</td>\n",
       "      <td>♣︎</td>\n",
       "    </tr>\n",
       "    <tr>\n",
       "      <th>34</th>\n",
       "      <td>10</td>\n",
       "      <td>♥︎</td>\n",
       "    </tr>\n",
       "    <tr>\n",
       "      <th>35</th>\n",
       "      <td>10</td>\n",
       "      <td>♦︎</td>\n",
       "    </tr>\n",
       "    <tr>\n",
       "      <th>36</th>\n",
       "      <td>J</td>\n",
       "      <td>♠︎</td>\n",
       "    </tr>\n",
       "    <tr>\n",
       "      <th>37</th>\n",
       "      <td>J</td>\n",
       "      <td>♣︎</td>\n",
       "    </tr>\n",
       "    <tr>\n",
       "      <th>38</th>\n",
       "      <td>J</td>\n",
       "      <td>♥︎</td>\n",
       "    </tr>\n",
       "    <tr>\n",
       "      <th>39</th>\n",
       "      <td>J</td>\n",
       "      <td>♦︎</td>\n",
       "    </tr>\n",
       "    <tr>\n",
       "      <th>40</th>\n",
       "      <td>Q</td>\n",
       "      <td>♠︎</td>\n",
       "    </tr>\n",
       "    <tr>\n",
       "      <th>41</th>\n",
       "      <td>Q</td>\n",
       "      <td>♣︎</td>\n",
       "    </tr>\n",
       "    <tr>\n",
       "      <th>42</th>\n",
       "      <td>Q</td>\n",
       "      <td>♥︎</td>\n",
       "    </tr>\n",
       "    <tr>\n",
       "      <th>43</th>\n",
       "      <td>Q</td>\n",
       "      <td>♦︎</td>\n",
       "    </tr>\n",
       "    <tr>\n",
       "      <th>44</th>\n",
       "      <td>K</td>\n",
       "      <td>♠︎</td>\n",
       "    </tr>\n",
       "    <tr>\n",
       "      <th>45</th>\n",
       "      <td>K</td>\n",
       "      <td>♣︎</td>\n",
       "    </tr>\n",
       "    <tr>\n",
       "      <th>46</th>\n",
       "      <td>K</td>\n",
       "      <td>♥︎</td>\n",
       "    </tr>\n",
       "    <tr>\n",
       "      <th>47</th>\n",
       "      <td>K</td>\n",
       "      <td>♦︎</td>\n",
       "    </tr>\n",
       "    <tr>\n",
       "      <th>48</th>\n",
       "      <td>A</td>\n",
       "      <td>♠︎</td>\n",
       "    </tr>\n",
       "    <tr>\n",
       "      <th>49</th>\n",
       "      <td>A</td>\n",
       "      <td>♣︎</td>\n",
       "    </tr>\n",
       "    <tr>\n",
       "      <th>50</th>\n",
       "      <td>A</td>\n",
       "      <td>♥︎</td>\n",
       "    </tr>\n",
       "    <tr>\n",
       "      <th>51</th>\n",
       "      <td>A</td>\n",
       "      <td>♦︎</td>\n",
       "    </tr>\n",
       "  </tbody>\n",
       "</table>\n",
       "</div>"
      ],
      "text/plain": [
       "   Rank Suit\n",
       "0     2   ♠︎\n",
       "1     2   ♣︎\n",
       "2     2   ♥︎\n",
       "3     2   ♦︎\n",
       "4     3   ♠︎\n",
       "5     3   ♣︎\n",
       "6     3   ♥︎\n",
       "7     3   ♦︎\n",
       "8     4   ♠︎\n",
       "9     4   ♣︎\n",
       "10    4   ♥︎\n",
       "11    4   ♦︎\n",
       "12    5   ♠︎\n",
       "13    5   ♣︎\n",
       "14    5   ♥︎\n",
       "15    5   ♦︎\n",
       "16    6   ♠︎\n",
       "17    6   ♣︎\n",
       "18    6   ♥︎\n",
       "19    6   ♦︎\n",
       "20    7   ♠︎\n",
       "21    7   ♣︎\n",
       "22    7   ♥︎\n",
       "23    7   ♦︎\n",
       "24    8   ♠︎\n",
       "25    8   ♣︎\n",
       "26    8   ♥︎\n",
       "27    8   ♦︎\n",
       "28    9   ♠︎\n",
       "29    9   ♣︎\n",
       "30    9   ♥︎\n",
       "31    9   ♦︎\n",
       "32   10   ♠︎\n",
       "33   10   ♣︎\n",
       "34   10   ♥︎\n",
       "35   10   ♦︎\n",
       "36    J   ♠︎\n",
       "37    J   ♣︎\n",
       "38    J   ♥︎\n",
       "39    J   ♦︎\n",
       "40    Q   ♠︎\n",
       "41    Q   ♣︎\n",
       "42    Q   ♥︎\n",
       "43    Q   ♦︎\n",
       "44    K   ♠︎\n",
       "45    K   ♣︎\n",
       "46    K   ♥︎\n",
       "47    K   ♦︎\n",
       "48    A   ♠︎\n",
       "49    A   ♣︎\n",
       "50    A   ♥︎\n",
       "51    A   ♦︎"
      ]
     },
     "execution_count": 62,
     "metadata": {
      "tags": []
     },
     "output_type": "execute_result"
    }
   ],
   "source": [
    "cards = pd.read_csv('https://raw.githubusercontent.com/prabinspkt/data-science-files/main/deck.csv')\n",
    "suits = [\"♠︎\", \"♣︎\", \"♥︎\",\"♦︎\"]\n",
    "cards"
   ]
  },
  {
   "cell_type": "markdown",
   "metadata": {
    "id": "c0CvAVuTAtfh"
   },
   "source": [
    "**Question 1:** Write a function that simulates drawing from a deck of 52 cards **once**, and answer the following question:\n",
    "        \n",
    "        What is the probability that you will draw a card with the suit \"♠︎\" and rank \"5\" ?\n",
    "        \n",
    "**Note:** Your answer should be a **single value**."
   ]
  },
  {
   "cell_type": "code",
   "execution_count": 66,
   "metadata": {
    "colab": {
     "base_uri": "https://localhost:8080/",
     "height": 70
    },
    "executionInfo": {
     "elapsed": 450,
     "status": "ok",
     "timestamp": 1601057035591,
     "user": {
      "displayName": "Prabin Sapkota",
      "photoUrl": "https://lh6.googleusercontent.com/-doP6HgypWoA/AAAAAAAAAAI/AAAAAAAAADs/IVE1vPXCX6U/s64/photo.jpg",
      "userId": "10525827673897210712"
     },
     "user_tz": 240
    },
    "id": "80_UFmTvAtfh",
    "outputId": "a5452018-c0f7-4a08-f900-c4828feee448"
   },
   "outputs": [
    {
     "name": "stdout",
     "output_type": "stream",
     "text": [
      "   Rank Suit\n",
      "48    A   ♠︎\n",
      "The probability is 1/52 as there are 52 cards and we draw 1 card.\n"
     ]
    }
   ],
   "source": [
    "def random_card():\n",
    "  random_index= np.random.randint(low=0, high=51)\n",
    "  return cards.iloc[[random_index]]\n",
    "\n",
    "print(random_card())\n",
    "\n",
    "print(\"The probability is 1/52 as there are 52 cards and we draw 1 card.\")"
   ]
  },
  {
   "cell_type": "markdown",
   "metadata": {
    "id": "9w2ZimTTAtfj"
   },
   "source": [
    "**Question 2:** Write a function that simulates drawing from a deck of 52 cards **4 times without replacement**, and answer the following question:\n",
    "        \n",
    "        What is the probability that you will draw a card with suit \"♣︎\" ?\n",
    "        \n",
    "**Note:** Your answer should be a **table** with 2 columns and four rows. The column names should be \"Draw\" and \"Probability\", and should show the probability of drawing rank '10' on the corresponding draw."
   ]
  },
  {
   "cell_type": "code",
   "execution_count": 113,
   "metadata": {
    "colab": {
     "base_uri": "https://localhost:8080/",
     "height": 292
    },
    "executionInfo": {
     "elapsed": 466,
     "status": "ok",
     "timestamp": 1601061652005,
     "user": {
      "displayName": "Prabin Sapkota",
      "photoUrl": "https://lh6.googleusercontent.com/-doP6HgypWoA/AAAAAAAAAAI/AAAAAAAAADs/IVE1vPXCX6U/s64/photo.jpg",
      "userId": "10525827673897210712"
     },
     "user_tz": 240
    },
    "id": "RgkkVbtyAtfk",
    "outputId": "c41646d4-ecf9-4fbb-d369-03dfec8e4149"
   },
   "outputs": [
    {
     "name": "stdout",
     "output_type": "stream",
     "text": [
      "When there are 52 cards in the deck and we draw one card, the probability that it is a card of suit ♣︎ is 1/4. \n",
      " For the remaining attempts, it each outcome will depend on the result of the previous draw.\n",
      "[   Rank Suit\n",
      "32   10   ♠︎,    Rank Suit\n",
      "37    J   ♣︎,    Rank Suit\n",
      "40    Q   ♠︎,    Rank Suit\n",
      "11    4   ♦︎]\n"
     ]
    },
    {
     "data": {
      "text/html": [
       "<div>\n",
       "<style scoped>\n",
       "    .dataframe tbody tr th:only-of-type {\n",
       "        vertical-align: middle;\n",
       "    }\n",
       "\n",
       "    .dataframe tbody tr th {\n",
       "        vertical-align: top;\n",
       "    }\n",
       "\n",
       "    .dataframe thead th {\n",
       "        text-align: right;\n",
       "    }\n",
       "</style>\n",
       "<table border=\"1\" class=\"dataframe\">\n",
       "  <thead>\n",
       "    <tr style=\"text-align: right;\">\n",
       "      <th></th>\n",
       "      <th>Draw</th>\n",
       "      <th>Probability</th>\n",
       "    </tr>\n",
       "  </thead>\n",
       "  <tbody>\n",
       "    <tr>\n",
       "      <th>0</th>\n",
       "      <td>1</td>\n",
       "      <td>0.076923</td>\n",
       "    </tr>\n",
       "    <tr>\n",
       "      <th>1</th>\n",
       "      <td>2</td>\n",
       "      <td>0.058824</td>\n",
       "    </tr>\n",
       "    <tr>\n",
       "      <th>2</th>\n",
       "      <td>3</td>\n",
       "      <td>0.060000</td>\n",
       "    </tr>\n",
       "    <tr>\n",
       "      <th>3</th>\n",
       "      <td>4</td>\n",
       "      <td>0.061224</td>\n",
       "    </tr>\n",
       "  </tbody>\n",
       "</table>\n",
       "</div>"
      ],
      "text/plain": [
       "   Draw  Probability\n",
       "0     1     0.076923\n",
       "1     2     0.058824\n",
       "2     3     0.060000\n",
       "3     4     0.061224"
      ]
     },
     "execution_count": 113,
     "metadata": {
      "tags": []
     },
     "output_type": "execute_result"
    }
   ],
   "source": [
    "print(\"When there are 52 cards in the deck and we draw one card, the probability that it is a card of suit ♣︎ is 1/4. \\n For the remaining attempts, it each outcome will depend on the result of the previous draw.\")\n",
    "\n",
    "def draw_cards(draw_times):\n",
    "  ten_count = 4\n",
    "  total_count = 52\n",
    "  \n",
    "  probabilities = []\n",
    "\n",
    "  drawn_index = set()\n",
    "  drawn_cards = []\n",
    "  while len(drawn_cards) < draw_times:\n",
    "    random_index= np.random.randint(low=0, high=51)\n",
    "    if random_index not in drawn_index:\n",
    "      draw = cards.iloc[[random_index]]\n",
    "      drawn_cards.append(draw)\n",
    "      drawn_index.add(random_index)\n",
    "\n",
    "      drawn_rank = cards.iloc[random_index, 0]\n",
    "      # calculate probability before decrementing count\n",
    "      probabilities.append(ten_count/total_count)\n",
    "      if drawn_rank == \"10\":\n",
    "        ten_count -= 1\n",
    "      total_count -= 1\n",
    "  \n",
    "  draw_probabilities = {\"Draw\": [x for x in range(1, draw_times+1)], \"Probability\":probabilities}\n",
    "  draw_probabilities_df = pd.DataFrame(data=draw_probabilities)\n",
    "  print(drawn_cards)\n",
    "  return draw_probabilities_df\n",
    "\n",
    "draw_probabilities = draw_cards(4)\n",
    "draw_probabilities"
   ]
  },
  {
   "cell_type": "markdown",
   "metadata": {
    "id": "PNek51rAAtfm"
   },
   "source": [
    "**Question 3:** Write a function that simulates drawing from a deck of 52 cards **10 times without replacement**, and answer the following question:\n",
    "        \n",
    "        What is the probability that you will draw a card with suit \"♥︎\" or \"♦︎\"?\n",
    "\n",
    "**Note:** Your answer should be a **table** with 2 columns and 10 rows. The column names should be \"Draw\" and \"Probability\", and should show the probability of drawing suit \"♥︎\" or \"♦︎\" on the corresponding draw."
   ]
  },
  {
   "cell_type": "code",
   "execution_count": 119,
   "metadata": {
    "colab": {
     "base_uri": "https://localhost:8080/",
     "height": 578
    },
    "executionInfo": {
     "elapsed": 575,
     "status": "ok",
     "timestamp": 1601062223363,
     "user": {
      "displayName": "Prabin Sapkota",
      "photoUrl": "https://lh6.googleusercontent.com/-doP6HgypWoA/AAAAAAAAAAI/AAAAAAAAADs/IVE1vPXCX6U/s64/photo.jpg",
      "userId": "10525827673897210712"
     },
     "user_tz": 240
    },
    "id": "tKJ0nQJeAtfm",
    "outputId": "0d965c96-fc0b-4bdd-e61d-8510e6a28e0b"
   },
   "outputs": [
    {
     "name": "stdout",
     "output_type": "stream",
     "text": [
      "When there are 52 cards in the deck and we draw one card, the probability that it is a card of suit  is 1/2. \n",
      " For the remaining attempts, it each outcome will depend on the result of the previous draw.\n",
      "[   Rank Suit\n",
      "30    9   ♥︎,    Rank Suit\n",
      "42    Q   ♥︎,    Rank Suit\n",
      "49    A   ♣︎,   Rank Suit\n",
      "3    2   ♦︎,   Rank Suit\n",
      "9    4   ♣︎,    Rank Suit\n",
      "35   10   ♦︎,    Rank Suit\n",
      "31    9   ♦︎,    Rank Suit\n",
      "23    7   ♦︎,    Rank Suit\n",
      "21    7   ♣︎,    Rank Suit\n",
      "25    8   ♣︎]\n"
     ]
    },
    {
     "data": {
      "text/html": [
       "<div>\n",
       "<style scoped>\n",
       "    .dataframe tbody tr th:only-of-type {\n",
       "        vertical-align: middle;\n",
       "    }\n",
       "\n",
       "    .dataframe tbody tr th {\n",
       "        vertical-align: top;\n",
       "    }\n",
       "\n",
       "    .dataframe thead th {\n",
       "        text-align: right;\n",
       "    }\n",
       "</style>\n",
       "<table border=\"1\" class=\"dataframe\">\n",
       "  <thead>\n",
       "    <tr style=\"text-align: right;\">\n",
       "      <th></th>\n",
       "      <th>Draw</th>\n",
       "      <th>Probability</th>\n",
       "    </tr>\n",
       "  </thead>\n",
       "  <tbody>\n",
       "    <tr>\n",
       "      <th>0</th>\n",
       "      <td>1</td>\n",
       "      <td>0.500000</td>\n",
       "    </tr>\n",
       "    <tr>\n",
       "      <th>1</th>\n",
       "      <td>2</td>\n",
       "      <td>0.490196</td>\n",
       "    </tr>\n",
       "    <tr>\n",
       "      <th>2</th>\n",
       "      <td>3</td>\n",
       "      <td>0.480000</td>\n",
       "    </tr>\n",
       "    <tr>\n",
       "      <th>3</th>\n",
       "      <td>4</td>\n",
       "      <td>0.489796</td>\n",
       "    </tr>\n",
       "    <tr>\n",
       "      <th>4</th>\n",
       "      <td>5</td>\n",
       "      <td>0.479167</td>\n",
       "    </tr>\n",
       "    <tr>\n",
       "      <th>5</th>\n",
       "      <td>6</td>\n",
       "      <td>0.489362</td>\n",
       "    </tr>\n",
       "    <tr>\n",
       "      <th>6</th>\n",
       "      <td>7</td>\n",
       "      <td>0.478261</td>\n",
       "    </tr>\n",
       "    <tr>\n",
       "      <th>7</th>\n",
       "      <td>8</td>\n",
       "      <td>0.466667</td>\n",
       "    </tr>\n",
       "    <tr>\n",
       "      <th>8</th>\n",
       "      <td>9</td>\n",
       "      <td>0.454545</td>\n",
       "    </tr>\n",
       "    <tr>\n",
       "      <th>9</th>\n",
       "      <td>10</td>\n",
       "      <td>0.465116</td>\n",
       "    </tr>\n",
       "  </tbody>\n",
       "</table>\n",
       "</div>"
      ],
      "text/plain": [
       "   Draw  Probability\n",
       "0     1     0.500000\n",
       "1     2     0.490196\n",
       "2     3     0.480000\n",
       "3     4     0.489796\n",
       "4     5     0.479167\n",
       "5     6     0.489362\n",
       "6     7     0.478261\n",
       "7     8     0.466667\n",
       "8     9     0.454545\n",
       "9    10     0.465116"
      ]
     },
     "execution_count": 119,
     "metadata": {
      "tags": []
     },
     "output_type": "execute_result"
    }
   ],
   "source": [
    "print(\"When there are 52 cards in the deck and we draw one card, the probability that it is a card of suit  is 1/2. \\n For the remaining attempts, it each outcome will depend on the result of the previous draw.\")\n",
    "\n",
    "def draw_cards(draw_times):\n",
    "  suits_count = {\n",
    "      \"♠︎\" : 13,\n",
    "      \"♥︎\" : 13,\n",
    "      \"♦︎\" : 13,\n",
    "      \"♣︎\" : 13\n",
    "  }\n",
    "  total_count = 52\n",
    "  \n",
    "  probabilities = []\n",
    "\n",
    "  drawn_index = set()\n",
    "  drawn_cards = []\n",
    "  while len(drawn_cards) < draw_times:\n",
    "    random_index= np.random.randint(low=0, high=51)\n",
    "    if random_index not in drawn_index:\n",
    "      draw = cards.iloc[[random_index]]\n",
    "      drawn_cards.append(draw)\n",
    "      drawn_index.add(random_index)\n",
    "\n",
    "      drawn_suit = cards.iloc[random_index, 1]\n",
    "      # calculate probability before decrementing count\n",
    "      probabilities.append((suits_count[\"♥︎\"]/total_count) + (suits_count[\"♦︎\"]/total_count))\n",
    "      suits_count[drawn_suit] -= 1\n",
    "      total_count -= 1\n",
    "  \n",
    "  draw_probabilities = {\"Draw\": [x for x in range(1, draw_times+1)], \"Probability\":probabilities}\n",
    "  draw_probabilities_df = pd.DataFrame(data=draw_probabilities)\n",
    "  print(drawn_cards)\n",
    "  return draw_probabilities_df\n",
    "\n",
    "draw_cards(10)"
   ]
  },
  {
   "cell_type": "markdown",
   "metadata": {
    "id": "y6GTYN5OAtfo"
   },
   "source": [
    "**Question 4:** Write a function that simulates drawing from a deck of 52 cards **1000 times with replacement**, and answer the following question:\n",
    "\n",
    "        What is the probability that you will draw a card with a rank between 2 and 10 ( inclusive ) ?\n",
    "        \n",
    "**Note:** Your answer should be a a **histogram** and should show the frequency distribution of the values between 2 and 10 ( inclusive ). Be sure to label **all** parts of your histogram properly. "
   ]
  },
  {
   "cell_type": "code",
   "execution_count": 139,
   "metadata": {
    "colab": {
     "base_uri": "https://localhost:8080/",
     "height": 348
    },
    "executionInfo": {
     "elapsed": 484,
     "status": "ok",
     "timestamp": 1601067722442,
     "user": {
      "displayName": "Prabin Sapkota",
      "photoUrl": "https://lh6.googleusercontent.com/-doP6HgypWoA/AAAAAAAAAAI/AAAAAAAAADs/IVE1vPXCX6U/s64/photo.jpg",
      "userId": "10525827673897210712"
     },
     "user_tz": 240
    },
    "id": "uXYFrApsAtfp",
    "outputId": "401f1c48-87cf-4f43-8628-f019f202361c"
   },
   "outputs": [
    {
     "name": "stdout",
     "output_type": "stream",
     "text": [
      "The first time we draw a card, the probability that the card will be between 2 and 10(inclusive) is 36/53.\n",
      " On the subsequent draws as well, the probability will be the same as the cards are replaced. \n",
      " However, the probability all 1000 draws will be in the range 2 and 10 is as low as 0 obtainted by raising 36/53 to the power 1000.\n"
     ]
    },
    {
     "data": {
      "image/png": "[encoded data removed]",
      "text/plain": [
       "<Figure size 432x288 with 1 Axes>"
      ]
     },
     "metadata": {
      "needs_background": "light",
      "tags": []
     },
     "output_type": "display_data"
    }
   ],
   "source": [
    "print(\"The first time we draw a card, the probability that the card will be between 2 and 10(inclusive) is 36/53.\\n On the subsequent draws as well, the probability will be the same as the cards are replaced. \\n However, the probability all 1000 draws will be in the range 2 and 10 is as low as 0 obtainted by raising 36/53 to the power 1000.\")\n",
    "\n",
    "def draw_cards(draw_times):\n",
    "  freq_distribution = []\n",
    "\n",
    "  for i in range(1000):\n",
    "    random_index = np.random.randint(low=0, high=51)\n",
    "    drawn_rank = cards.iloc[random_index, 0]\n",
    "    if drawn_rank == \"2\" or drawn_rank == \"3\" or drawn_rank == \"4\" or drawn_rank == \"5\" or drawn_rank == \"6\" or drawn_rank == \"7\" or drawn_rank == \"8\" or drawn_rank == \"9\" or drawn_rank == \"10\":\n",
    "      freq_distribution.append(int(drawn_rank))\n",
    "\n",
    "  plt.hist(freq_distribution, bins=[x for x in range(2,12)], edgecolor='black', linewidth=1.2)\n",
    "  plt.title(\"Frequency distribution\")\n",
    "  plt.xlabel(\"Rank\")\n",
    "  plt.ylabel(\"Frequency\")\n",
    "  plt.show()\n",
    "\n",
    "draw_cards(1000)  \n",
    "    \n"
   ]
  },
  {
   "cell_type": "markdown",
   "metadata": {
    "id": "3hckZe6MAtfq"
   },
   "source": [
    "**Question 5:** Write a function that simulates drawing from a deck of 52 cards **50 times with replacement** and answer the following question:\n",
    "\n",
    "        What is the probability that you will draw a card with a rank that is a letter (J, Q, K, A) ?\n",
    "        \n",
    "**Note:** You should have **two** answers: \n",
    "    \n",
    "   (1) The first should be a **table** with 2 columns and 50 rows. The column names should \n",
    "    be \"Draw\" and \"Probability\", and should show the probability of drawing rank with a letter on the corresponding draw.\n",
    "    \n",
    "   (2) The second should be a **scatterplot** of the table from answer (1)."
   ]
  },
  {
   "cell_type": "code",
   "execution_count": 147,
   "metadata": {
    "colab": {
     "base_uri": "https://localhost:8080/",
     "height": 446
    },
    "executionInfo": {
     "elapsed": 611,
     "status": "ok",
     "timestamp": 1601068115790,
     "user": {
      "displayName": "Prabin Sapkota",
      "photoUrl": "https://lh6.googleusercontent.com/-doP6HgypWoA/AAAAAAAAAAI/AAAAAAAAADs/IVE1vPXCX6U/s64/photo.jpg",
      "userId": "10525827673897210712"
     },
     "user_tz": 240
    },
    "id": "llfnKPqHAtfr",
    "outputId": "ce87b756-32c5-4e35-f464-725b91011b05"
   },
   "outputs": [
    {
     "data": {
      "image/png": "[encoded data removed]",
      "text/plain": [
       "<Figure size 432x288 with 1 Axes>"
      ]
     },
     "metadata": {
      "needs_background": "light",
      "tags": []
     },
     "output_type": "display_data"
    },
    {
     "data": {
      "text/html": [
       "<div>\n",
       "<style scoped>\n",
       "    .dataframe tbody tr th:only-of-type {\n",
       "        vertical-align: middle;\n",
       "    }\n",
       "\n",
       "    .dataframe tbody tr th {\n",
       "        vertical-align: top;\n",
       "    }\n",
       "\n",
       "    .dataframe thead th {\n",
       "        text-align: right;\n",
       "    }\n",
       "</style>\n",
       "<table border=\"1\" class=\"dataframe\">\n",
       "  <thead>\n",
       "    <tr style=\"text-align: right;\">\n",
       "      <th></th>\n",
       "      <th>Draw</th>\n",
       "      <th>Probability</th>\n",
       "    </tr>\n",
       "  </thead>\n",
       "  <tbody>\n",
       "    <tr>\n",
       "      <th>0</th>\n",
       "      <td>J</td>\n",
       "      <td>3</td>\n",
       "    </tr>\n",
       "    <tr>\n",
       "      <th>1</th>\n",
       "      <td>Q</td>\n",
       "      <td>6</td>\n",
       "    </tr>\n",
       "    <tr>\n",
       "      <th>2</th>\n",
       "      <td>K</td>\n",
       "      <td>4</td>\n",
       "    </tr>\n",
       "    <tr>\n",
       "      <th>3</th>\n",
       "      <td>A</td>\n",
       "      <td>3</td>\n",
       "    </tr>\n",
       "  </tbody>\n",
       "</table>\n",
       "</div>"
      ],
      "text/plain": [
       "  Draw  Probability\n",
       "0    J            3\n",
       "1    Q            6\n",
       "2    K            4\n",
       "3    A            3"
      ]
     },
     "execution_count": 147,
     "metadata": {
      "tags": []
     },
     "output_type": "execute_result"
    }
   ],
   "source": [
    "# confusing question ask professor\n",
    "\n",
    "def draw_cards(draw_times):\n",
    "  freq_distribution = {\n",
    "      \"J\" : 0,\n",
    "      \"Q\" : 0,\n",
    "      \"K\" : 0,\n",
    "      \"A\" : 0,\n",
    "  }\n",
    "\n",
    "  for i in range(draw_times):\n",
    "    random_index = np.random.randint(low=0, high=51)\n",
    "    drawn_rank = cards.iloc[random_index, 0]\n",
    "    if drawn_rank == \"J\" or drawn_rank == \"Q\" or drawn_rank == \"K\" or drawn_rank == \"A\":\n",
    "      freq_distribution[drawn_rank] += 1\n",
    "  distribution = { \"Draw\": list(freq_distribution.keys()), \"Probability\": list(freq_distribution.values())}\n",
    "  distribution_df = pd.DataFrame(data=distribution)\n",
    "\n",
    "  plt.scatter(freq_distribution.keys(), freq_distribution.values(), color='red')\n",
    "  plt.title(\"Frequency distribution\")\n",
    "  plt.xlabel(\"Rank\")\n",
    "  plt.ylabel(\"Frequency\")\n",
    "  plt.show()\n",
    "\n",
    "  return distribution_df\n",
    "\n",
    "distribution_df = draw_cards(50)\n",
    "distribution_df "
   ]
  }
 ],
 "metadata": {
  "colab": {
   "collapsed_sections": [],
   "name": "Lab 5 - September 17.ipynb",
   "provenance": []
  },
  "kernelspec": {
   "display_name": "Python 3",
   "language": "python",
   "name": "python3"
  },
  "language_info": {
   "codemirror_mode": {
    "name": "ipython",
    "version": 3
   },
   "file_extension": ".py",
   "mimetype": "text/x-python",
   "name": "python",
   "nbconvert_exporter": "python",
   "pygments_lexer": "ipython3",
   "version": "3.7.6"
  }
 },
 "nbformat": 4,
 "nbformat_minor": 0
}
