{
 "cells": [
  {
   "cell_type": "markdown",
   "metadata": {
    "colab_type": "text",
    "collapsed": true,
    "id": "zTuJdZQqHEdo"
   },
   "source": [
    "# Lab 3 - Bar Charts, Line Charts, and Scatter Plots\n",
    "\n",
    "Welcome to Lab 3 !"
   ]
  },
  {
   "cell_type": "markdown",
   "metadata": {
    "colab_type": "text",
    "id": "gxqj6qXpHEdp"
   },
   "source": [
    "Methods for implementing the **pandas** functions in this lab come from https://pandas.pydata.org/pandas-docs/stable/index.html\n",
    "\n",
    "Methods for implementing the **matplotlib.pyplot** functions in this lab come from https://matplotlib.org/3.2.2/gallery/index.html\n",
    "\n",
    "Helpful reference for slicing and indexing:\n",
    "    \n",
    "    1)https://thispointer.com/python-pandas-select-rows-in-dataframe-by-conditions-on-multiple-columns/#pandas_select_rows_1\n",
    "    \n",
    "    2)https://pandas.pydata.org/pandas-docs/version/0.15.0/indexing.html"
   ]
  },
  {
   "cell_type": "markdown",
   "metadata": {
    "colab_type": "text",
    "id": "kLvCwCigHEdp"
   },
   "source": [
    "# Introduction\n",
    "\n",
    "**pandas** is a fast, powerful, flexible and easy to use open source data analysis and manipulation tool, built on top of the Python programming language. \n",
    "\n",
    "**matplotlib** is a comprehensive library for creating static, animated, and interactive visualizations in Python.\n",
    "\n",
    "Up to this point, we have utilized some of **pandas** and **matplotlib's** basic functionality for simple operations. We will now take a look at some more of the methods available to us using **pandas** and **matplotlib.** \n",
    "\n",
    "Areas to cover include:\n",
    "    \n",
    "   1) Grouped and Stacked Bar charts and **`.filter()`**\n",
    "   \n",
    "   2) Line charts, **`.reset_index()`**, and **`.drop()`**\n",
    "   \n",
    "   3) Unemployment and **`.sort_values()`**\n",
    "   \n",
    "   4) Scatter plots, **`.dropna()`**, and **`.isna()`**\n",
    "    \n",
    "Run these cells below to import your modules and get started:"
   ]
  },
  {
   "cell_type": "code",
   "execution_count": 84,
   "metadata": {
    "colab": {},
    "colab_type": "code",
    "id": "jBLS-EiKHEdq"
   },
   "outputs": [],
   "source": [
    "import pandas as pd\n",
    "import numpy as np \n",
    "import matplotlib\n",
    "%matplotlib inline\n",
    "import matplotlib.pyplot as plt\n",
    "plt.style.use('fivethirtyeight')"
   ]
  },
  {
   "cell_type": "markdown",
   "metadata": {
    "colab_type": "text",
    "id": "1aSZEdzVHEdt"
   },
   "source": [
    "# 1. Grouped and Stacked Bar Charts\n",
    "\n",
    "A **bar chart** depicts data values for a categorical variable, using rectangular bars having lengths proportional to category values. The chart is drawn using two axes: a category axis that displays the category names and a value axis that displays the counts.\n",
    "\n",
    "The data set we will be working with contains data from police shootings from 2015 to 2020.\n",
    "\n",
    "**NOTE:** This dataset can be found at: https://www.kaggle.com/ahsen1330/us-police-shootings?select=shootings.csv"
   ]
  },
  {
   "cell_type": "code",
   "execution_count": 85,
   "metadata": {
    "colab": {
     "base_uri": "https://localhost:8080/",
     "height": 318
    },
    "colab_type": "code",
    "id": "UiUGqcDIHEdt",
    "outputId": "8981ac8d-9608-465c-bfa5-aac8facd0dfb"
   },
   "outputs": [
    {
     "name": "stdout",
     "output_type": "stream",
     "text": [
      "This data set has  4895  rows and 15 columns.\n",
      "id                           int64\n",
      "name                        object\n",
      "date                        object\n",
      "manner_of_death             object\n",
      "armed                       object\n",
      "age                        float64\n",
      "gender                      object\n",
      "race                        object\n",
      "city                        object\n",
      "state                       object\n",
      "signs_of_mental_illness       bool\n",
      "threat_level                object\n",
      "flee                        object\n",
      "body_camera                   bool\n",
      "arms_category               object\n",
      "dtype: object\n"
     ]
    }
   ],
   "source": [
    "shootings = pd.read_csv(\"https://raw.githubusercontent.com/prabinspkt/data-science-files/main/shootings.csv\")\n",
    "\n",
    "print(\"This data set has \",shootings.shape[0], \" rows and\", shootings.shape[1], \"columns.\")\n",
    "\n",
    "print(shootings.dtypes)"
   ]
  },
  {
   "cell_type": "markdown",
   "metadata": {
    "colab_type": "text",
    "id": "H201N8EgHEdw"
   },
   "source": [
    "Let's go ahead and sample the data three times to see what kind of results we get."
   ]
  },
  {
   "cell_type": "code",
   "execution_count": 86,
   "metadata": {
    "colab": {
     "base_uri": "https://localhost:8080/",
     "height": 207
    },
    "colab_type": "code",
    "id": "XjuQ4NATHEdx",
    "outputId": "3839f826-383f-4222-8ee8-c0bf3c851733"
   },
   "outputs": [
    {
     "data": {
      "text/html": [
       "<div>\n",
       "<style scoped>\n",
       "    .dataframe tbody tr th:only-of-type {\n",
       "        vertical-align: middle;\n",
       "    }\n",
       "\n",
       "    .dataframe tbody tr th {\n",
       "        vertical-align: top;\n",
       "    }\n",
       "\n",
       "    .dataframe thead th {\n",
       "        text-align: right;\n",
       "    }\n",
       "</style>\n",
       "<table border=\"1\" class=\"dataframe\">\n",
       "  <thead>\n",
       "    <tr style=\"text-align: right;\">\n",
       "      <th></th>\n",
       "      <th>id</th>\n",
       "      <th>name</th>\n",
       "      <th>date</th>\n",
       "      <th>manner_of_death</th>\n",
       "      <th>armed</th>\n",
       "      <th>age</th>\n",
       "      <th>gender</th>\n",
       "      <th>race</th>\n",
       "      <th>city</th>\n",
       "      <th>state</th>\n",
       "      <th>signs_of_mental_illness</th>\n",
       "      <th>threat_level</th>\n",
       "      <th>flee</th>\n",
       "      <th>body_camera</th>\n",
       "      <th>arms_category</th>\n",
       "    </tr>\n",
       "  </thead>\n",
       "  <tbody>\n",
       "    <tr>\n",
       "      <th>3373</th>\n",
       "      <td>3933</td>\n",
       "      <td>Pedro Lucero</td>\n",
       "      <td>2018-08-07</td>\n",
       "      <td>shot</td>\n",
       "      <td>gun</td>\n",
       "      <td>42.0</td>\n",
       "      <td>M</td>\n",
       "      <td>Hispanic</td>\n",
       "      <td>Salt River Reservation</td>\n",
       "      <td>AZ</td>\n",
       "      <td>False</td>\n",
       "      <td>other</td>\n",
       "      <td>Other</td>\n",
       "      <td>False</td>\n",
       "      <td>Guns</td>\n",
       "    </tr>\n",
       "    <tr>\n",
       "      <th>289</th>\n",
       "      <td>378</td>\n",
       "      <td>Michael Foster</td>\n",
       "      <td>2015-04-19</td>\n",
       "      <td>shot</td>\n",
       "      <td>gun</td>\n",
       "      <td>40.0</td>\n",
       "      <td>M</td>\n",
       "      <td>White</td>\n",
       "      <td>Wilmore</td>\n",
       "      <td>KY</td>\n",
       "      <td>True</td>\n",
       "      <td>attack</td>\n",
       "      <td>Not fleeing</td>\n",
       "      <td>False</td>\n",
       "      <td>Guns</td>\n",
       "    </tr>\n",
       "    <tr>\n",
       "      <th>4677</th>\n",
       "      <td>5618</td>\n",
       "      <td>Gary Brown</td>\n",
       "      <td>2020-03-07</td>\n",
       "      <td>shot</td>\n",
       "      <td>vehicle</td>\n",
       "      <td>43.0</td>\n",
       "      <td>M</td>\n",
       "      <td>White</td>\n",
       "      <td>Harrison Township</td>\n",
       "      <td>OH</td>\n",
       "      <td>False</td>\n",
       "      <td>attack</td>\n",
       "      <td>Car</td>\n",
       "      <td>False</td>\n",
       "      <td>Vehicles</td>\n",
       "    </tr>\n",
       "  </tbody>\n",
       "</table>\n",
       "</div>"
      ],
      "text/plain": [
       "        id            name        date  ...         flee body_camera  arms_category\n",
       "3373  3933    Pedro Lucero  2018-08-07  ...        Other       False           Guns\n",
       "289    378  Michael Foster  2015-04-19  ...  Not fleeing       False           Guns\n",
       "4677  5618      Gary Brown  2020-03-07  ...          Car       False       Vehicles\n",
       "\n",
       "[3 rows x 15 columns]"
      ]
     },
     "execution_count": 86,
     "metadata": {
      "tags": []
     },
     "output_type": "execute_result"
    }
   ],
   "source": [
    "first_sample = shootings.sample(n=3)\n",
    "\n",
    "first_sample"
   ]
  },
  {
   "cell_type": "code",
   "execution_count": 87,
   "metadata": {
    "colab": {
     "base_uri": "https://localhost:8080/",
     "height": 224
    },
    "colab_type": "code",
    "id": "tGbYiae-HEdz",
    "outputId": "68690d60-267f-4a6b-97a2-9675f1170330"
   },
   "outputs": [
    {
     "data": {
      "text/html": [
       "<div>\n",
       "<style scoped>\n",
       "    .dataframe tbody tr th:only-of-type {\n",
       "        vertical-align: middle;\n",
       "    }\n",
       "\n",
       "    .dataframe tbody tr th {\n",
       "        vertical-align: top;\n",
       "    }\n",
       "\n",
       "    .dataframe thead th {\n",
       "        text-align: right;\n",
       "    }\n",
       "</style>\n",
       "<table border=\"1\" class=\"dataframe\">\n",
       "  <thead>\n",
       "    <tr style=\"text-align: right;\">\n",
       "      <th></th>\n",
       "      <th>id</th>\n",
       "      <th>name</th>\n",
       "      <th>date</th>\n",
       "      <th>manner_of_death</th>\n",
       "      <th>armed</th>\n",
       "      <th>age</th>\n",
       "      <th>gender</th>\n",
       "      <th>race</th>\n",
       "      <th>city</th>\n",
       "      <th>state</th>\n",
       "      <th>signs_of_mental_illness</th>\n",
       "      <th>threat_level</th>\n",
       "      <th>flee</th>\n",
       "      <th>body_camera</th>\n",
       "      <th>arms_category</th>\n",
       "    </tr>\n",
       "  </thead>\n",
       "  <tbody>\n",
       "    <tr>\n",
       "      <th>333</th>\n",
       "      <td>429</td>\n",
       "      <td>Brendon Glenn</td>\n",
       "      <td>2015-05-05</td>\n",
       "      <td>shot</td>\n",
       "      <td>unarmed</td>\n",
       "      <td>29.0</td>\n",
       "      <td>M</td>\n",
       "      <td>Black</td>\n",
       "      <td>Venice</td>\n",
       "      <td>CA</td>\n",
       "      <td>False</td>\n",
       "      <td>attack</td>\n",
       "      <td>Not fleeing</td>\n",
       "      <td>True</td>\n",
       "      <td>Unarmed</td>\n",
       "    </tr>\n",
       "    <tr>\n",
       "      <th>2268</th>\n",
       "      <td>2627</td>\n",
       "      <td>Naway Willy</td>\n",
       "      <td>2017-06-02</td>\n",
       "      <td>shot</td>\n",
       "      <td>gun</td>\n",
       "      <td>18.0</td>\n",
       "      <td>M</td>\n",
       "      <td>Asian</td>\n",
       "      <td>Tulsa</td>\n",
       "      <td>OK</td>\n",
       "      <td>False</td>\n",
       "      <td>attack</td>\n",
       "      <td>Foot</td>\n",
       "      <td>False</td>\n",
       "      <td>Guns</td>\n",
       "    </tr>\n",
       "    <tr>\n",
       "      <th>4338</th>\n",
       "      <td>5129</td>\n",
       "      <td>Luis Arreguin-Lara</td>\n",
       "      <td>2019-10-27</td>\n",
       "      <td>shot</td>\n",
       "      <td>gun</td>\n",
       "      <td>50.0</td>\n",
       "      <td>M</td>\n",
       "      <td>Hispanic</td>\n",
       "      <td>Tulsa</td>\n",
       "      <td>OK</td>\n",
       "      <td>False</td>\n",
       "      <td>attack</td>\n",
       "      <td>Not fleeing</td>\n",
       "      <td>True</td>\n",
       "      <td>Guns</td>\n",
       "    </tr>\n",
       "  </tbody>\n",
       "</table>\n",
       "</div>"
      ],
      "text/plain": [
       "        id                name  ... body_camera arms_category\n",
       "333    429       Brendon Glenn  ...        True       Unarmed\n",
       "2268  2627         Naway Willy  ...       False          Guns\n",
       "4338  5129  Luis Arreguin-Lara  ...        True          Guns\n",
       "\n",
       "[3 rows x 15 columns]"
      ]
     },
     "execution_count": 87,
     "metadata": {
      "tags": []
     },
     "output_type": "execute_result"
    }
   ],
   "source": [
    "second_sample = shootings.sample(n=3)\n",
    "\n",
    "second_sample"
   ]
  },
  {
   "cell_type": "code",
   "execution_count": 88,
   "metadata": {
    "colab": {
     "base_uri": "https://localhost:8080/",
     "height": 224
    },
    "colab_type": "code",
    "id": "NmJK_iyGHEd1",
    "outputId": "7f4814ce-7171-4723-f1bc-19083185d67d"
   },
   "outputs": [
    {
     "data": {
      "text/html": [
       "<div>\n",
       "<style scoped>\n",
       "    .dataframe tbody tr th:only-of-type {\n",
       "        vertical-align: middle;\n",
       "    }\n",
       "\n",
       "    .dataframe tbody tr th {\n",
       "        vertical-align: top;\n",
       "    }\n",
       "\n",
       "    .dataframe thead th {\n",
       "        text-align: right;\n",
       "    }\n",
       "</style>\n",
       "<table border=\"1\" class=\"dataframe\">\n",
       "  <thead>\n",
       "    <tr style=\"text-align: right;\">\n",
       "      <th></th>\n",
       "      <th>id</th>\n",
       "      <th>name</th>\n",
       "      <th>date</th>\n",
       "      <th>manner_of_death</th>\n",
       "      <th>armed</th>\n",
       "      <th>age</th>\n",
       "      <th>gender</th>\n",
       "      <th>race</th>\n",
       "      <th>city</th>\n",
       "      <th>state</th>\n",
       "      <th>signs_of_mental_illness</th>\n",
       "      <th>threat_level</th>\n",
       "      <th>flee</th>\n",
       "      <th>body_camera</th>\n",
       "      <th>arms_category</th>\n",
       "    </tr>\n",
       "  </thead>\n",
       "  <tbody>\n",
       "    <tr>\n",
       "      <th>146</th>\n",
       "      <td>188</td>\n",
       "      <td>Thomas Allen</td>\n",
       "      <td>2015-02-28</td>\n",
       "      <td>shot</td>\n",
       "      <td>unarmed</td>\n",
       "      <td>34.0</td>\n",
       "      <td>M</td>\n",
       "      <td>Black</td>\n",
       "      <td>St Louis</td>\n",
       "      <td>MO</td>\n",
       "      <td>False</td>\n",
       "      <td>other</td>\n",
       "      <td>Car</td>\n",
       "      <td>False</td>\n",
       "      <td>Unarmed</td>\n",
       "    </tr>\n",
       "    <tr>\n",
       "      <th>1864</th>\n",
       "      <td>2175</td>\n",
       "      <td>Christopher Blake Tucker</td>\n",
       "      <td>2016-12-28</td>\n",
       "      <td>shot</td>\n",
       "      <td>unknown</td>\n",
       "      <td>28.0</td>\n",
       "      <td>M</td>\n",
       "      <td>White</td>\n",
       "      <td>Spring Hill</td>\n",
       "      <td>TN</td>\n",
       "      <td>False</td>\n",
       "      <td>undetermined</td>\n",
       "      <td>Not fleeing</td>\n",
       "      <td>False</td>\n",
       "      <td>Unknown</td>\n",
       "    </tr>\n",
       "    <tr>\n",
       "      <th>1479</th>\n",
       "      <td>1709</td>\n",
       "      <td>Richard G. Dinneny</td>\n",
       "      <td>2016-07-13</td>\n",
       "      <td>shot</td>\n",
       "      <td>toy weapon</td>\n",
       "      <td>56.0</td>\n",
       "      <td>M</td>\n",
       "      <td>White</td>\n",
       "      <td>Middletown</td>\n",
       "      <td>NY</td>\n",
       "      <td>True</td>\n",
       "      <td>other</td>\n",
       "      <td>Not fleeing</td>\n",
       "      <td>False</td>\n",
       "      <td>Other unusual objects</td>\n",
       "    </tr>\n",
       "  </tbody>\n",
       "</table>\n",
       "</div>"
      ],
      "text/plain": [
       "        id                      name  ... body_camera          arms_category\n",
       "146    188              Thomas Allen  ...       False                Unarmed\n",
       "1864  2175  Christopher Blake Tucker  ...       False                Unknown\n",
       "1479  1709        Richard G. Dinneny  ...       False  Other unusual objects\n",
       "\n",
       "[3 rows x 15 columns]"
      ]
     },
     "execution_count": 88,
     "metadata": {
      "tags": []
     },
     "output_type": "execute_result"
    }
   ],
   "source": [
    "third_sample = shootings.sample(n=3)\n",
    "\n",
    "third_sample"
   ]
  },
  {
   "cell_type": "markdown",
   "metadata": {
    "colab_type": "text",
    "id": "wHvvloBIHEd4"
   },
   "source": [
    "Let's create a bar chart displaying how many people who were killed had signs of mental illness.\n",
    "\n",
    "Let's first start by creating a sub-table containing 'id,' 'name,' 'gender,' 'race,' and 'sign_of_mental_illness.'\n",
    "\n",
    "We can do this using the **`.filter()`** method in the cell below"
   ]
  },
  {
   "cell_type": "code",
   "execution_count": 89,
   "metadata": {
    "colab": {
     "base_uri": "https://localhost:8080/",
     "height": 158
    },
    "colab_type": "code",
    "id": "96EbyXeVHEd4",
    "outputId": "3de23aef-e970-4024-e8b4-3109a08cfbb4",
    "scrolled": true
   },
   "outputs": [
    {
     "name": "stdout",
     "output_type": "stream",
     "text": [
      "(4895, 5)\n",
      "\n",
      "id                          int64\n",
      "name                       object\n",
      "gender                     object\n",
      "race                       object\n",
      "signs_of_mental_illness      bool\n",
      "dtype: object\n"
     ]
    }
   ],
   "source": [
    "sub_table = shootings.filter(items = ['id', 'name','gender','race','signs_of_mental_illness'])\n",
    "\n",
    "print(sub_table.shape)\n",
    "print()\n",
    "print(sub_table.dtypes)\n"
   ]
  },
  {
   "cell_type": "markdown",
   "metadata": {
    "colab_type": "text",
    "id": "BVheHvgnHEd7"
   },
   "source": [
    "Now lets create arrays for the signs of mental illness. We will have an array for men  who did and didn't show signs of mental illness, as well as for women containing who did and didn't show signs of mental illness. We can \"filter\" through the dataframe(table) easily using the syntax below.\n",
    "\n",
    "Then, we will create a visual with the **`plt.bar`** fucntion\n",
    "\n",
    "**NOTE:** This link can be used as a reference:  https://python-graph-gallery.com/11-grouped-barplot/"
   ]
  },
  {
   "cell_type": "code",
   "execution_count": 90,
   "metadata": {
    "colab": {
     "base_uri": "https://localhost:8080/",
     "height": 324
    },
    "colab_type": "code",
    "id": "okqbg3O8HEd8",
    "outputId": "7d06f455-f3f8-4d0d-a8a4-12dc51a8decb"
   },
   "outputs": [
    {
     "data": {
      "image/png": "[encoded data removed]",
      "text/plain": [
       "<Figure size 432x288 with 1 Axes>"
      ]
     },
     "metadata": {
      "tags": []
     },
     "output_type": "display_data"
    }
   ],
   "source": [
    "# This contains an array for all the men that showed signs of mental illness\n",
    "Menbar1 = sub_table[(sub_table.gender == 'M') & (sub_table.signs_of_mental_illness == True)]\n",
    "# This contains an array for all the men that did not show signs of mental illness\n",
    "Menbar2 = sub_table[(sub_table.gender == 'M') & (sub_table.signs_of_mental_illness == False)]\n",
    "# This contains an array for all the women that showed signs of mental illness\n",
    "Womenbar1 =sub_table[(sub_table.gender == 'F') & (sub_table.signs_of_mental_illness == True)]\n",
    "# This contains an array for all the men that did not show signs of mental illness\n",
    "Womenbar2 = sub_table[(sub_table.gender == 'F') & (sub_table.signs_of_mental_illness == False)]\n",
    "\n",
    "# Bar variable for men that showed and did not show signs of mental illness\n",
    "\n",
    "menbars = [len(Menbar1), len(Menbar2)] # SOMI - 'Signs of Mental Illness'\n",
    "\n",
    "# Bar varibale for women that showed and did not show signs of mental illness\n",
    "\n",
    "womenbars = [len(Womenbar1), len(Womenbar2)]  # NSOMI - 'No Signs of Mental Illness'\n",
    " \n",
    "\n",
    "bar_width = 0.35\n",
    "\n",
    "# Set position of bar on X axis\n",
    "r1 = np.arange(len(menbars))  # this variable contains the number of bar groups there will be, which is two\n",
    "r2 = [x + bar_width for x in r1]\n",
    "\n",
    "\n",
    "# Make the plot\n",
    "plt.bar(r1, menbars, color='blue', width=bar_width, edgecolor='black', linewidth = 1.2, label='Men')\n",
    "plt.bar(r2, womenbars, color='red', width=bar_width, edgecolor='black',linewidth =1.2, label='Women')\n",
    "\n",
    "# Add xticks on the middle of the group bars\n",
    "plt.xlabel('Groups', fontweight='bold')\n",
    "plt.ylabel('Death Count')\n",
    "plt.xticks([r + 0.15 for r in range(len(menbars))], ['SOMI','NSOMI'])\n",
    "\n",
    "\n",
    "# Create legend & Show graphic\n",
    "plt.title(\"People who did and did not show signs of mental illness\")\n",
    "plt.legend()\n",
    "plt.show()\n",
    "\n",
    "\n"
   ]
  },
  {
   "cell_type": "markdown",
   "metadata": {
    "colab_type": "text",
    "id": "oYSyzWXUHEd-"
   },
   "source": [
    "We can also turn the same data into a **stacked bar chart**. "
   ]
  },
  {
   "cell_type": "code",
   "execution_count": 91,
   "metadata": {
    "colab": {
     "base_uri": "https://localhost:8080/",
     "height": 342
    },
    "colab_type": "code",
    "id": "KhvCavt-HEeA",
    "outputId": "20df1df3-695a-4d3c-acd1-8b0749734c27",
    "scrolled": true
   },
   "outputs": [
    {
     "data": {
      "text/plain": [
       "<matplotlib.legend.Legend at 0x7fee9d5775c0>"
      ]
     },
     "execution_count": 91,
     "metadata": {
      "tags": []
     },
     "output_type": "execute_result"
    },
    {
     "data": {
      "image/png": "[encoded data removed]",
      "text/plain": [
       "<Figure size 432x288 with 1 Axes>"
      ]
     },
     "metadata": {
      "tags": []
     },
     "output_type": "display_data"
    }
   ],
   "source": [
    "Menbar1 = len(sub_table[(sub_table.gender == 'M') & (sub_table.signs_of_mental_illness == True)])\n",
    "Menbar2 = len(sub_table[(sub_table.gender == 'M') & (sub_table.signs_of_mental_illness == False)])\n",
    "Womenbar1 = len(sub_table[(sub_table.gender == 'F') & (sub_table.signs_of_mental_illness == True)])\n",
    "Womenbar2 = len(sub_table[(sub_table.gender == 'F') & (sub_table.signs_of_mental_illness == False)])\n",
    "\n",
    "            \n",
    "# Bar variable for men that showed and did now show signs of mental illness\n",
    "\n",
    "menbars = [Menbar1, Menbar2]\n",
    "\n",
    "# Bar varibale for men and women that did not show signs of mental illness\n",
    "womenbars = [Womenbar1, Womenbar2]  \n",
    "\n",
    "# Heights of bars1 + bars2\n",
    "bars = np.add(menbars, womenbars).tolist()\n",
    "\n",
    "# The position of the bars on the x-axis\n",
    "r = [0,1]\n",
    "\n",
    "bar_names = ['SOMI', 'NSOMI']\n",
    "\n",
    "# Create the womens bars\n",
    "plt.bar(r, womenbars, color='red', edgecolor='black', width= 0.5, linewidth = 1.5, label = 'Women')\n",
    "# Create mens bars (middle), on top of the firs ones\n",
    "plt.bar(r, menbars, bottom=womenbars, color='blue', edgecolor='black', linewidth = 1.5, width=0.5, label = 'Men')\n",
    "\n",
    "# Custom X axis\n",
    "plt.xticks(r, bar_names, fontweight='bold')\n",
    "plt.xlabel(\"group\")\n",
    "plt.ylabel(\"Death Count\")\n",
    " \n",
    "# Show graphic\n",
    "plt.title(\"People who did and did not show signs of mental illness\")\n",
    "plt.legend()\n",
    "#plt.show()\n"
   ]
  },
  {
   "cell_type": "markdown",
   "metadata": {
    "colab_type": "text",
    "id": "vwzlk9FIHEeC"
   },
   "source": [
    "**Question:** Create a stacked bar chart displaying the total value of people who showed \"Signs of Mental Illness\" (SOMI) mental illness stacked on the number of men who showed SOMI. Do the same for women."
   ]
  },
  {
   "cell_type": "code",
   "execution_count": 92,
   "metadata": {
    "colab": {
     "base_uri": "https://localhost:8080/",
     "height": 342
    },
    "colab_type": "code",
    "id": "npgT0JrQHEeD",
    "outputId": "f82f79a2-7541-40d2-ae26-c4b997650899"
   },
   "outputs": [
    {
     "data": {
      "text/plain": [
       "<matplotlib.legend.Legend at 0x7fee9559c6a0>"
      ]
     },
     "execution_count": 92,
     "metadata": {
      "tags": []
     },
     "output_type": "execute_result"
    },
    {
     "data": {
      "image/png": "[encoded data removed]",
      "text/plain": [
       "<Figure size 432x288 with 1 Axes>"
      ]
     },
     "metadata": {
      "tags": []
     },
     "output_type": "display_data"
    }
   ],
   "source": [
    "SOMI_total = len(sub_table[sub_table.signs_of_mental_illness == True])\n",
    "SOMI_Men = len(sub_table[(sub_table.gender == 'M') & (sub_table.signs_of_mental_illness == True)])\n",
    "SOMI_Women = len(sub_table[(sub_table.gender == 'F') & (sub_table.signs_of_mental_illness == True)])\n",
    "\n",
    "r = [0, 1]\n",
    "\n",
    "SOMI_Men_Women = [SOMI_Men, SOMI_Women]\n",
    "SOMI_Difference = [SOMI_total-SOMI_Men, SOMI_total-SOMI_Women]\n",
    "\n",
    "# Create the men SOMI and women SOMI bar\n",
    "plt.bar(r, SOMI_Men_Women, color='blue', edgecolor='black', width= 0.5, linewidth = 1.5, label = 'SOMI')\n",
    "# Create total SOMI bar on top of men with SOMI bar\n",
    "plt.bar(r, SOMI_Difference, bottom=SOMI_Men_Women, color='green', edgecolor='black', linewidth = 1.5, width=0.5, label = 'Difference')\n",
    "\n",
    "\n",
    "bar_names = ['Men', 'Women']\n",
    "plt.xticks(r, bar_names, fontweight='bold')\n",
    "plt.xlabel(\"group\")\n",
    "plt.ylabel(\"Death Count\")\n",
    "\n",
    "plt.title(\"Men/Women who show signs of mental illness and total people who show signs of mental illness\")\n",
    "\n",
    "plt.legend()\n"
   ]
  },
  {
   "cell_type": "markdown",
   "metadata": {
    "colab_type": "text",
    "id": "CNgrA4ERHEeF"
   },
   "source": [
    "**Question:** Create a grouped bar chart comparing the number of black men and white men grouped together, along with black women and white women grouped together."
   ]
  },
  {
   "cell_type": "code",
   "execution_count": 93,
   "metadata": {
    "colab": {
     "base_uri": "https://localhost:8080/",
     "height": 324
    },
    "colab_type": "code",
    "id": "Atd3AgTaHEeF",
    "outputId": "4da29a52-1ec9-4098-bec1-4821c906d39f"
   },
   "outputs": [
    {
     "data": {
      "image/png": "[encoded data removed]",
      "text/plain": [
       "<Figure size 432x288 with 1 Axes>"
      ]
     },
     "metadata": {
      "tags": []
     },
     "output_type": "display_data"
    }
   ],
   "source": [
    "black_men = len(sub_table[(sub_table.gender == 'M') & (sub_table.race == 'Black')])\n",
    "white_men = len(sub_table[(sub_table.gender == 'M') & (sub_table.race == 'White')])\n",
    "black_women = len(sub_table[(sub_table.gender == 'F') & (sub_table.race == 'Black')])\n",
    "white_women = len(sub_table[(sub_table.gender == 'F') & (sub_table.race == 'White')])\n",
    "\n",
    "black = [black_men, black_women]\n",
    "white = [white_men, white_women]\n",
    "\n",
    "bar_width = 0.35\n",
    "r1 = np.arange(len(black))\n",
    "r2 = [x + bar_width for x in r1]\n",
    "\n",
    "# Make the plot\n",
    "plt.bar(r1, black, color='blue', width=bar_width, edgecolor='black', linewidth = 1.2, label='Black')\n",
    "plt.bar(r2, white, color='red', width=bar_width, edgecolor='black',linewidth =1.2, label='White')\n",
    "\n",
    "# Add xticks on the middle of the group bars\n",
    "plt.xlabel('Groups', fontweight='bold')\n",
    "plt.ylabel('Death Count')\n",
    "plt.xticks([r + 0.15 for r in range(len(black))], ['Men','Women'])\n",
    "\n",
    "# Create legend & Show graphic\n",
    "plt.title(\"Race and Gender\")\n",
    "plt.legend()\n",
    "plt.show()\n"
   ]
  },
  {
   "cell_type": "markdown",
   "metadata": {
    "colab_type": "text",
    "id": "9a0ocokOHEeI"
   },
   "source": [
    "# 2. Line Charts\n",
    "\n",
    "A **line chart** (or **line graph**) depicts data trends by using straight lines to connect successive data points in a scatter plot. The straight lines show the general direction that data changes over time. Because trends involve time, line charts commonly use a time metric for the horizontal axis. \n",
    "\n",
    "Let's work with data set on unemployment in all counties of America from 1990 - 2016. \n",
    "\n",
    "**NOTE:** This data set can be found at: https://www.kaggle.com/jayrav13/unemployment-by-county-us?select=output.csv"
   ]
  },
  {
   "cell_type": "code",
   "execution_count": 94,
   "metadata": {
    "colab": {
     "base_uri": "https://localhost:8080/",
     "height": 34
    },
    "colab_type": "code",
    "id": "o53YykpiHEeI",
    "outputId": "190810c6-6574-48fe-e9ee-84b032ff047d"
   },
   "outputs": [
    {
     "name": "stdout",
     "output_type": "stream",
     "text": [
      "(885548, 5)\n"
     ]
    }
   ],
   "source": [
    "county_unemployment = pd.read_csv(\"https://raw.githubusercontent.com/prabinspkt/data-science-files/main/county_unemployment.csv\")\n",
    "print(county_unemployment.shape)"
   ]
  },
  {
   "cell_type": "code",
   "execution_count": 95,
   "metadata": {
    "colab": {
     "base_uri": "https://localhost:8080/",
     "height": 123
    },
    "colab_type": "code",
    "id": "Ve_2gnwYHEeL",
    "outputId": "00e21b12-9622-4b3f-c0cb-cb8a02890a69"
   },
   "outputs": [
    {
     "data": {
      "text/plain": [
       "Year        int64\n",
       "Month      object\n",
       "State      object\n",
       "County     object\n",
       "Rate      float64\n",
       "dtype: object"
      ]
     },
     "execution_count": 95,
     "metadata": {
      "tags": []
     },
     "output_type": "execute_result"
    }
   ],
   "source": [
    "county_unemployment.dtypes"
   ]
  },
  {
   "cell_type": "code",
   "execution_count": 96,
   "metadata": {
    "colab": {
     "base_uri": "https://localhost:8080/",
     "height": 197
    },
    "colab_type": "code",
    "id": "3NxuL2b1HEeN",
    "outputId": "c59815c4-c503-49ae-aa2e-5bf6962d4cec"
   },
   "outputs": [
    {
     "data": {
      "text/html": [
       "<div>\n",
       "<style scoped>\n",
       "    .dataframe tbody tr th:only-of-type {\n",
       "        vertical-align: middle;\n",
       "    }\n",
       "\n",
       "    .dataframe tbody tr th {\n",
       "        vertical-align: top;\n",
       "    }\n",
       "\n",
       "    .dataframe thead th {\n",
       "        text-align: right;\n",
       "    }\n",
       "</style>\n",
       "<table border=\"1\" class=\"dataframe\">\n",
       "  <thead>\n",
       "    <tr style=\"text-align: right;\">\n",
       "      <th></th>\n",
       "      <th>Year</th>\n",
       "      <th>Month</th>\n",
       "      <th>State</th>\n",
       "      <th>County</th>\n",
       "      <th>Rate</th>\n",
       "    </tr>\n",
       "  </thead>\n",
       "  <tbody>\n",
       "    <tr>\n",
       "      <th>310996</th>\n",
       "      <td>1993</td>\n",
       "      <td>March</td>\n",
       "      <td>Texas</td>\n",
       "      <td>Hansford County</td>\n",
       "      <td>4.3</td>\n",
       "    </tr>\n",
       "    <tr>\n",
       "      <th>728062</th>\n",
       "      <td>2006</td>\n",
       "      <td>April</td>\n",
       "      <td>Texas</td>\n",
       "      <td>Lampasas County</td>\n",
       "      <td>3.8</td>\n",
       "    </tr>\n",
       "    <tr>\n",
       "      <th>528134</th>\n",
       "      <td>1999</td>\n",
       "      <td>December</td>\n",
       "      <td>North Dakota</td>\n",
       "      <td>Towner County</td>\n",
       "      <td>3.0</td>\n",
       "    </tr>\n",
       "    <tr>\n",
       "      <th>822842</th>\n",
       "      <td>2005</td>\n",
       "      <td>April</td>\n",
       "      <td>North Carolina</td>\n",
       "      <td>Gates County</td>\n",
       "      <td>4.0</td>\n",
       "    </tr>\n",
       "    <tr>\n",
       "      <th>425920</th>\n",
       "      <td>1994</td>\n",
       "      <td>December</td>\n",
       "      <td>Tennessee</td>\n",
       "      <td>Trousdale County</td>\n",
       "      <td>4.2</td>\n",
       "    </tr>\n",
       "  </tbody>\n",
       "</table>\n",
       "</div>"
      ],
      "text/plain": [
       "        Year     Month           State            County  Rate\n",
       "310996  1993     March           Texas   Hansford County   4.3\n",
       "728062  2006     April           Texas   Lampasas County   3.8\n",
       "528134  1999  December    North Dakota     Towner County   3.0\n",
       "822842  2005     April  North Carolina      Gates County   4.0\n",
       "425920  1994  December       Tennessee  Trousdale County   4.2"
      ]
     },
     "execution_count": 96,
     "metadata": {
      "tags": []
     },
     "output_type": "execute_result"
    }
   ],
   "source": [
    "county_unemployment.sample(n=5)"
   ]
  },
  {
   "cell_type": "markdown",
   "metadata": {
    "colab_type": "text",
    "id": "GMi3mTmkHEeP"
   },
   "source": [
    "As you can see this is a very large data set. Let's work with a smaller data set with only the counties in the state of Maryland"
   ]
  },
  {
   "cell_type": "code",
   "execution_count": 97,
   "metadata": {
    "colab": {
     "base_uri": "https://localhost:8080/",
     "height": 176
    },
    "colab_type": "code",
    "id": "HZCzO1HwHEeQ",
    "outputId": "a6fdb777-ee02-4e89-f05e-3670569a04ce",
    "scrolled": true
   },
   "outputs": [
    {
     "name": "stdout",
     "output_type": "stream",
     "text": [
      "(7776, 5)\n",
      "        Year     Month     State                  County  Rate\n",
      "572309  2002   October  Maryland  Prince George's County   4.6\n",
      "300858  1990  November  Maryland           Talbot County   3.2\n",
      "346857  1992       May  Maryland         Allegany County  13.4\n",
      "654264  2000      June  Maryland             Kent County   3.9\n",
      "259918  1991     April  Maryland          Baltimore City   9.5\n",
      "693499  2001     April  Maryland        Worcester County   6.9\n",
      "276241  1990     March  Maryland          Harford County   3.4\n"
     ]
    }
   ],
   "source": [
    "md_unemployment = county_unemployment[county_unemployment.State == 'Maryland']\n",
    "md_unemployment = md_unemployment.filter(items = ['Year','Month', \"State\", 'County', 'Rate'])\n",
    "print(md_unemployment.shape)\n",
    "print(md_unemployment.sample(n=7))"
   ]
  },
  {
   "cell_type": "markdown",
   "metadata": {
    "colab_type": "text",
    "id": "NFGyd6lhHEeS"
   },
   "source": [
    "This is much better. Now because each year has different rates of unemployment, let's compute the average rate of unemployment for each year and store them in a dictionary.\n",
    "\n",
    "First, lets sort this dataset by the 'Year' column."
   ]
  },
  {
   "cell_type": "code",
   "execution_count": 98,
   "metadata": {
    "colab": {
     "base_uri": "https://localhost:8080/",
     "height": 406
    },
    "colab_type": "code",
    "id": "0vYXh4wAHEeS",
    "outputId": "eda80a17-fae2-46b8-80e4-2940e718c0de"
   },
   "outputs": [
    {
     "data": {
      "text/html": [
       "<div>\n",
       "<style scoped>\n",
       "    .dataframe tbody tr th:only-of-type {\n",
       "        vertical-align: middle;\n",
       "    }\n",
       "\n",
       "    .dataframe tbody tr th {\n",
       "        vertical-align: top;\n",
       "    }\n",
       "\n",
       "    .dataframe thead th {\n",
       "        text-align: right;\n",
       "    }\n",
       "</style>\n",
       "<table border=\"1\" class=\"dataframe\">\n",
       "  <thead>\n",
       "    <tr style=\"text-align: right;\">\n",
       "      <th></th>\n",
       "      <th>Year</th>\n",
       "      <th>Month</th>\n",
       "      <th>State</th>\n",
       "      <th>County</th>\n",
       "      <th>Rate</th>\n",
       "    </tr>\n",
       "  </thead>\n",
       "  <tbody>\n",
       "    <tr>\n",
       "      <th>287569</th>\n",
       "      <td>1990</td>\n",
       "      <td>June</td>\n",
       "      <td>Maryland</td>\n",
       "      <td>Cecil County</td>\n",
       "      <td>8.7</td>\n",
       "    </tr>\n",
       "    <tr>\n",
       "      <th>279127</th>\n",
       "      <td>1990</td>\n",
       "      <td>August</td>\n",
       "      <td>Maryland</td>\n",
       "      <td>Kent County</td>\n",
       "      <td>5.6</td>\n",
       "    </tr>\n",
       "    <tr>\n",
       "      <th>279128</th>\n",
       "      <td>1990</td>\n",
       "      <td>August</td>\n",
       "      <td>Maryland</td>\n",
       "      <td>Caroline County</td>\n",
       "      <td>3.6</td>\n",
       "    </tr>\n",
       "    <tr>\n",
       "      <th>279129</th>\n",
       "      <td>1990</td>\n",
       "      <td>August</td>\n",
       "      <td>Maryland</td>\n",
       "      <td>Somerset County</td>\n",
       "      <td>12.9</td>\n",
       "    </tr>\n",
       "    <tr>\n",
       "      <th>281927</th>\n",
       "      <td>1990</td>\n",
       "      <td>May</td>\n",
       "      <td>Maryland</td>\n",
       "      <td>Cecil County</td>\n",
       "      <td>9.1</td>\n",
       "    </tr>\n",
       "    <tr>\n",
       "      <th>...</th>\n",
       "      <td>...</td>\n",
       "      <td>...</td>\n",
       "      <td>...</td>\n",
       "      <td>...</td>\n",
       "      <td>...</td>\n",
       "    </tr>\n",
       "    <tr>\n",
       "      <th>77024</th>\n",
       "      <td>2016</td>\n",
       "      <td>August</td>\n",
       "      <td>Maryland</td>\n",
       "      <td>Caroline County</td>\n",
       "      <td>4.8</td>\n",
       "    </tr>\n",
       "    <tr>\n",
       "      <th>77023</th>\n",
       "      <td>2016</td>\n",
       "      <td>August</td>\n",
       "      <td>Maryland</td>\n",
       "      <td>Kent County</td>\n",
       "      <td>4.7</td>\n",
       "    </tr>\n",
       "    <tr>\n",
       "      <th>77022</th>\n",
       "      <td>2016</td>\n",
       "      <td>August</td>\n",
       "      <td>Maryland</td>\n",
       "      <td>Harford County</td>\n",
       "      <td>4.3</td>\n",
       "    </tr>\n",
       "    <tr>\n",
       "      <th>68475</th>\n",
       "      <td>2016</td>\n",
       "      <td>February</td>\n",
       "      <td>Maryland</td>\n",
       "      <td>Cecil County</td>\n",
       "      <td>5.9</td>\n",
       "    </tr>\n",
       "    <tr>\n",
       "      <th>82736</th>\n",
       "      <td>2016</td>\n",
       "      <td>January</td>\n",
       "      <td>Maryland</td>\n",
       "      <td>Caroline County</td>\n",
       "      <td>5.6</td>\n",
       "    </tr>\n",
       "  </tbody>\n",
       "</table>\n",
       "<p>7776 rows × 5 columns</p>\n",
       "</div>"
      ],
      "text/plain": [
       "        Year     Month     State           County  Rate\n",
       "287569  1990      June  Maryland     Cecil County   8.7\n",
       "279127  1990    August  Maryland      Kent County   5.6\n",
       "279128  1990    August  Maryland  Caroline County   3.6\n",
       "279129  1990    August  Maryland  Somerset County  12.9\n",
       "281927  1990       May  Maryland     Cecil County   9.1\n",
       "...      ...       ...       ...              ...   ...\n",
       "77024   2016    August  Maryland  Caroline County   4.8\n",
       "77023   2016    August  Maryland      Kent County   4.7\n",
       "77022   2016    August  Maryland   Harford County   4.3\n",
       "68475   2016  February  Maryland     Cecil County   5.9\n",
       "82736   2016   January  Maryland  Caroline County   5.6\n",
       "\n",
       "[7776 rows x 5 columns]"
      ]
     },
     "execution_count": 98,
     "metadata": {
      "tags": []
     },
     "output_type": "execute_result"
    }
   ],
   "source": [
    "md_unemployment = md_unemployment.sort_values('Year', ascending = True)\n",
    "md_unemployment"
   ]
  },
  {
   "cell_type": "markdown",
   "metadata": {
    "colab_type": "text",
    "id": "bHKtBy6rHEeV"
   },
   "source": [
    "Referencing the indexes of each row will get difficult if we leave them as they are. Let's reset the indexes to have them start from 0 up.\n",
    "\n",
    "We can do this using the **`reset_index.()`** method in the cell below"
   ]
  },
  {
   "cell_type": "code",
   "execution_count": 99,
   "metadata": {
    "colab": {
     "base_uri": "https://localhost:8080/",
     "height": 406
    },
    "colab_type": "code",
    "id": "m4za2b8IHEeV",
    "outputId": "8e9060a2-470a-4880-f868-81583741b21b"
   },
   "outputs": [
    {
     "data": {
      "text/html": [
       "<div>\n",
       "<style scoped>\n",
       "    .dataframe tbody tr th:only-of-type {\n",
       "        vertical-align: middle;\n",
       "    }\n",
       "\n",
       "    .dataframe tbody tr th {\n",
       "        vertical-align: top;\n",
       "    }\n",
       "\n",
       "    .dataframe thead th {\n",
       "        text-align: right;\n",
       "    }\n",
       "</style>\n",
       "<table border=\"1\" class=\"dataframe\">\n",
       "  <thead>\n",
       "    <tr style=\"text-align: right;\">\n",
       "      <th></th>\n",
       "      <th>index</th>\n",
       "      <th>Year</th>\n",
       "      <th>Month</th>\n",
       "      <th>State</th>\n",
       "      <th>County</th>\n",
       "      <th>Rate</th>\n",
       "    </tr>\n",
       "  </thead>\n",
       "  <tbody>\n",
       "    <tr>\n",
       "      <th>0</th>\n",
       "      <td>287569</td>\n",
       "      <td>1990</td>\n",
       "      <td>June</td>\n",
       "      <td>Maryland</td>\n",
       "      <td>Cecil County</td>\n",
       "      <td>8.7</td>\n",
       "    </tr>\n",
       "    <tr>\n",
       "      <th>1</th>\n",
       "      <td>279127</td>\n",
       "      <td>1990</td>\n",
       "      <td>August</td>\n",
       "      <td>Maryland</td>\n",
       "      <td>Kent County</td>\n",
       "      <td>5.6</td>\n",
       "    </tr>\n",
       "    <tr>\n",
       "      <th>2</th>\n",
       "      <td>279128</td>\n",
       "      <td>1990</td>\n",
       "      <td>August</td>\n",
       "      <td>Maryland</td>\n",
       "      <td>Caroline County</td>\n",
       "      <td>3.6</td>\n",
       "    </tr>\n",
       "    <tr>\n",
       "      <th>3</th>\n",
       "      <td>279129</td>\n",
       "      <td>1990</td>\n",
       "      <td>August</td>\n",
       "      <td>Maryland</td>\n",
       "      <td>Somerset County</td>\n",
       "      <td>12.9</td>\n",
       "    </tr>\n",
       "    <tr>\n",
       "      <th>4</th>\n",
       "      <td>281927</td>\n",
       "      <td>1990</td>\n",
       "      <td>May</td>\n",
       "      <td>Maryland</td>\n",
       "      <td>Cecil County</td>\n",
       "      <td>9.1</td>\n",
       "    </tr>\n",
       "    <tr>\n",
       "      <th>...</th>\n",
       "      <td>...</td>\n",
       "      <td>...</td>\n",
       "      <td>...</td>\n",
       "      <td>...</td>\n",
       "      <td>...</td>\n",
       "      <td>...</td>\n",
       "    </tr>\n",
       "    <tr>\n",
       "      <th>7771</th>\n",
       "      <td>77024</td>\n",
       "      <td>2016</td>\n",
       "      <td>August</td>\n",
       "      <td>Maryland</td>\n",
       "      <td>Caroline County</td>\n",
       "      <td>4.8</td>\n",
       "    </tr>\n",
       "    <tr>\n",
       "      <th>7772</th>\n",
       "      <td>77023</td>\n",
       "      <td>2016</td>\n",
       "      <td>August</td>\n",
       "      <td>Maryland</td>\n",
       "      <td>Kent County</td>\n",
       "      <td>4.7</td>\n",
       "    </tr>\n",
       "    <tr>\n",
       "      <th>7773</th>\n",
       "      <td>77022</td>\n",
       "      <td>2016</td>\n",
       "      <td>August</td>\n",
       "      <td>Maryland</td>\n",
       "      <td>Harford County</td>\n",
       "      <td>4.3</td>\n",
       "    </tr>\n",
       "    <tr>\n",
       "      <th>7774</th>\n",
       "      <td>68475</td>\n",
       "      <td>2016</td>\n",
       "      <td>February</td>\n",
       "      <td>Maryland</td>\n",
       "      <td>Cecil County</td>\n",
       "      <td>5.9</td>\n",
       "    </tr>\n",
       "    <tr>\n",
       "      <th>7775</th>\n",
       "      <td>82736</td>\n",
       "      <td>2016</td>\n",
       "      <td>January</td>\n",
       "      <td>Maryland</td>\n",
       "      <td>Caroline County</td>\n",
       "      <td>5.6</td>\n",
       "    </tr>\n",
       "  </tbody>\n",
       "</table>\n",
       "<p>7776 rows × 6 columns</p>\n",
       "</div>"
      ],
      "text/plain": [
       "       index  Year     Month     State           County  Rate\n",
       "0     287569  1990      June  Maryland     Cecil County   8.7\n",
       "1     279127  1990    August  Maryland      Kent County   5.6\n",
       "2     279128  1990    August  Maryland  Caroline County   3.6\n",
       "3     279129  1990    August  Maryland  Somerset County  12.9\n",
       "4     281927  1990       May  Maryland     Cecil County   9.1\n",
       "...      ...   ...       ...       ...              ...   ...\n",
       "7771   77024  2016    August  Maryland  Caroline County   4.8\n",
       "7772   77023  2016    August  Maryland      Kent County   4.7\n",
       "7773   77022  2016    August  Maryland   Harford County   4.3\n",
       "7774   68475  2016  February  Maryland     Cecil County   5.9\n",
       "7775   82736  2016   January  Maryland  Caroline County   5.6\n",
       "\n",
       "[7776 rows x 6 columns]"
      ]
     },
     "execution_count": 99,
     "metadata": {
      "tags": []
     },
     "output_type": "execute_result"
    }
   ],
   "source": [
    "md_unemployment = md_unemployment.reset_index()\n",
    "md_unemployment"
   ]
  },
  {
   "cell_type": "markdown",
   "metadata": {
    "colab_type": "text",
    "id": "PhjP681NHEeX"
   },
   "source": [
    "Finally, let's get rid of the column 'index.'\n",
    "\n",
    "We can do this using the **`drop.()`** method "
   ]
  },
  {
   "cell_type": "code",
   "execution_count": 100,
   "metadata": {
    "colab": {
     "base_uri": "https://localhost:8080/",
     "height": 406
    },
    "colab_type": "code",
    "id": "Zhgu4xngHEeX",
    "outputId": "aaff274f-52c2-4511-8f29-1b8ef1e8ab2b"
   },
   "outputs": [
    {
     "data": {
      "text/html": [
       "<div>\n",
       "<style scoped>\n",
       "    .dataframe tbody tr th:only-of-type {\n",
       "        vertical-align: middle;\n",
       "    }\n",
       "\n",
       "    .dataframe tbody tr th {\n",
       "        vertical-align: top;\n",
       "    }\n",
       "\n",
       "    .dataframe thead th {\n",
       "        text-align: right;\n",
       "    }\n",
       "</style>\n",
       "<table border=\"1\" class=\"dataframe\">\n",
       "  <thead>\n",
       "    <tr style=\"text-align: right;\">\n",
       "      <th></th>\n",
       "      <th>Year</th>\n",
       "      <th>Month</th>\n",
       "      <th>State</th>\n",
       "      <th>County</th>\n",
       "      <th>Rate</th>\n",
       "    </tr>\n",
       "  </thead>\n",
       "  <tbody>\n",
       "    <tr>\n",
       "      <th>0</th>\n",
       "      <td>1990</td>\n",
       "      <td>June</td>\n",
       "      <td>Maryland</td>\n",
       "      <td>Cecil County</td>\n",
       "      <td>8.7</td>\n",
       "    </tr>\n",
       "    <tr>\n",
       "      <th>1</th>\n",
       "      <td>1990</td>\n",
       "      <td>August</td>\n",
       "      <td>Maryland</td>\n",
       "      <td>Kent County</td>\n",
       "      <td>5.6</td>\n",
       "    </tr>\n",
       "    <tr>\n",
       "      <th>2</th>\n",
       "      <td>1990</td>\n",
       "      <td>August</td>\n",
       "      <td>Maryland</td>\n",
       "      <td>Caroline County</td>\n",
       "      <td>3.6</td>\n",
       "    </tr>\n",
       "    <tr>\n",
       "      <th>3</th>\n",
       "      <td>1990</td>\n",
       "      <td>August</td>\n",
       "      <td>Maryland</td>\n",
       "      <td>Somerset County</td>\n",
       "      <td>12.9</td>\n",
       "    </tr>\n",
       "    <tr>\n",
       "      <th>4</th>\n",
       "      <td>1990</td>\n",
       "      <td>May</td>\n",
       "      <td>Maryland</td>\n",
       "      <td>Cecil County</td>\n",
       "      <td>9.1</td>\n",
       "    </tr>\n",
       "    <tr>\n",
       "      <th>...</th>\n",
       "      <td>...</td>\n",
       "      <td>...</td>\n",
       "      <td>...</td>\n",
       "      <td>...</td>\n",
       "      <td>...</td>\n",
       "    </tr>\n",
       "    <tr>\n",
       "      <th>7771</th>\n",
       "      <td>2016</td>\n",
       "      <td>August</td>\n",
       "      <td>Maryland</td>\n",
       "      <td>Caroline County</td>\n",
       "      <td>4.8</td>\n",
       "    </tr>\n",
       "    <tr>\n",
       "      <th>7772</th>\n",
       "      <td>2016</td>\n",
       "      <td>August</td>\n",
       "      <td>Maryland</td>\n",
       "      <td>Kent County</td>\n",
       "      <td>4.7</td>\n",
       "    </tr>\n",
       "    <tr>\n",
       "      <th>7773</th>\n",
       "      <td>2016</td>\n",
       "      <td>August</td>\n",
       "      <td>Maryland</td>\n",
       "      <td>Harford County</td>\n",
       "      <td>4.3</td>\n",
       "    </tr>\n",
       "    <tr>\n",
       "      <th>7774</th>\n",
       "      <td>2016</td>\n",
       "      <td>February</td>\n",
       "      <td>Maryland</td>\n",
       "      <td>Cecil County</td>\n",
       "      <td>5.9</td>\n",
       "    </tr>\n",
       "    <tr>\n",
       "      <th>7775</th>\n",
       "      <td>2016</td>\n",
       "      <td>January</td>\n",
       "      <td>Maryland</td>\n",
       "      <td>Caroline County</td>\n",
       "      <td>5.6</td>\n",
       "    </tr>\n",
       "  </tbody>\n",
       "</table>\n",
       "<p>7776 rows × 5 columns</p>\n",
       "</div>"
      ],
      "text/plain": [
       "      Year     Month     State           County  Rate\n",
       "0     1990      June  Maryland     Cecil County   8.7\n",
       "1     1990    August  Maryland      Kent County   5.6\n",
       "2     1990    August  Maryland  Caroline County   3.6\n",
       "3     1990    August  Maryland  Somerset County  12.9\n",
       "4     1990       May  Maryland     Cecil County   9.1\n",
       "...    ...       ...       ...              ...   ...\n",
       "7771  2016    August  Maryland  Caroline County   4.8\n",
       "7772  2016    August  Maryland      Kent County   4.7\n",
       "7773  2016    August  Maryland   Harford County   4.3\n",
       "7774  2016  February  Maryland     Cecil County   5.9\n",
       "7775  2016   January  Maryland  Caroline County   5.6\n",
       "\n",
       "[7776 rows x 5 columns]"
      ]
     },
     "execution_count": 100,
     "metadata": {
      "tags": []
     },
     "output_type": "execute_result"
    }
   ],
   "source": [
    "md_unemployment = md_unemployment.drop(columns = ['index'])\n",
    "md_unemployment "
   ]
  },
  {
   "cell_type": "markdown",
   "metadata": {
    "colab_type": "text",
    "id": "RFsSuFa3HEeZ"
   },
   "source": [
    "Suppose we are only interested in a certain county in Maryland during a certain year. We can write a statement that creates a subtable based on these certain conditions using the following syntax.\n",
    "\n",
    "Run the cell below."
   ]
  },
  {
   "cell_type": "code",
   "execution_count": 101,
   "metadata": {
    "colab": {
     "base_uri": "https://localhost:8080/",
     "height": 407
    },
    "colab_type": "code",
    "id": "TR4UOyusHEea",
    "outputId": "6460de3d-e6d2-4de3-c242-4137a113defe",
    "scrolled": false
   },
   "outputs": [
    {
     "data": {
      "text/html": [
       "<div>\n",
       "<style scoped>\n",
       "    .dataframe tbody tr th:only-of-type {\n",
       "        vertical-align: middle;\n",
       "    }\n",
       "\n",
       "    .dataframe tbody tr th {\n",
       "        vertical-align: top;\n",
       "    }\n",
       "\n",
       "    .dataframe thead th {\n",
       "        text-align: right;\n",
       "    }\n",
       "</style>\n",
       "<table border=\"1\" class=\"dataframe\">\n",
       "  <thead>\n",
       "    <tr style=\"text-align: right;\">\n",
       "      <th></th>\n",
       "      <th>Year</th>\n",
       "      <th>Month</th>\n",
       "      <th>State</th>\n",
       "      <th>County</th>\n",
       "      <th>Rate</th>\n",
       "    </tr>\n",
       "  </thead>\n",
       "  <tbody>\n",
       "    <tr>\n",
       "      <th>8</th>\n",
       "      <td>1990</td>\n",
       "      <td>May</td>\n",
       "      <td>Maryland</td>\n",
       "      <td>Prince George's County</td>\n",
       "      <td>3.2</td>\n",
       "    </tr>\n",
       "    <tr>\n",
       "      <th>19</th>\n",
       "      <td>1990</td>\n",
       "      <td>August</td>\n",
       "      <td>Maryland</td>\n",
       "      <td>Prince George's County</td>\n",
       "      <td>3.9</td>\n",
       "    </tr>\n",
       "    <tr>\n",
       "      <th>67</th>\n",
       "      <td>1990</td>\n",
       "      <td>January</td>\n",
       "      <td>Maryland</td>\n",
       "      <td>Prince George's County</td>\n",
       "      <td>2.8</td>\n",
       "    </tr>\n",
       "    <tr>\n",
       "      <th>87</th>\n",
       "      <td>1990</td>\n",
       "      <td>October</td>\n",
       "      <td>Maryland</td>\n",
       "      <td>Prince George's County</td>\n",
       "      <td>4.0</td>\n",
       "    </tr>\n",
       "    <tr>\n",
       "      <th>92</th>\n",
       "      <td>1990</td>\n",
       "      <td>February</td>\n",
       "      <td>Maryland</td>\n",
       "      <td>Prince George's County</td>\n",
       "      <td>2.7</td>\n",
       "    </tr>\n",
       "    <tr>\n",
       "      <th>140</th>\n",
       "      <td>1990</td>\n",
       "      <td>March</td>\n",
       "      <td>Maryland</td>\n",
       "      <td>Prince George's County</td>\n",
       "      <td>2.6</td>\n",
       "    </tr>\n",
       "    <tr>\n",
       "      <th>151</th>\n",
       "      <td>1990</td>\n",
       "      <td>July</td>\n",
       "      <td>Maryland</td>\n",
       "      <td>Prince George's County</td>\n",
       "      <td>3.6</td>\n",
       "    </tr>\n",
       "    <tr>\n",
       "      <th>179</th>\n",
       "      <td>1990</td>\n",
       "      <td>December</td>\n",
       "      <td>Maryland</td>\n",
       "      <td>Prince George's County</td>\n",
       "      <td>4.0</td>\n",
       "    </tr>\n",
       "    <tr>\n",
       "      <th>211</th>\n",
       "      <td>1990</td>\n",
       "      <td>November</td>\n",
       "      <td>Maryland</td>\n",
       "      <td>Prince George's County</td>\n",
       "      <td>4.2</td>\n",
       "    </tr>\n",
       "    <tr>\n",
       "      <th>225</th>\n",
       "      <td>1990</td>\n",
       "      <td>September</td>\n",
       "      <td>Maryland</td>\n",
       "      <td>Prince George's County</td>\n",
       "      <td>4.1</td>\n",
       "    </tr>\n",
       "    <tr>\n",
       "      <th>236</th>\n",
       "      <td>1990</td>\n",
       "      <td>June</td>\n",
       "      <td>Maryland</td>\n",
       "      <td>Prince George's County</td>\n",
       "      <td>3.7</td>\n",
       "    </tr>\n",
       "    <tr>\n",
       "      <th>284</th>\n",
       "      <td>1990</td>\n",
       "      <td>April</td>\n",
       "      <td>Maryland</td>\n",
       "      <td>Prince George's County</td>\n",
       "      <td>2.8</td>\n",
       "    </tr>\n",
       "  </tbody>\n",
       "</table>\n",
       "</div>"
      ],
      "text/plain": [
       "     Year      Month     State                  County  Rate\n",
       "8    1990        May  Maryland  Prince George's County   3.2\n",
       "19   1990     August  Maryland  Prince George's County   3.9\n",
       "67   1990    January  Maryland  Prince George's County   2.8\n",
       "87   1990    October  Maryland  Prince George's County   4.0\n",
       "92   1990   February  Maryland  Prince George's County   2.7\n",
       "140  1990      March  Maryland  Prince George's County   2.6\n",
       "151  1990       July  Maryland  Prince George's County   3.6\n",
       "179  1990   December  Maryland  Prince George's County   4.0\n",
       "211  1990   November  Maryland  Prince George's County   4.2\n",
       "225  1990  September  Maryland  Prince George's County   4.1\n",
       "236  1990       June  Maryland  Prince George's County   3.7\n",
       "284  1990      April  Maryland  Prince George's County   2.8"
      ]
     },
     "execution_count": 101,
     "metadata": {
      "tags": []
     },
     "output_type": "execute_result"
    }
   ],
   "source": [
    "year = 1990\n",
    "pgc_unemployment = md_unemployment[(md_unemployment.County == \"Prince George's County\") & (md_unemployment.Year == year)]\n",
    "pgc_unemployment"
   ]
  },
  {
   "cell_type": "markdown",
   "metadata": {
    "colab_type": "text",
    "id": "2Cr5z9KyHEec"
   },
   "source": [
    "Finally, we write a function to get the averages for Prince George's County, and display it using a line chart."
   ]
  },
  {
   "cell_type": "code",
   "execution_count": 102,
   "metadata": {
    "colab": {
     "base_uri": "https://localhost:8080/",
     "height": 324
    },
    "colab_type": "code",
    "id": "PQyn-VF9HEec",
    "outputId": "5f524006-1a83-443e-b14c-c06622fe20ef",
    "scrolled": false
   },
   "outputs": [
    {
     "data": {
      "image/png": "[encoded data removed]",
      "text/plain": [
       "<Figure size 432x288 with 1 Axes>"
      ]
     },
     "metadata": {
      "tags": []
     },
     "output_type": "display_data"
    }
   ],
   "source": [
    "def get_averages(averages, county):\n",
    "    year = 1990\n",
    "    while year != 2017:\n",
    "        pgc_unemployment = md_unemployment[(md_unemployment.County == county) & (md_unemployment.Year == year)]\n",
    "        values = pgc_unemployment['Rate'].values # get values in a list\n",
    "        avg_rate = sum(values) / len(values) # calculate the average\n",
    "        averages[year] = avg_rate\n",
    "        year += 1\n",
    "\n",
    "aver_dict_PGC = {} # create a dictionary for the averages of MD Prince George's County unemployment over the years\n",
    "get_averages(aver_dict_PGC, \"Prince George's County\")\n",
    "\n",
    "Year = list(aver_dict_PGC.keys()) # get key for the year\n",
    "Unemployment_Rate = list(aver_dict_PGC.values()) # get average rate for each year\n",
    "\n",
    "plt.plot(Year, Unemployment_Rate)\n",
    "plt.title(\"Unemployment Rate for Prince George's County Maryland\")\n",
    "plt.xlabel('Year')\n",
    "plt.ylabel(\"Rate\")\n",
    "plt.show()"
   ]
  },
  {
   "cell_type": "markdown",
   "metadata": {
    "colab_type": "text",
    "id": "OT0OpdVtHEee"
   },
   "source": [
    "**Question:** Create a line chart that shows the unemployment for **all counties** in Maryland from 1990 to 2016. Use \n",
    "the `md_unemployment` data set."
   ]
  },
  {
   "cell_type": "code",
   "execution_count": 103,
   "metadata": {
    "colab": {
     "base_uri": "https://localhost:8080/",
     "height": 324
    },
    "colab_type": "code",
    "id": "M1XJCZXWHEee",
    "outputId": "e8d7fa08-cd3d-4faf-ac2f-b4f9ff3d1a2d"
   },
   "outputs": [
    {
     "data": {
      "image/png": "[encoded data removed]",
      "text/plain": [
       "<Figure size 432x288 with 1 Axes>"
      ]
     },
     "metadata": {
      "tags": []
     },
     "output_type": "display_data"
    }
   ],
   "source": [
    "def get_averages_all_counties(averages):\n",
    "    year = 1990\n",
    "    while year != 2017:\n",
    "        pgc_unemployment = md_unemployment[md_unemployment.Year == year]\n",
    "        values = pgc_unemployment['Rate'].values # get values in a list\n",
    "        avg_rate = sum(values) / len(values) # calculate the average\n",
    "        averages[year] = avg_rate\n",
    "        year += 1\n",
    "\n",
    "aver_dict_all_counties = {} # create a dictionary for the averages of MD unemployment over the years\n",
    "get_averages_all_counties(aver_dict_all_counties)\n",
    "\n",
    "Year = list(aver_dict_all_counties.keys()) # get key for the year\n",
    "Unemployment_Rate = list(aver_dict_all_counties.values()) # get average rate for each year\n",
    "\n",
    "plt.plot(Year, Unemployment_Rate)\n",
    "plt.title(\"Unemployment Rate for all counties Maryland\")\n",
    "plt.xlabel('Year')\n",
    "plt.ylabel(\"Rate\")\n",
    "plt.show()"
   ]
  },
  {
   "cell_type": "markdown",
   "metadata": {
    "colab_type": "text",
    "id": "uAER8t48HEeg"
   },
   "source": [
    "**Question:** Compare the line charts of Prince George's County and Maryland to one another. Are there similarities ? Are there differences ?\n",
    "Fill your answer in below."
   ]
  },
  {
   "cell_type": "code",
   "execution_count": 104,
   "metadata": {
    "colab": {
     "base_uri": "https://localhost:8080/",
     "height": 71
    },
    "colab_type": "code",
    "id": "xstjmIGWHEeg",
    "outputId": "a3f41e89-291c-4cc6-9f3a-5281765c3ae0"
   },
   "outputs": [
    {
     "data": {
      "application/vnd.google.colaboratory.intrinsic+json": {
       "type": "string"
      },
      "text/plain": [
       "\"The umemployment pattern in Prince George's County and Maryland are very similar. They both spike and fall down at the same points. They both reached very high points around 1992 and 2010. Similarly, Prince George's County raeched its lowest unemployment rate around 1999 while Maryland overall reached it in 2000. The another lowest point came for both around 2007.\""
      ]
     },
     "execution_count": 104,
     "metadata": {
      "tags": []
     },
     "output_type": "execute_result"
    }
   ],
   "source": [
    "explanation1 = \"The umemployment pattern in Prince George's County and Maryland are very similar. They both spike and fall down at the same points. They both reached very high points around 1992 and 2010. Similarly, Prince George's County raeched its lowest unemployment rate around 1999 while Maryland overall reached it in 2000. The another lowest point came for both around 2007.\"\n",
    "explanation1"
   ]
  },
  {
   "cell_type": "markdown",
   "metadata": {
    "colab_type": "text",
    "id": "bHvP1gO3HEei"
   },
   "source": [
    "**Question:** Why do you suppose that the years between 2005 and 2010 saw a significant increase in the unemployment rate? Fill your answer in below."
   ]
  },
  {
   "cell_type": "code",
   "execution_count": 105,
   "metadata": {
    "colab": {
     "base_uri": "https://localhost:8080/",
     "height": 88
    },
    "colab_type": "code",
    "id": "hyeR5sR9HEej",
    "outputId": "dd87a8e5-91d7-43b8-d478-9629d3e90e3e"
   },
   "outputs": [
    {
     "data": {
      "application/vnd.google.colaboratory.intrinsic+json": {
       "type": "string"
      },
      "text/plain": [
       "'The economic recession from 2007 to 2009 might have contributed to these significant increase in unmployment rates in th United States. During an economic recession, the businesses are not doing very well and all economic activities slow down, so there is generally less economic involvement of all the citizens. As the businesses face losses due to the recession, no new job opportunities are created but the exisitng jobs are cut for the sustenance of the businesses.'"
      ]
     },
     "execution_count": 105,
     "metadata": {
      "tags": []
     },
     "output_type": "execute_result"
    }
   ],
   "source": [
    "explanation2 = 'The economic recession from 2007 to 2009 might have contributed to these significant increase in unmployment rates in th United States. During an economic recession, the businesses are not doing very well and all economic activities slow down, so there is generally less economic involvement of all the citizens. As the businesses face losses due to the recession, no new job opportunities are created but the exisitng jobs are cut for the sustenance of the businesses.'\n",
    "explanation2"
   ]
  },
  {
   "cell_type": "markdown",
   "metadata": {
    "colab_type": "text",
    "id": "MWSKa9x2HEel"
   },
   "source": [
    "# 3. Unemployment\n",
    "\n",
    "The Federal Reserve Bank of St. Louis publishes data about jobs in the US. Below, we've loaded data on unemployment in the United States. There are many ways of defining unemployment, and our dataset includes two notions of the unemployment rate:\n",
    "\n",
    "Among people who are able to work and are looking for a full-time job, the percentage who can't find a job. This is called the Non-Employment Index, or NEI.\n",
    "Among people who are able to work and are looking for a full-time job, the percentage who can't find any job or are only working at a part-time job. The latter group is called \"Part-Time for Economic Reasons\", so the acronym for this index is NEI-PTER. (Economists are great at marketing.)\n",
    "\n",
    "The source data can be found at this link.\n",
    "\n",
    "**Question 1:** The data are in a CSV file called `unemployment.csv`.  Load that file into a table called `unemployment`."
   ]
  },
  {
   "cell_type": "code",
   "execution_count": 106,
   "metadata": {
    "colab": {
     "base_uri": "https://localhost:8080/",
     "height": 406
    },
    "colab_type": "code",
    "id": "p7cP_Gy1HEeo",
    "outputId": "8e581ecd-cf8c-4771-8fed-8644e7fc0e33"
   },
   "outputs": [
    {
     "data": {
      "text/html": [
       "<div>\n",
       "<style scoped>\n",
       "    .dataframe tbody tr th:only-of-type {\n",
       "        vertical-align: middle;\n",
       "    }\n",
       "\n",
       "    .dataframe tbody tr th {\n",
       "        vertical-align: top;\n",
       "    }\n",
       "\n",
       "    .dataframe thead th {\n",
       "        text-align: right;\n",
       "    }\n",
       "</style>\n",
       "<table border=\"1\" class=\"dataframe\">\n",
       "  <thead>\n",
       "    <tr style=\"text-align: right;\">\n",
       "      <th></th>\n",
       "      <th>Date</th>\n",
       "      <th>NEI</th>\n",
       "      <th>NEI-PTER</th>\n",
       "    </tr>\n",
       "  </thead>\n",
       "  <tbody>\n",
       "    <tr>\n",
       "      <th>0</th>\n",
       "      <td>1994-01-01</td>\n",
       "      <td>10.0974</td>\n",
       "      <td>11.1720</td>\n",
       "    </tr>\n",
       "    <tr>\n",
       "      <th>1</th>\n",
       "      <td>1994-04-01</td>\n",
       "      <td>9.6239</td>\n",
       "      <td>10.7883</td>\n",
       "    </tr>\n",
       "    <tr>\n",
       "      <th>2</th>\n",
       "      <td>1994-07-01</td>\n",
       "      <td>9.3276</td>\n",
       "      <td>10.4831</td>\n",
       "    </tr>\n",
       "    <tr>\n",
       "      <th>3</th>\n",
       "      <td>1994-10-01</td>\n",
       "      <td>9.1071</td>\n",
       "      <td>10.2361</td>\n",
       "    </tr>\n",
       "    <tr>\n",
       "      <th>4</th>\n",
       "      <td>1995-01-01</td>\n",
       "      <td>8.9693</td>\n",
       "      <td>10.1832</td>\n",
       "    </tr>\n",
       "    <tr>\n",
       "      <th>...</th>\n",
       "      <td>...</td>\n",
       "      <td>...</td>\n",
       "      <td>...</td>\n",
       "    </tr>\n",
       "    <tr>\n",
       "      <th>85</th>\n",
       "      <td>2015-04-01</td>\n",
       "      <td>8.8386</td>\n",
       "      <td>10.1483</td>\n",
       "    </tr>\n",
       "    <tr>\n",
       "      <th>86</th>\n",
       "      <td>2015-07-01</td>\n",
       "      <td>8.6847</td>\n",
       "      <td>9.9166</td>\n",
       "    </tr>\n",
       "    <tr>\n",
       "      <th>87</th>\n",
       "      <td>2015-10-01</td>\n",
       "      <td>8.6650</td>\n",
       "      <td>9.8385</td>\n",
       "    </tr>\n",
       "    <tr>\n",
       "      <th>88</th>\n",
       "      <td>2016-01-01</td>\n",
       "      <td>8.4330</td>\n",
       "      <td>9.6174</td>\n",
       "    </tr>\n",
       "    <tr>\n",
       "      <th>89</th>\n",
       "      <td>2016-04-01</td>\n",
       "      <td>8.5400</td>\n",
       "      <td>9.7146</td>\n",
       "    </tr>\n",
       "  </tbody>\n",
       "</table>\n",
       "<p>90 rows × 3 columns</p>\n",
       "</div>"
      ],
      "text/plain": [
       "          Date      NEI  NEI-PTER\n",
       "0   1994-01-01  10.0974   11.1720\n",
       "1   1994-04-01   9.6239   10.7883\n",
       "2   1994-07-01   9.3276   10.4831\n",
       "3   1994-10-01   9.1071   10.2361\n",
       "4   1995-01-01   8.9693   10.1832\n",
       "..         ...      ...       ...\n",
       "85  2015-04-01   8.8386   10.1483\n",
       "86  2015-07-01   8.6847    9.9166\n",
       "87  2015-10-01   8.6650    9.8385\n",
       "88  2016-01-01   8.4330    9.6174\n",
       "89  2016-04-01   8.5400    9.7146\n",
       "\n",
       "[90 rows x 3 columns]"
      ]
     },
     "execution_count": 106,
     "metadata": {
      "tags": []
     },
     "output_type": "execute_result"
    }
   ],
   "source": [
    "unemployment = pd.read_csv(\"https://raw.githubusercontent.com/prabinspkt/data-science-files/main/unemployment.csv\")\n",
    "unemployment"
   ]
  },
  {
   "cell_type": "markdown",
   "metadata": {
    "colab_type": "text",
    "id": "eGjSue9gHEeq"
   },
   "source": [
    "**Question 2:** Sort the data in descending order by NEI, naming the sorted table `by_nei`.  Create another table called `by_nei_pter` that's sorted in descending order by NEI-PTER instead.\n",
    "\n",
    "Reference this article for help: https://cmdlinetips.com/2018/02/how-to-sort-pandas-dataframe-by-columns-and-row/"
   ]
  },
  {
   "cell_type": "code",
   "execution_count": 107,
   "metadata": {
    "colab": {
     "base_uri": "https://localhost:8080/",
     "height": 406
    },
    "colab_type": "code",
    "id": "Y1WX6cn7HEeq",
    "outputId": "ab1d3f02-cf0d-45af-fdf8-23fba07aaab1"
   },
   "outputs": [
    {
     "data": {
      "text/html": [
       "<div>\n",
       "<style scoped>\n",
       "    .dataframe tbody tr th:only-of-type {\n",
       "        vertical-align: middle;\n",
       "    }\n",
       "\n",
       "    .dataframe tbody tr th {\n",
       "        vertical-align: top;\n",
       "    }\n",
       "\n",
       "    .dataframe thead th {\n",
       "        text-align: right;\n",
       "    }\n",
       "</style>\n",
       "<table border=\"1\" class=\"dataframe\">\n",
       "  <thead>\n",
       "    <tr style=\"text-align: right;\">\n",
       "      <th></th>\n",
       "      <th>Date</th>\n",
       "      <th>NEI</th>\n",
       "      <th>NEI-PTER</th>\n",
       "    </tr>\n",
       "  </thead>\n",
       "  <tbody>\n",
       "    <tr>\n",
       "      <th>24</th>\n",
       "      <td>2000-01-01</td>\n",
       "      <td>7.6128</td>\n",
       "      <td>8.3379</td>\n",
       "    </tr>\n",
       "    <tr>\n",
       "      <th>27</th>\n",
       "      <td>2000-10-01</td>\n",
       "      <td>7.6769</td>\n",
       "      <td>8.4192</td>\n",
       "    </tr>\n",
       "    <tr>\n",
       "      <th>25</th>\n",
       "      <td>2000-04-01</td>\n",
       "      <td>7.6754</td>\n",
       "      <td>8.4199</td>\n",
       "    </tr>\n",
       "    <tr>\n",
       "      <th>26</th>\n",
       "      <td>2000-07-01</td>\n",
       "      <td>7.6915</td>\n",
       "      <td>8.4458</td>\n",
       "    </tr>\n",
       "    <tr>\n",
       "      <th>28</th>\n",
       "      <td>2001-01-01</td>\n",
       "      <td>7.7570</td>\n",
       "      <td>8.4969</td>\n",
       "    </tr>\n",
       "    <tr>\n",
       "      <th>...</th>\n",
       "      <td>...</td>\n",
       "      <td>...</td>\n",
       "      <td>...</td>\n",
       "    </tr>\n",
       "    <tr>\n",
       "      <th>61</th>\n",
       "      <td>2009-04-01</td>\n",
       "      <td>10.7082</td>\n",
       "      <td>12.5497</td>\n",
       "    </tr>\n",
       "    <tr>\n",
       "      <th>65</th>\n",
       "      <td>2010-04-01</td>\n",
       "      <td>10.6597</td>\n",
       "      <td>12.5664</td>\n",
       "    </tr>\n",
       "    <tr>\n",
       "      <th>64</th>\n",
       "      <td>2010-01-01</td>\n",
       "      <td>10.9054</td>\n",
       "      <td>12.7311</td>\n",
       "    </tr>\n",
       "    <tr>\n",
       "      <th>62</th>\n",
       "      <td>2009-07-01</td>\n",
       "      <td>10.8089</td>\n",
       "      <td>12.7404</td>\n",
       "    </tr>\n",
       "    <tr>\n",
       "      <th>63</th>\n",
       "      <td>2009-10-01</td>\n",
       "      <td>10.9698</td>\n",
       "      <td>12.8557</td>\n",
       "    </tr>\n",
       "  </tbody>\n",
       "</table>\n",
       "<p>90 rows × 3 columns</p>\n",
       "</div>"
      ],
      "text/plain": [
       "          Date      NEI  NEI-PTER\n",
       "24  2000-01-01   7.6128    8.3379\n",
       "27  2000-10-01   7.6769    8.4192\n",
       "25  2000-04-01   7.6754    8.4199\n",
       "26  2000-07-01   7.6915    8.4458\n",
       "28  2001-01-01   7.7570    8.4969\n",
       "..         ...      ...       ...\n",
       "61  2009-04-01  10.7082   12.5497\n",
       "65  2010-04-01  10.6597   12.5664\n",
       "64  2010-01-01  10.9054   12.7311\n",
       "62  2009-07-01  10.8089   12.7404\n",
       "63  2009-10-01  10.9698   12.8557\n",
       "\n",
       "[90 rows x 3 columns]"
      ]
     },
     "execution_count": 107,
     "metadata": {
      "tags": []
     },
     "output_type": "execute_result"
    }
   ],
   "source": [
    "by_nei = unemployment.sort_values('NEI', ascending = True)\n",
    "by_nei_pter = unemployment.sort_values('NEI-PTER', ascending = True)\n",
    "by_nei_pter"
   ]
  },
  {
   "cell_type": "markdown",
   "metadata": {
    "colab_type": "text",
    "id": "83UUtzpcHEes"
   },
   "source": [
    "**Question 3:** Create a table containing the data for the 10 quarters when NEI was greatest.  Call that table `greatest_nei`.\n",
    "\n",
    "`greatest_nei` should be sorted in descending order of `NEI`. Note that each row of `unemployment` represents a quarter."
   ]
  },
  {
   "cell_type": "code",
   "execution_count": 108,
   "metadata": {
    "colab": {
     "base_uri": "https://localhost:8080/",
     "height": 347
    },
    "colab_type": "code",
    "id": "H2GLv8IeHEet",
    "outputId": "18db1d22-57c8-48a2-ac93-09bac7417d7c"
   },
   "outputs": [
    {
     "data": {
      "text/html": [
       "<div>\n",
       "<style scoped>\n",
       "    .dataframe tbody tr th:only-of-type {\n",
       "        vertical-align: middle;\n",
       "    }\n",
       "\n",
       "    .dataframe tbody tr th {\n",
       "        vertical-align: top;\n",
       "    }\n",
       "\n",
       "    .dataframe thead th {\n",
       "        text-align: right;\n",
       "    }\n",
       "</style>\n",
       "<table border=\"1\" class=\"dataframe\">\n",
       "  <thead>\n",
       "    <tr style=\"text-align: right;\">\n",
       "      <th></th>\n",
       "      <th>Date</th>\n",
       "      <th>NEI</th>\n",
       "      <th>NEI-PTER</th>\n",
       "    </tr>\n",
       "  </thead>\n",
       "  <tbody>\n",
       "    <tr>\n",
       "      <th>63</th>\n",
       "      <td>2009-10-01</td>\n",
       "      <td>10.9698</td>\n",
       "      <td>12.8557</td>\n",
       "    </tr>\n",
       "    <tr>\n",
       "      <th>62</th>\n",
       "      <td>2009-07-01</td>\n",
       "      <td>10.8089</td>\n",
       "      <td>12.7404</td>\n",
       "    </tr>\n",
       "    <tr>\n",
       "      <th>64</th>\n",
       "      <td>2010-01-01</td>\n",
       "      <td>10.9054</td>\n",
       "      <td>12.7311</td>\n",
       "    </tr>\n",
       "    <tr>\n",
       "      <th>65</th>\n",
       "      <td>2010-04-01</td>\n",
       "      <td>10.6597</td>\n",
       "      <td>12.5664</td>\n",
       "    </tr>\n",
       "    <tr>\n",
       "      <th>61</th>\n",
       "      <td>2009-04-01</td>\n",
       "      <td>10.7082</td>\n",
       "      <td>12.5497</td>\n",
       "    </tr>\n",
       "    <tr>\n",
       "      <th>67</th>\n",
       "      <td>2010-10-01</td>\n",
       "      <td>10.5856</td>\n",
       "      <td>12.4329</td>\n",
       "    </tr>\n",
       "    <tr>\n",
       "      <th>66</th>\n",
       "      <td>2010-07-01</td>\n",
       "      <td>10.5521</td>\n",
       "      <td>12.3897</td>\n",
       "    </tr>\n",
       "    <tr>\n",
       "      <th>68</th>\n",
       "      <td>2011-01-01</td>\n",
       "      <td>10.5024</td>\n",
       "      <td>12.3017</td>\n",
       "    </tr>\n",
       "    <tr>\n",
       "      <th>70</th>\n",
       "      <td>2011-07-01</td>\n",
       "      <td>10.4856</td>\n",
       "      <td>12.2507</td>\n",
       "    </tr>\n",
       "    <tr>\n",
       "      <th>69</th>\n",
       "      <td>2011-04-01</td>\n",
       "      <td>10.4409</td>\n",
       "      <td>12.2470</td>\n",
       "    </tr>\n",
       "  </tbody>\n",
       "</table>\n",
       "</div>"
      ],
      "text/plain": [
       "          Date      NEI  NEI-PTER\n",
       "63  2009-10-01  10.9698   12.8557\n",
       "62  2009-07-01  10.8089   12.7404\n",
       "64  2010-01-01  10.9054   12.7311\n",
       "65  2010-04-01  10.6597   12.5664\n",
       "61  2009-04-01  10.7082   12.5497\n",
       "67  2010-10-01  10.5856   12.4329\n",
       "66  2010-07-01  10.5521   12.3897\n",
       "68  2011-01-01  10.5024   12.3017\n",
       "70  2011-07-01  10.4856   12.2507\n",
       "69  2011-04-01  10.4409   12.2470"
      ]
     },
     "execution_count": 108,
     "metadata": {
      "tags": []
     },
     "output_type": "execute_result"
    }
   ],
   "source": [
    "greatest_nei = by_nei_pter.tail(10).sort_values('NEI-PTER', ascending = False)\n",
    "greatest_nei"
   ]
  },
  {
   "cell_type": "markdown",
   "metadata": {
    "colab_type": "text",
    "id": "gLuRI3miHEeu"
   },
   "source": [
    "**Question 4:** It's believed that many people became PTER (recall: \"Part-Time for Economic Reasons\") in the \"Great Recession\" of 2008-2009.  NEI-PTER is the percentage of people who are unemployed (and counted in the NEI) plus the percentage of people who are PTER.  Compute an array containing the percentage of people who were PTER in each quarter.  (The first element of the array should correspond to the first row of `unemployment`, and so on.)\n",
    "\n",
    "*Note:* Use the original `unemployment` table for this."
   ]
  },
  {
   "cell_type": "code",
   "execution_count": 109,
   "metadata": {
    "colab": {
     "base_uri": "https://localhost:8080/",
     "height": 1000
    },
    "colab_type": "code",
    "id": "rfcaNVmXHEev",
    "outputId": "1ae444bd-db63-492c-840a-9e3343f8d550"
   },
   "outputs": [
    {
     "data": {
      "text/plain": [
       "[1.0746000000000002,\n",
       " 1.1643999999999988,\n",
       " 1.1555,\n",
       " 1.1289999999999996,\n",
       " 1.2138999999999989,\n",
       " 1.0757000000000012,\n",
       " 1.1281999999999996,\n",
       " 1.1113999999999997,\n",
       " 1.052900000000001,\n",
       " 1.074399999999999,\n",
       " 1.1003999999999987,\n",
       " 1.0747,\n",
       " 1.0704999999999991,\n",
       " 1.0455000000000005,\n",
       " 1.0079999999999991,\n",
       " 0.9733999999999998,\n",
       " 0.975299999999999,\n",
       " 0.8931000000000004,\n",
       " 0.9451,\n",
       " 0.8366999999999987,\n",
       " 0.8208000000000002,\n",
       " 0.8104999999999993,\n",
       " 0.8247999999999998,\n",
       " 0.7578000000000005,\n",
       " 0.7250999999999994,\n",
       " 0.7445000000000004,\n",
       " 0.7543000000000006,\n",
       " 0.7423000000000002,\n",
       " 0.7398999999999996,\n",
       " 0.7687000000000008,\n",
       " 0.841800000000001,\n",
       " 0.9923000000000002,\n",
       " 0.918099999999999,\n",
       " 0.9628999999999994,\n",
       " 0.9702999999999999,\n",
       " 0.9574999999999996,\n",
       " 1.0332999999999988,\n",
       " 1.078100000000001,\n",
       " 1.067499999999999,\n",
       " 1.035400000000001,\n",
       " 1.0601000000000003,\n",
       " 1.0100000000000016,\n",
       " 1.004199999999999,\n",
       " 1.0367999999999995,\n",
       " 0.9703999999999997,\n",
       " 0.923,\n",
       " 0.9758999999999993,\n",
       " 0.9299999999999997,\n",
       " 0.8889999999999993,\n",
       " 0.8209999999999997,\n",
       " 0.940900000000001,\n",
       " 0.9550000000000001,\n",
       " 0.8979999999999997,\n",
       " 0.8948,\n",
       " 0.9522999999999993,\n",
       " 0.9578999999999986,\n",
       " 1.0149000000000008,\n",
       " 1.0762,\n",
       " 1.2873,\n",
       " 1.4335000000000004,\n",
       " 1.7446000000000002,\n",
       " 1.8415,\n",
       " 1.9314999999999998,\n",
       " 1.8859000000000012,\n",
       " 1.8256999999999994,\n",
       " 1.906699999999999,\n",
       " 1.8376000000000001,\n",
       " 1.8473000000000006,\n",
       " 1.7993000000000006,\n",
       " 1.8061000000000007,\n",
       " 1.7651000000000003,\n",
       " 1.7927,\n",
       " 1.7286000000000001,\n",
       " 1.6387,\n",
       " 1.6807999999999996,\n",
       " 1.6805000000000003,\n",
       " 1.6628999999999987,\n",
       " 1.625300000000001,\n",
       " 1.6477000000000004,\n",
       " 1.6297999999999995,\n",
       " 1.4795999999999996,\n",
       " 1.5130999999999997,\n",
       " 1.4865999999999993,\n",
       " 1.4345000000000017,\n",
       " 1.367499999999998,\n",
       " 1.3097000000000012,\n",
       " 1.2319000000000013,\n",
       " 1.1735000000000007,\n",
       " 1.1844000000000001,\n",
       " 1.1746000000000016]"
      ]
     },
     "execution_count": 109,
     "metadata": {
      "tags": []
     },
     "output_type": "execute_result"
    }
   ],
   "source": [
    "PTER_percent = []\n",
    "for i in range(len(unemployment)):\n",
    "    PTER_percent.append(unemployment.loc[i, \"NEI-PTER\"] - unemployment.loc[i, \"NEI\"])\n",
    "    \n",
    "PTER_percent"
   ]
  },
  {
   "cell_type": "markdown",
   "metadata": {
    "colab_type": "text",
    "id": "ZlcfThzjHEex"
   },
   "source": [
    "**Question 5:** Add `pter` as a column to `unemployment` (named \"PTER\") and sort the resulting table by that column in descending order.  Call the table `by_pter`."
   ]
  },
  {
   "cell_type": "code",
   "execution_count": 110,
   "metadata": {
    "colab": {
     "base_uri": "https://localhost:8080/",
     "height": 406
    },
    "colab_type": "code",
    "id": "wATUsuOsHEey",
    "outputId": "d2858948-6a75-433a-c1a5-84ae7196c2c2"
   },
   "outputs": [
    {
     "data": {
      "text/html": [
       "<div>\n",
       "<style scoped>\n",
       "    .dataframe tbody tr th:only-of-type {\n",
       "        vertical-align: middle;\n",
       "    }\n",
       "\n",
       "    .dataframe tbody tr th {\n",
       "        vertical-align: top;\n",
       "    }\n",
       "\n",
       "    .dataframe thead th {\n",
       "        text-align: right;\n",
       "    }\n",
       "</style>\n",
       "<table border=\"1\" class=\"dataframe\">\n",
       "  <thead>\n",
       "    <tr style=\"text-align: right;\">\n",
       "      <th></th>\n",
       "      <th>Date</th>\n",
       "      <th>NEI</th>\n",
       "      <th>NEI-PTER</th>\n",
       "      <th>PTER</th>\n",
       "    </tr>\n",
       "  </thead>\n",
       "  <tbody>\n",
       "    <tr>\n",
       "      <th>62</th>\n",
       "      <td>2009-07-01</td>\n",
       "      <td>10.8089</td>\n",
       "      <td>12.7404</td>\n",
       "      <td>1.9315</td>\n",
       "    </tr>\n",
       "    <tr>\n",
       "      <th>65</th>\n",
       "      <td>2010-04-01</td>\n",
       "      <td>10.6597</td>\n",
       "      <td>12.5664</td>\n",
       "      <td>1.9067</td>\n",
       "    </tr>\n",
       "    <tr>\n",
       "      <th>63</th>\n",
       "      <td>2009-10-01</td>\n",
       "      <td>10.9698</td>\n",
       "      <td>12.8557</td>\n",
       "      <td>1.8859</td>\n",
       "    </tr>\n",
       "    <tr>\n",
       "      <th>67</th>\n",
       "      <td>2010-10-01</td>\n",
       "      <td>10.5856</td>\n",
       "      <td>12.4329</td>\n",
       "      <td>1.8473</td>\n",
       "    </tr>\n",
       "    <tr>\n",
       "      <th>61</th>\n",
       "      <td>2009-04-01</td>\n",
       "      <td>10.7082</td>\n",
       "      <td>12.5497</td>\n",
       "      <td>1.8415</td>\n",
       "    </tr>\n",
       "    <tr>\n",
       "      <th>...</th>\n",
       "      <td>...</td>\n",
       "      <td>...</td>\n",
       "      <td>...</td>\n",
       "      <td>...</td>\n",
       "    </tr>\n",
       "    <tr>\n",
       "      <th>26</th>\n",
       "      <td>2000-07-01</td>\n",
       "      <td>7.6915</td>\n",
       "      <td>8.4458</td>\n",
       "      <td>0.7543</td>\n",
       "    </tr>\n",
       "    <tr>\n",
       "      <th>25</th>\n",
       "      <td>2000-04-01</td>\n",
       "      <td>7.6754</td>\n",
       "      <td>8.4199</td>\n",
       "      <td>0.7445</td>\n",
       "    </tr>\n",
       "    <tr>\n",
       "      <th>27</th>\n",
       "      <td>2000-10-01</td>\n",
       "      <td>7.6769</td>\n",
       "      <td>8.4192</td>\n",
       "      <td>0.7423</td>\n",
       "    </tr>\n",
       "    <tr>\n",
       "      <th>28</th>\n",
       "      <td>2001-01-01</td>\n",
       "      <td>7.7570</td>\n",
       "      <td>8.4969</td>\n",
       "      <td>0.7399</td>\n",
       "    </tr>\n",
       "    <tr>\n",
       "      <th>24</th>\n",
       "      <td>2000-01-01</td>\n",
       "      <td>7.6128</td>\n",
       "      <td>8.3379</td>\n",
       "      <td>0.7251</td>\n",
       "    </tr>\n",
       "  </tbody>\n",
       "</table>\n",
       "<p>90 rows × 4 columns</p>\n",
       "</div>"
      ],
      "text/plain": [
       "          Date      NEI  NEI-PTER    PTER\n",
       "62  2009-07-01  10.8089   12.7404  1.9315\n",
       "65  2010-04-01  10.6597   12.5664  1.9067\n",
       "63  2009-10-01  10.9698   12.8557  1.8859\n",
       "67  2010-10-01  10.5856   12.4329  1.8473\n",
       "61  2009-04-01  10.7082   12.5497  1.8415\n",
       "..         ...      ...       ...     ...\n",
       "26  2000-07-01   7.6915    8.4458  0.7543\n",
       "25  2000-04-01   7.6754    8.4199  0.7445\n",
       "27  2000-10-01   7.6769    8.4192  0.7423\n",
       "28  2001-01-01   7.7570    8.4969  0.7399\n",
       "24  2000-01-01   7.6128    8.3379  0.7251\n",
       "\n",
       "[90 rows x 4 columns]"
      ]
     },
     "execution_count": 110,
     "metadata": {
      "tags": []
     },
     "output_type": "execute_result"
    }
   ],
   "source": [
    "unemployment[\"PTER\"] = PTER_percent\n",
    "by_pter = unemployment.sort_values('PTER', ascending=False)\n",
    "by_pter"
   ]
  },
  {
   "cell_type": "markdown",
   "metadata": {
    "colab_type": "text",
    "id": "3vNjs6IyHEe0"
   },
   "source": [
    "**Question 6:** \n",
    "\n",
    "Create a line plot of the PTER over time. \n",
    "\n",
    "To do this, create a new table called `pter_over_time` that adds the `year` array and the `pter` array to the `unemployment` table. Label these columns `Year` and `PTER`. Then, generate a line plot using one of the table methods you've learned in class.\n",
    "\n",
    "Helpful Link: https://pandas.pydata.org/pandas-docs/stable/reference/api/pandas.DataFrame.plot.line.html"
   ]
  },
  {
   "cell_type": "code",
   "execution_count": 111,
   "metadata": {
    "colab": {
     "base_uri": "https://localhost:8080/",
     "height": 324
    },
    "colab_type": "code",
    "id": "i8cWKzsTHEe0",
    "outputId": "de2e8040-b12d-443b-eff4-790f1030afe6"
   },
   "outputs": [
    {
     "data": {
      "image/png": "[encoded data removed]",
      "text/plain": [
       "<Figure size 432x288 with 1 Axes>"
      ]
     },
     "metadata": {
      "tags": []
     },
     "output_type": "display_data"
    }
   ],
   "source": [
    "pter_over_time = unemployment.sort_values(\"Date\", ascending=True)\n",
    "year = np.arange(1994, 2016.50,0.25)\n",
    "pter_over_time[\"Year\"] = year\n",
    "pter_over_time.head(15)\n",
    "\n",
    "year = pter_over_time[\"Year\"]\n",
    "PTER = pter_over_time[\"PTER\"]\n",
    "\n",
    "plt.plot(year, PTER)\n",
    "plt.title(\"PTER over years\")\n",
    "plt.xlabel('Year')\n",
    "plt.ylabel(\"PTER\")\n",
    "plt.show()"
   ]
  },
  {
   "cell_type": "markdown",
   "metadata": {
    "colab_type": "text",
    "id": "2XCENSnqHEe4"
   },
   "source": [
    "**Question 7:** Were PTER rates high during the Great Recession (that is to say, were PTER rates particularly high in the years 2008 through 2011)? Assign highPTER to True if you think PTER rates were high in this period, and False if you think they weren't."
   ]
  },
  {
   "cell_type": "code",
   "execution_count": 112,
   "metadata": {
    "colab": {
     "base_uri": "https://localhost:8080/",
     "height": 53
    },
    "colab_type": "code",
    "id": "DKX4-aeFHEe5",
    "outputId": "95c9fa6c-1c46-4984-daaa-12bc015137a2"
   },
   "outputs": [
    {
     "data": {
      "application/vnd.google.colaboratory.intrinsic+json": {
       "type": "string"
      },
      "text/plain": [
       "'PTER rates must have been high because many people were limited to their part time jobs as they kept on losing their full time jobs. They basixally settled with part time jobs when they could not get the kinf odf jobs that they wanted.'"
      ]
     },
     "execution_count": 112,
     "metadata": {
      "tags": []
     },
     "output_type": "execute_result"
    }
   ],
   "source": [
    "highPTER = True\n",
    "\n",
    "explanation = \"PTER rates must have been high because many people were limited to their part time jobs as they kept on losing their full time jobs. They basixally settled with part time jobs when they could not get the kinf odf jobs that they wanted.\"\n",
    "explanation"
   ]
  },
  {
   "cell_type": "markdown",
   "metadata": {
    "colab_type": "text",
    "id": "Bi54-DiyHEe6"
   },
   "source": [
    "# 4. Scatter Plots \n",
    "\n",
    "A **scatter plot** depicts the relationship between two variables on a rectangular coordinate system, where each axis corresponds to one variable. Scatter plots are used for both quantitative and categorical data.\n",
    "\n",
    "**NOTE:** Helpful rerefence: https://matplotlib.org/3.3.0/api/_as_gen/matplotlib.pyplot.scatter.html\n",
    "\n",
    "We'll use the scatter plot for quantitative data right now.\n",
    "\n",
    "The data set we'll use is the titanic."
   ]
  },
  {
   "cell_type": "code",
   "execution_count": 113,
   "metadata": {
    "colab": {
     "base_uri": "https://localhost:8080/",
     "height": 265
    },
    "colab_type": "code",
    "id": "8sAgi1QRHEe7",
    "outputId": "94d202db-143e-46e6-c30e-3f3ba2ccd5bd"
   },
   "outputs": [
    {
     "name": "stdout",
     "output_type": "stream",
     "text": [
      "(891, 12)\n",
      "PassengerId      int64\n",
      "Survived         int64\n",
      "Pclass           int64\n",
      "Name            object\n",
      "Sex             object\n",
      "Age            float64\n",
      "SibSp            int64\n",
      "Parch            int64\n",
      "Ticket          object\n",
      "Fare           float64\n",
      "Cabin           object\n",
      "Embarked        object\n",
      "dtype: object\n"
     ]
    }
   ],
   "source": [
    "titanic = pd.read_csv(\"https://raw.githubusercontent.com/prabinspkt/data-science-files/main/titanic.csv\")\n",
    "print(titanic.shape)\n",
    "print(titanic.dtypes)"
   ]
  },
  {
   "cell_type": "markdown",
   "metadata": {
    "colab_type": "text",
    "id": "VeJEO8srHEe9"
   },
   "source": [
    "Let's create a scatter plot compare the 'Age' of a passenger to their 'Fare.'\n",
    "\n",
    "We'll begin by creating a subtable with the columns 'Age' and 'Fare.'"
   ]
  },
  {
   "cell_type": "code",
   "execution_count": 114,
   "metadata": {
    "colab": {
     "base_uri": "https://localhost:8080/",
     "height": 406
    },
    "colab_type": "code",
    "id": "AVl5qOjTHEe9",
    "outputId": "ae112378-d6c7-47f8-ff5c-92b9082088b8"
   },
   "outputs": [
    {
     "data": {
      "text/html": [
       "<div>\n",
       "<style scoped>\n",
       "    .dataframe tbody tr th:only-of-type {\n",
       "        vertical-align: middle;\n",
       "    }\n",
       "\n",
       "    .dataframe tbody tr th {\n",
       "        vertical-align: top;\n",
       "    }\n",
       "\n",
       "    .dataframe thead th {\n",
       "        text-align: right;\n",
       "    }\n",
       "</style>\n",
       "<table border=\"1\" class=\"dataframe\">\n",
       "  <thead>\n",
       "    <tr style=\"text-align: right;\">\n",
       "      <th></th>\n",
       "      <th>Age</th>\n",
       "      <th>Fare</th>\n",
       "    </tr>\n",
       "  </thead>\n",
       "  <tbody>\n",
       "    <tr>\n",
       "      <th>0</th>\n",
       "      <td>22.0</td>\n",
       "      <td>7.2500</td>\n",
       "    </tr>\n",
       "    <tr>\n",
       "      <th>1</th>\n",
       "      <td>38.0</td>\n",
       "      <td>71.2833</td>\n",
       "    </tr>\n",
       "    <tr>\n",
       "      <th>2</th>\n",
       "      <td>26.0</td>\n",
       "      <td>7.9250</td>\n",
       "    </tr>\n",
       "    <tr>\n",
       "      <th>3</th>\n",
       "      <td>35.0</td>\n",
       "      <td>53.1000</td>\n",
       "    </tr>\n",
       "    <tr>\n",
       "      <th>4</th>\n",
       "      <td>35.0</td>\n",
       "      <td>8.0500</td>\n",
       "    </tr>\n",
       "    <tr>\n",
       "      <th>...</th>\n",
       "      <td>...</td>\n",
       "      <td>...</td>\n",
       "    </tr>\n",
       "    <tr>\n",
       "      <th>886</th>\n",
       "      <td>27.0</td>\n",
       "      <td>13.0000</td>\n",
       "    </tr>\n",
       "    <tr>\n",
       "      <th>887</th>\n",
       "      <td>19.0</td>\n",
       "      <td>30.0000</td>\n",
       "    </tr>\n",
       "    <tr>\n",
       "      <th>888</th>\n",
       "      <td>NaN</td>\n",
       "      <td>23.4500</td>\n",
       "    </tr>\n",
       "    <tr>\n",
       "      <th>889</th>\n",
       "      <td>26.0</td>\n",
       "      <td>30.0000</td>\n",
       "    </tr>\n",
       "    <tr>\n",
       "      <th>890</th>\n",
       "      <td>32.0</td>\n",
       "      <td>7.7500</td>\n",
       "    </tr>\n",
       "  </tbody>\n",
       "</table>\n",
       "<p>891 rows × 2 columns</p>\n",
       "</div>"
      ],
      "text/plain": [
       "      Age     Fare\n",
       "0    22.0   7.2500\n",
       "1    38.0  71.2833\n",
       "2    26.0   7.9250\n",
       "3    35.0  53.1000\n",
       "4    35.0   8.0500\n",
       "..    ...      ...\n",
       "886  27.0  13.0000\n",
       "887  19.0  30.0000\n",
       "888   NaN  23.4500\n",
       "889  26.0  30.0000\n",
       "890  32.0   7.7500\n",
       "\n",
       "[891 rows x 2 columns]"
      ]
     },
     "execution_count": 114,
     "metadata": {
      "tags": []
     },
     "output_type": "execute_result"
    }
   ],
   "source": [
    "age_fare_table = titanic.filter(items = ['Age', 'Fare'])\n",
    "\n",
    "age_fare_table"
   ]
  },
  {
   "cell_type": "markdown",
   "metadata": {
    "colab_type": "text",
    "id": "lKtftnNmHEe_"
   },
   "source": [
    "Notice that some of the rows have null or **NaN** values. There are two things we can do when dealing with these values:\n",
    "    \n",
    "   1) Replace the NaN values with a value using the **`.isna()`**\n",
    "    \n",
    "   2) Drop the rows that have them using **`.dropna()`**\n",
    "    \n",
    "We'll be doing the latter first."
   ]
  },
  {
   "cell_type": "code",
   "execution_count": 115,
   "metadata": {
    "colab": {
     "base_uri": "https://localhost:8080/",
     "height": 406
    },
    "colab_type": "code",
    "id": "-cLIRZOIHEe_",
    "outputId": "207319fb-1d6a-4e87-b709-d1f722c3604b"
   },
   "outputs": [
    {
     "data": {
      "text/html": [
       "<div>\n",
       "<style scoped>\n",
       "    .dataframe tbody tr th:only-of-type {\n",
       "        vertical-align: middle;\n",
       "    }\n",
       "\n",
       "    .dataframe tbody tr th {\n",
       "        vertical-align: top;\n",
       "    }\n",
       "\n",
       "    .dataframe thead th {\n",
       "        text-align: right;\n",
       "    }\n",
       "</style>\n",
       "<table border=\"1\" class=\"dataframe\">\n",
       "  <thead>\n",
       "    <tr style=\"text-align: right;\">\n",
       "      <th></th>\n",
       "      <th>Age</th>\n",
       "      <th>Fare</th>\n",
       "    </tr>\n",
       "  </thead>\n",
       "  <tbody>\n",
       "    <tr>\n",
       "      <th>0</th>\n",
       "      <td>22.0</td>\n",
       "      <td>7.2500</td>\n",
       "    </tr>\n",
       "    <tr>\n",
       "      <th>1</th>\n",
       "      <td>38.0</td>\n",
       "      <td>71.2833</td>\n",
       "    </tr>\n",
       "    <tr>\n",
       "      <th>2</th>\n",
       "      <td>26.0</td>\n",
       "      <td>7.9250</td>\n",
       "    </tr>\n",
       "    <tr>\n",
       "      <th>3</th>\n",
       "      <td>35.0</td>\n",
       "      <td>53.1000</td>\n",
       "    </tr>\n",
       "    <tr>\n",
       "      <th>4</th>\n",
       "      <td>35.0</td>\n",
       "      <td>8.0500</td>\n",
       "    </tr>\n",
       "    <tr>\n",
       "      <th>...</th>\n",
       "      <td>...</td>\n",
       "      <td>...</td>\n",
       "    </tr>\n",
       "    <tr>\n",
       "      <th>885</th>\n",
       "      <td>39.0</td>\n",
       "      <td>29.1250</td>\n",
       "    </tr>\n",
       "    <tr>\n",
       "      <th>886</th>\n",
       "      <td>27.0</td>\n",
       "      <td>13.0000</td>\n",
       "    </tr>\n",
       "    <tr>\n",
       "      <th>887</th>\n",
       "      <td>19.0</td>\n",
       "      <td>30.0000</td>\n",
       "    </tr>\n",
       "    <tr>\n",
       "      <th>889</th>\n",
       "      <td>26.0</td>\n",
       "      <td>30.0000</td>\n",
       "    </tr>\n",
       "    <tr>\n",
       "      <th>890</th>\n",
       "      <td>32.0</td>\n",
       "      <td>7.7500</td>\n",
       "    </tr>\n",
       "  </tbody>\n",
       "</table>\n",
       "<p>714 rows × 2 columns</p>\n",
       "</div>"
      ],
      "text/plain": [
       "      Age     Fare\n",
       "0    22.0   7.2500\n",
       "1    38.0  71.2833\n",
       "2    26.0   7.9250\n",
       "3    35.0  53.1000\n",
       "4    35.0   8.0500\n",
       "..    ...      ...\n",
       "885  39.0  29.1250\n",
       "886  27.0  13.0000\n",
       "887  19.0  30.0000\n",
       "889  26.0  30.0000\n",
       "890  32.0   7.7500\n",
       "\n",
       "[714 rows x 2 columns]"
      ]
     },
     "execution_count": 115,
     "metadata": {
      "tags": []
     },
     "output_type": "execute_result"
    }
   ],
   "source": [
    "age_fare_table_filtered = age_fare_table.dropna()\n",
    "age_fare_table_filtered"
   ]
  },
  {
   "cell_type": "markdown",
   "metadata": {
    "colab_type": "text",
    "id": "UdHmm4sfHEfB"
   },
   "source": [
    "Now let's get to scattering. \n",
    "\n",
    "First, store each column in an array.\n",
    "\n",
    "Next, scatter the values"
   ]
  },
  {
   "cell_type": "code",
   "execution_count": 116,
   "metadata": {
    "colab": {
     "base_uri": "https://localhost:8080/",
     "height": 324
    },
    "colab_type": "code",
    "id": "RYhheHbGHEfC",
    "outputId": "1561d009-346f-40bb-cb15-2e904ff1e80a"
   },
   "outputs": [
    {
     "data": {
      "image/png": "[encoded data removed]",
      "text/plain": [
       "<Figure size 432x288 with 1 Axes>"
      ]
     },
     "metadata": {
      "tags": []
     },
     "output_type": "display_data"
    }
   ],
   "source": [
    "age = age_fare_table_filtered['Age'].values\n",
    "fare= age_fare_table_filtered['Fare'].values\n",
    "\n",
    "plt.scatter(age, fare, c='red', alpha=0.5)\n",
    "plt.title('Age and Fare Correlation')\n",
    "plt.xlabel('Age')\n",
    "plt.ylabel('Fare')\n",
    "plt.show()"
   ]
  },
  {
   "cell_type": "markdown",
   "metadata": {
    "colab_type": "text",
    "id": "W0RF6gz0HEfE"
   },
   "source": [
    "**Question:** Take a look at the original table columns. Is there a better column we can compare the 'Fare' with ? Is there a better column we can compare the 'Age' with ? Explain why or why not below."
   ]
  },
  {
   "cell_type": "code",
   "execution_count": 117,
   "metadata": {
    "colab": {
     "base_uri": "https://localhost:8080/",
     "height": 106
    },
    "colab_type": "code",
    "id": "FtXcti1iHEfF",
    "outputId": "3a8b28c5-b790-46ce-e65c-cddfc0958b15"
   },
   "outputs": [
    {
     "data": {
      "application/vnd.google.colaboratory.intrinsic+json": {
       "type": "string"
      },
      "text/plain": [
       "'Fare can be more comparable to the cabin that people took because the size and the amenities of the cabin will most probably be the major determinant in the Fare calculation. Ticket might be another determinant. Similarly, for age, a comaparable column would be Survived column because there can be direect or indirect relation of age of people and their survival outcome. It could be the case that children and older people survived more because the rescue efforts mostly focused on them because they are the vulnerable population. The other case could be that people in their prime age could have survived more because of their better strength and survival instincts.'"
      ]
     },
     "execution_count": 117,
     "metadata": {
      "tags": []
     },
     "output_type": "execute_result"
    }
   ],
   "source": [
    "explanation3 = \"Fare can be more comparable to the cabin that people took because the size and the amenities of the cabin will most probably be the major determinant in the Fare calculation. Ticket might be another determinant. Similarly, for age, a comaparable column would be Survived column because there can be direect or indirect relation of age of people and their survival outcome. It could be the case that children and older people survived more because the rescue efforts mostly focused on them because they are the vulnerable population. The other case could be that people in their prime age could have survived more because of their better strength and survival instincts.\"\n",
    "explanation3"
   ]
  },
  {
   "cell_type": "markdown",
   "metadata": {
    "colab_type": "text",
    "id": "dnrUvf7SHEfH"
   },
   "source": [
    "**Question:** Find the average age of the 'Age' column in the first `age_fare_table` (the one with NaN values). Using the **`.fillna()`** function, fill the `age_fare_table` **NaN** values with the average age of the 'Age' column. Finally, created a scatter plot based on filled table."
   ]
  },
  {
   "cell_type": "code",
   "execution_count": 118,
   "metadata": {
    "colab": {
     "base_uri": "https://localhost:8080/",
     "height": 230
    },
    "colab_type": "code",
    "id": "VxJqLa62HEfI",
    "outputId": "0c2ae643-9539-43b4-ae4c-c2e7ced4af16"
   },
   "outputs": [
    {
     "data": {
      "text/plain": [
       "0       7.2500\n",
       "1      71.2833\n",
       "2       7.9250\n",
       "3      53.1000\n",
       "4       8.0500\n",
       "        ...   \n",
       "886    13.0000\n",
       "887    30.0000\n",
       "888    23.4500\n",
       "889    30.0000\n",
       "890     7.7500\n",
       "Name: Fare, Length: 891, dtype: float64"
      ]
     },
     "execution_count": 118,
     "metadata": {
      "tags": []
     },
     "output_type": "execute_result"
    }
   ],
   "source": [
    "count_age = len(age_fare_table[\"Age\"]) - age_fare_table[\"Age\"].isna().sum()\n",
    "total_age = age_fare_table[\"Age\"].sum(skipna=True)\n",
    "average_age = round(total_age/count_age)\n",
    "age_fare_table[\"Age\"].fillna(average_age)\n",
    "\n",
    "\n",
    "count_fare = len(age_fare_table[\"Fare\"]) - age_fare_table[\"Fare\"].isna().sum()\n",
    "total_fare = age_fare_table[\"Fare\"].sum(skipna=True)\n",
    "average_fare = total_fare / count_fare\n",
    "age_fare_table[\"Fare\"].fillna(average_fare)\n"
   ]
  },
  {
   "cell_type": "code",
   "execution_count": 119,
   "metadata": {
    "colab": {
     "base_uri": "https://localhost:8080/",
     "height": 324
    },
    "colab_type": "code",
    "id": "IoSYNnNEHEfK",
    "outputId": "cafa0b2b-ea1e-42e0-9d53-1d491ff5399d"
   },
   "outputs": [
    {
     "data": {
      "image/png": "[encoded data removed]",
      "text/plain": [
       "<Figure size 432x288 with 1 Axes>"
      ]
     },
     "metadata": {
      "tags": []
     },
     "output_type": "display_data"
    }
   ],
   "source": [
    "age = age_fare_table['Age'].values\n",
    "fare= age_fare_table['Fare'].values\n",
    "\n",
    "plt.scatter(age, fare, c='red', alpha=0.5)\n",
    "plt.title('Age and Fare Correlation')\n",
    "plt.xlabel('Age')\n",
    "plt.ylabel('Fare')\n",
    "plt.show()"
   ]
  }
 ],
 "metadata": {
  "colab": {
   "collapsed_sections": [],
   "name": "Lab 3 - Bar Charts, Line Charts, and Scatter Plots.ipynb",
   "provenance": []
  },
  "kernelspec": {
   "display_name": "Python 3",
   "language": "python",
   "name": "python3"
  },
  "language_info": {
   "codemirror_mode": {
    "name": "ipython",
    "version": 3
   },
   "file_extension": ".py",
   "mimetype": "text/x-python",
   "name": "python",
   "nbconvert_exporter": "python",
   "pygments_lexer": "ipython3",
   "version": "3.7.6"
  }
 },
 "nbformat": 4,
 "nbformat_minor": 0
}
