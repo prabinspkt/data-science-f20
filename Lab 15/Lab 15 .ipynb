{
 "cells": [
  {
   "cell_type": "markdown",
   "metadata": {},
   "source": [
    "# Lab 15 - Linear Regression"
   ]
  },
  {
   "cell_type": "code",
   "execution_count": 28,
   "metadata": {},
   "outputs": [],
   "source": [
    "from datascience import *\n",
    "import pandas as pd\n",
    "import numpy as np \n",
    "import matplotlib\n",
    "%matplotlib inline\n",
    "import matplotlib.pyplot as plt\n",
    "plt.style.use('fivethirtyeight')"
   ]
  },
  {
   "cell_type": "markdown",
   "metadata": {},
   "source": [
    "## 1. Exploring the PTEN Gene with Linear Regression\n",
    "\n",
    "This week's homework is about linear regression. The dataset we'll be using is from the Cancer Cell Line Encyclopedia -- you can read more about this database in this [paper](https://www.nature.com/articles/s41586-019-1186-3) and interact with the data yourself at the online portal [here](https://portals.broadinstitute.org/ccle).\n",
    "\n",
    "The specific dataset we'll be taking a look at is expression data for the PTEN gene in around 1000 cell lines. The PTEN gene is a tumor-suppressing gene, and mutations in the PTEN gene are associated with many types of cancer. A cell line is group of cells that are kept alive and replicate indefinitely in culture (grown in petri dishes, for example).\n",
    "\n",
    "Run the following cell to load the `pten` table. The `pten` table has four columns, a column for the specific `Cell Line`, a column for the `Copy Number`, which is how many times a copy of a portion of the PTEN gene is found in the DNA of that cell line, `mRNA Expression (Affy)`, and `mRNA Expression (RNAseq)`.\n",
    "\n"
   ]
  },
  {
   "cell_type": "code",
   "execution_count": 29,
   "metadata": {},
   "outputs": [
    {
     "data": {
      "text/html": [
       "<div>\n",
       "<style scoped>\n",
       "    .dataframe tbody tr th:only-of-type {\n",
       "        vertical-align: middle;\n",
       "    }\n",
       "\n",
       "    .dataframe tbody tr th {\n",
       "        vertical-align: top;\n",
       "    }\n",
       "\n",
       "    .dataframe thead th {\n",
       "        text-align: right;\n",
       "    }\n",
       "</style>\n",
       "<table border=\"1\" class=\"dataframe\">\n",
       "  <thead>\n",
       "    <tr style=\"text-align: right;\">\n",
       "      <th></th>\n",
       "      <th>Cell Line</th>\n",
       "      <th>Copy Number</th>\n",
       "      <th>mRNA Expression (Affy)</th>\n",
       "      <th>mRNA Expression (RNAseq)</th>\n",
       "    </tr>\n",
       "  </thead>\n",
       "  <tbody>\n",
       "    <tr>\n",
       "      <th>0</th>\n",
       "      <td>DMS53_LUNG</td>\n",
       "      <td>0.1728</td>\n",
       "      <td>7.482898</td>\n",
       "      <td>2.489797</td>\n",
       "    </tr>\n",
       "    <tr>\n",
       "      <th>1</th>\n",
       "      <td>SW1116_LARGE_INTESTINE</td>\n",
       "      <td>0.1910</td>\n",
       "      <td>8.154946</td>\n",
       "      <td>2.868566</td>\n",
       "    </tr>\n",
       "    <tr>\n",
       "      <th>2</th>\n",
       "      <td>NCIH1694_LUNG</td>\n",
       "      <td>-0.2372</td>\n",
       "      <td>7.993083</td>\n",
       "      <td>2.821475</td>\n",
       "    </tr>\n",
       "    <tr>\n",
       "      <th>3</th>\n",
       "      <td>P3HR1_HAEMATOPOIETIC_AND_LYMPHOID_TISSUE</td>\n",
       "      <td>-0.0129</td>\n",
       "      <td>9.963575</td>\n",
       "      <td>4.657019</td>\n",
       "    </tr>\n",
       "    <tr>\n",
       "      <th>4</th>\n",
       "      <td>HUT78_HAEMATOPOIETIC_AND_LYMPHOID_TISSUE</td>\n",
       "      <td>-1.1013</td>\n",
       "      <td>8.741163</td>\n",
       "      <td>2.752360</td>\n",
       "    </tr>\n",
       "    <tr>\n",
       "      <th>...</th>\n",
       "      <td>...</td>\n",
       "      <td>...</td>\n",
       "      <td>...</td>\n",
       "      <td>...</td>\n",
       "    </tr>\n",
       "    <tr>\n",
       "      <th>968</th>\n",
       "      <td>NHAHTDD_CENTRAL_NERVOUS_SYSTEM</td>\n",
       "      <td>0.0061</td>\n",
       "      <td>8.161633</td>\n",
       "      <td>2.482921</td>\n",
       "    </tr>\n",
       "    <tr>\n",
       "      <th>969</th>\n",
       "      <td>OCIMY5_HAEMATOPOIETIC_AND_LYMPHOID_TISSUE</td>\n",
       "      <td>0.0684</td>\n",
       "      <td>10.233930</td>\n",
       "      <td>4.220113</td>\n",
       "    </tr>\n",
       "    <tr>\n",
       "      <th>970</th>\n",
       "      <td>OCIMY7_HAEMATOPOIETIC_AND_LYMPHOID_TISSUE</td>\n",
       "      <td>-0.2174</td>\n",
       "      <td>10.023970</td>\n",
       "      <td>3.417866</td>\n",
       "    </tr>\n",
       "    <tr>\n",
       "      <th>971</th>\n",
       "      <td>OPM1_HAEMATOPOIETIC_AND_LYMPHOID_TISSUE</td>\n",
       "      <td>-2.0283</td>\n",
       "      <td>10.915290</td>\n",
       "      <td>5.053583</td>\n",
       "    </tr>\n",
       "    <tr>\n",
       "      <th>972</th>\n",
       "      <td>SIHA_CERVIX</td>\n",
       "      <td>-0.1444</td>\n",
       "      <td>8.804524</td>\n",
       "      <td>3.208460</td>\n",
       "    </tr>\n",
       "  </tbody>\n",
       "</table>\n",
       "<p>973 rows × 4 columns</p>\n",
       "</div>"
      ],
      "text/plain": [
       "                                     Cell Line  Copy Number  \\\n",
       "0                                   DMS53_LUNG       0.1728   \n",
       "1                       SW1116_LARGE_INTESTINE       0.1910   \n",
       "2                                NCIH1694_LUNG      -0.2372   \n",
       "3     P3HR1_HAEMATOPOIETIC_AND_LYMPHOID_TISSUE      -0.0129   \n",
       "4     HUT78_HAEMATOPOIETIC_AND_LYMPHOID_TISSUE      -1.1013   \n",
       "..                                         ...          ...   \n",
       "968             NHAHTDD_CENTRAL_NERVOUS_SYSTEM       0.0061   \n",
       "969  OCIMY5_HAEMATOPOIETIC_AND_LYMPHOID_TISSUE       0.0684   \n",
       "970  OCIMY7_HAEMATOPOIETIC_AND_LYMPHOID_TISSUE      -0.2174   \n",
       "971    OPM1_HAEMATOPOIETIC_AND_LYMPHOID_TISSUE      -2.0283   \n",
       "972                                SIHA_CERVIX      -0.1444   \n",
       "\n",
       "     mRNA Expression (Affy)  mRNA Expression (RNAseq)  \n",
       "0                  7.482898                  2.489797  \n",
       "1                  8.154946                  2.868566  \n",
       "2                  7.993083                  2.821475  \n",
       "3                  9.963575                  4.657019  \n",
       "4                  8.741163                  2.752360  \n",
       "..                      ...                       ...  \n",
       "968                8.161633                  2.482921  \n",
       "969               10.233930                  4.220113  \n",
       "970               10.023970                  3.417866  \n",
       "971               10.915290                  5.053583  \n",
       "972                8.804524                  3.208460  \n",
       "\n",
       "[973 rows x 4 columns]"
      ]
     },
     "execution_count": 29,
     "metadata": {},
     "output_type": "execute_result"
    }
   ],
   "source": [
    "pten = pd.read_csv(\"pten.csv\")\n",
    "pten"
   ]
  },
  {
   "cell_type": "code",
   "execution_count": 30,
   "metadata": {},
   "outputs": [
    {
     "data": {
      "text/plain": [
       "Text(0.5, 1.0, 'Distribution of Copy Number')"
      ]
     },
     "execution_count": 30,
     "metadata": {},
     "output_type": "execute_result"
    },
    {
     "data": {
      "image/png": "[encoded data removed]",
      "text/plain": [
       "<Figure size 432x288 with 1 Axes>"
      ]
     },
     "metadata": {},
     "output_type": "display_data"
    }
   ],
   "source": [
    "bins = np.arange(-1, 1.5, 0.5)\n",
    "plt.hist(pten['Copy Number'],bins,color = 'yellow',density=True,linewidth = 1.5, edgecolor = 'black')\n",
    "plt.xlabel('Copy Number')\n",
    "plt.ylabel('Percent per Unit')\n",
    "plt.title(\"Distribution of Copy Number\")"
   ]
  },
  {
   "cell_type": "markdown",
   "metadata": {},
   "source": [
    "**Question 1:** Looking at the histogram above, we want to check whether or not `Copy Number` is in standard units. For this question, compute the mean and the standard deviation of the values in `Copy Number` and assign these values to `copy_number_mean` and `copy_number_sd` respectively. After you calculate these values, assign `is_su` to either `True` if you think that `Copy Numbers` is in standard units or `False` if you think otherwise."
   ]
  },
  {
   "cell_type": "code",
   "execution_count": 31,
   "metadata": {},
   "outputs": [
    {
     "name": "stdout",
     "output_type": "stream",
     "text": [
      "Mean: -0.19447913669064748, SD: 0.7466239639509008, Is in standard units?: False\n"
     ]
    }
   ],
   "source": [
    "copy_number = pten[\"Copy Number\"]\n",
    "copy_number_mean = copy_number.mean()\n",
    "copy_number_sd = copy_number.std()\n",
    "is_su = False\n",
    "print(f\"Mean: {copy_number_mean}, SD: {copy_number_sd}, Is in standard units?: {is_su}\")"
   ]
  },
  {
   "cell_type": "markdown",
   "metadata": {},
   "source": [
    "**Question 2:** Create the function `standard_units` so that it converts the values in the array `arr` to standard units. Then use `standard_units` to create a new table called `pten_su`, that converts all the values in the table `pten` to standard units.\n",
    "\n",
    "**Note:** Your new table's columns should each have 'SU' in their names. Example: 'Copy Number SU'"
   ]
  },
  {
   "cell_type": "code",
   "execution_count": 32,
   "metadata": {},
   "outputs": [
    {
     "data": {
      "text/html": [
       "<div>\n",
       "<style scoped>\n",
       "    .dataframe tbody tr th:only-of-type {\n",
       "        vertical-align: middle;\n",
       "    }\n",
       "\n",
       "    .dataframe tbody tr th {\n",
       "        vertical-align: top;\n",
       "    }\n",
       "\n",
       "    .dataframe thead th {\n",
       "        text-align: right;\n",
       "    }\n",
       "</style>\n",
       "<table border=\"1\" class=\"dataframe\">\n",
       "  <thead>\n",
       "    <tr style=\"text-align: right;\">\n",
       "      <th></th>\n",
       "      <th>Cell Line</th>\n",
       "      <th>Copy Number SU</th>\n",
       "      <th>mRNA Expression (Affy) SU</th>\n",
       "      <th>mRNA Expression (RNAseq) SU</th>\n",
       "    </tr>\n",
       "  </thead>\n",
       "  <tbody>\n",
       "    <tr>\n",
       "      <th>0</th>\n",
       "      <td>DMS53_LUNG</td>\n",
       "      <td>0.491920</td>\n",
       "      <td>-0.924869</td>\n",
       "      <td>-0.170682</td>\n",
       "    </tr>\n",
       "    <tr>\n",
       "      <th>1</th>\n",
       "      <td>SW1116_LARGE_INTESTINE</td>\n",
       "      <td>0.516296</td>\n",
       "      <td>-0.355062</td>\n",
       "      <td>0.099175</td>\n",
       "    </tr>\n",
       "    <tr>\n",
       "      <th>2</th>\n",
       "      <td>NCIH1694_LUNG</td>\n",
       "      <td>-0.057219</td>\n",
       "      <td>-0.492300</td>\n",
       "      <td>0.065625</td>\n",
       "    </tr>\n",
       "    <tr>\n",
       "      <th>3</th>\n",
       "      <td>P3HR1_HAEMATOPOIETIC_AND_LYMPHOID_TISSUE</td>\n",
       "      <td>0.243200</td>\n",
       "      <td>1.178413</td>\n",
       "      <td>1.373377</td>\n",
       "    </tr>\n",
       "    <tr>\n",
       "      <th>4</th>\n",
       "      <td>HUT78_HAEMATOPOIETIC_AND_LYMPHOID_TISSUE</td>\n",
       "      <td>-1.214562</td>\n",
       "      <td>0.141971</td>\n",
       "      <td>0.016383</td>\n",
       "    </tr>\n",
       "    <tr>\n",
       "      <th>...</th>\n",
       "      <td>...</td>\n",
       "      <td>...</td>\n",
       "      <td>...</td>\n",
       "      <td>...</td>\n",
       "    </tr>\n",
       "    <tr>\n",
       "      <th>968</th>\n",
       "      <td>NHAHTDD_CENTRAL_NERVOUS_SYSTEM</td>\n",
       "      <td>0.268648</td>\n",
       "      <td>-0.349392</td>\n",
       "      <td>-0.175581</td>\n",
       "    </tr>\n",
       "    <tr>\n",
       "      <th>969</th>\n",
       "      <td>OCIMY5_HAEMATOPOIETIC_AND_LYMPHOID_TISSUE</td>\n",
       "      <td>0.352090</td>\n",
       "      <td>1.407638</td>\n",
       "      <td>1.062099</td>\n",
       "    </tr>\n",
       "    <tr>\n",
       "      <th>970</th>\n",
       "      <td>OCIMY7_HAEMATOPOIETIC_AND_LYMPHOID_TISSUE</td>\n",
       "      <td>-0.030699</td>\n",
       "      <td>1.229620</td>\n",
       "      <td>0.490530</td>\n",
       "    </tr>\n",
       "    <tr>\n",
       "      <th>971</th>\n",
       "      <td>OPM1_HAEMATOPOIETIC_AND_LYMPHOID_TISSUE</td>\n",
       "      <td>-2.456151</td>\n",
       "      <td>1.985340</td>\n",
       "      <td>1.655913</td>\n",
       "    </tr>\n",
       "    <tr>\n",
       "      <th>972</th>\n",
       "      <td>SIHA_CERVIX</td>\n",
       "      <td>0.067074</td>\n",
       "      <td>0.195693</td>\n",
       "      <td>0.341336</td>\n",
       "    </tr>\n",
       "  </tbody>\n",
       "</table>\n",
       "<p>973 rows × 4 columns</p>\n",
       "</div>"
      ],
      "text/plain": [
       "                                     Cell Line  Copy Number SU  \\\n",
       "0                                   DMS53_LUNG        0.491920   \n",
       "1                       SW1116_LARGE_INTESTINE        0.516296   \n",
       "2                                NCIH1694_LUNG       -0.057219   \n",
       "3     P3HR1_HAEMATOPOIETIC_AND_LYMPHOID_TISSUE        0.243200   \n",
       "4     HUT78_HAEMATOPOIETIC_AND_LYMPHOID_TISSUE       -1.214562   \n",
       "..                                         ...             ...   \n",
       "968             NHAHTDD_CENTRAL_NERVOUS_SYSTEM        0.268648   \n",
       "969  OCIMY5_HAEMATOPOIETIC_AND_LYMPHOID_TISSUE        0.352090   \n",
       "970  OCIMY7_HAEMATOPOIETIC_AND_LYMPHOID_TISSUE       -0.030699   \n",
       "971    OPM1_HAEMATOPOIETIC_AND_LYMPHOID_TISSUE       -2.456151   \n",
       "972                                SIHA_CERVIX        0.067074   \n",
       "\n",
       "     mRNA Expression (Affy) SU  mRNA Expression (RNAseq) SU  \n",
       "0                    -0.924869                    -0.170682  \n",
       "1                    -0.355062                     0.099175  \n",
       "2                    -0.492300                     0.065625  \n",
       "3                     1.178413                     1.373377  \n",
       "4                     0.141971                     0.016383  \n",
       "..                         ...                          ...  \n",
       "968                  -0.349392                    -0.175581  \n",
       "969                   1.407638                     1.062099  \n",
       "970                   1.229620                     0.490530  \n",
       "971                   1.985340                     1.655913  \n",
       "972                   0.195693                     0.341336  \n",
       "\n",
       "[973 rows x 4 columns]"
      ]
     },
     "execution_count": 32,
     "metadata": {},
     "output_type": "execute_result"
    }
   ],
   "source": [
    "def standard_units(arr):\n",
    "    arr_mean = arr.mean()\n",
    "    arr_std = arr.std()\n",
    "    \n",
    "    arr_standard_unit = []\n",
    "    for item in arr:\n",
    "        arr_standard_unit.append((item - arr_mean) / arr_std)\n",
    "    return arr_standard_unit\n",
    "\n",
    "pten_su = pd.DataFrame()\n",
    "pten_su[\"Cell Line\"] = pten[\"Cell Line\"]\n",
    "pten_su[\"Copy Number SU\"] = standard_units(pten[\"Copy Number\"])\n",
    "pten_su[\"mRNA Expression (Affy) SU\"] = standard_units(pten[\"mRNA Expression (Affy)\"])\n",
    "pten_su[\"mRNA Expression (RNAseq) SU\"] = standard_units(pten[\"mRNA Expression (RNAseq)\"])\n",
    "pten_su"
   ]
  },
  {
   "cell_type": "markdown",
   "metadata": {},
   "source": [
    "You should always visually inspect your data, before numerically analyzing any relationships in your dataset. Run the following cell in order to look at the relationship between the variables in our dataset."
   ]
  },
  {
   "cell_type": "code",
   "execution_count": 33,
   "metadata": {},
   "outputs": [
    {
     "data": {
      "text/plain": [
       "<matplotlib.collections.PathCollection at 0x7f7744107c40>"
      ]
     },
     "execution_count": 33,
     "metadata": {},
     "output_type": "execute_result"
    },
    {
     "data": {
      "image/png": "[encoded data removed]",
      "text/plain": [
       "<Figure size 432x288 with 1 Axes>"
      ]
     },
     "metadata": {},
     "output_type": "display_data"
    }
   ],
   "source": [
    "plt.scatter(pten_su['Copy Number SU'],pten_su['mRNA Expression (Affy) SU'])"
   ]
  },
  {
   "cell_type": "code",
   "execution_count": 34,
   "metadata": {},
   "outputs": [
    {
     "data": {
      "text/plain": [
       "<matplotlib.collections.PathCollection at 0x7f7743d4fe50>"
      ]
     },
     "execution_count": 34,
     "metadata": {},
     "output_type": "execute_result"
    },
    {
     "data": {
      "image/png": "[encoded data removed]",
      "text/plain": [
       "<Figure size 432x288 with 1 Axes>"
      ]
     },
     "metadata": {},
     "output_type": "display_data"
    }
   ],
   "source": [
    "plt.scatter(pten_su['Copy Number SU'], pten_su[\"mRNA Expression (RNAseq) SU\"])"
   ]
  },
  {
   "cell_type": "code",
   "execution_count": 35,
   "metadata": {},
   "outputs": [
    {
     "data": {
      "text/plain": [
       "<matplotlib.collections.PathCollection at 0x7f7743d279d0>"
      ]
     },
     "execution_count": 35,
     "metadata": {},
     "output_type": "execute_result"
    },
    {
     "data": {
      "image/png": "[encoded data removed]",
      "text/plain": [
       "<Figure size 432x288 with 1 Axes>"
      ]
     },
     "metadata": {},
     "output_type": "display_data"
    }
   ],
   "source": [
    "plt.scatter(pten_su[\"mRNA Expression (Affy) SU\"], pten_su[\"mRNA Expression (RNAseq) SU\"])"
   ]
  },
  {
   "cell_type": "markdown",
   "metadata": {},
   "source": [
    "**Question 3:** Which of the following relationships do you think has the highest correlation (i.e. highest absolute value of `r`)? Assign `highest_correlation` to the number corresponding to the relationship you think has the highest correlation.\n",
    "\n",
    "1. Copy Number vs. mRNA Expression (Affy)\n",
    "2. Copy Number vs. mRNA Expression (RNAseq)\n",
    "3. mRNA Expression (Affy) vs. mRNA Expression (RNAseq)\n"
   ]
  },
  {
   "cell_type": "code",
   "execution_count": 36,
   "metadata": {},
   "outputs": [],
   "source": [
    "highest_correlation = 3"
   ]
  },
  {
   "cell_type": "markdown",
   "metadata": {},
   "source": [
    "**Question 4:** Now, using the `standard units` function, define the function `correlation` which computes the correlation between `arr1` and `arr2`."
   ]
  },
  {
   "cell_type": "code",
   "execution_count": 37,
   "metadata": {},
   "outputs": [
    {
     "name": "stdout",
     "output_type": "stream",
     "text": [
      "       Copy Number vs. mRNA Expression (Affy) Correlation: 0.58135356495573, \n",
      "       Copy Number vs. mRNA Expression (RNAseq) Correlation: 0.6947048840062813, \n",
      "       mRNA Expression (Affy) vs. mRNA Expression (RNAseq) Correlation: 0.8991514217504721\n"
     ]
    }
   ],
   "source": [
    "def correlation(arr1, arr2):\n",
    "    arr_one_su = standard_units(arr1)\n",
    "    arr_two_su = standard_units(arr2)\n",
    "    length = len(arr_one_su)\n",
    "    products = []\n",
    "    \n",
    "    for i in range(length):\n",
    "        products.append(arr_one_su[i] * arr_two_su[i])\n",
    "    return sum(products)/length\n",
    "        \n",
    "\n",
    "# This computes the correlation between the different variables in pten\n",
    "copy_affy = correlation(pten[\"Copy Number\"], pten[\"mRNA Expression (Affy)\"])\n",
    "copy_rnaseq = correlation(pten[\"Copy Number\"], pten[\"mRNA Expression (RNAseq)\"])\n",
    "affy_rnaseq = correlation(pten[\"mRNA Expression (Affy)\"], pten[\"mRNA Expression (RNAseq)\"])\n",
    "\n",
    "print(f\" \\\n",
    "      Copy Number vs. mRNA Expression (Affy) Correlation: {copy_affy}, \\n \\\n",
    "      Copy Number vs. mRNA Expression (RNAseq) Correlation: {copy_rnaseq}, \\n \\\n",
    "      mRNA Expression (Affy) vs. mRNA Expression (RNAseq) Correlation: {affy_rnaseq}\")"
   ]
  },
  {
   "cell_type": "markdown",
   "metadata": {},
   "source": [
    "**Question 5:** If we switch what we input as arguments to `correlation`, i.e. found the correlation between `mRNA Expression (Affy)` vs. `Copy Number` instead of the other way around, would the correlation change? Assign `correlation_change` to either `True` if you think yes, or `False` if you think no."
   ]
  },
  {
   "cell_type": "code",
   "execution_count": 38,
   "metadata": {},
   "outputs": [],
   "source": [
    "correlation_change = False"
   ]
  },
  {
   "cell_type": "markdown",
   "metadata": {},
   "source": [
    "**Question 6:** Looking at both the scatter plots after Question 2 and the correlations computed in Question 4, describe a pattern you see in the relationships between the variables.\n"
   ]
  },
  {
   "cell_type": "markdown",
   "metadata": {},
   "source": [
    "The pattern that we see is that, as we go from the first diagram to the third diagram, the corelations increase. The corelation between values increase as they move closer to positive 1 when we move from the first figure to third figure."
   ]
  },
  {
   "cell_type": "markdown",
   "metadata": {},
   "source": [
    "**Question 7:** Let's look at the relationship between mRNA Expression (Affy) vs. mRNA Expression (RNAseq) only. Define a function called `regression_parameters` that returns the parameters of the regression line as a two-item array containing the slope and intercept of the regression line as the first and second elements respectively. The function `regression_line` takes in two arguments, an array of `x` values, and an array of `y` values.\n"
   ]
  },
  {
   "cell_type": "code",
   "execution_count": 39,
   "metadata": {},
   "outputs": [
    {
     "data": {
      "text/plain": [
       "[1.0700387776344051, -6.444845362203788]"
      ]
     },
     "execution_count": 39,
     "metadata": {},
     "output_type": "execute_result"
    }
   ],
   "source": [
    "def regression_parameters(x, y):\n",
    "    correlation_val = correlation(x, y)\n",
    "    slope = correlation_val * y.std() / x.std()\n",
    "    intercept = (sum(y)/len(y)) - (slope * (sum(x)/len(x)))\n",
    "    return [slope, intercept]\n",
    "\n",
    "parameters = regression_parameters(pten[\"mRNA Expression (Affy)\"], pten[\"mRNA Expression (RNAseq)\"])\n",
    "parameters"
   ]
  },
  {
   "cell_type": "markdown",
   "metadata": {},
   "source": [
    "**Question 8:** If we switch what we input as arguments to `regression_parameters`, i.e. found the parameters for the regression line for `mRNA Expression (RNAseq)` vs. `mRNA Expression (Affy)` instead of the other way around, would the regression parameters change (would the slope and/or intercept change)? Assign `parameters_change` to either `True` if you think yes, or `False` if you think no.\n"
   ]
  },
  {
   "cell_type": "code",
   "execution_count": 40,
   "metadata": {},
   "outputs": [],
   "source": [
    "parameters_change = True"
   ]
  },
  {
   "cell_type": "markdown",
   "metadata": {},
   "source": [
    "**Question 9:** Now, let's look at how the regression parameters look like in standard units. Use the table `pten_su` and the function `regression_parameters`, and assign `parameters_su` to a two-item array containing the slope and the intercept of the regression line for mRNA Expression (Affy) in standard units vs. mRNA Expression (RNAseq) in standard units.\n"
   ]
  },
  {
   "cell_type": "code",
   "execution_count": 41,
   "metadata": {},
   "outputs": [
    {
     "data": {
      "text/plain": [
       "[0.8991514217504721, 1.298977850206345e-16]"
      ]
     },
     "execution_count": 41,
     "metadata": {},
     "output_type": "execute_result"
    }
   ],
   "source": [
    "parameters_su = regression_parameters(pten_su[\"mRNA Expression (Affy) SU\"], pten_su[\"mRNA Expression (RNAseq) SU\"])\n",
    "parameters_su"
   ]
  },
  {
   "cell_type": "markdown",
   "metadata": {},
   "source": [
    "**Question 10:** Looking at the array `parameters_su`, what do you notice about the slope and intercept values specifically? Relate them to another value we already calculated in a previous question, as well as relate them to an equation.\n"
   ]
  },
  {
   "cell_type": "markdown",
   "metadata": {},
   "source": [
    "The slope calculated using the standard unit values is equal to the correlation that we calculated for the normal values of mRNA Expression (Affy) and mRNA Expression (RBAseq). Also, the parameter values are very close to each other that they will give similar lines in the chart and similar prediction values using the equation y=mx+c where c is the intercept and m is the slope."
   ]
  },
  {
   "cell_type": "markdown",
   "metadata": {},
   "source": [
    "**Question 11:** The oldest and most commonly used cell line in Biology is the HeLa cell line, named after Henrietta Lacks, whose cervical cancer cells were taken without her consent in 1951 to create this cell line. The issue of data privacy and consent is very important to data science! You can read more about this topic [here](https://www.hopkinsmedicine.org/henriettalacks/).\n",
    "\n",
    "The HeLa cell line is missing from our dataset. If we know that the HeLa mRNA Expression (Affy) value is **8.2**, what is the predicted mRNA Expression (RNAseq) value? Use the values in `parameters` that we derived in Question 1.7, and assign the result to `hela_rnaseq`.\n"
   ]
  },
  {
   "cell_type": "code",
   "execution_count": 42,
   "metadata": {},
   "outputs": [
    {
     "data": {
      "text/plain": [
       "2.329472614398334"
      ]
     },
     "execution_count": 42,
     "metadata": {},
     "output_type": "execute_result"
    }
   ],
   "source": [
    "hela_rnaseq = 8.2 * parameters[0] + parameters[1]\n",
    "hela_rnaseq"
   ]
  },
  {
   "cell_type": "markdown",
   "metadata": {},
   "source": [
    "**Question 12:** Compute the predicted mRNA Expression (RNAseq) values from the mRNA Expression (Affy) values in the `pten` table. Use the values in the `parameters` array from Question 1.7, and assign the result to `predicted_rnaseq`. We'll plot your computed regression line with the scatter plot from after question 1.2 of mRNA Expression (Affy) vs. mRNA Expression (RNAseq)."
   ]
  },
  {
   "cell_type": "code",
   "execution_count": 43,
   "metadata": {},
   "outputs": [
    {
     "data": {
      "image/png": "[encoded data removed]",
      "text/plain": [
       "<Figure size 360x360 with 1 Axes>"
      ]
     },
     "metadata": {},
     "output_type": "display_data"
    }
   ],
   "source": [
    "predicted_rnaseq = [(x * parameters[0] + parameters[1]) for x in pten[\"mRNA Expression (Affy)\"]]\n",
    "\n",
    "# DON'T CHANGE/DELETE ANY OF THE BELOW CODE IN THIS CELL\n",
    "pten2 = Table().read_table(\"pten.csv\")\n",
    "(pten2.with_column(\"Predicted mRNA Expression (RNAseq)\", predicted_rnaseq)\n",
    ".select(\"mRNA Expression (Affy)\", \"mRNA Expression (RNAseq)\", \"Predicted mRNA Expression (RNAseq)\")\n",
    " .scatter(\"mRNA Expression (Affy)\"))\n",
    "plt.ylabel(\"mRNA Expression (RNAseq)\");"
   ]
  },
  {
   "cell_type": "markdown",
   "metadata": {},
   "source": [
    "## Fitting a least-squares regression line\n",
    "\n",
    "Recall that the least-square regression line is the unique straight line that minimizes root mean squared error (RMSE) among all possible fit lines. Using this property, we can find the equation of the regression line by finding the pair of slope and intercept values that minimize root mean squared error."
   ]
  },
  {
   "cell_type": "markdown",
   "metadata": {},
   "source": [
    "**Question 13:** Define a function called `RMSE`. It should take two arguments:\n",
    "\n",
    "1. the slope of a line (a number)\n",
    "2. the intercept of a line (a number).\n",
    "\n",
    "It should return a number that is the root mean squared error (RMSE) for a line defined with the arguments slope and intercept used to predict mRNA Expression (RNAseq) values from mRNA Expression (Affy) values for each row in the `pten` table.\n",
    "\n",
    "*Hint: Errors are defined as the difference between the actual `y` values and the predicted `y` values.*\n",
    "\n",
    "*Note: if you need a refresher on RMSE, here's the [link](https://www.inferentialthinking.com/chapters/15/3/Method_of_Least_Squares.html#Root-Mean-Squared-Error) from the textbook*\n"
   ]
  },
  {
   "cell_type": "code",
   "execution_count": 44,
   "metadata": {},
   "outputs": [
    {
     "data": {
      "text/plain": [
       "7.612008179226991"
      ]
     },
     "execution_count": 44,
     "metadata": {},
     "output_type": "execute_result"
    }
   ],
   "source": [
    "def RMSE(slope, intercept):\n",
    "    affy = pten[\"mRNA Expression (Affy)\"]\n",
    "    rnaseq = pten[\"mRNA Expression (RNAseq)\"]\n",
    "    predicted_rnaseq = [(x * slope + intercept) for x in affy]\n",
    "    squared_errors = [((rnaseq[i] - predicted_rnaseq[i])**2) for i in range(len(rnaseq))]\n",
    "    mean_squared_error = sum(squared_errors)/len(squared_errors)\n",
    "    return (mean_squared_error ** (0.5))\n",
    "\n",
    "# DON'T CHANGE THE FOLLOWING LINES BELOW IN THIS CELL\n",
    "rmse_example = RMSE(0.5, 6)\n",
    "rmse_example"
   ]
  },
  {
   "cell_type": "markdown",
   "metadata": {},
   "source": [
    "**Question 14:** What is the RMSE of a line with slope 0 and intercept of the mean of `y` equal to?\n",
    "\n",
    "*Hint 1: The line with slope 0 and intercept of mean of `y` is just a straight horizontal line at the mean of `y`*\n",
    "\n",
    "*Hint 2: What does the formula for RMSE become if we input our predicted `y` values in the formula. Try writing it out on paper! It should be a familiar formula.*"
   ]
  },
  {
   "cell_type": "markdown",
   "metadata": {},
   "source": [
    "The slope is 0 means that the prediction is  constant for all  the values since y=mx+c will resolve to y=c.  We can see that x does not change the prediction. So, to calculate the RMSE, we can subtract each value of y by the predicted constant value of y, square each difference, find the mean of all the differences, and return the root square of the last calculation.\n",
    "\n",
    "Constant prediction of y is the intercept = c\n",
    "Calculate the difference:\n",
    "difference = []\n",
    "for i in range(length_of_actual_y_values_list):\n",
    "    difference.append(y - c)\n",
    "    \n",
    "    \n",
    "Square each difference:\n",
    "for i in range(length_of_differnce_list):\n",
    "    difference[i] = difference[i]**2\n",
    "\n",
    "mean_of_differences = sum(difference)/len(difference)\n",
    "\n",
    "root_mean_square = mean_of_difference ** 0.5"
   ]
  },
  {
   "cell_type": "markdown",
   "metadata": {},
   "source": [
    "**Question 15:** Find the parameters that minimizes RMSE of the regression line for mRNA Expression (Affy) vs. mRNA Expression (RNAseq). Assign the result to `minimized_parameters`.\n",
    "\n",
    "If you haven't tried to use the `minimize` [function](http://data8.org/sp20/python-reference.html) yet, now is a great time to practice. Here's an [example from the textbook](https://www.inferentialthinking.com/chapters/15/3/Method_of_Least_Squares.html#numerical-optimization).\n",
    "\n",
    "*Hint: Use the `RMSE` function in Question 1.13*\n",
    "\n",
    "**NOTE: When you use the minimize function, please pass in `smooth=True` as the second argument to this function. You'll need to do this, otherwise, your answer will be incorrect**\n"
   ]
  },
  {
   "cell_type": "code",
   "execution_count": 45,
   "metadata": {},
   "outputs": [
    {
     "data": {
      "text/plain": [
       "array([ 1.07113932, -6.45428112])"
      ]
     },
     "execution_count": 45,
     "metadata": {},
     "output_type": "execute_result"
    }
   ],
   "source": [
    "minimized_parameters = minimize(RMSE, smooth=True)\n",
    "minimized_parameters"
   ]
  },
  {
   "cell_type": "markdown",
   "metadata": {},
   "source": [
    "**Question 16:**\n",
    "\n",
    "The slope and intercept pair you found in Question 15 should be very similar to the values that you found in Question 7. Why were we able to minimize RMSE to find the same slope and intercept from the previous formulas?\n"
   ]
  },
  {
   "cell_type": "markdown",
   "metadata": {},
   "source": [
    "Question 7 users corelation of x and y, and the standard deviation of x and y values to derive the slope and intercept. Question 15 uses minimization of RMSE to get slope and intercept. With different approaches, they do the same thing of generalizing the relation of y with x over a range. They both take into consideration the spread of y, the spread of x, and the relation of x and y with each other to derive the parameters."
   ]
  },
  {
   "cell_type": "markdown",
   "metadata": {},
   "source": [
    "**Question 17:** If we had instead minimized mean squared error (MSE), would we have gotten the same slope and intercept of the minimized root mean squared error (RMSE) results? Assign `same_parameters` to either `True` if you think yes, or `False` if you think no.\n"
   ]
  },
  {
   "cell_type": "code",
   "execution_count": 46,
   "metadata": {},
   "outputs": [
    {
     "data": {
      "text/plain": [
       "True"
      ]
     },
     "execution_count": 46,
     "metadata": {},
     "output_type": "execute_result"
    }
   ],
   "source": [
    "same_parameters = True\n",
    "same_parameters"
   ]
  },
  {
   "cell_type": "markdown",
   "metadata": {},
   "source": [
    "Let's look at the scatter plot of the relationship between mRNA Expression (Affy) and mRNA Expression (RNAseq) again:"
   ]
  },
  {
   "cell_type": "code",
   "execution_count": 47,
   "metadata": {},
   "outputs": [
    {
     "data": {
      "text/plain": [
       "Text(0.5, 1.0, 'Relationship between mRNA (Affy vs RNAseq)')"
      ]
     },
     "execution_count": 47,
     "metadata": {},
     "output_type": "execute_result"
    },
    {
     "data": {
      "image/png": "[encoded data removed]",
      "text/plain": [
       "<Figure size 432x288 with 1 Axes>"
      ]
     },
     "metadata": {},
     "output_type": "display_data"
    }
   ],
   "source": [
    "plt.scatter(pten[\"mRNA Expression (Affy)\"], pten[\"mRNA Expression (RNAseq)\"]) \n",
    "plt.xlabel('mRNA Expression (Affy)')\n",
    "plt.ylabel('mRNA Expression (RNAseq)')\n",
    "plt.title(\"Relationship between mRNA (Affy vs RNAseq)\")"
   ]
  },
  {
   "cell_type": "markdown",
   "metadata": {},
   "source": [
    "**Question 18:** Using a linear regression model, would we be able to obtain accurate predictions for most of the points? Explain why or why not.\n"
   ]
  },
  {
   "cell_type": "markdown",
   "metadata": {},
   "source": [
    "We can use linear regression model to obtain accurate predictions for most of the points because most of the points are clustered around a line shape and there are only few outliers to this pattern. The placement of regression line will be good for accurate prediction."
   ]
  }
 ],
 "metadata": {
  "kernelspec": {
   "display_name": "Python 3",
   "language": "python",
   "name": "python3"
  },
  "language_info": {
   "codemirror_mode": {
    "name": "ipython",
    "version": 3
   },
   "file_extension": ".py",
   "mimetype": "text/x-python",
   "name": "python",
   "nbconvert_exporter": "python",
   "pygments_lexer": "ipython3",
   "version": "3.8.6"
  }
 },
 "nbformat": 4,
 "nbformat_minor": 2
}
